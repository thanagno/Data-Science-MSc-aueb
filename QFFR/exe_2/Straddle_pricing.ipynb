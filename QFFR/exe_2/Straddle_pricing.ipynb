{
 "cells": [
  {
   "cell_type": "markdown",
   "id": "be11b405",
   "metadata": {},
   "source": [
    "# Introduction to Quantitative Finance and Financial Risk\n",
    "\n",
    "\n",
    "### Pricing an American Straddle exercise\n",
    "\n",
    "### Theodoros Anagnos "
   ]
  },
  {
   "cell_type": "markdown",
   "id": "c6a68a65",
   "metadata": {},
   "source": [
    "Pricing an American Straddle\n",
    "Description:\n",
    "\n",
    "Assume a stock the process of which follows a Geometric Brownian Motion. The current stock price S(0) is equal to $20, with an annual volatility of returns of 35%. If the risk-free rate is equal to 3% and the dividend yield is equal to 1.5%, find the price of an American-style At-The-Money Straddle (Long Put and Long Call), with an expiry of 6 months. Find also the stock (delta) and volatility (vega) sensitivities, with the help of your function.\n",
    "\n",
    "Assuming the same stock price process, but in a Monte-Carlo simulation setup, find the price of the equivalent European-style straddle.\n",
    "\n",
    "Use Python to implement the code."
   ]
  },
  {
   "cell_type": "markdown",
   "id": "af7534eb",
   "metadata": {},
   "source": [
    "### Report on Pricing an American and European Straddle\n",
    "\n",
    "#### Introduction\n",
    "A straddle is an options strategy that involves buying both a call and a put option with the same strike price and expiration date. Here we price an American-style at-the-money straddle using a binomial tree model and a European-style at-the-money straddle using a Monte Carlo simulation. Additionally, we discuss the delta and vega sensitivities of the American straddle.\n",
    "\n",
    "#### Parameters and Assumptions\n",
    "- **Current Stock Price (S0)**: 20USD\n",
    "- **Strike Price (K)**: 20USD\n",
    "- **Time to Expiry (T)**: 6 months (0.5 years)\n",
    "- **Risk-Free Rate (r)**: 3%\n",
    "- **Dividend Yield (q)**: 1.5%\n",
    "- **Volatility (sigma)**: 35%\n",
    "- **Number of Steps in Binomial Model (N)**: 100\n",
    "- **Number of Simulations in Monte Carlo (simulations)**: 10,000\n",
    "\n",
    "#### Methodology\n",
    "\n",
    "##### American Straddle Pricing using Binomial Tree\n",
    "1. **Binomial Tree Construction**: \n",
    "   - We set up the binomial price tree for the underlying stock. The stock price at each node is calculated based on the up and down factors (`u` and `d`) derived from the volatility and time step.\n",
    "   - The probability of moving up in the tree is calculated using the risk-neutral probability formula.\n",
    "   \n",
    "2. **Option Valuation**:\n",
    "   - We initialize the option value tree by calculating the payoff at expiration for both the call and the put options.\n",
    "   - We then work backwards through the tree, calculating the option value at each node by considering the possibility of early exercise (since these are American options)."
   ]
  },
  {
   "cell_type": "code",
   "execution_count": 2,
   "id": "167dc32f",
   "metadata": {},
   "outputs": [
    {
     "name": "stdout",
     "output_type": "stream",
     "text": [
      "American Straddle Price: 3.902321075200182\n"
     ]
    }
   ],
   "source": [
    "import numpy as np\n",
    "\n",
    "def american_straddle_binomial(S0, K, T, r, q, sigma, N):\n",
    "    dt = T / N\n",
    "    u = np.exp(sigma * np.sqrt(dt))\n",
    "    d = 1 / u\n",
    "    p = (np.exp((r - q) * dt) - d) / (u - d)\n",
    "    \n",
    "    # Initialize asset price tree\n",
    "    stock_price = np.zeros((N + 1, N + 1))\n",
    "    stock_price[0, 0] = S0\n",
    "    for i in range(1, N + 1):\n",
    "        stock_price[i, 0] = stock_price[i - 1, 0] * u\n",
    "        for j in range(1, i + 1):\n",
    "            stock_price[i, j] = stock_price[i - 1, j - 1] * d\n",
    "\n",
    "    # Initialize option value tree\n",
    "    call = np.zeros((N + 1, N + 1))\n",
    "    put = np.zeros((N + 1, N + 1))\n",
    "    \n",
    "    # Calculate the option value at each node\n",
    "    for j in range(N + 1):\n",
    "        call[N, j] = max(0, stock_price[N, j] - K)\n",
    "        put[N, j] = max(0, K - stock_price[N, j])\n",
    "        \n",
    "    for i in range(N - 1, -1, -1):\n",
    "        for j in range(i + 1):\n",
    "            call[i, j] = max(stock_price[i, j] - K, np.exp(-r * dt) * (p * call[i + 1, j] + (1 - p) * call[i + 1, j + 1]))\n",
    "            put[i, j] = max(K - stock_price[i, j], np.exp(-r * dt) * (p * put[i + 1, j] + (1 - p) * put[i + 1, j + 1]))\n",
    "    \n",
    "    # The price of the straddle is the sum of the call and put prices at the root\n",
    "    straddle_price = call[0, 0] + put[0, 0]\n",
    "    return straddle_price\n",
    "\n",
    "S0 = 20\n",
    "K = 20\n",
    "T = 0.5\n",
    "r = 0.03\n",
    "q = 0.015\n",
    "sigma = 0.35\n",
    "N = 100  # Number of steps in the binomial model\n",
    "\n",
    "american_straddle_price = american_straddle_binomial(S0, K, T, r, q, sigma, N)\n",
    "print(\"American Straddle Price:\", american_straddle_price)"
   ]
  },
  {
   "cell_type": "markdown",
   "id": "1934a89c",
   "metadata": {},
   "source": [
    "##### European Straddle Pricing using Monte Carlo Simulation\n",
    "1. **Simulating Stock Price Paths**:\n",
    "   - We simulate a large number of paths for the stock price at expiration using the geometric Brownian motion formula.\n",
    "   \n",
    "2. **Calculating Payoffs**:\n",
    "   - For each simulated path, we calculate the payoff of the straddle as the sum of the payoffs from the call and put options.\n",
    "   \n",
    "3. **Discounting to Present Value**:\n",
    "   - The average payoff is discounted back to the present value to obtain the price of the straddle."
   ]
  },
  {
   "cell_type": "code",
   "execution_count": 3,
   "id": "a0323968",
   "metadata": {},
   "outputs": [
    {
     "name": "stdout",
     "output_type": "stream",
     "text": [
      "European Straddle Price: 3.836442340509254\n"
     ]
    }
   ],
   "source": [
    "# Part 2: Monte Carlo Simulation for European Straddle\n",
    "\n",
    "def european_straddle_monte_carlo(S0, K, T, r, q, sigma, simulations):\n",
    "    np.random.seed(0)\n",
    "    ST = S0 * np.exp((r - q - 0.5 * sigma**2) * T + sigma * np.sqrt(T) * np.random.standard_normal(simulations))\n",
    "    payoffs = np.maximum(ST - K, 0) + np.maximum(K - ST, 0)\n",
    "    price = np.exp(-r * T) * np.mean(payoffs)\n",
    "    return price\n",
    "\n",
    "simulations = 10000\n",
    "european_straddle_price = european_straddle_monte_carlo(S0, K, T, r, q, sigma, simulations)\n",
    "print(\"European Straddle Price:\", european_straddle_price)"
   ]
  },
  {
   "cell_type": "markdown",
   "id": "e6f2846e",
   "metadata": {},
   "source": [
    "### Commentary on the findings:\n",
    "1. **American vs. European Straddle Price**:\n",
    "   - The American straddle is slightly more expensive than the European straddle. This is expected because the American options offer more flexibility with the ability to exercise at any time before expiration, which adds value."
   ]
  },
  {
   "cell_type": "markdown",
   "id": "3eacec84",
   "metadata": {},
   "source": [
    "\n",
    "##### Sensitivity Analysis\n",
    "- **Delta**: Measures the sensitivity of the option price to a small change in the underlying stock price.\n",
    "- **Vega**: Measures the sensitivity of the option price to a small change in volatility.\n",
    "\n",
    "These sensitivities were calculated by adjusting the stock price and volatility slightly and observing the changes in the straddle price.\n"
   ]
  },
  {
   "cell_type": "code",
   "execution_count": 4,
   "id": "096fb6b3",
   "metadata": {},
   "outputs": [
    {
     "name": "stdout",
     "output_type": "stream",
     "text": [
      "Delta: 0.10519698766249252\n",
      "Vega: 11.04692479902516\n"
     ]
    }
   ],
   "source": [
    "# Delta and Vega calculations\n",
    "def delta_vega(S0, K, T, r, q, sigma, N, epsilon=0.01):\n",
    "    price = american_straddle_binomial(S0, K, T, r, q, sigma, N)\n",
    "    \n",
    "    price_up = american_straddle_binomial(S0 + epsilon, K, T, r, q, sigma, N)\n",
    "    price_down = american_straddle_binomial(S0 - epsilon, K, T, r, q, sigma, N)\n",
    "    delta = (price_up - price_down) / (2 * epsilon)\n",
    "    \n",
    "    price_vega_up = american_straddle_binomial(S0, K, T, r, q, sigma + epsilon, N)\n",
    "    vega = (price_vega_up - price) / epsilon\n",
    "    \n",
    "    return delta, vega\n",
    "\n",
    "delta, vega = delta_vega(S0, K, T, r, q, sigma, N)\n",
    "print(\"Delta:\", delta)\n",
    "print(\"Vega:\", vega)"
   ]
  },
  {
   "cell_type": "markdown",
   "id": "3ab278ad",
   "metadata": {},
   "source": [
    "2. **Delta**:\n",
    "   - A delta of 0.105 indicates that for a small increase in the stock price, the price of the American straddle will increase by approximately $0.105. This relatively low delta suggests that the straddle is not highly sensitive to changes in the stock price.\n",
    "\n",
    "3. **Vega**:\n",
    "   - A vega of 11.047 indicates that for a 1% increase in volatility, the price of the American straddle will increase by approximately $11.05. This high vega suggests that the straddle is highly sensitive to changes in volatility, which is typical for straddle strategies as they benefit from increased volatility.\n"
   ]
  },
  {
   "cell_type": "markdown",
   "id": "8fefdfd1",
   "metadata": {},
   "source": [
    "#### Conclusion\n",
    "The binomial tree and Monte Carlo methods provided effective ways to price American and European straddles respectively. The higher price of the American straddle reflects the added value of early exercise flexibility. The sensitivity analysis showed that the straddle is more responsive to changes in volatility than to changes in the underlying stock price, aligning with the characteristics of a straddle strategy that profits from significant price movements regardless of direction."
   ]
  }
 ],
 "metadata": {
  "kernelspec": {
   "display_name": "Python 3 (ipykernel)",
   "language": "python",
   "name": "python3"
  },
  "language_info": {
   "codemirror_mode": {
    "name": "ipython",
    "version": 3
   },
   "file_extension": ".py",
   "mimetype": "text/x-python",
   "name": "python",
   "nbconvert_exporter": "python",
   "pygments_lexer": "ipython3",
   "version": "3.11.5"
  }
 },
 "nbformat": 4,
 "nbformat_minor": 5
}
