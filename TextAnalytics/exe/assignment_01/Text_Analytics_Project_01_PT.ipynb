{
  "cells": [
    {
      "cell_type": "markdown",
      "id": "3006e91d-a1f5-4305-86cb-9380fc659110",
      "metadata": {
        "id": "3006e91d-a1f5-4305-86cb-9380fc659110"
      },
      "source": [
        "# AUEB M.Sc. in Data Science (part-time)\n",
        "\n",
        "### 2024.04 - 2024.06\n",
        "\n",
        "## Project 01: Exercises on n-gram language models\n",
        "\n",
        "\n",
        "**Course**: Text Analytics   \n",
        "**Authors**:\n",
        "Anagnos Theodoros (p3352323) -\n",
        "Michalopoulos Ioannis (p3352314) -\n",
        "Kafantaris Panagiotis (p3352328) -  \n",
        "Vigkos Ioannis (p3352326)\n",
        "\n",
        "**Date**: 2024-04-15"
      ]
    },
    {
      "cell_type": "markdown",
      "id": "7224196e-01b1-4dbe-96de-523036924458",
      "metadata": {
        "id": "7224196e-01b1-4dbe-96de-523036924458"
      },
      "source": [
        "## > Part 3"
      ]
    },
    {
      "cell_type": "code",
      "source": [
        "!pip install -U nltk"
      ],
      "metadata": {
        "id": "1J9wUd_nKtWE",
        "colab": {
          "base_uri": "https://localhost:8080/"
        },
        "outputId": "df77c558-1379-4bca-d6dd-b14f4de1229f"
      },
      "id": "1J9wUd_nKtWE",
      "execution_count": null,
      "outputs": [
        {
          "output_type": "stream",
          "name": "stdout",
          "text": [
            "Requirement already satisfied: nltk in /usr/local/lib/python3.10/dist-packages (3.8.1)\n",
            "Requirement already satisfied: click in /usr/local/lib/python3.10/dist-packages (from nltk) (8.1.7)\n",
            "Requirement already satisfied: joblib in /usr/local/lib/python3.10/dist-packages (from nltk) (1.4.0)\n",
            "Requirement already satisfied: regex>=2021.8.3 in /usr/local/lib/python3.10/dist-packages (from nltk) (2023.12.25)\n",
            "Requirement already satisfied: tqdm in /usr/local/lib/python3.10/dist-packages (from nltk) (4.66.2)\n"
          ]
        }
      ]
    },
    {
      "cell_type": "code",
      "source": [
        "!pip install datasets"
      ],
      "metadata": {
        "id": "gYSRNAGLKw35",
        "colab": {
          "base_uri": "https://localhost:8080/"
        },
        "outputId": "001aef04-ca79-460d-ccaf-92f5f1ec9ca6"
      },
      "id": "gYSRNAGLKw35",
      "execution_count": null,
      "outputs": [
        {
          "output_type": "stream",
          "name": "stdout",
          "text": [
            "Collecting datasets\n",
            "  Downloading datasets-2.19.0-py3-none-any.whl (542 kB)\n",
            "\u001b[2K     \u001b[90m━━━━━━━━━━━━━━━━━━━━━━━━━━━━━━━━━━━━━━━━\u001b[0m \u001b[32m542.0/542.0 kB\u001b[0m \u001b[31m5.3 MB/s\u001b[0m eta \u001b[36m0:00:00\u001b[0m\n",
            "\u001b[?25hRequirement already satisfied: filelock in /usr/local/lib/python3.10/dist-packages (from datasets) (3.13.4)\n",
            "Requirement already satisfied: numpy>=1.17 in /usr/local/lib/python3.10/dist-packages (from datasets) (1.25.2)\n",
            "Requirement already satisfied: pyarrow>=12.0.0 in /usr/local/lib/python3.10/dist-packages (from datasets) (14.0.2)\n",
            "Requirement already satisfied: pyarrow-hotfix in /usr/local/lib/python3.10/dist-packages (from datasets) (0.6)\n",
            "Collecting dill<0.3.9,>=0.3.0 (from datasets)\n",
            "  Downloading dill-0.3.8-py3-none-any.whl (116 kB)\n",
            "\u001b[2K     \u001b[90m━━━━━━━━━━━━━━━━━━━━━━━━━━━━━━━━━━━━━━━━\u001b[0m \u001b[32m116.3/116.3 kB\u001b[0m \u001b[31m9.0 MB/s\u001b[0m eta \u001b[36m0:00:00\u001b[0m\n",
            "\u001b[?25hRequirement already satisfied: pandas in /usr/local/lib/python3.10/dist-packages (from datasets) (2.0.3)\n",
            "Requirement already satisfied: requests>=2.19.0 in /usr/local/lib/python3.10/dist-packages (from datasets) (2.31.0)\n",
            "Requirement already satisfied: tqdm>=4.62.1 in /usr/local/lib/python3.10/dist-packages (from datasets) (4.66.2)\n",
            "Collecting xxhash (from datasets)\n",
            "  Downloading xxhash-3.4.1-cp310-cp310-manylinux_2_17_x86_64.manylinux2014_x86_64.whl (194 kB)\n",
            "\u001b[2K     \u001b[90m━━━━━━━━━━━━━━━━━━━━━━━━━━━━━━━━━━━━━━━━\u001b[0m \u001b[32m194.1/194.1 kB\u001b[0m \u001b[31m5.7 MB/s\u001b[0m eta \u001b[36m0:00:00\u001b[0m\n",
            "\u001b[?25hCollecting multiprocess (from datasets)\n",
            "  Downloading multiprocess-0.70.16-py310-none-any.whl (134 kB)\n",
            "\u001b[2K     \u001b[90m━━━━━━━━━━━━━━━━━━━━━━━━━━━━━━━━━━━━━━━━\u001b[0m \u001b[32m134.8/134.8 kB\u001b[0m \u001b[31m6.7 MB/s\u001b[0m eta \u001b[36m0:00:00\u001b[0m\n",
            "\u001b[?25hRequirement already satisfied: fsspec[http]<=2024.3.1,>=2023.1.0 in /usr/local/lib/python3.10/dist-packages (from datasets) (2023.6.0)\n",
            "Requirement already satisfied: aiohttp in /usr/local/lib/python3.10/dist-packages (from datasets) (3.9.5)\n",
            "Collecting huggingface-hub>=0.21.2 (from datasets)\n",
            "  Downloading huggingface_hub-0.22.2-py3-none-any.whl (388 kB)\n",
            "\u001b[2K     \u001b[90m━━━━━━━━━━━━━━━━━━━━━━━━━━━━━━━━━━━━━━━━\u001b[0m \u001b[32m388.9/388.9 kB\u001b[0m \u001b[31m8.6 MB/s\u001b[0m eta \u001b[36m0:00:00\u001b[0m\n",
            "\u001b[?25hRequirement already satisfied: packaging in /usr/local/lib/python3.10/dist-packages (from datasets) (24.0)\n",
            "Requirement already satisfied: pyyaml>=5.1 in /usr/local/lib/python3.10/dist-packages (from datasets) (6.0.1)\n",
            "Requirement already satisfied: aiosignal>=1.1.2 in /usr/local/lib/python3.10/dist-packages (from aiohttp->datasets) (1.3.1)\n",
            "Requirement already satisfied: attrs>=17.3.0 in /usr/local/lib/python3.10/dist-packages (from aiohttp->datasets) (23.2.0)\n",
            "Requirement already satisfied: frozenlist>=1.1.1 in /usr/local/lib/python3.10/dist-packages (from aiohttp->datasets) (1.4.1)\n",
            "Requirement already satisfied: multidict<7.0,>=4.5 in /usr/local/lib/python3.10/dist-packages (from aiohttp->datasets) (6.0.5)\n",
            "Requirement already satisfied: yarl<2.0,>=1.0 in /usr/local/lib/python3.10/dist-packages (from aiohttp->datasets) (1.9.4)\n",
            "Requirement already satisfied: async-timeout<5.0,>=4.0 in /usr/local/lib/python3.10/dist-packages (from aiohttp->datasets) (4.0.3)\n",
            "Requirement already satisfied: typing-extensions>=3.7.4.3 in /usr/local/lib/python3.10/dist-packages (from huggingface-hub>=0.21.2->datasets) (4.11.0)\n",
            "Requirement already satisfied: charset-normalizer<4,>=2 in /usr/local/lib/python3.10/dist-packages (from requests>=2.19.0->datasets) (3.3.2)\n",
            "Requirement already satisfied: idna<4,>=2.5 in /usr/local/lib/python3.10/dist-packages (from requests>=2.19.0->datasets) (3.7)\n",
            "Requirement already satisfied: urllib3<3,>=1.21.1 in /usr/local/lib/python3.10/dist-packages (from requests>=2.19.0->datasets) (2.0.7)\n",
            "Requirement already satisfied: certifi>=2017.4.17 in /usr/local/lib/python3.10/dist-packages (from requests>=2.19.0->datasets) (2024.2.2)\n",
            "Requirement already satisfied: python-dateutil>=2.8.2 in /usr/local/lib/python3.10/dist-packages (from pandas->datasets) (2.8.2)\n",
            "Requirement already satisfied: pytz>=2020.1 in /usr/local/lib/python3.10/dist-packages (from pandas->datasets) (2023.4)\n",
            "Requirement already satisfied: tzdata>=2022.1 in /usr/local/lib/python3.10/dist-packages (from pandas->datasets) (2024.1)\n",
            "Requirement already satisfied: six>=1.5 in /usr/local/lib/python3.10/dist-packages (from python-dateutil>=2.8.2->pandas->datasets) (1.16.0)\n",
            "Installing collected packages: xxhash, dill, multiprocess, huggingface-hub, datasets\n",
            "  Attempting uninstall: huggingface-hub\n",
            "    Found existing installation: huggingface-hub 0.20.3\n",
            "    Uninstalling huggingface-hub-0.20.3:\n",
            "      Successfully uninstalled huggingface-hub-0.20.3\n",
            "Successfully installed datasets-2.19.0 dill-0.3.8 huggingface-hub-0.22.2 multiprocess-0.70.16 xxhash-3.4.1\n"
          ]
        }
      ]
    },
    {
      "cell_type": "code",
      "source": [
        "!pip install fuzzywuzzy"
      ],
      "metadata": {
        "colab": {
          "base_uri": "https://localhost:8080/"
        },
        "id": "L3kyHYtM7TBI",
        "outputId": "b302a885-72c7-48e5-ec82-b938d4cbada6"
      },
      "id": "L3kyHYtM7TBI",
      "execution_count": null,
      "outputs": [
        {
          "output_type": "stream",
          "name": "stdout",
          "text": [
            "Collecting fuzzywuzzy\n",
            "  Downloading fuzzywuzzy-0.18.0-py2.py3-none-any.whl (18 kB)\n",
            "Installing collected packages: fuzzywuzzy\n",
            "Successfully installed fuzzywuzzy-0.18.0\n"
          ]
        }
      ]
    },
    {
      "cell_type": "code",
      "source": [
        "import numpy as np\n",
        "import pandas as pd\n",
        "import matplotlib.pyplot as plt\n",
        "import seaborn as sns\n",
        "\n",
        "import re\n",
        "import math\n",
        "import random\n",
        "import unicodedata\n",
        "import string\n",
        "from collections import Counter\n",
        "from pprint import pprint\n",
        "import sys\n",
        "\n",
        "# nltk\n",
        "import nltk\n",
        "from nltk.util import ngrams\n",
        "from nltk.corpus import gutenberg\n",
        "from nltk.corpus import webtext\n",
        "from nltk.corpus import stopwords\n",
        "\n",
        "from fuzzywuzzy import fuzz\n",
        "from scipy.special import softmax"
      ],
      "metadata": {
        "id": "Z73QCKEdJNDV",
        "colab": {
          "base_uri": "https://localhost:8080/"
        },
        "outputId": "2f2d6718-3163-46a8-95cd-e6ec58b9adf8"
      },
      "id": "Z73QCKEdJNDV",
      "execution_count": null,
      "outputs": [
        {
          "output_type": "stream",
          "name": "stderr",
          "text": [
            "/usr/local/lib/python3.10/dist-packages/fuzzywuzzy/fuzz.py:11: UserWarning: Using slow pure-python SequenceMatcher. Install python-Levenshtein to remove this warning\n",
            "  warnings.warn('Using slow pure-python SequenceMatcher. Install python-Levenshtein to remove this warning')\n"
          ]
        }
      ]
    },
    {
      "cell_type": "markdown",
      "source": [
        "# (i) Bigram and Trigram Language Models"
      ],
      "metadata": {
        "id": "feuT1osVJxaT"
      },
      "id": "feuT1osVJxaT"
    },
    {
      "cell_type": "code",
      "source": [
        "### Download if not imported\n",
        "nltk.download('gutenberg')\n",
        "nltk.download('punkt')\n",
        "\n",
        "#nltk.download('stopwords')\n",
        "# nltk.download('brown')\n",
        "# nltk.download('europarl_raw')\n",
        "# nltk.download('reuters')"
      ],
      "metadata": {
        "colab": {
          "base_uri": "https://localhost:8080/"
        },
        "id": "uTZXyURhJSLO",
        "outputId": "09041cef-575e-4a6b-dd41-a142eded8190"
      },
      "id": "uTZXyURhJSLO",
      "execution_count": null,
      "outputs": [
        {
          "output_type": "stream",
          "name": "stderr",
          "text": [
            "[nltk_data] Downloading package gutenberg to /root/nltk_data...\n",
            "[nltk_data]   Unzipping corpora/gutenberg.zip.\n",
            "[nltk_data] Downloading package punkt to /root/nltk_data...\n",
            "[nltk_data]   Unzipping tokenizers/punkt.zip.\n"
          ]
        },
        {
          "output_type": "execute_result",
          "data": {
            "text/plain": [
              "True"
            ]
          },
          "metadata": {},
          "execution_count": 5
        }
      ]
    },
    {
      "cell_type": "code",
      "source": [
        "# load the package\n",
        "gutenberg_corpus = nltk.corpus.gutenberg.fileids()\n",
        "# print files\n",
        "gutenberg_corpus"
      ],
      "metadata": {
        "colab": {
          "base_uri": "https://localhost:8080/"
        },
        "id": "7vvx-wKCLHKP",
        "outputId": "16c89a02-5667-4025-dc54-8c1342b0f845"
      },
      "id": "7vvx-wKCLHKP",
      "execution_count": null,
      "outputs": [
        {
          "output_type": "execute_result",
          "data": {
            "text/plain": [
              "['austen-emma.txt',\n",
              " 'austen-persuasion.txt',\n",
              " 'austen-sense.txt',\n",
              " 'bible-kjv.txt',\n",
              " 'blake-poems.txt',\n",
              " 'bryant-stories.txt',\n",
              " 'burgess-busterbrown.txt',\n",
              " 'carroll-alice.txt',\n",
              " 'chesterton-ball.txt',\n",
              " 'chesterton-brown.txt',\n",
              " 'chesterton-thursday.txt',\n",
              " 'edgeworth-parents.txt',\n",
              " 'melville-moby_dick.txt',\n",
              " 'milton-paradise.txt',\n",
              " 'shakespeare-caesar.txt',\n",
              " 'shakespeare-hamlet.txt',\n",
              " 'shakespeare-macbeth.txt',\n",
              " 'whitman-leaves.txt']"
            ]
          },
          "metadata": {},
          "execution_count": 6
        }
      ]
    },
    {
      "cell_type": "code",
      "source": [
        "# print first sentence\n",
        "gutenberg.raw(gutenberg_corpus[1]).split('.')[0]"
      ],
      "metadata": {
        "colab": {
          "base_uri": "https://localhost:8080/",
          "height": 72
        },
        "id": "Szp0Klg4Lhrn",
        "outputId": "93a50939-fbb0-4835-8075-a3068e9eea06"
      },
      "id": "Szp0Klg4Lhrn",
      "execution_count": null,
      "outputs": [
        {
          "output_type": "execute_result",
          "data": {
            "text/plain": [
              "'[Persuasion by Jane Austen 1818]\\n\\n\\nChapter 1\\n\\n\\nSir Walter Elliot, of Kellynch Hall, in Somersetshire, was a man who,\\nfor his own amusement, never took up any book but the Baronetage;\\nthere he found occupation for an idle hour, and consolation in a\\ndistressed one; there his faculties were roused into admiration and\\nrespect, by contemplating the limited remnant of the earliest patents;\\nthere any unwelcome sensations, arising from domestic affairs\\nchanged naturally into pity and contempt as he turned over\\nthe almost endless creations of the last century; and there,\\nif every other leaf were powerless, he could read his own history\\nwith an interest which never failed'"
            ],
            "application/vnd.google.colaboratory.intrinsic+json": {
              "type": "string"
            }
          },
          "metadata": {},
          "execution_count": 7
        }
      ]
    },
    {
      "cell_type": "code",
      "source": [
        "#cap to small\n",
        "final_corpus = ''\n",
        "for corpus in gutenberg_corpus:\n",
        "    text = gutenberg.raw(fileids=corpus)\n",
        "    lower_text = text.lower()\n",
        "    final_corpus += lower_text\n",
        "\n",
        "len(final_corpus.split())"
      ],
      "metadata": {
        "colab": {
          "base_uri": "https://localhost:8080/"
        },
        "id": "z241k5AtTx2N",
        "outputId": "61d7d774-4c76-4b47-de93-41246b39a548"
      },
      "id": "z241k5AtTx2N",
      "execution_count": null,
      "outputs": [
        {
          "output_type": "execute_result",
          "data": {
            "text/plain": [
              "2135242"
            ]
          },
          "metadata": {},
          "execution_count": 8
        }
      ]
    },
    {
      "cell_type": "markdown",
      "source": [
        "## Cleaning"
      ],
      "metadata": {
        "id": "RsEQlkRQLk2c"
      },
      "id": "RsEQlkRQLk2c"
    },
    {
      "cell_type": "code",
      "source": [
        "#stop_words = set(stopwords.words('english'))\n",
        "\n",
        "# def text_cleaning(text: str) -> str:\n",
        "#     \"\"\" Keep words and sentence ending characters, remove punctuation and other characters and remove multiple white spaces.\"\"\"\n",
        "#     corpus = re.sub(r'[^a-zA-Z.?!\\']'',', ' ', text)\n",
        "#     corpus = corpus.replace('_', ' ')\n",
        "#     corpus = corpus.replace('-', ' ')\n",
        "#     corpus = corpus.replace('[', '')\n",
        "#     corpus = corpus.replace(']', '.')\n",
        "#     corpus = re.sub(r'[[]/$@^&*()€:;΄]', ' ', corpus)\n",
        "#     corpus = re.sub(' +', ' ', corpus)\n",
        "#     corpus = corpus.replace('\\n', ' ')\n",
        "#     corpus = ' '.join(corpus.split())\n",
        "#     return corpus\n",
        "\n",
        "def text_cleaning(text: str) -> str:\n",
        "    text = re.sub(r'[^\\w\\s.!?]', '', text)\n",
        "    text = re.sub(r'\\s+', ' ', text)\n",
        "    text = re.sub(r'\\s+([.!?])', '', text)\n",
        "    text = re.sub(r'[[]/$@^&*()€:;΄]', '', text)\n",
        "    if text != '':\n",
        "      return text\n",
        "    else:\n",
        "      return;\n"
      ],
      "metadata": {
        "id": "arQMyVOPLjBP"
      },
      "id": "arQMyVOPLjBP",
      "execution_count": null,
      "outputs": []
    },
    {
      "cell_type": "markdown",
      "source": [
        "## Tokenisation Sentence level"
      ],
      "metadata": {
        "id": "h39bI8TAUGEc"
      },
      "id": "h39bI8TAUGEc"
    },
    {
      "cell_type": "code",
      "source": [
        "def sentence_tokenization(text: str) -> list:\n",
        "    \"\"\" Function that uses ntlk's sent_tokenize function. 'Tokenizers divide strings into lists of substrings.' \"\"\"\n",
        "    sentence_list = nltk.sent_tokenize(''.join(text))\n",
        "    return sentence_list"
      ],
      "metadata": {
        "id": "cLxoEqvaMt_N"
      },
      "id": "cLxoEqvaMt_N",
      "execution_count": null,
      "outputs": []
    },
    {
      "cell_type": "code",
      "source": [
        "sentence_list = sentence_tokenization(final_corpus)\n",
        "\n",
        "print(sentence_list[2])"
      ],
      "metadata": {
        "colab": {
          "base_uri": "https://localhost:8080/"
        },
        "id": "5aMQzjupM-jz",
        "outputId": "1e34cdbb-c45b-456f-b438-176288b04e3b"
      },
      "id": "5aMQzjupM-jz",
      "execution_count": null,
      "outputs": [
        {
          "output_type": "stream",
          "name": "stdout",
          "text": [
            "her mother\n",
            "had died too long ago for her to have more than an indistinct\n",
            "remembrance of her caresses; and her place had been supplied\n",
            "by an excellent woman as governess, who had fallen little short\n",
            "of a mother in affection.\n"
          ]
        }
      ]
    },
    {
      "cell_type": "markdown",
      "source": [
        "## Tokenisation Word level"
      ],
      "metadata": {
        "id": "lI9uBndbUdBC"
      },
      "id": "lI9uBndbUdBC"
    },
    {
      "cell_type": "code",
      "source": [
        "def word_tokenization(text: str) -> list:\n",
        "  \"\"\" Function that applies word_tokenize if a given sentence.\"\"\"\n",
        "  # text = text_cleaning(text)\n",
        "  words = nltk.word_tokenize(text)\n",
        "  sentence = []\n",
        "  for word in words:\n",
        "    text = text_cleaning(word)\n",
        "    if text == '?' or text ==None or text == '.':\n",
        "      continue\n",
        "    sentence.append(text)\n",
        "  return sentence\n",
        "\n",
        "# Run it for every entry in the sentence_list\n",
        "corpus_in_list_of_words = [word_tokenization(f) for f in sentence_list]\n",
        "\n",
        "# Print the first sentence of the corpus\n",
        "print([i for i in corpus_in_list_of_words[1]])"
      ],
      "metadata": {
        "colab": {
          "base_uri": "https://localhost:8080/"
        },
        "id": "7CGg-mK0Uhyu",
        "outputId": "4d846364-bda4-439c-bc5c-35bc1bf5748f"
      },
      "id": "7CGg-mK0Uhyu",
      "execution_count": null,
      "outputs": [
        {
          "output_type": "stream",
          "name": "stderr",
          "text": [
            "<ipython-input-9-b1d785a26e90>:20: FutureWarning: Possible nested set at position 1\n",
            "  text = re.sub(r'[[]/$@^&*()€:;΄]', '', text)\n"
          ]
        },
        {
          "output_type": "stream",
          "name": "stdout",
          "text": [
            "['she', 'was', 'the', 'youngest', 'of', 'the', 'two', 'daughters', 'of', 'a', 'most', 'affectionate', 'indulgent', 'father', 'and', 'had', 'in', 'consequence', 'of', 'her', 'sister', 's', 'marriage', 'been', 'mistress', 'of', 'his', 'house', 'from', 'a', 'very', 'early', 'period']\n"
          ]
        }
      ]
    },
    {
      "cell_type": "markdown",
      "source": [
        "## Train-Test split 60-20-20"
      ],
      "metadata": {
        "id": "TlyThAPxUnsR"
      },
      "id": "TlyThAPxUnsR"
    },
    {
      "cell_type": "code",
      "source": [
        "# Set random seed for reproducibility\n",
        "random.seed(1)\n",
        "\n",
        "# Shuffle and calculate split length\n",
        "random.shuffle(corpus_in_list_of_words)\n",
        "train_length = math.floor(0.6 * len(corpus_in_list_of_words))\n",
        "dev_length   = test_length = math.floor(0.2 * len(corpus_in_list_of_words))\n",
        "\n",
        "train_corpus = [f for f in corpus_in_list_of_words[0 : train_length]]\n",
        "dev_corpus   = [f for f in corpus_in_list_of_words[train_length : train_length + dev_length]]\n",
        "test_corpus  = [f for f in corpus_in_list_of_words[train_length + dev_length:]]"
      ],
      "metadata": {
        "id": "fCXLwfuhUmR0"
      },
      "id": "fCXLwfuhUmR0",
      "execution_count": null,
      "outputs": []
    },
    {
      "cell_type": "markdown",
      "source": [
        "## Create and count n-grams frequency (NLTK), Vocabulary, OOV Words\n",
        "\n",
        "* In the next part of the code we will create and count n-grams frequencym for unigrams, biagrams and triagrams using nltk.util.\n",
        "* Moreover, using the unigram count, we will build the Vocabulary, which will consist words that appear at least 10 times in the training subset.\n",
        "* All the out-of-vocabulary (OOV) words, will be replaced by a special token UNK.\n",
        "\n"
      ],
      "metadata": {
        "id": "jhPvu7bdVA2D"
      },
      "id": "jhPvu7bdVA2D"
    },
    {
      "cell_type": "code",
      "source": [
        "def calc_unigrams(corpus: list) -> Counter:\n",
        "    \"\"\" Calculates Unigram Counter of a given corpus.\"\"\"\n",
        "    unigram_counter = Counter()\n",
        "    for sentence in corpus:\n",
        "        unigram_counter.update([gram for gram in ngrams(sentence, 1, pad_left=True, pad_right=True, left_pad_symbol='<start>', right_pad_symbol='<end>')])\n",
        "    return unigram_counter\n",
        "\n",
        "def calc_bigrams(corpus: list) -> Counter:\n",
        "    \"\"\" Calculates Biagram Counter of a given corpus.\"\"\"\n",
        "    bigram_counter = Counter()\n",
        "    for sentence in corpus:\n",
        "        bigram_counter.update([gram for gram in ngrams(sentence, 2, pad_left=True, pad_right=True, left_pad_symbol='<start>', right_pad_symbol='<end>')])\n",
        "    return bigram_counter\n",
        "\n",
        "def calc_trigrams(corpus: list) -> Counter:\n",
        "    \"\"\" Calculates Trigram Counter of a given corpus.\"\"\"\n",
        "    trigram_counter = Counter()\n",
        "    for sentence in corpus:\n",
        "        trigram_counter.update([gram for gram in ngrams(sentence, 3, pad_left=True, pad_right=True, left_pad_symbol='<start>', right_pad_symbol='<end>')])\n",
        "    return trigram_counter\n",
        "\n",
        "def replace_oov_words_train(corpus):\n",
        "    \"\"\" Calculates and replaces OOV words.\n",
        "    INPUT: Train corpus (list)\n",
        "    OUTPUT:\n",
        "      OOV_word: dict with key containing OOC words and value the str 'UNK' -> dict\n",
        "      clean_corpus: the original corpus having the OOV words replaced by 'UNK' -> list\n",
        "      vocabulary: the words contained in the vocabulary -> set\n",
        "    \"\"\"\n",
        "\n",
        "    unigram_counter = calc_unigrams(corpus)\n",
        "    OOV_words = {k[0]:\"UNK\" for k, v in unigram_counter.items() if v < 10}\n",
        "    clean_corpus = []\n",
        "    for sentence in corpus:\n",
        "        clean_corpus.append([OOV_words.get(n,n) for n in sentence])\n",
        "    vocabulary = [f[0] for f in unigram_counter.keys() if f[0] not in OOV_words]\n",
        "    vocabulary = set(vocabulary) # set for unique words\n",
        "    return OOV_words, clean_corpus, vocabulary"
      ],
      "metadata": {
        "id": "tLYITy1mU-eQ"
      },
      "id": "tLYITy1mU-eQ",
      "execution_count": null,
      "outputs": []
    },
    {
      "cell_type": "code",
      "source": [
        "oov_words, clean_corpus, vocabulary = replace_oov_words_train(train_corpus)"
      ],
      "metadata": {
        "id": "5NkoH7HDVrYr"
      },
      "id": "5NkoH7HDVrYr",
      "execution_count": null,
      "outputs": []
    },
    {
      "cell_type": "code",
      "source": [
        "# for item in vocabulary:\n",
        "#   print(item)\n",
        "#   break\n",
        "# v= [key for key, value in oov_words.items() if value == 'UNK']\n",
        "# print(v)"
      ],
      "metadata": {
        "id": "_L17-NN5-MRA"
      },
      "id": "_L17-NN5-MRA",
      "execution_count": null,
      "outputs": []
    },
    {
      "cell_type": "code",
      "source": [
        "# print some random OOV words\n",
        "random.sample(list(oov_words.keys()), 5)"
      ],
      "metadata": {
        "colab": {
          "base_uri": "https://localhost:8080/"
        },
        "id": "Z_DxBHbrVsEt",
        "outputId": "f64051e1-d719-4a4d-ce69-effb69437199"
      },
      "id": "Z_DxBHbrVsEt",
      "execution_count": null,
      "outputs": [
        {
          "output_type": "execute_result",
          "data": {
            "text/plain": [
              "['defective', 'exorcist', 'antelope', 'sleekest', 'inspiring']"
            ]
          },
          "metadata": {},
          "execution_count": 17
        }
      ]
    },
    {
      "cell_type": "markdown",
      "source": [
        "## Vocabulary built, we then replace the OOV words in the remaining test set."
      ],
      "metadata": {
        "id": "KggmJ3hdV2wq"
      },
      "id": "KggmJ3hdV2wq"
    },
    {
      "cell_type": "code",
      "source": [
        "def replace_oov_words_dev_test(corpus, vocabulary, oov_words):\n",
        "    clean_corpus = []\n",
        "    for sentence in corpus:\n",
        "        updated_sentence = ['UNK' if ((word not in vocabulary) or (word in oov_words)) else word for word in sentence]\n",
        "        clean_corpus.append(updated_sentence)\n",
        "    return clean_corpus"
      ],
      "metadata": {
        "id": "8ATi6PvpVwQL"
      },
      "id": "8ATi6PvpVwQL",
      "execution_count": null,
      "outputs": []
    },
    {
      "cell_type": "code",
      "source": [
        "dev_corpus = replace_oov_words_dev_test(dev_corpus, vocabulary, oov_words)\n",
        "test_corpus = replace_oov_words_dev_test(test_corpus, vocabulary, oov_words)"
      ],
      "metadata": {
        "id": "zLl0ygBTWBJH"
      },
      "id": "zLl0ygBTWBJH",
      "execution_count": null,
      "outputs": []
    },
    {
      "cell_type": "code",
      "source": [
        "test_corpus[10]"
      ],
      "metadata": {
        "colab": {
          "base_uri": "https://localhost:8080/"
        },
        "id": "tMpLMYKoBIOQ",
        "outputId": "1c412fe1-c1a0-4e72-acdd-cf228a3534e1"
      },
      "id": "tMpLMYKoBIOQ",
      "execution_count": null,
      "outputs": [
        {
          "output_type": "execute_result",
          "data": {
            "text/plain": [
              "['it', 's', 'very', 'very', 'seldom', 'a', 'man', 'is', 'quite', 'alone']"
            ]
          },
          "metadata": {},
          "execution_count": 20
        }
      ]
    },
    {
      "cell_type": "markdown",
      "source": [
        "## We calculate the n-grams in the train set and the V (vocabulary) length."
      ],
      "metadata": {
        "id": "O55hZEuYWHmL"
      },
      "id": "O55hZEuYWHmL"
    },
    {
      "cell_type": "code",
      "source": [
        "vocabulary_length = len(vocabulary)\n",
        "unigram_counter = calc_unigrams(train_corpus)\n",
        "bigram_counter = calc_bigrams(train_corpus)\n",
        "trigram_counter = calc_trigrams(train_corpus)"
      ],
      "metadata": {
        "id": "qy-nxaDBWDma"
      },
      "id": "qy-nxaDBWDma",
      "execution_count": null,
      "outputs": []
    },
    {
      "cell_type": "code",
      "source": [
        "print(f'Vocabulary Length: {vocabulary_length}')\n",
        "print('='*25, '\\nUnigram 10 most common:')\n",
        "pprint(unigram_counter.most_common(10))\n",
        "print('='*25, '\\nBigram 10 most common:')\n",
        "pprint(bigram_counter.most_common(10))\n",
        "print('='*25, '\\nTrigram 10 most common:')\n",
        "pprint(trigram_counter.most_common(10))"
      ],
      "metadata": {
        "colab": {
          "base_uri": "https://localhost:8080/"
        },
        "id": "UhP1JQxlWSNz",
        "outputId": "5c39a402-57fc-40ba-bbb9-ab9f88ab3647"
      },
      "id": "UhP1JQxlWSNz",
      "execution_count": null,
      "outputs": [
        {
          "output_type": "stream",
          "name": "stdout",
          "text": [
            "Vocabulary Length: 7831\n",
            "========================= \n",
            "Unigram 10 most common:\n",
            "[(('the',), 80478),\n",
            " (('and',), 57193),\n",
            " (('of',), 42912),\n",
            " (('to',), 28570),\n",
            " (('in',), 20122),\n",
            " (('a',), 19928),\n",
            " (('i',), 17822),\n",
            " (('that',), 17200),\n",
            " (('he',), 15316),\n",
            " (('it',), 13198)]\n",
            "========================= \n",
            "Bigram 10 most common:\n",
            "[(('of', 'the'), 11610),\n",
            " (('in', 'the'), 6109),\n",
            " (('and', 'the'), 5419),\n",
            " (('!', '<end>'), 4722),\n",
            " (('the', 'lord'), 4295),\n",
            " (('to', 'the'), 3297),\n",
            " (('<start>', 'i'), 2969),\n",
            " (('<start>', 'the'), 2397),\n",
            " (('all', 'the'), 2133),\n",
            " (('and', 'he'), 2127)]\n",
            "========================= \n",
            "Trigram 10 most common:\n",
            "[(('!', '<end>', '<end>'), 4722),\n",
            " (('<start>', '<start>', 'i'), 2969),\n",
            " (('<start>', '<start>', 'the'), 2397),\n",
            " (('<start>', '<start>', 'and'), 2103),\n",
            " (('<start>', '<start>', 'he'), 1689),\n",
            " (('<start>', '<start>', 'but'), 1611),\n",
            " (('<start>', '<start>', 'it'), 1255),\n",
            " (('of', 'the', 'lord'), 1105),\n",
            " (('it', '<end>', '<end>'), 1100),\n",
            " (('him', '<end>', '<end>'), 1040)]\n"
          ]
        }
      ]
    },
    {
      "cell_type": "markdown",
      "source": [
        "# (ii) Cross Entropy and Perplexity of the language for the Bigram and Trigram model\n",
        "\n",
        "* Using Laplace smoothing and the dev set as a single sequece of sentences, we will calculate the n-gram probabilities, by summing the logs. Logs are used as they are more convinient, compared to the product, since the product of many probabilities might result in underfloat events.\n",
        "* We add start (or start1, start2) at the beginning of each sentence, and end at the end of each sentence.\n",
        "* Probabilities of the form P(start…) or P(start1…), P(start2\n",
        "…) will be excluded in the computation of cross-entropy and perplexity.\n",
        "* Final tuning of the $\\alpha$ parameter of a-smoothing."
      ],
      "metadata": {
        "id": "nJy4gRVhXBoa"
      },
      "id": "nJy4gRVhXBoa"
    },
    {
      "cell_type": "code",
      "source": [
        "## laplace smoothing\n",
        "\n",
        "\n",
        "def calc_bi_prob(word1: str, word2: str, alpha: float, bigram_counter: Counter, unigram_counter: Counter, vocabulary_length: int) -> float:\n",
        "    \"\"\" Function that calculates the Bigram model's probabilities using Laplace & a-smoothing.\"\"\"\n",
        "    #Bigram prob + laplace smoothing\n",
        "    bigram_prob = (bigram_counter[(word1, word2)] + alpha) / (unigram_counter[(word1,)] + alpha * vocabulary_length)\n",
        "    return bigram_prob\n",
        "\n",
        "def calc_tri_prob(word1: str, word2: str, word3:str, alpha: float, trigram_counter:Counter, bigram_counter:Counter, vocabulary_length: int) -> float:\n",
        "    \"\"\" Function that calculates the Trigram model's probabilities using Laplace & a-smoothing.\"\"\"\n",
        "    #Bigram prob + laplace smoothing\n",
        "    trigram_prob = (trigram_counter[(word1, word2, word3)] +alpha) / (bigram_counter[(word1, word2)] + alpha * vocabulary_length)\n",
        "    return trigram_prob"
      ],
      "metadata": {
        "id": "9beYCN1AXKVu"
      },
      "id": "9beYCN1AXKVu",
      "execution_count": null,
      "outputs": []
    },
    {
      "cell_type": "markdown",
      "source": [
        "## Bigram case"
      ],
      "metadata": {
        "id": "ffveimP0X8Mh"
      },
      "id": "ffveimP0X8Mh"
    },
    {
      "cell_type": "code",
      "source": [
        "# initialize variables\n",
        "perpl = []\n",
        "HC_list = []\n",
        "min, pos = 1, 0\n",
        "min_range_bi = []\n",
        "alpha_list = np.linspace(0.001,0.1,100)\n",
        "\n",
        "for i, alpha in enumerate(alpha_list):\n",
        "\n",
        "    sum_prob = 0\n",
        "    bigram_cnt = 0\n",
        "    for sent in dev_corpus:\n",
        "        sent = ['<start>']  + sent + ['<end>']\n",
        "        for idx in range(1,len(sent)):\n",
        "            bigram_prob = calc_bi_prob(word1=sent[idx-1], word2=sent[idx], alpha=alpha, bigram_counter=bigram_counter, unigram_counter=unigram_counter, vocabulary_length=vocabulary_length)\n",
        "            sum_prob += math.log2(bigram_prob)\n",
        "            bigram_cnt+=1\n",
        "\n",
        "    HC_list.append(-sum_prob / bigram_cnt)\n",
        "    perpl.append(math.pow(2,(-sum_prob / bigram_cnt)))\n",
        "\n",
        "    if i == 0:\n",
        "        min_entrp = -sum_prob / bigram_cnt\n",
        "    elif (-sum_prob / bigram_cnt) <= min_entrp:\n",
        "        min_range_bi.append(i)\n",
        "\n",
        "perpl_bi = np.array(perpl)\n",
        "entropy_bi = np.array(HC_list)\n",
        "best_alpha_bi = alpha_list[np.argmin(perpl)]\n",
        "\n",
        "print(f\"Min perplexity/entropy regarding bigram model is : {round(np.min(perpl_bi),3)} / {round(np.min(entropy_bi),3)} at alpha= {np.round(best_alpha_bi, 3)}\")"
      ],
      "metadata": {
        "colab": {
          "base_uri": "https://localhost:8080/"
        },
        "id": "5LHMrqc-XKS9",
        "outputId": "9cc5792f-594c-4b0b-86ee-b2805653ec88"
      },
      "id": "5LHMrqc-XKS9",
      "execution_count": null,
      "outputs": [
        {
          "output_type": "stream",
          "name": "stdout",
          "text": [
            "Min perplexity/entropy regarding bigram model is : 371.386 / 8.537 at alpha= 0.011\n"
          ]
        }
      ]
    },
    {
      "cell_type": "markdown",
      "source": [
        "## Trigram case"
      ],
      "metadata": {
        "id": "kl5pdYgbX-ms"
      },
      "id": "kl5pdYgbX-ms"
    },
    {
      "cell_type": "code",
      "source": [
        "# initialize variables\n",
        "perpl = []\n",
        "HC_list = []\n",
        "min_range_tri = []\n",
        "alpha_list = np.linspace(0.001,0.1,100)\n",
        "\n",
        "for i, alpha in enumerate(alpha_list):\n",
        "\n",
        "    sum_prob = 0\n",
        "    trigram_cnt = 0\n",
        "    for sent in dev_corpus:\n",
        "        sent = ['<start>', '<start>'] + sent + ['<end>']\n",
        "        for idx in range(2,len(sent)):\n",
        "            trigram_prob = calc_tri_prob(word1=sent[idx-2], word2=sent[idx-1], word3=sent[idx], alpha=alpha, trigram_counter=trigram_counter, bigram_counter=bigram_counter, vocabulary_length=vocabulary_length)\n",
        "            sum_prob += math.log2(trigram_prob)\n",
        "            trigram_cnt+=1\n",
        "\n",
        "    # append Cross-entropy and perplexity\n",
        "    HC_list.append(-sum_prob / trigram_cnt)\n",
        "    perpl.append(math.pow(2,(-sum_prob / trigram_cnt)))\n",
        "\n",
        "    if i == 0:\n",
        "        min_entrp = -sum_prob / trigram_cnt\n",
        "    elif (-sum_prob / trigram_cnt) <= min_entrp:\n",
        "        min_range_tri.append(i)\n",
        "\n",
        "perpl_tri = np.array(perpl)\n",
        "entropy_tri = np.array(HC_list)\n",
        "best_alpha_tri = alpha_list[np.argmin(perpl_tri)]\n",
        "\n",
        "print(f\"The lowest perplexity / entropy regarding trigram model is : {round(np.min(perpl_tri),3)} / {round(np.min(entropy_tri),3)} at alpha= {np.round(best_alpha_tri, 3)}\")"
      ],
      "metadata": {
        "colab": {
          "base_uri": "https://localhost:8080/"
        },
        "id": "tQS14vNXXBUl",
        "outputId": "6f507cc9-850b-4f04-cf63-4658db0dbc78"
      },
      "id": "tQS14vNXXBUl",
      "execution_count": null,
      "outputs": [
        {
          "output_type": "stream",
          "name": "stdout",
          "text": [
            "The lowest perplexity / entropy regarding trigram model is : 916.987 / 9.841 at alpha= 0.003\n"
          ]
        }
      ]
    },
    {
      "cell_type": "markdown",
      "source": [
        "## Visualise the results"
      ],
      "metadata": {
        "id": "B8x7t05zYPcW"
      },
      "id": "B8x7t05zYPcW"
    },
    {
      "cell_type": "code",
      "source": [
        "# Find plot range\n",
        "plot_range = max(int(min_range_tri[-1]),int(min_range_bi[-1]))\n",
        "\n",
        "# define plot parameters for bigrama dn trigram\n",
        "pos_bi = np.argmin(perpl_bi)\n",
        "alpha_range_zoom_bi, perpl_zoom_bi = alpha_list[:plot_range], perpl_bi[:plot_range]\n",
        "pos_tri = np.argmin(perpl_tri)\n",
        "alpha_range_zoom_tri, perpl_zoom_tri = alpha_list[:plot_range], perpl_tri[:plot_range]\n",
        "\n",
        "\n",
        "# Plot the results\n",
        "fig = plt.figure(figsize=(10,7))\n",
        "ax = fig.add_subplot(111)\n",
        "\n",
        "# Bigram plot\n",
        "ax.plot(alpha_range_zoom_bi, perpl_zoom_bi, label='Bigram', color='#1f77b4')\n",
        "ax.scatter(alpha_range_zoom_bi[pos_bi], perpl_zoom_bi[pos_bi], c='r', marker='x', s=150)\n",
        "ax.annotate(f\"{perpl_zoom_bi[pos_bi]:.3f}\", xy=(alpha_range_zoom_bi[pos_bi]-0.007, perpl_zoom_bi[pos_bi]+15), fontsize=12)\n",
        "ax.set_xlabel('α', fontsize=15)\n",
        "ax.set_ylabel('Perplexity', fontsize=15)\n",
        "\n",
        "\n",
        "# Trigram plot and twin axes\n",
        "# ax2 = ax.twinx()\n",
        "ax.plot(alpha_range_zoom_tri, perpl_zoom_tri, label='Trigram', color='orange')\n",
        "ax.scatter(alpha_range_zoom_tri[pos_tri], perpl_zoom_tri[pos_tri], c='g', marker='x', s=150)\n",
        "ax.annotate(f\"{perpl_zoom_tri[pos_tri]:.3f}\", xy=(alpha_range_zoom_tri[pos_tri]-0.0009, perpl_zoom_tri[pos_tri]-30), fontsize=12)\n",
        "\n",
        "# set title and legend\n",
        "ax.set_title('Perplexity vs Alpha for bigram and trigram models.', fontsize=18)\n",
        "_ = ax.legend(loc='upper left')"
      ],
      "metadata": {
        "colab": {
          "base_uri": "https://localhost:8080/",
          "height": 652
        },
        "id": "NCWf2WEzWUIB",
        "outputId": "ce2545ee-3e41-4ac5-bb89-4e67bfc29175"
      },
      "id": "NCWf2WEzWUIB",
      "execution_count": null,
      "outputs": [
        {
          "output_type": "display_data",
          "data": {
            "text/plain": [
              "<Figure size 1000x700 with 1 Axes>"
            ],
            "image/png": "[encoded data removed]"
          },
          "metadata": {}
        }
      ]
    },
    {
      "cell_type": "markdown",
      "source": [
        "In order to take the best out of laplace smoothing brigram and trigram probabilities. We take the best **alpa** we have already computed"
      ],
      "metadata": {
        "id": "jU_ScYBVxXgo"
      },
      "id": "jU_ScYBVxXgo"
    },
    {
      "cell_type": "code",
      "source": [
        "bigram_probabilities = {}\n",
        "for bigram, count in bigram_counter.items():\n",
        "  w1, w2 = bigram\n",
        "\n",
        "  bigram_prob = calc_bi_prob(w1, w2, alpha=best_alpha_bi, bigram_counter=bigram_counter, unigram_counter=unigram_counter, vocabulary_length=vocabulary_length)\n",
        "\n",
        "  bigram_probabilities[bigram] = bigram_prob\n",
        "\n",
        "trigram_probabilities = {}\n",
        "for trigram, count in trigram_counter.items():\n",
        "  w1, w2, w3 = trigram\n",
        "\n",
        "  trigram_prob = calc_tri_prob(w1, w2, w3, alpha = best_alpha_tri, trigram_counter = trigram_counter, bigram_counter = bigram_counter, vocabulary_length = vocabulary_length)\n",
        "\n",
        "  trigram_probabilities[trigram] = trigram_prob"
      ],
      "metadata": {
        "id": "9LpxPV6FMhk1"
      },
      "id": "9LpxPV6FMhk1",
      "execution_count": null,
      "outputs": []
    },
    {
      "cell_type": "code",
      "source": [
        "for bigram, prob in bigram_probabilities.items():\n",
        "    print(\"Trigram:\", bigram, \"Probability:\", prob)\n",
        "    break\n",
        "for trigram, prob in trigram_probabilities.items():\n",
        "    print(\"Trigram:\", trigram, \"Probability:\", prob)\n",
        "    break"
      ],
      "metadata": {
        "id": "rDbnG4OtMjLm",
        "outputId": "e2c56b7b-4f79-440c-dbec-51d07830c408",
        "colab": {
          "base_uri": "https://localhost:8080/"
        }
      },
      "id": "rDbnG4OtMjLm",
      "execution_count": null,
      "outputs": [
        {
          "output_type": "stream",
          "name": "stdout",
          "text": [
            "Trigram: ('<start>', 'this') Probability: 5.1544676750908405\n",
            "Trigram: ('<start>', '<start>', 'this') Probability: 18.89937428170093\n"
          ]
        }
      ]
    },
    {
      "cell_type": "code",
      "source": [
        "sum_prob = 0\n",
        "log_prob_bigram_correct=[]\n",
        "for sent in test_corpus:\n",
        "    sent = ['<start>']  + sent + ['<end>']\n",
        "    for idx in range(1,len(sent)):\n",
        "        bigram_prob = calc_bi_prob(word1=sent[idx-1], word2=sent[idx], alpha=best_alpha_bi, bigram_counter=bigram_counter, unigram_counter=unigram_counter, vocabulary_length=vocabulary_length)\n",
        "        sum_prob += math.log2(bigram_prob)\n",
        "        bigram_cnt+=1\n",
        "    log_prob_bigram_correct.append(sum_prob)\n",
        "    sum_prob = 0\n",
        "\n",
        "df_bigram = pd.DataFrame({\"Correct Sentence\":test_corpus, \"Log Probability Correct\":log_prob_bigram_correct})\n",
        "df_bigram.head()"
      ],
      "metadata": {
        "colab": {
          "base_uri": "https://localhost:8080/",
          "height": 206
        },
        "id": "ROWj51rLY0ul",
        "outputId": "a4777ce2-2c67-474d-a758-d3e4149174cb"
      },
      "id": "ROWj51rLY0ul",
      "execution_count": null,
      "outputs": [
        {
          "output_type": "execute_result",
          "data": {
            "text/plain": [
              "                                    Correct Sentence  Log Probability Correct\n",
              "0          [have, not, i, some, right, to, complain]               -57.901658\n",
              "1  [132, i, told, you, before, and, UNK, you, as,...              -534.287267\n",
              "2  [UNK, therefore, thus, saith, the, lord, behol...              -531.491464\n",
              "3  [nor, in, UNK, does, this, wondrous, brow, UNK...              -229.030890\n",
              "4                                        [ha, ha, !]                -7.761963"
            ],
            "text/html": [
              "\n",
              "  <div id=\"df-80f6a9d1-b567-40ee-805a-060455c1c881\" class=\"colab-df-container\">\n",
              "    <div>\n",
              "<style scoped>\n",
              "    .dataframe tbody tr th:only-of-type {\n",
              "        vertical-align: middle;\n",
              "    }\n",
              "\n",
              "    .dataframe tbody tr th {\n",
              "        vertical-align: top;\n",
              "    }\n",
              "\n",
              "    .dataframe thead th {\n",
              "        text-align: right;\n",
              "    }\n",
              "</style>\n",
              "<table border=\"1\" class=\"dataframe\">\n",
              "  <thead>\n",
              "    <tr style=\"text-align: right;\">\n",
              "      <th></th>\n",
              "      <th>Correct Sentence</th>\n",
              "      <th>Log Probability Correct</th>\n",
              "    </tr>\n",
              "  </thead>\n",
              "  <tbody>\n",
              "    <tr>\n",
              "      <th>0</th>\n",
              "      <td>[have, not, i, some, right, to, complain]</td>\n",
              "      <td>-57.901658</td>\n",
              "    </tr>\n",
              "    <tr>\n",
              "      <th>1</th>\n",
              "      <td>[132, i, told, you, before, and, UNK, you, as,...</td>\n",
              "      <td>-534.287267</td>\n",
              "    </tr>\n",
              "    <tr>\n",
              "      <th>2</th>\n",
              "      <td>[UNK, therefore, thus, saith, the, lord, behol...</td>\n",
              "      <td>-531.491464</td>\n",
              "    </tr>\n",
              "    <tr>\n",
              "      <th>3</th>\n",
              "      <td>[nor, in, UNK, does, this, wondrous, brow, UNK...</td>\n",
              "      <td>-229.030890</td>\n",
              "    </tr>\n",
              "    <tr>\n",
              "      <th>4</th>\n",
              "      <td>[ha, ha, !]</td>\n",
              "      <td>-7.761963</td>\n",
              "    </tr>\n",
              "  </tbody>\n",
              "</table>\n",
              "</div>\n",
              "    <div class=\"colab-df-buttons\">\n",
              "\n",
              "  <div class=\"colab-df-container\">\n",
              "    <button class=\"colab-df-convert\" onclick=\"convertToInteractive('df-80f6a9d1-b567-40ee-805a-060455c1c881')\"\n",
              "            title=\"Convert this dataframe to an interactive table.\"\n",
              "            style=\"display:none;\">\n",
              "\n",
              "  <svg xmlns=\"http://www.w3.org/2000/svg\" height=\"24px\" viewBox=\"0 -960 960 960\">\n",
              "    <path d=\"M120-120v-720h720v720H120Zm60-500h600v-160H180v160Zm220 220h160v-160H400v160Zm0 220h160v-160H400v160ZM180-400h160v-160H180v160Zm440 0h160v-160H620v160ZM180-180h160v-160H180v160Zm440 0h160v-160H620v160Z\"/>\n",
              "  </svg>\n",
              "    </button>\n",
              "\n",
              "  <style>\n",
              "    .colab-df-container {\n",
              "      display:flex;\n",
              "      gap: 12px;\n",
              "    }\n",
              "\n",
              "    .colab-df-convert {\n",
              "      background-color: #E8F0FE;\n",
              "      border: none;\n",
              "      border-radius: 50%;\n",
              "      cursor: pointer;\n",
              "      display: none;\n",
              "      fill: #1967D2;\n",
              "      height: 32px;\n",
              "      padding: 0 0 0 0;\n",
              "      width: 32px;\n",
              "    }\n",
              "\n",
              "    .colab-df-convert:hover {\n",
              "      background-color: #E2EBFA;\n",
              "      box-shadow: 0px 1px 2px rgba(60, 64, 67, 0.3), 0px 1px 3px 1px rgba(60, 64, 67, 0.15);\n",
              "      fill: #174EA6;\n",
              "    }\n",
              "\n",
              "    .colab-df-buttons div {\n",
              "      margin-bottom: 4px;\n",
              "    }\n",
              "\n",
              "    [theme=dark] .colab-df-convert {\n",
              "      background-color: #3B4455;\n",
              "      fill: #D2E3FC;\n",
              "    }\n",
              "\n",
              "    [theme=dark] .colab-df-convert:hover {\n",
              "      background-color: #434B5C;\n",
              "      box-shadow: 0px 1px 3px 1px rgba(0, 0, 0, 0.15);\n",
              "      filter: drop-shadow(0px 1px 2px rgba(0, 0, 0, 0.3));\n",
              "      fill: #FFFFFF;\n",
              "    }\n",
              "  </style>\n",
              "\n",
              "    <script>\n",
              "      const buttonEl =\n",
              "        document.querySelector('#df-80f6a9d1-b567-40ee-805a-060455c1c881 button.colab-df-convert');\n",
              "      buttonEl.style.display =\n",
              "        google.colab.kernel.accessAllowed ? 'block' : 'none';\n",
              "\n",
              "      async function convertToInteractive(key) {\n",
              "        const element = document.querySelector('#df-80f6a9d1-b567-40ee-805a-060455c1c881');\n",
              "        const dataTable =\n",
              "          await google.colab.kernel.invokeFunction('convertToInteractive',\n",
              "                                                    [key], {});\n",
              "        if (!dataTable) return;\n",
              "\n",
              "        const docLinkHtml = 'Like what you see? Visit the ' +\n",
              "          '<a target=\"_blank\" href=https://colab.research.google.com/notebooks/data_table.ipynb>data table notebook</a>'\n",
              "          + ' to learn more about interactive tables.';\n",
              "        element.innerHTML = '';\n",
              "        dataTable['output_type'] = 'display_data';\n",
              "        await google.colab.output.renderOutput(dataTable, element);\n",
              "        const docLink = document.createElement('div');\n",
              "        docLink.innerHTML = docLinkHtml;\n",
              "        element.appendChild(docLink);\n",
              "      }\n",
              "    </script>\n",
              "  </div>\n",
              "\n",
              "\n",
              "<div id=\"df-1866492a-122b-4f1e-9511-25cc4cd2f9fa\">\n",
              "  <button class=\"colab-df-quickchart\" onclick=\"quickchart('df-1866492a-122b-4f1e-9511-25cc4cd2f9fa')\"\n",
              "            title=\"Suggest charts\"\n",
              "            style=\"display:none;\">\n",
              "\n",
              "<svg xmlns=\"http://www.w3.org/2000/svg\" height=\"24px\"viewBox=\"0 0 24 24\"\n",
              "     width=\"24px\">\n",
              "    <g>\n",
              "        <path d=\"M19 3H5c-1.1 0-2 .9-2 2v14c0 1.1.9 2 2 2h14c1.1 0 2-.9 2-2V5c0-1.1-.9-2-2-2zM9 17H7v-7h2v7zm4 0h-2V7h2v10zm4 0h-2v-4h2v4z\"/>\n",
              "    </g>\n",
              "</svg>\n",
              "  </button>\n",
              "\n",
              "<style>\n",
              "  .colab-df-quickchart {\n",
              "      --bg-color: #E8F0FE;\n",
              "      --fill-color: #1967D2;\n",
              "      --hover-bg-color: #E2EBFA;\n",
              "      --hover-fill-color: #174EA6;\n",
              "      --disabled-fill-color: #AAA;\n",
              "      --disabled-bg-color: #DDD;\n",
              "  }\n",
              "\n",
              "  [theme=dark] .colab-df-quickchart {\n",
              "      --bg-color: #3B4455;\n",
              "      --fill-color: #D2E3FC;\n",
              "      --hover-bg-color: #434B5C;\n",
              "      --hover-fill-color: #FFFFFF;\n",
              "      --disabled-bg-color: #3B4455;\n",
              "      --disabled-fill-color: #666;\n",
              "  }\n",
              "\n",
              "  .colab-df-quickchart {\n",
              "    background-color: var(--bg-color);\n",
              "    border: none;\n",
              "    border-radius: 50%;\n",
              "    cursor: pointer;\n",
              "    display: none;\n",
              "    fill: var(--fill-color);\n",
              "    height: 32px;\n",
              "    padding: 0;\n",
              "    width: 32px;\n",
              "  }\n",
              "\n",
              "  .colab-df-quickchart:hover {\n",
              "    background-color: var(--hover-bg-color);\n",
              "    box-shadow: 0 1px 2px rgba(60, 64, 67, 0.3), 0 1px 3px 1px rgba(60, 64, 67, 0.15);\n",
              "    fill: var(--button-hover-fill-color);\n",
              "  }\n",
              "\n",
              "  .colab-df-quickchart-complete:disabled,\n",
              "  .colab-df-quickchart-complete:disabled:hover {\n",
              "    background-color: var(--disabled-bg-color);\n",
              "    fill: var(--disabled-fill-color);\n",
              "    box-shadow: none;\n",
              "  }\n",
              "\n",
              "  .colab-df-spinner {\n",
              "    border: 2px solid var(--fill-color);\n",
              "    border-color: transparent;\n",
              "    border-bottom-color: var(--fill-color);\n",
              "    animation:\n",
              "      spin 1s steps(1) infinite;\n",
              "  }\n",
              "\n",
              "  @keyframes spin {\n",
              "    0% {\n",
              "      border-color: transparent;\n",
              "      border-bottom-color: var(--fill-color);\n",
              "      border-left-color: var(--fill-color);\n",
              "    }\n",
              "    20% {\n",
              "      border-color: transparent;\n",
              "      border-left-color: var(--fill-color);\n",
              "      border-top-color: var(--fill-color);\n",
              "    }\n",
              "    30% {\n",
              "      border-color: transparent;\n",
              "      border-left-color: var(--fill-color);\n",
              "      border-top-color: var(--fill-color);\n",
              "      border-right-color: var(--fill-color);\n",
              "    }\n",
              "    40% {\n",
              "      border-color: transparent;\n",
              "      border-right-color: var(--fill-color);\n",
              "      border-top-color: var(--fill-color);\n",
              "    }\n",
              "    60% {\n",
              "      border-color: transparent;\n",
              "      border-right-color: var(--fill-color);\n",
              "    }\n",
              "    80% {\n",
              "      border-color: transparent;\n",
              "      border-right-color: var(--fill-color);\n",
              "      border-bottom-color: var(--fill-color);\n",
              "    }\n",
              "    90% {\n",
              "      border-color: transparent;\n",
              "      border-bottom-color: var(--fill-color);\n",
              "    }\n",
              "  }\n",
              "</style>\n",
              "\n",
              "  <script>\n",
              "    async function quickchart(key) {\n",
              "      const quickchartButtonEl =\n",
              "        document.querySelector('#' + key + ' button');\n",
              "      quickchartButtonEl.disabled = true;  // To prevent multiple clicks.\n",
              "      quickchartButtonEl.classList.add('colab-df-spinner');\n",
              "      try {\n",
              "        const charts = await google.colab.kernel.invokeFunction(\n",
              "            'suggestCharts', [key], {});\n",
              "      } catch (error) {\n",
              "        console.error('Error during call to suggestCharts:', error);\n",
              "      }\n",
              "      quickchartButtonEl.classList.remove('colab-df-spinner');\n",
              "      quickchartButtonEl.classList.add('colab-df-quickchart-complete');\n",
              "    }\n",
              "    (() => {\n",
              "      let quickchartButtonEl =\n",
              "        document.querySelector('#df-1866492a-122b-4f1e-9511-25cc4cd2f9fa button');\n",
              "      quickchartButtonEl.style.display =\n",
              "        google.colab.kernel.accessAllowed ? 'block' : 'none';\n",
              "    })();\n",
              "  </script>\n",
              "</div>\n",
              "    </div>\n",
              "  </div>\n"
            ],
            "application/vnd.google.colaboratory.intrinsic+json": {
              "type": "dataframe",
              "variable_name": "df_bigram",
              "summary": "{\n  \"name\": \"df_bigram\",\n  \"rows\": 18848,\n  \"fields\": [\n    {\n      \"column\": \"Correct Sentence\",\n      \"properties\": {\n        \"dtype\": \"object\",\n        \"semantic_type\": \"\",\n        \"description\": \"\"\n      }\n    },\n    {\n      \"column\": \"Log Probability Correct\",\n      \"properties\": {\n        \"dtype\": \"number\",\n        \"std\": 216.50826849257757,\n        \"min\": -5512.466870917243,\n        \"max\": 0.4845066442124059,\n        \"num_unique_values\": 18250,\n        \"samples\": [\n          -335.0672669503212,\n          -8.153818541845304,\n          -25.78971999665572\n        ],\n        \"semantic_type\": \"\",\n        \"description\": \"\"\n      }\n    }\n  ]\n}"
            }
          },
          "metadata": {},
          "execution_count": 29
        }
      ]
    },
    {
      "cell_type": "code",
      "source": [
        "sum_prob = 0\n",
        "log_prob_trigram_correct=[]\n",
        "for sent in test_corpus:\n",
        "    # This was wrong in trigram we need 2 starts not 1\n",
        "    sent = ['<start>', '<start>']  + sent + ['<end>', '<end>']\n",
        "    for idx in range(2,len(sent)):\n",
        "        trigram_prob = calc_tri_prob(word1=sent[idx-2], word2=sent[idx-1], word3=sent[idx], alpha=best_alpha_tri, trigram_counter=trigram_counter, bigram_counter=bigram_counter, vocabulary_length=vocabulary_length)\n",
        "        sum_prob += math.log2(trigram_prob)\n",
        "    log_prob_trigram_correct.append(sum_prob)\n",
        "    sum_prob = 0\n",
        "\n",
        "df_trigram = pd.DataFrame({\"Correct Sentence\":test_corpus, \"Log Probability Correct\":log_prob_trigram_correct})\n",
        "df_trigram.head()"
      ],
      "metadata": {
        "colab": {
          "base_uri": "https://localhost:8080/",
          "height": 206
        },
        "id": "WFaBd_PPeZsn",
        "outputId": "736aec7d-ffb1-478f-aa38-bf88e6b2acb7"
      },
      "id": "WFaBd_PPeZsn",
      "execution_count": null,
      "outputs": [
        {
          "output_type": "execute_result",
          "data": {
            "text/plain": [
              "                                    Correct Sentence  Log Probability Correct\n",
              "0          [have, not, i, some, right, to, complain]               -63.304380\n",
              "1  [132, i, told, you, before, and, UNK, you, as,...              -682.033661\n",
              "2  [UNK, therefore, thus, saith, the, lord, behol...              -519.493529\n",
              "3  [nor, in, UNK, does, this, wondrous, brow, UNK...              -246.677893\n",
              "4                                        [ha, ha, !]                -8.097061"
            ],
            "text/html": [
              "\n",
              "  <div id=\"df-0e26e893-d28f-45cd-8bba-8d885a6c865a\" class=\"colab-df-container\">\n",
              "    <div>\n",
              "<style scoped>\n",
              "    .dataframe tbody tr th:only-of-type {\n",
              "        vertical-align: middle;\n",
              "    }\n",
              "\n",
              "    .dataframe tbody tr th {\n",
              "        vertical-align: top;\n",
              "    }\n",
              "\n",
              "    .dataframe thead th {\n",
              "        text-align: right;\n",
              "    }\n",
              "</style>\n",
              "<table border=\"1\" class=\"dataframe\">\n",
              "  <thead>\n",
              "    <tr style=\"text-align: right;\">\n",
              "      <th></th>\n",
              "      <th>Correct Sentence</th>\n",
              "      <th>Log Probability Correct</th>\n",
              "    </tr>\n",
              "  </thead>\n",
              "  <tbody>\n",
              "    <tr>\n",
              "      <th>0</th>\n",
              "      <td>[have, not, i, some, right, to, complain]</td>\n",
              "      <td>-63.304380</td>\n",
              "    </tr>\n",
              "    <tr>\n",
              "      <th>1</th>\n",
              "      <td>[132, i, told, you, before, and, UNK, you, as,...</td>\n",
              "      <td>-682.033661</td>\n",
              "    </tr>\n",
              "    <tr>\n",
              "      <th>2</th>\n",
              "      <td>[UNK, therefore, thus, saith, the, lord, behol...</td>\n",
              "      <td>-519.493529</td>\n",
              "    </tr>\n",
              "    <tr>\n",
              "      <th>3</th>\n",
              "      <td>[nor, in, UNK, does, this, wondrous, brow, UNK...</td>\n",
              "      <td>-246.677893</td>\n",
              "    </tr>\n",
              "    <tr>\n",
              "      <th>4</th>\n",
              "      <td>[ha, ha, !]</td>\n",
              "      <td>-8.097061</td>\n",
              "    </tr>\n",
              "  </tbody>\n",
              "</table>\n",
              "</div>\n",
              "    <div class=\"colab-df-buttons\">\n",
              "\n",
              "  <div class=\"colab-df-container\">\n",
              "    <button class=\"colab-df-convert\" onclick=\"convertToInteractive('df-0e26e893-d28f-45cd-8bba-8d885a6c865a')\"\n",
              "            title=\"Convert this dataframe to an interactive table.\"\n",
              "            style=\"display:none;\">\n",
              "\n",
              "  <svg xmlns=\"http://www.w3.org/2000/svg\" height=\"24px\" viewBox=\"0 -960 960 960\">\n",
              "    <path d=\"M120-120v-720h720v720H120Zm60-500h600v-160H180v160Zm220 220h160v-160H400v160Zm0 220h160v-160H400v160ZM180-400h160v-160H180v160Zm440 0h160v-160H620v160ZM180-180h160v-160H180v160Zm440 0h160v-160H620v160Z\"/>\n",
              "  </svg>\n",
              "    </button>\n",
              "\n",
              "  <style>\n",
              "    .colab-df-container {\n",
              "      display:flex;\n",
              "      gap: 12px;\n",
              "    }\n",
              "\n",
              "    .colab-df-convert {\n",
              "      background-color: #E8F0FE;\n",
              "      border: none;\n",
              "      border-radius: 50%;\n",
              "      cursor: pointer;\n",
              "      display: none;\n",
              "      fill: #1967D2;\n",
              "      height: 32px;\n",
              "      padding: 0 0 0 0;\n",
              "      width: 32px;\n",
              "    }\n",
              "\n",
              "    .colab-df-convert:hover {\n",
              "      background-color: #E2EBFA;\n",
              "      box-shadow: 0px 1px 2px rgba(60, 64, 67, 0.3), 0px 1px 3px 1px rgba(60, 64, 67, 0.15);\n",
              "      fill: #174EA6;\n",
              "    }\n",
              "\n",
              "    .colab-df-buttons div {\n",
              "      margin-bottom: 4px;\n",
              "    }\n",
              "\n",
              "    [theme=dark] .colab-df-convert {\n",
              "      background-color: #3B4455;\n",
              "      fill: #D2E3FC;\n",
              "    }\n",
              "\n",
              "    [theme=dark] .colab-df-convert:hover {\n",
              "      background-color: #434B5C;\n",
              "      box-shadow: 0px 1px 3px 1px rgba(0, 0, 0, 0.15);\n",
              "      filter: drop-shadow(0px 1px 2px rgba(0, 0, 0, 0.3));\n",
              "      fill: #FFFFFF;\n",
              "    }\n",
              "  </style>\n",
              "\n",
              "    <script>\n",
              "      const buttonEl =\n",
              "        document.querySelector('#df-0e26e893-d28f-45cd-8bba-8d885a6c865a button.colab-df-convert');\n",
              "      buttonEl.style.display =\n",
              "        google.colab.kernel.accessAllowed ? 'block' : 'none';\n",
              "\n",
              "      async function convertToInteractive(key) {\n",
              "        const element = document.querySelector('#df-0e26e893-d28f-45cd-8bba-8d885a6c865a');\n",
              "        const dataTable =\n",
              "          await google.colab.kernel.invokeFunction('convertToInteractive',\n",
              "                                                    [key], {});\n",
              "        if (!dataTable) return;\n",
              "\n",
              "        const docLinkHtml = 'Like what you see? Visit the ' +\n",
              "          '<a target=\"_blank\" href=https://colab.research.google.com/notebooks/data_table.ipynb>data table notebook</a>'\n",
              "          + ' to learn more about interactive tables.';\n",
              "        element.innerHTML = '';\n",
              "        dataTable['output_type'] = 'display_data';\n",
              "        await google.colab.output.renderOutput(dataTable, element);\n",
              "        const docLink = document.createElement('div');\n",
              "        docLink.innerHTML = docLinkHtml;\n",
              "        element.appendChild(docLink);\n",
              "      }\n",
              "    </script>\n",
              "  </div>\n",
              "\n",
              "\n",
              "<div id=\"df-ceea3b58-809a-4db5-bd86-0d6494ebd004\">\n",
              "  <button class=\"colab-df-quickchart\" onclick=\"quickchart('df-ceea3b58-809a-4db5-bd86-0d6494ebd004')\"\n",
              "            title=\"Suggest charts\"\n",
              "            style=\"display:none;\">\n",
              "\n",
              "<svg xmlns=\"http://www.w3.org/2000/svg\" height=\"24px\"viewBox=\"0 0 24 24\"\n",
              "     width=\"24px\">\n",
              "    <g>\n",
              "        <path d=\"M19 3H5c-1.1 0-2 .9-2 2v14c0 1.1.9 2 2 2h14c1.1 0 2-.9 2-2V5c0-1.1-.9-2-2-2zM9 17H7v-7h2v7zm4 0h-2V7h2v10zm4 0h-2v-4h2v4z\"/>\n",
              "    </g>\n",
              "</svg>\n",
              "  </button>\n",
              "\n",
              "<style>\n",
              "  .colab-df-quickchart {\n",
              "      --bg-color: #E8F0FE;\n",
              "      --fill-color: #1967D2;\n",
              "      --hover-bg-color: #E2EBFA;\n",
              "      --hover-fill-color: #174EA6;\n",
              "      --disabled-fill-color: #AAA;\n",
              "      --disabled-bg-color: #DDD;\n",
              "  }\n",
              "\n",
              "  [theme=dark] .colab-df-quickchart {\n",
              "      --bg-color: #3B4455;\n",
              "      --fill-color: #D2E3FC;\n",
              "      --hover-bg-color: #434B5C;\n",
              "      --hover-fill-color: #FFFFFF;\n",
              "      --disabled-bg-color: #3B4455;\n",
              "      --disabled-fill-color: #666;\n",
              "  }\n",
              "\n",
              "  .colab-df-quickchart {\n",
              "    background-color: var(--bg-color);\n",
              "    border: none;\n",
              "    border-radius: 50%;\n",
              "    cursor: pointer;\n",
              "    display: none;\n",
              "    fill: var(--fill-color);\n",
              "    height: 32px;\n",
              "    padding: 0;\n",
              "    width: 32px;\n",
              "  }\n",
              "\n",
              "  .colab-df-quickchart:hover {\n",
              "    background-color: var(--hover-bg-color);\n",
              "    box-shadow: 0 1px 2px rgba(60, 64, 67, 0.3), 0 1px 3px 1px rgba(60, 64, 67, 0.15);\n",
              "    fill: var(--button-hover-fill-color);\n",
              "  }\n",
              "\n",
              "  .colab-df-quickchart-complete:disabled,\n",
              "  .colab-df-quickchart-complete:disabled:hover {\n",
              "    background-color: var(--disabled-bg-color);\n",
              "    fill: var(--disabled-fill-color);\n",
              "    box-shadow: none;\n",
              "  }\n",
              "\n",
              "  .colab-df-spinner {\n",
              "    border: 2px solid var(--fill-color);\n",
              "    border-color: transparent;\n",
              "    border-bottom-color: var(--fill-color);\n",
              "    animation:\n",
              "      spin 1s steps(1) infinite;\n",
              "  }\n",
              "\n",
              "  @keyframes spin {\n",
              "    0% {\n",
              "      border-color: transparent;\n",
              "      border-bottom-color: var(--fill-color);\n",
              "      border-left-color: var(--fill-color);\n",
              "    }\n",
              "    20% {\n",
              "      border-color: transparent;\n",
              "      border-left-color: var(--fill-color);\n",
              "      border-top-color: var(--fill-color);\n",
              "    }\n",
              "    30% {\n",
              "      border-color: transparent;\n",
              "      border-left-color: var(--fill-color);\n",
              "      border-top-color: var(--fill-color);\n",
              "      border-right-color: var(--fill-color);\n",
              "    }\n",
              "    40% {\n",
              "      border-color: transparent;\n",
              "      border-right-color: var(--fill-color);\n",
              "      border-top-color: var(--fill-color);\n",
              "    }\n",
              "    60% {\n",
              "      border-color: transparent;\n",
              "      border-right-color: var(--fill-color);\n",
              "    }\n",
              "    80% {\n",
              "      border-color: transparent;\n",
              "      border-right-color: var(--fill-color);\n",
              "      border-bottom-color: var(--fill-color);\n",
              "    }\n",
              "    90% {\n",
              "      border-color: transparent;\n",
              "      border-bottom-color: var(--fill-color);\n",
              "    }\n",
              "  }\n",
              "</style>\n",
              "\n",
              "  <script>\n",
              "    async function quickchart(key) {\n",
              "      const quickchartButtonEl =\n",
              "        document.querySelector('#' + key + ' button');\n",
              "      quickchartButtonEl.disabled = true;  // To prevent multiple clicks.\n",
              "      quickchartButtonEl.classList.add('colab-df-spinner');\n",
              "      try {\n",
              "        const charts = await google.colab.kernel.invokeFunction(\n",
              "            'suggestCharts', [key], {});\n",
              "      } catch (error) {\n",
              "        console.error('Error during call to suggestCharts:', error);\n",
              "      }\n",
              "      quickchartButtonEl.classList.remove('colab-df-spinner');\n",
              "      quickchartButtonEl.classList.add('colab-df-quickchart-complete');\n",
              "    }\n",
              "    (() => {\n",
              "      let quickchartButtonEl =\n",
              "        document.querySelector('#df-ceea3b58-809a-4db5-bd86-0d6494ebd004 button');\n",
              "      quickchartButtonEl.style.display =\n",
              "        google.colab.kernel.accessAllowed ? 'block' : 'none';\n",
              "    })();\n",
              "  </script>\n",
              "</div>\n",
              "    </div>\n",
              "  </div>\n"
            ],
            "application/vnd.google.colaboratory.intrinsic+json": {
              "type": "dataframe",
              "variable_name": "df_trigram",
              "summary": "{\n  \"name\": \"df_trigram\",\n  \"rows\": 18848,\n  \"fields\": [\n    {\n      \"column\": \"Correct Sentence\",\n      \"properties\": {\n        \"dtype\": \"object\",\n        \"semantic_type\": \"\",\n        \"description\": \"\"\n      }\n    },\n    {\n      \"column\": \"Log Probability Correct\",\n      \"properties\": {\n        \"dtype\": \"number\",\n        \"std\": 243.2283391553673,\n        \"min\": -5234.704360735206,\n        \"max\": 2.356764998024952,\n        \"num_unique_values\": 18170,\n        \"samples\": [\n          -265.2221003752514,\n          -81.52401447371459,\n          -39.317996189316105\n        ],\n        \"semantic_type\": \"\",\n        \"description\": \"\"\n      }\n    }\n  ]\n}"
            }
          },
          "metadata": {},
          "execution_count": 30
        }
      ]
    },
    {
      "cell_type": "markdown",
      "source": [
        "## Bigram model"
      ],
      "metadata": {
        "id": "aGko3zATfC7X"
      },
      "id": "aGko3zATfC7X"
    },
    {
      "cell_type": "code",
      "source": [
        "test_sequence = []\n",
        "for sent in test_corpus:\n",
        "    test_sequence += ['<start>']  + sent + ['<end>']\n",
        "\n",
        "sum_prob = 0\n",
        "bigram_cnt = 0\n",
        "for idx in range(1,len(test_sequence)):\n",
        "    if test_sequence[idx] != '<start>':\n",
        "        bigram_prob = calc_bi_prob(word1=test_sequence[idx-1], word2=test_sequence[idx], alpha=best_alpha_bi, bigram_counter=bigram_counter, unigram_counter=unigram_counter, vocabulary_length=vocabulary_length)\n",
        "        sum_prob += math.log2(bigram_prob)\n",
        "        bigram_cnt+=1\n",
        "\n",
        "HC = -sum_prob / bigram_cnt\n",
        "perpl = math.pow(2,HC)\n",
        "#print(sum_prob)\n",
        "#print(bigram_cnt)\n",
        "print(\"Language Cross Entropy: {0:.3f}\".format(HC))\n",
        "print(\"Language Perplexity: {0:.3f}\".format(perpl))"
      ],
      "metadata": {
        "colab": {
          "base_uri": "https://localhost:8080/"
        },
        "id": "Tws0ZQUZelQI",
        "outputId": "aa9f5b9d-3fb4-47fd-fa76-23d46cc54220"
      },
      "id": "Tws0ZQUZelQI",
      "execution_count": null,
      "outputs": [
        {
          "output_type": "stream",
          "name": "stdout",
          "text": [
            "Language Cross Entropy: 8.506\n",
            "Language Perplexity: 363.611\n"
          ]
        }
      ]
    },
    {
      "cell_type": "markdown",
      "source": [
        "## Trigram model"
      ],
      "metadata": {
        "id": "e_DwC1p5fMbE"
      },
      "id": "e_DwC1p5fMbE"
    },
    {
      "cell_type": "code",
      "source": [
        "test_sequence = []\n",
        "for sent in test_corpus:\n",
        "    test_sequence += ['<start>', '<start>']  + sent + ['<end>', '<end>']\n",
        "\n",
        "sum_prob = 0\n",
        "trigram_cnt = 0\n",
        "for idx in range(2,len(test_sequence)):\n",
        "    if test_sequence[idx] != '<start>':\n",
        "        trigram_prob = calc_tri_prob(word1=test_sequence[idx-2], word2=test_sequence[idx-1], word3=test_sequence[idx], alpha=best_alpha_tri, trigram_counter=trigram_counter, bigram_counter=bigram_counter, vocabulary_length=vocabulary_length)\n",
        "        sum_prob += math.log2(trigram_prob)\n",
        "        trigram_cnt+=1\n",
        "\n",
        "HC = -sum_prob / trigram_cnt\n",
        "perpl = math.pow(2,HC)\n",
        "#print(sum_prob)\n",
        "#print(trigram_cnt)\n",
        "print(\"Language Cross Entropy: {0:.3f}\".format(HC))\n",
        "print(\"Language Perplexity: {0:.3f}\".format(perpl))"
      ],
      "metadata": {
        "colab": {
          "base_uri": "https://localhost:8080/"
        },
        "id": "TMhVWs2-fKdE",
        "outputId": "543b91b0-7b6c-490d-f25f-f8c02d50fdba"
      },
      "id": "TMhVWs2-fKdE",
      "execution_count": null,
      "outputs": [
        {
          "output_type": "stream",
          "name": "stdout",
          "text": [
            "Language Cross Entropy: 9.519\n",
            "Language Perplexity: 733.755\n"
          ]
        }
      ]
    },
    {
      "cell_type": "markdown",
      "source": [
        "# (iii) Language models testing"
      ],
      "metadata": {
        "id": "q57nHGHWfYbY"
      },
      "id": "q57nHGHWfYbY"
    },
    {
      "cell_type": "markdown",
      "source": [
        "# Write some code to show how your bigram and trigram language models can autocomplete an incomplete sentence.\n",
        "\n",
        "* **Create Autocomplete Functions:** Make two functions—one for bigram-based and one for trigram-based language models—that can finish sentences based on what comes before.\n",
        "* **Compare Probabilities:** Look at the probabilities each model assigns to different words for a given incomplete sentence. This will help us understand how well each model predicts the next word.\n",
        "* **Finish the Word:** Use the trained language models to suggest what word might come next in an unfinished sentence. This way, we can see how each model predicts the rest of the sentence.\n",
        "* **Show Results:** Display the original sentence alongside the suggestions made by both the bigram and trigram models. This will help us see which model gives more accurate suggestions and how they differ."
      ],
      "metadata": {
        "id": "h9lC8K91scr0"
      },
      "id": "h9lC8K91scr0"
    },
    {
      "cell_type": "code",
      "source": [
        "def bigram_autocomplete(prefix):\n",
        "\n",
        "    sentence = prefix\n",
        "\n",
        "    prefix_tokens = prefix.split()\n",
        "    cnt=0 # 10 max iterations\n",
        "    most_probable_word = None\n",
        "    while (most_probable_word not in ['.','<end>'] and cnt<1): #cnt=1 to pedict the next word and, it stops when it finds '.','<end>'\n",
        "\n",
        "        w = prefix_tokens[-1]\n",
        "\n",
        "        most_probable_word = None\n",
        "        max_probability = 0\n",
        "\n",
        "        for bigram, prob in list(bigram_probabilities.items()):\n",
        "            if bigram[0].lower() == w.lower():\n",
        "                next_word = bigram[1]\n",
        "                if prob > max_probability:\n",
        "                    most_probable_word = next_word\n",
        "                    max_probability = prob\n",
        "\n",
        "\n",
        "        if most_probable_word:\n",
        "\n",
        "            sentence += \" \" + most_probable_word\n",
        "            if most_probable_word in ['.','<end>']:\n",
        "                break\n",
        "            prefix_tokens.append(most_probable_word)\n",
        "        else:\n",
        "            break  # If no probable word found, break the loop\n",
        "        cnt+=1\n",
        "    return sentence"
      ],
      "metadata": {
        "id": "WVpG3ejufPly"
      },
      "id": "WVpG3ejufPly",
      "execution_count": null,
      "outputs": []
    },
    {
      "cell_type": "code",
      "source": [
        "def trigram_autocomplete(prefix):\n",
        "    sentence = prefix\n",
        "\n",
        "\n",
        "    prefix_tokens = prefix.split()\n",
        "\n",
        "\n",
        "    cnt=0 # 10 max iterations\n",
        "    most_probable_word = None\n",
        "    while (most_probable_word not in ['.','<end>'] and cnt<1): #cnt=1 to pedict the next word and, it stops when it finds '.','<end>'\n",
        "\n",
        "        w1, w2 = prefix_tokens[-2:]\n",
        "\n",
        "\n",
        "        most_probable_word = None\n",
        "        max_probability = 0\n",
        "\n",
        "\n",
        "        for trigram, prob in list(trigram_probabilities.items()):\n",
        "\n",
        "            if trigram[:2] == (w1.lower(), w2.lower()):\n",
        "\n",
        "                next_word = trigram[2]\n",
        "\n",
        "                if prob > max_probability:\n",
        "                  most_probable_word = next_word\n",
        "                  max_probability = prob\n",
        "\n",
        "\n",
        "        if most_probable_word:\n",
        "\n",
        "            sentence += \" \" + most_probable_word\n",
        "\n",
        "            if most_probable_word in ['.','<end>']:\n",
        "                break\n",
        "\n",
        "            prefix_tokens.append(most_probable_word)\n",
        "        else:\n",
        "            break\n",
        "        cnt+=1\n",
        "\n",
        "    return sentence"
      ],
      "metadata": {
        "id": "LXbSjkBsHpy8"
      },
      "id": "LXbSjkBsHpy8",
      "execution_count": null,
      "outputs": []
    },
    {
      "cell_type": "code",
      "source": [
        "prefix = \"make sure\"\n",
        "print('Bigram: ',bigram_autocomplete(prefix))\n",
        "print('Trigram: ',trigram_autocomplete(prefix))"
      ],
      "metadata": {
        "id": "i9RmYuwmHtRM",
        "outputId": "09e1a217-4139-402e-d364-c8895ffc6f2c",
        "colab": {
          "base_uri": "https://localhost:8080/"
        }
      },
      "id": "i9RmYuwmHtRM",
      "execution_count": null,
      "outputs": [
        {
          "output_type": "stream",
          "name": "stdout",
          "text": [
            "Bigram:  make sure i\n",
            "Trigram:  make sure that\n"
          ]
        }
      ]
    },
    {
      "cell_type": "code",
      "source": [
        "prefix = \"believe it or\"\n",
        "print('Bigram: ',bigram_autocomplete(prefix))\n",
        "print('Trigram: ',trigram_autocomplete(prefix))"
      ],
      "metadata": {
        "colab": {
          "base_uri": "https://localhost:8080/"
        },
        "id": "Mv7fFk1XtmnG",
        "outputId": "ad2c9763-c463-448c-b047-e3fbeb6776cd"
      },
      "id": "Mv7fFk1XtmnG",
      "execution_count": null,
      "outputs": [
        {
          "output_type": "stream",
          "name": "stdout",
          "text": [
            "Bigram:  believe it or the\n",
            "Trigram:  believe it or not\n"
          ]
        }
      ]
    },
    {
      "cell_type": "code",
      "source": [
        "prefix = \"i would like\"\n",
        "print('Bigram: ',bigram_autocomplete(prefix))\n",
        "print('Trigram: ',trigram_autocomplete(prefix))"
      ],
      "metadata": {
        "colab": {
          "base_uri": "https://localhost:8080/"
        },
        "id": "wFeaIK_DtsDl",
        "outputId": "72a86683-c421-4859-822c-3f3c6eb34d41"
      },
      "id": "wFeaIK_DtsDl",
      "execution_count": null,
      "outputs": [
        {
          "output_type": "stream",
          "name": "stdout",
          "text": [
            "Bigram:  i would like a\n",
            "Trigram:  i would like to\n"
          ]
        }
      ]
    },
    {
      "cell_type": "code",
      "source": [
        "prefix = \"Try not to\"\n",
        "print('Bigram: ',bigram_autocomplete(prefix))\n",
        "print('Trigram: ',trigram_autocomplete(prefix))"
      ],
      "metadata": {
        "colab": {
          "base_uri": "https://localhost:8080/"
        },
        "id": "CHN76KUstv_A",
        "outputId": "586f09a1-7ff7-48a6-fd11-93eb844303d5"
      },
      "id": "CHN76KUstv_A",
      "execution_count": null,
      "outputs": [
        {
          "output_type": "stream",
          "name": "stdout",
          "text": [
            "Bigram:  Try not to the\n",
            "Trigram:  Try not to be\n"
          ]
        }
      ]
    },
    {
      "cell_type": "markdown",
      "source": [
        "# iv) Develop a context-aware spelling corrector\n",
        "\n",
        "**Process:**\n",
        "\n",
        "We utilize both bigram and trigram language models along with a beam search decoder to correct misspelled words in a sentence. The spelling correction probability 𝑃(𝑤𝑖 ∣ 𝑡𝑖) is modeled inversely by the Levenshtein distance between the misspelled word 𝑤𝑖 and the candidate correction 𝑡𝑖.\n",
        "\n",
        "**Key Components:**\n",
        "\n",
        "***Levenshtein Distance Function:***\n",
        "This function computes the *Levenshtein distance* between two words, which quantifies the minimum number of single-character edits (insertions, deletions, or substitutions) required to change one word into the other. The probability of correction is inversely proportional to this distance.\n",
        "\n",
        "**Beam Search Correction Algorithm:**\n",
        "\n",
        "Initialization: Start with a beam containing the start token.\n",
        "\n",
        "* **Expansion:** For each token in the input, generate candidate corrections from the vocabulary that have a non-trivial Levenshtein probability with the current token.\n",
        "* **Scoring:** Calculate the combined score for each candidate using both the language model probability (from bigrams or trigrams) and the spelling correction probability.\n",
        "* **Selection:** Retain the top scoring candidates as per the beam size constraint.\n",
        "* **Parameter Tuning:**\n",
        "The importance of the language model score logP(t1​) versus the spelling correction score log⁡𝑃(𝑤1∣𝑡1) can be adjusted using the hyperparameters 𝜆1 and 𝜆2. We think that log⁡𝑃(𝑤1∣𝑡1) is more important because the algorithm must understand a sentence and not an individual word. As a result we set   λ2=0.8 and λ1=0.2\n",
        "* **Execution:**\n",
        "The provided Python function beam_search_correction accepts an input sentence, tokenizes it, and processes it through the beam search algorithm using either bigram or trigram models. The final output is a corrected version of the input sentence."
      ],
      "metadata": {
        "id": "neVu4CxaT992"
      },
      "id": "neVu4CxaT992"
    },
    {
      "cell_type": "code",
      "source": [
        "!pip install Levenshtein"
      ],
      "metadata": {
        "id": "pH4Gkn2YPwbQ",
        "colab": {
          "base_uri": "https://localhost:8080/"
        },
        "outputId": "1983aab1-6652-4312-f14e-9bb33a52b29b"
      },
      "id": "pH4Gkn2YPwbQ",
      "execution_count": null,
      "outputs": [
        {
          "output_type": "stream",
          "name": "stdout",
          "text": [
            "Collecting Levenshtein\n",
            "  Downloading Levenshtein-0.25.1-cp310-cp310-manylinux_2_17_x86_64.manylinux2014_x86_64.whl (177 kB)\n",
            "\u001b[2K     \u001b[90m━━━━━━━━━━━━━━━━━━━━━━━━━━━━━━━━━━━━━━━━\u001b[0m \u001b[32m177.4/177.4 kB\u001b[0m \u001b[31m3.9 MB/s\u001b[0m eta \u001b[36m0:00:00\u001b[0m\n",
            "\u001b[?25hCollecting rapidfuzz<4.0.0,>=3.8.0 (from Levenshtein)\n",
            "  Downloading rapidfuzz-3.8.1-cp310-cp310-manylinux_2_17_x86_64.manylinux2014_x86_64.whl (3.4 MB)\n",
            "\u001b[2K     \u001b[90m━━━━━━━━━━━━━━━━━━━━━━━━━━━━━━━━━━━━━━━━\u001b[0m \u001b[32m3.4/3.4 MB\u001b[0m \u001b[31m13.6 MB/s\u001b[0m eta \u001b[36m0:00:00\u001b[0m\n",
            "\u001b[?25hInstalling collected packages: rapidfuzz, Levenshtein\n",
            "Successfully installed Levenshtein-0.25.1 rapidfuzz-3.8.1\n"
          ]
        }
      ]
    },
    {
      "cell_type": "code",
      "source": [
        "from Levenshtein import distance as levenshtein_distance\n",
        "\n",
        "def levenshtein_prob(w1, t1):\n",
        "    ld = levenshtein_distance(w1, t1)\n",
        "    return 1 / (ld + 1)"
      ],
      "metadata": {
        "id": "7akTzTbJP5_h"
      },
      "id": "7akTzTbJP5_h",
      "execution_count": null,
      "outputs": []
    },
    {
      "cell_type": "code",
      "source": [
        "def beam_search_correction(input_tokens, beam_size=3, use_trigrams=False, lambda1=0.2, lambda2=0.8):\n",
        "    beams = [(0, ['<start>'])]\n",
        "    for token in input_tokens:\n",
        "        new_beams = []\n",
        "        for score, path in beams:\n",
        "\n",
        "            candidates = [v for v in vocabulary if levenshtein_prob(token, v) > 0.23]\n",
        "\n",
        "            for candidate in candidates:\n",
        "                if use_trigrams and len(path) >= 2:\n",
        "                    context = (path[-2], path[-1], candidate)\n",
        "                    if context in trigram_probabilities:\n",
        "                        prob_t1 = trigram_probabilities[context]\n",
        "                    else:\n",
        "                        prob_t1 = 0.000001\n",
        "                else:\n",
        "                    context = (path[-1], candidate)\n",
        "                    if context in bigram_probabilities:\n",
        "                        prob_t1 = bigram_probabilities[context]\n",
        "                    else:\n",
        "                        prob_t1 = 0.000001\n",
        "\n",
        "\n",
        "                prob_w1_t1 = levenshtein_prob(token, candidate)\n",
        "\n",
        "                candidate_score = score + lambda1 * np.log(prob_t1) + lambda2 * np.log(prob_w1_t1)\n",
        "                new_beams.append((candidate_score, path + [candidate]))\n",
        "\n",
        "\n",
        "        beams = sorted(new_beams, key=lambda x: x[0], reverse=True)[:beam_size]\n",
        "\n",
        "    return max(beams, key=lambda x: x[0])[1][1:]\n"
      ],
      "metadata": {
        "id": "kA-oQQm8P7Vm"
      },
      "id": "kA-oQQm8P7Vm",
      "execution_count": null,
      "outputs": []
    },
    {
      "cell_type": "code",
      "source": [
        "input_sentence = \"have not i some rigUv to Iokplain\"\n",
        "input = nltk.word_tokenize(input_sentence.lower())\n",
        "print(\"Input Sentence:\", \" \".join(input))\n",
        "corrected_sentence = beam_search_correction(input, beam_size=5, use_trigrams=False)\n",
        "print(\"Corrected Sentence with Bigrams:\", \" \".join(corrected_sentence))\n",
        "corrected_sentence = beam_search_correction(input, beam_size=5, use_trigrams=True)\n",
        "print(\"Corrected Sentence with Trigrams:\", \" \".join(corrected_sentence))"
      ],
      "metadata": {
        "id": "tv6e4fh7QR6W",
        "outputId": "e1399126-e0ad-4517-fbaf-86046a5a9b15",
        "colab": {
          "base_uri": "https://localhost:8080/"
        }
      },
      "id": "tv6e4fh7QR6W",
      "execution_count": null,
      "outputs": [
        {
          "output_type": "stream",
          "name": "stdout",
          "text": [
            "Input Sentence: have not i some riguv to iokplain\n",
            "Corrected Sentence with Bigrams: have not i come nigh to complain\n",
            "Corrected Sentence with Trigrams: have not i am right is complain\n"
          ]
        }
      ]
    },
    {
      "cell_type": "markdown",
      "source": [
        "**Analysis:**\n",
        "\n",
        "**Corrected Sentence with Bigrams:**\n",
        "* The phrase \"come nigh to\" suggests that the bigram model struggled with contextual appropriateness. The model likely inferred these words based on local adjacency probabilities from its training on bigrams without a broader understanding of context, leading to semantically incorrect suggestions.\n",
        "\n",
        "* The model successfully corrected \"iokplain\" to \"complain\", demonstrating effective spelling correction for that word based on likely bigram sequences.\n",
        "\n",
        "**Corrected Sentence with Trigrams:**\n",
        "* The introduction of the words \"am\" and \"is\" indicates a limitation in the trigram model’s ability to maintain grammatical structure in the presence of initial spelling errors. This suggests that the trigram context was not sufficient to override the erroneous outputs or that the error severely affected the trigram probabilities.\n",
        "\n",
        "* The word \"right\" as a correction for \"riguv\" could reflect a plausible phonetic or partial spelling match in the model, showing a successful correction attempt. However, it’s contextually inappropriate in this sentence.\n",
        "General Observations:\n",
        "\n"
      ],
      "metadata": {
        "id": "1QXkAhR4zyhZ"
      },
      "id": "1QXkAhR4zyhZ"
    },
    {
      "cell_type": "markdown",
      "source": [
        "# V) Artificial test dataset\n",
        "* Creates a function that takes a sentence and changes some letters."
      ],
      "metadata": {
        "id": "Cjj2ynjmuHfh"
      },
      "id": "Cjj2ynjmuHfh"
    },
    {
      "cell_type": "code",
      "source": [
        "import random\n",
        "import re\n",
        "\n",
        "def replace_letters(sentence):\n",
        "    #words = sentence.split()\n",
        "    words = nltk.word_tokenize(sentence)\n",
        "    new_sentence = []\n",
        "\n",
        "    for word in words:\n",
        "        if len(word) > 4:\n",
        "            indices = random.sample(range(len(word)), 2)\n",
        "            new_word = list(word)\n",
        "            for index in indices:\n",
        "                new_word[index] = random.choice([chr(i) for i in range(65, 91)] + [chr(i) for i in range(97, 123)])\n",
        "            new_sentence.append(''.join(new_word))\n",
        "        else:\n",
        "            new_sentence.append(word)\n",
        "\n",
        "    return ' '.join(new_sentence)"
      ],
      "metadata": {
        "id": "5BpARVSoZ1mV"
      },
      "id": "5BpARVSoZ1mV",
      "execution_count": null,
      "outputs": []
    },
    {
      "cell_type": "code",
      "source": [
        "true_test_set = []\n",
        "fake_test_set = []\n",
        "\n",
        "for i in range(30):\n",
        "    true_test_set.append(' '.join(test_corpus[i][:]))\n",
        "    fake_test_set.append(replace_letters(true_test_set[i]))"
      ],
      "metadata": {
        "id": "BsM7hd5uZ6kb"
      },
      "id": "BsM7hd5uZ6kb",
      "execution_count": null,
      "outputs": []
    },
    {
      "cell_type": "code",
      "source": [
        "print(true_test_set[10])\n",
        "print(fake_test_set[10])"
      ],
      "metadata": {
        "id": "1ihBnNHkaAeg",
        "outputId": "0cbeee58-83b4-4faa-e012-8e44ed42b523",
        "colab": {
          "base_uri": "https://localhost:8080/"
        }
      },
      "id": "1ihBnNHkaAeg",
      "execution_count": null,
      "outputs": [
        {
          "output_type": "stream",
          "name": "stdout",
          "text": [
            "it s very very seldom a man is quite alone\n",
            "it s very very seldKV a man is qUiIe almnK\n"
          ]
        }
      ]
    },
    {
      "cell_type": "code",
      "source": [
        "test_data_evaluation_bigram = []\n",
        "test_data_evaluation_trigram = []"
      ],
      "metadata": {
        "id": "0pQFNHbHQ-eK"
      },
      "id": "0pQFNHbHQ-eK",
      "execution_count": null,
      "outputs": []
    },
    {
      "cell_type": "code",
      "source": [
        "length = len(true_test_set)\n",
        "\n",
        "for i in range(4):\n",
        "\n",
        "  print('True sentence: ', true_test_set[i])\n",
        "  original = nltk.word_tokenize(true_test_set[i].lower())\n",
        "  print('Fake sentence: ', fake_test_set[i])\n",
        "  fake = nltk.word_tokenize(fake_test_set[i].lower())\n",
        "  print('----------Use Bigrams----------')\n",
        "  corrected_sentence = beam_search_correction(fake, beam_size=5, use_trigrams=False)\n",
        "  test_data_evaluation_bigram.append((original, corrected_sentence))\n",
        "  print('Corrected Sentence with bigrams: ', \" \".join(corrected_sentence))\n",
        "  print('----------Use Trigrams----------')\n",
        "  corrected_sentence = beam_search_correction(fake, beam_size=5, use_trigrams=True)\n",
        "  test_data_evaluation_trigram.append((original, corrected_sentence))\n",
        "  print('Corrected Sentence with trigrams: ', \" \".join(corrected_sentence))\n",
        "  print('-------END OF ITERATION--------')"
      ],
      "metadata": {
        "colab": {
          "base_uri": "https://localhost:8080/"
        },
        "id": "2brp7xU_5sqv",
        "outputId": "b87fdd18-d3e1-4fc6-dc85-5d25ba26e755"
      },
      "id": "2brp7xU_5sqv",
      "execution_count": null,
      "outputs": [
        {
          "output_type": "stream",
          "name": "stdout",
          "text": [
            "True sentence:  have not i some right to complain\n",
            "Fake sentence:  have not i some rigmQ to bomplaiE\n",
            "----------Use Bigrams----------\n",
            "Corrected Sentence with bigrams:  have not in some time to complain\n",
            "----------Use Trigrams----------\n",
            "Corrected Sentence with trigrams:  have not i see him so complain\n",
            "-------END OF ITERATION--------\n",
            "True sentence:  132 i told you before and UNK you as if i were present the second time and being absent now i write to them which UNK have sinned and to all other that if i come again i will not spare 133 since ye seek a proof of christ speaking in me which to UNK is not weak but is mighty in you\n",
            "Fake sentence:  132 i told you bbforv and UNK you as if i were pTwsent the srcoVd time and bEeng abaeBt now i wUjte to them QhiSh UNK have sinrxd and to all ogaer that if i come EgaNn i will not spaGc 133 sikae ye seek a pXXof of nhIist speawiag in me wheGh to UNK is not weak but is NigKty in you\n",
            "----------Use Bigrams----------\n",
            "Corrected Sentence with bigrams:  and i told you before and in you as if i were present the second time and when ahab now i want to them which he have sinned and to all her that if i come and i will not speak to say ye seek a proof of his special in me where to be as not weak but is right in you\n",
            "----------Use Trigrams----------\n",
            "Corrected Sentence with trigrams:  and i told you before and for you as it is the present the second time to be able to go out to them which is the sword and to all her heart i will come and i will not said the duke he s a proof of his shewing unto me where you are in the way but it might not you\n",
            "-------END OF ITERATION--------\n",
            "True sentence:  UNK therefore thus saith the lord behold i will give this city into the hand of the chaldeans and into the hand of nebuchadrezzar king of babylon and he shall take it UNK and the chaldeans that fight against this city shall come and set fire on this city and burn it with the houses upon whose UNK they have offered incense unto baal and poured out drink offerings unto other gods to provoke me to anger\n",
            "Fake sentence:  UNK thereRora thus saiah the lord nehord i will give this city into the hand of the cGbldeans and into the hand of nBbuchadhezzar king of babylGA and he shayU take it UNK and the chVldeals that fewht agasnCt this city shaft come and set fire on this city and burn it with the houwHs upon wYode UNK they have opfeFed incenRh unto baal and pTurvd out nrinO offerinix unto othbi gods to pruvoke me to aniEr\n",
            "----------Use Bigrams----------\n",
            "Corrected Sentence with bigrams:  and therefore thus saith the lord behold i will give this city into the hand of the chaldeans and into the hand of nebuchadrezzar king of babylon and he shall take it was and the chaldeans that went against this city shall come and set fire on this city and burn it with the house upon you and they have opened incense unto baal and turned out in offering unto the gods to provoke me to anger\n",
            "----------Use Trigrams----------\n",
            "Corrected Sentence with trigrams:  and therefore thus saith the lord behold i will give this city into the hand of the chaldeans and into the hand of nebuchadrezzar king of babylon and he shall take it up and the chaldeans that fight against this city shall go and get thee to this city and put it into the house of god and they shall feed incense unto baal and poured out drink offerings unto other gods to provoke me to anger\n",
            "-------END OF ITERATION--------\n",
            "True sentence:  nor in UNK does this wondrous brow UNK though that way UNK its grandeur does not UNK upon you so\n",
            "Fake sentence:  nor in UNK does this hondrods brow UNK PhNugh that way UNK its grandBuG does not UNK upon you so\n",
            "----------Use Bigrams----------\n",
            "Corrected Sentence with bigrams:  nor in the lord thy wondrous or any thought that way of the grand is not be upon you so\n",
            "----------Use Trigrams----------\n",
            "Corrected Sentence with trigrams:  nor in any of this wondrous brow sunk plough that i am the grandeur of the land of the lord\n",
            "-------END OF ITERATION--------\n"
          ]
        }
      ]
    },
    {
      "cell_type": "markdown",
      "source": [],
      "metadata": {
        "id": "kyW-gQhJugbB"
      },
      "id": "kyW-gQhJugbB"
    },
    {
      "cell_type": "markdown",
      "source": [],
      "metadata": {
        "id": "qWmiUsxSuh9J"
      },
      "id": "qWmiUsxSuh9J"
    },
    {
      "cell_type": "markdown",
      "source": [
        "## (vi)  Evaluate your context-aware spelling corrector\n",
        "\n",
        "**Initialization**\n",
        "\n",
        "* **Input:** corrector_function — a callable that takes a sentence as input and returns the corrected version.\n",
        "* **Process:** During initialization, the class loads the WER and CER metrics using load_metric('wer') and load_metric('cer') from the Hugging Face datasets library.\n",
        "* **Stored Metrics:** The loaded metrics are stored as instance variables, which will be utilized in the evaluation method.\n",
        "\n",
        "**Evaluation Method**\n",
        "\n",
        "* **Input:** test_data — a list of tuples, where each tuple contains an original list of tokens (correctly spelled sentence) and a noised list of tokens (sentence with spelling errors).\n",
        "* **Process:**\n",
        "  1. Prediction and Reference Preparation: Iterates over each tuple in test_data. For each tuple, it:\n",
        "    * Joins the tokens of the noised sentence and passes this string to the corrector_function to obtain the corrected sentence.\n",
        "    * Joins the tokens of the original sentence to use as the reference.\n",
        "    * Appends the corrected and original sentences to predictions and references lists, respectively, if the original is not empty.\n",
        "  2. Metric Calculation: Uses the stored metric functions to compute WER and CER, comparing each corrected sentence to its corresponding original sentence.\n",
        "* **Output:** Returns the calculated WER and CER scores, representing the average error rates across all test sentences."
      ],
      "metadata": {
        "id": "3F0yWOGfO-6J"
      },
      "id": "3F0yWOGfO-6J"
    },
    {
      "cell_type": "code",
      "source": [
        "!pip install jiwer"
      ],
      "metadata": {
        "colab": {
          "base_uri": "https://localhost:8080/"
        },
        "id": "2_D44tpoPSUB",
        "outputId": "89d63412-88fa-431e-fd66-5624b852a329"
      },
      "id": "2_D44tpoPSUB",
      "execution_count": null,
      "outputs": [
        {
          "output_type": "stream",
          "name": "stdout",
          "text": [
            "Requirement already satisfied: jiwer in /usr/local/lib/python3.10/dist-packages (3.0.3)\n",
            "Requirement already satisfied: click<9.0.0,>=8.1.3 in /usr/local/lib/python3.10/dist-packages (from jiwer) (8.1.7)\n",
            "Requirement already satisfied: rapidfuzz<4,>=3 in /usr/local/lib/python3.10/dist-packages (from jiwer) (3.8.1)\n"
          ]
        }
      ]
    },
    {
      "cell_type": "code",
      "source": [
        "from datasets import load_metric"
      ],
      "metadata": {
        "id": "zoZjThJoPF8k"
      },
      "id": "zoZjThJoPF8k",
      "execution_count": null,
      "outputs": []
    },
    {
      "cell_type": "code",
      "source": [
        "class SpellingCorrectorEvaluator:\n",
        "    def __init__(self, corrector_function):\n",
        "        \"\"\"\n",
        "        Initializes the evaluator with a spelling corrector function.\n",
        "\n",
        "        Args:\n",
        "            corrector_function (callable): A function that takes a sentence as input and returns the corrected sentence.\n",
        "        \"\"\"\n",
        "        self.corrector_function = corrector_function\n",
        "        # Load WER and CER metrics from the Hugging Face datasets library\n",
        "        self.wer_metric = load_metric('wer')\n",
        "        self.cer_metric = load_metric('cer')\n",
        "\n",
        "    def evaluate(self, test_data):\n",
        "        \"\"\"\n",
        "        Evaluates the spelling corrector on test data.\n",
        "\n",
        "        Args:\n",
        "            test_data (list of tuples): A list where each tuple contains the original and noised version of a sentence.\n",
        "\n",
        "        Returns:\n",
        "            tuple: A tuple containing the average WER and average CER.\n",
        "        \"\"\"\n",
        "        references = []\n",
        "        predictions = []\n",
        "\n",
        "        # Generate predictions and store original and predicted sentences\n",
        "        for original, noised in test_data:\n",
        "            corrected = self.corrector_function(' '.join(noised))\n",
        "            if ' '.join(original) != '':  # Ensure non-empty original sentences\n",
        "                references.append(' '.join(original))\n",
        "                predictions.append(corrected)\n",
        "\n",
        "        # Compute WER and CER using the loaded metrics\n",
        "        wer_score = self.wer_metric.compute(predictions=predictions, references=references)\n",
        "        cer_score = self.cer_metric.compute(predictions=predictions, references=references)\n",
        "\n",
        "        return wer_score, cer_score\n",
        "\n",
        "# E.g. this shoudl come from iv, v\n",
        "def example_spelling_corrector(sentence):\n",
        "    # Assume this function corrects the sentence\n",
        "    # Placeholder: returns the input as output\n",
        "    return sentence\n",
        "\n",
        "# Test_data is available in the format [(original_tokens, noised_tokens), ...]\n",
        "# test_data = [\n",
        "#     ([\"This\", \"is\", \"an\", \"example\", \"sentence\"], [\"Tihs\", \"is\", \"an\", \"exmaple\", \"sntence\"]),\n",
        "#     ([\"The\", \"quick\", \"brown\", \"fox\"], [\"The\", \"quick\", \"brwn\", \"fx\"]),\n",
        "# ]\n",
        "\n",
        "# # Create an evaluator instance\n",
        "# evaluator = SpellingCorrectorEvaluator(example_spelling_corrector)\n",
        "\n",
        "# # Perform evaluation\n",
        "# average_wer, average_cer = evaluator.evaluate(test_data)\n",
        "\n",
        "# print(f\"Average Word Error Rate (WER): {average_wer:.2%}\")\n",
        "# print(f\"Average Character Error Rate (CER): {average_cer:.2%}\")"
      ],
      "metadata": {
        "id": "SgTSIX6AO-Yq"
      },
      "id": "SgTSIX6AO-Yq",
      "execution_count": null,
      "outputs": []
    },
    {
      "cell_type": "code",
      "source": [
        "evaluator = SpellingCorrectorEvaluator(example_spelling_corrector)\n",
        "\n",
        "# Perform evaluation\n",
        "average_wer, average_cer = evaluator.evaluate(test_data_evaluation_bigram)\n",
        "\n",
        "print(f\"Average Word Error Rate (WER) with Bigrams: {average_wer:.2%}\")\n",
        "print(f\"Average Character Error Rate (CER) with Bigrams: {average_cer:.2%}\")"
      ],
      "metadata": {
        "colab": {
          "base_uri": "https://localhost:8080/",
          "height": 320,
          "referenced_widgets": [
            "57107a8a231044fabbdde2a499011b05",
            "2af7f190c67343f0bebf39e7198c379e",
            "93dcbcb83f084960b6abee477ec50c1b",
            "39e5aa273303435d96d8e1cd35398ea1",
            "d282d5487e8144e3849da7c3588ca6eb",
            "0161728596ea43c08eabe4b9766e7d7d",
            "9cc33f0ecd6c4089833ec5e52ce04be0",
            "7d495a24f78945649578e76c9b3f9a19",
            "5ad36e1e2d5b44a2a5a51f72a40db896",
            "0c30251926c94c4b8a1044e92d15638a",
            "291987bff624408a8f0a941a5961f528",
            "f059fcbb32394649b476543add956134",
            "1f0c1feb79414a2faa109e876debdd1c",
            "2c5a88740c634703841c6b9a50faa62f",
            "c505b9e9dcc144bfb92fc4e640af9f5b",
            "243d0a02f5b140af8d1c6f8ad6597d84",
            "8aa98853696f43e496e4186efb54deb7",
            "c91f18ae7c1f4c7bb4d73618a1cce8c5",
            "44f701fd5f9646499c987ee7062b2f0d",
            "ccad47f0cedb45d4893ca44ea583b5be",
            "628662da81784c7cb76a278360645858",
            "b490ce8fce1047df994318cad42d9087"
          ]
        },
        "id": "I7P7fM62SQyl",
        "outputId": "80783591-d879-4941-ec29-76d3ad642e8f"
      },
      "id": "I7P7fM62SQyl",
      "execution_count": null,
      "outputs": [
        {
          "output_type": "stream",
          "name": "stderr",
          "text": [
            "<ipython-input-50-18ac4f3278f6>:11: FutureWarning: load_metric is deprecated and will be removed in the next major version of datasets. Use 'evaluate.load' instead, from the new library 🤗 Evaluate: https://huggingface.co/docs/evaluate\n",
            "  self.wer_metric = load_metric('wer')\n",
            "/usr/local/lib/python3.10/dist-packages/datasets/load.py:759: FutureWarning: The repository for wer contains custom code which must be executed to correctly load the metric. You can inspect the repository content at https://raw.githubusercontent.com/huggingface/datasets/2.19.0/metrics/wer/wer.py\n",
            "You can avoid this message in future by passing the argument `trust_remote_code=True`.\n",
            "Passing `trust_remote_code=True` will be mandatory to load this metric from the next major release of `datasets`.\n",
            "  warnings.warn(\n"
          ]
        },
        {
          "output_type": "display_data",
          "data": {
            "text/plain": [
              "Downloading builder script:   0%|          | 0.00/1.90k [00:00<?, ?B/s]"
            ],
            "application/vnd.jupyter.widget-view+json": {
              "version_major": 2,
              "version_minor": 0,
              "model_id": "57107a8a231044fabbdde2a499011b05"
            }
          },
          "metadata": {}
        },
        {
          "output_type": "stream",
          "name": "stderr",
          "text": [
            "/usr/local/lib/python3.10/dist-packages/datasets/load.py:759: FutureWarning: The repository for cer contains custom code which must be executed to correctly load the metric. You can inspect the repository content at https://raw.githubusercontent.com/huggingface/datasets/2.19.0/metrics/cer/cer.py\n",
            "You can avoid this message in future by passing the argument `trust_remote_code=True`.\n",
            "Passing `trust_remote_code=True` will be mandatory to load this metric from the next major release of `datasets`.\n",
            "  warnings.warn(\n"
          ]
        },
        {
          "output_type": "display_data",
          "data": {
            "text/plain": [
              "Downloading builder script:   0%|          | 0.00/2.16k [00:00<?, ?B/s]"
            ],
            "application/vnd.jupyter.widget-view+json": {
              "version_major": 2,
              "version_minor": 0,
              "model_id": "f059fcbb32394649b476543add956134"
            }
          },
          "metadata": {}
        },
        {
          "output_type": "stream",
          "name": "stdout",
          "text": [
            "Average Word Error Rate (WER) with Bigrams: 24.55%\n",
            "Average Character Error Rate (CER) with Bigrams: 14.02%\n"
          ]
        }
      ]
    },
    {
      "cell_type": "code",
      "source": [
        "evaluator = SpellingCorrectorEvaluator(example_spelling_corrector)\n",
        "\n",
        "# Perform evaluation\n",
        "average_wer, average_cer = evaluator.evaluate(test_data_evaluation_trigram)\n",
        "\n",
        "print(f\"Average Word Error Rate (WER) with Trigrams: {average_wer:.2%}\")\n",
        "print(f\"Average Character Error Rate (CER) with Trigrams: {average_cer:.2%}\")"
      ],
      "metadata": {
        "colab": {
          "base_uri": "https://localhost:8080/"
        },
        "id": "QbMQO7-BTAcb",
        "outputId": "db4d6f71-d51a-45de-ff4a-0ca166b43077"
      },
      "id": "QbMQO7-BTAcb",
      "execution_count": null,
      "outputs": [
        {
          "output_type": "stream",
          "name": "stderr",
          "text": [
            "/usr/local/lib/python3.10/dist-packages/datasets/load.py:759: FutureWarning: The repository for wer contains custom code which must be executed to correctly load the metric. You can inspect the repository content at https://raw.githubusercontent.com/huggingface/datasets/2.19.0/metrics/wer/wer.py\n",
            "You can avoid this message in future by passing the argument `trust_remote_code=True`.\n",
            "Passing `trust_remote_code=True` will be mandatory to load this metric from the next major release of `datasets`.\n",
            "  warnings.warn(\n",
            "/usr/local/lib/python3.10/dist-packages/datasets/load.py:759: FutureWarning: The repository for cer contains custom code which must be executed to correctly load the metric. You can inspect the repository content at https://raw.githubusercontent.com/huggingface/datasets/2.19.0/metrics/cer/cer.py\n",
            "You can avoid this message in future by passing the argument `trust_remote_code=True`.\n",
            "Passing `trust_remote_code=True` will be mandatory to load this metric from the next major release of `datasets`.\n",
            "  warnings.warn(\n"
          ]
        },
        {
          "output_type": "stream",
          "name": "stdout",
          "text": [
            "Average Word Error Rate (WER) with Trigrams: 39.52%\n",
            "Average Character Error Rate (CER) with Trigrams: 20.91%\n"
          ]
        }
      ]
    }
  ],
  "metadata": {
    "colab": {
      "provenance": []
    },
    "kernelspec": {
      "display_name": "Python 3 (ipykernel)",
      "language": "python",
      "name": "python3"
    },
    "language_info": {
      "codemirror_mode": {
        "name": "ipython",
        "version": 3
      },
      "file_extension": ".py",
      "mimetype": "text/x-python",
      "name": "python",
      "nbconvert_exporter": "python",
      "pygments_lexer": "ipython3",
      "version": "3.11.4"
    },
    "widgets": {
      "application/vnd.jupyter.widget-state+json": {
        "57107a8a231044fabbdde2a499011b05": {
          "model_module": "@jupyter-widgets/controls",
          "model_name": "HBoxModel",
          "model_module_version": "1.5.0",
          "state": {
            "_dom_classes": [],
            "_model_module": "@jupyter-widgets/controls",
            "_model_module_version": "1.5.0",
            "_model_name": "HBoxModel",
            "_view_count": null,
            "_view_module": "@jupyter-widgets/controls",
            "_view_module_version": "1.5.0",
            "_view_name": "HBoxView",
            "box_style": "",
            "children": [
              "IPY_MODEL_2af7f190c67343f0bebf39e7198c379e",
              "IPY_MODEL_93dcbcb83f084960b6abee477ec50c1b",
              "IPY_MODEL_39e5aa273303435d96d8e1cd35398ea1"
            ],
            "layout": "IPY_MODEL_d282d5487e8144e3849da7c3588ca6eb"
          }
        },
        "2af7f190c67343f0bebf39e7198c379e": {
          "model_module": "@jupyter-widgets/controls",
          "model_name": "HTMLModel",
          "model_module_version": "1.5.0",
          "state": {
            "_dom_classes": [],
            "_model_module": "@jupyter-widgets/controls",
            "_model_module_version": "1.5.0",
            "_model_name": "HTMLModel",
            "_view_count": null,
            "_view_module": "@jupyter-widgets/controls",
            "_view_module_version": "1.5.0",
            "_view_name": "HTMLView",
            "description": "",
            "description_tooltip": null,
            "layout": "IPY_MODEL_0161728596ea43c08eabe4b9766e7d7d",
            "placeholder": "​",
            "style": "IPY_MODEL_9cc33f0ecd6c4089833ec5e52ce04be0",
            "value": "Downloading builder script: "
          }
        },
        "93dcbcb83f084960b6abee477ec50c1b": {
          "model_module": "@jupyter-widgets/controls",
          "model_name": "FloatProgressModel",
          "model_module_version": "1.5.0",
          "state": {
            "_dom_classes": [],
            "_model_module": "@jupyter-widgets/controls",
            "_model_module_version": "1.5.0",
            "_model_name": "FloatProgressModel",
            "_view_count": null,
            "_view_module": "@jupyter-widgets/controls",
            "_view_module_version": "1.5.0",
            "_view_name": "ProgressView",
            "bar_style": "success",
            "description": "",
            "description_tooltip": null,
            "layout": "IPY_MODEL_7d495a24f78945649578e76c9b3f9a19",
            "max": 1900,
            "min": 0,
            "orientation": "horizontal",
            "style": "IPY_MODEL_5ad36e1e2d5b44a2a5a51f72a40db896",
            "value": 1900
          }
        },
        "39e5aa273303435d96d8e1cd35398ea1": {
          "model_module": "@jupyter-widgets/controls",
          "model_name": "HTMLModel",
          "model_module_version": "1.5.0",
          "state": {
            "_dom_classes": [],
            "_model_module": "@jupyter-widgets/controls",
            "_model_module_version": "1.5.0",
            "_model_name": "HTMLModel",
            "_view_count": null,
            "_view_module": "@jupyter-widgets/controls",
            "_view_module_version": "1.5.0",
            "_view_name": "HTMLView",
            "description": "",
            "description_tooltip": null,
            "layout": "IPY_MODEL_0c30251926c94c4b8a1044e92d15638a",
            "placeholder": "​",
            "style": "IPY_MODEL_291987bff624408a8f0a941a5961f528",
            "value": " 4.47k/? [00:00&lt;00:00, 275kB/s]"
          }
        },
        "d282d5487e8144e3849da7c3588ca6eb": {
          "model_module": "@jupyter-widgets/base",
          "model_name": "LayoutModel",
          "model_module_version": "1.2.0",
          "state": {
            "_model_module": "@jupyter-widgets/base",
            "_model_module_version": "1.2.0",
            "_model_name": "LayoutModel",
            "_view_count": null,
            "_view_module": "@jupyter-widgets/base",
            "_view_module_version": "1.2.0",
            "_view_name": "LayoutView",
            "align_content": null,
            "align_items": null,
            "align_self": null,
            "border": null,
            "bottom": null,
            "display": null,
            "flex": null,
            "flex_flow": null,
            "grid_area": null,
            "grid_auto_columns": null,
            "grid_auto_flow": null,
            "grid_auto_rows": null,
            "grid_column": null,
            "grid_gap": null,
            "grid_row": null,
            "grid_template_areas": null,
            "grid_template_columns": null,
            "grid_template_rows": null,
            "height": null,
            "justify_content": null,
            "justify_items": null,
            "left": null,
            "margin": null,
            "max_height": null,
            "max_width": null,
            "min_height": null,
            "min_width": null,
            "object_fit": null,
            "object_position": null,
            "order": null,
            "overflow": null,
            "overflow_x": null,
            "overflow_y": null,
            "padding": null,
            "right": null,
            "top": null,
            "visibility": null,
            "width": null
          }
        },
        "0161728596ea43c08eabe4b9766e7d7d": {
          "model_module": "@jupyter-widgets/base",
          "model_name": "LayoutModel",
          "model_module_version": "1.2.0",
          "state": {
            "_model_module": "@jupyter-widgets/base",
            "_model_module_version": "1.2.0",
            "_model_name": "LayoutModel",
            "_view_count": null,
            "_view_module": "@jupyter-widgets/base",
            "_view_module_version": "1.2.0",
            "_view_name": "LayoutView",
            "align_content": null,
            "align_items": null,
            "align_self": null,
            "border": null,
            "bottom": null,
            "display": null,
            "flex": null,
            "flex_flow": null,
            "grid_area": null,
            "grid_auto_columns": null,
            "grid_auto_flow": null,
            "grid_auto_rows": null,
            "grid_column": null,
            "grid_gap": null,
            "grid_row": null,
            "grid_template_areas": null,
            "grid_template_columns": null,
            "grid_template_rows": null,
            "height": null,
            "justify_content": null,
            "justify_items": null,
            "left": null,
            "margin": null,
            "max_height": null,
            "max_width": null,
            "min_height": null,
            "min_width": null,
            "object_fit": null,
            "object_position": null,
            "order": null,
            "overflow": null,
            "overflow_x": null,
            "overflow_y": null,
            "padding": null,
            "right": null,
            "top": null,
            "visibility": null,
            "width": null
          }
        },
        "9cc33f0ecd6c4089833ec5e52ce04be0": {
          "model_module": "@jupyter-widgets/controls",
          "model_name": "DescriptionStyleModel",
          "model_module_version": "1.5.0",
          "state": {
            "_model_module": "@jupyter-widgets/controls",
            "_model_module_version": "1.5.0",
            "_model_name": "DescriptionStyleModel",
            "_view_count": null,
            "_view_module": "@jupyter-widgets/base",
            "_view_module_version": "1.2.0",
            "_view_name": "StyleView",
            "description_width": ""
          }
        },
        "7d495a24f78945649578e76c9b3f9a19": {
          "model_module": "@jupyter-widgets/base",
          "model_name": "LayoutModel",
          "model_module_version": "1.2.0",
          "state": {
            "_model_module": "@jupyter-widgets/base",
            "_model_module_version": "1.2.0",
            "_model_name": "LayoutModel",
            "_view_count": null,
            "_view_module": "@jupyter-widgets/base",
            "_view_module_version": "1.2.0",
            "_view_name": "LayoutView",
            "align_content": null,
            "align_items": null,
            "align_self": null,
            "border": null,
            "bottom": null,
            "display": null,
            "flex": null,
            "flex_flow": null,
            "grid_area": null,
            "grid_auto_columns": null,
            "grid_auto_flow": null,
            "grid_auto_rows": null,
            "grid_column": null,
            "grid_gap": null,
            "grid_row": null,
            "grid_template_areas": null,
            "grid_template_columns": null,
            "grid_template_rows": null,
            "height": null,
            "justify_content": null,
            "justify_items": null,
            "left": null,
            "margin": null,
            "max_height": null,
            "max_width": null,
            "min_height": null,
            "min_width": null,
            "object_fit": null,
            "object_position": null,
            "order": null,
            "overflow": null,
            "overflow_x": null,
            "overflow_y": null,
            "padding": null,
            "right": null,
            "top": null,
            "visibility": null,
            "width": null
          }
        },
        "5ad36e1e2d5b44a2a5a51f72a40db896": {
          "model_module": "@jupyter-widgets/controls",
          "model_name": "ProgressStyleModel",
          "model_module_version": "1.5.0",
          "state": {
            "_model_module": "@jupyter-widgets/controls",
            "_model_module_version": "1.5.0",
            "_model_name": "ProgressStyleModel",
            "_view_count": null,
            "_view_module": "@jupyter-widgets/base",
            "_view_module_version": "1.2.0",
            "_view_name": "StyleView",
            "bar_color": null,
            "description_width": ""
          }
        },
        "0c30251926c94c4b8a1044e92d15638a": {
          "model_module": "@jupyter-widgets/base",
          "model_name": "LayoutModel",
          "model_module_version": "1.2.0",
          "state": {
            "_model_module": "@jupyter-widgets/base",
            "_model_module_version": "1.2.0",
            "_model_name": "LayoutModel",
            "_view_count": null,
            "_view_module": "@jupyter-widgets/base",
            "_view_module_version": "1.2.0",
            "_view_name": "LayoutView",
            "align_content": null,
            "align_items": null,
            "align_self": null,
            "border": null,
            "bottom": null,
            "display": null,
            "flex": null,
            "flex_flow": null,
            "grid_area": null,
            "grid_auto_columns": null,
            "grid_auto_flow": null,
            "grid_auto_rows": null,
            "grid_column": null,
            "grid_gap": null,
            "grid_row": null,
            "grid_template_areas": null,
            "grid_template_columns": null,
            "grid_template_rows": null,
            "height": null,
            "justify_content": null,
            "justify_items": null,
            "left": null,
            "margin": null,
            "max_height": null,
            "max_width": null,
            "min_height": null,
            "min_width": null,
            "object_fit": null,
            "object_position": null,
            "order": null,
            "overflow": null,
            "overflow_x": null,
            "overflow_y": null,
            "padding": null,
            "right": null,
            "top": null,
            "visibility": null,
            "width": null
          }
        },
        "291987bff624408a8f0a941a5961f528": {
          "model_module": "@jupyter-widgets/controls",
          "model_name": "DescriptionStyleModel",
          "model_module_version": "1.5.0",
          "state": {
            "_model_module": "@jupyter-widgets/controls",
            "_model_module_version": "1.5.0",
            "_model_name": "DescriptionStyleModel",
            "_view_count": null,
            "_view_module": "@jupyter-widgets/base",
            "_view_module_version": "1.2.0",
            "_view_name": "StyleView",
            "description_width": ""
          }
        },
        "f059fcbb32394649b476543add956134": {
          "model_module": "@jupyter-widgets/controls",
          "model_name": "HBoxModel",
          "model_module_version": "1.5.0",
          "state": {
            "_dom_classes": [],
            "_model_module": "@jupyter-widgets/controls",
            "_model_module_version": "1.5.0",
            "_model_name": "HBoxModel",
            "_view_count": null,
            "_view_module": "@jupyter-widgets/controls",
            "_view_module_version": "1.5.0",
            "_view_name": "HBoxView",
            "box_style": "",
            "children": [
              "IPY_MODEL_1f0c1feb79414a2faa109e876debdd1c",
              "IPY_MODEL_2c5a88740c634703841c6b9a50faa62f",
              "IPY_MODEL_c505b9e9dcc144bfb92fc4e640af9f5b"
            ],
            "layout": "IPY_MODEL_243d0a02f5b140af8d1c6f8ad6597d84"
          }
        },
        "1f0c1feb79414a2faa109e876debdd1c": {
          "model_module": "@jupyter-widgets/controls",
          "model_name": "HTMLModel",
          "model_module_version": "1.5.0",
          "state": {
            "_dom_classes": [],
            "_model_module": "@jupyter-widgets/controls",
            "_model_module_version": "1.5.0",
            "_model_name": "HTMLModel",
            "_view_count": null,
            "_view_module": "@jupyter-widgets/controls",
            "_view_module_version": "1.5.0",
            "_view_name": "HTMLView",
            "description": "",
            "description_tooltip": null,
            "layout": "IPY_MODEL_8aa98853696f43e496e4186efb54deb7",
            "placeholder": "​",
            "style": "IPY_MODEL_c91f18ae7c1f4c7bb4d73618a1cce8c5",
            "value": "Downloading builder script: "
          }
        },
        "2c5a88740c634703841c6b9a50faa62f": {
          "model_module": "@jupyter-widgets/controls",
          "model_name": "FloatProgressModel",
          "model_module_version": "1.5.0",
          "state": {
            "_dom_classes": [],
            "_model_module": "@jupyter-widgets/controls",
            "_model_module_version": "1.5.0",
            "_model_name": "FloatProgressModel",
            "_view_count": null,
            "_view_module": "@jupyter-widgets/controls",
            "_view_module_version": "1.5.0",
            "_view_name": "ProgressView",
            "bar_style": "success",
            "description": "",
            "description_tooltip": null,
            "layout": "IPY_MODEL_44f701fd5f9646499c987ee7062b2f0d",
            "max": 2159,
            "min": 0,
            "orientation": "horizontal",
            "style": "IPY_MODEL_ccad47f0cedb45d4893ca44ea583b5be",
            "value": 2159
          }
        },
        "c505b9e9dcc144bfb92fc4e640af9f5b": {
          "model_module": "@jupyter-widgets/controls",
          "model_name": "HTMLModel",
          "model_module_version": "1.5.0",
          "state": {
            "_dom_classes": [],
            "_model_module": "@jupyter-widgets/controls",
            "_model_module_version": "1.5.0",
            "_model_name": "HTMLModel",
            "_view_count": null,
            "_view_module": "@jupyter-widgets/controls",
            "_view_module_version": "1.5.0",
            "_view_name": "HTMLView",
            "description": "",
            "description_tooltip": null,
            "layout": "IPY_MODEL_628662da81784c7cb76a278360645858",
            "placeholder": "​",
            "style": "IPY_MODEL_b490ce8fce1047df994318cad42d9087",
            "value": " 5.59k/? [00:00&lt;00:00, 283kB/s]"
          }
        },
        "243d0a02f5b140af8d1c6f8ad6597d84": {
          "model_module": "@jupyter-widgets/base",
          "model_name": "LayoutModel",
          "model_module_version": "1.2.0",
          "state": {
            "_model_module": "@jupyter-widgets/base",
            "_model_module_version": "1.2.0",
            "_model_name": "LayoutModel",
            "_view_count": null,
            "_view_module": "@jupyter-widgets/base",
            "_view_module_version": "1.2.0",
            "_view_name": "LayoutView",
            "align_content": null,
            "align_items": null,
            "align_self": null,
            "border": null,
            "bottom": null,
            "display": null,
            "flex": null,
            "flex_flow": null,
            "grid_area": null,
            "grid_auto_columns": null,
            "grid_auto_flow": null,
            "grid_auto_rows": null,
            "grid_column": null,
            "grid_gap": null,
            "grid_row": null,
            "grid_template_areas": null,
            "grid_template_columns": null,
            "grid_template_rows": null,
            "height": null,
            "justify_content": null,
            "justify_items": null,
            "left": null,
            "margin": null,
            "max_height": null,
            "max_width": null,
            "min_height": null,
            "min_width": null,
            "object_fit": null,
            "object_position": null,
            "order": null,
            "overflow": null,
            "overflow_x": null,
            "overflow_y": null,
            "padding": null,
            "right": null,
            "top": null,
            "visibility": null,
            "width": null
          }
        },
        "8aa98853696f43e496e4186efb54deb7": {
          "model_module": "@jupyter-widgets/base",
          "model_name": "LayoutModel",
          "model_module_version": "1.2.0",
          "state": {
            "_model_module": "@jupyter-widgets/base",
            "_model_module_version": "1.2.0",
            "_model_name": "LayoutModel",
            "_view_count": null,
            "_view_module": "@jupyter-widgets/base",
            "_view_module_version": "1.2.0",
            "_view_name": "LayoutView",
            "align_content": null,
            "align_items": null,
            "align_self": null,
            "border": null,
            "bottom": null,
            "display": null,
            "flex": null,
            "flex_flow": null,
            "grid_area": null,
            "grid_auto_columns": null,
            "grid_auto_flow": null,
            "grid_auto_rows": null,
            "grid_column": null,
            "grid_gap": null,
            "grid_row": null,
            "grid_template_areas": null,
            "grid_template_columns": null,
            "grid_template_rows": null,
            "height": null,
            "justify_content": null,
            "justify_items": null,
            "left": null,
            "margin": null,
            "max_height": null,
            "max_width": null,
            "min_height": null,
            "min_width": null,
            "object_fit": null,
            "object_position": null,
            "order": null,
            "overflow": null,
            "overflow_x": null,
            "overflow_y": null,
            "padding": null,
            "right": null,
            "top": null,
            "visibility": null,
            "width": null
          }
        },
        "c91f18ae7c1f4c7bb4d73618a1cce8c5": {
          "model_module": "@jupyter-widgets/controls",
          "model_name": "DescriptionStyleModel",
          "model_module_version": "1.5.0",
          "state": {
            "_model_module": "@jupyter-widgets/controls",
            "_model_module_version": "1.5.0",
            "_model_name": "DescriptionStyleModel",
            "_view_count": null,
            "_view_module": "@jupyter-widgets/base",
            "_view_module_version": "1.2.0",
            "_view_name": "StyleView",
            "description_width": ""
          }
        },
        "44f701fd5f9646499c987ee7062b2f0d": {
          "model_module": "@jupyter-widgets/base",
          "model_name": "LayoutModel",
          "model_module_version": "1.2.0",
          "state": {
            "_model_module": "@jupyter-widgets/base",
            "_model_module_version": "1.2.0",
            "_model_name": "LayoutModel",
            "_view_count": null,
            "_view_module": "@jupyter-widgets/base",
            "_view_module_version": "1.2.0",
            "_view_name": "LayoutView",
            "align_content": null,
            "align_items": null,
            "align_self": null,
            "border": null,
            "bottom": null,
            "display": null,
            "flex": null,
            "flex_flow": null,
            "grid_area": null,
            "grid_auto_columns": null,
            "grid_auto_flow": null,
            "grid_auto_rows": null,
            "grid_column": null,
            "grid_gap": null,
            "grid_row": null,
            "grid_template_areas": null,
            "grid_template_columns": null,
            "grid_template_rows": null,
            "height": null,
            "justify_content": null,
            "justify_items": null,
            "left": null,
            "margin": null,
            "max_height": null,
            "max_width": null,
            "min_height": null,
            "min_width": null,
            "object_fit": null,
            "object_position": null,
            "order": null,
            "overflow": null,
            "overflow_x": null,
            "overflow_y": null,
            "padding": null,
            "right": null,
            "top": null,
            "visibility": null,
            "width": null
          }
        },
        "ccad47f0cedb45d4893ca44ea583b5be": {
          "model_module": "@jupyter-widgets/controls",
          "model_name": "ProgressStyleModel",
          "model_module_version": "1.5.0",
          "state": {
            "_model_module": "@jupyter-widgets/controls",
            "_model_module_version": "1.5.0",
            "_model_name": "ProgressStyleModel",
            "_view_count": null,
            "_view_module": "@jupyter-widgets/base",
            "_view_module_version": "1.2.0",
            "_view_name": "StyleView",
            "bar_color": null,
            "description_width": ""
          }
        },
        "628662da81784c7cb76a278360645858": {
          "model_module": "@jupyter-widgets/base",
          "model_name": "LayoutModel",
          "model_module_version": "1.2.0",
          "state": {
            "_model_module": "@jupyter-widgets/base",
            "_model_module_version": "1.2.0",
            "_model_name": "LayoutModel",
            "_view_count": null,
            "_view_module": "@jupyter-widgets/base",
            "_view_module_version": "1.2.0",
            "_view_name": "LayoutView",
            "align_content": null,
            "align_items": null,
            "align_self": null,
            "border": null,
            "bottom": null,
            "display": null,
            "flex": null,
            "flex_flow": null,
            "grid_area": null,
            "grid_auto_columns": null,
            "grid_auto_flow": null,
            "grid_auto_rows": null,
            "grid_column": null,
            "grid_gap": null,
            "grid_row": null,
            "grid_template_areas": null,
            "grid_template_columns": null,
            "grid_template_rows": null,
            "height": null,
            "justify_content": null,
            "justify_items": null,
            "left": null,
            "margin": null,
            "max_height": null,
            "max_width": null,
            "min_height": null,
            "min_width": null,
            "object_fit": null,
            "object_position": null,
            "order": null,
            "overflow": null,
            "overflow_x": null,
            "overflow_y": null,
            "padding": null,
            "right": null,
            "top": null,
            "visibility": null,
            "width": null
          }
        },
        "b490ce8fce1047df994318cad42d9087": {
          "model_module": "@jupyter-widgets/controls",
          "model_name": "DescriptionStyleModel",
          "model_module_version": "1.5.0",
          "state": {
            "_model_module": "@jupyter-widgets/controls",
            "_model_module_version": "1.5.0",
            "_model_name": "DescriptionStyleModel",
            "_view_count": null,
            "_view_module": "@jupyter-widgets/base",
            "_view_module_version": "1.2.0",
            "_view_name": "StyleView",
            "description_width": ""
          }
        }
      }
    }
  },
  "nbformat": 4,
  "nbformat_minor": 5
}