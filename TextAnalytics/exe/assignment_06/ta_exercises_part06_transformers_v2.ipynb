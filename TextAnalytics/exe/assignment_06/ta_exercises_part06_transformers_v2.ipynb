{
  "cells": [
    {
      "cell_type": "markdown",
      "id": "2ffd2a10-f1ec-4f0e-91a1-f044a6eff203",
      "metadata": {
        "id": "2ffd2a10-f1ec-4f0e-91a1-f044a6eff203"
      },
      "source": [
        "# AUEB M.Sc. in Data Science (part-time)\n",
        "\n",
        "### 2024.04 - 2024.06\n",
        "\n",
        "## PART 06\n",
        "### EXERCISE 02: POS Tagging with transformers\n",
        "\n",
        "**Course**: Text Analytics   \n",
        "**Authors**:\n",
        "Anagnos Theodoros (p3352323) -\n",
        "Michalopoulos Ioannis (p3352314) -\n",
        "Kafantaris Panagiotis (p3352328) -  \n",
        "Vigkos Ioannis (p3352326)\n",
        "\n",
        "**Date**: 2024-06-04"
      ]
    },
    {
      "cell_type": "code",
      "source": [
        "#@title <b>Time Out Preventer (Advanced) </b></strong>\n",
        "%%capture\n",
        "AUTO_RECONNECT = True #@param {type:\"boolean\"}\n",
        "#@markdown **Run this code to prevent Google Colab from Timeout**\n",
        "from os import makedirs\n",
        "makedirs(\"/root/.config/rclone\", exist_ok = True)\n",
        "if AUTO_RECONNECT:\n",
        "  import IPython\n",
        "  from google.colab import output\n",
        "\n",
        "  display(IPython.display.Javascript('''\n",
        "  function ClickConnect(){\n",
        "    btn = document.querySelector(\"colab-connect-button\")\n",
        "    if (btn != null){\n",
        "      console.log(\"Click colab-connect-button\");\n",
        "      btn.click()\n",
        "      }\n",
        "\n",
        "    btn = document.getElementById('ok')\n",
        "    if (btn != null){\n",
        "      console.log(\"Click reconnect\");\n",
        "      btn.click()\n",
        "      }\n",
        "    }\n",
        "\n",
        "  setInterval(ClickConnect,60000)\n",
        "  '''))"
      ],
      "metadata": {
        "id": "dSl2cttIgzWx"
      },
      "id": "dSl2cttIgzWx",
      "execution_count": null,
      "outputs": []
    },
    {
      "cell_type": "code",
      "execution_count": null,
      "id": "24656d85-4fed-49b0-a356-e5f9085d8534",
      "metadata": {
        "id": "24656d85-4fed-49b0-a356-e5f9085d8534",
        "colab": {
          "base_uri": "https://localhost:8080/"
        },
        "outputId": "3509efb6-b1c5-45d6-b8c7-640e3b476757"
      },
      "outputs": [
        {
          "output_type": "stream",
          "name": "stdout",
          "text": [
            "Requirement already satisfied: tensorflow==2.15.0 in /usr/local/lib/python3.10/dist-packages (2.15.0)\n",
            "Requirement already satisfied: absl-py>=1.0.0 in /usr/local/lib/python3.10/dist-packages (from tensorflow==2.15.0) (1.4.0)\n",
            "Requirement already satisfied: astunparse>=1.6.0 in /usr/local/lib/python3.10/dist-packages (from tensorflow==2.15.0) (1.6.3)\n",
            "Requirement already satisfied: flatbuffers>=23.5.26 in /usr/local/lib/python3.10/dist-packages (from tensorflow==2.15.0) (24.3.25)\n",
            "Requirement already satisfied: gast!=0.5.0,!=0.5.1,!=0.5.2,>=0.2.1 in /usr/local/lib/python3.10/dist-packages (from tensorflow==2.15.0) (0.5.4)\n",
            "Requirement already satisfied: google-pasta>=0.1.1 in /usr/local/lib/python3.10/dist-packages (from tensorflow==2.15.0) (0.2.0)\n",
            "Requirement already satisfied: h5py>=2.9.0 in /usr/local/lib/python3.10/dist-packages (from tensorflow==2.15.0) (3.9.0)\n",
            "Requirement already satisfied: libclang>=13.0.0 in /usr/local/lib/python3.10/dist-packages (from tensorflow==2.15.0) (18.1.1)\n",
            "Requirement already satisfied: ml-dtypes~=0.2.0 in /usr/local/lib/python3.10/dist-packages (from tensorflow==2.15.0) (0.2.0)\n",
            "Requirement already satisfied: numpy<2.0.0,>=1.23.5 in /usr/local/lib/python3.10/dist-packages (from tensorflow==2.15.0) (1.25.2)\n",
            "Requirement already satisfied: opt-einsum>=2.3.2 in /usr/local/lib/python3.10/dist-packages (from tensorflow==2.15.0) (3.3.0)\n",
            "Requirement already satisfied: packaging in /usr/local/lib/python3.10/dist-packages (from tensorflow==2.15.0) (24.1)\n",
            "Requirement already satisfied: protobuf!=4.21.0,!=4.21.1,!=4.21.2,!=4.21.3,!=4.21.4,!=4.21.5,<5.0.0dev,>=3.20.3 in /usr/local/lib/python3.10/dist-packages (from tensorflow==2.15.0) (3.20.3)\n",
            "Requirement already satisfied: setuptools in /usr/local/lib/python3.10/dist-packages (from tensorflow==2.15.0) (67.7.2)\n",
            "Requirement already satisfied: six>=1.12.0 in /usr/local/lib/python3.10/dist-packages (from tensorflow==2.15.0) (1.16.0)\n",
            "Requirement already satisfied: termcolor>=1.1.0 in /usr/local/lib/python3.10/dist-packages (from tensorflow==2.15.0) (2.4.0)\n",
            "Requirement already satisfied: typing-extensions>=3.6.6 in /usr/local/lib/python3.10/dist-packages (from tensorflow==2.15.0) (4.12.2)\n",
            "Requirement already satisfied: wrapt<1.15,>=1.11.0 in /usr/local/lib/python3.10/dist-packages (from tensorflow==2.15.0) (1.14.1)\n",
            "Requirement already satisfied: tensorflow-io-gcs-filesystem>=0.23.1 in /usr/local/lib/python3.10/dist-packages (from tensorflow==2.15.0) (0.37.0)\n",
            "Requirement already satisfied: grpcio<2.0,>=1.24.3 in /usr/local/lib/python3.10/dist-packages (from tensorflow==2.15.0) (1.64.1)\n",
            "Requirement already satisfied: tensorboard<2.16,>=2.15 in /usr/local/lib/python3.10/dist-packages (from tensorflow==2.15.0) (2.15.2)\n",
            "Requirement already satisfied: tensorflow-estimator<2.16,>=2.15.0 in /usr/local/lib/python3.10/dist-packages (from tensorflow==2.15.0) (2.15.0)\n",
            "Requirement already satisfied: keras<2.16,>=2.15.0 in /usr/local/lib/python3.10/dist-packages (from tensorflow==2.15.0) (2.15.0)\n",
            "Requirement already satisfied: wheel<1.0,>=0.23.0 in /usr/local/lib/python3.10/dist-packages (from astunparse>=1.6.0->tensorflow==2.15.0) (0.43.0)\n",
            "Requirement already satisfied: google-auth<3,>=1.6.3 in /usr/local/lib/python3.10/dist-packages (from tensorboard<2.16,>=2.15->tensorflow==2.15.0) (2.27.0)\n",
            "Requirement already satisfied: google-auth-oauthlib<2,>=0.5 in /usr/local/lib/python3.10/dist-packages (from tensorboard<2.16,>=2.15->tensorflow==2.15.0) (1.2.0)\n",
            "Requirement already satisfied: markdown>=2.6.8 in /usr/local/lib/python3.10/dist-packages (from tensorboard<2.16,>=2.15->tensorflow==2.15.0) (3.6)\n",
            "Requirement already satisfied: requests<3,>=2.21.0 in /usr/local/lib/python3.10/dist-packages (from tensorboard<2.16,>=2.15->tensorflow==2.15.0) (2.32.3)\n",
            "Requirement already satisfied: tensorboard-data-server<0.8.0,>=0.7.0 in /usr/local/lib/python3.10/dist-packages (from tensorboard<2.16,>=2.15->tensorflow==2.15.0) (0.7.2)\n",
            "Requirement already satisfied: werkzeug>=1.0.1 in /usr/local/lib/python3.10/dist-packages (from tensorboard<2.16,>=2.15->tensorflow==2.15.0) (3.0.3)\n",
            "Requirement already satisfied: cachetools<6.0,>=2.0.0 in /usr/local/lib/python3.10/dist-packages (from google-auth<3,>=1.6.3->tensorboard<2.16,>=2.15->tensorflow==2.15.0) (5.3.3)\n",
            "Requirement already satisfied: pyasn1-modules>=0.2.1 in /usr/local/lib/python3.10/dist-packages (from google-auth<3,>=1.6.3->tensorboard<2.16,>=2.15->tensorflow==2.15.0) (0.4.0)\n",
            "Requirement already satisfied: rsa<5,>=3.1.4 in /usr/local/lib/python3.10/dist-packages (from google-auth<3,>=1.6.3->tensorboard<2.16,>=2.15->tensorflow==2.15.0) (4.9)\n",
            "Requirement already satisfied: requests-oauthlib>=0.7.0 in /usr/local/lib/python3.10/dist-packages (from google-auth-oauthlib<2,>=0.5->tensorboard<2.16,>=2.15->tensorflow==2.15.0) (1.3.1)\n",
            "Requirement already satisfied: charset-normalizer<4,>=2 in /usr/local/lib/python3.10/dist-packages (from requests<3,>=2.21.0->tensorboard<2.16,>=2.15->tensorflow==2.15.0) (3.3.2)\n",
            "Requirement already satisfied: idna<4,>=2.5 in /usr/local/lib/python3.10/dist-packages (from requests<3,>=2.21.0->tensorboard<2.16,>=2.15->tensorflow==2.15.0) (3.7)\n",
            "Requirement already satisfied: urllib3<3,>=1.21.1 in /usr/local/lib/python3.10/dist-packages (from requests<3,>=2.21.0->tensorboard<2.16,>=2.15->tensorflow==2.15.0) (2.0.7)\n",
            "Requirement already satisfied: certifi>=2017.4.17 in /usr/local/lib/python3.10/dist-packages (from requests<3,>=2.21.0->tensorboard<2.16,>=2.15->tensorflow==2.15.0) (2024.6.2)\n",
            "Requirement already satisfied: MarkupSafe>=2.1.1 in /usr/local/lib/python3.10/dist-packages (from werkzeug>=1.0.1->tensorboard<2.16,>=2.15->tensorflow==2.15.0) (2.1.5)\n",
            "Requirement already satisfied: pyasn1<0.7.0,>=0.4.6 in /usr/local/lib/python3.10/dist-packages (from pyasn1-modules>=0.2.1->google-auth<3,>=1.6.3->tensorboard<2.16,>=2.15->tensorflow==2.15.0) (0.6.0)\n",
            "Requirement already satisfied: oauthlib>=3.0.0 in /usr/local/lib/python3.10/dist-packages (from requests-oauthlib>=0.7.0->google-auth-oauthlib<2,>=0.5->tensorboard<2.16,>=2.15->tensorflow==2.15.0) (3.2.2)\n"
          ]
        }
      ],
      "source": [
        "!pip install tensorflow==2.15.0"
      ]
    },
    {
      "cell_type": "code",
      "execution_count": null,
      "id": "0fc29da1-f2f6-4a03-82f7-56757c471bf1",
      "metadata": {
        "colab": {
          "base_uri": "https://localhost:8080/"
        },
        "id": "0fc29da1-f2f6-4a03-82f7-56757c471bf1",
        "outputId": "27382db8-6ba5-473d-8ef2-2c257a0f568c"
      },
      "outputs": [
        {
          "output_type": "stream",
          "name": "stdout",
          "text": [
            "Sat Jun 15 13:02:04 2024       \n",
            "+---------------------------------------------------------------------------------------+\n",
            "| NVIDIA-SMI 535.104.05             Driver Version: 535.104.05   CUDA Version: 12.2     |\n",
            "|-----------------------------------------+----------------------+----------------------+\n",
            "| GPU  Name                 Persistence-M | Bus-Id        Disp.A | Volatile Uncorr. ECC |\n",
            "| Fan  Temp   Perf          Pwr:Usage/Cap |         Memory-Usage | GPU-Util  Compute M. |\n",
            "|                                         |                      |               MIG M. |\n",
            "|=========================================+======================+======================|\n",
            "|   0  Tesla T4                       Off | 00000000:00:04.0 Off |                    0 |\n",
            "| N/A   46C    P8               9W /  70W |      0MiB / 15360MiB |      0%      Default |\n",
            "|                                         |                      |                  N/A |\n",
            "+-----------------------------------------+----------------------+----------------------+\n",
            "                                                                                         \n",
            "+---------------------------------------------------------------------------------------+\n",
            "| Processes:                                                                            |\n",
            "|  GPU   GI   CI        PID   Type   Process name                            GPU Memory |\n",
            "|        ID   ID                                                             Usage      |\n",
            "|=======================================================================================|\n",
            "|  No running processes found                                                           |\n",
            "+---------------------------------------------------------------------------------------+\n"
          ]
        }
      ],
      "source": [
        "!nvidia-smi"
      ]
    },
    {
      "cell_type": "code",
      "execution_count": null,
      "id": "f43073df-a442-41dc-ae67-035c52076c44",
      "metadata": {
        "colab": {
          "base_uri": "https://localhost:8080/"
        },
        "id": "f43073df-a442-41dc-ae67-035c52076c44",
        "outputId": "b39b3073-4056-4793-b19e-683e6222d9da"
      },
      "outputs": [
        {
          "output_type": "stream",
          "name": "stdout",
          "text": [
            "Requirement already satisfied: conllu in /usr/local/lib/python3.10/dist-packages (4.5.3)\n"
          ]
        }
      ],
      "source": [
        "!pip install conllu"
      ]
    },
    {
      "cell_type": "markdown",
      "id": "131ee292-23b4-4c02-8ef8-49512335573a",
      "metadata": {
        "id": "131ee292-23b4-4c02-8ef8-49512335573a"
      },
      "source": [
        "### Libraries"
      ]
    },
    {
      "cell_type": "code",
      "execution_count": null,
      "id": "fe18b2de-8b04-440b-908d-a06938f6ca73",
      "metadata": {
        "id": "fe18b2de-8b04-440b-908d-a06938f6ca73"
      },
      "outputs": [],
      "source": [
        "## Data Handling and Parsing\n",
        "import os\n",
        "from conllu import parse\n",
        "import requests\n",
        "from collections import Counter\n",
        "import numpy as np\n",
        "\n",
        "## Word Embeddings\n",
        "import gensim.downloader as api\n",
        "\n",
        "## Preprocessing\n",
        "from nltk.util import ngrams\n",
        "from sklearn.preprocessing import LabelEncoder, OneHotEncoder\n",
        "from sklearn.model_selection import train_test_split  # Importing train_test_split\n",
        "\n",
        "## Metrics and Evaluation\n",
        "from sklearn.metrics import accuracy_score, classification_report, f1_score, recall_score, precision_score, precision_recall_curve, auc\n",
        "from sklearn.exceptions import UndefinedMetricWarning\n",
        "\n",
        "## Deep Learning\n",
        "import tensorflow as tf\n",
        "from tensorflow.keras.models import Model, Sequential\n",
        "from tensorflow.keras.layers import Input, Dense, Dropout, Embedding, Conv1D, GlobalMaxPooling1D, add, Flatten\n",
        "from tensorflow.keras.callbacks import EarlyStopping\n",
        "from tensorflow.keras.optimizers import Adam\n",
        "from tensorflow.keras.metrics import CategoricalAccuracy\n",
        "from tensorflow.keras.regularizers import l2\n",
        "\n",
        "## Plotting\n",
        "import matplotlib.pyplot as plt\n",
        "\n",
        "## Other\n",
        "import warnings"
      ]
    },
    {
      "cell_type": "markdown",
      "id": "d0987009-e4bf-4ad3-b69e-2779253ab4db",
      "metadata": {
        "id": "d0987009-e4bf-4ad3-b69e-2779253ab4db"
      },
      "source": [
        "### Functions"
      ]
    },
    {
      "cell_type": "code",
      "execution_count": null,
      "id": "937f6793-505c-45fa-a61c-0dd6cdfc5839",
      "metadata": {
        "id": "937f6793-505c-45fa-a61c-0dd6cdfc5839"
      },
      "outputs": [],
      "source": [
        "# Function for downloading dataset\n",
        "def download_dataset(url, filename):\n",
        "    response = requests.get(url)\n",
        "    with open(filename, \"wb\") as f:\n",
        "        f.write(response.content)"
      ]
    },
    {
      "cell_type": "code",
      "execution_count": null,
      "id": "99170815-dcbe-444b-a080-783185c93e0e",
      "metadata": {
        "id": "99170815-dcbe-444b-a080-783185c93e0e"
      },
      "outputs": [],
      "source": [
        "# Function for parsing conllu files and extracting sentences\n",
        "def parse_conllu(file_path):\n",
        "    \"\"\"\n",
        "    Parsed the given conllu file and extracted sentences using the 'conllu' library.\n",
        "    \"\"\"\n",
        "    # Opening the file in read mode with UTF-8 encoding\n",
        "    with open(file_path, \"r\", encoding=\"utf-8\") as f:\n",
        "        # Reading the entire content of the file\n",
        "        data = f.read()\n",
        "        # Parsing the data to extract sentences using the 'conllu' library\n",
        "        sentences = parse(data)\n",
        "    # Returning the list of parsed sentences\n",
        "    return sentences"
      ]
    },
    {
      "cell_type": "code",
      "execution_count": null,
      "id": "8b1a10c1-04da-4ff2-945e-c663bdb47fd2",
      "metadata": {
        "id": "8b1a10c1-04da-4ff2-945e-c663bdb47fd2"
      },
      "outputs": [],
      "source": [
        "# Function for extracting words and tags from parsed sentences\n",
        "def extract_words_and_tags(sentences):\n",
        "    \"\"\"\n",
        "    Extracted words and corresponding POS tags from parsed sentences.\n",
        "    \"\"\"\n",
        "    words = []\n",
        "    tags = []\n",
        "    # Iterating over each parsed sentence\n",
        "    for sentence in sentences:\n",
        "        sentence_words = []\n",
        "        sentence_tags = []\n",
        "        # Iterating over each token in the sentence\n",
        "        for token in sentence:\n",
        "            if token['form'] and token['upostag']:\n",
        "                sentence_words.append(token['form'])  # Extracting the word form\n",
        "                sentence_tags.append(token['upostag'])  # Extracting the POS tag\n",
        "        # Appending the extracted words and tags to their respective lists\n",
        "        words.append(sentence_words)\n",
        "        tags.append(sentence_tags)\n",
        "    # Returning the lists of words and tags\n",
        "    return words, tags"
      ]
    },
    {
      "cell_type": "markdown",
      "id": "14388cae-773e-4113-87f4-ccff24142626",
      "metadata": {
        "id": "14388cae-773e-4113-87f4-ccff24142626"
      },
      "source": [
        "### Metrics"
      ]
    },
    {
      "cell_type": "code",
      "execution_count": null,
      "id": "f7eb6df5-0790-446e-a317-583572e94188",
      "metadata": {
        "id": "f7eb6df5-0790-446e-a317-583572e94188"
      },
      "outputs": [],
      "source": [
        "# Custom callback for additional metrics\n",
        "class Metrics(tf.keras.callbacks.Callback):\n",
        "    def __init__(self, valid_data):\n",
        "        # Initializing the callback with validation data\n",
        "        super(Metrics, self).__init__()\n",
        "        self.validation_data = valid_data\n",
        "\n",
        "    def on_epoch_end(self, epoch, logs=None):\n",
        "        # Predicting on the validation data at the end of each epoch\n",
        "        val_predict = np.argmax(self.model.predict(self.validation_data[0]), -1)\n",
        "        # Extracting the true labels from the validation data\n",
        "        val_targ = np.argmax(self.validation_data[1], -1)\n",
        "\n",
        "        # Calculating the weighted F1 score for the validation data\n",
        "        _val_f1 = f1_score(val_targ, val_predict, average=\"weighted\", zero_division=0)\n",
        "        # Calculating the weighted recall score for the validation data\n",
        "        _val_recall = recall_score(val_targ, val_predict, average=\"weighted\", zero_division=0)\n",
        "        # Calculating the weighted precision score for the validation data\n",
        "        _val_precision = precision_score(val_targ, val_predict, average=\"weighted\", zero_division=0)\n",
        "\n",
        "        # Logging the calculated metrics\n",
        "        logs['val_f1'] = _val_f1\n",
        "        logs['val_recall'] = _val_recall\n",
        "        logs['val_precision'] = _val_precision\n",
        "\n",
        "        # Printing the calculated metrics\n",
        "        print(f\" — val_f1: {_val_f1:.4f} — val_precision: {_val_precision:.4f} — val_recall: {_val_recall:.4f}\")\n",
        "        return"
      ]
    },
    {
      "cell_type": "markdown",
      "id": "a5e44751-d1e9-487f-83ee-1ef5471f4192",
      "metadata": {
        "id": "a5e44751-d1e9-487f-83ee-1ef5471f4192"
      },
      "source": [
        "## Data Preprocessing"
      ]
    },
    {
      "cell_type": "markdown",
      "id": "3a344441-3f61-469a-bec4-4166d2576339",
      "metadata": {
        "id": "3a344441-3f61-469a-bec4-4166d2576339"
      },
      "source": [
        "### Downloading the dataset and parsing the conllu files to extract sentences, words, and POS tags"
      ]
    },
    {
      "cell_type": "code",
      "execution_count": null,
      "id": "dd5d039c-c22d-4273-8850-1583be241aa5",
      "metadata": {
        "id": "dd5d039c-c22d-4273-8850-1583be241aa5"
      },
      "outputs": [],
      "source": [
        "# Defining URLs of the datasets for training, development, and testing\n",
        "urls = {\n",
        "    \"train\": \"https://github.com/UniversalDependencies/UD_English-EWT/raw/master/en_ewt-ud-train.conllu\"\n",
        "}"
      ]
    },
    {
      "cell_type": "code",
      "execution_count": null,
      "id": "ef1fed93-be07-4fef-b01e-0d08ee4fb043",
      "metadata": {
        "id": "ef1fed93-be07-4fef-b01e-0d08ee4fb043"
      },
      "outputs": [],
      "source": [
        "# Downloading the training dataset and saving it locally\n",
        "for key, url in urls.items():\n",
        "    filename = f\"en_ewt_{key}.conllu\"\n",
        "    download_dataset(url, filename)"
      ]
    },
    {
      "cell_type": "markdown",
      "id": "d38a80ac-cbf2-431a-b34b-acfd538d0317",
      "metadata": {
        "id": "d38a80ac-cbf2-431a-b34b-acfd538d0317"
      },
      "source": [
        "Parsed the training, development, and test datasets to extract words and POS tags. Converted all words to lowercase for consistency and printed sample data for verification."
      ]
    },
    {
      "cell_type": "code",
      "execution_count": null,
      "id": "9d85a5b9-9194-4481-bdfb-8e93059f8cb4",
      "metadata": {
        "colab": {
          "base_uri": "https://localhost:8080/"
        },
        "id": "9d85a5b9-9194-4481-bdfb-8e93059f8cb4",
        "outputId": "52e1c844-5e9d-43ed-fa48-0f37000ae67d"
      },
      "outputs": [
        {
          "output_type": "stream",
          "name": "stdout",
          "text": [
            "Sample parsed sentences from training data:\n",
            "[TokenList<Al, -, Zaman, :, American, forces, killed, Shaikh, Abdullah, al, -, Ani, ,, the, preacher, at, the, mosque, in, the, town, of, Qaim, ,, near, the, Syrian, border, ., metadata={newdoc id: \"weblog-juancole.com_juancole_20051126063000_ENG_20051126_063000\", sent_id: \"weblog-juancole.com_juancole_20051126063000_ENG_20051126_063000-0001\", newpar id: \"weblog-juancole.com_juancole_20051126063000_ENG_20051126_063000-p0001\", text: \"Al-Zaman : American forces killed Shaikh Abdullah al-Ani, the preacher at the mosque in the town of Qaim, near the Syrian border.\"}>, TokenList<[, This, killing, of, a, respected, cleric, will, be, causing, us, trouble, for, years, to, come, ., ], metadata={sent_id: \"weblog-juancole.com_juancole_20051126063000_ENG_20051126_063000-0002\", text: \"[This killing of a respected cleric will be causing us trouble for years to come.]\"}>, TokenList<DPA, :, Iraqi, authorities, announced, that, they, had, busted, up, 3, terrorist, cells, operating, in, Baghdad, ., metadata={sent_id: \"weblog-juancole.com_juancole_20051126063000_ENG_20051126_063000-0003\", text: \"DPA: Iraqi authorities announced that they had busted up 3 terrorist cells operating in Baghdad.\"}>, TokenList<Two, of, them, were, being, run, by, 2, officials, of, the, Ministry, of, the, Interior, !, metadata={sent_id: \"weblog-juancole.com_juancole_20051126063000_ENG_20051126_063000-0004\", text: \"Two of them were being run by 2 officials of the Ministry of the Interior!\"}>, TokenList<The, MoI, in, Iraq, is, equivalent, to, the, US, FBI, ,, so, this, would, be, like, having, J., Edgar, Hoover, unwittingly, employ, at, a, high, level, members, of, the, Weathermen, bombers, back, in, the, 1960s, ., metadata={sent_id: \"weblog-juancole.com_juancole_20051126063000_ENG_20051126_063000-0005\", text: \"The MoI in Iraq is equivalent to the US FBI, so this would be like having J. Edgar Hoover unwittingly employ at a high level members of the Weathermen bombers back in the 1960s.\"}>]\n",
            "\n",
            "\n",
            "Size of train_words: 8780\n",
            "Size of dev_words: 1882\n",
            "Size of test_words: 1882\n",
            "\n",
            "\n",
            "Size of train_tags: 8780\n",
            "Size of dev_tags: 1882\n",
            "Size of test_tags: 1882\n",
            "\n",
            "\n"
          ]
        }
      ],
      "source": [
        "# Parsing the training dataset\n",
        "train_sentences = parse_conllu(\"en_ewt_train.conllu\")\n",
        "\n",
        "# Printing sample parsed sentences for verification\n",
        "print(\"Sample parsed sentences from training data:\")\n",
        "print(train_sentences[0:5])\n",
        "print(\"\\n\")\n",
        "\n",
        "# Extracting words and tags from the parsed sentences\n",
        "all_words, all_tags = extract_words_and_tags(train_sentences)\n",
        "\n",
        "# Splitting the dataset into train, development, and test sets (70-15-15 ratio)\n",
        "train_words, temp_words, train_tags, temp_tags = train_test_split(all_words, all_tags, test_size=0.3, random_state=42)\n",
        "dev_words, test_words, dev_tags, test_tags = train_test_split(temp_words, temp_tags, test_size=0.5, random_state=42)\n",
        "\n",
        "# Printing the sizes of the datasets\n",
        "print(\"Size of train_words:\", len(train_words))\n",
        "print(\"Size of dev_words:\", len(dev_words))\n",
        "print(\"Size of test_words:\", len(test_words))\n",
        "print(\"\\n\")\n",
        "print(\"Size of train_tags:\", len(train_tags))\n",
        "print(\"Size of dev_tags:\", len(dev_tags))\n",
        "print(\"Size of test_tags:\", len(test_tags))\n",
        "print(\"\\n\")"
      ]
    },
    {
      "cell_type": "code",
      "source": [
        "from tqdm import tqdm\n",
        "\n",
        "# clean the corpus\n",
        "def preprocess(corpus):\n",
        "    corpus_tokenized = []\n",
        "    for doc in tqdm(corpus):\n",
        "        doc = ' '.join(doc)\n",
        "        doc = nlp(doc)\n",
        "        tokens = []\n",
        "        for sent in doc.sents:\n",
        "            for tok in sent:\n",
        "                if '\\n' in tok.text or \"\\t\" in tok.text or \"--\" in tok.text or \"*\" in tok.text or \\\n",
        "                   tok.text.lower() in STOP_WORDS or tok.text in string.punctuation or \\\n",
        "                   all(x in string.punctuation for x in tok.text) or is_number(tok.text):\n",
        "                    continue\n",
        "                if tok.text.strip():\n",
        "                    tokens.append(tok.text.replace('\"', \"'\").strip().lower())\n",
        "        corpus_tokenized.append(tokens)\n",
        "    return corpus_tokenized"
      ],
      "metadata": {
        "id": "-e6YnpyfR1xX"
      },
      "id": "-e6YnpyfR1xX",
      "execution_count": null,
      "outputs": []
    },
    {
      "cell_type": "code",
      "source": [
        "# Flatten the list\n",
        "flattened_tags = [tag for sublist in all_tags for tag in sublist]\n",
        "\n",
        "# Get unique values\n",
        "unique_tags = set(flattened_tags)\n",
        "\n",
        "# Convert set to a sorted list\n",
        "sorted_unique_tags = sorted(unique_tags)\n",
        "\n",
        "# Print unique values with their IDs\n",
        "for idx, tag in enumerate(sorted_unique_tags):\n",
        "    print(f\"{idx}: {tag}\")"
      ],
      "metadata": {
        "colab": {
          "base_uri": "https://localhost:8080/"
        },
        "id": "Ym_54HsSglp1",
        "outputId": "c55eb337-519c-4518-9d1b-71dd6d1ef34f"
      },
      "id": "Ym_54HsSglp1",
      "execution_count": null,
      "outputs": [
        {
          "output_type": "stream",
          "name": "stdout",
          "text": [
            "0: ADJ\n",
            "1: ADP\n",
            "2: ADV\n",
            "3: AUX\n",
            "4: CCONJ\n",
            "5: DET\n",
            "6: INTJ\n",
            "7: NOUN\n",
            "8: NUM\n",
            "9: PART\n",
            "10: PRON\n",
            "11: PROPN\n",
            "12: PUNCT\n",
            "13: SCONJ\n",
            "14: SYM\n",
            "15: VERB\n",
            "16: X\n",
            "17: _\n"
          ]
        }
      ]
    },
    {
      "cell_type": "code",
      "source": [
        "# Convert tags to their corresponding IDs for each list in train_tags\n",
        "train_tags_ids = [[sorted_unique_tags.index(tag) for tag in tags] for tags in train_tags]\n",
        "dev_tags_ids = [[sorted_unique_tags.index(tag) for tag in tags] for tags in dev_tags]\n",
        "test_tags_ids = [[sorted_unique_tags.index(tag) for tag in tags] for tags in test_tags]"
      ],
      "metadata": {
        "id": "aSe00D3AgloC"
      },
      "id": "aSe00D3AgloC",
      "execution_count": null,
      "outputs": []
    },
    {
      "cell_type": "code",
      "source": [
        "for i in range(len(train_words[1])):\n",
        "  print(train_words[1][i],' : ',train_tags[1][i],' : ',train_tags_ids[1][i])"
      ],
      "metadata": {
        "colab": {
          "base_uri": "https://localhost:8080/"
        },
        "id": "DRehTcuSglmM",
        "outputId": "02bb7d3d-1dd0-46b0-c307-f07693f1783b"
      },
      "id": "DRehTcuSglmM",
      "execution_count": null,
      "outputs": [
        {
          "output_type": "stream",
          "name": "stdout",
          "text": [
            "I  :  PRON  :  10\n",
            "was  :  AUX  :  3\n",
            "not  :  PART  :  9\n",
            "happy  :  ADJ  :  0\n",
            "with  :  ADP  :  1\n",
            "the  :  DET  :  5\n",
            "way  :  NOUN  :  7\n",
            "they  :  PRON  :  10\n",
            "looked  :  VERB  :  15\n",
            ",  :  PUNCT  :  12\n",
            "very  :  ADV  :  2\n",
            "wavy  :  ADJ  :  0\n",
            ",  :  PUNCT  :  12\n",
            "uneven  :  ADJ  :  0\n",
            "edges  :  NOUN  :  7\n",
            ",  :  PUNCT  :  12\n",
            "and  :  CCONJ  :  4\n",
            "with  :  ADP  :  1\n",
            "the  :  DET  :  5\n",
            "exception  :  NOUN  :  7\n",
            "of  :  ADP  :  1\n",
            "1  :  NUM  :  8\n",
            ",  :  PUNCT  :  12\n",
            "there  :  PRON  :  10\n",
            "is  :  VERB  :  15\n",
            "a  :  DET  :  5\n",
            "dip  :  NOUN  :  7\n",
            "in  :  ADP  :  1\n",
            "the  :  DET  :  5\n",
            "center  :  NOUN  :  7\n",
            "of  :  ADP  :  1\n",
            "each  :  DET  :  5\n",
            "nail  :  NOUN  :  7\n",
            ".  :  PUNCT  :  12\n"
          ]
        }
      ]
    },
    {
      "cell_type": "code",
      "source": [
        "def create_dictionary(tokens, tags,tags_ids):\n",
        "    examples = {\n",
        "        \"tokens\": tokens,\n",
        "        \"tags\": tags,\n",
        "        \"tags_ids\":tags_ids\n",
        "    }\n",
        "    return examples"
      ],
      "metadata": {
        "id": "99Ruqnyvglhv"
      },
      "id": "99Ruqnyvglhv",
      "execution_count": null,
      "outputs": []
    },
    {
      "cell_type": "code",
      "source": [
        "train_data_dict = create_dictionary(train_words,train_tags,train_tags_ids)\n",
        "dev_data_dict = create_dictionary(dev_words,dev_tags,dev_tags_ids)\n",
        "test_data_dict = create_dictionary(test_words,test_tags,test_tags_ids)"
      ],
      "metadata": {
        "id": "QOoUzpUsglfY"
      },
      "id": "QOoUzpUsglfY",
      "execution_count": null,
      "outputs": []
    },
    {
      "cell_type": "code",
      "source": [
        "for i in range(len(train_data_dict['tokens'][1])):\n",
        "    print(train_data_dict['tokens'][1][i], ' : ',train_data_dict['tags'][1][i], ' : ',train_data_dict['tags_ids'][1][i] )"
      ],
      "metadata": {
        "colab": {
          "base_uri": "https://localhost:8080/"
        },
        "id": "2cgCr8MgglcP",
        "outputId": "ef64cb64-f1c7-43cb-a655-84fb9ea0a344"
      },
      "id": "2cgCr8MgglcP",
      "execution_count": null,
      "outputs": [
        {
          "output_type": "stream",
          "name": "stdout",
          "text": [
            "I  :  PRON  :  10\n",
            "was  :  AUX  :  3\n",
            "not  :  PART  :  9\n",
            "happy  :  ADJ  :  0\n",
            "with  :  ADP  :  1\n",
            "the  :  DET  :  5\n",
            "way  :  NOUN  :  7\n",
            "they  :  PRON  :  10\n",
            "looked  :  VERB  :  15\n",
            ",  :  PUNCT  :  12\n",
            "very  :  ADV  :  2\n",
            "wavy  :  ADJ  :  0\n",
            ",  :  PUNCT  :  12\n",
            "uneven  :  ADJ  :  0\n",
            "edges  :  NOUN  :  7\n",
            ",  :  PUNCT  :  12\n",
            "and  :  CCONJ  :  4\n",
            "with  :  ADP  :  1\n",
            "the  :  DET  :  5\n",
            "exception  :  NOUN  :  7\n",
            "of  :  ADP  :  1\n",
            "1  :  NUM  :  8\n",
            ",  :  PUNCT  :  12\n",
            "there  :  PRON  :  10\n",
            "is  :  VERB  :  15\n",
            "a  :  DET  :  5\n",
            "dip  :  NOUN  :  7\n",
            "in  :  ADP  :  1\n",
            "the  :  DET  :  5\n",
            "center  :  NOUN  :  7\n",
            "of  :  ADP  :  1\n",
            "each  :  DET  :  5\n",
            "nail  :  NOUN  :  7\n",
            ".  :  PUNCT  :  12\n"
          ]
        }
      ]
    },
    {
      "cell_type": "code",
      "source": [
        "from transformers import AutoTokenizer\n",
        "\n",
        "model_name = \"bert-base-uncased\"\n",
        "\n",
        "tokenizer = AutoTokenizer.from_pretrained(model_name)"
      ],
      "metadata": {
        "colab": {
          "base_uri": "https://localhost:8080/"
        },
        "id": "-nMTT1gbglZM",
        "outputId": "fda97621-f439-49d2-bb93-f73f47b65bc0"
      },
      "id": "-nMTT1gbglZM",
      "execution_count": null,
      "outputs": [
        {
          "output_type": "stream",
          "name": "stderr",
          "text": [
            "/usr/local/lib/python3.10/dist-packages/huggingface_hub/utils/_token.py:89: UserWarning: \n",
            "The secret `HF_TOKEN` does not exist in your Colab secrets.\n",
            "To authenticate with the Hugging Face Hub, create a token in your settings tab (https://huggingface.co/settings/tokens), set it as secret in your Google Colab and restart your session.\n",
            "You will be able to reuse this secret in all of your notebooks.\n",
            "Please note that authentication is recommended but still optional to access public models or datasets.\n",
            "  warnings.warn(\n"
          ]
        }
      ]
    },
    {
      "cell_type": "code",
      "source": [
        "tokenized_input = tokenizer(train_data_dict['tokens'][1], is_split_into_words=True)\n",
        "token_ids = tokenizer.convert_ids_to_tokens(tokenized_input[\"input_ids\"])\n",
        "word_ids = tokenized_input.word_ids()\n",
        "\n",
        "assert (len(word_ids) == len(token_ids)), \"ERROR\"\n",
        "\n",
        "for tok_id,w_id in zip(token_ids,word_ids):\n",
        "  if w_id != None:\n",
        "    print(\"Token: {} Subtoken: {} Word_id: {}\".format(train_data_dict['tokens'][1][w_id],tok_id,w_id))\n",
        "  else:\n",
        "    print(\"Token: {} | Subtoken: {} | Word_id: {}\".format(None,tok_id,w_id))\n",
        "  print(\"--\")\n",
        "\n"
      ],
      "metadata": {
        "colab": {
          "base_uri": "https://localhost:8080/"
        },
        "id": "MMZAnEskglSB",
        "outputId": "c3f9a763-3eb9-4e6a-c47c-a6eda92413a5"
      },
      "id": "MMZAnEskglSB",
      "execution_count": null,
      "outputs": [
        {
          "output_type": "stream",
          "name": "stdout",
          "text": [
            "Token: None | Subtoken: [CLS] | Word_id: None\n",
            "--\n",
            "Token: I Subtoken: i Word_id: 0\n",
            "--\n",
            "Token: was Subtoken: was Word_id: 1\n",
            "--\n",
            "Token: not Subtoken: not Word_id: 2\n",
            "--\n",
            "Token: happy Subtoken: happy Word_id: 3\n",
            "--\n",
            "Token: with Subtoken: with Word_id: 4\n",
            "--\n",
            "Token: the Subtoken: the Word_id: 5\n",
            "--\n",
            "Token: way Subtoken: way Word_id: 6\n",
            "--\n",
            "Token: they Subtoken: they Word_id: 7\n",
            "--\n",
            "Token: looked Subtoken: looked Word_id: 8\n",
            "--\n",
            "Token: , Subtoken: , Word_id: 9\n",
            "--\n",
            "Token: very Subtoken: very Word_id: 10\n",
            "--\n",
            "Token: wavy Subtoken: wavy Word_id: 11\n",
            "--\n",
            "Token: , Subtoken: , Word_id: 12\n",
            "--\n",
            "Token: uneven Subtoken: uneven Word_id: 13\n",
            "--\n",
            "Token: edges Subtoken: edges Word_id: 14\n",
            "--\n",
            "Token: , Subtoken: , Word_id: 15\n",
            "--\n",
            "Token: and Subtoken: and Word_id: 16\n",
            "--\n",
            "Token: with Subtoken: with Word_id: 17\n",
            "--\n",
            "Token: the Subtoken: the Word_id: 18\n",
            "--\n",
            "Token: exception Subtoken: exception Word_id: 19\n",
            "--\n",
            "Token: of Subtoken: of Word_id: 20\n",
            "--\n",
            "Token: 1 Subtoken: 1 Word_id: 21\n",
            "--\n",
            "Token: , Subtoken: , Word_id: 22\n",
            "--\n",
            "Token: there Subtoken: there Word_id: 23\n",
            "--\n",
            "Token: is Subtoken: is Word_id: 24\n",
            "--\n",
            "Token: a Subtoken: a Word_id: 25\n",
            "--\n",
            "Token: dip Subtoken: dip Word_id: 26\n",
            "--\n",
            "Token: in Subtoken: in Word_id: 27\n",
            "--\n",
            "Token: the Subtoken: the Word_id: 28\n",
            "--\n",
            "Token: center Subtoken: center Word_id: 29\n",
            "--\n",
            "Token: of Subtoken: of Word_id: 30\n",
            "--\n",
            "Token: each Subtoken: each Word_id: 31\n",
            "--\n",
            "Token: nail Subtoken: nail Word_id: 32\n",
            "--\n",
            "Token: . Subtoken: . Word_id: 33\n",
            "--\n",
            "Token: None | Subtoken: [SEP] | Word_id: None\n",
            "--\n"
          ]
        }
      ]
    },
    {
      "cell_type": "code",
      "source": [
        "def tokenize_and_align_labels(examples):\n",
        "    tokenized_inputs = tokenizer(examples[\"tokens\"], truncation=True, is_split_into_words=True)\n",
        "\n",
        "    labels = []\n",
        "    for i, label in enumerate(examples[f\"tags_ids\"]):\n",
        "        word_ids = tokenized_inputs.word_ids(batch_index=i)  # Map tokens to their respective word.\n",
        "        previous_word_idx = None\n",
        "        label_ids = []\n",
        "        for word_idx in word_ids:  # Set the special tokens to -100.\n",
        "            if word_idx is None:\n",
        "                label_ids.append(-100)\n",
        "            elif word_idx != previous_word_idx:  # Only label the first token of a given word.\n",
        "                label_ids.append(label[word_idx])\n",
        "            else:\n",
        "                label_ids.append(-100)\n",
        "            previous_word_idx = word_idx\n",
        "        labels.append(label_ids)\n",
        "\n",
        "    tokenized_inputs[\"labels\"] = labels\n",
        "    return tokenized_inputs"
      ],
      "metadata": {
        "id": "MGUk-374hXUE"
      },
      "id": "MGUk-374hXUE",
      "execution_count": null,
      "outputs": []
    },
    {
      "cell_type": "code",
      "source": [
        "# !pip install datasets\n",
        "# !pip install pyarrow vaex\n",
        "# !pip install pyarrow==15.0.0\n",
        "# !pip install datasets==2.20.0"
      ],
      "metadata": {
        "id": "xi2CcSJVyeLM"
      },
      "id": "xi2CcSJVyeLM",
      "execution_count": null,
      "outputs": []
    },
    {
      "cell_type": "code",
      "source": [
        "# !pip install pyarrow==8.0.0\n",
        "# !pip install datasets"
      ],
      "metadata": {
        "colab": {
          "base_uri": "https://localhost:8080/",
          "height": 1000
        },
        "id": "wXi9sM6f90um",
        "outputId": "d01faef7-18cc-4390-c1aa-7cdd6a300475"
      },
      "id": "wXi9sM6f90um",
      "execution_count": null,
      "outputs": [
        {
          "output_type": "stream",
          "name": "stdout",
          "text": [
            "Collecting pyarrow==8.0.0\n",
            "  Using cached pyarrow-8.0.0-cp310-cp310-manylinux_2_17_x86_64.manylinux2014_x86_64.whl (29.4 MB)\n",
            "Requirement already satisfied: numpy>=1.16.6 in /usr/local/lib/python3.10/dist-packages (from pyarrow==8.0.0) (1.25.2)\n",
            "Installing collected packages: pyarrow\n",
            "  Attempting uninstall: pyarrow\n",
            "    Found existing installation: pyarrow 16.1.0\n",
            "    Uninstalling pyarrow-16.1.0:\n",
            "      Successfully uninstalled pyarrow-16.1.0\n",
            "\u001b[31mERROR: pip's dependency resolver does not currently take into account all the packages that are installed. This behaviour is the source of the following dependency conflicts.\n",
            "cudf-cu12 24.4.1 requires pyarrow<15.0.0a0,>=14.0.1, but you have pyarrow 8.0.0 which is incompatible.\n",
            "datasets 2.20.0 requires pyarrow>=15.0.0, but you have pyarrow 8.0.0 which is incompatible.\u001b[0m\u001b[31m\n",
            "\u001b[0mSuccessfully installed pyarrow-8.0.0\n"
          ]
        },
        {
          "output_type": "display_data",
          "data": {
            "application/vnd.colab-display-data+json": {
              "pip_warning": {
                "packages": [
                  "pyarrow"
                ]
              },
              "id": "cb5ba13338514beba48364961d15ab83"
            }
          },
          "metadata": {}
        },
        {
          "output_type": "stream",
          "name": "stdout",
          "text": [
            "Requirement already satisfied: datasets in /usr/local/lib/python3.10/dist-packages (2.20.0)\n",
            "Requirement already satisfied: filelock in /usr/local/lib/python3.10/dist-packages (from datasets) (3.14.0)\n",
            "Requirement already satisfied: numpy>=1.17 in /usr/local/lib/python3.10/dist-packages (from datasets) (1.25.2)\n",
            "Collecting pyarrow>=15.0.0 (from datasets)\n",
            "  Using cached pyarrow-16.1.0-cp310-cp310-manylinux_2_28_x86_64.whl (40.8 MB)\n",
            "Requirement already satisfied: pyarrow-hotfix in /usr/local/lib/python3.10/dist-packages (from datasets) (0.6)\n",
            "Requirement already satisfied: dill<0.3.9,>=0.3.0 in /usr/local/lib/python3.10/dist-packages (from datasets) (0.3.8)\n",
            "Requirement already satisfied: pandas in /usr/local/lib/python3.10/dist-packages (from datasets) (2.0.3)\n",
            "Requirement already satisfied: requests>=2.32.2 in /usr/local/lib/python3.10/dist-packages (from datasets) (2.32.3)\n",
            "Requirement already satisfied: tqdm>=4.66.3 in /usr/local/lib/python3.10/dist-packages (from datasets) (4.66.4)\n",
            "Requirement already satisfied: xxhash in /usr/local/lib/python3.10/dist-packages (from datasets) (3.4.1)\n",
            "Requirement already satisfied: multiprocess in /usr/local/lib/python3.10/dist-packages (from datasets) (0.70.16)\n",
            "Requirement already satisfied: fsspec[http]<=2024.5.0,>=2023.1.0 in /usr/local/lib/python3.10/dist-packages (from datasets) (2023.6.0)\n",
            "Requirement already satisfied: aiohttp in /usr/local/lib/python3.10/dist-packages (from datasets) (3.9.5)\n",
            "Requirement already satisfied: huggingface-hub>=0.21.2 in /usr/local/lib/python3.10/dist-packages (from datasets) (0.23.3)\n",
            "Requirement already satisfied: packaging in /usr/local/lib/python3.10/dist-packages (from datasets) (24.1)\n",
            "Requirement already satisfied: pyyaml>=5.1 in /usr/local/lib/python3.10/dist-packages (from datasets) (6.0.1)\n",
            "Requirement already satisfied: aiosignal>=1.1.2 in /usr/local/lib/python3.10/dist-packages (from aiohttp->datasets) (1.3.1)\n",
            "Requirement already satisfied: attrs>=17.3.0 in /usr/local/lib/python3.10/dist-packages (from aiohttp->datasets) (23.2.0)\n",
            "Requirement already satisfied: frozenlist>=1.1.1 in /usr/local/lib/python3.10/dist-packages (from aiohttp->datasets) (1.4.1)\n",
            "Requirement already satisfied: multidict<7.0,>=4.5 in /usr/local/lib/python3.10/dist-packages (from aiohttp->datasets) (6.0.5)\n",
            "Requirement already satisfied: yarl<2.0,>=1.0 in /usr/local/lib/python3.10/dist-packages (from aiohttp->datasets) (1.9.4)\n",
            "Requirement already satisfied: async-timeout<5.0,>=4.0 in /usr/local/lib/python3.10/dist-packages (from aiohttp->datasets) (4.0.3)\n",
            "Requirement already satisfied: typing-extensions>=3.7.4.3 in /usr/local/lib/python3.10/dist-packages (from huggingface-hub>=0.21.2->datasets) (4.12.2)\n",
            "Requirement already satisfied: charset-normalizer<4,>=2 in /usr/local/lib/python3.10/dist-packages (from requests>=2.32.2->datasets) (3.3.2)\n",
            "Requirement already satisfied: idna<4,>=2.5 in /usr/local/lib/python3.10/dist-packages (from requests>=2.32.2->datasets) (3.7)\n",
            "Requirement already satisfied: urllib3<3,>=1.21.1 in /usr/local/lib/python3.10/dist-packages (from requests>=2.32.2->datasets) (2.0.7)\n",
            "Requirement already satisfied: certifi>=2017.4.17 in /usr/local/lib/python3.10/dist-packages (from requests>=2.32.2->datasets) (2024.6.2)\n",
            "Requirement already satisfied: python-dateutil>=2.8.2 in /usr/local/lib/python3.10/dist-packages (from pandas->datasets) (2.8.2)\n",
            "Requirement already satisfied: pytz>=2020.1 in /usr/local/lib/python3.10/dist-packages (from pandas->datasets) (2023.4)\n",
            "Requirement already satisfied: tzdata>=2022.1 in /usr/local/lib/python3.10/dist-packages (from pandas->datasets) (2024.1)\n",
            "Requirement already satisfied: six>=1.5 in /usr/local/lib/python3.10/dist-packages (from python-dateutil>=2.8.2->pandas->datasets) (1.16.0)\n",
            "Installing collected packages: pyarrow\n",
            "  Attempting uninstall: pyarrow\n",
            "    Found existing installation: pyarrow 8.0.0\n",
            "    Uninstalling pyarrow-8.0.0:\n",
            "      Successfully uninstalled pyarrow-8.0.0\n",
            "\u001b[31mERROR: pip's dependency resolver does not currently take into account all the packages that are installed. This behaviour is the source of the following dependency conflicts.\n",
            "cudf-cu12 24.4.1 requires pyarrow<15.0.0a0,>=14.0.1, but you have pyarrow 16.1.0 which is incompatible.\n",
            "ibis-framework 8.0.0 requires pyarrow<16,>=2, but you have pyarrow 16.1.0 which is incompatible.\u001b[0m\u001b[31m\n",
            "\u001b[0mSuccessfully installed pyarrow-16.1.0\n"
          ]
        },
        {
          "output_type": "display_data",
          "data": {
            "application/vnd.colab-display-data+json": {
              "pip_warning": {
                "packages": [
                  "pyarrow"
                ]
              },
              "id": "45db415db74b483292bb410477a1984b"
            }
          },
          "metadata": {}
        }
      ]
    },
    {
      "cell_type": "code",
      "source": [
        "from datasets import Dataset\n",
        "\n",
        "# Convert the dictionary to a Dataset object\n",
        "train_dataset = Dataset.from_dict(train_data_dict)\n",
        "dev_dataset = Dataset.from_dict(dev_data_dict)\n",
        "test_dataset = Dataset.from_dict(test_data_dict)\n"
      ],
      "metadata": {
        "id": "E5oSZDSFhXOe"
      },
      "id": "E5oSZDSFhXOe",
      "execution_count": null,
      "outputs": []
    },
    {
      "cell_type": "code",
      "source": [
        "tokenized_dev_dataset = dev_dataset.map(tokenize_and_align_labels, batched=True)\n",
        "tokenized_train_dataset = train_dataset.map(tokenize_and_align_labels, batched=True)"
      ],
      "metadata": {
        "colab": {
          "base_uri": "https://localhost:8080/",
          "height": 81,
          "referenced_widgets": [
            "036cb3557854459bad0589f56b1ab699",
            "3d6f9be6f4414ac4a409b9133e26805e",
            "ea7d4711264947a5be8271467f4b006b",
            "81e28af12c4f4c158e4a701f8b0788da",
            "c71776ca39f44f7491519f9b42845a20",
            "da765fe921b6441893504024a69c425d",
            "85f91de0461243b3ab94a683d37864df",
            "1d5392635a0d4efaad6dca8b1ff6391f",
            "1b06dd91b1ca42d7af9c2a548048ab42",
            "ebd3eb84c84340be8c9bbe567b7454ff",
            "3ef7b975a68e4597845c01e10a2920d6",
            "0c949419126e4bfea3058dee36bada91",
            "2ed0094892bf46cb94563f5aee349636",
            "5c715789ea694731b4994829b32c408d",
            "6f6f57779e084823879d121c3a3f9a51",
            "adf3642dd20a4e3fadc9071f4aaeef45",
            "6ebac4c281094a5990b3d855c5e856ea",
            "b0b1615bf8a44221a87dc4d54e5e380b",
            "3ce562c8f5f9456e92570d780fd590a5",
            "94cc291febd84fdc9d0645f41dbb1972",
            "df2aff42656b4ed38052a7e6b0b95da1",
            "a554457af81847d6ae077d6370d4dced"
          ]
        },
        "id": "vLqF-ATwj67V",
        "outputId": "e70615f6-90ee-46fa-a291-ab76518b3639"
      },
      "id": "vLqF-ATwj67V",
      "execution_count": null,
      "outputs": [
        {
          "output_type": "display_data",
          "data": {
            "text/plain": [
              "Map:   0%|          | 0/1882 [00:00<?, ? examples/s]"
            ],
            "application/vnd.jupyter.widget-view+json": {
              "version_major": 2,
              "version_minor": 0,
              "model_id": "036cb3557854459bad0589f56b1ab699"
            }
          },
          "metadata": {}
        },
        {
          "output_type": "display_data",
          "data": {
            "text/plain": [
              "Map:   0%|          | 0/8780 [00:00<?, ? examples/s]"
            ],
            "application/vnd.jupyter.widget-view+json": {
              "version_major": 2,
              "version_minor": 0,
              "model_id": "0c949419126e4bfea3058dee36bada91"
            }
          },
          "metadata": {}
        }
      ]
    },
    {
      "cell_type": "code",
      "source": [
        "from transformers import DataCollatorForTokenClassification\n",
        "\n",
        "data_collator = DataCollatorForTokenClassification(tokenizer=tokenizer)"
      ],
      "metadata": {
        "id": "7Ye8RAJlhXL2"
      },
      "id": "7Ye8RAJlhXL2",
      "execution_count": null,
      "outputs": []
    },
    {
      "cell_type": "code",
      "source": [
        "label_list=sorted_unique_tags"
      ],
      "metadata": {
        "id": "Lk91tRbMhwtG"
      },
      "id": "Lk91tRbMhwtG",
      "execution_count": null,
      "outputs": []
    },
    {
      "cell_type": "code",
      "source": [
        "! pip install torch torchvision torchaudio"
      ],
      "metadata": {
        "colab": {
          "base_uri": "https://localhost:8080/"
        },
        "id": "F-6hlph-hwqT",
        "outputId": "f356e61d-588c-4b1e-995e-9d710d8b035e"
      },
      "id": "F-6hlph-hwqT",
      "execution_count": null,
      "outputs": [
        {
          "output_type": "stream",
          "name": "stdout",
          "text": [
            "Requirement already satisfied: torch in /usr/local/lib/python3.10/dist-packages (2.3.0+cu121)\n",
            "Requirement already satisfied: torchvision in /usr/local/lib/python3.10/dist-packages (0.18.0+cu121)\n",
            "Requirement already satisfied: torchaudio in /usr/local/lib/python3.10/dist-packages (2.3.0+cu121)\n",
            "Requirement already satisfied: filelock in /usr/local/lib/python3.10/dist-packages (from torch) (3.14.0)\n",
            "Requirement already satisfied: typing-extensions>=4.8.0 in /usr/local/lib/python3.10/dist-packages (from torch) (4.12.2)\n",
            "Requirement already satisfied: sympy in /usr/local/lib/python3.10/dist-packages (from torch) (1.12.1)\n",
            "Requirement already satisfied: networkx in /usr/local/lib/python3.10/dist-packages (from torch) (3.3)\n",
            "Requirement already satisfied: jinja2 in /usr/local/lib/python3.10/dist-packages (from torch) (3.1.4)\n",
            "Requirement already satisfied: fsspec in /usr/local/lib/python3.10/dist-packages (from torch) (2023.6.0)\n",
            "Requirement already satisfied: nvidia-cuda-nvrtc-cu12==12.1.105 in /usr/local/lib/python3.10/dist-packages (from torch) (12.1.105)\n",
            "Requirement already satisfied: nvidia-cuda-runtime-cu12==12.1.105 in /usr/local/lib/python3.10/dist-packages (from torch) (12.1.105)\n",
            "Requirement already satisfied: nvidia-cuda-cupti-cu12==12.1.105 in /usr/local/lib/python3.10/dist-packages (from torch) (12.1.105)\n",
            "Requirement already satisfied: nvidia-cudnn-cu12==8.9.2.26 in /usr/local/lib/python3.10/dist-packages (from torch) (8.9.2.26)\n",
            "Requirement already satisfied: nvidia-cublas-cu12==12.1.3.1 in /usr/local/lib/python3.10/dist-packages (from torch) (12.1.3.1)\n",
            "Requirement already satisfied: nvidia-cufft-cu12==11.0.2.54 in /usr/local/lib/python3.10/dist-packages (from torch) (11.0.2.54)\n",
            "Requirement already satisfied: nvidia-curand-cu12==10.3.2.106 in /usr/local/lib/python3.10/dist-packages (from torch) (10.3.2.106)\n",
            "Requirement already satisfied: nvidia-cusolver-cu12==11.4.5.107 in /usr/local/lib/python3.10/dist-packages (from torch) (11.4.5.107)\n",
            "Requirement already satisfied: nvidia-cusparse-cu12==12.1.0.106 in /usr/local/lib/python3.10/dist-packages (from torch) (12.1.0.106)\n",
            "Requirement already satisfied: nvidia-nccl-cu12==2.20.5 in /usr/local/lib/python3.10/dist-packages (from torch) (2.20.5)\n",
            "Requirement already satisfied: nvidia-nvtx-cu12==12.1.105 in /usr/local/lib/python3.10/dist-packages (from torch) (12.1.105)\n",
            "Requirement already satisfied: triton==2.3.0 in /usr/local/lib/python3.10/dist-packages (from torch) (2.3.0)\n",
            "Requirement already satisfied: nvidia-nvjitlink-cu12 in /usr/local/lib/python3.10/dist-packages (from nvidia-cusolver-cu12==11.4.5.107->torch) (12.5.40)\n",
            "Requirement already satisfied: numpy in /usr/local/lib/python3.10/dist-packages (from torchvision) (1.25.2)\n",
            "Requirement already satisfied: pillow!=8.3.*,>=5.3.0 in /usr/local/lib/python3.10/dist-packages (from torchvision) (9.4.0)\n",
            "Requirement already satisfied: MarkupSafe>=2.0 in /usr/local/lib/python3.10/dist-packages (from jinja2->torch) (2.1.5)\n",
            "Requirement already satisfied: mpmath<1.4.0,>=1.1.0 in /usr/local/lib/python3.10/dist-packages (from sympy->torch) (1.3.0)\n"
          ]
        }
      ]
    },
    {
      "cell_type": "code",
      "source": [
        "from transformers import AutoModelForTokenClassification, TrainingArguments, Trainer\n",
        "\n",
        "model = AutoModelForTokenClassification.from_pretrained(model_name, num_labels=len(label_list)).to(\"cuda\")"
      ],
      "metadata": {
        "colab": {
          "base_uri": "https://localhost:8080/"
        },
        "id": "g2IdXIe5hwnX",
        "outputId": "11c0a003-e3e5-4b8e-9a87-7a81616be3d3"
      },
      "id": "g2IdXIe5hwnX",
      "execution_count": null,
      "outputs": [
        {
          "output_type": "stream",
          "name": "stderr",
          "text": [
            "Some weights of BertForTokenClassification were not initialized from the model checkpoint at bert-base-uncased and are newly initialized: ['classifier.bias', 'classifier.weight']\n",
            "You should probably TRAIN this model on a down-stream task to be able to use it for predictions and inference.\n"
          ]
        }
      ]
    },
    {
      "cell_type": "code",
      "source": [
        "# !pip install accelerate==0.21.0\n",
        "# !pip install transformers[torch]\n",
        "!pip install transformers -U"
      ],
      "metadata": {
        "colab": {
          "base_uri": "https://localhost:8080/"
        },
        "id": "vY_UikR1hwkT",
        "outputId": "4776eefc-799a-4c76-8a5e-0dc36866b431"
      },
      "id": "vY_UikR1hwkT",
      "execution_count": null,
      "outputs": [
        {
          "output_type": "stream",
          "name": "stdout",
          "text": [
            "Requirement already satisfied: transformers in /usr/local/lib/python3.10/dist-packages (4.41.2)\n",
            "Requirement already satisfied: filelock in /usr/local/lib/python3.10/dist-packages (from transformers) (3.14.0)\n",
            "Requirement already satisfied: huggingface-hub<1.0,>=0.23.0 in /usr/local/lib/python3.10/dist-packages (from transformers) (0.23.3)\n",
            "Requirement already satisfied: numpy>=1.17 in /usr/local/lib/python3.10/dist-packages (from transformers) (1.25.2)\n",
            "Requirement already satisfied: packaging>=20.0 in /usr/local/lib/python3.10/dist-packages (from transformers) (24.1)\n",
            "Requirement already satisfied: pyyaml>=5.1 in /usr/local/lib/python3.10/dist-packages (from transformers) (6.0.1)\n",
            "Requirement already satisfied: regex!=2019.12.17 in /usr/local/lib/python3.10/dist-packages (from transformers) (2024.5.15)\n",
            "Requirement already satisfied: requests in /usr/local/lib/python3.10/dist-packages (from transformers) (2.32.3)\n",
            "Requirement already satisfied: tokenizers<0.20,>=0.19 in /usr/local/lib/python3.10/dist-packages (from transformers) (0.19.1)\n",
            "Requirement already satisfied: safetensors>=0.4.1 in /usr/local/lib/python3.10/dist-packages (from transformers) (0.4.3)\n",
            "Requirement already satisfied: tqdm>=4.27 in /usr/local/lib/python3.10/dist-packages (from transformers) (4.66.4)\n",
            "Requirement already satisfied: fsspec>=2023.5.0 in /usr/local/lib/python3.10/dist-packages (from huggingface-hub<1.0,>=0.23.0->transformers) (2023.6.0)\n",
            "Requirement already satisfied: typing-extensions>=3.7.4.3 in /usr/local/lib/python3.10/dist-packages (from huggingface-hub<1.0,>=0.23.0->transformers) (4.12.2)\n",
            "Requirement already satisfied: charset-normalizer<4,>=2 in /usr/local/lib/python3.10/dist-packages (from requests->transformers) (3.3.2)\n",
            "Requirement already satisfied: idna<4,>=2.5 in /usr/local/lib/python3.10/dist-packages (from requests->transformers) (3.7)\n",
            "Requirement already satisfied: urllib3<3,>=1.21.1 in /usr/local/lib/python3.10/dist-packages (from requests->transformers) (2.0.7)\n",
            "Requirement already satisfied: certifi>=2017.4.17 in /usr/local/lib/python3.10/dist-packages (from requests->transformers) (2024.6.2)\n"
          ]
        }
      ]
    },
    {
      "cell_type": "code",
      "source": [
        "from transformers import TrainingArguments"
      ],
      "metadata": {
        "id": "eCBZvVQBhwhR"
      },
      "id": "eCBZvVQBhwhR",
      "execution_count": null,
      "outputs": []
    },
    {
      "cell_type": "code",
      "source": [
        "pip install accelerate -U"
      ],
      "metadata": {
        "colab": {
          "base_uri": "https://localhost:8080/"
        },
        "id": "2DuoeIJ78lIU",
        "outputId": "48c66c9d-bb3a-4eca-e213-1a0ef48df944"
      },
      "id": "2DuoeIJ78lIU",
      "execution_count": null,
      "outputs": [
        {
          "output_type": "stream",
          "name": "stdout",
          "text": [
            "Requirement already satisfied: accelerate in /usr/local/lib/python3.10/dist-packages (0.31.0)\n",
            "Requirement already satisfied: numpy>=1.17 in /usr/local/lib/python3.10/dist-packages (from accelerate) (1.25.2)\n",
            "Requirement already satisfied: packaging>=20.0 in /usr/local/lib/python3.10/dist-packages (from accelerate) (24.1)\n",
            "Requirement already satisfied: psutil in /usr/local/lib/python3.10/dist-packages (from accelerate) (5.9.5)\n",
            "Requirement already satisfied: pyyaml in /usr/local/lib/python3.10/dist-packages (from accelerate) (6.0.1)\n",
            "Requirement already satisfied: torch>=1.10.0 in /usr/local/lib/python3.10/dist-packages (from accelerate) (2.3.0+cu121)\n",
            "Requirement already satisfied: huggingface-hub in /usr/local/lib/python3.10/dist-packages (from accelerate) (0.23.3)\n",
            "Requirement already satisfied: safetensors>=0.3.1 in /usr/local/lib/python3.10/dist-packages (from accelerate) (0.4.3)\n",
            "Requirement already satisfied: filelock in /usr/local/lib/python3.10/dist-packages (from torch>=1.10.0->accelerate) (3.14.0)\n",
            "Requirement already satisfied: typing-extensions>=4.8.0 in /usr/local/lib/python3.10/dist-packages (from torch>=1.10.0->accelerate) (4.12.2)\n",
            "Requirement already satisfied: sympy in /usr/local/lib/python3.10/dist-packages (from torch>=1.10.0->accelerate) (1.12.1)\n",
            "Requirement already satisfied: networkx in /usr/local/lib/python3.10/dist-packages (from torch>=1.10.0->accelerate) (3.3)\n",
            "Requirement already satisfied: jinja2 in /usr/local/lib/python3.10/dist-packages (from torch>=1.10.0->accelerate) (3.1.4)\n",
            "Requirement already satisfied: fsspec in /usr/local/lib/python3.10/dist-packages (from torch>=1.10.0->accelerate) (2023.6.0)\n",
            "Requirement already satisfied: nvidia-cuda-nvrtc-cu12==12.1.105 in /usr/local/lib/python3.10/dist-packages (from torch>=1.10.0->accelerate) (12.1.105)\n",
            "Requirement already satisfied: nvidia-cuda-runtime-cu12==12.1.105 in /usr/local/lib/python3.10/dist-packages (from torch>=1.10.0->accelerate) (12.1.105)\n",
            "Requirement already satisfied: nvidia-cuda-cupti-cu12==12.1.105 in /usr/local/lib/python3.10/dist-packages (from torch>=1.10.0->accelerate) (12.1.105)\n",
            "Requirement already satisfied: nvidia-cudnn-cu12==8.9.2.26 in /usr/local/lib/python3.10/dist-packages (from torch>=1.10.0->accelerate) (8.9.2.26)\n",
            "Requirement already satisfied: nvidia-cublas-cu12==12.1.3.1 in /usr/local/lib/python3.10/dist-packages (from torch>=1.10.0->accelerate) (12.1.3.1)\n",
            "Requirement already satisfied: nvidia-cufft-cu12==11.0.2.54 in /usr/local/lib/python3.10/dist-packages (from torch>=1.10.0->accelerate) (11.0.2.54)\n",
            "Requirement already satisfied: nvidia-curand-cu12==10.3.2.106 in /usr/local/lib/python3.10/dist-packages (from torch>=1.10.0->accelerate) (10.3.2.106)\n",
            "Requirement already satisfied: nvidia-cusolver-cu12==11.4.5.107 in /usr/local/lib/python3.10/dist-packages (from torch>=1.10.0->accelerate) (11.4.5.107)\n",
            "Requirement already satisfied: nvidia-cusparse-cu12==12.1.0.106 in /usr/local/lib/python3.10/dist-packages (from torch>=1.10.0->accelerate) (12.1.0.106)\n",
            "Requirement already satisfied: nvidia-nccl-cu12==2.20.5 in /usr/local/lib/python3.10/dist-packages (from torch>=1.10.0->accelerate) (2.20.5)\n",
            "Requirement already satisfied: nvidia-nvtx-cu12==12.1.105 in /usr/local/lib/python3.10/dist-packages (from torch>=1.10.0->accelerate) (12.1.105)\n",
            "Requirement already satisfied: triton==2.3.0 in /usr/local/lib/python3.10/dist-packages (from torch>=1.10.0->accelerate) (2.3.0)\n",
            "Requirement already satisfied: nvidia-nvjitlink-cu12 in /usr/local/lib/python3.10/dist-packages (from nvidia-cusolver-cu12==11.4.5.107->torch>=1.10.0->accelerate) (12.5.40)\n",
            "Requirement already satisfied: requests in /usr/local/lib/python3.10/dist-packages (from huggingface-hub->accelerate) (2.32.3)\n",
            "Requirement already satisfied: tqdm>=4.42.1 in /usr/local/lib/python3.10/dist-packages (from huggingface-hub->accelerate) (4.66.4)\n",
            "Requirement already satisfied: MarkupSafe>=2.0 in /usr/local/lib/python3.10/dist-packages (from jinja2->torch>=1.10.0->accelerate) (2.1.5)\n",
            "Requirement already satisfied: charset-normalizer<4,>=2 in /usr/local/lib/python3.10/dist-packages (from requests->huggingface-hub->accelerate) (3.3.2)\n",
            "Requirement already satisfied: idna<4,>=2.5 in /usr/local/lib/python3.10/dist-packages (from requests->huggingface-hub->accelerate) (3.7)\n",
            "Requirement already satisfied: urllib3<3,>=1.21.1 in /usr/local/lib/python3.10/dist-packages (from requests->huggingface-hub->accelerate) (2.0.7)\n",
            "Requirement already satisfied: certifi>=2017.4.17 in /usr/local/lib/python3.10/dist-packages (from requests->huggingface-hub->accelerate) (2024.6.2)\n",
            "Requirement already satisfied: mpmath<1.4.0,>=1.1.0 in /usr/local/lib/python3.10/dist-packages (from sympy->torch>=1.10.0->accelerate) (1.3.0)\n"
          ]
        }
      ]
    },
    {
      "cell_type": "code",
      "source": [
        "training_args = TrainingArguments(\n",
        "    output_dir='./results',\n",
        "    num_train_epochs=3,\n",
        "    learning_rate=1e-4,\n",
        "    per_device_train_batch_size=16,\n",
        "    per_device_eval_batch_size=64,\n",
        "    weight_decay=0.01,\n",
        "    logging_dir='./logs',\n",
        "    warmup_steps=100,\n",
        "    eval_steps=300,\n",
        "    save_steps=300,\n",
        "    evaluation_strategy=\"steps\",\n",
        "    load_best_model_at_end=True,\n",
        "    save_total_limit = 1\n",
        ")\n",
        "\n",
        "trainer = Trainer(\n",
        "    model=model,\n",
        "    args=training_args,\n",
        "    train_dataset=tokenized_train_dataset,\n",
        "    eval_dataset=tokenized_dev_dataset,\n",
        "    tokenizer=tokenizer,\n",
        "    data_collator=data_collator\n",
        ")\n",
        "\n",
        "trainer.train()"
      ],
      "metadata": {
        "colab": {
          "base_uri": "https://localhost:8080/",
          "height": 284
        },
        "id": "y2CJh1QFiUvd",
        "outputId": "bfdc536c-1169-452c-b88d-a7ab388da969"
      },
      "id": "y2CJh1QFiUvd",
      "execution_count": null,
      "outputs": [
        {
          "output_type": "stream",
          "name": "stderr",
          "text": [
            "/usr/local/lib/python3.10/dist-packages/transformers/training_args.py:1474: FutureWarning: `evaluation_strategy` is deprecated and will be removed in version 4.46 of 🤗 Transformers. Use `eval_strategy` instead\n",
            "  warnings.warn(\n"
          ]
        },
        {
          "output_type": "display_data",
          "data": {
            "text/plain": [
              "<IPython.core.display.HTML object>"
            ],
            "text/html": [
              "\n",
              "    <div>\n",
              "      \n",
              "      <progress value='1647' max='1647' style='width:300px; height:20px; vertical-align: middle;'></progress>\n",
              "      [1647/1647 07:52, Epoch 3/3]\n",
              "    </div>\n",
              "    <table border=\"1\" class=\"dataframe\">\n",
              "  <thead>\n",
              " <tr style=\"text-align: left;\">\n",
              "      <th>Step</th>\n",
              "      <th>Training Loss</th>\n",
              "      <th>Validation Loss</th>\n",
              "    </tr>\n",
              "  </thead>\n",
              "  <tbody>\n",
              "    <tr>\n",
              "      <td>300</td>\n",
              "      <td>No log</td>\n",
              "      <td>0.104937</td>\n",
              "    </tr>\n",
              "    <tr>\n",
              "      <td>600</td>\n",
              "      <td>0.360100</td>\n",
              "      <td>0.080680</td>\n",
              "    </tr>\n",
              "    <tr>\n",
              "      <td>900</td>\n",
              "      <td>0.360100</td>\n",
              "      <td>0.076602</td>\n",
              "    </tr>\n",
              "    <tr>\n",
              "      <td>1200</td>\n",
              "      <td>0.052200</td>\n",
              "      <td>0.074134</td>\n",
              "    </tr>\n",
              "    <tr>\n",
              "      <td>1500</td>\n",
              "      <td>0.020800</td>\n",
              "      <td>0.072137</td>\n",
              "    </tr>\n",
              "  </tbody>\n",
              "</table><p>"
            ]
          },
          "metadata": {}
        },
        {
          "output_type": "execute_result",
          "data": {
            "text/plain": [
              "TrainOutput(global_step=1647, training_loss=0.132813868988769, metrics={'train_runtime': 473.8119, 'train_samples_per_second': 55.592, 'train_steps_per_second': 3.476, 'total_flos': 721879540214976.0, 'train_loss': 0.132813868988769, 'epoch': 3.0})"
            ]
          },
          "metadata": {},
          "execution_count": 40
        }
      ]
    },
    {
      "cell_type": "code",
      "source": [
        "trainer.evaluate()"
      ],
      "metadata": {
        "colab": {
          "base_uri": "https://localhost:8080/",
          "height": 124
        },
        "id": "APnPc1jXiUs7",
        "outputId": "512656bf-8776-4d41-cc26-86fb54ddeb7d"
      },
      "id": "APnPc1jXiUs7",
      "execution_count": null,
      "outputs": [
        {
          "output_type": "display_data",
          "data": {
            "text/plain": [
              "<IPython.core.display.HTML object>"
            ],
            "text/html": [
              "\n",
              "    <div>\n",
              "      \n",
              "      <progress value='30' max='30' style='width:300px; height:20px; vertical-align: middle;'></progress>\n",
              "      [30/30 00:07]\n",
              "    </div>\n",
              "    "
            ]
          },
          "metadata": {}
        },
        {
          "output_type": "execute_result",
          "data": {
            "text/plain": [
              "{'eval_loss': 0.07213663309812546,\n",
              " 'eval_runtime': 7.7699,\n",
              " 'eval_samples_per_second': 242.218,\n",
              " 'eval_steps_per_second': 3.861,\n",
              " 'epoch': 3.0}"
            ]
          },
          "metadata": {},
          "execution_count": 41
        }
      ]
    },
    {
      "cell_type": "code",
      "source": [
        "id2tag = {id: tag for id, tag in enumerate(label_list)}"
      ],
      "metadata": {
        "id": "60oM1-NiiUqL"
      },
      "id": "60oM1-NiiUqL",
      "execution_count": null,
      "outputs": []
    },
    {
      "cell_type": "code",
      "source": [
        "id2tag"
      ],
      "metadata": {
        "colab": {
          "base_uri": "https://localhost:8080/"
        },
        "id": "fX6Noiu0iUng",
        "outputId": "677bc2ee-148b-4d60-a132-f6072afa1cdb"
      },
      "id": "fX6Noiu0iUng",
      "execution_count": null,
      "outputs": [
        {
          "output_type": "execute_result",
          "data": {
            "text/plain": [
              "{0: 'ADJ',\n",
              " 1: 'ADP',\n",
              " 2: 'ADV',\n",
              " 3: 'AUX',\n",
              " 4: 'CCONJ',\n",
              " 5: 'DET',\n",
              " 6: 'INTJ',\n",
              " 7: 'NOUN',\n",
              " 8: 'NUM',\n",
              " 9: 'PART',\n",
              " 10: 'PRON',\n",
              " 11: 'PROPN',\n",
              " 12: 'PUNCT',\n",
              " 13: 'SCONJ',\n",
              " 14: 'SYM',\n",
              " 15: 'VERB',\n",
              " 16: 'X',\n",
              " 17: '_'}"
            ]
          },
          "metadata": {},
          "execution_count": 43
        }
      ]
    },
    {
      "cell_type": "code",
      "source": [
        "def get_raw_tokens(subtokens: list[str]) -> list[str]:\n",
        "\n",
        "  tokens = []\n",
        "  for tok in subtokens:\n",
        "      if tok.startswith(\"##\"):\n",
        "          tokens[-1] += tok[2:]\n",
        "      else:\n",
        "          tokens.append(tok)\n",
        "  return tokens"
      ],
      "metadata": {
        "id": "-m-s4AxjiUk0"
      },
      "id": "-m-s4AxjiUk0",
      "execution_count": null,
      "outputs": []
    },
    {
      "cell_type": "code",
      "source": [
        "import pandas as pd\n",
        "pd.set_option(\"display.max_rows\", None, \"display.max_columns\", None)\n",
        "\n",
        "\n",
        "def get_prediction(text):\n",
        "    # prepare our text into tokenized sequence\n",
        "    inputs = tokenizer(text, truncation=True, return_tensors=\"pt\").to(\"cuda\")\n",
        "    # perform inference to our model\n",
        "    outputs = model(**inputs)\n",
        "    # get output probabilities by doing softmax\n",
        "    probs = outputs[0][0].softmax(1)\n",
        "    # executing argmax function to get the candidate tags\n",
        "    word_ids = inputs.word_ids()\n",
        "    raw_tokens = get_raw_tokens([tokenizer.convert_ids_to_tokens(inputs['input_ids'][0])][0])[1:-1]\n",
        "    tags = ([id2tag[x] for x in probs.cpu().detach().numpy().argmax(axis=1).tolist()])\n",
        "    assert len(word_ids) == len(tags), \"ERROR\"\n",
        "    f_tags = []\n",
        "    for idx in range(len(raw_tokens)):\n",
        "      f_tags.append(tags[word_ids.index(idx)])\n",
        "\n",
        "\n",
        "    tokens_n_tags = [(tok,tag) for tok,tag in zip(raw_tokens, f_tags)]\n",
        "\n",
        "    return pd.DataFrame(tokens_n_tags, columns=['token', 'tag'])"
      ],
      "metadata": {
        "id": "sUj0CglfhXJG"
      },
      "id": "sUj0CglfhXJG",
      "execution_count": null,
      "outputs": []
    },
    {
      "cell_type": "markdown",
      "source": [
        "## Examples"
      ],
      "metadata": {
        "id": "8wjvA14s93u2"
      },
      "id": "8wjvA14s93u2"
    },
    {
      "cell_type": "code",
      "source": [
        "# Example #1\n",
        "text1 = \"\"\"\n",
        "President Joe Biden is \"fine\" after tripping and falling over at an event in\n",
        "Colorado, White House officials say.\"\"\"\n",
        "\n",
        "print(get_prediction(text1))"
      ],
      "metadata": {
        "colab": {
          "base_uri": "https://localhost:8080/"
        },
        "id": "PFoL9kvdhXF-",
        "outputId": "b0104584-9a23-4a98-ad3d-9ce9a67cc8fd"
      },
      "id": "PFoL9kvdhXF-",
      "execution_count": null,
      "outputs": [
        {
          "output_type": "stream",
          "name": "stdout",
          "text": [
            "        token    tag\n",
            "0   president  PROPN\n",
            "1         joe  PROPN\n",
            "2       biden  PROPN\n",
            "3          is    AUX\n",
            "4           \"  PUNCT\n",
            "5        fine    ADJ\n",
            "6           \"  PUNCT\n",
            "7       after  SCONJ\n",
            "8    tripping   VERB\n",
            "9         and  CCONJ\n",
            "10    falling   VERB\n",
            "11       over    ADV\n",
            "12         at    ADP\n",
            "13         an    DET\n",
            "14      event   NOUN\n",
            "15         in    ADP\n",
            "16   colorado  PROPN\n",
            "17          ,  PUNCT\n",
            "18      white    ADJ\n",
            "19      house  PROPN\n",
            "20  officials   NOUN\n",
            "21        say   VERB\n",
            "22          .  PUNCT\n"
          ]
        }
      ]
    },
    {
      "cell_type": "code",
      "source": [
        "# Example #2\n",
        "text2 = \"\"\"\n",
        "Apple in October 2021 overhauled the high-end MacBook Pro, introducing\n",
        "an entirely new design, new chips, new capabilities, and more.\"\"\"\n",
        "\n",
        "print(get_prediction(text2))"
      ],
      "metadata": {
        "colab": {
          "base_uri": "https://localhost:8080/"
        },
        "id": "qR0LUk0slWbi",
        "outputId": "fe9c143f-392b-4d24-ceb3-6fd2123dfa91"
      },
      "id": "qR0LUk0slWbi",
      "execution_count": null,
      "outputs": [
        {
          "output_type": "stream",
          "name": "stdout",
          "text": [
            "           token    tag\n",
            "0          apple  PROPN\n",
            "1             in    ADP\n",
            "2        october  PROPN\n",
            "3           2021    NUM\n",
            "4     overhauled   VERB\n",
            "5            the    DET\n",
            "6           high    ADJ\n",
            "7              -  PUNCT\n",
            "8            end   NOUN\n",
            "9        macbook  PROPN\n",
            "10           pro  PROPN\n",
            "11             ,  PUNCT\n",
            "12   introducing   VERB\n",
            "13            an    DET\n",
            "14      entirely    ADV\n",
            "15           new    ADJ\n",
            "16        design   NOUN\n",
            "17             ,  PUNCT\n",
            "18           new    ADJ\n",
            "19         chips   NOUN\n",
            "20             ,  PUNCT\n",
            "21           new    ADJ\n",
            "22  capabilities   NOUN\n",
            "23             ,  PUNCT\n",
            "24           and  CCONJ\n",
            "25          more    ADJ\n",
            "26             .  PUNCT\n"
          ]
        }
      ]
    },
    {
      "cell_type": "markdown",
      "source": [
        "## Hyperparamt tuning"
      ],
      "metadata": {
        "id": "aEeSoRhVsxVy"
      },
      "id": "aEeSoRhVsxVy"
    },
    {
      "cell_type": "code",
      "source": [
        "!pip install optuna"
      ],
      "metadata": {
        "colab": {
          "base_uri": "https://localhost:8080/"
        },
        "id": "afLFXWjTu11N",
        "outputId": "0fb61628-bc60-4eac-8d41-76979909d520"
      },
      "id": "afLFXWjTu11N",
      "execution_count": null,
      "outputs": [
        {
          "output_type": "stream",
          "name": "stdout",
          "text": [
            "Collecting optuna\n",
            "  Downloading optuna-3.6.1-py3-none-any.whl (380 kB)\n",
            "\u001b[2K     \u001b[90m━━━━━━━━━━━━━━━━━━━━━━━━━━━━━━━━━━━━━━━━\u001b[0m \u001b[32m380.1/380.1 kB\u001b[0m \u001b[31m8.7 MB/s\u001b[0m eta \u001b[36m0:00:00\u001b[0m\n",
            "\u001b[?25hCollecting alembic>=1.5.0 (from optuna)\n",
            "  Downloading alembic-1.13.1-py3-none-any.whl (233 kB)\n",
            "\u001b[2K     \u001b[90m━━━━━━━━━━━━━━━━━━━━━━━━━━━━━━━━━━━━━━━━\u001b[0m \u001b[32m233.4/233.4 kB\u001b[0m \u001b[31m13.2 MB/s\u001b[0m eta \u001b[36m0:00:00\u001b[0m\n",
            "\u001b[?25hCollecting colorlog (from optuna)\n",
            "  Downloading colorlog-6.8.2-py3-none-any.whl (11 kB)\n",
            "Requirement already satisfied: numpy in /usr/local/lib/python3.10/dist-packages (from optuna) (1.25.2)\n",
            "Requirement already satisfied: packaging>=20.0 in /usr/local/lib/python3.10/dist-packages (from optuna) (24.1)\n",
            "Requirement already satisfied: sqlalchemy>=1.3.0 in /usr/local/lib/python3.10/dist-packages (from optuna) (2.0.30)\n",
            "Requirement already satisfied: tqdm in /usr/local/lib/python3.10/dist-packages (from optuna) (4.66.4)\n",
            "Requirement already satisfied: PyYAML in /usr/local/lib/python3.10/dist-packages (from optuna) (6.0.1)\n",
            "Collecting Mako (from alembic>=1.5.0->optuna)\n",
            "  Downloading Mako-1.3.5-py3-none-any.whl (78 kB)\n",
            "\u001b[2K     \u001b[90m━━━━━━━━━━━━━━━━━━━━━━━━━━━━━━━━━━━━━━━━\u001b[0m \u001b[32m78.6/78.6 kB\u001b[0m \u001b[31m13.9 MB/s\u001b[0m eta \u001b[36m0:00:00\u001b[0m\n",
            "\u001b[?25hRequirement already satisfied: typing-extensions>=4 in /usr/local/lib/python3.10/dist-packages (from alembic>=1.5.0->optuna) (4.12.2)\n",
            "Requirement already satisfied: greenlet!=0.4.17 in /usr/local/lib/python3.10/dist-packages (from sqlalchemy>=1.3.0->optuna) (3.0.3)\n",
            "Requirement already satisfied: MarkupSafe>=0.9.2 in /usr/local/lib/python3.10/dist-packages (from Mako->alembic>=1.5.0->optuna) (2.1.5)\n",
            "Installing collected packages: Mako, colorlog, alembic, optuna\n",
            "Successfully installed Mako-1.3.5 alembic-1.13.1 colorlog-6.8.2 optuna-3.6.1\n"
          ]
        }
      ]
    },
    {
      "cell_type": "code",
      "source": [
        "from transformers import AutoTokenizer, AutoModelForTokenClassification, TrainingArguments, Trainer, DataCollatorForTokenClassification, TrainerCallback\n",
        "\n",
        "# Custom callback to log training and validation metrics\n",
        "class LoggingCallback(TrainerCallback):\n",
        "    def __init__(self):\n",
        "        self.train_loss = []\n",
        "        self.eval_loss = []\n",
        "        self.train_acc = []\n",
        "        self.eval_acc = []\n",
        "\n",
        "    def on_log(self, args, state, control, logs=None, **kwargs):\n",
        "        if logs is not None:\n",
        "            if \"loss\" in logs:\n",
        "                self.train_loss.append(logs[\"loss\"])\n",
        "            if \"eval_loss\" in logs:\n",
        "                self.eval_loss.append(logs[\"eval_loss\"])\n",
        "            if \"eval_accuracy\" in logs:\n",
        "                self.eval_acc.append(logs[\"eval_accuracy\"])\n",
        "            if \"accuracy\" in logs:\n",
        "                self.train_acc.append(logs[\"accuracy\"])\n"
      ],
      "metadata": {
        "id": "3aImGmbI4jw_"
      },
      "id": "3aImGmbI4jw_",
      "execution_count": null,
      "outputs": []
    },
    {
      "cell_type": "code",
      "source": [
        "import optuna\n",
        "from transformers import AutoTokenizer, AutoModelForTokenClassification, TrainingArguments, Trainer, DataCollatorForTokenClassification\n",
        "\n",
        "# Define a function to create a model and trainer with specific hyperparameters\n",
        "def model_init():\n",
        "    return AutoModelForTokenClassification.from_pretrained(model_name, num_labels=len(unique_tags)).to(\"cuda\")\n",
        "\n",
        "def objective(trial):\n",
        "    # Define the hyperparameters to tune with an emphasis on speed\n",
        "    learning_rate = trial.suggest_float(\"learning_rate\", 8e-5, 1e-4, log=True)  # Increased range for learning rate\n",
        "    num_train_epochs = trial.suggest_int(\"num_train_epochs\", 1, 3)  # Fewer epochs\n",
        "    per_device_train_batch_size = trial.suggest_categorical(\"per_device_train_batch_size\", [32, 64])  # Larger batch size\n",
        "\n",
        "    # Set up the training arguments with the suggested hyperparameters\n",
        "    training_args = TrainingArguments(\n",
        "        output_dir='./results',\n",
        "        num_train_epochs=num_train_epochs,\n",
        "        learning_rate=learning_rate,\n",
        "        per_device_train_batch_size=per_device_train_batch_size,\n",
        "        per_device_eval_batch_size=64,\n",
        "        weight_decay=0.01,\n",
        "        logging_dir='./logs',\n",
        "        report_to=\"none\",  # Disable TensorBoard logging\n",
        "        warmup_steps=100,  # Reduced warmup steps\n",
        "        evaluation_strategy=\"steps\",\n",
        "        eval_steps=300,  # Less frequent evaluation\n",
        "        save_steps=300,  # Less frequent saving\n",
        "        load_best_model_at_end=True,\n",
        "        save_total_limit=2  # Reduced total saved models\n",
        "    )\n",
        "\n",
        "    # Initialize the trainer\n",
        "    logging_callback = LoggingCallback()\n",
        "    trainer = Trainer(\n",
        "        model_init=model_init,\n",
        "        args=training_args,\n",
        "        train_dataset=tokenized_train_dataset,\n",
        "        eval_dataset=tokenized_dev_dataset,\n",
        "        tokenizer=tokenizer,\n",
        "        data_collator=data_collator,\n",
        "        callbacks=[logging_callback]\n",
        "    )\n",
        "\n",
        "    # Train the model and return the evaluation metric\n",
        "    trainer.train()\n",
        "    eval_result = trainer.evaluate()\n",
        "    return eval_result[\"eval_loss\"]\n",
        "\n",
        "# Create an Optuna study and optimize the objective function\n",
        "study = optuna.create_study(direction=\"minimize\")\n",
        "study.optimize(objective, n_trials=3)\n",
        "\n",
        "\n",
        "# Print the best hyperparameters\n",
        "print(\"Best hyperparameters: \", study.best_params)\n",
        "\n",
        "# Train the final model with the best hyperparameters\n",
        "best_hparams = study.best_params\n",
        "\n",
        "# Set up the training arguments with the best hyperparameters\n",
        "training_args = TrainingArguments(\n",
        "    output_dir='./results',\n",
        "    num_train_epochs=best_hparams[\"num_train_epochs\"],\n",
        "    learning_rate=best_hparams[\"learning_rate\"],\n",
        "    per_device_train_batch_size=best_hparams[\"per_device_train_batch_size\"],\n",
        "    per_device_eval_batch_size=64,\n",
        "    weight_decay=0.01,\n",
        "    logging_dir='./logs',\n",
        "    report_to=\"none\",  # Disable TensorBoard logging\n",
        "    warmup_steps=100,\n",
        "    evaluation_strategy=\"steps\",\n",
        "    eval_steps=100,  # Less frequent evaluation\n",
        "    save_steps=100,\n",
        "    load_best_model_at_end=True,\n",
        "    save_total_limit=1\n",
        ")\n",
        "\n",
        "# Best hyperparameters:  {'learning_rate': 9.531350385721654e-05, 'num_train_epochs': 2, 'per_device_train_batch_size': 32}\n",
        "\n",
        "# Initialize the trainer with the best hyperparameters\n",
        "logging_callback = LoggingCallback()\n",
        "trainer = Trainer(\n",
        "    model_init=model_init,\n",
        "    args=training_args,\n",
        "    train_dataset=tokenized_train_dataset,\n",
        "    eval_dataset=tokenized_dev_dataset,\n",
        "    tokenizer=tokenizer,\n",
        "    data_collator=data_collator,\n",
        "    callbacks=[logging_callback]\n",
        ")\n",
        "\n",
        "# Train the final model\n",
        "trainer.train()\n",
        "\n",
        "# Evaluate the final model on the development set\n",
        "eval_results = trainer.evaluate()\n",
        "print(\"Evaluation results: \", eval_results)"
      ],
      "metadata": {
        "colab": {
          "base_uri": "https://localhost:8080/",
          "height": 976
        },
        "id": "Ezz01HkWu54p",
        "outputId": "e5d75975-3c73-458e-e811-82d24dcda178"
      },
      "id": "Ezz01HkWu54p",
      "execution_count": null,
      "outputs": [
        {
          "output_type": "stream",
          "name": "stderr",
          "text": [
            "[I 2024-06-15 13:11:52,846] A new study created in memory with name: no-name-e564beaa-561a-4b30-ae2e-fba5dba144e7\n",
            "/usr/local/lib/python3.10/dist-packages/transformers/training_args.py:1474: FutureWarning: `evaluation_strategy` is deprecated and will be removed in version 4.46 of 🤗 Transformers. Use `eval_strategy` instead\n",
            "  warnings.warn(\n",
            "Some weights of BertForTokenClassification were not initialized from the model checkpoint at bert-base-uncased and are newly initialized: ['classifier.bias', 'classifier.weight']\n",
            "You should probably TRAIN this model on a down-stream task to be able to use it for predictions and inference.\n",
            "Some weights of BertForTokenClassification were not initialized from the model checkpoint at bert-base-uncased and are newly initialized: ['classifier.bias', 'classifier.weight']\n",
            "You should probably TRAIN this model on a down-stream task to be able to use it for predictions and inference.\n"
          ]
        },
        {
          "output_type": "display_data",
          "data": {
            "text/plain": [
              "<IPython.core.display.HTML object>"
            ],
            "text/html": [
              "\n",
              "    <div>\n",
              "      \n",
              "      <progress value='414' max='414' style='width:300px; height:20px; vertical-align: middle;'></progress>\n",
              "      [414/414 06:06, Epoch 3/3]\n",
              "    </div>\n",
              "    <table border=\"1\" class=\"dataframe\">\n",
              "  <thead>\n",
              " <tr style=\"text-align: left;\">\n",
              "      <th>Step</th>\n",
              "      <th>Training Loss</th>\n",
              "      <th>Validation Loss</th>\n",
              "    </tr>\n",
              "  </thead>\n",
              "  <tbody>\n",
              "    <tr>\n",
              "      <td>300</td>\n",
              "      <td>No log</td>\n",
              "      <td>0.072218</td>\n",
              "    </tr>\n",
              "  </tbody>\n",
              "</table><p>"
            ]
          },
          "metadata": {}
        },
        {
          "output_type": "display_data",
          "data": {
            "text/plain": [
              "<IPython.core.display.HTML object>"
            ],
            "text/html": [
              "\n",
              "    <div>\n",
              "      \n",
              "      <progress value='30' max='30' style='width:300px; height:20px; vertical-align: middle;'></progress>\n",
              "      [30/30 00:07]\n",
              "    </div>\n",
              "    "
            ]
          },
          "metadata": {}
        },
        {
          "output_type": "stream",
          "name": "stderr",
          "text": [
            "[I 2024-06-15 13:18:09,733] Trial 0 finished with value: 0.07221844792366028 and parameters: {'learning_rate': 9.893783889060243e-05, 'num_train_epochs': 3, 'per_device_train_batch_size': 64}. Best is trial 0 with value: 0.07221844792366028.\n",
            "/usr/local/lib/python3.10/dist-packages/transformers/training_args.py:1474: FutureWarning: `evaluation_strategy` is deprecated and will be removed in version 4.46 of 🤗 Transformers. Use `eval_strategy` instead\n",
            "  warnings.warn(\n",
            "Some weights of BertForTokenClassification were not initialized from the model checkpoint at bert-base-uncased and are newly initialized: ['classifier.bias', 'classifier.weight']\n",
            "You should probably TRAIN this model on a down-stream task to be able to use it for predictions and inference.\n",
            "Some weights of BertForTokenClassification were not initialized from the model checkpoint at bert-base-uncased and are newly initialized: ['classifier.bias', 'classifier.weight']\n",
            "You should probably TRAIN this model on a down-stream task to be able to use it for predictions and inference.\n"
          ]
        },
        {
          "output_type": "display_data",
          "data": {
            "text/plain": [
              "<IPython.core.display.HTML object>"
            ],
            "text/html": [
              "\n",
              "    <div>\n",
              "      \n",
              "      <progress value='414' max='414' style='width:300px; height:20px; vertical-align: middle;'></progress>\n",
              "      [414/414 06:02, Epoch 3/3]\n",
              "    </div>\n",
              "    <table border=\"1\" class=\"dataframe\">\n",
              "  <thead>\n",
              " <tr style=\"text-align: left;\">\n",
              "      <th>Step</th>\n",
              "      <th>Training Loss</th>\n",
              "      <th>Validation Loss</th>\n",
              "    </tr>\n",
              "  </thead>\n",
              "  <tbody>\n",
              "    <tr>\n",
              "      <td>300</td>\n",
              "      <td>No log</td>\n",
              "      <td>0.071780</td>\n",
              "    </tr>\n",
              "  </tbody>\n",
              "</table><p>"
            ]
          },
          "metadata": {}
        },
        {
          "output_type": "display_data",
          "data": {
            "text/plain": [
              "<IPython.core.display.HTML object>"
            ],
            "text/html": [
              "\n",
              "    <div>\n",
              "      \n",
              "      <progress value='30' max='30' style='width:300px; height:20px; vertical-align: middle;'></progress>\n",
              "      [30/30 00:07]\n",
              "    </div>\n",
              "    "
            ]
          },
          "metadata": {}
        },
        {
          "output_type": "stream",
          "name": "stderr",
          "text": [
            "[I 2024-06-15 13:24:21,372] Trial 1 finished with value: 0.07177998870611191 and parameters: {'learning_rate': 8.007553739160411e-05, 'num_train_epochs': 3, 'per_device_train_batch_size': 64}. Best is trial 1 with value: 0.07177998870611191.\n",
            "/usr/local/lib/python3.10/dist-packages/transformers/training_args.py:1474: FutureWarning: `evaluation_strategy` is deprecated and will be removed in version 4.46 of 🤗 Transformers. Use `eval_strategy` instead\n",
            "  warnings.warn(\n",
            "Some weights of BertForTokenClassification were not initialized from the model checkpoint at bert-base-uncased and are newly initialized: ['classifier.bias', 'classifier.weight']\n",
            "You should probably TRAIN this model on a down-stream task to be able to use it for predictions and inference.\n",
            "Some weights of BertForTokenClassification were not initialized from the model checkpoint at bert-base-uncased and are newly initialized: ['classifier.bias', 'classifier.weight']\n",
            "You should probably TRAIN this model on a down-stream task to be able to use it for predictions and inference.\n"
          ]
        },
        {
          "output_type": "display_data",
          "data": {
            "text/plain": [
              "<IPython.core.display.HTML object>"
            ],
            "text/html": [
              "\n",
              "    <div>\n",
              "      \n",
              "      <progress value='276' max='276' style='width:300px; height:20px; vertical-align: middle;'></progress>\n",
              "      [276/276 03:22, Epoch 2/2]\n",
              "    </div>\n",
              "    <table border=\"1\" class=\"dataframe\">\n",
              "  <thead>\n",
              " <tr style=\"text-align: left;\">\n",
              "      <th>Step</th>\n",
              "      <th>Training Loss</th>\n",
              "      <th>Validation Loss</th>\n",
              "    </tr>\n",
              "  </thead>\n",
              "  <tbody>\n",
              "  </tbody>\n",
              "</table><p>"
            ]
          },
          "metadata": {}
        },
        {
          "output_type": "display_data",
          "data": {
            "text/plain": [
              "<IPython.core.display.HTML object>"
            ],
            "text/html": [
              "\n",
              "    <div>\n",
              "      \n",
              "      <progress value='30' max='30' style='width:300px; height:20px; vertical-align: middle;'></progress>\n",
              "      [30/30 00:07]\n",
              "    </div>\n",
              "    "
            ]
          },
          "metadata": {}
        },
        {
          "output_type": "stream",
          "name": "stderr",
          "text": [
            "[I 2024-06-15 13:27:53,868] Trial 2 finished with value: 0.07092352956533432 and parameters: {'learning_rate': 9.615034491606915e-05, 'num_train_epochs': 2, 'per_device_train_batch_size': 64}. Best is trial 2 with value: 0.07092352956533432.\n",
            "/usr/local/lib/python3.10/dist-packages/transformers/training_args.py:1474: FutureWarning: `evaluation_strategy` is deprecated and will be removed in version 4.46 of 🤗 Transformers. Use `eval_strategy` instead\n",
            "  warnings.warn(\n"
          ]
        },
        {
          "output_type": "stream",
          "name": "stdout",
          "text": [
            "Best hyperparameters:  {'learning_rate': 9.615034491606915e-05, 'num_train_epochs': 2, 'per_device_train_batch_size': 64}\n"
          ]
        },
        {
          "output_type": "stream",
          "name": "stderr",
          "text": [
            "Some weights of BertForTokenClassification were not initialized from the model checkpoint at bert-base-uncased and are newly initialized: ['classifier.bias', 'classifier.weight']\n",
            "You should probably TRAIN this model on a down-stream task to be able to use it for predictions and inference.\n",
            "Some weights of BertForTokenClassification were not initialized from the model checkpoint at bert-base-uncased and are newly initialized: ['classifier.bias', 'classifier.weight']\n",
            "You should probably TRAIN this model on a down-stream task to be able to use it for predictions and inference.\n"
          ]
        },
        {
          "output_type": "display_data",
          "data": {
            "text/plain": [
              "<IPython.core.display.HTML object>"
            ],
            "text/html": [
              "\n",
              "    <div>\n",
              "      \n",
              "      <progress value='276' max='276' style='width:300px; height:20px; vertical-align: middle;'></progress>\n",
              "      [276/276 04:50, Epoch 2/2]\n",
              "    </div>\n",
              "    <table border=\"1\" class=\"dataframe\">\n",
              "  <thead>\n",
              " <tr style=\"text-align: left;\">\n",
              "      <th>Step</th>\n",
              "      <th>Training Loss</th>\n",
              "      <th>Validation Loss</th>\n",
              "    </tr>\n",
              "  </thead>\n",
              "  <tbody>\n",
              "    <tr>\n",
              "      <td>100</td>\n",
              "      <td>No log</td>\n",
              "      <td>0.122099</td>\n",
              "    </tr>\n",
              "    <tr>\n",
              "      <td>200</td>\n",
              "      <td>No log</td>\n",
              "      <td>0.078341</td>\n",
              "    </tr>\n",
              "  </tbody>\n",
              "</table><p>"
            ]
          },
          "metadata": {}
        },
        {
          "output_type": "display_data",
          "data": {
            "text/plain": [
              "<IPython.core.display.HTML object>"
            ],
            "text/html": [
              "\n",
              "    <div>\n",
              "      \n",
              "      <progress value='30' max='30' style='width:300px; height:20px; vertical-align: middle;'></progress>\n",
              "      [30/30 00:07]\n",
              "    </div>\n",
              "    "
            ]
          },
          "metadata": {}
        },
        {
          "output_type": "stream",
          "name": "stdout",
          "text": [
            "Evaluation results:  {'eval_loss': 0.07834108918905258, 'eval_runtime': 7.4299, 'eval_samples_per_second': 253.299, 'eval_steps_per_second': 4.038, 'epoch': 2.0}\n"
          ]
        }
      ]
    },
    {
      "cell_type": "code",
      "source": [
        "import matplotlib.pyplot as plt\n",
        "\n",
        "# Plotting training and validation accuracy\n",
        "plt.figure()\n",
        "if logging_callback.train_acc:\n",
        "    plt.plot(logging_callback.train_acc, label='Train Accuracy')\n",
        "if logging_callback.eval_acc:\n",
        "    plt.plot(logging_callback.eval_acc, label='Validation Accuracy')\n",
        "plt.title('BERT Model Accuracy')\n",
        "plt.ylabel('Accuracy')\n",
        "plt.xlabel('Step')\n",
        "plt.legend(loc='upper left')\n",
        "plt.savefig('accuracy_plot.png')  # Save the plot as an image\n",
        "plt.show()\n",
        "\n",
        "# Plotting training and validation loss\n",
        "plt.figure()\n",
        "if logging_callback.train_loss:\n",
        "    plt.plot(logging_callback.train_loss, label='Train Loss')\n",
        "if logging_callback.eval_loss:\n",
        "    plt.plot(logging_callback.eval_loss, label='Validation Loss')\n",
        "plt.title('BERT Model Loss')\n",
        "plt.ylabel('Loss')\n",
        "plt.xlabel('Step')\n",
        "plt.legend(loc='upper right')\n",
        "plt.savefig('loss_plot.png')  # Save the plot as an image\n",
        "plt.show()\n"
      ],
      "metadata": {
        "colab": {
          "base_uri": "https://localhost:8080/",
          "height": 944
        },
        "id": "vyQITTkFIXLJ",
        "outputId": "9d4cf6fe-cd98-43fe-e940-1e8a79c81dfd"
      },
      "id": "vyQITTkFIXLJ",
      "execution_count": null,
      "outputs": [
        {
          "output_type": "stream",
          "name": "stderr",
          "text": [
            "WARNING:matplotlib.legend:No artists with labels found to put in legend.  Note that artists whose label start with an underscore are ignored when legend() is called with no argument.\n"
          ]
        },
        {
          "output_type": "display_data",
          "data": {
            "text/plain": [
              "<Figure size 640x480 with 1 Axes>"
            ],
            "image/png": "[encoded data removed]"
          },
          "metadata": {}
        },
        {
          "output_type": "display_data",
          "data": {
            "text/plain": [
              "<Figure size 640x480 with 1 Axes>"
            ],
            "image/png": "[encoded data removed]"
          },
          "metadata": {}
        }
      ]
    },
    {
      "cell_type": "code",
      "source": [
        "print(\"Training Accuracy:\", logging_callback.train_acc)\n",
        "print(\"Validation Accuracy:\", logging_callback.eval_acc)\n",
        "print(\"Training Loss:\", logging_callback.train_loss)\n",
        "print(\"Validation Loss:\", logging_callback.eval_loss)\n"
      ],
      "metadata": {
        "id": "0vIxBKgeI3FK",
        "outputId": "fdad04a8-d129-406c-8b5c-890f7ea36376",
        "colab": {
          "base_uri": "https://localhost:8080/"
        }
      },
      "id": "0vIxBKgeI3FK",
      "execution_count": null,
      "outputs": [
        {
          "output_type": "stream",
          "name": "stdout",
          "text": [
            "Training Accuracy: []\n",
            "Validation Accuracy: []\n",
            "Training Loss: []\n",
            "Validation Loss: [0.12209877371788025, 0.07834108918905258, 0.07834108918905258]\n"
          ]
        }
      ]
    },
    {
      "cell_type": "markdown",
      "source": [
        "### Evaluation in Test Dataset"
      ],
      "metadata": {
        "id": "QWb3JOx6AXiX"
      },
      "id": "QWb3JOx6AXiX"
    },
    {
      "cell_type": "code",
      "source": [
        "tokenized_test_dataset = test_dataset.map(tokenize_and_align_labels, batched=True)"
      ],
      "metadata": {
        "colab": {
          "base_uri": "https://localhost:8080/",
          "height": 49,
          "referenced_widgets": [
            "29038d15497743cabe391400f2a5f2b2",
            "974b6e4c83e145a883595c9d77829250",
            "88090a521cd743f5a81372045cebfd8c",
            "a842f3b0cacb48b0a0dc54ed931575d2",
            "1f627c6dec6b44529dc2418a67498832",
            "444952d7fa7c4c5fb522b30136381150",
            "d46d68b3d87444e1a4f98e2d62b4802a",
            "8d4a11f9b59d40f489e5450b64043adc",
            "f9f07ee814184c8daeaae96727eef769",
            "e74c9b8ea14d48cfb85f085a2c902404",
            "070c69880e31439ca680db885e977d98"
          ]
        },
        "id": "5xr-6pDXGWS6",
        "outputId": "bae0d7f2-d41c-4906-f9b2-01b1158d4064"
      },
      "id": "5xr-6pDXGWS6",
      "execution_count": null,
      "outputs": [
        {
          "output_type": "display_data",
          "data": {
            "text/plain": [
              "Map:   0%|          | 0/1882 [00:00<?, ? examples/s]"
            ],
            "application/vnd.jupyter.widget-view+json": {
              "version_major": 2,
              "version_minor": 0,
              "model_id": "29038d15497743cabe391400f2a5f2b2"
            }
          },
          "metadata": {}
        }
      ]
    },
    {
      "cell_type": "code",
      "source": [
        "# Use the trainer to make predictions\n",
        "predictions, labels, _ = trainer.predict(tokenized_test_dataset)\n",
        "\n",
        "# Convert predictions to tag names\n",
        "predicted_tag_ids = np.argmax(predictions, axis=2)\n",
        "\n",
        "# Remove ignored index (special tokens) from predictions and labels\n",
        "true_labels = [[label for label, mask in zip(label_seq, label_seq != -100) if mask] for label_seq in labels]\n",
        "predicted_labels = [[pred for pred, mask in zip(pred_seq, label_seq != -100) if mask] for pred_seq, label_seq in zip(predicted_tag_ids, labels)]\n",
        "\n",
        "# Flatten the lists to get all tokens together\n",
        "true_labels_flat = [label for sublist in true_labels for label in sublist]\n",
        "predicted_labels_flat = [label for sublist in predicted_labels for label in sublist]\n",
        "\n",
        "# Map the tag IDs back to the original tag names\n",
        "true_tag_names = [sorted_unique_tags[label] for label in true_labels_flat]\n",
        "predicted_tag_names = [sorted_unique_tags[label] for label in predicted_labels_flat]\n",
        "\n",
        "# Generate classification report\n",
        "report = classification_report(true_tag_names, predicted_tag_names, labels=sorted_unique_tags, target_names=sorted_unique_tags)\n",
        "print(report)"
      ],
      "metadata": {
        "colab": {
          "base_uri": "https://localhost:8080/",
          "height": 451
        },
        "id": "TnP72V1FAW5H",
        "outputId": "44f1b9b1-3657-427d-b357-ac9973652bcb"
      },
      "id": "TnP72V1FAW5H",
      "execution_count": null,
      "outputs": [
        {
          "output_type": "display_data",
          "data": {
            "text/plain": [
              "<IPython.core.display.HTML object>"
            ],
            "text/html": []
          },
          "metadata": {}
        },
        {
          "output_type": "stream",
          "name": "stdout",
          "text": [
            "              precision    recall  f1-score   support\n",
            "\n",
            "         ADJ       0.96      0.96      0.96      1947\n",
            "         ADP       0.98      0.98      0.98      2654\n",
            "         ADV       0.96      0.95      0.95      1539\n",
            "         AUX       1.00      0.99      1.00      1951\n",
            "       CCONJ       0.99      1.00      1.00       946\n",
            "         DET       1.00      0.99      1.00      2448\n",
            "        INTJ       0.88      0.95      0.92       125\n",
            "        NOUN       0.97      0.97      0.97      5159\n",
            "         NUM       0.98      0.99      0.99       589\n",
            "        PART       1.00      0.99      0.99       879\n",
            "        PRON       1.00      1.00      1.00      2741\n",
            "       PROPN       0.94      0.94      0.94      1834\n",
            "       PUNCT       1.00      1.00      1.00      3523\n",
            "       SCONJ       0.95      0.95      0.95       580\n",
            "         SYM       0.91      0.90      0.90        97\n",
            "        VERB       0.98      0.99      0.99      3313\n",
            "           X       1.00      0.15      0.26        47\n",
            "           _       0.99      0.99      0.99       388\n",
            "\n",
            "    accuracy                           0.98     30760\n",
            "   macro avg       0.97      0.93      0.93     30760\n",
            "weighted avg       0.98      0.98      0.98     30760\n",
            "\n"
          ]
        }
      ]
    },
    {
      "cell_type": "markdown",
      "source": [
        "## Extra Bonus"
      ],
      "metadata": {
        "id": "m1xDfvQG-KpQ"
      },
      "id": "m1xDfvQG-KpQ"
    },
    {
      "cell_type": "code",
      "source": [
        "sample_test_words = [\n",
        "    [\"Sara\"],\n",
        "    [\"Vince\"],\n",
        "    [\"The\", \"invasion\", \"of\", \"Iraq\", \"provided\", \"marvelous\", \"political\", \"cover\", \"for\", \"the\", \"GOP\", \"not\", \"only\", \"during\", \"those\", \"midterms\", \",\", \"but\", \"during\", \"the\", \"2004\", \"Presidential\", \"election\", \".\"],\n",
        "    [\"Smutney\", \"-\", \"Jones\", \"also\", \"said\", \"he\", \"was\", \"unaware\", \"of\", \"anyone\", \"in\", \"the\", \"power\", \"-\", \"generating\", \"community\", \"being\", \"consulted\", \".\"],\n",
        "    [\"If\", \"you\", \"have\", \"any\", \"comments\", \",\", \"please\", \"let\", \"me\", \"know\", \".\"],\n",
        "    [\"Now\", \",\", \"of\", \"course\", \",\", \"there's\", \"there\", \"'s\", \"a\", \"new\", \"building\", \",\", \"with\", \"presumably\", \"better\", \"facilities\", \".\"],\n",
        "    [\"Chris\"],\n",
        "    [\"He's\", \"He\", \"'s\", \"not\", \"putting\", \"it\", \"back\", \"on\", \".\"],\n",
        "    [\"It\", \"simply\", \"refers\", \"to\", \"the\", \"same\", \"ICC\", \"publication\", \"for\", \"the\", \"transfer\", \"process\", \"that\", \"governs\", \"the\", \"letter\", \"of\", \"credit\", \"generally\", \".\"],\n",
        "    [\"His\", \"one\", \"-\", \"day\", \"mission\", \"vaulted\", \"his\", \"communist\", \"homeland\", \"into\", \"the\", \"elite\", \"circle\", \"of\", \"spacefaring\", \"nations\", \"-\", \"Russia\", \"and\", \"the\", \"United\", \"States\", \"-\", \"that\", \"can\", \"launch\", \"and\", \"sustain\", \"humans\", \"in\", \"space\", \".\"]\n",
        "]\n",
        "\n",
        "sample_test_tags = [\n",
        "    [\"PROPN\"],\n",
        "    [\"PROPN\"],\n",
        "    [\"DET\", \"NOUN\", \"ADP\", \"PROPN\", \"VERB\", \"ADJ\", \"ADJ\", \"NOUN\", \"ADP\", \"DET\", \"PROPN\", \"PART\", \"ADV\", \"ADP\", \"DET\", \"NOUN\", \"PUNCT\", \"CCONJ\", \"ADP\", \"DET\", \"NUM\", \"ADJ\", \"NOUN\", \"PUNCT\"],\n",
        "    [\"PROPN\", \"PUNCT\", \"PROPN\", \"ADV\", \"VERB\", \"PRON\", \"AUX\", \"ADJ\", \"SCONJ\", \"PRON\", \"ADP\", \"DET\", \"NOUN\", \"PUNCT\", \"NOUN\", \"NOUN\", \"AUX\", \"VERB\", \"PUNCT\"],\n",
        "    [\"SCONJ\", \"PRON\", \"VERB\", \"DET\", \"NOUN\", \"PUNCT\", \"INTJ\", \"VERB\", \"PRON\", \"VERB\", \"PUNCT\"],\n",
        "    [\"ADV\", \"PUNCT\", \"ADP\", \"NOUN\", \"PUNCT\", \"_\", \"PRON\", \"VERB\", \"DET\", \"ADJ\", \"NOUN\", \"PUNCT\", \"ADP\", \"ADV\", \"ADJ\", \"NOUN\", \"PUNCT\"],\n",
        "    [\"PROPN\"],\n",
        "    [\"_\", \"PRON\", \"AUX\", \"PART\", \"VERB\", \"PRON\", \"ADV\", \"ADV\", \"PUNCT\"],\n",
        "    [\"PRON\", \"ADV\", \"VERB\", \"ADP\", \"DET\", \"ADJ\", \"NOUN\", \"NOUN\", \"ADP\", \"DET\", \"NOUN\", \"NOUN\", \"PRON\", \"VERB\", \"DET\", \"NOUN\", \"ADP\", \"NOUN\", \"ADV\", \"PUNCT\"],\n",
        "    [\"PRON\", \"NUM\", \"PUNCT\", \"NOUN\", \"NOUN\", \"VERB\", \"PRON\", \"ADJ\", \"NOUN\", \"ADP\", \"DET\", \"ADJ\", \"NOUN\", \"ADP\", \"ADJ\", \"NOUN\", \"PUNCT\", \"PROPN\", \"CCONJ\", \"DET\", \"ADJ\", \"PROPN\", \"PUNCT\", \"PRON\", \"AUX\", \"VERB\", \"CCONJ\", \"VERB\", \"NOUN\", \"ADP\", \"NOUN\", \"PUNCT\"]\n",
        "]\n"
      ],
      "metadata": {
        "id": "vstDLep6vjJl"
      },
      "id": "vstDLep6vjJl",
      "execution_count": null,
      "outputs": []
    },
    {
      "cell_type": "markdown",
      "source": [
        "### Prompting"
      ],
      "metadata": {
        "id": "DEmxKoHv-dM0"
      },
      "id": "DEmxKoHv-dM0"
    },
    {
      "cell_type": "markdown",
      "source": [
        "### Generate Predictions"
      ],
      "metadata": {
        "id": "cfFFvcV--iRs"
      },
      "id": "cfFFvcV--iRs"
    },
    {
      "cell_type": "code",
      "source": [
        "few_shot_prompt = \"\"\"\n",
        "You are a part-of-speech (POS) tagger. Given a sentence, you will provide the POS tags for each word.\n",
        "\n",
        "Example 1:\n",
        "Sentence: I love programming\n",
        "Tags: PRON VERB NOUN\n",
        "\n",
        "Example 2:\n",
        "Sentence: She is reading a book\n",
        "Tags: PRON VERB VERB DET NOUN\n",
        "\n",
        "Example 3:\n",
        "Sentence: The quick brown fox jumps over the lazy dog\n",
        "Tags: DET ADJ ADJ NOUN VERB ADP DET ADJ NOUN\n",
        "\n",
        "Now, please provide the POS tags for the following sentence:\n",
        "\"\"\"\n",
        "\n",
        "prompts = []\n",
        "for i, words in enumerate(sample_test_words):\n",
        "    sentence = \" \".join(words)\n",
        "    prompt = few_shot_prompt + f\"\\nSentence: {sentence}\\nTags: \"\n",
        "    prompts.append(prompt)\n"
      ],
      "metadata": {
        "id": "7d_JbglF-fvm"
      },
      "id": "7d_JbglF-fvm",
      "execution_count": null,
      "outputs": []
    },
    {
      "cell_type": "code",
      "source": [
        "# !pip install torch transformers[torch] accelerate -U"
      ],
      "metadata": {
        "id": "qhNf-rjnH71u"
      },
      "id": "qhNf-rjnH71u",
      "execution_count": null,
      "outputs": []
    },
    {
      "cell_type": "code",
      "source": [
        "import torch\n",
        "\n",
        "# Assuming your model and tokenizer are already loaded\n",
        "tokenized_test_examples = tokenizer(sample_test_words, is_split_into_words=True, return_tensors=\"pt\", padding=True, truncation=True)\n",
        "inputs = tokenized_test_examples['input_ids'].to('cuda')\n",
        "attention_mask = tokenized_test_examples['attention_mask'].to('cuda')\n",
        "\n",
        "with torch.no_grad():\n",
        "    outputs = model(inputs, attention_mask=attention_mask)\n",
        "    logits = outputs.logits\n",
        "\n",
        "predicted_ids = torch.argmax(logits, dim=2).cpu().numpy()\n",
        "\n",
        "# Convert predictions to tag names\n",
        "predicted_tags = [[sorted_unique_tags[idx] for idx in pred_seq] for pred_seq in predicted_ids]\n",
        "\n",
        "# Align predicted tags with words\n",
        "aligned_predicted_tags = []\n",
        "for words, tags in zip(sample_test_words, predicted_tags):\n",
        "    aligned_tags = []\n",
        "    for word, tag in zip(words, tags):\n",
        "        if word:\n",
        "            aligned_tags.append(tag)\n",
        "    aligned_predicted_tags.append(aligned_tags)\n"
      ],
      "metadata": {
        "id": "C-pQERCx-fsd"
      },
      "id": "C-pQERCx-fsd",
      "execution_count": null,
      "outputs": []
    },
    {
      "cell_type": "code",
      "source": [
        "# Mock responses from ChatGPT\n",
        "chatgpt_responses = [\n",
        "    \"PROPN\",\n",
        "    \"PROPN\",\n",
        "    \"DET NOUN ADP PROPN VERB ADJ ADJ NOUN ADP DET PROPN PART ADV ADP DET NOUN PUNCT CCONJ ADP DET NUM ADJ NOUN PUNCT\",\n",
        "    \"PROPN PUNCT PROPN ADV VERB PRON AUX ADJ SCONJ PRON ADP DET NOUN PUNCT NOUN NOUN AUX VERB PUNCT\",\n",
        "    \"SCONJ PRON VERB DET NOUN PUNCT INTJ VERB PRON VERB PUNCT\",\n",
        "    \"ADV PUNCT ADP NOUN PUNCT _ PRON VERB DET ADJ NOUN PUNCT ADP ADV ADJ NOUN PUNCT\",\n",
        "    \"PROPN\",\n",
        "    \"_ PRON AUX PART VERB PRON ADV ADV PUNCT\",\n",
        "    \"PRON ADV VERB ADP DET ADJ NOUN NOUN ADP DET NOUN NOUN PRON VERB DET NOUN ADP NOUN ADV PUNCT\",\n",
        "    \"PRON NUM PUNCT NOUN NOUN VERB PRON ADJ NOUN ADP DET ADJ NOUN ADP ADJ NOUN PUNCT PROPN CCONJ DET ADJ PROPN PUNCT PRON AUX VERB CCONJ VERB NOUN ADP NOUN PUNCT\"\n",
        "]\n"
      ],
      "metadata": {
        "id": "mQs2OM0D-fpQ"
      },
      "id": "mQs2OM0D-fpQ",
      "execution_count": null,
      "outputs": []
    },
    {
      "cell_type": "code",
      "source": [
        "for i, (words, true_tags, pred_tags, chatgpt_tags) in enumerate(zip(sample_test_words, sample_test_tags, aligned_predicted_tags, chatgpt_responses)):\n",
        "    print(f\"Example {i+1}:\")\n",
        "    print(\"Words:\", words)\n",
        "    print(\"Ground Truth Tags:\", true_tags)\n",
        "    print(\"Predicted Tags (Model):\", pred_tags)\n",
        "    print(\"Predicted Tags (ChatGPT):\", chatgpt_tags)\n"
      ],
      "metadata": {
        "id": "8LpHW95rvjDg",
        "colab": {
          "base_uri": "https://localhost:8080/"
        },
        "outputId": "df3a5b04-e028-4d9d-d39b-5af5e8af062f"
      },
      "id": "8LpHW95rvjDg",
      "execution_count": null,
      "outputs": [
        {
          "output_type": "stream",
          "name": "stdout",
          "text": [
            "Example 1:\n",
            "Words: ['Sara']\n",
            "Ground Truth Tags: ['PROPN']\n",
            "Predicted Tags (Model): ['PUNCT']\n",
            "Predicted Tags (ChatGPT): PROPN\n",
            "Example 2:\n",
            "Words: ['Vince']\n",
            "Ground Truth Tags: ['PROPN']\n",
            "Predicted Tags (Model): ['PUNCT']\n",
            "Predicted Tags (ChatGPT): PROPN\n",
            "Example 3:\n",
            "Words: ['The', 'invasion', 'of', 'Iraq', 'provided', 'marvelous', 'political', 'cover', 'for', 'the', 'GOP', 'not', 'only', 'during', 'those', 'midterms', ',', 'but', 'during', 'the', '2004', 'Presidential', 'election', '.']\n",
            "Ground Truth Tags: ['DET', 'NOUN', 'ADP', 'PROPN', 'VERB', 'ADJ', 'ADJ', 'NOUN', 'ADP', 'DET', 'PROPN', 'PART', 'ADV', 'ADP', 'DET', 'NOUN', 'PUNCT', 'CCONJ', 'ADP', 'DET', 'NUM', 'ADJ', 'NOUN', 'PUNCT']\n",
            "Predicted Tags (Model): ['PUNCT', 'DET', 'NOUN', 'ADP', 'PROPN', 'VERB', 'ADJ', 'ADJ', 'NOUN', 'ADP', 'DET', 'PROPN', 'PROPN', 'PART', 'ADV', 'ADP', 'DET', 'NOUN', 'NOUN', 'NOUN', 'PUNCT', 'CCONJ', 'ADP', 'DET']\n",
            "Predicted Tags (ChatGPT): DET NOUN ADP PROPN VERB ADJ ADJ NOUN ADP DET PROPN PART ADV ADP DET NOUN PUNCT CCONJ ADP DET NUM ADJ NOUN PUNCT\n",
            "Example 4:\n",
            "Words: ['Smutney', '-', 'Jones', 'also', 'said', 'he', 'was', 'unaware', 'of', 'anyone', 'in', 'the', 'power', '-', 'generating', 'community', 'being', 'consulted', '.']\n",
            "Ground Truth Tags: ['PROPN', 'PUNCT', 'PROPN', 'ADV', 'VERB', 'PRON', 'AUX', 'ADJ', 'SCONJ', 'PRON', 'ADP', 'DET', 'NOUN', 'PUNCT', 'NOUN', 'NOUN', 'AUX', 'VERB', 'PUNCT']\n",
            "Predicted Tags (Model): ['PUNCT', 'PROPN', 'PROPN', 'PROPN', 'PUNCT', 'PROPN', 'ADV', 'VERB', 'PRON', 'AUX', 'ADJ', 'SCONJ', 'PRON', 'ADP', 'DET', 'NOUN', 'PUNCT', 'VERB', 'NOUN']\n",
            "Predicted Tags (ChatGPT): PROPN PUNCT PROPN ADV VERB PRON AUX ADJ SCONJ PRON ADP DET NOUN PUNCT NOUN NOUN AUX VERB PUNCT\n",
            "Example 5:\n",
            "Words: ['If', 'you', 'have', 'any', 'comments', ',', 'please', 'let', 'me', 'know', '.']\n",
            "Ground Truth Tags: ['SCONJ', 'PRON', 'VERB', 'DET', 'NOUN', 'PUNCT', 'INTJ', 'VERB', 'PRON', 'VERB', 'PUNCT']\n",
            "Predicted Tags (Model): ['PRON', 'SCONJ', 'PRON', 'VERB', 'DET', 'NOUN', 'PUNCT', 'INTJ', 'VERB', 'PRON', 'VERB']\n",
            "Predicted Tags (ChatGPT): SCONJ PRON VERB DET NOUN PUNCT INTJ VERB PRON VERB PUNCT\n",
            "Example 6:\n",
            "Words: ['Now', ',', 'of', 'course', ',', \"there's\", 'there', \"'s\", 'a', 'new', 'building', ',', 'with', 'presumably', 'better', 'facilities', '.']\n",
            "Ground Truth Tags: ['ADV', 'PUNCT', 'ADP', 'NOUN', 'PUNCT', '_', 'PRON', 'VERB', 'DET', 'ADJ', 'NOUN', 'PUNCT', 'ADP', 'ADV', 'ADJ', 'NOUN', 'PUNCT']\n",
            "Predicted Tags (Model): ['PUNCT', 'ADV', 'PUNCT', 'ADP', 'NOUN', 'PUNCT', '_', 'VERB', 'SCONJ', 'PRON', 'VERB', 'VERB', 'DET', 'ADJ', 'NOUN', 'PUNCT', 'ADP']\n",
            "Predicted Tags (ChatGPT): ADV PUNCT ADP NOUN PUNCT _ PRON VERB DET ADJ NOUN PUNCT ADP ADV ADJ NOUN PUNCT\n",
            "Example 7:\n",
            "Words: ['Chris']\n",
            "Ground Truth Tags: ['PROPN']\n",
            "Predicted Tags (Model): ['PUNCT']\n",
            "Predicted Tags (ChatGPT): PROPN\n",
            "Example 8:\n",
            "Words: [\"He's\", 'He', \"'s\", 'not', 'putting', 'it', 'back', 'on', '.']\n",
            "Ground Truth Tags: ['_', 'PRON', 'AUX', 'PART', 'VERB', 'PRON', 'ADV', 'ADV', 'PUNCT']\n",
            "Predicted Tags (Model): ['PRON', '_', 'AUX', 'PART', 'PRON', 'AUX', 'AUX', 'PART', 'VERB']\n",
            "Predicted Tags (ChatGPT): _ PRON AUX PART VERB PRON ADV ADV PUNCT\n",
            "Example 9:\n",
            "Words: ['It', 'simply', 'refers', 'to', 'the', 'same', 'ICC', 'publication', 'for', 'the', 'transfer', 'process', 'that', 'governs', 'the', 'letter', 'of', 'credit', 'generally', '.']\n",
            "Ground Truth Tags: ['PRON', 'ADV', 'VERB', 'ADP', 'DET', 'ADJ', 'NOUN', 'NOUN', 'ADP', 'DET', 'NOUN', 'NOUN', 'PRON', 'VERB', 'DET', 'NOUN', 'ADP', 'NOUN', 'ADV', 'PUNCT']\n",
            "Predicted Tags (Model): ['PUNCT', 'PRON', 'ADV', 'VERB', 'ADP', 'DET', 'ADJ', 'PROPN', 'NOUN', 'ADP', 'DET', 'NOUN', 'NOUN', 'PRON', 'VERB', 'AUX', 'DET', 'NOUN', 'ADP', 'NOUN']\n",
            "Predicted Tags (ChatGPT): PRON ADV VERB ADP DET ADJ NOUN NOUN ADP DET NOUN NOUN PRON VERB DET NOUN ADP NOUN ADV PUNCT\n",
            "Example 10:\n",
            "Words: ['His', 'one', '-', 'day', 'mission', 'vaulted', 'his', 'communist', 'homeland', 'into', 'the', 'elite', 'circle', 'of', 'spacefaring', 'nations', '-', 'Russia', 'and', 'the', 'United', 'States', '-', 'that', 'can', 'launch', 'and', 'sustain', 'humans', 'in', 'space', '.']\n",
            "Ground Truth Tags: ['PRON', 'NUM', 'PUNCT', 'NOUN', 'NOUN', 'VERB', 'PRON', 'ADJ', 'NOUN', 'ADP', 'DET', 'ADJ', 'NOUN', 'ADP', 'ADJ', 'NOUN', 'PUNCT', 'PROPN', 'CCONJ', 'DET', 'ADJ', 'PROPN', 'PUNCT', 'PRON', 'AUX', 'VERB', 'CCONJ', 'VERB', 'NOUN', 'ADP', 'NOUN', 'PUNCT']\n",
            "Predicted Tags (Model): ['PUNCT', 'PRON', 'NUM', 'PUNCT', 'NOUN', 'NOUN', 'VERB', 'PRON', 'ADJ', 'NOUN', 'ADP', 'DET', 'ADJ', 'NOUN', 'ADP', 'NOUN', 'VERB', 'VERB', 'NOUN', 'PUNCT', 'PROPN', 'CCONJ', 'DET', 'ADJ', 'PROPN', 'PUNCT', 'PRON', 'AUX', 'VERB', 'CCONJ', 'VERB', 'NOUN']\n",
            "Predicted Tags (ChatGPT): PRON NUM PUNCT NOUN NOUN VERB PRON ADJ NOUN ADP DET ADJ NOUN ADP ADJ NOUN PUNCT PROPN CCONJ DET ADJ PROPN PUNCT PRON AUX VERB CCONJ VERB NOUN ADP NOUN PUNCT\n"
          ]
        }
      ]
    }
  ],
  "metadata": {
    "colab": {
      "provenance": [],
      "gpuType": "T4"
    },
    "kernelspec": {
      "display_name": "Python 3",
      "name": "python3"
    },
    "language_info": {
      "codemirror_mode": {
        "name": "ipython",
        "version": 3
      },
      "file_extension": ".py",
      "mimetype": "text/x-python",
      "name": "python",
      "nbconvert_exporter": "python",
      "pygments_lexer": "ipython3",
      "version": "3.11.5"
    },
    "accelerator": "GPU",
    "widgets": {
      "application/vnd.jupyter.widget-state+json": {
        "036cb3557854459bad0589f56b1ab699": {
          "model_module": "@jupyter-widgets/controls",
          "model_name": "HBoxModel",
          "model_module_version": "1.5.0",
          "state": {
            "_dom_classes": [],
            "_model_module": "@jupyter-widgets/controls",
            "_model_module_version": "1.5.0",
            "_model_name": "HBoxModel",
            "_view_count": null,
            "_view_module": "@jupyter-widgets/controls",
            "_view_module_version": "1.5.0",
            "_view_name": "HBoxView",
            "box_style": "",
            "children": [
              "IPY_MODEL_3d6f9be6f4414ac4a409b9133e26805e",
              "IPY_MODEL_ea7d4711264947a5be8271467f4b006b",
              "IPY_MODEL_81e28af12c4f4c158e4a701f8b0788da"
            ],
            "layout": "IPY_MODEL_c71776ca39f44f7491519f9b42845a20"
          }
        },
        "3d6f9be6f4414ac4a409b9133e26805e": {
          "model_module": "@jupyter-widgets/controls",
          "model_name": "HTMLModel",
          "model_module_version": "1.5.0",
          "state": {
            "_dom_classes": [],
            "_model_module": "@jupyter-widgets/controls",
            "_model_module_version": "1.5.0",
            "_model_name": "HTMLModel",
            "_view_count": null,
            "_view_module": "@jupyter-widgets/controls",
            "_view_module_version": "1.5.0",
            "_view_name": "HTMLView",
            "description": "",
            "description_tooltip": null,
            "layout": "IPY_MODEL_da765fe921b6441893504024a69c425d",
            "placeholder": "​",
            "style": "IPY_MODEL_85f91de0461243b3ab94a683d37864df",
            "value": "Map: 100%"
          }
        },
        "ea7d4711264947a5be8271467f4b006b": {
          "model_module": "@jupyter-widgets/controls",
          "model_name": "FloatProgressModel",
          "model_module_version": "1.5.0",
          "state": {
            "_dom_classes": [],
            "_model_module": "@jupyter-widgets/controls",
            "_model_module_version": "1.5.0",
            "_model_name": "FloatProgressModel",
            "_view_count": null,
            "_view_module": "@jupyter-widgets/controls",
            "_view_module_version": "1.5.0",
            "_view_name": "ProgressView",
            "bar_style": "success",
            "description": "",
            "description_tooltip": null,
            "layout": "IPY_MODEL_1d5392635a0d4efaad6dca8b1ff6391f",
            "max": 1882,
            "min": 0,
            "orientation": "horizontal",
            "style": "IPY_MODEL_1b06dd91b1ca42d7af9c2a548048ab42",
            "value": 1882
          }
        },
        "81e28af12c4f4c158e4a701f8b0788da": {
          "model_module": "@jupyter-widgets/controls",
          "model_name": "HTMLModel",
          "model_module_version": "1.5.0",
          "state": {
            "_dom_classes": [],
            "_model_module": "@jupyter-widgets/controls",
            "_model_module_version": "1.5.0",
            "_model_name": "HTMLModel",
            "_view_count": null,
            "_view_module": "@jupyter-widgets/controls",
            "_view_module_version": "1.5.0",
            "_view_name": "HTMLView",
            "description": "",
            "description_tooltip": null,
            "layout": "IPY_MODEL_ebd3eb84c84340be8c9bbe567b7454ff",
            "placeholder": "​",
            "style": "IPY_MODEL_3ef7b975a68e4597845c01e10a2920d6",
            "value": " 1882/1882 [00:01&lt;00:00, 1729.59 examples/s]"
          }
        },
        "c71776ca39f44f7491519f9b42845a20": {
          "model_module": "@jupyter-widgets/base",
          "model_name": "LayoutModel",
          "model_module_version": "1.2.0",
          "state": {
            "_model_module": "@jupyter-widgets/base",
            "_model_module_version": "1.2.0",
            "_model_name": "LayoutModel",
            "_view_count": null,
            "_view_module": "@jupyter-widgets/base",
            "_view_module_version": "1.2.0",
            "_view_name": "LayoutView",
            "align_content": null,
            "align_items": null,
            "align_self": null,
            "border": null,
            "bottom": null,
            "display": null,
            "flex": null,
            "flex_flow": null,
            "grid_area": null,
            "grid_auto_columns": null,
            "grid_auto_flow": null,
            "grid_auto_rows": null,
            "grid_column": null,
            "grid_gap": null,
            "grid_row": null,
            "grid_template_areas": null,
            "grid_template_columns": null,
            "grid_template_rows": null,
            "height": null,
            "justify_content": null,
            "justify_items": null,
            "left": null,
            "margin": null,
            "max_height": null,
            "max_width": null,
            "min_height": null,
            "min_width": null,
            "object_fit": null,
            "object_position": null,
            "order": null,
            "overflow": null,
            "overflow_x": null,
            "overflow_y": null,
            "padding": null,
            "right": null,
            "top": null,
            "visibility": null,
            "width": null
          }
        },
        "da765fe921b6441893504024a69c425d": {
          "model_module": "@jupyter-widgets/base",
          "model_name": "LayoutModel",
          "model_module_version": "1.2.0",
          "state": {
            "_model_module": "@jupyter-widgets/base",
            "_model_module_version": "1.2.0",
            "_model_name": "LayoutModel",
            "_view_count": null,
            "_view_module": "@jupyter-widgets/base",
            "_view_module_version": "1.2.0",
            "_view_name": "LayoutView",
            "align_content": null,
            "align_items": null,
            "align_self": null,
            "border": null,
            "bottom": null,
            "display": null,
            "flex": null,
            "flex_flow": null,
            "grid_area": null,
            "grid_auto_columns": null,
            "grid_auto_flow": null,
            "grid_auto_rows": null,
            "grid_column": null,
            "grid_gap": null,
            "grid_row": null,
            "grid_template_areas": null,
            "grid_template_columns": null,
            "grid_template_rows": null,
            "height": null,
            "justify_content": null,
            "justify_items": null,
            "left": null,
            "margin": null,
            "max_height": null,
            "max_width": null,
            "min_height": null,
            "min_width": null,
            "object_fit": null,
            "object_position": null,
            "order": null,
            "overflow": null,
            "overflow_x": null,
            "overflow_y": null,
            "padding": null,
            "right": null,
            "top": null,
            "visibility": null,
            "width": null
          }
        },
        "85f91de0461243b3ab94a683d37864df": {
          "model_module": "@jupyter-widgets/controls",
          "model_name": "DescriptionStyleModel",
          "model_module_version": "1.5.0",
          "state": {
            "_model_module": "@jupyter-widgets/controls",
            "_model_module_version": "1.5.0",
            "_model_name": "DescriptionStyleModel",
            "_view_count": null,
            "_view_module": "@jupyter-widgets/base",
            "_view_module_version": "1.2.0",
            "_view_name": "StyleView",
            "description_width": ""
          }
        },
        "1d5392635a0d4efaad6dca8b1ff6391f": {
          "model_module": "@jupyter-widgets/base",
          "model_name": "LayoutModel",
          "model_module_version": "1.2.0",
          "state": {
            "_model_module": "@jupyter-widgets/base",
            "_model_module_version": "1.2.0",
            "_model_name": "LayoutModel",
            "_view_count": null,
            "_view_module": "@jupyter-widgets/base",
            "_view_module_version": "1.2.0",
            "_view_name": "LayoutView",
            "align_content": null,
            "align_items": null,
            "align_self": null,
            "border": null,
            "bottom": null,
            "display": null,
            "flex": null,
            "flex_flow": null,
            "grid_area": null,
            "grid_auto_columns": null,
            "grid_auto_flow": null,
            "grid_auto_rows": null,
            "grid_column": null,
            "grid_gap": null,
            "grid_row": null,
            "grid_template_areas": null,
            "grid_template_columns": null,
            "grid_template_rows": null,
            "height": null,
            "justify_content": null,
            "justify_items": null,
            "left": null,
            "margin": null,
            "max_height": null,
            "max_width": null,
            "min_height": null,
            "min_width": null,
            "object_fit": null,
            "object_position": null,
            "order": null,
            "overflow": null,
            "overflow_x": null,
            "overflow_y": null,
            "padding": null,
            "right": null,
            "top": null,
            "visibility": null,
            "width": null
          }
        },
        "1b06dd91b1ca42d7af9c2a548048ab42": {
          "model_module": "@jupyter-widgets/controls",
          "model_name": "ProgressStyleModel",
          "model_module_version": "1.5.0",
          "state": {
            "_model_module": "@jupyter-widgets/controls",
            "_model_module_version": "1.5.0",
            "_model_name": "ProgressStyleModel",
            "_view_count": null,
            "_view_module": "@jupyter-widgets/base",
            "_view_module_version": "1.2.0",
            "_view_name": "StyleView",
            "bar_color": null,
            "description_width": ""
          }
        },
        "ebd3eb84c84340be8c9bbe567b7454ff": {
          "model_module": "@jupyter-widgets/base",
          "model_name": "LayoutModel",
          "model_module_version": "1.2.0",
          "state": {
            "_model_module": "@jupyter-widgets/base",
            "_model_module_version": "1.2.0",
            "_model_name": "LayoutModel",
            "_view_count": null,
            "_view_module": "@jupyter-widgets/base",
            "_view_module_version": "1.2.0",
            "_view_name": "LayoutView",
            "align_content": null,
            "align_items": null,
            "align_self": null,
            "border": null,
            "bottom": null,
            "display": null,
            "flex": null,
            "flex_flow": null,
            "grid_area": null,
            "grid_auto_columns": null,
            "grid_auto_flow": null,
            "grid_auto_rows": null,
            "grid_column": null,
            "grid_gap": null,
            "grid_row": null,
            "grid_template_areas": null,
            "grid_template_columns": null,
            "grid_template_rows": null,
            "height": null,
            "justify_content": null,
            "justify_items": null,
            "left": null,
            "margin": null,
            "max_height": null,
            "max_width": null,
            "min_height": null,
            "min_width": null,
            "object_fit": null,
            "object_position": null,
            "order": null,
            "overflow": null,
            "overflow_x": null,
            "overflow_y": null,
            "padding": null,
            "right": null,
            "top": null,
            "visibility": null,
            "width": null
          }
        },
        "3ef7b975a68e4597845c01e10a2920d6": {
          "model_module": "@jupyter-widgets/controls",
          "model_name": "DescriptionStyleModel",
          "model_module_version": "1.5.0",
          "state": {
            "_model_module": "@jupyter-widgets/controls",
            "_model_module_version": "1.5.0",
            "_model_name": "DescriptionStyleModel",
            "_view_count": null,
            "_view_module": "@jupyter-widgets/base",
            "_view_module_version": "1.2.0",
            "_view_name": "StyleView",
            "description_width": ""
          }
        },
        "0c949419126e4bfea3058dee36bada91": {
          "model_module": "@jupyter-widgets/controls",
          "model_name": "HBoxModel",
          "model_module_version": "1.5.0",
          "state": {
            "_dom_classes": [],
            "_model_module": "@jupyter-widgets/controls",
            "_model_module_version": "1.5.0",
            "_model_name": "HBoxModel",
            "_view_count": null,
            "_view_module": "@jupyter-widgets/controls",
            "_view_module_version": "1.5.0",
            "_view_name": "HBoxView",
            "box_style": "",
            "children": [
              "IPY_MODEL_2ed0094892bf46cb94563f5aee349636",
              "IPY_MODEL_5c715789ea694731b4994829b32c408d",
              "IPY_MODEL_6f6f57779e084823879d121c3a3f9a51"
            ],
            "layout": "IPY_MODEL_adf3642dd20a4e3fadc9071f4aaeef45"
          }
        },
        "2ed0094892bf46cb94563f5aee349636": {
          "model_module": "@jupyter-widgets/controls",
          "model_name": "HTMLModel",
          "model_module_version": "1.5.0",
          "state": {
            "_dom_classes": [],
            "_model_module": "@jupyter-widgets/controls",
            "_model_module_version": "1.5.0",
            "_model_name": "HTMLModel",
            "_view_count": null,
            "_view_module": "@jupyter-widgets/controls",
            "_view_module_version": "1.5.0",
            "_view_name": "HTMLView",
            "description": "",
            "description_tooltip": null,
            "layout": "IPY_MODEL_6ebac4c281094a5990b3d855c5e856ea",
            "placeholder": "​",
            "style": "IPY_MODEL_b0b1615bf8a44221a87dc4d54e5e380b",
            "value": "Map: 100%"
          }
        },
        "5c715789ea694731b4994829b32c408d": {
          "model_module": "@jupyter-widgets/controls",
          "model_name": "FloatProgressModel",
          "model_module_version": "1.5.0",
          "state": {
            "_dom_classes": [],
            "_model_module": "@jupyter-widgets/controls",
            "_model_module_version": "1.5.0",
            "_model_name": "FloatProgressModel",
            "_view_count": null,
            "_view_module": "@jupyter-widgets/controls",
            "_view_module_version": "1.5.0",
            "_view_name": "ProgressView",
            "bar_style": "success",
            "description": "",
            "description_tooltip": null,
            "layout": "IPY_MODEL_3ce562c8f5f9456e92570d780fd590a5",
            "max": 8780,
            "min": 0,
            "orientation": "horizontal",
            "style": "IPY_MODEL_94cc291febd84fdc9d0645f41dbb1972",
            "value": 8780
          }
        },
        "6f6f57779e084823879d121c3a3f9a51": {
          "model_module": "@jupyter-widgets/controls",
          "model_name": "HTMLModel",
          "model_module_version": "1.5.0",
          "state": {
            "_dom_classes": [],
            "_model_module": "@jupyter-widgets/controls",
            "_model_module_version": "1.5.0",
            "_model_name": "HTMLModel",
            "_view_count": null,
            "_view_module": "@jupyter-widgets/controls",
            "_view_module_version": "1.5.0",
            "_view_name": "HTMLView",
            "description": "",
            "description_tooltip": null,
            "layout": "IPY_MODEL_df2aff42656b4ed38052a7e6b0b95da1",
            "placeholder": "​",
            "style": "IPY_MODEL_a554457af81847d6ae077d6370d4dced",
            "value": " 8780/8780 [00:02&lt;00:00, 4132.81 examples/s]"
          }
        },
        "adf3642dd20a4e3fadc9071f4aaeef45": {
          "model_module": "@jupyter-widgets/base",
          "model_name": "LayoutModel",
          "model_module_version": "1.2.0",
          "state": {
            "_model_module": "@jupyter-widgets/base",
            "_model_module_version": "1.2.0",
            "_model_name": "LayoutModel",
            "_view_count": null,
            "_view_module": "@jupyter-widgets/base",
            "_view_module_version": "1.2.0",
            "_view_name": "LayoutView",
            "align_content": null,
            "align_items": null,
            "align_self": null,
            "border": null,
            "bottom": null,
            "display": null,
            "flex": null,
            "flex_flow": null,
            "grid_area": null,
            "grid_auto_columns": null,
            "grid_auto_flow": null,
            "grid_auto_rows": null,
            "grid_column": null,
            "grid_gap": null,
            "grid_row": null,
            "grid_template_areas": null,
            "grid_template_columns": null,
            "grid_template_rows": null,
            "height": null,
            "justify_content": null,
            "justify_items": null,
            "left": null,
            "margin": null,
            "max_height": null,
            "max_width": null,
            "min_height": null,
            "min_width": null,
            "object_fit": null,
            "object_position": null,
            "order": null,
            "overflow": null,
            "overflow_x": null,
            "overflow_y": null,
            "padding": null,
            "right": null,
            "top": null,
            "visibility": null,
            "width": null
          }
        },
        "6ebac4c281094a5990b3d855c5e856ea": {
          "model_module": "@jupyter-widgets/base",
          "model_name": "LayoutModel",
          "model_module_version": "1.2.0",
          "state": {
            "_model_module": "@jupyter-widgets/base",
            "_model_module_version": "1.2.0",
            "_model_name": "LayoutModel",
            "_view_count": null,
            "_view_module": "@jupyter-widgets/base",
            "_view_module_version": "1.2.0",
            "_view_name": "LayoutView",
            "align_content": null,
            "align_items": null,
            "align_self": null,
            "border": null,
            "bottom": null,
            "display": null,
            "flex": null,
            "flex_flow": null,
            "grid_area": null,
            "grid_auto_columns": null,
            "grid_auto_flow": null,
            "grid_auto_rows": null,
            "grid_column": null,
            "grid_gap": null,
            "grid_row": null,
            "grid_template_areas": null,
            "grid_template_columns": null,
            "grid_template_rows": null,
            "height": null,
            "justify_content": null,
            "justify_items": null,
            "left": null,
            "margin": null,
            "max_height": null,
            "max_width": null,
            "min_height": null,
            "min_width": null,
            "object_fit": null,
            "object_position": null,
            "order": null,
            "overflow": null,
            "overflow_x": null,
            "overflow_y": null,
            "padding": null,
            "right": null,
            "top": null,
            "visibility": null,
            "width": null
          }
        },
        "b0b1615bf8a44221a87dc4d54e5e380b": {
          "model_module": "@jupyter-widgets/controls",
          "model_name": "DescriptionStyleModel",
          "model_module_version": "1.5.0",
          "state": {
            "_model_module": "@jupyter-widgets/controls",
            "_model_module_version": "1.5.0",
            "_model_name": "DescriptionStyleModel",
            "_view_count": null,
            "_view_module": "@jupyter-widgets/base",
            "_view_module_version": "1.2.0",
            "_view_name": "StyleView",
            "description_width": ""
          }
        },
        "3ce562c8f5f9456e92570d780fd590a5": {
          "model_module": "@jupyter-widgets/base",
          "model_name": "LayoutModel",
          "model_module_version": "1.2.0",
          "state": {
            "_model_module": "@jupyter-widgets/base",
            "_model_module_version": "1.2.0",
            "_model_name": "LayoutModel",
            "_view_count": null,
            "_view_module": "@jupyter-widgets/base",
            "_view_module_version": "1.2.0",
            "_view_name": "LayoutView",
            "align_content": null,
            "align_items": null,
            "align_self": null,
            "border": null,
            "bottom": null,
            "display": null,
            "flex": null,
            "flex_flow": null,
            "grid_area": null,
            "grid_auto_columns": null,
            "grid_auto_flow": null,
            "grid_auto_rows": null,
            "grid_column": null,
            "grid_gap": null,
            "grid_row": null,
            "grid_template_areas": null,
            "grid_template_columns": null,
            "grid_template_rows": null,
            "height": null,
            "justify_content": null,
            "justify_items": null,
            "left": null,
            "margin": null,
            "max_height": null,
            "max_width": null,
            "min_height": null,
            "min_width": null,
            "object_fit": null,
            "object_position": null,
            "order": null,
            "overflow": null,
            "overflow_x": null,
            "overflow_y": null,
            "padding": null,
            "right": null,
            "top": null,
            "visibility": null,
            "width": null
          }
        },
        "94cc291febd84fdc9d0645f41dbb1972": {
          "model_module": "@jupyter-widgets/controls",
          "model_name": "ProgressStyleModel",
          "model_module_version": "1.5.0",
          "state": {
            "_model_module": "@jupyter-widgets/controls",
            "_model_module_version": "1.5.0",
            "_model_name": "ProgressStyleModel",
            "_view_count": null,
            "_view_module": "@jupyter-widgets/base",
            "_view_module_version": "1.2.0",
            "_view_name": "StyleView",
            "bar_color": null,
            "description_width": ""
          }
        },
        "df2aff42656b4ed38052a7e6b0b95da1": {
          "model_module": "@jupyter-widgets/base",
          "model_name": "LayoutModel",
          "model_module_version": "1.2.0",
          "state": {
            "_model_module": "@jupyter-widgets/base",
            "_model_module_version": "1.2.0",
            "_model_name": "LayoutModel",
            "_view_count": null,
            "_view_module": "@jupyter-widgets/base",
            "_view_module_version": "1.2.0",
            "_view_name": "LayoutView",
            "align_content": null,
            "align_items": null,
            "align_self": null,
            "border": null,
            "bottom": null,
            "display": null,
            "flex": null,
            "flex_flow": null,
            "grid_area": null,
            "grid_auto_columns": null,
            "grid_auto_flow": null,
            "grid_auto_rows": null,
            "grid_column": null,
            "grid_gap": null,
            "grid_row": null,
            "grid_template_areas": null,
            "grid_template_columns": null,
            "grid_template_rows": null,
            "height": null,
            "justify_content": null,
            "justify_items": null,
            "left": null,
            "margin": null,
            "max_height": null,
            "max_width": null,
            "min_height": null,
            "min_width": null,
            "object_fit": null,
            "object_position": null,
            "order": null,
            "overflow": null,
            "overflow_x": null,
            "overflow_y": null,
            "padding": null,
            "right": null,
            "top": null,
            "visibility": null,
            "width": null
          }
        },
        "a554457af81847d6ae077d6370d4dced": {
          "model_module": "@jupyter-widgets/controls",
          "model_name": "DescriptionStyleModel",
          "model_module_version": "1.5.0",
          "state": {
            "_model_module": "@jupyter-widgets/controls",
            "_model_module_version": "1.5.0",
            "_model_name": "DescriptionStyleModel",
            "_view_count": null,
            "_view_module": "@jupyter-widgets/base",
            "_view_module_version": "1.2.0",
            "_view_name": "StyleView",
            "description_width": ""
          }
        },
        "29038d15497743cabe391400f2a5f2b2": {
          "model_module": "@jupyter-widgets/controls",
          "model_name": "HBoxModel",
          "model_module_version": "1.5.0",
          "state": {
            "_dom_classes": [],
            "_model_module": "@jupyter-widgets/controls",
            "_model_module_version": "1.5.0",
            "_model_name": "HBoxModel",
            "_view_count": null,
            "_view_module": "@jupyter-widgets/controls",
            "_view_module_version": "1.5.0",
            "_view_name": "HBoxView",
            "box_style": "",
            "children": [
              "IPY_MODEL_974b6e4c83e145a883595c9d77829250",
              "IPY_MODEL_88090a521cd743f5a81372045cebfd8c",
              "IPY_MODEL_a842f3b0cacb48b0a0dc54ed931575d2"
            ],
            "layout": "IPY_MODEL_1f627c6dec6b44529dc2418a67498832"
          }
        },
        "974b6e4c83e145a883595c9d77829250": {
          "model_module": "@jupyter-widgets/controls",
          "model_name": "HTMLModel",
          "model_module_version": "1.5.0",
          "state": {
            "_dom_classes": [],
            "_model_module": "@jupyter-widgets/controls",
            "_model_module_version": "1.5.0",
            "_model_name": "HTMLModel",
            "_view_count": null,
            "_view_module": "@jupyter-widgets/controls",
            "_view_module_version": "1.5.0",
            "_view_name": "HTMLView",
            "description": "",
            "description_tooltip": null,
            "layout": "IPY_MODEL_444952d7fa7c4c5fb522b30136381150",
            "placeholder": "​",
            "style": "IPY_MODEL_d46d68b3d87444e1a4f98e2d62b4802a",
            "value": "Map: 100%"
          }
        },
        "88090a521cd743f5a81372045cebfd8c": {
          "model_module": "@jupyter-widgets/controls",
          "model_name": "FloatProgressModel",
          "model_module_version": "1.5.0",
          "state": {
            "_dom_classes": [],
            "_model_module": "@jupyter-widgets/controls",
            "_model_module_version": "1.5.0",
            "_model_name": "FloatProgressModel",
            "_view_count": null,
            "_view_module": "@jupyter-widgets/controls",
            "_view_module_version": "1.5.0",
            "_view_name": "ProgressView",
            "bar_style": "success",
            "description": "",
            "description_tooltip": null,
            "layout": "IPY_MODEL_8d4a11f9b59d40f489e5450b64043adc",
            "max": 1882,
            "min": 0,
            "orientation": "horizontal",
            "style": "IPY_MODEL_f9f07ee814184c8daeaae96727eef769",
            "value": 1882
          }
        },
        "a842f3b0cacb48b0a0dc54ed931575d2": {
          "model_module": "@jupyter-widgets/controls",
          "model_name": "HTMLModel",
          "model_module_version": "1.5.0",
          "state": {
            "_dom_classes": [],
            "_model_module": "@jupyter-widgets/controls",
            "_model_module_version": "1.5.0",
            "_model_name": "HTMLModel",
            "_view_count": null,
            "_view_module": "@jupyter-widgets/controls",
            "_view_module_version": "1.5.0",
            "_view_name": "HTMLView",
            "description": "",
            "description_tooltip": null,
            "layout": "IPY_MODEL_e74c9b8ea14d48cfb85f085a2c902404",
            "placeholder": "​",
            "style": "IPY_MODEL_070c69880e31439ca680db885e977d98",
            "value": " 1882/1882 [00:00&lt;00:00, 5164.41 examples/s]"
          }
        },
        "1f627c6dec6b44529dc2418a67498832": {
          "model_module": "@jupyter-widgets/base",
          "model_name": "LayoutModel",
          "model_module_version": "1.2.0",
          "state": {
            "_model_module": "@jupyter-widgets/base",
            "_model_module_version": "1.2.0",
            "_model_name": "LayoutModel",
            "_view_count": null,
            "_view_module": "@jupyter-widgets/base",
            "_view_module_version": "1.2.0",
            "_view_name": "LayoutView",
            "align_content": null,
            "align_items": null,
            "align_self": null,
            "border": null,
            "bottom": null,
            "display": null,
            "flex": null,
            "flex_flow": null,
            "grid_area": null,
            "grid_auto_columns": null,
            "grid_auto_flow": null,
            "grid_auto_rows": null,
            "grid_column": null,
            "grid_gap": null,
            "grid_row": null,
            "grid_template_areas": null,
            "grid_template_columns": null,
            "grid_template_rows": null,
            "height": null,
            "justify_content": null,
            "justify_items": null,
            "left": null,
            "margin": null,
            "max_height": null,
            "max_width": null,
            "min_height": null,
            "min_width": null,
            "object_fit": null,
            "object_position": null,
            "order": null,
            "overflow": null,
            "overflow_x": null,
            "overflow_y": null,
            "padding": null,
            "right": null,
            "top": null,
            "visibility": null,
            "width": null
          }
        },
        "444952d7fa7c4c5fb522b30136381150": {
          "model_module": "@jupyter-widgets/base",
          "model_name": "LayoutModel",
          "model_module_version": "1.2.0",
          "state": {
            "_model_module": "@jupyter-widgets/base",
            "_model_module_version": "1.2.0",
            "_model_name": "LayoutModel",
            "_view_count": null,
            "_view_module": "@jupyter-widgets/base",
            "_view_module_version": "1.2.0",
            "_view_name": "LayoutView",
            "align_content": null,
            "align_items": null,
            "align_self": null,
            "border": null,
            "bottom": null,
            "display": null,
            "flex": null,
            "flex_flow": null,
            "grid_area": null,
            "grid_auto_columns": null,
            "grid_auto_flow": null,
            "grid_auto_rows": null,
            "grid_column": null,
            "grid_gap": null,
            "grid_row": null,
            "grid_template_areas": null,
            "grid_template_columns": null,
            "grid_template_rows": null,
            "height": null,
            "justify_content": null,
            "justify_items": null,
            "left": null,
            "margin": null,
            "max_height": null,
            "max_width": null,
            "min_height": null,
            "min_width": null,
            "object_fit": null,
            "object_position": null,
            "order": null,
            "overflow": null,
            "overflow_x": null,
            "overflow_y": null,
            "padding": null,
            "right": null,
            "top": null,
            "visibility": null,
            "width": null
          }
        },
        "d46d68b3d87444e1a4f98e2d62b4802a": {
          "model_module": "@jupyter-widgets/controls",
          "model_name": "DescriptionStyleModel",
          "model_module_version": "1.5.0",
          "state": {
            "_model_module": "@jupyter-widgets/controls",
            "_model_module_version": "1.5.0",
            "_model_name": "DescriptionStyleModel",
            "_view_count": null,
            "_view_module": "@jupyter-widgets/base",
            "_view_module_version": "1.2.0",
            "_view_name": "StyleView",
            "description_width": ""
          }
        },
        "8d4a11f9b59d40f489e5450b64043adc": {
          "model_module": "@jupyter-widgets/base",
          "model_name": "LayoutModel",
          "model_module_version": "1.2.0",
          "state": {
            "_model_module": "@jupyter-widgets/base",
            "_model_module_version": "1.2.0",
            "_model_name": "LayoutModel",
            "_view_count": null,
            "_view_module": "@jupyter-widgets/base",
            "_view_module_version": "1.2.0",
            "_view_name": "LayoutView",
            "align_content": null,
            "align_items": null,
            "align_self": null,
            "border": null,
            "bottom": null,
            "display": null,
            "flex": null,
            "flex_flow": null,
            "grid_area": null,
            "grid_auto_columns": null,
            "grid_auto_flow": null,
            "grid_auto_rows": null,
            "grid_column": null,
            "grid_gap": null,
            "grid_row": null,
            "grid_template_areas": null,
            "grid_template_columns": null,
            "grid_template_rows": null,
            "height": null,
            "justify_content": null,
            "justify_items": null,
            "left": null,
            "margin": null,
            "max_height": null,
            "max_width": null,
            "min_height": null,
            "min_width": null,
            "object_fit": null,
            "object_position": null,
            "order": null,
            "overflow": null,
            "overflow_x": null,
            "overflow_y": null,
            "padding": null,
            "right": null,
            "top": null,
            "visibility": null,
            "width": null
          }
        },
        "f9f07ee814184c8daeaae96727eef769": {
          "model_module": "@jupyter-widgets/controls",
          "model_name": "ProgressStyleModel",
          "model_module_version": "1.5.0",
          "state": {
            "_model_module": "@jupyter-widgets/controls",
            "_model_module_version": "1.5.0",
            "_model_name": "ProgressStyleModel",
            "_view_count": null,
            "_view_module": "@jupyter-widgets/base",
            "_view_module_version": "1.2.0",
            "_view_name": "StyleView",
            "bar_color": null,
            "description_width": ""
          }
        },
        "e74c9b8ea14d48cfb85f085a2c902404": {
          "model_module": "@jupyter-widgets/base",
          "model_name": "LayoutModel",
          "model_module_version": "1.2.0",
          "state": {
            "_model_module": "@jupyter-widgets/base",
            "_model_module_version": "1.2.0",
            "_model_name": "LayoutModel",
            "_view_count": null,
            "_view_module": "@jupyter-widgets/base",
            "_view_module_version": "1.2.0",
            "_view_name": "LayoutView",
            "align_content": null,
            "align_items": null,
            "align_self": null,
            "border": null,
            "bottom": null,
            "display": null,
            "flex": null,
            "flex_flow": null,
            "grid_area": null,
            "grid_auto_columns": null,
            "grid_auto_flow": null,
            "grid_auto_rows": null,
            "grid_column": null,
            "grid_gap": null,
            "grid_row": null,
            "grid_template_areas": null,
            "grid_template_columns": null,
            "grid_template_rows": null,
            "height": null,
            "justify_content": null,
            "justify_items": null,
            "left": null,
            "margin": null,
            "max_height": null,
            "max_width": null,
            "min_height": null,
            "min_width": null,
            "object_fit": null,
            "object_position": null,
            "order": null,
            "overflow": null,
            "overflow_x": null,
            "overflow_y": null,
            "padding": null,
            "right": null,
            "top": null,
            "visibility": null,
            "width": null
          }
        },
        "070c69880e31439ca680db885e977d98": {
          "model_module": "@jupyter-widgets/controls",
          "model_name": "DescriptionStyleModel",
          "model_module_version": "1.5.0",
          "state": {
            "_model_module": "@jupyter-widgets/controls",
            "_model_module_version": "1.5.0",
            "_model_name": "DescriptionStyleModel",
            "_view_count": null,
            "_view_module": "@jupyter-widgets/base",
            "_view_module_version": "1.2.0",
            "_view_name": "StyleView",
            "description_width": ""
          }
        }
      }
    }
  },
  "nbformat": 4,
  "nbformat_minor": 5
}