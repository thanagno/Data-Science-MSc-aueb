{
  "cells": [
    {
      "cell_type": "markdown",
      "id": "45b6b4b7-7741-4859-841e-9fef3cbcb17a",
      "metadata": {
        "id": "45b6b4b7-7741-4859-841e-9fef3cbcb17a"
      },
      "source": [
        "# AUEB M.Sc. in Data Science (part-time)\n",
        "\n",
        "### 2024.04 - 2024.06\n",
        "\n",
        "## PART 04\n",
        "### PROJECT 02: Implementing Bi-Directional Stacked RNN (GRU or LSTM) in Keras/TensorFlow for POS Tagging\n",
        "\n",
        "\n",
        "**Course**: Text Analytics   \n",
        "**Authors**:\n",
        "Anagnos Theodoros (p3352323) -\n",
        "Michalopoulos Ioannis (p3352314) -\n",
        "Kafantaris Panagiotis (p3352328) -  \n",
        "Vigkos Ioannis (p3352326)\n",
        "\n",
        "**Date**: 2024-05-25"
      ]
    },
    {
      "cell_type": "markdown",
      "id": "903bb9ce-ada7-4bc5-ac8b-972b0137ac61",
      "metadata": {
        "id": "903bb9ce-ada7-4bc5-ac8b-972b0137ac61"
      },
      "source": [
        "### Libraries"
      ]
    },
    {
      "cell_type": "code",
      "source": [
        "!nvidia-smi"
      ],
      "metadata": {
        "colab": {
          "base_uri": "https://localhost:8080/"
        },
        "id": "eVD6EqsL3XB9",
        "outputId": "ccfcf432-e421-41ca-f6fe-eff94788303f"
      },
      "id": "eVD6EqsL3XB9",
      "execution_count": null,
      "outputs": [
        {
          "output_type": "stream",
          "name": "stdout",
          "text": [
            "Thu May 30 18:58:02 2024       \n",
            "+---------------------------------------------------------------------------------------+\n",
            "| NVIDIA-SMI 535.104.05             Driver Version: 535.104.05   CUDA Version: 12.2     |\n",
            "|-----------------------------------------+----------------------+----------------------+\n",
            "| GPU  Name                 Persistence-M | Bus-Id        Disp.A | Volatile Uncorr. ECC |\n",
            "| Fan  Temp   Perf          Pwr:Usage/Cap |         Memory-Usage | GPU-Util  Compute M. |\n",
            "|                                         |                      |               MIG M. |\n",
            "|=========================================+======================+======================|\n",
            "|   0  Tesla T4                       Off | 00000000:00:04.0 Off |                    0 |\n",
            "| N/A   57C    P8              10W /  70W |      0MiB / 15360MiB |      0%      Default |\n",
            "|                                         |                      |                  N/A |\n",
            "+-----------------------------------------+----------------------+----------------------+\n",
            "                                                                                         \n",
            "+---------------------------------------------------------------------------------------+\n",
            "| Processes:                                                                            |\n",
            "|  GPU   GI   CI        PID   Type   Process name                            GPU Memory |\n",
            "|        ID   ID                                                             Usage      |\n",
            "|=======================================================================================|\n",
            "|  No running processes found                                                           |\n",
            "+---------------------------------------------------------------------------------------+\n"
          ]
        }
      ]
    },
    {
      "cell_type": "code",
      "source": [
        "!pip install conllu"
      ],
      "metadata": {
        "colab": {
          "base_uri": "https://localhost:8080/"
        },
        "id": "KE9jX09g4hYp",
        "outputId": "d75ec84e-06bc-4d66-afac-7ea9c52c92ce"
      },
      "id": "KE9jX09g4hYp",
      "execution_count": null,
      "outputs": [
        {
          "output_type": "stream",
          "name": "stdout",
          "text": [
            "Collecting conllu\n",
            "  Downloading conllu-4.5.3-py2.py3-none-any.whl (16 kB)\n",
            "Installing collected packages: conllu\n",
            "Successfully installed conllu-4.5.3\n"
          ]
        }
      ]
    },
    {
      "cell_type": "code",
      "execution_count": null,
      "id": "76bdba2f-d2c9-4e40-bdb5-9c84e8a4693a",
      "metadata": {
        "id": "76bdba2f-d2c9-4e40-bdb5-9c84e8a4693a"
      },
      "outputs": [],
      "source": [
        "## Data Handling and Parsing\n",
        "import os\n",
        "from conllu import parse\n",
        "import requests\n",
        "from collections import Counter\n",
        "import numpy as np\n",
        "\n",
        "## Word Embeddings\n",
        "import gensim.downloader as api\n",
        "\n",
        "## Preprocessing\n",
        "from nltk.util import ngrams\n",
        "from sklearn.preprocessing import LabelEncoder, OneHotEncoder\n",
        "\n",
        "## Metrics and Evaluation\n",
        "from sklearn.metrics import accuracy_score, classification_report, f1_score, recall_score, precision_score, precision_recall_curve, auc\n",
        "from sklearn.exceptions import UndefinedMetricWarning\n",
        "\n",
        "## Deep Learning\n",
        "import tensorflow as tf\n",
        "from tensorflow.keras.models import Sequential\n",
        "from tensorflow.keras.layers import Embedding, Bidirectional, GRU, Dense, Dropout, Input, LSTM, Flatten\n",
        "from tensorflow.keras.callbacks import EarlyStopping\n",
        "from tensorflow.keras.optimizers import Adam\n",
        "from tensorflow.keras.metrics import CategoricalAccuracy\n",
        "from tensorflow.keras.regularizers import l2\n",
        "\n",
        "## Plotting\n",
        "import matplotlib.pyplot as plt\n",
        "\n",
        "## Other\n",
        "import warnings"
      ]
    },
    {
      "cell_type": "markdown",
      "id": "20fe23e6-28bf-49e3-9e5e-cec3e0ee8f54",
      "metadata": {
        "id": "20fe23e6-28bf-49e3-9e5e-cec3e0ee8f54"
      },
      "source": [
        "### Functions"
      ]
    },
    {
      "cell_type": "code",
      "execution_count": null,
      "id": "8d210136-c7f8-47a3-9828-e5998122e223",
      "metadata": {
        "id": "8d210136-c7f8-47a3-9828-e5998122e223"
      },
      "outputs": [],
      "source": [
        "# Function for downloading dataset\n",
        "def download_dataset(url, filename):\n",
        "    response = requests.get(url)\n",
        "    with open(filename, \"wb\") as f:\n",
        "        f.write(response.content)"
      ]
    },
    {
      "cell_type": "code",
      "execution_count": null,
      "id": "8d3b47d1-c7dd-42da-9a74-f26ffe76d719",
      "metadata": {
        "id": "8d3b47d1-c7dd-42da-9a74-f26ffe76d719"
      },
      "outputs": [],
      "source": [
        "# Function for parsing and printing head and tail of the dataset\n",
        "def print_head_tail(file_path, num_lines=5):\n",
        "    with open(file_path, \"r\", encoding=\"utf-8\") as f:\n",
        "        data = f.readlines()\n",
        "        # Printing head of the dataset\n",
        "        print(f\"Head of {file_path}:\")\n",
        "        print(\"\".join(data[:num_lines]))\n",
        "        print(\"\\n\")\n",
        "        # Printing tail of the dataset\n",
        "        print(f\"Tail of {file_path}:\")\n",
        "        print(\"\".join(data[-num_lines:]))\n",
        "        print(\"\\n\")"
      ]
    },
    {
      "cell_type": "code",
      "execution_count": null,
      "id": "a9bff18e-42f7-469d-8a55-26a82624dcb8",
      "metadata": {
        "id": "a9bff18e-42f7-469d-8a55-26a82624dcb8"
      },
      "outputs": [],
      "source": [
        "# Function for parsing conllu files and extracting sentences\n",
        "def parse_conllu(file_path):\n",
        "    \"\"\"\n",
        "    Parsed the given conllu file and extracted sentences using the 'conllu' library.\n",
        "    \"\"\"\n",
        "    # Opening the file in read mode with UTF-8 encoding\n",
        "    with open(file_path, \"r\", encoding=\"utf-8\") as f:\n",
        "        # Reading the entire content of the file\n",
        "        data = f.read()\n",
        "        # Parsing the data to extract sentences using the 'conllu' library\n",
        "        sentences = parse(data)\n",
        "    # Returning the list of parsed sentences\n",
        "    return sentences"
      ]
    },
    {
      "cell_type": "code",
      "execution_count": null,
      "id": "f04b9c2e-965a-4a25-a478-ff96dc6a00fe",
      "metadata": {
        "id": "f04b9c2e-965a-4a25-a478-ff96dc6a00fe"
      },
      "outputs": [],
      "source": [
        "# Function for parsing and printing head and tail of the dataset along with initial document length\n",
        "def print_head_tail_with_length(file_path, num_lines=5):\n",
        "    with open(file_path, \"r\", encoding=\"utf-8\") as f:\n",
        "        data = f.readlines()\n",
        "        # Calculating the initial document length (number of sentences)\n",
        "        initial_document_length = sum(1 for line in data if line.strip() == \"\")\n",
        "        # Printing head of the dataset\n",
        "        print(f\"Head of {file_path}:\")\n",
        "        print(\"\".join(data[:num_lines]))\n",
        "        print(\"\\n\")\n",
        "        # Printing tail of the dataset\n",
        "        print(f\"Tail of {file_path}:\")\n",
        "        print(\"\".join(data[-num_lines:]))\n",
        "        print(\"\\n\")\n",
        "        # Printing the initial document length\n",
        "        print(f\"Initial Document Length (number of sentences) for {file_path}: {initial_document_length}\\n\")"
      ]
    },
    {
      "cell_type": "code",
      "execution_count": null,
      "id": "766877a1-40c1-425b-bcb4-8bb4399b8672",
      "metadata": {
        "id": "766877a1-40c1-425b-bcb4-8bb4399b8672"
      },
      "outputs": [],
      "source": [
        "# Function for extracting words and tags from parsed sentences\n",
        "def extract_words_and_tags(sentences):\n",
        "    \"\"\"\n",
        "    Extracted words and corresponding POS tags from parsed sentences.\n",
        "    \"\"\"\n",
        "    words = []\n",
        "    tags = []\n",
        "    # Iterating over each parsed sentence\n",
        "    for sentence in sentences:\n",
        "        sentence_words = []\n",
        "        sentence_tags = []\n",
        "        # Iterating over each token in the sentence\n",
        "        for token in sentence:\n",
        "            if token['form'] and token['upostag']:\n",
        "                sentence_words.append(token['form'])  # Extracting the word form\n",
        "                sentence_tags.append(token['upostag'])  # Extracting the POS tag\n",
        "        # Appending the extracted words and tags to their respective lists\n",
        "        words.append(sentence_words)\n",
        "        tags.append(sentence_tags)\n",
        "    # Returning the lists of words and tags\n",
        "    return words, tags"
      ]
    },
    {
      "cell_type": "code",
      "execution_count": null,
      "id": "6f76fc63-9611-465e-9352-47ae2c34e433",
      "metadata": {
        "id": "6f76fc63-9611-465e-9352-47ae2c34e433"
      },
      "outputs": [],
      "source": [
        "# Function for converting all words to lowercase\n",
        "def convert_to_lowercase(words):\n",
        "    return [[word.lower() for word in sentence] for sentence in words]"
      ]
    },
    {
      "cell_type": "code",
      "execution_count": null,
      "id": "dd516a4c-c942-4e25-a148-89725a0de27d",
      "metadata": {
        "id": "dd516a4c-c942-4e25-a148-89725a0de27d"
      },
      "outputs": [],
      "source": [
        "# Function to flatten a nested list\n",
        "def list_flat_data(alist):\n",
        "    \"\"\"\n",
        "    Flatten a nested list into a single list.\n",
        "    \"\"\"\n",
        "    flat_list = []\n",
        "    for sublist in alist:\n",
        "        for item in sublist:\n",
        "            flat_list.append(item)\n",
        "    return flat_list"
      ]
    },
    {
      "cell_type": "code",
      "execution_count": null,
      "id": "b1449447-e043-4427-a426-e294ce2bdf53",
      "metadata": {
        "id": "b1449447-e043-4427-a426-e294ce2bdf53"
      },
      "outputs": [],
      "source": [
        "# Function to convert to windowed dataset\n",
        "def convert_to_window_dataset(data, window_size, pad_symbol='</s>'):\n",
        "    \"\"\"\n",
        "    Converted sentences and POS tags to a windowed dataset with padding.\n",
        "    \"\"\"\n",
        "    z_sentences = data[0]  # Extracted sentences\n",
        "    z_pos_tags = list_flat_data(data[1])  # Flattened POS tags\n",
        "\n",
        "    windowed_sentences = []  # Initialized list to hold windowed sentences\n",
        "\n",
        "    # Iterated over each sentence in the dataset\n",
        "    for sentence in z_sentences:\n",
        "        # Generated n-grams for each sentence with padding\n",
        "        gen = ngrams(sentence, window_size, pad_left=True, pad_right=True, left_pad_symbol=pad_symbol, right_pad_symbol=pad_symbol)\n",
        "\n",
        "        # Appended the generated windows to the list, skipping initial and final padding windows\n",
        "        for f in list(gen)[window_size//2:-(window_size//2)]:\n",
        "            windowed_sentences.append(f)\n",
        "\n",
        "    return windowed_sentences, z_pos_tags"
      ]
    },
    {
      "cell_type": "code",
      "execution_count": null,
      "id": "fe5f08ec-dba2-4d63-8ff5-f15239f46e86",
      "metadata": {
        "id": "fe5f08ec-dba2-4d63-8ff5-f15239f46e86"
      },
      "outputs": [],
      "source": [
        "# Function to create vocabulary from the flattened windows\n",
        "def create_vocabulary_from_windows(windows):\n",
        "    \"\"\"\n",
        "    Create a vocabulary from the flattened windows.\n",
        "\n",
        "    Parameters:\n",
        "    - windows (list of list of str): The windowed data containing words.\n",
        "\n",
        "    Returns:\n",
        "    - vocabulary (dict): A dictionary mapping each unique word to a unique index.\n",
        "    \"\"\"\n",
        "    # Flatten the windowed data\n",
        "    flat_windows = list_flat_data(windows)\n",
        "\n",
        "    # Get all unique words in the data set and make a vocabulary out of them\n",
        "    vocab = set(flat_windows)\n",
        "    vocabulary = {v: k for k, v in enumerate(vocab)}\n",
        "\n",
        "    return vocabulary"
      ]
    },
    {
      "cell_type": "code",
      "execution_count": null,
      "id": "c4307995-a6e9-4d5e-99ca-364de60d2cd5",
      "metadata": {
        "id": "c4307995-a6e9-4d5e-99ca-364de60d2cd5"
      },
      "outputs": [],
      "source": [
        "def create_embedding_matrix(vocab, wv, embedding_dim=300):\n",
        "    \"\"\"\n",
        "    Create an embedding matrix for the vocabulary using pre-trained word embeddings.\n",
        "\n",
        "    Parameters:\n",
        "    - vocab (dict): The vocabulary mapping words to indices.\n",
        "    - wv (KeyedVectors): The pre-trained word vectors.\n",
        "    - embedding_dim (int): The dimensionality of the embeddings. Default is 300.\n",
        "\n",
        "    Returns:\n",
        "    - embedding_matrix (np.array): The embedding matrix where each row corresponds to a word's embedding.\n",
        "    \"\"\"\n",
        "    # Initializing the embedding matrix with zeros\n",
        "    embedding_matrix = np.zeros((len(vocab), embedding_dim))\n",
        "\n",
        "    # Populating the embedding matrix with vectors from the pre-trained model\n",
        "    for word, idx in vocab.items():\n",
        "        if word in wv:\n",
        "            embedding_matrix[idx] = wv[word]\n",
        "\n",
        "    return embedding_matrix"
      ]
    },
    {
      "cell_type": "code",
      "execution_count": null,
      "id": "f7611e45-5622-4f72-ade2-082295be36d8",
      "metadata": {
        "id": "f7611e45-5622-4f72-ade2-082295be36d8"
      },
      "outputs": [],
      "source": [
        "# Defining a function to convert windows of words to tokenized format using the vocabulary\n",
        "def tokenize_windows(windows, vocab):\n",
        "    # Initializing an empty list to hold tokenized windows\n",
        "    tokenized_windows = []\n",
        "\n",
        "    # Iterating over each sentence in the windows\n",
        "    for sentence in windows:\n",
        "        # Initializing an empty list to hold tokenized sentence\n",
        "        tokenized_sentence = []\n",
        "\n",
        "        # Iterating over each token in the sentence\n",
        "        for token in sentence:\n",
        "            # Checking if the token is in the vocabulary and appending its index, otherwise using the index of '</s>'\n",
        "            if token in vocab:\n",
        "                tokenized_sentence.append(vocab[token])\n",
        "            else:\n",
        "                tokenized_sentence.append(vocab['</s>'])\n",
        "\n",
        "        # Appending the tokenized sentence to the list of tokenized windows\n",
        "        tokenized_windows.append(tokenized_sentence)\n",
        "\n",
        "    # Returning the list of tokenized windows\n",
        "    return tokenized_windows"
      ]
    },
    {
      "cell_type": "markdown",
      "id": "223e0e0a-1584-4505-867d-a5083fbbe1d0",
      "metadata": {
        "id": "223e0e0a-1584-4505-867d-a5083fbbe1d0"
      },
      "source": [
        "## Data Preprocessing"
      ]
    },
    {
      "cell_type": "markdown",
      "id": "94fa3e9c-5b54-4ea3-817e-c28c5b37465a",
      "metadata": {
        "id": "94fa3e9c-5b54-4ea3-817e-c28c5b37465a"
      },
      "source": [
        "### Downloading the dataset and parsing the conllu files to extract sentences, words, and POS tags"
      ]
    },
    {
      "cell_type": "code",
      "execution_count": null,
      "id": "51c69387-c1da-42df-9042-eb850370c36c",
      "metadata": {
        "id": "51c69387-c1da-42df-9042-eb850370c36c"
      },
      "outputs": [],
      "source": [
        "# Defining URLs of the datasets for training, development, and testing\n",
        "urls = {\n",
        "    \"train\": \"https://github.com/UniversalDependencies/UD_English-EWT/raw/master/en_ewt-ud-train.conllu\",\n",
        "    \"dev\": \"https://github.com/UniversalDependencies/UD_English-EWT/raw/master/en_ewt-ud-dev.conllu\",\n",
        "    \"test\": \"https://github.com/UniversalDependencies/UD_English-EWT/raw/master/en_ewt-ud-test.conllu\"\n",
        "}"
      ]
    },
    {
      "cell_type": "code",
      "execution_count": null,
      "id": "923e3f99-8a0a-4810-bf01-e6117bcdda42",
      "metadata": {
        "id": "923e3f99-8a0a-4810-bf01-e6117bcdda42"
      },
      "outputs": [],
      "source": [
        "# Downloading each dataset and saving it locally\n",
        "for key, url in urls.items():\n",
        "    filename = f\"en_ewt_{key}.conllu\"\n",
        "    download_dataset(url, filename)"
      ]
    },
    {
      "cell_type": "code",
      "execution_count": null,
      "id": "675f8ebd-8641-4233-8033-7ea43945a95e",
      "metadata": {
        "colab": {
          "base_uri": "https://localhost:8080/"
        },
        "id": "675f8ebd-8641-4233-8033-7ea43945a95e",
        "outputId": "c7f94e11-99cf-4f0f-ecb4-016c58a67c8c"
      },
      "outputs": [
        {
          "output_type": "stream",
          "name": "stdout",
          "text": [
            "Downloaded datasets:\n",
            "en_ewt_train.conllu\n",
            "en_ewt_dev.conllu\n",
            "en_ewt_test.conllu\n"
          ]
        }
      ],
      "source": [
        "# Printing dataset names\n",
        "print(\"Downloaded datasets:\")\n",
        "for key in urls.keys():\n",
        "    print(f\"en_ewt_{key}.conllu\")"
      ]
    },
    {
      "cell_type": "code",
      "execution_count": null,
      "id": "90832f8b-f3c8-4edb-9678-9912be4367b1",
      "metadata": {
        "colab": {
          "base_uri": "https://localhost:8080/"
        },
        "id": "90832f8b-f3c8-4edb-9678-9912be4367b1",
        "outputId": "b5055157-6068-4ba5-e66f-41082aa89bab"
      },
      "outputs": [
        {
          "output_type": "stream",
          "name": "stdout",
          "text": [
            "Downloaded datasets:\n",
            "en_ewt_train.conllu\n",
            "en_ewt_dev.conllu\n",
            "en_ewt_test.conllu\n",
            "-----------\n",
            "\n",
            "Head of en_ewt_train.conllu:\n",
            "# newdoc id = weblog-juancole.com_juancole_20051126063000_ENG_20051126_063000\n",
            "# sent_id = weblog-juancole.com_juancole_20051126063000_ENG_20051126_063000-0001\n",
            "# newpar id = weblog-juancole.com_juancole_20051126063000_ENG_20051126_063000-p0001\n",
            "# text = Al-Zaman : American forces killed Shaikh Abdullah al-Ani, the preacher at the mosque in the town of Qaim, near the Syrian border.\n",
            "1\tAl\tAl\tPROPN\tNNP\tNumber=Sing\t0\troot\t0:root\tSpaceAfter=No\n",
            "\n",
            "\n",
            "\n",
            "Tail of en_ewt_train.conllu:\n",
            "23\tmy\tmy\tPRON\tPRP$\tCase=Gen|Number=Sing|Person=1|Poss=Yes|PronType=Prs\t24\tnmod:poss\t24:nmod:poss\t_\n",
            "24\tcar\tcar\tNOUN\tNN\tNumber=Sing\t21\tobl\t21:obl:on\tSpaceAfter=No\n",
            "25\t)\t)\tPUNCT\t-RRB-\t_\t10\tpunct\t10:punct\tSpaceAfter=No\n",
            "26\t.\t.\tPUNCT\t.\t_\t4\tpunct\t4:punct\t_\n",
            "\n",
            "\n",
            "\n",
            "\n",
            "Initial Document Length (number of sentences) for en_ewt_train.conllu: 12544\n",
            "\n",
            "-----------\n",
            "\n",
            "Head of en_ewt_dev.conllu:\n",
            "# newdoc id = weblog-blogspot.com_nominations_20041117172713_ENG_20041117_172713\n",
            "# sent_id = weblog-blogspot.com_nominations_20041117172713_ENG_20041117_172713-0001\n",
            "# newpar id = weblog-blogspot.com_nominations_20041117172713_ENG_20041117_172713-p0001\n",
            "# text = From the AP comes this story :\n",
            "1\tFrom\tfrom\tADP\tIN\t_\t3\tcase\t3:case\t_\n",
            "\n",
            "\n",
            "\n",
            "Tail of en_ewt_dev.conllu:\n",
            "9\ta\ta\tDET\tDT\tDefinite=Ind|PronType=Art\t12\tdet\t12:det\t_\n",
            "10\tvery\tvery\tADV\tRB\t_\t11\tadvmod\t11:advmod\t_\n",
            "11\tknowledgeable\tknowledgeable\tADJ\tJJ\tDegree=Pos\t12\tamod\t12:amod\t_\n",
            "12\tstaff\tstaff\tNOUN\tNN\tNumber=Sing\t7\tconj\t4:obj|7:conj:and\t_\n",
            "\n",
            "\n",
            "\n",
            "\n",
            "Initial Document Length (number of sentences) for en_ewt_dev.conllu: 2001\n",
            "\n",
            "-----------\n",
            "\n",
            "Head of en_ewt_test.conllu:\n",
            "# newdoc id = weblog-blogspot.com_zentelligence_20040423000200_ENG_20040423_000200\n",
            "# sent_id = weblog-blogspot.com_zentelligence_20040423000200_ENG_20040423_000200-0001\n",
            "# newpar id = weblog-blogspot.com_zentelligence_20040423000200_ENG_20040423_000200-p0001\n",
            "# text = What if Google Morphed Into GoogleOS?\n",
            "1\tWhat\twhat\tPRON\tWP\tPronType=Int\t0\troot\t0:root\t_\n",
            "\n",
            "\n",
            "\n",
            "Tail of en_ewt_test.conllu:\n",
            "17\texercises\texercise\tNOUN\tNNS\tNumber=Plur\t16\tobj\t16:obj\t_\n",
            "18\tto\tto\tPART\tTO\t_\t19\tmark\t19:mark\t_\n",
            "19\tuse\tuse\tVERB\tVB\tVerbForm=Inf\t17\tacl\t17:acl:to\tSpaceAfter=No\n",
            "20\t.\t.\tPUNCT\t.\t_\t2\tpunct\t2:punct\t_\n",
            "\n",
            "\n",
            "\n",
            "\n",
            "Initial Document Length (number of sentences) for en_ewt_test.conllu: 2077\n",
            "\n"
          ]
        }
      ],
      "source": [
        "# Printing dataset names\n",
        "print(\"Downloaded datasets:\")\n",
        "for key in urls.keys():\n",
        "    print(f\"en_ewt_{key}.conllu\")\n",
        "\n",
        "# Printing head, tail, and initial document length for each dataset\n",
        "for key in urls.keys():\n",
        "    filename = f\"en_ewt_{key}.conllu\"\n",
        "    print(\"-----------\\n\")\n",
        "    print_head_tail_with_length(filename)"
      ]
    },
    {
      "cell_type": "markdown",
      "id": "a7caa4ae-8394-45eb-8a7d-7b493c538442",
      "metadata": {
        "id": "a7caa4ae-8394-45eb-8a7d-7b493c538442"
      },
      "source": [
        "Parsed the training, development, and test datasets to extract words and POS tags. Converted all words to lowercase for consistency and printed sample data for verification."
      ]
    },
    {
      "cell_type": "code",
      "execution_count": null,
      "id": "6b8ebd15-f5aa-40eb-bfb2-5d67a60020cd",
      "metadata": {
        "colab": {
          "base_uri": "https://localhost:8080/"
        },
        "id": "6b8ebd15-f5aa-40eb-bfb2-5d67a60020cd",
        "outputId": "abfd43c0-9b40-4ad1-aee0-7929476fe983"
      },
      "outputs": [
        {
          "output_type": "stream",
          "name": "stdout",
          "text": [
            "Sample parsed sentences from training data:\n",
            "[TokenList<Don't, Do, n't, have, to, mention, what, radiation, has, done, and, is, still, doing, to, Hirsohima, &, Nagaski, folks, --, there, can, be, no, doubts, about, the, effects, of, radiation, in, Chernobyl, ......., metadata={sent_id: \"weblog-typepad.com_ripples_20040407125600_ENG_20040407_125600-0056\", text: \"Don't have to mention what radiation has done and is still doing to Hirsohima & Nagaski folks--there can be no doubts about the effects of radiation in Chernobyl.......\"}>, TokenList<The, Chernobyl, Children's, Children, 's, Project, (, http://www.adiccp.org/home/default.asp, ), offers, several, ways, to, help, the, children, of, that, region, ., metadata={sent_id: \"weblog-typepad.com_ripples_20040407125600_ENG_20040407_125600-0057\", text: \"The Chernobyl Children's Project (http://www.adiccp.org/home/default.asp) offers several ways to help the children of that region.\"}>, TokenList<One, of, them, is, the, Rest, and, Recuperation, Program, ,, wherein, a, child, can, come, to, the, US, for, a, few, weeks, in, the, summer, ., metadata={sent_id: \"weblog-typepad.com_ripples_20040407125600_ENG_20040407_125600-0058\", text: \"One of them is the Rest and Recuperation Program, wherein a child can come to the US for a few weeks in the summer.\"}>, TokenList<Even, a, little, time, spent, receiving, wholesome, ,, uncontaminated, food, ,, good, medical, care, ,, etc., can, add, years, to, their, lives, ., metadata={sent_id: \"weblog-typepad.com_ripples_20040407125600_ENG_20040407_125600-0059\", text: \"Even a little time spent receiving wholesome, uncontaminated food, good medical care, etc. can add years to their lives.\"}>, TokenList<S., and, I, have, an, acquaintance, who, has, hosted, several, of, these, children, for, many, years, ;, to, see, these, little, ones, breaks, the, heart, ., metadata={sent_id: \"weblog-typepad.com_ripples_20040407125600_ENG_20040407_125600-0060\", text: \"S. and I have an acquaintance who has hosted several of these children for many years; to see these little ones breaks the heart.\"}>, TokenList<The, urge, to, protect, and, gather, them, all, in, is, almost, overwhelming, ,, and, makes, me, more, grateful, for, the, blessings, I, have, ., metadata={sent_id: \"weblog-typepad.com_ripples_20040407125600_ENG_20040407_125600-0061\", text: \"The urge to protect and gather them all in is almost overwhelming, and makes me more grateful for the blessings I have.\"}>, TokenList<Take, care, ,, my, friend, ,, Linda, metadata={sent_id: \"weblog-typepad.com_ripples_20040407125600_ENG_20040407_125600-0062\", text: \"Take care, my friend, Linda\"}>, TokenList<I'm, I, 'm, sorry, to, say, Elena's, Elena, 's, story, has, been, revealed, to, be, a, fake, ., metadata={sent_id: \"weblog-typepad.com_ripples_20040407125600_ENG_20040407_125600-0063\", newpar id: \"weblog-typepad.com_ripples_20040407125600_ENG_20040407_125600-p0005\", text: \"I'm sorry to say Elena's story has been revealed to be a fake.\"}>, TokenList<What, do, the, new, al, -, Qaeda, videotape, and, audio, speeches, of, Bin, Laden, and, Ayman, al, -, Zawahiri, tell, us, about, the, hopes, of, the, remaining, top, leadership, of, the, organization, ?, metadata={newdoc id: \"weblog-juancole.com_juancole_20030911085700_ENG_20030911_085700\", sent_id: \"weblog-juancole.com_juancole_20030911085700_ENG_20030911_085700-0001\", newpar id: \"weblog-juancole.com_juancole_20030911085700_ENG_20030911_085700-p0001\", text: \"What do the new al-Qaeda videotape and audio speeches of Bin Laden and Ayman al-Zawahiri tell us about the hopes of the remaining top leadership of the organization?\"}>, TokenList<Because, the, US, and, Pakistan, have, managed, to, capture, or, kill, about, 2, /, 3s, of, the, top, 25, al, -, Qaeda, commanders, ,, the, middle, managers, are, not, in, close, contact, with, al, -, Zawahiri, and, Bin, Laden, ., metadata={sent_id: \"weblog-juancole.com_juancole_20030911085700_ENG_20030911_085700-0002\", text: \"Because the US and Pakistan have managed to capture or kill about 2/3s of the top 25 al-Qaeda commanders, the middle managers are not in close contact with al-Zawahiri and Bin Laden.\"}>, TokenList<The, tape, was, a, way, to, signal, priorities, ., metadata={sent_id: \"weblog-juancole.com_juancole_20030911085700_ENG_20030911_085700-0003\", text: \"The tape was a way to signal priorities.\"}>, TokenList<These, are, 1, ), Assassinate, or, overthrow, Gen., Pervez, Musharraf, ,, the, Pakistani, military, \", president, \", who, had, made, a, coup, in, 1999, and, has, thrown, in, his, lot, with, the, United, States, against, the, Taliban, and, al, -, Qaeda, ., metadata={sent_id: \"weblog-juancole.com_juancole_20030911085700_ENG_20030911_085700-0004\", newpar id: \"weblog-juancole.com_juancole_20030911085700_ENG_20030911_085700-p0002\", text: \"These are 1) Assassinate or overthrow Gen. Pervez Musharraf, the Pakistani military \"president\" who had made a coup in 1999 and has thrown in his lot with the United States against the Taliban and al-Qaeda.\"}>, TokenList<Musharraf, has, been, trying, to, purge, his, officer, corps, of, the, substantial, number, of, al, -, Qaeda, sympathizers, ., metadata={sent_id: \"weblog-juancole.com_juancole_20030911085700_ENG_20030911_085700-0005\", text: \"Musharraf has been trying to purge his officer corps of the substantial number of al-Qaeda sympathizers.\"}>, TokenList<His, military, intelligence, has, captured, major, figures, like, Abu, Zubayda, and, Khalid, Shaykh, Muhammad, ,, as, well, as, nearly, 500, other, al, -, Qaeda, operatives, ,, over, 400, of, whom, the, Pakistanis, have, turned, over, to, the, US, ., metadata={sent_id: \"weblog-juancole.com_juancole_20030911085700_ENG_20030911_085700-0006\", text: \"His military intelligence has captured major figures like Abu Zubayda and Khalid Shaykh Muhammad, as well as nearly 500 other al-Qaeda operatives, over 400 of whom the Pakistanis have turned over to the US.\"}>, TokenList<Musharraf, held, elections, in, October, of, 2002, ,, in, which, center, -, right, parties, did, well, ,, but, in, which, nearly, 20, percent, of, parliament, seats, went, to, the, fundamentalist, religious, party, coalition, ,, MMA, ., metadata={sent_id: \"weblog-juancole.com_juancole_20030911085700_ENG_20030911_085700-0007\", text: \"Musharraf held elections in October of 2002, in which center-right parties did well, but in which nearly 20 percent of parliament seats went to the fundamentalist religious party coalition, MMA.\"}>, TokenList<MMA, also, captured, the, Northwest, Frontier, Province, ,, which, probably, shelters, Bin, Laden, and, al, -, Zawahiri, ,, and, is, in, a, joint, government, of, Baluchistan, Province, ,, also, on, the, Afghanistan, border, ., metadata={sent_id: \"weblog-juancole.com_juancole_20030911085700_ENG_20030911_085700-0008\", text: \"MMA also captured the Northwest Frontier Province, which probably shelters Bin Laden and al-Zawahiri, and is in a joint government of Baluchistan Province, also on the Afghanistan border.\"}>, TokenList<If, al, -, Qaeda, can, kill, Musharraf, or, instigate, a, military, coup, against, him, by, Islamist, junior, officers, ,, they, can, hope, to, catapult, the, MMA, to, power, as, political, allies, and, hosts, ., metadata={sent_id: \"weblog-juancole.com_juancole_20030911085700_ENG_20030911_085700-0009\", text: \"If al-Qaeda can kill Musharraf or instigate a military coup against him by Islamist junior officers, they can hope to catapult the MMA to power as political allies and hosts.\"}>, TokenList<They, would, thereby, gain, control, of, a, major, base, for, terrorist, operations, ,, which, is, also, a, nuclear, power, ., metadata={sent_id: \"weblog-juancole.com_juancole_20030911085700_ENG_20030911_085700-0010\", text: \"They would thereby gain control of a major base for terrorist operations, which is also a nuclear power.\"}>, TokenList<All, this, is, highly, unlikely, ,, as, with, most, al, -, Qaeda, crackpot, schemes, ., metadata={sent_id: \"weblog-juancole.com_juancole_20030911085700_ENG_20030911_085700-0011\", text: \"All this is highly unlikely, as with most al-Qaeda crackpot schemes.\"}>, TokenList<But, so, was, it, unlikely, that, a, small, group, of, Arab, mujahidin, would, virtually, take, over, Afghanistan, ., metadata={sent_id: \"weblog-juancole.com_juancole_20030911085700_ENG_20030911_085700-0012\", text: \"But so was it unlikely that a small group of Arab mujahidin would virtually take over Afghanistan.\"}>]\n",
            "\n",
            "\n",
            "Size of train_words: 12544\n",
            "Size of train_tags: 12544\n",
            "\n",
            "\n",
            "Size of dev_words: 2001\n",
            "Size of dev_tags: 2001\n",
            "\n",
            "\n",
            "Size of test_words: 2077\n",
            "Size of test_tags: 2077\n",
            "\n",
            "\n",
            "Sample words and tags from training data:\n",
            "Words: ['al', '-', 'zaman', ':', 'american', 'forces', 'killed', 'shaikh', 'abdullah', 'al', '-', 'ani', ',', 'the', 'preacher', 'at', 'the', 'mosque', 'in', 'the', 'town', 'of', 'qaim', ',', 'near', 'the', 'syrian', 'border', '.']\n",
            "Tags: ['PROPN', 'PUNCT', 'PROPN', 'PUNCT', 'ADJ', 'NOUN', 'VERB', 'PROPN', 'PROPN', 'PROPN', 'PUNCT', 'PROPN', 'PUNCT', 'DET', 'NOUN', 'ADP', 'DET', 'NOUN', 'ADP', 'DET', 'NOUN', 'ADP', 'PROPN', 'PUNCT', 'ADP', 'DET', 'ADJ', 'NOUN', 'PUNCT']\n",
            "\n",
            "\n",
            "Sample words and tags from development data:\n",
            "Words: ['from', 'the', 'ap', 'comes', 'this', 'story', ':']\n",
            "Tags: ['ADP', 'DET', 'PROPN', 'VERB', 'DET', 'NOUN', 'PUNCT']\n",
            "\n",
            "\n",
            "Sample words and tags from test data:\n",
            "Words: ['what', 'if', 'google', 'morphed', 'into', 'googleos', '?']\n",
            "Tags: ['PRON', 'SCONJ', 'PROPN', 'VERB', 'ADP', 'PROPN', 'PUNCT']\n",
            "\n",
            "\n"
          ]
        }
      ],
      "source": [
        "# Parsing the training, development, and test datasets\n",
        "train_sentences = parse_conllu(\"en_ewt_train.conllu\")\n",
        "dev_sentences = parse_conllu(\"en_ewt_dev.conllu\")\n",
        "test_sentences = parse_conllu(\"en_ewt_test.conllu\")\n",
        "\n",
        "# Printing sample parsed sentences for verification\n",
        "print(\"Sample parsed sentences from training data:\")\n",
        "print(train_sentences[120:140])\n",
        "print(\"\\n\")\n",
        "\n",
        "# Extracting words and tags from the parsed sentences\n",
        "train_words, train_tags = extract_words_and_tags(train_sentences)\n",
        "dev_words, dev_tags = extract_words_and_tags(dev_sentences)\n",
        "test_words, test_tags = extract_words_and_tags(test_sentences)\n",
        "\n",
        "# Printing set sizes\n",
        "print(\"Size of train_words:\", len(train_words))\n",
        "print(\"Size of train_tags:\", len(train_tags))\n",
        "print(\"\\n\")\n",
        "# Printing set sizes\n",
        "print(\"Size of dev_words:\", len(dev_words))\n",
        "print(\"Size of dev_tags:\", len(dev_tags))\n",
        "print(\"\\n\")\n",
        "# Printing set sizes\n",
        "print(\"Size of test_words:\", len(test_words))\n",
        "print(\"Size of test_tags:\", len(test_tags))\n",
        "print(\"\\n\")\n",
        "\n",
        "# Converting all words to lowercase\n",
        "train_words = convert_to_lowercase(train_words)\n",
        "dev_words = convert_to_lowercase(dev_words)\n",
        "test_words = convert_to_lowercase(test_words)\n",
        "\n",
        "# Printing sample extracted words and tags for verification\n",
        "print(\"Sample words and tags from training data:\")\n",
        "print(\"Words:\", train_words[0])\n",
        "print(\"Tags:\", train_tags[0])\n",
        "print(\"\\n\")\n",
        "\n",
        "print(\"Sample words and tags from development data:\")\n",
        "print(\"Words:\", dev_words[0])\n",
        "print(\"Tags:\", dev_tags[0])\n",
        "print(\"\\n\")\n",
        "\n",
        "print(\"Sample words and tags from test data:\")\n",
        "print(\"Words:\", test_words[0])\n",
        "print(\"Tags:\", test_tags[0])\n",
        "print(\"\\n\")"
      ]
    },
    {
      "cell_type": "markdown",
      "id": "562fc5de-fa91-4da5-8939-d96d9353c1b1",
      "metadata": {
        "id": "562fc5de-fa91-4da5-8939-d96d9353c1b1"
      },
      "source": [
        "### Creating sliding windows for words and align the corresponding tags"
      ]
    },
    {
      "cell_type": "code",
      "execution_count": null,
      "id": "5545d70d-01ca-426d-b8c6-18405394e93a",
      "metadata": {
        "colab": {
          "base_uri": "https://localhost:8080/"
        },
        "id": "5545d70d-01ca-426d-b8c6-18405394e93a",
        "outputId": "f6ff843d-cd47-4d05-c25c-19cd6cc9f7b8"
      },
      "outputs": [
        {
          "output_type": "stream",
          "name": "stdout",
          "text": [
            "Sample windowed sentences from training data:\n",
            "\n",
            "Windows: [('</s>', '</s>', 'al', '-', 'zaman'), ('</s>', 'al', '-', 'zaman', ':'), ('al', '-', 'zaman', ':', 'american'), ('-', 'zaman', ':', 'american', 'forces'), ('zaman', ':', 'american', 'forces', 'killed'), (':', 'american', 'forces', 'killed', 'shaikh'), ('american', 'forces', 'killed', 'shaikh', 'abdullah'), ('forces', 'killed', 'shaikh', 'abdullah', 'al'), ('killed', 'shaikh', 'abdullah', 'al', '-'), ('shaikh', 'abdullah', 'al', '-', 'ani'), ('abdullah', 'al', '-', 'ani', ','), ('al', '-', 'ani', ',', 'the'), ('-', 'ani', ',', 'the', 'preacher'), ('ani', ',', 'the', 'preacher', 'at'), (',', 'the', 'preacher', 'at', 'the'), ('the', 'preacher', 'at', 'the', 'mosque'), ('preacher', 'at', 'the', 'mosque', 'in'), ('at', 'the', 'mosque', 'in', 'the'), ('the', 'mosque', 'in', 'the', 'town'), ('mosque', 'in', 'the', 'town', 'of'), ('in', 'the', 'town', 'of', 'qaim'), ('the', 'town', 'of', 'qaim', ','), ('town', 'of', 'qaim', ',', 'near'), ('of', 'qaim', ',', 'near', 'the'), ('qaim', ',', 'near', 'the', 'syrian')]\n",
            "\n",
            "\n",
            "Tags: ['PROPN', 'PUNCT', 'PROPN', 'PUNCT', 'ADJ', 'NOUN', 'VERB', 'PROPN', 'PROPN', 'PROPN', 'PUNCT', 'PROPN', 'PUNCT', 'DET', 'NOUN', 'ADP', 'DET', 'NOUN', 'ADP', 'DET', 'NOUN', 'ADP', 'PROPN', 'PUNCT', 'ADP']\n",
            "\n",
            "\n",
            "Sample windowed sentences from training data:\n",
            "\n",
            "Window 1: ('</s>', '</s>', 'al', '-', 'zaman')\n",
            "Tags 1: PROPN\n",
            "\n",
            "\n",
            "Window 2: ('</s>', 'al', '-', 'zaman', ':')\n",
            "Tags 2: PUNCT\n",
            "\n",
            "\n",
            "Window 3: ('al', '-', 'zaman', ':', 'american')\n",
            "Tags 3: PROPN\n",
            "\n",
            "\n",
            "Window 4: ('-', 'zaman', ':', 'american', 'forces')\n",
            "Tags 4: PUNCT\n",
            "\n",
            "\n",
            "Window 5: ('zaman', ':', 'american', 'forces', 'killed')\n",
            "Tags 5: ADJ\n",
            "\n",
            "\n",
            "Sample windowed sentences from development data:\n",
            "\n",
            "Window 1: ('</s>', '</s>', 'from', 'the', 'ap')\n",
            "Tags 1: ADP\n",
            "\n",
            "\n",
            "Window 2: ('</s>', 'from', 'the', 'ap', 'comes')\n",
            "Tags 2: DET\n",
            "\n",
            "\n",
            "Window 3: ('from', 'the', 'ap', 'comes', 'this')\n",
            "Tags 3: PROPN\n",
            "\n",
            "\n",
            "Window 4: ('the', 'ap', 'comes', 'this', 'story')\n",
            "Tags 4: VERB\n",
            "\n",
            "\n",
            "Window 5: ('ap', 'comes', 'this', 'story', ':')\n",
            "Tags 5: DET\n",
            "\n",
            "\n",
            "Size of train_windows: 207229\n",
            "Size of train_window_tags: 207229\n",
            "\n",
            "\n",
            "Size of dev_windows: 25512\n",
            "Size of dev_window_tags: 25512\n"
          ]
        }
      ],
      "source": [
        "# Example window size\n",
        "window_size = 5\n",
        "\n",
        "# Creating sliding windows for train and dev datasets\n",
        "train_windows, train_window_tags = convert_to_window_dataset((train_words, train_tags), window_size)\n",
        "dev_windows, dev_window_tags = convert_to_window_dataset((dev_words, dev_tags), window_size)\n",
        "test_windows, test_window_tags = convert_to_window_dataset((test_words, test_tags), window_size)\n",
        "\n",
        "# Printing sample windowed sentences and tags for verification\n",
        "print(\"Sample windowed sentences from training data:\\n\")\n",
        "print(\"Windows:\", train_windows[:25])\n",
        "print(\"\\n\")\n",
        "print(\"Tags:\", train_window_tags[:25])\n",
        "print(\"\\n\")\n",
        "\n",
        "# Printing sample windowed sentences and tags for verification\n",
        "print(\"Sample windowed sentences from training data:\\n\")\n",
        "for i in range(5):\n",
        "    print(f\"Window {i+1}: {train_windows[i]}\")\n",
        "    print(f\"Tags {i+1}: {train_window_tags[i]}\")\n",
        "    print(\"\\n\")\n",
        "\n",
        "print(\"Sample windowed sentences from development data:\\n\")\n",
        "for i in range(5):\n",
        "    print(f\"Window {i+1}: {dev_windows[i]}\")\n",
        "    print(f\"Tags {i+1}: {dev_window_tags[i]}\")\n",
        "    print(\"\\n\")\n",
        "\n",
        "# Printing sizes of the windowed datasets\n",
        "print(\"Size of train_windows:\", len(train_windows))\n",
        "print(\"Size of train_window_tags:\", len(train_window_tags))\n",
        "print(\"\\n\")\n",
        "print(\"Size of dev_windows:\", len(dev_windows))\n",
        "print(\"Size of dev_window_tags:\", len(dev_window_tags))"
      ]
    },
    {
      "cell_type": "markdown",
      "id": "89e66b96-922e-4c1a-bc66-3e50cb8ffb37",
      "metadata": {
        "id": "89e66b96-922e-4c1a-bc66-3e50cb8ffb37"
      },
      "source": [
        "### Creating a vocabulary from the train set"
      ]
    },
    {
      "cell_type": "markdown",
      "id": "82bff7dd-d789-4f2b-a53f-c0e85f176fbc",
      "metadata": {
        "id": "82bff7dd-d789-4f2b-a53f-c0e85f176fbc"
      },
      "source": [
        "A vocabulary is needed to convert words into unique numerical indices, allowing consistent and efficient lookup for embeddings and ensuring uniformity across the dataset."
      ]
    },
    {
      "cell_type": "code",
      "execution_count": null,
      "id": "02083cf0-036c-49ed-aee8-14ef3898e9c8",
      "metadata": {
        "colab": {
          "base_uri": "https://localhost:8080/"
        },
        "id": "02083cf0-036c-49ed-aee8-14ef3898e9c8",
        "outputId": "540111c7-7824-45c6-b639-1af1f371e493"
      },
      "outputs": [
        {
          "output_type": "stream",
          "name": "stdout",
          "text": [
            "Word Vocabulary (first 30 items):\n",
            " [('extreme', 0), ('03/29/2001', 1), ('deleted', 2), ('veryyyy', 3), ('beliefs', 4), ('lynne', 5), ('mercenaries', 6), ('tomipilates', 7), ('toby', 8), ('undergraduate', 9), ('proviso', 10), ('110', 11), ('govs', 12), ('garner', 13), ('3143c', 14), ('oops', 15), ('nurses', 16), ('kang', 17), ('rides', 18), (\"78's\", 19), ('producers', 20), ('ruthless', 21), ('excel', 22), ('blocks', 23), ('jaffna', 24), ('gross', 25), ('parole', 26), ('4,223,000', 27), ('arabian', 28), ('thane', 29)]\n",
            "\n",
            "\n",
            "Word Vocabulary (last 30 items):\n",
            " [('easiest', 19854), ('fertilized', 19855), ('e.g.', 19856), ('adhamiya', 19857), ('abacus', 19858), ('mirror', 19859), ('about', 19860), ('prisoners', 19861), ('russians', 19862), ('statement', 19863), ('abiding', 19864), ('chevron', 19865), ('ballerina', 19866), ('incomes', 19867), ('malaysian', 19868), ('damascus', 19869), ('locals', 19870), ('disability', 19871), ('satisfying', 19872), ('gloating', 19873), ('vangie', 19874), ('functioning', 19875), ('medium', 19876), ('melinda', 19877), (\"winter's\", 19878), ('twin', 19879), ('03:43', 19880), ('first', 19881), ('rooting', 19882), ('infections', 19883)]\n",
            "\n",
            "\n",
            "Size of Word Vocabulary:\n",
            " 19884\n"
          ]
        }
      ],
      "source": [
        "# Creating the vocabulary\n",
        "vocabulary = create_vocabulary_from_windows(train_windows + dev_windows + test_windows)\n",
        "\n",
        "# Printing the vocabulary for verification\n",
        "print(\"Word Vocabulary (first 30 items):\\n\", list(vocabulary.items())[:30])\n",
        "print(\"\\n\")\n",
        "print(\"Word Vocabulary (last 30 items):\\n\", list(vocabulary.items())[-30:])\n",
        "print(\"\\n\")\n",
        "\n",
        "# Printing sizes of the vocabularies\n",
        "print(\"Size of Word Vocabulary:\\n\", len(vocabulary))"
      ]
    },
    {
      "cell_type": "code",
      "execution_count": null,
      "id": "c5981560-ee1d-4dc2-93a5-c15459d25830",
      "metadata": {
        "colab": {
          "base_uri": "https://localhost:8080/"
        },
        "id": "c5981560-ee1d-4dc2-93a5-c15459d25830",
        "outputId": "1d9acee1-786a-4a75-e7b1-f0c532b1e1ab"
      },
      "outputs": [
        {
          "output_type": "stream",
          "name": "stdout",
          "text": [
            "Sample of train_window_tags (first 5): ['PROPN', 'PUNCT', 'PROPN', 'PUNCT', 'ADJ']\n",
            "Size of train_target vocabulary: 18\n",
            "Sample of train_target vocabulary (first 10 items): [('PRON', 0), ('SYM', 1), ('_', 2), ('VERB', 3), ('DET', 4), ('PUNCT', 5), ('NOUN', 6), ('PART', 7), ('CCONJ', 8), ('AUX', 9)]\n"
          ]
        }
      ],
      "source": [
        "# Create a vocabulary for train_window_tags\n",
        "train_target = set(train_window_tags)\n",
        "train_target = {v: k for k, v in enumerate(train_target)}\n",
        "\n",
        "# Print samples and sizes for verification\n",
        "print(\"Sample of train_window_tags (first 5):\", train_window_tags[:5])\n",
        "print(\"Size of train_target vocabulary:\", len(train_target))\n",
        "\n",
        "# Printing a sample of the train_target vocabulary\n",
        "print(\"Sample of train_target vocabulary (first 10 items):\", list(train_target.items())[:10])"
      ]
    },
    {
      "cell_type": "markdown",
      "id": "40ef7841-2695-4256-9407-513e3f8234a3",
      "metadata": {
        "id": "40ef7841-2695-4256-9407-513e3f8234a3"
      },
      "source": [
        "### Load pre-trained word embeddings (Word2Vec)"
      ]
    },
    {
      "cell_type": "code",
      "execution_count": null,
      "id": "78c29e64-2927-4070-862f-f182592b009a",
      "metadata": {
        "colab": {
          "base_uri": "https://localhost:8080/"
        },
        "id": "78c29e64-2927-4070-862f-f182592b009a",
        "outputId": "8a79592e-4701-4b5a-fce0-4cdeefdd33a4"
      },
      "outputs": [
        {
          "output_type": "stream",
          "name": "stdout",
          "text": [
            "[==================================================] 100.0% 1662.8/1662.8MB downloaded\n"
          ]
        }
      ],
      "source": [
        "# Loading pre-trained Word2Vec embeddings\n",
        "wv = api.load('word2vec-google-news-300')"
      ]
    },
    {
      "cell_type": "markdown",
      "id": "a0e057e2-e4d9-4d1d-967e-81a50fae5714",
      "metadata": {
        "id": "a0e057e2-e4d9-4d1d-967e-81a50fae5714"
      },
      "source": [
        "### Mapping the words in the windows to their corresponding embeddings"
      ]
    },
    {
      "cell_type": "code",
      "execution_count": null,
      "id": "b8de9157-e6da-4468-ac74-035b570df567",
      "metadata": {
        "colab": {
          "base_uri": "https://localhost:8080/"
        },
        "id": "b8de9157-e6da-4468-ac74-035b570df567",
        "outputId": "f34fad8c-fb8c-4e56-c9bf-a20aefb6155d"
      },
      "outputs": [
        {
          "output_type": "stream",
          "name": "stdout",
          "text": [
            "Sample embeddings:\n",
            " [[ 0.07519531 -0.00389099 -0.07568359 ...  0.34765625 -0.04858398\n",
            "   0.21289062]\n",
            " [ 0.          0.          0.         ...  0.          0.\n",
            "   0.        ]\n",
            " [-0.17285156 -0.04785156  0.31640625 ... -0.36132812 -0.05053711\n",
            "  -0.07080078]\n",
            " [ 0.          0.          0.         ...  0.          0.\n",
            "   0.        ]\n",
            " [ 0.01696777 -0.33398438  0.41992188 ...  0.3125      0.24511719\n",
            "   0.08837891]]\n"
          ]
        }
      ],
      "source": [
        "# Creating the embedding matrix for the vocabulary\n",
        "embedding_matrix = create_embedding_matrix(vocabulary, wv)\n",
        "\n",
        "# Printing a sample of the embedding matrix\n",
        "print(\"Sample embeddings:\\n\", embedding_matrix[:5])"
      ]
    },
    {
      "cell_type": "markdown",
      "id": "9ec2fb3d-aa8a-4673-b430-55b41baabfff",
      "metadata": {
        "id": "9ec2fb3d-aa8a-4673-b430-55b41baabfff"
      },
      "source": [
        "### Tokenizing the train and dev windows using the created vocabulary"
      ]
    },
    {
      "cell_type": "code",
      "execution_count": null,
      "id": "6e23de6b-2832-451c-acc1-1807444ca152",
      "metadata": {
        "colab": {
          "base_uri": "https://localhost:8080/"
        },
        "id": "6e23de6b-2832-451c-acc1-1807444ca152",
        "outputId": "8d78b902-f22a-4a5d-8c71-516ea7fd9f76"
      },
      "outputs": [
        {
          "output_type": "stream",
          "name": "stdout",
          "text": [
            "Sample tokenized train windows (first 25):\n",
            " [[19282, 19282, 2884, 9120, 15955], [19282, 2884, 9120, 15955, 6678], [2884, 9120, 15955, 6678, 9508], [9120, 15955, 6678, 9508, 12091], [15955, 6678, 9508, 12091, 13577], [6678, 9508, 12091, 13577, 8397], [9508, 12091, 13577, 8397, 202], [12091, 13577, 8397, 202, 2884], [13577, 8397, 202, 2884, 9120], [8397, 202, 2884, 9120, 6354], [202, 2884, 9120, 6354, 6297], [2884, 9120, 6354, 6297, 7080], [9120, 6354, 6297, 7080, 5801], [6354, 6297, 7080, 5801, 6847], [6297, 7080, 5801, 6847, 7080], [7080, 5801, 6847, 7080, 12461], [5801, 6847, 7080, 12461, 8807], [6847, 7080, 12461, 8807, 7080], [7080, 12461, 8807, 7080, 2543], [12461, 8807, 7080, 2543, 1100], [8807, 7080, 2543, 1100, 19253], [7080, 2543, 1100, 19253, 6297], [2543, 1100, 19253, 6297, 8994], [1100, 19253, 6297, 8994, 7080], [19253, 6297, 8994, 7080, 9618]]\n",
            "\n",
            "\n",
            "Sample tokenized dev windows (first 25):\n",
            " [[19282, 19282, 5468, 7080, 236], [19282, 5468, 7080, 236, 14460], [5468, 7080, 236, 14460, 18067], [7080, 236, 14460, 18067, 19231], [236, 14460, 18067, 19231, 6678], [14460, 18067, 19231, 6678, 19282], [18067, 19231, 6678, 19282, 19282], [19282, 19282, 4294, 8493, 7149], [19282, 4294, 8493, 7149, 15622], [4294, 8493, 7149, 15622, 16115], [8493, 7149, 15622, 16115, 18417], [7149, 15622, 16115, 18417, 14179], [15622, 16115, 18417, 14179, 19110], [16115, 18417, 14179, 19110, 11877], [18417, 14179, 19110, 11877, 1029], [14179, 19110, 11877, 1029, 17781], [19110, 11877, 1029, 17781, 7149], [11877, 1029, 17781, 7149, 17008], [1029, 17781, 7149, 17008, 16277], [17781, 7149, 17008, 16277, 8807], [7149, 17008, 16277, 8807, 7080], [17008, 16277, 8807, 7080, 10752], [16277, 8807, 7080, 10752, 2799], [8807, 7080, 10752, 2799, 4588], [7080, 10752, 2799, 4588, 19282]]\n",
            "\n",
            "\n",
            "Size of tokenized train windows: 207229\n",
            "Size of tokenized dev windows: 25512\n",
            "\n",
            "\n",
            "Sample target (tag to index):\n",
            " [('PRON', 0), ('SYM', 1), ('_', 2), ('VERB', 3), ('DET', 4), ('PUNCT', 5), ('NOUN', 6), ('PART', 7), ('CCONJ', 8), ('AUX', 9), ('X', 10), ('ADJ', 11), ('ADP', 12), ('INTJ', 13), ('SCONJ', 14), ('PROPN', 15), ('NUM', 16), ('ADV', 17)]\n",
            "Size of target dictionary: 18\n"
          ]
        }
      ],
      "source": [
        "# Tokenizing the train, dev, and test windows\n",
        "train_windows_tokenized = tokenize_windows(train_windows, vocabulary)\n",
        "dev_windows_tokenized = tokenize_windows(dev_windows, vocabulary)\n",
        "test_windows_tokenized = tokenize_windows(test_windows, vocabulary)\n",
        "\n",
        "# Printing sample tokenized train windows for verification\n",
        "print(\"Sample tokenized train windows (first 25):\\n\", train_windows_tokenized[:25])\n",
        "print(\"\\n\")\n",
        "\n",
        "# Printing sample tokenized dev windows for verification\n",
        "print(\"Sample tokenized dev windows (first 25):\\n\", dev_windows_tokenized[:25])\n",
        "print(\"\\n\")\n",
        "\n",
        "# Printing sizes of tokenized windows for verification\n",
        "print(\"Size of tokenized train windows:\", len(train_windows_tokenized))\n",
        "print(\"Size of tokenized dev windows:\", len(dev_windows_tokenized))\n",
        "print(\"\\n\")\n",
        "\n",
        "# Printing a sample of the tag-to-index mapping\n",
        "target_sample = list(train_target.items())[:25]\n",
        "print(\"Sample target (tag to index):\\n\", target_sample)\n",
        "print(\"Size of target dictionary:\", len(train_target))"
      ]
    },
    {
      "cell_type": "markdown",
      "id": "1c6e413a-3e84-40f0-a376-4c61d4521e27",
      "metadata": {
        "id": "1c6e413a-3e84-40f0-a376-4c61d4521e27"
      },
      "source": [
        "### Encoding the POS tags using LabelEncoder and OneHotEncoder"
      ]
    },
    {
      "cell_type": "code",
      "execution_count": null,
      "id": "154eac44-4d64-4ebb-a1a9-69723cd9e278",
      "metadata": {
        "colab": {
          "base_uri": "https://localhost:8080/"
        },
        "id": "154eac44-4d64-4ebb-a1a9-69723cd9e278",
        "outputId": "add430bd-e4b5-4125-9615-1ee7a9a79213"
      },
      "outputs": [
        {
          "output_type": "stream",
          "name": "stdout",
          "text": [
            "Sample encoded train tags (first 10):\n",
            " [11 12 11 12  0  7 15 11 11 11]\n",
            "Sample one-hot encoded train tags (first 5):\n",
            " [[0. 0. 0. 0. 0. 0. 0. 0. 0. 0. 0. 1. 0. 0. 0. 0. 0. 0.]\n",
            " [0. 0. 0. 0. 0. 0. 0. 0. 0. 0. 0. 0. 1. 0. 0. 0. 0. 0.]\n",
            " [0. 0. 0. 0. 0. 0. 0. 0. 0. 0. 0. 1. 0. 0. 0. 0. 0. 0.]\n",
            " [0. 0. 0. 0. 0. 0. 0. 0. 0. 0. 0. 0. 1. 0. 0. 0. 0. 0.]\n",
            " [1. 0. 0. 0. 0. 0. 0. 0. 0. 0. 0. 0. 0. 0. 0. 0. 0. 0.]]\n",
            "Sample encoded dev tags (first 10):\n",
            " [ 1  5 11 15  5  7 12 11 11  1]\n",
            "Sample one-hot encoded dev tags (first 5):\n",
            " [[0. 1. 0. 0. 0. 0. 0. 0. 0. 0. 0. 0. 0. 0. 0. 0. 0. 0.]\n",
            " [0. 0. 0. 0. 0. 1. 0. 0. 0. 0. 0. 0. 0. 0. 0. 0. 0. 0.]\n",
            " [0. 0. 0. 0. 0. 0. 0. 0. 0. 0. 0. 1. 0. 0. 0. 0. 0. 0.]\n",
            " [0. 0. 0. 0. 0. 0. 0. 0. 0. 0. 0. 0. 0. 0. 0. 1. 0. 0.]\n",
            " [0. 0. 0. 0. 0. 1. 0. 0. 0. 0. 0. 0. 0. 0. 0. 0. 0. 0.]]\n",
            "\n",
            "\n",
            "Shape of encoded train tags: (207229, 1)\n",
            "Shape of one-hot encoded train tags: (207229, 18)\n",
            "Shape of encoded dev tags: (25512, 1)\n",
            "Shape of one-hot encoded dev tags: (25512, 18)\n"
          ]
        }
      ],
      "source": [
        "# Initializing LabelEncoder and OneHotEncoder\n",
        "label_encoder = LabelEncoder()\n",
        "onehot_encoder = OneHotEncoder(sparse_output=False)\n",
        "\n",
        "# Fitting the LabelEncoder on the train tags and transforming all sets\n",
        "train_tags_encoded = label_encoder.fit_transform(train_window_tags).reshape(-1, 1)\n",
        "dev_tags_encoded = label_encoder.transform(dev_window_tags).reshape(-1, 1)\n",
        "\n",
        "# Fitting the OneHotEncoder on the train tags and transforming all sets\n",
        "train_tags_onehot = onehot_encoder.fit_transform(train_tags_encoded)\n",
        "dev_tags_onehot = onehot_encoder.transform(dev_tags_encoded)\n",
        "\n",
        "# Printing sample encoded and one-hot encoded tags for verification\n",
        "print(\"Sample encoded train tags (first 10):\\n\", train_tags_encoded[:10].flatten())\n",
        "print(\"Sample one-hot encoded train tags (first 5):\\n\", train_tags_onehot[:5])\n",
        "print(\"Sample encoded dev tags (first 10):\\n\", dev_tags_encoded[:10].flatten())\n",
        "print(\"Sample one-hot encoded dev tags (first 5):\\n\", dev_tags_onehot[:5])\n",
        "print (\"\\n\")\n",
        "\n",
        "# Printing sizes of the encoded and one-hot encoded tags\n",
        "print(\"Shape of encoded train tags:\", train_tags_encoded.shape)\n",
        "print(\"Shape of one-hot encoded train tags:\", train_tags_onehot.shape)\n",
        "print(\"Shape of encoded dev tags:\", dev_tags_encoded.shape)\n",
        "print(\"Shape of one-hot encoded dev tags:\", dev_tags_onehot.shape)"
      ]
    },
    {
      "cell_type": "markdown",
      "id": "1734d0f1-deeb-4084-90d7-92f00ab14cbe",
      "metadata": {
        "id": "1734d0f1-deeb-4084-90d7-92f00ab14cbe"
      },
      "source": [
        "## Baseline Model"
      ]
    },
    {
      "cell_type": "markdown",
      "id": "5b03c5bc-2c25-4e91-a88f-d58bdbf5e5ff",
      "metadata": {
        "id": "5b03c5bc-2c25-4e91-a88f-d58bdbf5e5ff"
      },
      "source": [
        "### Most Frequent Class (MFC) Baseline"
      ]
    },
    {
      "cell_type": "code",
      "execution_count": null,
      "id": "747fa737-ffab-4e74-96ad-53d229156b70",
      "metadata": {
        "colab": {
          "base_uri": "https://localhost:8080/"
        },
        "id": "747fa737-ffab-4e74-96ad-53d229156b70",
        "outputId": "2dfb9ce7-4ea3-4a42-c43f-b9b5f67a7e07"
      },
      "outputs": [
        {
          "output_type": "stream",
          "name": "stdout",
          "text": [
            "The most frequent tag in the training data is: NOUN\n",
            "Baseline Model Accuracy: 0.1625540275049116\n",
            "\n",
            "Classification Report for the Baseline Model:\n",
            "\n",
            "              precision    recall  f1-score   support\n",
            "\n",
            "         ADJ       0.00      0.00      0.00      1788\n",
            "         ADP       0.00      0.00      0.00      2034\n",
            "         ADV       0.00      0.00      0.00      1176\n",
            "         AUX       0.00      0.00      0.00      1543\n",
            "       CCONJ       0.00      0.00      0.00       737\n",
            "         DET       0.00      0.00      0.00      1897\n",
            "        INTJ       0.00      0.00      0.00       120\n",
            "        NOUN       0.16      1.00      0.28      4137\n",
            "         NUM       0.00      0.00      0.00       542\n",
            "        PART       0.00      0.00      0.00       649\n",
            "        PRON       0.00      0.00      0.00      2162\n",
            "       PROPN       0.00      0.00      0.00      2077\n",
            "       PUNCT       0.00      0.00      0.00      3096\n",
            "       SCONJ       0.00      0.00      0.00       384\n",
            "         SYM       0.00      0.00      0.00       109\n",
            "        VERB       0.00      0.00      0.00      2606\n",
            "           X       0.00      0.00      0.00        39\n",
            "           _       0.00      0.00      0.00       354\n",
            "\n",
            "    accuracy                           0.16     25450\n",
            "   macro avg       0.01      0.06      0.02     25450\n",
            "weighted avg       0.03      0.16      0.05     25450\n",
            "\n"
          ]
        }
      ],
      "source": [
        "# Step 1: Calculating the most frequent tag in the training data\n",
        "\n",
        "# Flattening the list of tags from the training data for analysis\n",
        "all_train_tags = list_flat_data(train_tags)\n",
        "\n",
        "# Counting the frequency of each tag\n",
        "tag_counter = Counter(all_train_tags)\n",
        "\n",
        "# Finding the most frequent tag\n",
        "most_frequent_tag = tag_counter.most_common(1)[0][0]\n",
        "\n",
        "# Printing the most frequent tag\n",
        "print(f\"The most frequent tag in the training data is: {most_frequent_tag}\")\n",
        "\n",
        "# Step 2: Implementing the baseline model\n",
        "\n",
        "# Creating baseline predictions by tagging each word with the most frequent tag\n",
        "baseline_predictions = [most_frequent_tag] * len(list_flat_data(test_tags))\n",
        "\n",
        "# Flattening the list of actual tags from the test set for evaluation\n",
        "flat_test_tags = list_flat_data(test_tags)\n",
        "\n",
        "# Step 3: Evaluating the baseline model\n",
        "\n",
        "# Calculating the accuracy of the baseline model\n",
        "baseline_accuracy = accuracy_score(flat_test_tags, baseline_predictions)\n",
        "\n",
        "# Printing the baseline model accuracy\n",
        "print(f\"Baseline Model Accuracy: {baseline_accuracy}\")\n",
        "\n",
        "# Generating a comprehensive classification report with zero_division parameter\n",
        "baseline_classification_report = classification_report(flat_test_tags, baseline_predictions, zero_division=0)\n",
        "\n",
        "# Printing the classification report\n",
        "print(\"\\nClassification Report for the Baseline Model:\\n\")\n",
        "print(baseline_classification_report)"
      ]
    },
    {
      "cell_type": "markdown",
      "id": "1a8ba1a8-e531-4c03-b189-a6d1bf8b90b7",
      "metadata": {
        "id": "1a8ba1a8-e531-4c03-b189-a6d1bf8b90b7"
      },
      "source": [
        "### MLP Baseline Model (Part 03 - Assignment 10)"
      ]
    },
    {
      "cell_type": "code",
      "execution_count": null,
      "id": "57324ccf-6684-4468-9af1-9013cdecd77f",
      "metadata": {
        "colab": {
          "base_uri": "https://localhost:8080/",
          "height": 1000
        },
        "id": "57324ccf-6684-4468-9af1-9013cdecd77f",
        "outputId": "3563ed8c-9f17-4161-8653-83fe513b1aa7"
      },
      "outputs": [
        {
          "output_type": "stream",
          "name": "stdout",
          "text": [
            "Model: \"sequential\"\n",
            "_________________________________________________________________\n",
            " Layer (type)                Output Shape              Param #   \n",
            "=================================================================\n",
            " embedding (Embedding)       (None, 5, 300)            5965200   \n",
            "                                                                 \n",
            " flatten (Flatten)           (None, 1500)              0         \n",
            "                                                                 \n",
            " dense (Dense)               (None, 256)               384256    \n",
            "                                                                 \n",
            " dropout (Dropout)           (None, 256)               0         \n",
            "                                                                 \n",
            " dense_1 (Dense)             (None, 128)               32896     \n",
            "                                                                 \n",
            " dropout_1 (Dropout)         (None, 128)               0         \n",
            "                                                                 \n",
            " dense_2 (Dense)             (None, 18)                2322      \n",
            "                                                                 \n",
            "=================================================================\n",
            "Total params: 6384674 (24.36 MB)\n",
            "Trainable params: 6384674 (24.36 MB)\n",
            "Non-trainable params: 0 (0.00 Byte)\n",
            "_________________________________________________________________\n",
            "None\n",
            "Epoch 1/100\n",
            "798/798 [==============================] - 2s 3ms/step\n",
            " — val_f1: 0.8326 — val_precision: 0.8250 — val_recall: 0.8558\n",
            "810/810 [==============================] - 44s 47ms/step - loss: 2.3339 - categorical_accuracy: 0.5957 - val_loss: 1.0175 - val_categorical_accuracy: 0.8558 - val_f1: 0.8326 - val_recall: 0.8558 - val_precision: 0.8250\n",
            "Epoch 2/100\n",
            "  1/810 [..............................] - ETA: 8s - loss: 1.3025 - categorical_accuracy: 0.7656"
          ]
        },
        {
          "output_type": "stream",
          "name": "stderr",
          "text": [
            "/usr/local/lib/python3.10/dist-packages/sklearn/metrics/_classification.py:1344: UndefinedMetricWarning: Precision is ill-defined and being set to 0.0 in labels with no predicted samples. Use `zero_division` parameter to control this behavior.\n",
            "  _warn_prf(average, modifier, msg_start, len(result))\n"
          ]
        },
        {
          "output_type": "stream",
          "name": "stdout",
          "text": [
            "798/798 [==============================] - 2s 3ms/step\n",
            " — val_f1: 0.8817 — val_precision: 0.8825 — val_recall: 0.8901\n",
            "810/810 [==============================] - 15s 19ms/step - loss: 1.1851 - categorical_accuracy: 0.7897 - val_loss: 0.8605 - val_categorical_accuracy: 0.8901 - val_f1: 0.8817 - val_recall: 0.8901 - val_precision: 0.8825\n",
            "Epoch 3/100\n",
            " 16/810 [..............................] - ETA: 5s - loss: 1.1122 - categorical_accuracy: 0.8069"
          ]
        },
        {
          "output_type": "stream",
          "name": "stderr",
          "text": [
            "/usr/local/lib/python3.10/dist-packages/sklearn/metrics/_classification.py:1344: UndefinedMetricWarning: Precision is ill-defined and being set to 0.0 in labels with no predicted samples. Use `zero_division` parameter to control this behavior.\n",
            "  _warn_prf(average, modifier, msg_start, len(result))\n"
          ]
        },
        {
          "output_type": "stream",
          "name": "stdout",
          "text": [
            "798/798 [==============================] - 2s 3ms/step\n",
            " — val_f1: 0.8877 — val_precision: 0.8856 — val_recall: 0.8946\n",
            "810/810 [==============================] - 12s 15ms/step - loss: 1.0605 - categorical_accuracy: 0.8206 - val_loss: 0.7980 - val_categorical_accuracy: 0.8946 - val_f1: 0.8877 - val_recall: 0.8946 - val_precision: 0.8856\n",
            "Epoch 4/100\n",
            " 14/810 [..............................] - ETA: 6s - loss: 1.0186 - categorical_accuracy: 0.8315"
          ]
        },
        {
          "output_type": "stream",
          "name": "stderr",
          "text": [
            "/usr/local/lib/python3.10/dist-packages/sklearn/metrics/_classification.py:1344: UndefinedMetricWarning: Precision is ill-defined and being set to 0.0 in labels with no predicted samples. Use `zero_division` parameter to control this behavior.\n",
            "  _warn_prf(average, modifier, msg_start, len(result))\n"
          ]
        },
        {
          "output_type": "stream",
          "name": "stdout",
          "text": [
            "798/798 [==============================] - 2s 3ms/step\n",
            " — val_f1: 0.8900 — val_precision: 0.8887 — val_recall: 0.8968\n",
            "810/810 [==============================] - 14s 18ms/step - loss: 0.9947 - categorical_accuracy: 0.8375 - val_loss: 0.7851 - val_categorical_accuracy: 0.8968 - val_f1: 0.8900 - val_recall: 0.8968 - val_precision: 0.8887\n",
            "Epoch 5/100\n",
            " 13/810 [..............................] - ETA: 6s - loss: 0.9370 - categorical_accuracy: 0.8516"
          ]
        },
        {
          "output_type": "stream",
          "name": "stderr",
          "text": [
            "/usr/local/lib/python3.10/dist-packages/sklearn/metrics/_classification.py:1344: UndefinedMetricWarning: Precision is ill-defined and being set to 0.0 in labels with no predicted samples. Use `zero_division` parameter to control this behavior.\n",
            "  _warn_prf(average, modifier, msg_start, len(result))\n"
          ]
        },
        {
          "output_type": "stream",
          "name": "stdout",
          "text": [
            "798/798 [==============================] - 2s 3ms/step\n",
            " — val_f1: 0.8952 — val_precision: 0.8934 — val_recall: 0.9020\n",
            "810/810 [==============================] - 11s 14ms/step - loss: 0.9563 - categorical_accuracy: 0.8479 - val_loss: 0.7825 - val_categorical_accuracy: 0.9020 - val_f1: 0.8952 - val_recall: 0.9020 - val_precision: 0.8934\n",
            "Epoch 6/100\n",
            " 13/810 [..............................] - ETA: 7s - loss: 0.9067 - categorical_accuracy: 0.8621"
          ]
        },
        {
          "output_type": "stream",
          "name": "stderr",
          "text": [
            "/usr/local/lib/python3.10/dist-packages/sklearn/metrics/_classification.py:1344: UndefinedMetricWarning: Precision is ill-defined and being set to 0.0 in labels with no predicted samples. Use `zero_division` parameter to control this behavior.\n",
            "  _warn_prf(average, modifier, msg_start, len(result))\n"
          ]
        },
        {
          "output_type": "stream",
          "name": "stdout",
          "text": [
            "798/798 [==============================] - 2s 3ms/step\n",
            " — val_f1: 0.8964 — val_precision: 0.8946 — val_recall: 0.9029\n",
            "810/810 [==============================] - 10s 13ms/step - loss: 0.9233 - categorical_accuracy: 0.8563 - val_loss: 0.7615 - val_categorical_accuracy: 0.9029 - val_f1: 0.8964 - val_recall: 0.9029 - val_precision: 0.8946\n",
            "Epoch 7/100\n",
            " 13/810 [..............................] - ETA: 7s - loss: 0.8984 - categorical_accuracy: 0.8687"
          ]
        },
        {
          "output_type": "stream",
          "name": "stderr",
          "text": [
            "/usr/local/lib/python3.10/dist-packages/sklearn/metrics/_classification.py:1344: UndefinedMetricWarning: Precision is ill-defined and being set to 0.0 in labels with no predicted samples. Use `zero_division` parameter to control this behavior.\n",
            "  _warn_prf(average, modifier, msg_start, len(result))\n"
          ]
        },
        {
          "output_type": "stream",
          "name": "stdout",
          "text": [
            "798/798 [==============================] - 2s 3ms/step\n",
            " — val_f1: 0.8958 — val_precision: 0.9013 — val_recall: 0.9022\n",
            "810/810 [==============================] - 14s 17ms/step - loss: 0.9042 - categorical_accuracy: 0.8626 - val_loss: 0.7711 - val_categorical_accuracy: 0.9022 - val_f1: 0.8958 - val_recall: 0.9022 - val_precision: 0.9013\n",
            "Epoch 8/100\n",
            " 20/810 [..............................] - ETA: 6s - loss: 0.9163 - categorical_accuracy: 0.8623"
          ]
        },
        {
          "output_type": "stream",
          "name": "stderr",
          "text": [
            "/usr/local/lib/python3.10/dist-packages/sklearn/metrics/_classification.py:1344: UndefinedMetricWarning: Precision is ill-defined and being set to 0.0 in labels with no predicted samples. Use `zero_division` parameter to control this behavior.\n",
            "  _warn_prf(average, modifier, msg_start, len(result))\n"
          ]
        },
        {
          "output_type": "stream",
          "name": "stdout",
          "text": [
            "798/798 [==============================] - 2s 3ms/step\n",
            " — val_f1: 0.8968 — val_precision: 0.9020 — val_recall: 0.9031\n",
            "810/810 [==============================] - 13s 16ms/step - loss: 0.8899 - categorical_accuracy: 0.8668 - val_loss: 0.7644 - val_categorical_accuracy: 0.9031 - val_f1: 0.8968 - val_recall: 0.9031 - val_precision: 0.9020\n",
            "Epoch 9/100\n",
            " 19/810 [..............................] - ETA: 7s - loss: 0.8988 - categorical_accuracy: 0.8734"
          ]
        },
        {
          "output_type": "stream",
          "name": "stderr",
          "text": [
            "/usr/local/lib/python3.10/dist-packages/sklearn/metrics/_classification.py:1344: UndefinedMetricWarning: Precision is ill-defined and being set to 0.0 in labels with no predicted samples. Use `zero_division` parameter to control this behavior.\n",
            "  _warn_prf(average, modifier, msg_start, len(result))\n"
          ]
        },
        {
          "output_type": "stream",
          "name": "stdout",
          "text": [
            "798/798 [==============================] - 2s 3ms/step\n",
            " — val_f1: 0.9011 — val_precision: 0.9014 — val_recall: 0.9069\n",
            "810/810 [==============================] - 13s 16ms/step - loss: 0.8762 - categorical_accuracy: 0.8706 - val_loss: 0.7397 - val_categorical_accuracy: 0.9069 - val_f1: 0.9011 - val_recall: 0.9069 - val_precision: 0.9014\n",
            "Epoch 10/100\n",
            " 18/810 [..............................] - ETA: 4s - loss: 0.8451 - categorical_accuracy: 0.8676"
          ]
        },
        {
          "output_type": "stream",
          "name": "stderr",
          "text": [
            "/usr/local/lib/python3.10/dist-packages/sklearn/metrics/_classification.py:1344: UndefinedMetricWarning: Precision is ill-defined and being set to 0.0 in labels with no predicted samples. Use `zero_division` parameter to control this behavior.\n",
            "  _warn_prf(average, modifier, msg_start, len(result))\n"
          ]
        },
        {
          "output_type": "stream",
          "name": "stdout",
          "text": [
            "798/798 [==============================] - 1s 2ms/step\n",
            " — val_f1: 0.9011 — val_precision: 0.9049 — val_recall: 0.9066\n",
            "810/810 [==============================] - 7s 8ms/step - loss: 0.8644 - categorical_accuracy: 0.8736 - val_loss: 0.7551 - val_categorical_accuracy: 0.9066 - val_f1: 0.9011 - val_recall: 0.9066 - val_precision: 0.9049\n",
            "Epoch 11/100\n",
            " 34/810 [>.............................] - ETA: 3s - loss: 0.8775 - categorical_accuracy: 0.8689"
          ]
        },
        {
          "output_type": "stream",
          "name": "stderr",
          "text": [
            "/usr/local/lib/python3.10/dist-packages/sklearn/metrics/_classification.py:1344: UndefinedMetricWarning: Precision is ill-defined and being set to 0.0 in labels with no predicted samples. Use `zero_division` parameter to control this behavior.\n",
            "  _warn_prf(average, modifier, msg_start, len(result))\n"
          ]
        },
        {
          "output_type": "stream",
          "name": "stdout",
          "text": [
            "798/798 [==============================] - 2s 2ms/step\n",
            " — val_f1: 0.8982 — val_precision: 0.9016 — val_recall: 0.9041\n",
            "810/810 [==============================] - 7s 9ms/step - loss: 0.8545 - categorical_accuracy: 0.8772 - val_loss: 0.7523 - val_categorical_accuracy: 0.9041 - val_f1: 0.8982 - val_recall: 0.9041 - val_precision: 0.9016\n",
            "Epoch 12/100\n",
            " 29/810 [>.............................] - ETA: 4s - loss: 0.8401 - categorical_accuracy: 0.8808"
          ]
        },
        {
          "output_type": "stream",
          "name": "stderr",
          "text": [
            "/usr/local/lib/python3.10/dist-packages/sklearn/metrics/_classification.py:1344: UndefinedMetricWarning: Precision is ill-defined and being set to 0.0 in labels with no predicted samples. Use `zero_division` parameter to control this behavior.\n",
            "  _warn_prf(average, modifier, msg_start, len(result))\n"
          ]
        },
        {
          "output_type": "stream",
          "name": "stdout",
          "text": [
            "798/798 [==============================] - 1s 2ms/step\n",
            " — val_f1: 0.8946 — val_precision: 0.8981 — val_recall: 0.9010\n",
            "810/810 [==============================] - 6s 8ms/step - loss: 0.8510 - categorical_accuracy: 0.8785 - val_loss: 0.7775 - val_categorical_accuracy: 0.9010 - val_f1: 0.8946 - val_recall: 0.9010 - val_precision: 0.8981\n",
            "Epoch 13/100\n",
            " 31/810 [>.............................] - ETA: 4s - loss: 0.8461 - categorical_accuracy: 0.8819"
          ]
        },
        {
          "output_type": "stream",
          "name": "stderr",
          "text": [
            "/usr/local/lib/python3.10/dist-packages/sklearn/metrics/_classification.py:1344: UndefinedMetricWarning: Precision is ill-defined and being set to 0.0 in labels with no predicted samples. Use `zero_division` parameter to control this behavior.\n",
            "  _warn_prf(average, modifier, msg_start, len(result))\n"
          ]
        },
        {
          "output_type": "stream",
          "name": "stdout",
          "text": [
            "798/798 [==============================] - 2s 2ms/step\n",
            " — val_f1: 0.8986 — val_precision: 0.8994 — val_recall: 0.9040\n",
            "810/810 [==============================] - 8s 10ms/step - loss: 0.8477 - categorical_accuracy: 0.8812 - val_loss: 0.7854 - val_categorical_accuracy: 0.9040 - val_f1: 0.8986 - val_recall: 0.9040 - val_precision: 0.8994\n",
            "Epoch 14/100\n",
            " 32/810 [>.............................] - ETA: 3s - loss: 0.8509 - categorical_accuracy: 0.8898"
          ]
        },
        {
          "output_type": "stream",
          "name": "stderr",
          "text": [
            "/usr/local/lib/python3.10/dist-packages/sklearn/metrics/_classification.py:1344: UndefinedMetricWarning: Precision is ill-defined and being set to 0.0 in labels with no predicted samples. Use `zero_division` parameter to control this behavior.\n",
            "  _warn_prf(average, modifier, msg_start, len(result))\n"
          ]
        },
        {
          "output_type": "stream",
          "name": "stdout",
          "text": [
            "798/798 [==============================] - 1s 2ms/step\n",
            " — val_f1: 0.8992 — val_precision: 0.9029 — val_recall: 0.9042\n",
            "810/810 [==============================] - 6s 7ms/step - loss: 0.8409 - categorical_accuracy: 0.8826 - val_loss: 0.7821 - val_categorical_accuracy: 0.9042 - val_f1: 0.8992 - val_recall: 0.9042 - val_precision: 0.9029\n",
            "Epoch 15/100\n",
            " 33/810 [>.............................] - ETA: 3s - loss: 0.8231 - categorical_accuracy: 0.8859"
          ]
        },
        {
          "output_type": "stream",
          "name": "stderr",
          "text": [
            "/usr/local/lib/python3.10/dist-packages/sklearn/metrics/_classification.py:1344: UndefinedMetricWarning: Precision is ill-defined and being set to 0.0 in labels with no predicted samples. Use `zero_division` parameter to control this behavior.\n",
            "  _warn_prf(average, modifier, msg_start, len(result))\n"
          ]
        },
        {
          "output_type": "stream",
          "name": "stdout",
          "text": [
            "798/798 [==============================] - 1s 2ms/step\n",
            " — val_f1: 0.8993 — val_precision: 0.9016 — val_recall: 0.9046\n",
            "810/810 [==============================] - 7s 9ms/step - loss: 0.8338 - categorical_accuracy: 0.8848 - val_loss: 0.7587 - val_categorical_accuracy: 0.9046 - val_f1: 0.8993 - val_recall: 0.9046 - val_precision: 0.9016\n",
            "Epoch 16/100\n",
            " 30/810 [>.............................] - ETA: 4s - loss: 0.8125 - categorical_accuracy: 0.8880"
          ]
        },
        {
          "output_type": "stream",
          "name": "stderr",
          "text": [
            "/usr/local/lib/python3.10/dist-packages/sklearn/metrics/_classification.py:1344: UndefinedMetricWarning: Precision is ill-defined and being set to 0.0 in labels with no predicted samples. Use `zero_division` parameter to control this behavior.\n",
            "  _warn_prf(average, modifier, msg_start, len(result))\n"
          ]
        },
        {
          "output_type": "stream",
          "name": "stdout",
          "text": [
            "798/798 [==============================] - 1s 2ms/step\n",
            " — val_f1: 0.9008 — val_precision: 0.9044 — val_recall: 0.9058\n",
            "810/810 [==============================] - 6s 8ms/step - loss: 0.8279 - categorical_accuracy: 0.8862 - val_loss: 0.7749 - val_categorical_accuracy: 0.9058 - val_f1: 0.9008 - val_recall: 0.9058 - val_precision: 0.9044\n",
            "Epoch 17/100\n",
            " 31/810 [>.............................] - ETA: 3s - loss: 0.8475 - categorical_accuracy: 0.8850"
          ]
        },
        {
          "output_type": "stream",
          "name": "stderr",
          "text": [
            "/usr/local/lib/python3.10/dist-packages/sklearn/metrics/_classification.py:1344: UndefinedMetricWarning: Precision is ill-defined and being set to 0.0 in labels with no predicted samples. Use `zero_division` parameter to control this behavior.\n",
            "  _warn_prf(average, modifier, msg_start, len(result))\n"
          ]
        },
        {
          "output_type": "stream",
          "name": "stdout",
          "text": [
            "798/798 [==============================] - 1s 2ms/step\n",
            " — val_f1: 0.8977 — val_precision: 0.9015 — val_recall: 0.9031\n",
            "810/810 [==============================] - 7s 9ms/step - loss: 0.8254 - categorical_accuracy: 0.8884 - val_loss: 0.7787 - val_categorical_accuracy: 0.9031 - val_f1: 0.8977 - val_recall: 0.9031 - val_precision: 0.9015\n",
            "Epoch 18/100\n",
            " 32/810 [>.............................] - ETA: 3s - loss: 0.8023 - categorical_accuracy: 0.8922"
          ]
        },
        {
          "output_type": "stream",
          "name": "stderr",
          "text": [
            "/usr/local/lib/python3.10/dist-packages/sklearn/metrics/_classification.py:1344: UndefinedMetricWarning: Precision is ill-defined and being set to 0.0 in labels with no predicted samples. Use `zero_division` parameter to control this behavior.\n",
            "  _warn_prf(average, modifier, msg_start, len(result))\n"
          ]
        },
        {
          "output_type": "stream",
          "name": "stdout",
          "text": [
            "798/798 [==============================] - 1s 2ms/step\n",
            " — val_f1: 0.9003 — val_precision: 0.9035 — val_recall: 0.9051\n",
            "810/810 [==============================] - 6s 8ms/step - loss: 0.8205 - categorical_accuracy: 0.8895 - val_loss: 0.7832 - val_categorical_accuracy: 0.9051 - val_f1: 0.9003 - val_recall: 0.9051 - val_precision: 0.9035\n",
            "Epoch 19/100\n",
            " 32/810 [>.............................] - ETA: 3s - loss: 0.8278 - categorical_accuracy: 0.8900"
          ]
        },
        {
          "output_type": "stream",
          "name": "stderr",
          "text": [
            "/usr/local/lib/python3.10/dist-packages/sklearn/metrics/_classification.py:1344: UndefinedMetricWarning: Precision is ill-defined and being set to 0.0 in labels with no predicted samples. Use `zero_division` parameter to control this behavior.\n",
            "  _warn_prf(average, modifier, msg_start, len(result))\n"
          ]
        },
        {
          "output_type": "stream",
          "name": "stdout",
          "text": [
            "798/798 [==============================] - 1s 2ms/step\n",
            " — val_f1: 0.8998 — val_precision: 0.9045 — val_recall: 0.9044\n",
            "Restoring model weights from the end of the best epoch: 9.\n",
            "810/810 [==============================] - 7s 9ms/step - loss: 0.8143 - categorical_accuracy: 0.8907 - val_loss: 0.7813 - val_categorical_accuracy: 0.9044 - val_f1: 0.8998 - val_recall: 0.9044 - val_precision: 0.9045\n",
            "Epoch 19: early stopping\n"
          ]
        },
        {
          "output_type": "stream",
          "name": "stderr",
          "text": [
            "/usr/local/lib/python3.10/dist-packages/sklearn/metrics/_classification.py:1344: UndefinedMetricWarning: Precision is ill-defined and being set to 0.0 in labels with no predicted samples. Use `zero_division` parameter to control this behavior.\n",
            "  _warn_prf(average, modifier, msg_start, len(result))\n"
          ]
        },
        {
          "output_type": "display_data",
          "data": {
            "text/plain": [
              "<Figure size 640x480 with 1 Axes>"
            ],
            "image/png": "[encoded data removed]"
          },
          "metadata": {}
        },
        {
          "output_type": "display_data",
          "data": {
            "text/plain": [
              "<Figure size 640x480 with 1 Axes>"
            ],
            "image/png": "[encoded data removed]"
          },
          "metadata": {}
        },
        {
          "output_type": "stream",
          "name": "stdout",
          "text": [
            "6476/6476 [==============================] - 12s 2ms/step\n",
            "Adjusted MLP Train Accuracy: 0.9547939718861742\n"
          ]
        },
        {
          "output_type": "stream",
          "name": "stderr",
          "text": [
            "/usr/local/lib/python3.10/dist-packages/sklearn/metrics/_classification.py:1344: UndefinedMetricWarning: Precision and F-score are ill-defined and being set to 0.0 in labels with no predicted samples. Use `zero_division` parameter to control this behavior.\n",
            "  _warn_prf(average, modifier, msg_start, len(result))\n",
            "/usr/local/lib/python3.10/dist-packages/sklearn/metrics/_classification.py:1344: UndefinedMetricWarning: Precision and F-score are ill-defined and being set to 0.0 in labels with no predicted samples. Use `zero_division` parameter to control this behavior.\n",
            "  _warn_prf(average, modifier, msg_start, len(result))\n",
            "/usr/local/lib/python3.10/dist-packages/sklearn/metrics/_classification.py:1344: UndefinedMetricWarning: Precision and F-score are ill-defined and being set to 0.0 in labels with no predicted samples. Use `zero_division` parameter to control this behavior.\n",
            "  _warn_prf(average, modifier, msg_start, len(result))\n"
          ]
        },
        {
          "output_type": "stream",
          "name": "stdout",
          "text": [
            "\n",
            "Classification Report for the Adjusted MLP Model on Training Data:\n",
            "\n",
            "              precision    recall  f1-score   support\n",
            "\n",
            "         ADJ       0.92      0.96      0.94     13156\n",
            "         ADP       0.89      0.98      0.93     17797\n",
            "         ADV       0.92      0.84      0.88     10104\n",
            "         AUX       0.97      0.98      0.98     12817\n",
            "       CCONJ       0.98      0.99      0.99      6688\n",
            "         DET       0.98      0.99      0.98     16300\n",
            "        INTJ       0.69      0.02      0.03       695\n",
            "        NOUN       0.96      0.97      0.97     34803\n",
            "         NUM       0.97      0.98      0.97      4127\n",
            "        PART       0.96      0.99      0.97      5748\n",
            "        PRON       0.97      0.98      0.98     18661\n",
            "       PROPN       0.93      0.92      0.93     12620\n",
            "       PUNCT       0.98      1.00      0.99     23597\n",
            "       SCONJ       0.88      0.57      0.70      3822\n",
            "         SYM       0.96      0.22      0.35       721\n",
            "        VERB       0.97      0.97      0.97     22604\n",
            "           X       0.00      0.00      0.00       355\n",
            "           _       0.99      0.96      0.98      2614\n",
            "\n",
            "    accuracy                           0.95    207229\n",
            "   macro avg       0.89      0.80      0.81    207229\n",
            "weighted avg       0.95      0.95      0.95    207229\n",
            "\n",
            "798/798 [==============================] - 1s 2ms/step\n",
            "Adjusted MLP Development Accuracy: 0.9069457510191282\n",
            "\n",
            "Classification Report for the Adjusted MLP Model on Development Data:\n",
            "\n",
            "              precision    recall  f1-score   support\n",
            "\n",
            "         ADJ       0.89      0.90      0.90      1869\n",
            "         ADP       0.87      0.97      0.92      2042\n",
            "         ADV       0.92      0.78      0.84      1227\n",
            "         AUX       0.95      0.97      0.96      1567\n",
            "       CCONJ       0.98      0.98      0.98       779\n",
            "         DET       0.97      0.98      0.97      1901\n",
            "        INTJ       0.00      0.00      0.00       115\n",
            "        NOUN       0.83      0.93      0.87      4216\n",
            "         NUM       0.89      0.75      0.82       383\n",
            "        PART       0.91      0.98      0.94       647\n",
            "        PRON       0.95      0.97      0.96      2222\n",
            "       PROPN       0.80      0.69      0.74      1866\n",
            "       PUNCT       0.99      0.99      0.99      3075\n",
            "       SCONJ       0.80      0.53      0.64       397\n",
            "         SYM       1.00      0.10      0.18        83\n",
            "        VERB       0.93      0.92      0.93      2711\n",
            "           X       0.00      0.00      0.00        53\n",
            "           _       0.99      0.91      0.95       359\n",
            "\n",
            "    accuracy                           0.91     25512\n",
            "   macro avg       0.81      0.74      0.75     25512\n",
            "weighted avg       0.90      0.91      0.90     25512\n",
            "\n",
            " 33/796 [>.............................] - ETA: 1s "
          ]
        },
        {
          "output_type": "stream",
          "name": "stderr",
          "text": [
            "/usr/local/lib/python3.10/dist-packages/sklearn/metrics/_classification.py:1344: UndefinedMetricWarning: Precision and F-score are ill-defined and being set to 0.0 in labels with no predicted samples. Use `zero_division` parameter to control this behavior.\n",
            "  _warn_prf(average, modifier, msg_start, len(result))\n",
            "/usr/local/lib/python3.10/dist-packages/sklearn/metrics/_classification.py:1344: UndefinedMetricWarning: Precision and F-score are ill-defined and being set to 0.0 in labels with no predicted samples. Use `zero_division` parameter to control this behavior.\n",
            "  _warn_prf(average, modifier, msg_start, len(result))\n",
            "/usr/local/lib/python3.10/dist-packages/sklearn/metrics/_classification.py:1344: UndefinedMetricWarning: Precision and F-score are ill-defined and being set to 0.0 in labels with no predicted samples. Use `zero_division` parameter to control this behavior.\n",
            "  _warn_prf(average, modifier, msg_start, len(result))\n"
          ]
        },
        {
          "output_type": "stream",
          "name": "stdout",
          "text": [
            "796/796 [==============================] - 2s 2ms/step\n",
            "Adjusted MLP Test Accuracy: 0.9089194499017682\n",
            "\n",
            "Classification Report for the Adjusted MLP Model on Test Data:\n",
            "\n",
            "              precision    recall  f1-score   support\n",
            "\n",
            "         ADJ       0.90      0.91      0.91      1788\n",
            "         ADP       0.88      0.97      0.92      2034\n",
            "         ADV       0.90      0.82      0.86      1176\n",
            "         AUX       0.96      0.97      0.97      1543\n",
            "       CCONJ       0.98      0.99      0.99       737\n",
            "         DET       0.98      0.98      0.98      1897\n",
            "        INTJ       1.00      0.02      0.03       120\n",
            "        NOUN       0.82      0.93      0.87      4137\n",
            "         NUM       0.89      0.68      0.77       542\n",
            "        PART       0.92      0.98      0.95       649\n",
            "        PRON       0.96      0.98      0.97      2162\n",
            "       PROPN       0.81      0.70      0.75      2077\n",
            "       PUNCT       0.98      0.99      0.98      3096\n",
            "       SCONJ       0.88      0.52      0.65       384\n",
            "         SYM       0.90      0.08      0.15       109\n",
            "        VERB       0.94      0.94      0.94      2606\n",
            "           X       0.00      0.00      0.00        39\n",
            "           _       0.99      0.93      0.96       354\n",
            "\n",
            "    accuracy                           0.91     25450\n",
            "   macro avg       0.87      0.74      0.76     25450\n",
            "weighted avg       0.91      0.91      0.90     25450\n",
            "\n"
          ]
        },
        {
          "output_type": "stream",
          "name": "stderr",
          "text": [
            "/usr/local/lib/python3.10/dist-packages/sklearn/metrics/_classification.py:1344: UndefinedMetricWarning: Precision and F-score are ill-defined and being set to 0.0 in labels with no predicted samples. Use `zero_division` parameter to control this behavior.\n",
            "  _warn_prf(average, modifier, msg_start, len(result))\n",
            "/usr/local/lib/python3.10/dist-packages/sklearn/metrics/_classification.py:1344: UndefinedMetricWarning: Precision and F-score are ill-defined and being set to 0.0 in labels with no predicted samples. Use `zero_division` parameter to control this behavior.\n",
            "  _warn_prf(average, modifier, msg_start, len(result))\n",
            "/usr/local/lib/python3.10/dist-packages/sklearn/metrics/_classification.py:1344: UndefinedMetricWarning: Precision and F-score are ill-defined and being set to 0.0 in labels with no predicted samples. Use `zero_division` parameter to control this behavior.\n",
            "  _warn_prf(average, modifier, msg_start, len(result))\n"
          ]
        }
      ],
      "source": [
        "# Building the adjusted MLP model with increased regularization and dropout\n",
        "adjusted_mlp_model = Sequential([\n",
        "    # Adding input layer\n",
        "    Input(shape=(window_size,), dtype='int32', name='Input_Layer'),\n",
        "\n",
        "    # Adding embedding layer\n",
        "    Embedding(input_dim=embedding_matrix.shape[0], output_dim=300, weights=[embedding_matrix], input_length=window_size, trainable=True),\n",
        "\n",
        "    # Flattening the embeddings\n",
        "    Flatten(),\n",
        "\n",
        "    # Adding dense layers with dropout and regularization\n",
        "    Dense(256, activation='relu', kernel_regularizer=l2(0.03)),\n",
        "    Dropout(0.8),\n",
        "    Dense(128, activation='relu', kernel_regularizer=l2(0.03)),\n",
        "    Dropout(0.8),\n",
        "\n",
        "    # Adding output layer\n",
        "    Dense(len(train_target), activation='softmax')\n",
        "])\n",
        "\n",
        "# Printing the model summary for verification\n",
        "print(adjusted_mlp_model.summary())\n",
        "\n",
        "# Compiling the adjusted MLP model\n",
        "adjusted_mlp_model.compile(loss='categorical_crossentropy', optimizer=Adam(learning_rate=0.001), metrics=[CategoricalAccuracy()])\n",
        "\n",
        "# Custom callback for additional metrics\n",
        "class Metrics(tf.keras.callbacks.Callback):\n",
        "    def __init__(self, valid_data):\n",
        "        super(Metrics, self).__init__()\n",
        "        self.validation_data = valid_data\n",
        "\n",
        "    def on_epoch_end(self, epoch, logs=None):\n",
        "        val_predict = np.argmax(self.model.predict(self.validation_data[0]), -1)\n",
        "        val_targ = np.argmax(self.validation_data[1], -1)\n",
        "\n",
        "        _val_f1 = f1_score(val_targ, val_predict, average=\"weighted\")\n",
        "        _val_recall = recall_score(val_targ, val_predict, average=\"weighted\")\n",
        "        _val_precision = precision_score(val_targ, val_predict, average=\"weighted\")\n",
        "\n",
        "        logs['val_f1'] = _val_f1\n",
        "        logs['val_recall'] = _val_recall\n",
        "        logs['val_precision'] = _val_precision\n",
        "        print(f\" — val_f1: {_val_f1:.4f} — val_precision: {_val_precision:.4f} — val_recall: {_val_recall:.4f}\")\n",
        "        return\n",
        "\n",
        "# Setting up early stopping callback\n",
        "early_stopping = EarlyStopping(patience=10, verbose=2, restore_best_weights=True, monitor='val_loss', mode='min')\n",
        "\n",
        "# Training the adjusted MLP model\n",
        "history = adjusted_mlp_model.fit(\n",
        "    np.array(train_windows_tokenized), train_tags_onehot,\n",
        "    validation_data=(np.array(dev_windows_tokenized), dev_tags_onehot),\n",
        "    batch_size=256, epochs=100, shuffle=True,\n",
        "    callbacks=[Metrics(valid_data=(np.array(dev_windows_tokenized), dev_tags_onehot)), early_stopping]\n",
        ")\n",
        "\n",
        "# Plotting training and validation accuracy\n",
        "plt.plot(history.history['categorical_accuracy'], label='Train Accuracy')\n",
        "plt.plot(history.history['val_categorical_accuracy'], label='Validation Accuracy')\n",
        "plt.title('Adjusted MLP Model Accuracy')\n",
        "plt.ylabel('Accuracy')\n",
        "plt.xlabel('Epoch')\n",
        "plt.legend(loc='upper left')\n",
        "plt.show()\n",
        "\n",
        "# Plotting training and validation loss\n",
        "plt.plot(history.history['loss'], label='Train Loss')\n",
        "plt.plot(history.history['val_loss'], label='Validation Loss')\n",
        "plt.title('Adjusted MLP Model Loss')\n",
        "plt.ylabel('Loss')\n",
        "plt.xlabel('Epoch')\n",
        "plt.legend(loc='upper right')\n",
        "plt.show()\n",
        "\n",
        "# Evaluating the adjusted MLP model on the training set\n",
        "train_predictions_adjusted_mlp = adjusted_mlp_model.predict(np.array(train_windows_tokenized))\n",
        "train_predictions_adjusted_mlp = np.argmax(train_predictions_adjusted_mlp, axis=-1)\n",
        "\n",
        "# Converting one-hot encoded tags back to their original form for comparison\n",
        "flat_train_tags_encoded = label_encoder.transform(list_flat_data(train_tags))\n",
        "\n",
        "# Calculating accuracy on the training set\n",
        "adjusted_mlp_train_accuracy = accuracy_score(flat_train_tags_encoded, train_predictions_adjusted_mlp)\n",
        "print(f\"Adjusted MLP Train Accuracy: {adjusted_mlp_train_accuracy}\")\n",
        "\n",
        "# Generating a classification report for the adjusted MLP model on training data\n",
        "adjusted_mlp_train_classification_report = classification_report(flat_train_tags_encoded, train_predictions_adjusted_mlp, target_names=label_encoder.classes_)\n",
        "print(\"\\nClassification Report for the Adjusted MLP Model on Training Data:\\n\")\n",
        "print(adjusted_mlp_train_classification_report)\n",
        "\n",
        "# Evaluating the adjusted MLP model on the development set\n",
        "dev_predictions_adjusted_mlp = adjusted_mlp_model.predict(np.array(dev_windows_tokenized))\n",
        "dev_predictions_adjusted_mlp = np.argmax(dev_predictions_adjusted_mlp, axis=-1)\n",
        "\n",
        "# Converting one-hot encoded tags back to their original form for comparison\n",
        "flat_dev_tags_encoded = label_encoder.transform(list_flat_data(dev_tags))\n",
        "\n",
        "# Calculating accuracy on the development set\n",
        "adjusted_mlp_dev_accuracy = accuracy_score(flat_dev_tags_encoded, dev_predictions_adjusted_mlp)\n",
        "print(f\"Adjusted MLP Development Accuracy: {adjusted_mlp_dev_accuracy}\")\n",
        "\n",
        "# Generating a classification report for the adjusted MLP model on development data\n",
        "adjusted_mlp_dev_classification_report = classification_report(flat_dev_tags_encoded, dev_predictions_adjusted_mlp, target_names=label_encoder.classes_)\n",
        "print(\"\\nClassification Report for the Adjusted MLP Model on Development Data:\\n\")\n",
        "print(adjusted_mlp_dev_classification_report)\n",
        "\n",
        "# Evaluating the adjusted MLP model on the test set\n",
        "test_predictions_adjusted_mlp = adjusted_mlp_model.predict(np.array(test_windows_tokenized))\n",
        "test_predictions_adjusted_mlp = np.argmax(test_predictions_adjusted_mlp, axis=-1)\n",
        "\n",
        "# Converting one-hot encoded tags back to their original form for comparison\n",
        "flat_test_tags_encoded = label_encoder.transform(list_flat_data(test_tags))\n",
        "\n",
        "# Calculating accuracy on the test set\n",
        "adjusted_mlp_test_accuracy = accuracy_score(flat_test_tags_encoded, test_predictions_adjusted_mlp)\n",
        "print(f\"Adjusted MLP Test Accuracy: {adjusted_mlp_test_accuracy}\")\n",
        "\n",
        "# Generating a classification report for the adjusted MLP model on test data\n",
        "adjusted_mlp_test_classification_report = classification_report(flat_test_tags_encoded, test_predictions_adjusted_mlp, target_names=label_encoder.classes_)\n",
        "print(\"\\nClassification Report for the Adjusted MLP Model on Test Data:\\n\")\n",
        "print(adjusted_mlp_test_classification_report)"
      ]
    },
    {
      "cell_type": "markdown",
      "id": "eaa5c168-9885-4df2-8b57-97d95dade052",
      "metadata": {
        "id": "eaa5c168-9885-4df2-8b57-97d95dade052"
      },
      "source": [
        "## Implementing Bi-Directional Stacked RNN"
      ]
    },
    {
      "cell_type": "markdown",
      "id": "5f33f4ed-cfb1-4d3b-b546-27d634d71820",
      "metadata": {
        "id": "5f33f4ed-cfb1-4d3b-b546-27d634d71820"
      },
      "source": [
        "### Defining the bi-directional stacked RNN model using GRU cells, incorporating dropout for regularization and compiling the model with appropriate loss function and optimizer"
      ]
    },
    {
      "cell_type": "code",
      "execution_count": null,
      "id": "f3db4d3e-8f2b-4566-9ba6-b9243afc5cb6",
      "metadata": {
        "colab": {
          "base_uri": "https://localhost:8080/"
        },
        "id": "f3db4d3e-8f2b-4566-9ba6-b9243afc5cb6",
        "outputId": "c4f7e154-ab39-46da-ba42-3639f5d5b21b"
      },
      "outputs": [
        {
          "output_type": "stream",
          "name": "stderr",
          "text": [
            "WARNING:tensorflow:Layer lstm will not use cuDNN kernels since it doesn't meet the criteria. It will use a generic GPU kernel as fallback when running on GPU.\n",
            "WARNING:tensorflow:Layer lstm will not use cuDNN kernels since it doesn't meet the criteria. It will use a generic GPU kernel as fallback when running on GPU.\n",
            "WARNING:tensorflow:Layer lstm will not use cuDNN kernels since it doesn't meet the criteria. It will use a generic GPU kernel as fallback when running on GPU.\n",
            "WARNING:tensorflow:Layer lstm_1 will not use cuDNN kernels since it doesn't meet the criteria. It will use a generic GPU kernel as fallback when running on GPU.\n",
            "WARNING:tensorflow:Layer lstm_1 will not use cuDNN kernels since it doesn't meet the criteria. It will use a generic GPU kernel as fallback when running on GPU.\n",
            "WARNING:tensorflow:Layer lstm_1 will not use cuDNN kernels since it doesn't meet the criteria. It will use a generic GPU kernel as fallback when running on GPU.\n"
          ]
        },
        {
          "output_type": "stream",
          "name": "stdout",
          "text": [
            "Model: \"sequential_1\"\n",
            "_________________________________________________________________\n",
            " Layer (type)                Output Shape              Param #   \n",
            "=================================================================\n",
            " embedding_1 (Embedding)     (None, 5, 300)            5965200   \n",
            "                                                                 \n",
            " dropout_2 (Dropout)         (None, 5, 300)            0         \n",
            "                                                                 \n",
            " bidirectional (Bidirection  (None, 5, 1024)           3330048   \n",
            " al)                                                             \n",
            "                                                                 \n",
            " dropout_3 (Dropout)         (None, 5, 1024)           0         \n",
            "                                                                 \n",
            " bidirectional_1 (Bidirecti  (None, 1024)              6295552   \n",
            " onal)                                                           \n",
            "                                                                 \n",
            " dropout_4 (Dropout)         (None, 1024)              0         \n",
            "                                                                 \n",
            " dense_3 (Dense)             (None, 64)                65600     \n",
            "                                                                 \n",
            " dropout_5 (Dropout)         (None, 64)                0         \n",
            "                                                                 \n",
            " dense_4 (Dense)             (None, 18)                1170      \n",
            "                                                                 \n",
            "=================================================================\n",
            "Total params: 15657570 (59.73 MB)\n",
            "Trainable params: 9692370 (36.97 MB)\n",
            "Non-trainable params: 5965200 (22.76 MB)\n",
            "_________________________________________________________________\n",
            "None\n"
          ]
        }
      ],
      "source": [
        "# Defining hyperparameters\n",
        "MAX_SEQUENCE_LENGTH = window_size  # Setting the window size as the sequence length\n",
        "EMBEDDING_DIM = 300  # Defining the dimensionality of the embeddings\n",
        "LSTM_UNITS = 512  # Defining the number of units in the LSTM layer\n",
        "DROPOUT_RATE = 0.5  # Setting the dropout rate for regularization\n",
        "NUM_CLASSES = len(set(list_flat_data(train_tags)))  # Calculating the number of unique POS tags\n",
        "\n",
        "# Building the Bi-Directional Stacked RNN model\n",
        "def build_model(vocab_size, embedding_matrix, input_length, num_classes, embedding_dim=300, lstm_units=128, dropout_rate=0.5):\n",
        "    model = Sequential()\n",
        "\n",
        "    # Adding input layer with the specified maximum sequence length\n",
        "    model.add(Input(shape=(input_length,), dtype='int32'))\n",
        "\n",
        "    # Adding embedding layer\n",
        "    model.add(Embedding(input_dim=vocab_size,\n",
        "                        output_dim=embedding_dim,\n",
        "                        weights=[embedding_matrix],\n",
        "                        trainable=False))\n",
        "\n",
        "    # Adding dropout layer for regularization\n",
        "    model.add(Dropout(dropout_rate))\n",
        "\n",
        "    # Adding bidirectional LSTM layers\n",
        "    model.add(Bidirectional(LSTM(units=lstm_units, return_sequences=True, recurrent_dropout=dropout_rate)))\n",
        "    model.add(Dropout(dropout_rate))\n",
        "    model.add(Bidirectional(LSTM(units=lstm_units, return_sequences=False, recurrent_dropout=dropout_rate)))\n",
        "    model.add(Dropout(dropout_rate))\n",
        "\n",
        "    # Adding fully connected layer with ReLU activation\n",
        "    model.add(Dense(units=64, activation='relu'))\n",
        "    model.add(Dropout(dropout_rate))\n",
        "\n",
        "    # Adding output layer with softmax activation for POS tagging\n",
        "    model.add(Dense(units=num_classes, activation='softmax'))\n",
        "\n",
        "    # Compiling the model\n",
        "    model.compile(optimizer='adam',\n",
        "                  loss='categorical_crossentropy',\n",
        "                  metrics=['accuracy'])\n",
        "\n",
        "    return model\n",
        "\n",
        "# Building the model by calling the build_model function\n",
        "model = build_model(vocab_size=len(vocabulary),\n",
        "                    embedding_matrix=embedding_matrix,\n",
        "                    input_length=MAX_SEQUENCE_LENGTH,\n",
        "                    num_classes=NUM_CLASSES,\n",
        "                    embedding_dim=EMBEDDING_DIM,\n",
        "                    lstm_units=LSTM_UNITS,\n",
        "                    dropout_rate=DROPOUT_RATE)\n",
        "\n",
        "# Printing the model summary for verification\n",
        "print(model.summary())"
      ]
    },
    {
      "cell_type": "markdown",
      "id": "b60f3a20-99dc-47cf-b15b-76a6afad96b2",
      "metadata": {
        "id": "b60f3a20-99dc-47cf-b15b-76a6afad96b2"
      },
      "source": [
        "## Model Training and Hyperparameter Tuning"
      ]
    },
    {
      "cell_type": "code",
      "execution_count": null,
      "id": "e1a3431a-c4bc-44ba-a41f-7e806919bac6",
      "metadata": {
        "scrolled": true,
        "colab": {
          "base_uri": "https://localhost:8080/"
        },
        "id": "e1a3431a-c4bc-44ba-a41f-7e806919bac6",
        "outputId": "2bf871d3-295f-4350-a522-45d725f57705"
      },
      "outputs": [
        {
          "output_type": "stream",
          "name": "stdout",
          "text": [
            "Epoch 1/50\n",
            "798/798 [==============================] - 8s 10ms/step\n",
            " — val_f1: 0.8248 — val_precision: 0.8393 — val_recall: 0.8325\n",
            "3238/3238 [==============================] - 284s 84ms/step - loss: 1.0704 - accuracy: 0.6758 - val_loss: 0.5137 - val_accuracy: 0.8325 - val_f1: 0.8248 - val_recall: 0.8325 - val_precision: 0.8393\n",
            "Epoch 2/50\n",
            "798/798 [==============================] - 7s 9ms/step\n",
            " — val_f1: 0.8451 — val_precision: 0.8624 — val_recall: 0.8518\n",
            "3238/3238 [==============================] - 271s 84ms/step - loss: 0.6315 - accuracy: 0.8086 - val_loss: 0.4554 - val_accuracy: 0.8518 - val_f1: 0.8451 - val_recall: 0.8518 - val_precision: 0.8624\n",
            "Epoch 3/50\n",
            "798/798 [==============================] - 7s 9ms/step\n",
            " — val_f1: 0.8553 — val_precision: 0.8726 — val_recall: 0.8626\n",
            "3238/3238 [==============================] - 269s 83ms/step - loss: 0.5470 - accuracy: 0.8330 - val_loss: 0.4160 - val_accuracy: 0.8626 - val_f1: 0.8553 - val_recall: 0.8626 - val_precision: 0.8726\n",
            "Epoch 4/50\n",
            "798/798 [==============================] - 8s 10ms/step\n",
            " — val_f1: 0.8662 — val_precision: 0.8738 — val_recall: 0.8702\n",
            "3238/3238 [==============================] - 269s 83ms/step - loss: 0.5009 - accuracy: 0.8463 - val_loss: 0.4072 - val_accuracy: 0.8702 - val_f1: 0.8662 - val_recall: 0.8702 - val_precision: 0.8738\n",
            "Epoch 5/50\n",
            "798/798 [==============================] - 7s 9ms/step\n",
            " — val_f1: 0.8667 — val_precision: 0.8793 — val_recall: 0.8721\n",
            "3238/3238 [==============================] - 271s 84ms/step - loss: 0.4663 - accuracy: 0.8550 - val_loss: 0.4010 - val_accuracy: 0.8721 - val_f1: 0.8667 - val_recall: 0.8721 - val_precision: 0.8793\n",
            "Epoch 6/50\n",
            "798/798 [==============================] - 7s 9ms/step\n",
            " — val_f1: 0.8729 — val_precision: 0.8760 — val_recall: 0.8763\n",
            "3238/3238 [==============================] - 267s 83ms/step - loss: 0.4457 - accuracy: 0.8617 - val_loss: 0.3912 - val_accuracy: 0.8763 - val_f1: 0.8729 - val_recall: 0.8763 - val_precision: 0.8760\n",
            "Epoch 7/50\n",
            "798/798 [==============================] - 8s 10ms/step\n",
            " — val_f1: 0.8757 — val_precision: 0.8828 — val_recall: 0.8796\n",
            "3238/3238 [==============================] - 281s 87ms/step - loss: 0.4210 - accuracy: 0.8677 - val_loss: 0.3755 - val_accuracy: 0.8796 - val_f1: 0.8757 - val_recall: 0.8796 - val_precision: 0.8828\n",
            "Epoch 8/50\n",
            "798/798 [==============================] - 8s 10ms/step\n",
            " — val_f1: 0.8782 — val_precision: 0.8853 — val_recall: 0.8826\n",
            "3238/3238 [==============================] - 272s 84ms/step - loss: 0.4114 - accuracy: 0.8712 - val_loss: 0.3792 - val_accuracy: 0.8826 - val_f1: 0.8782 - val_recall: 0.8826 - val_precision: 0.8853\n",
            "Epoch 9/50\n",
            "798/798 [==============================] - 7s 9ms/step\n",
            " — val_f1: 0.8777 — val_precision: 0.8819 — val_recall: 0.8816\n",
            "3238/3238 [==============================] - 274s 85ms/step - loss: 0.3959 - accuracy: 0.8754 - val_loss: 0.3798 - val_accuracy: 0.8816 - val_f1: 0.8777 - val_recall: 0.8816 - val_precision: 0.8819\n",
            "Epoch 10/50\n",
            "798/798 [==============================] - 7s 8ms/step\n",
            " — val_f1: 0.8810 — val_precision: 0.8840 — val_recall: 0.8843\n",
            "3238/3238 [==============================] - 265s 82ms/step - loss: 0.3844 - accuracy: 0.8783 - val_loss: 0.3707 - val_accuracy: 0.8843 - val_f1: 0.8810 - val_recall: 0.8843 - val_precision: 0.8840\n",
            "Epoch 11/50\n",
            "798/798 [==============================] - 7s 8ms/step\n",
            " — val_f1: 0.8804 — val_precision: 0.8893 — val_recall: 0.8852\n",
            "3238/3238 [==============================] - 263s 81ms/step - loss: 0.3723 - accuracy: 0.8813 - val_loss: 0.3726 - val_accuracy: 0.8852 - val_f1: 0.8804 - val_recall: 0.8852 - val_precision: 0.8893\n",
            "Epoch 12/50\n",
            "208/798 [======>.......................] - ETA: 4s"
          ]
        }
      ],
      "source": [
        "# Custom callback for additional metrics\n",
        "class Metrics(tf.keras.callbacks.Callback):\n",
        "    def __init__(self, valid_data):\n",
        "        super(Metrics, self).__init__()\n",
        "        self.validation_data = valid_data\n",
        "\n",
        "    def on_epoch_end(self, epoch, logs=None):\n",
        "        # Predicting validation data\n",
        "        val_predict = np.argmax(self.model.predict(self.validation_data[0]), -1)\n",
        "        val_targ = np.argmax(self.validation_data[1], -1)\n",
        "\n",
        "        # Calculating weighted F1 score\n",
        "        _val_f1 = f1_score(val_targ, val_predict, average=\"weighted\")\n",
        "        # Calculating weighted recall score\n",
        "        _val_recall = recall_score(val_targ, val_predict, average=\"weighted\")\n",
        "        # Calculating weighted precision score\n",
        "        _val_precision = precision_score(val_targ, val_predict, average=\"weighted\")\n",
        "\n",
        "        # Logging the calculated metrics\n",
        "        logs['val_f1'] = _val_f1\n",
        "        logs['val_recall'] = _val_recall\n",
        "        logs['val_precision'] = _val_precision\n",
        "        print(f\" — val_f1: {_val_f1:.4f} — val_precision: {_val_precision:.4f} — val_recall: {_val_recall:.4f}\")\n",
        "        return\n",
        "\n",
        "# Suppressing specific warning\n",
        "warnings.filterwarnings(\"ignore\", category=UndefinedMetricWarning)\n",
        "\n",
        "# Early stopping callback\n",
        "early_stopping = tf.keras.callbacks.EarlyStopping(monitor='val_loss', patience=5, restore_best_weights=True, verbose=1)\n",
        "\n",
        "# Training the model\n",
        "history = model.fit(\n",
        "    np.array(train_windows_tokenized), train_tags_onehot,\n",
        "    validation_data=(np.array(dev_windows_tokenized), dev_tags_onehot),\n",
        "    batch_size=64,\n",
        "    epochs=50,\n",
        "    callbacks=[Metrics(valid_data=(np.array(dev_windows_tokenized), dev_tags_onehot)), early_stopping],\n",
        "    verbose=1\n",
        ")\n",
        "\n",
        "# Plotting training and validation accuracy\n",
        "plt.plot(history.history['accuracy'])\n",
        "plt.plot(history.history['val_accuracy'])\n",
        "plt.title('Model Accuracy')\n",
        "plt.ylabel('Accuracy')\n",
        "plt.xlabel('Epoch')\n",
        "plt.legend(['Train', 'Validation'], loc='upper left')\n",
        "plt.show()\n",
        "\n",
        "# Plotting training and validation loss\n",
        "plt.plot(history.history['loss'])\n",
        "plt.plot(history.history['val_loss'])\n",
        "plt.title('Model Loss')\n",
        "plt.ylabel('Loss')\n",
        "plt.xlabel('Epoch')\n",
        "plt.legend(['Train', 'Validation'], loc='upper right')\n",
        "plt.show()"
      ]
    },
    {
      "cell_type": "markdown",
      "id": "799a7202-6752-41a7-a8a7-122166634133",
      "metadata": {
        "id": "799a7202-6752-41a7-a8a7-122166634133"
      },
      "source": [
        "## Model Evaluation"
      ]
    },
    {
      "cell_type": "code",
      "execution_count": null,
      "id": "7ee5d82b-4632-4e75-b2ba-64a24eb46988",
      "metadata": {
        "id": "7ee5d82b-4632-4e75-b2ba-64a24eb46988"
      },
      "outputs": [],
      "source": [
        "# Evaluating the model on the test set\n",
        "test_windows_tokenized = tokenize_windows(test_windows, vocabulary)\n",
        "\n",
        "# Predicting tags for the test set\n",
        "test_predictions = model.predict(np.array(test_windows_tokenized))\n",
        "test_predictions = np.argmax(test_predictions, axis=-1)\n",
        "\n",
        "# Converting one-hot encoded tags back to their original form\n",
        "flat_test_tags = list_flat_data(test_tags)\n",
        "flat_test_tags_encoded = label_encoder.transform(flat_test_tags)\n",
        "\n",
        "# Calculating accuracy\n",
        "test_accuracy = accuracy_score(flat_test_tags_encoded, test_predictions)\n",
        "print(f\"Test Accuracy: {test_accuracy}\")\n",
        "\n",
        "# Generating a classification report\n",
        "test_classification_report = classification_report(flat_test_tags_encoded, test_predictions, target_names=label_encoder.classes_)\n",
        "print(\"\\nClassification Report for the Test Set:\\n\")\n",
        "print(test_classification_report)"
      ]
    },
    {
      "cell_type": "code",
      "source": [
        "# Calculating Precision-Recall AUC for each class\n",
        "# Getting the predicted probabilities\n",
        "test_predictions_prob_rnn = model.predict(np.array(test_windows_tokenized))\n",
        "\n",
        "# Calculating the number of rows and columns for the subplot grid\n",
        "num_classes = len(label_encoder.classes_)\n",
        "num_cols = 4\n",
        "num_rows = (num_classes + num_cols - 1) // num_cols  # Calculate number of rows needed\n",
        "\n",
        "# Creating a subplot grid\n",
        "fig, axes = plt.subplots(num_rows, num_cols, figsize=(20, num_rows * 5))\n",
        "\n",
        "# Flattening axes array for easy iteration\n",
        "axes = axes.flatten()\n",
        "\n",
        "# Calculating Precision-Recall AUC for each class and plotting the Precision-Recall curve\n",
        "for i, class_name in enumerate(label_encoder.classes_):\n",
        "    precision, recall, _ = precision_recall_curve(flat_test_tags_encoded == i, test_predictions_prob_rnn[:, i])\n",
        "    pr_auc = auc(recall, precision)\n",
        "    print(f'Class {class_name}: Precision-Recall AUC = {pr_auc:.4f}')\n",
        "\n",
        "    # Plotting the Precision-Recall curve in the corresponding subplot\n",
        "    axes[i].plot(recall, precision, label=f'AUC={pr_auc:.4f}')\n",
        "    axes[i].set_title(f'Class {class_name}')\n",
        "    axes[i].set_xlabel('Recall')\n",
        "    axes[i].set_ylabel('Precision')\n",
        "    axes[i].set_ylim([0.0, 1.05])\n",
        "    axes[i].set_xlim([0.0, 1.0])\n",
        "    axes[i].legend(loc=\"lower left\")\n",
        "\n",
        "# Removing any empty subplots\n",
        "for j in range(i + 1, len(axes)):\n",
        "    fig.delaxes(axes[j])\n",
        "\n",
        "# Adjusting layout\n",
        "plt.tight_layout()\n",
        "plt.show()"
      ],
      "metadata": {
        "id": "mA0lmC4qufJk"
      },
      "id": "mA0lmC4qufJk",
      "execution_count": null,
      "outputs": []
    }
  ],
  "metadata": {
    "kernelspec": {
      "display_name": "Python 3",
      "name": "python3"
    },
    "language_info": {
      "codemirror_mode": {
        "name": "ipython",
        "version": 3
      },
      "file_extension": ".py",
      "mimetype": "text/x-python",
      "name": "python",
      "nbconvert_exporter": "python",
      "pygments_lexer": "ipython3",
      "version": "3.11.5"
    },
    "colab": {
      "provenance": [],
      "gpuType": "T4"
    },
    "accelerator": "GPU"
  },
  "nbformat": 4,
  "nbformat_minor": 5
}