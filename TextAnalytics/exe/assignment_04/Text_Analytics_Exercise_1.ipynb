{
  "nbformat": 4,
  "nbformat_minor": 0,
  "metadata": {
    "colab": {
      "provenance": []
    },
    "kernelspec": {
      "name": "python3",
      "display_name": "Python 3"
    },
    "language_info": {
      "name": "python"
    }
  },
  "cells": [
    {
      "cell_type": "markdown",
      "source": [
        "## Upload Data:\n",
        "Since we use LabeledText.xlsx as Dataset we run this code to allow user upload it from his computer"
      ],
      "metadata": {
        "id": "3r4UCE6iGQJf"
      }
    },
    {
      "cell_type": "code",
      "execution_count": null,
      "metadata": {
        "colab": {
          "base_uri": "https://localhost:8080/",
          "height": 201
        },
        "id": "Db7hLfkYzpRb",
        "outputId": "e4226658-949a-4c86-c643-dd1023d397e9"
      },
      "outputs": [
        {
          "output_type": "display_data",
          "data": {
            "text/plain": [
              "<IPython.core.display.HTML object>"
            ],
            "text/html": [
              "\n",
              "     <input type=\"file\" id=\"files-ee494e91-69b3-436d-9421-5e29e79a2aa1\" name=\"files[]\" multiple disabled\n",
              "        style=\"border:none\" />\n",
              "     <output id=\"result-ee494e91-69b3-436d-9421-5e29e79a2aa1\">\n",
              "      Upload widget is only available when the cell has been executed in the\n",
              "      current browser session. Please rerun this cell to enable.\n",
              "      </output>\n",
              "      <script>// Copyright 2017 Google LLC\n",
              "//\n",
              "// Licensed under the Apache License, Version 2.0 (the \"License\");\n",
              "// you may not use this file except in compliance with the License.\n",
              "// You may obtain a copy of the License at\n",
              "//\n",
              "//      http://www.apache.org/licenses/LICENSE-2.0\n",
              "//\n",
              "// Unless required by applicable law or agreed to in writing, software\n",
              "// distributed under the License is distributed on an \"AS IS\" BASIS,\n",
              "// WITHOUT WARRANTIES OR CONDITIONS OF ANY KIND, either express or implied.\n",
              "// See the License for the specific language governing permissions and\n",
              "// limitations under the License.\n",
              "\n",
              "/**\n",
              " * @fileoverview Helpers for google.colab Python module.\n",
              " */\n",
              "(function(scope) {\n",
              "function span(text, styleAttributes = {}) {\n",
              "  const element = document.createElement('span');\n",
              "  element.textContent = text;\n",
              "  for (const key of Object.keys(styleAttributes)) {\n",
              "    element.style[key] = styleAttributes[key];\n",
              "  }\n",
              "  return element;\n",
              "}\n",
              "\n",
              "// Max number of bytes which will be uploaded at a time.\n",
              "const MAX_PAYLOAD_SIZE = 100 * 1024;\n",
              "\n",
              "function _uploadFiles(inputId, outputId) {\n",
              "  const steps = uploadFilesStep(inputId, outputId);\n",
              "  const outputElement = document.getElementById(outputId);\n",
              "  // Cache steps on the outputElement to make it available for the next call\n",
              "  // to uploadFilesContinue from Python.\n",
              "  outputElement.steps = steps;\n",
              "\n",
              "  return _uploadFilesContinue(outputId);\n",
              "}\n",
              "\n",
              "// This is roughly an async generator (not supported in the browser yet),\n",
              "// where there are multiple asynchronous steps and the Python side is going\n",
              "// to poll for completion of each step.\n",
              "// This uses a Promise to block the python side on completion of each step,\n",
              "// then passes the result of the previous step as the input to the next step.\n",
              "function _uploadFilesContinue(outputId) {\n",
              "  const outputElement = document.getElementById(outputId);\n",
              "  const steps = outputElement.steps;\n",
              "\n",
              "  const next = steps.next(outputElement.lastPromiseValue);\n",
              "  return Promise.resolve(next.value.promise).then((value) => {\n",
              "    // Cache the last promise value to make it available to the next\n",
              "    // step of the generator.\n",
              "    outputElement.lastPromiseValue = value;\n",
              "    return next.value.response;\n",
              "  });\n",
              "}\n",
              "\n",
              "/**\n",
              " * Generator function which is called between each async step of the upload\n",
              " * process.\n",
              " * @param {string} inputId Element ID of the input file picker element.\n",
              " * @param {string} outputId Element ID of the output display.\n",
              " * @return {!Iterable<!Object>} Iterable of next steps.\n",
              " */\n",
              "function* uploadFilesStep(inputId, outputId) {\n",
              "  const inputElement = document.getElementById(inputId);\n",
              "  inputElement.disabled = false;\n",
              "\n",
              "  const outputElement = document.getElementById(outputId);\n",
              "  outputElement.innerHTML = '';\n",
              "\n",
              "  const pickedPromise = new Promise((resolve) => {\n",
              "    inputElement.addEventListener('change', (e) => {\n",
              "      resolve(e.target.files);\n",
              "    });\n",
              "  });\n",
              "\n",
              "  const cancel = document.createElement('button');\n",
              "  inputElement.parentElement.appendChild(cancel);\n",
              "  cancel.textContent = 'Cancel upload';\n",
              "  const cancelPromise = new Promise((resolve) => {\n",
              "    cancel.onclick = () => {\n",
              "      resolve(null);\n",
              "    };\n",
              "  });\n",
              "\n",
              "  // Wait for the user to pick the files.\n",
              "  const files = yield {\n",
              "    promise: Promise.race([pickedPromise, cancelPromise]),\n",
              "    response: {\n",
              "      action: 'starting',\n",
              "    }\n",
              "  };\n",
              "\n",
              "  cancel.remove();\n",
              "\n",
              "  // Disable the input element since further picks are not allowed.\n",
              "  inputElement.disabled = true;\n",
              "\n",
              "  if (!files) {\n",
              "    return {\n",
              "      response: {\n",
              "        action: 'complete',\n",
              "      }\n",
              "    };\n",
              "  }\n",
              "\n",
              "  for (const file of files) {\n",
              "    const li = document.createElement('li');\n",
              "    li.append(span(file.name, {fontWeight: 'bold'}));\n",
              "    li.append(span(\n",
              "        `(${file.type || 'n/a'}) - ${file.size} bytes, ` +\n",
              "        `last modified: ${\n",
              "            file.lastModifiedDate ? file.lastModifiedDate.toLocaleDateString() :\n",
              "                                    'n/a'} - `));\n",
              "    const percent = span('0% done');\n",
              "    li.appendChild(percent);\n",
              "\n",
              "    outputElement.appendChild(li);\n",
              "\n",
              "    const fileDataPromise = new Promise((resolve) => {\n",
              "      const reader = new FileReader();\n",
              "      reader.onload = (e) => {\n",
              "        resolve(e.target.result);\n",
              "      };\n",
              "      reader.readAsArrayBuffer(file);\n",
              "    });\n",
              "    // Wait for the data to be ready.\n",
              "    let fileData = yield {\n",
              "      promise: fileDataPromise,\n",
              "      response: {\n",
              "        action: 'continue',\n",
              "      }\n",
              "    };\n",
              "\n",
              "    // Use a chunked sending to avoid message size limits. See b/62115660.\n",
              "    let position = 0;\n",
              "    do {\n",
              "      const length = Math.min(fileData.byteLength - position, MAX_PAYLOAD_SIZE);\n",
              "      const chunk = new Uint8Array(fileData, position, length);\n",
              "      position += length;\n",
              "\n",
              "      const base64 = btoa(String.fromCharCode.apply(null, chunk));\n",
              "      yield {\n",
              "        response: {\n",
              "          action: 'append',\n",
              "          file: file.name,\n",
              "          data: base64,\n",
              "        },\n",
              "      };\n",
              "\n",
              "      let percentDone = fileData.byteLength === 0 ?\n",
              "          100 :\n",
              "          Math.round((position / fileData.byteLength) * 100);\n",
              "      percent.textContent = `${percentDone}% done`;\n",
              "\n",
              "    } while (position < fileData.byteLength);\n",
              "  }\n",
              "\n",
              "  // All done.\n",
              "  yield {\n",
              "    response: {\n",
              "      action: 'complete',\n",
              "    }\n",
              "  };\n",
              "}\n",
              "\n",
              "scope.google = scope.google || {};\n",
              "scope.google.colab = scope.google.colab || {};\n",
              "scope.google.colab._files = {\n",
              "  _uploadFiles,\n",
              "  _uploadFilesContinue,\n",
              "};\n",
              "})(self);\n",
              "</script> "
            ]
          },
          "metadata": {}
        },
        {
          "output_type": "stream",
          "name": "stdout",
          "text": [
            "Saving LabeledText.xlsx to LabeledText.xlsx\n",
            "User uploaded file \"LabeledText.xlsx\" with length 383974 bytes\n",
            "  File Name                                            Caption     LABEL\n",
            "0     1.txt      How I feel today #legday #jelly #aching #gym   negative\n",
            "1    10.txt  @ArrivaTW absolute disgrace two carriages from...  negative\n",
            "2   100.txt  This is my Valentine's from 1 of my nephews. I...  positive\n",
            "3  1000.txt  betterfeelingfilms: RT via Instagram: First da...   neutral\n",
            "4  1001.txt         Zoe's first love #Rattled @JohnnyHarper15   positive\n"
          ]
        }
      ],
      "source": [
        "from google.colab import files\n",
        "import pandas as pd\n",
        "\n",
        "# Upload the file\n",
        "uploaded = files.upload()\n",
        "\n",
        "# List the uploaded files\n",
        "for filename in uploaded.keys():\n",
        "    print(f'User uploaded file \"{filename}\" with length {len(uploaded[filename])} bytes')\n",
        "\n",
        "# Load the uploaded Excel file into a pandas DataFrame\n",
        "df = pd.read_excel(list(uploaded.keys())[0])\n",
        "\n",
        "# Display the DataFrame\n",
        "print(df.head())"
      ]
    },
    {
      "cell_type": "markdown",
      "source": [
        "## Load and Inspect the Data"
      ],
      "metadata": {
        "id": "QF-xBJNSGMMx"
      }
    },
    {
      "cell_type": "code",
      "source": [
        "# import pandas as pd\n",
        "# import numpy as np\n",
        "# import zipfile\n",
        "\n",
        "# df = pd.read_excel('LabeledText.xlsx')\n"
      ],
      "metadata": {
        "id": "YxEcfijkzuoU"
      },
      "execution_count": null,
      "outputs": []
    },
    {
      "cell_type": "code",
      "source": [
        "# Set display options to show all columns and rows\n",
        "pd.set_option('display.max_columns', None)\n",
        "pd.set_option('display.max_rows', None)\n",
        "pd.set_option('display.max_colwidth', None)"
      ],
      "metadata": {
        "id": "-V8qMDNHzwL0"
      },
      "execution_count": null,
      "outputs": []
    },
    {
      "cell_type": "code",
      "source": [
        "#keep only the columns we need\n",
        "df=df[['Caption','LABEL']]"
      ],
      "metadata": {
        "id": "aQWerB9rzw8M"
      },
      "execution_count": null,
      "outputs": []
    },
    {
      "cell_type": "code",
      "source": [
        "# Print unique categories/labels in the dataset\n",
        "print('Categories')\n",
        "print(df.LABEL.unique())\n",
        "print(\"-------------\")\n",
        "\n",
        "# Print a sample of the dataset\n",
        "print('Dataset Sample')\n",
        "df.head()\n"
      ],
      "metadata": {
        "colab": {
          "base_uri": "https://localhost:8080/",
          "height": 279
        },
        "id": "qNiZ4u67zxxi",
        "outputId": "a941b4c0-5222-494b-af46-9a5c777ef4d5"
      },
      "execution_count": null,
      "outputs": [
        {
          "output_type": "stream",
          "name": "stdout",
          "text": [
            "Categories\n",
            "['negative' 'positive' 'neutral']\n",
            "-------------\n",
            "Dataset Sample\n"
          ]
        },
        {
          "output_type": "execute_result",
          "data": {
            "text/plain": [
              "                                                                                                                 Caption  \\\n",
              "0                                                                          How I feel today #legday #jelly #aching #gym    \n",
              "1                    @ArrivaTW absolute disgrace two carriages from Bangor half way there standing room only #disgraced    \n",
              "2  This is my Valentine's from 1 of my nephews. I am elated; sometimes the little things are the biggest & best things!    \n",
              "3                          betterfeelingfilms: RT via Instagram: First day of filming #powerless back in 2011. Can't ¡­    \n",
              "4                                                                             Zoe's first love #Rattled @JohnnyHarper15    \n",
              "\n",
              "      LABEL  \n",
              "0  negative  \n",
              "1  negative  \n",
              "2  positive  \n",
              "3   neutral  \n",
              "4  positive  "
            ],
            "text/html": [
              "\n",
              "  <div id=\"df-269c52f2-1a90-4b09-aa8d-20173f91bd10\" class=\"colab-df-container\">\n",
              "    <div>\n",
              "<style scoped>\n",
              "    .dataframe tbody tr th:only-of-type {\n",
              "        vertical-align: middle;\n",
              "    }\n",
              "\n",
              "    .dataframe tbody tr th {\n",
              "        vertical-align: top;\n",
              "    }\n",
              "\n",
              "    .dataframe thead th {\n",
              "        text-align: right;\n",
              "    }\n",
              "</style>\n",
              "<table border=\"1\" class=\"dataframe\">\n",
              "  <thead>\n",
              "    <tr style=\"text-align: right;\">\n",
              "      <th></th>\n",
              "      <th>Caption</th>\n",
              "      <th>LABEL</th>\n",
              "    </tr>\n",
              "  </thead>\n",
              "  <tbody>\n",
              "    <tr>\n",
              "      <th>0</th>\n",
              "      <td>How I feel today #legday #jelly #aching #gym</td>\n",
              "      <td>negative</td>\n",
              "    </tr>\n",
              "    <tr>\n",
              "      <th>1</th>\n",
              "      <td>@ArrivaTW absolute disgrace two carriages from Bangor half way there standing room only #disgraced</td>\n",
              "      <td>negative</td>\n",
              "    </tr>\n",
              "    <tr>\n",
              "      <th>2</th>\n",
              "      <td>This is my Valentine's from 1 of my nephews. I am elated; sometimes the little things are the biggest &amp; best things!</td>\n",
              "      <td>positive</td>\n",
              "    </tr>\n",
              "    <tr>\n",
              "      <th>3</th>\n",
              "      <td>betterfeelingfilms: RT via Instagram: First day of filming #powerless back in 2011. Can't ¡­</td>\n",
              "      <td>neutral</td>\n",
              "    </tr>\n",
              "    <tr>\n",
              "      <th>4</th>\n",
              "      <td>Zoe's first love #Rattled @JohnnyHarper15</td>\n",
              "      <td>positive</td>\n",
              "    </tr>\n",
              "  </tbody>\n",
              "</table>\n",
              "</div>\n",
              "    <div class=\"colab-df-buttons\">\n",
              "\n",
              "  <div class=\"colab-df-container\">\n",
              "    <button class=\"colab-df-convert\" onclick=\"convertToInteractive('df-269c52f2-1a90-4b09-aa8d-20173f91bd10')\"\n",
              "            title=\"Convert this dataframe to an interactive table.\"\n",
              "            style=\"display:none;\">\n",
              "\n",
              "  <svg xmlns=\"http://www.w3.org/2000/svg\" height=\"24px\" viewBox=\"0 -960 960 960\">\n",
              "    <path d=\"M120-120v-720h720v720H120Zm60-500h600v-160H180v160Zm220 220h160v-160H400v160Zm0 220h160v-160H400v160ZM180-400h160v-160H180v160Zm440 0h160v-160H620v160ZM180-180h160v-160H180v160Zm440 0h160v-160H620v160Z\"/>\n",
              "  </svg>\n",
              "    </button>\n",
              "\n",
              "  <style>\n",
              "    .colab-df-container {\n",
              "      display:flex;\n",
              "      gap: 12px;\n",
              "    }\n",
              "\n",
              "    .colab-df-convert {\n",
              "      background-color: #E8F0FE;\n",
              "      border: none;\n",
              "      border-radius: 50%;\n",
              "      cursor: pointer;\n",
              "      display: none;\n",
              "      fill: #1967D2;\n",
              "      height: 32px;\n",
              "      padding: 0 0 0 0;\n",
              "      width: 32px;\n",
              "    }\n",
              "\n",
              "    .colab-df-convert:hover {\n",
              "      background-color: #E2EBFA;\n",
              "      box-shadow: 0px 1px 2px rgba(60, 64, 67, 0.3), 0px 1px 3px 1px rgba(60, 64, 67, 0.15);\n",
              "      fill: #174EA6;\n",
              "    }\n",
              "\n",
              "    .colab-df-buttons div {\n",
              "      margin-bottom: 4px;\n",
              "    }\n",
              "\n",
              "    [theme=dark] .colab-df-convert {\n",
              "      background-color: #3B4455;\n",
              "      fill: #D2E3FC;\n",
              "    }\n",
              "\n",
              "    [theme=dark] .colab-df-convert:hover {\n",
              "      background-color: #434B5C;\n",
              "      box-shadow: 0px 1px 3px 1px rgba(0, 0, 0, 0.15);\n",
              "      filter: drop-shadow(0px 1px 2px rgba(0, 0, 0, 0.3));\n",
              "      fill: #FFFFFF;\n",
              "    }\n",
              "  </style>\n",
              "\n",
              "    <script>\n",
              "      const buttonEl =\n",
              "        document.querySelector('#df-269c52f2-1a90-4b09-aa8d-20173f91bd10 button.colab-df-convert');\n",
              "      buttonEl.style.display =\n",
              "        google.colab.kernel.accessAllowed ? 'block' : 'none';\n",
              "\n",
              "      async function convertToInteractive(key) {\n",
              "        const element = document.querySelector('#df-269c52f2-1a90-4b09-aa8d-20173f91bd10');\n",
              "        const dataTable =\n",
              "          await google.colab.kernel.invokeFunction('convertToInteractive',\n",
              "                                                    [key], {});\n",
              "        if (!dataTable) return;\n",
              "\n",
              "        const docLinkHtml = 'Like what you see? Visit the ' +\n",
              "          '<a target=\"_blank\" href=https://colab.research.google.com/notebooks/data_table.ipynb>data table notebook</a>'\n",
              "          + ' to learn more about interactive tables.';\n",
              "        element.innerHTML = '';\n",
              "        dataTable['output_type'] = 'display_data';\n",
              "        await google.colab.output.renderOutput(dataTable, element);\n",
              "        const docLink = document.createElement('div');\n",
              "        docLink.innerHTML = docLinkHtml;\n",
              "        element.appendChild(docLink);\n",
              "      }\n",
              "    </script>\n",
              "  </div>\n",
              "\n",
              "\n",
              "<div id=\"df-92ca0da9-903e-4299-a75b-878b32c8e825\">\n",
              "  <button class=\"colab-df-quickchart\" onclick=\"quickchart('df-92ca0da9-903e-4299-a75b-878b32c8e825')\"\n",
              "            title=\"Suggest charts\"\n",
              "            style=\"display:none;\">\n",
              "\n",
              "<svg xmlns=\"http://www.w3.org/2000/svg\" height=\"24px\"viewBox=\"0 0 24 24\"\n",
              "     width=\"24px\">\n",
              "    <g>\n",
              "        <path d=\"M19 3H5c-1.1 0-2 .9-2 2v14c0 1.1.9 2 2 2h14c1.1 0 2-.9 2-2V5c0-1.1-.9-2-2-2zM9 17H7v-7h2v7zm4 0h-2V7h2v10zm4 0h-2v-4h2v4z\"/>\n",
              "    </g>\n",
              "</svg>\n",
              "  </button>\n",
              "\n",
              "<style>\n",
              "  .colab-df-quickchart {\n",
              "      --bg-color: #E8F0FE;\n",
              "      --fill-color: #1967D2;\n",
              "      --hover-bg-color: #E2EBFA;\n",
              "      --hover-fill-color: #174EA6;\n",
              "      --disabled-fill-color: #AAA;\n",
              "      --disabled-bg-color: #DDD;\n",
              "  }\n",
              "\n",
              "  [theme=dark] .colab-df-quickchart {\n",
              "      --bg-color: #3B4455;\n",
              "      --fill-color: #D2E3FC;\n",
              "      --hover-bg-color: #434B5C;\n",
              "      --hover-fill-color: #FFFFFF;\n",
              "      --disabled-bg-color: #3B4455;\n",
              "      --disabled-fill-color: #666;\n",
              "  }\n",
              "\n",
              "  .colab-df-quickchart {\n",
              "    background-color: var(--bg-color);\n",
              "    border: none;\n",
              "    border-radius: 50%;\n",
              "    cursor: pointer;\n",
              "    display: none;\n",
              "    fill: var(--fill-color);\n",
              "    height: 32px;\n",
              "    padding: 0;\n",
              "    width: 32px;\n",
              "  }\n",
              "\n",
              "  .colab-df-quickchart:hover {\n",
              "    background-color: var(--hover-bg-color);\n",
              "    box-shadow: 0 1px 2px rgba(60, 64, 67, 0.3), 0 1px 3px 1px rgba(60, 64, 67, 0.15);\n",
              "    fill: var(--button-hover-fill-color);\n",
              "  }\n",
              "\n",
              "  .colab-df-quickchart-complete:disabled,\n",
              "  .colab-df-quickchart-complete:disabled:hover {\n",
              "    background-color: var(--disabled-bg-color);\n",
              "    fill: var(--disabled-fill-color);\n",
              "    box-shadow: none;\n",
              "  }\n",
              "\n",
              "  .colab-df-spinner {\n",
              "    border: 2px solid var(--fill-color);\n",
              "    border-color: transparent;\n",
              "    border-bottom-color: var(--fill-color);\n",
              "    animation:\n",
              "      spin 1s steps(1) infinite;\n",
              "  }\n",
              "\n",
              "  @keyframes spin {\n",
              "    0% {\n",
              "      border-color: transparent;\n",
              "      border-bottom-color: var(--fill-color);\n",
              "      border-left-color: var(--fill-color);\n",
              "    }\n",
              "    20% {\n",
              "      border-color: transparent;\n",
              "      border-left-color: var(--fill-color);\n",
              "      border-top-color: var(--fill-color);\n",
              "    }\n",
              "    30% {\n",
              "      border-color: transparent;\n",
              "      border-left-color: var(--fill-color);\n",
              "      border-top-color: var(--fill-color);\n",
              "      border-right-color: var(--fill-color);\n",
              "    }\n",
              "    40% {\n",
              "      border-color: transparent;\n",
              "      border-right-color: var(--fill-color);\n",
              "      border-top-color: var(--fill-color);\n",
              "    }\n",
              "    60% {\n",
              "      border-color: transparent;\n",
              "      border-right-color: var(--fill-color);\n",
              "    }\n",
              "    80% {\n",
              "      border-color: transparent;\n",
              "      border-right-color: var(--fill-color);\n",
              "      border-bottom-color: var(--fill-color);\n",
              "    }\n",
              "    90% {\n",
              "      border-color: transparent;\n",
              "      border-bottom-color: var(--fill-color);\n",
              "    }\n",
              "  }\n",
              "</style>\n",
              "\n",
              "  <script>\n",
              "    async function quickchart(key) {\n",
              "      const quickchartButtonEl =\n",
              "        document.querySelector('#' + key + ' button');\n",
              "      quickchartButtonEl.disabled = true;  // To prevent multiple clicks.\n",
              "      quickchartButtonEl.classList.add('colab-df-spinner');\n",
              "      try {\n",
              "        const charts = await google.colab.kernel.invokeFunction(\n",
              "            'suggestCharts', [key], {});\n",
              "      } catch (error) {\n",
              "        console.error('Error during call to suggestCharts:', error);\n",
              "      }\n",
              "      quickchartButtonEl.classList.remove('colab-df-spinner');\n",
              "      quickchartButtonEl.classList.add('colab-df-quickchart-complete');\n",
              "    }\n",
              "    (() => {\n",
              "      let quickchartButtonEl =\n",
              "        document.querySelector('#df-92ca0da9-903e-4299-a75b-878b32c8e825 button');\n",
              "      quickchartButtonEl.style.display =\n",
              "        google.colab.kernel.accessAllowed ? 'block' : 'none';\n",
              "    })();\n",
              "  </script>\n",
              "</div>\n",
              "    </div>\n",
              "  </div>\n"
            ],
            "application/vnd.google.colaboratory.intrinsic+json": {
              "type": "dataframe",
              "variable_name": "df",
              "summary": "{\n  \"name\": \"df\",\n  \"rows\": 4869,\n  \"fields\": [\n    {\n      \"column\": \"Caption\",\n      \"properties\": {\n        \"dtype\": \"string\",\n        \"num_unique_values\": 4663,\n        \"samples\": [\n          \"This just turned my whole entire day around ??? ... One day she gone be mines \",\n          \"When your mirror foggy (me my self and lil sis ???????? \",\n          \"Absolutely incensed by this cynical 50 Shades/Valentine cash-in at Tesco \"\n        ],\n        \"semantic_type\": \"\",\n        \"description\": \"\"\n      }\n    },\n    {\n      \"column\": \"LABEL\",\n      \"properties\": {\n        \"dtype\": \"category\",\n        \"num_unique_values\": 3,\n        \"samples\": [\n          \"negative\",\n          \"positive\",\n          \"neutral\"\n        ],\n        \"semantic_type\": \"\",\n        \"description\": \"\"\n      }\n    }\n  ]\n}"
            }
          },
          "metadata": {},
          "execution_count": 4
        }
      ]
    },
    {
      "cell_type": "markdown",
      "source": [
        "## Lowercase the Data"
      ],
      "metadata": {
        "id": "VwjqfuA0HZo3"
      }
    },
    {
      "cell_type": "code",
      "source": [
        "# Lowercase the data\n",
        "df['text_cleaned'] = df['Caption'].apply(lambda x: x.lower())"
      ],
      "metadata": {
        "id": "Sl6yUPbazzJ6"
      },
      "execution_count": null,
      "outputs": []
    },
    {
      "cell_type": "code",
      "source": [
        "!pip install lxml"
      ],
      "metadata": {
        "colab": {
          "base_uri": "https://localhost:8080/"
        },
        "id": "QDehvD68z0Q9",
        "outputId": "91b3544d-1e2f-4b18-dc7b-c67c0ac24194"
      },
      "execution_count": null,
      "outputs": [
        {
          "output_type": "stream",
          "name": "stdout",
          "text": [
            "Requirement already satisfied: lxml in /usr/local/lib/python3.10/dist-packages (4.9.4)\n"
          ]
        }
      ]
    },
    {
      "cell_type": "markdown",
      "source": [
        "## Remove URLs and HTML Tags"
      ],
      "metadata": {
        "id": "XnFW-LcYHdXu"
      }
    },
    {
      "cell_type": "code",
      "source": [
        "import re\n",
        "from bs4 import BeautifulSoup\n",
        "\n",
        "# Removing URLs from the text\n",
        "df['text_cleaned'] = df['text_cleaned'].apply(lambda x: re.sub(r'http\\S+|www.\\S+', '', x))\n",
        "\n",
        "# Removing HTML tags from the text\n",
        "df['text_cleaned'] = df['text_cleaned'].apply(lambda x: BeautifulSoup(x, \"html.parser\").text)"
      ],
      "metadata": {
        "colab": {
          "base_uri": "https://localhost:8080/"
        },
        "id": "bK0aCVpsz0tp",
        "outputId": "ee71e3f7-281a-4443-884b-895925824f4f"
      },
      "execution_count": null,
      "outputs": [
        {
          "output_type": "stream",
          "name": "stderr",
          "text": [
            "<ipython-input-7-f75bca03d16c>:8: MarkupResemblesLocatorWarning: The input looks more like a filename than markup. You may want to open this file and pass the filehandle into Beautiful Soup.\n",
            "  df['text_cleaned'] = df['text_cleaned'].apply(lambda x: BeautifulSoup(x, \"html.parser\").text)\n"
          ]
        }
      ]
    },
    {
      "cell_type": "markdown",
      "source": [
        "## Convert Chat Words to Full Forms"
      ],
      "metadata": {
        "id": "jYmtxzH4Hh4L"
      }
    },
    {
      "cell_type": "code",
      "source": [
        "# Dictionary to convert common chat words to their full forms\n",
        "#There are many more chat words that can be added to this dictionary. These are some common examples.\n",
        "chat_words_dict = {\n",
        "    \"imo\": \"in my opinion\",\n",
        "     \"cyaa\": \"see you\",\n",
        "    \"idk\": \"I don't know\",\n",
        "    \"rn\": \"right now\",\n",
        "    \"afaik\": \"as far as I know\",\n",
        "\n",
        "}\n",
        "\n"
      ],
      "metadata": {
        "id": "zl-NJYfyz4dp"
      },
      "execution_count": null,
      "outputs": []
    },
    {
      "cell_type": "code",
      "source": [
        "# Function that returns the text with chat words converted to their full forms\n",
        "\n",
        "def convert_chat_words(text):\n",
        "    words = text.split()\n",
        "    converted_words = []\n",
        "    for word in words:\n",
        "        if word.lower() in chat_words_dict:\n",
        "            converted_words.append(chat_words_dict[word.lower()])\n",
        "        else:\n",
        "            converted_words.append(word)\n",
        "    converted_text = \" \".join(converted_words)\n",
        "    return converted_text"
      ],
      "metadata": {
        "id": "rcmzRlFiz6Tu"
      },
      "execution_count": null,
      "outputs": []
    },
    {
      "cell_type": "code",
      "source": [
        "df['text_cleaned'] = df['text_cleaned'].apply(convert_chat_words)"
      ],
      "metadata": {
        "id": "C-Yd4tRnz7gc"
      },
      "execution_count": null,
      "outputs": []
    },
    {
      "cell_type": "markdown",
      "source": [
        "## Remove Punctuation, Numbers, Extra Spaces, and Special Characters"
      ],
      "metadata": {
        "id": "gys3kqG8Hn-O"
      }
    },
    {
      "cell_type": "code",
      "source": [
        "# Removing punctuation\n",
        "import string\n",
        "df['text_cleaned'] = df['text_cleaned'].apply(lambda x: x.translate(str.maketrans('', '', string.punctuation)))\n",
        "\n",
        "# Removing numbers\n",
        "df['text_cleaned'] = df['text_cleaned'].apply(lambda x: re.sub(r'\\d+', '', x))\n",
        "\n",
        "# Removing extra spaces\n",
        "df['text_cleaned'] = df['text_cleaned'].apply(lambda x: ' '.join(x.split()))\n",
        "\n",
        "# Replacing repetitions of punctuation\n",
        "df['text_cleaned'] = df['text_cleaned'].apply(lambda x: re.sub(r'(\\W)\\1+', r'\\1', x))"
      ],
      "metadata": {
        "id": "-rVCOGJZz8bt"
      },
      "execution_count": null,
      "outputs": []
    },
    {
      "cell_type": "code",
      "source": [
        "# Removing special characters\n",
        "df['text_cleaned'] = df['text_cleaned'].apply(lambda x: re.sub(r\"[^\\w\\s]\", '', x))"
      ],
      "metadata": {
        "id": "fSO_6m9sz9d7"
      },
      "execution_count": null,
      "outputs": []
    },
    {
      "cell_type": "markdown",
      "source": [
        "## Install and Use Contractions Library"
      ],
      "metadata": {
        "id": "_IF6M5K2HtwU"
      }
    },
    {
      "cell_type": "code",
      "source": [
        "!pip install contractions"
      ],
      "metadata": {
        "colab": {
          "base_uri": "https://localhost:8080/"
        },
        "id": "Jx7CC0moz-f8",
        "outputId": "44c8c8c5-b19b-4c5f-f353-c648e85de8c8"
      },
      "execution_count": null,
      "outputs": [
        {
          "output_type": "stream",
          "name": "stdout",
          "text": [
            "Collecting contractions\n",
            "  Downloading contractions-0.1.73-py2.py3-none-any.whl (8.7 kB)\n",
            "Collecting textsearch>=0.0.21 (from contractions)\n",
            "  Downloading textsearch-0.0.24-py2.py3-none-any.whl (7.6 kB)\n",
            "Collecting anyascii (from textsearch>=0.0.21->contractions)\n",
            "  Downloading anyascii-0.3.2-py3-none-any.whl (289 kB)\n",
            "\u001b[2K     \u001b[90m━━━━━━━━━━━━━━━━━━━━━━━━━━━━━━━━━━━━━━━━\u001b[0m \u001b[32m289.9/289.9 kB\u001b[0m \u001b[31m2.3 MB/s\u001b[0m eta \u001b[36m0:00:00\u001b[0m\n",
            "\u001b[?25hCollecting pyahocorasick (from textsearch>=0.0.21->contractions)\n",
            "  Downloading pyahocorasick-2.1.0-cp310-cp310-manylinux_2_5_x86_64.manylinux1_x86_64.manylinux_2_12_x86_64.manylinux2010_x86_64.whl (110 kB)\n",
            "\u001b[2K     \u001b[90m━━━━━━━━━━━━━━━━━━━━━━━━━━━━━━━━━━━━━━━━\u001b[0m \u001b[32m110.7/110.7 kB\u001b[0m \u001b[31m11.2 MB/s\u001b[0m eta \u001b[36m0:00:00\u001b[0m\n",
            "\u001b[?25hInstalling collected packages: pyahocorasick, anyascii, textsearch, contractions\n",
            "Successfully installed anyascii-0.3.2 contractions-0.1.73 pyahocorasick-2.1.0 textsearch-0.0.24\n"
          ]
        }
      ]
    },
    {
      "cell_type": "code",
      "source": [
        "# Removing contractions\n",
        "import contractions\n",
        "# Remove contractions from the 'text_cleaned' column\n",
        "df['text_cleaned'] = df['text_cleaned'].apply(lambda x: contractions.fix(x))"
      ],
      "metadata": {
        "id": "zIn1OZddz_B9"
      },
      "execution_count": null,
      "outputs": []
    },
    {
      "cell_type": "markdown",
      "source": [
        "## Tokenization and Removing Stop Words"
      ],
      "metadata": {
        "id": "YQY_SJOLHyOY"
      }
    },
    {
      "cell_type": "code",
      "source": [
        "!pip install nltk"
      ],
      "metadata": {
        "colab": {
          "base_uri": "https://localhost:8080/"
        },
        "id": "rLpNgq441EsA",
        "outputId": "d1ba4449-3d7d-4189-995b-cea5e098bf4c"
      },
      "execution_count": null,
      "outputs": [
        {
          "output_type": "stream",
          "name": "stdout",
          "text": [
            "Requirement already satisfied: nltk in /usr/local/lib/python3.10/dist-packages (3.8.1)\n",
            "Requirement already satisfied: click in /usr/local/lib/python3.10/dist-packages (from nltk) (8.1.7)\n",
            "Requirement already satisfied: joblib in /usr/local/lib/python3.10/dist-packages (from nltk) (1.4.2)\n",
            "Requirement already satisfied: regex>=2021.8.3 in /usr/local/lib/python3.10/dist-packages (from nltk) (2024.5.15)\n",
            "Requirement already satisfied: tqdm in /usr/local/lib/python3.10/dist-packages (from nltk) (4.66.4)\n"
          ]
        }
      ]
    },
    {
      "cell_type": "code",
      "source": [
        "from nltk.tokenize import word_tokenize\n",
        "import nltk\n",
        "nltk.download('punkt')\n",
        "# Tokenization\n",
        "df['tokens'] = df['text_cleaned'].apply(lambda x: word_tokenize(x))"
      ],
      "metadata": {
        "colab": {
          "base_uri": "https://localhost:8080/"
        },
        "id": "0MWEKERS0AF-",
        "outputId": "308eafaa-2212-4fcb-e184-38ad396baf72"
      },
      "execution_count": null,
      "outputs": [
        {
          "output_type": "stream",
          "name": "stderr",
          "text": [
            "[nltk_data] Downloading package punkt to /root/nltk_data...\n",
            "[nltk_data]   Unzipping tokenizers/punkt.zip.\n"
          ]
        }
      ]
    },
    {
      "cell_type": "code",
      "source": [
        "# Removing stop words\n",
        "from nltk.corpus import stopwords\n",
        "import nltk\n",
        "nltk.download('stopwords')\n",
        "# Loading English stop words\n",
        "stop_words = set(stopwords.words('english'))\n",
        "\n",
        "# Removing stop words from the 'tokens' column\n",
        "df['tokens'] = df['tokens'].apply(lambda x: [word for word in x if word not in stop_words])\n",
        "\n",
        "# Print the updated 'tokens' column\n",
        "df['tokens'].tail(20)"
      ],
      "metadata": {
        "colab": {
          "base_uri": "https://localhost:8080/"
        },
        "id": "6uPWNGbY0CE2",
        "outputId": "5f697ba5-51af-4c14-ace8-fef92977fd58"
      },
      "execution_count": null,
      "outputs": [
        {
          "output_type": "stream",
          "name": "stderr",
          "text": [
            "[nltk_data] Downloading package stopwords to /root/nltk_data...\n",
            "[nltk_data]   Unzipping corpora/stopwords.zip.\n"
          ]
        },
        {
          "output_type": "execute_result",
          "data": {
            "text/plain": [
              "4849              [get, friday, night, look, sorted, newin, lbd, littleblackdress, strappy, plunge, neckline, mini, black, bodycon]\n",
              "4850                                                                                         [rt, nneagoe, love, caring, beautiful]\n",
              "4851               [february, winter, rainy, stormy, windy, wednesday, morning, love, happy, positive, passionate, reading, coffee]\n",
              "4852    [rt, thatguykai, honored, pittsburgh, pirates, consultant, coachotip, speak, ball, club, passionate, relentless, ownership]\n",
              "4853                                              [genghis, khan, ily, relatable, king, passionate, yeet, yas, sogengrn, apgenghis]\n",
              "4854                 [february, winter, rainy, stormy, windy, wednesday, evening, love, happy, positive, passionate, calm, fun, uk]\n",
              "4855                  [february, winter, rainy, stormy, windy, wednesday, evening, love, happy, positive, passionate, calm, coffee]\n",
              "4856                                                   [rt, bishopcarrollhs, great, bishopcarrollhs, students, caring, empowerbchs]\n",
              "4857                                         [big, thank, teachers, attended, isabcpdªso, nice, meet, passionate, educators, isabc]\n",
              "4858                                                                                                          [dave, looks, elated]\n",
              "4859                                                [dbel, scared, veryscared, holding, owt, hot, coming, nearer, david, petrified]\n",
              "4860                                           [completely, unique, petrified, palm, earrings, set, sterling, silver, fossil, gift]\n",
              "4861                                                               [rt, headquarters, fair, everything, makes, want, scream, anger]\n",
              "4862                                [fanghorn, forest, alder, woodland, glen, vorlich, lochearn, petrified, forest, lotr, scotland]\n",
              "4863                                                                                       [whisk, way, powerless, bakersgonnabake]\n",
              "4864                                                                   [omg, well, done, eskom, man, dies, loadshedding, powerless]\n",
              "4865                                                                                          [feelin, love, valentinesday, caring]\n",
              "4866                                                                                                           [blue, eyes, beaten]\n",
              "4867                                                                                      [la, chucha, louuu, te, chupo, los, ojos]\n",
              "4868                                      [colorsplashbw, zealous, remedios, herbales, tratamientos, naturales, remedios, herbales]\n",
              "Name: tokens, dtype: object"
            ]
          },
          "metadata": {},
          "execution_count": 20
        }
      ]
    },
    {
      "cell_type": "markdown",
      "source": [
        "## Lemmatization"
      ],
      "metadata": {
        "id": "k_1zaGLZH2B8"
      }
    },
    {
      "cell_type": "code",
      "source": [
        "import nltk\n",
        "nltk.download('wordnet')\n",
        "from nltk.stem import WordNetLemmatizer\n",
        "from nltk.corpus import wordnet\n",
        "import nltk\n",
        "nltk.download('averaged_perceptron_tagger')\n",
        "# Create an instance of WordNetLemmatizer\n",
        "lemmatizer = WordNetLemmatizer()\n",
        "# POS tag mapping dictionary\n",
        "wordnet_map = {\"N\": wordnet.NOUN, \"V\": wordnet.VERB, \"J\": wordnet.ADJ, \"R\": wordnet.ADV}\n",
        "\n",
        "# Function to perform Lemmatization on a text\n",
        "def lemmatize_text(text):\n",
        "    # Get the POS tags for the words\n",
        "    pos_tags = nltk.pos_tag(text)\n",
        "\n",
        "    # Perform Lemmatization\n",
        "    lemmatized_words = []\n",
        "    for word, tag in pos_tags:\n",
        "        # Map the POS tag to WordNet POS tag\n",
        "        pos = wordnet_map.get(tag[0].upper(), wordnet.NOUN)\n",
        "        # Lemmatize the word with the appropriate POS tag\n",
        "        lemmatized_word = lemmatizer.lemmatize(word, pos=pos)\n",
        "        # Add the lemmatized word to the list\n",
        "        lemmatized_words.append(lemmatized_word)\n",
        "\n",
        "    return lemmatized_words\n",
        "\n",
        "# Apply Lemmatization to the 'tokens' column\n",
        "df['tokens'] = df['tokens'].apply(lemmatize_text)"
      ],
      "metadata": {
        "colab": {
          "base_uri": "https://localhost:8080/"
        },
        "id": "vHoQ4Fjj0BS8",
        "outputId": "44011654-859c-4992-bbe5-33f475657910"
      },
      "execution_count": null,
      "outputs": [
        {
          "output_type": "stream",
          "name": "stderr",
          "text": [
            "[nltk_data] Downloading package wordnet to /root/nltk_data...\n",
            "[nltk_data] Downloading package averaged_perceptron_tagger to\n",
            "[nltk_data]     /root/nltk_data...\n",
            "[nltk_data]   Unzipping taggers/averaged_perceptron_tagger.zip.\n"
          ]
        }
      ]
    },
    {
      "cell_type": "code",
      "source": [
        "df.head()"
      ],
      "metadata": {
        "colab": {
          "base_uri": "https://localhost:8080/",
          "height": 293
        },
        "id": "mZUW-kJU0FE1",
        "outputId": "05e226e5-ce2c-4382-dc72-c8f9f7fe6adb"
      },
      "execution_count": null,
      "outputs": [
        {
          "output_type": "execute_result",
          "data": {
            "text/plain": [
              "                                                                                                                 Caption  \\\n",
              "0                                                                          How I feel today #legday #jelly #aching #gym    \n",
              "1                    @ArrivaTW absolute disgrace two carriages from Bangor half way there standing room only #disgraced    \n",
              "2  This is my Valentine's from 1 of my nephews. I am elated; sometimes the little things are the biggest & best things!    \n",
              "3                          betterfeelingfilms: RT via Instagram: First day of filming #powerless back in 2011. Can't ¡­    \n",
              "4                                                                             Zoe's first love #Rattled @JohnnyHarper15    \n",
              "\n",
              "      LABEL  \\\n",
              "0  negative   \n",
              "1  negative   \n",
              "2  positive   \n",
              "3   neutral   \n",
              "4  positive   \n",
              "\n",
              "                                                                                                   text_cleaned  \\\n",
              "0                                                                      how i feel today legday jelly aching gym   \n",
              "1              arrivatw absolute disgrace two carriages from bangor half way there standing room only disgraced   \n",
              "2  this is my valentines from of my nephews i am elated sometimes the little things are the biggest best things   \n",
              "3                            betterfeelingfilms rt via instagram first day of filming powerless back in cannot    \n",
              "4                                                                          zoes first love rattled johnnyharper   \n",
              "\n",
              "                                                                                    tokens  \n",
              "0                                                  [feel, today, legday, jelly, ache, gym]  \n",
              "1  [arrivatw, absolute, disgrace, two, carriage, bangor, half, way, stand, room, disgrace]  \n",
              "2                   [valentine, nephew, elate, sometimes, little, thing, big, best, thing]  \n",
              "3              [betterfeelingfilms, rt, via, instagram, first, day, film, powerless, back]  \n",
              "4                                                [zoes, first, love, rattle, johnnyharper]  "
            ],
            "text/html": [
              "\n",
              "  <div id=\"df-d96547df-9204-4155-a426-7d9b169bc4ea\" class=\"colab-df-container\">\n",
              "    <div>\n",
              "<style scoped>\n",
              "    .dataframe tbody tr th:only-of-type {\n",
              "        vertical-align: middle;\n",
              "    }\n",
              "\n",
              "    .dataframe tbody tr th {\n",
              "        vertical-align: top;\n",
              "    }\n",
              "\n",
              "    .dataframe thead th {\n",
              "        text-align: right;\n",
              "    }\n",
              "</style>\n",
              "<table border=\"1\" class=\"dataframe\">\n",
              "  <thead>\n",
              "    <tr style=\"text-align: right;\">\n",
              "      <th></th>\n",
              "      <th>Caption</th>\n",
              "      <th>LABEL</th>\n",
              "      <th>text_cleaned</th>\n",
              "      <th>tokens</th>\n",
              "    </tr>\n",
              "  </thead>\n",
              "  <tbody>\n",
              "    <tr>\n",
              "      <th>0</th>\n",
              "      <td>How I feel today #legday #jelly #aching #gym</td>\n",
              "      <td>negative</td>\n",
              "      <td>how i feel today legday jelly aching gym</td>\n",
              "      <td>[feel, today, legday, jelly, ache, gym]</td>\n",
              "    </tr>\n",
              "    <tr>\n",
              "      <th>1</th>\n",
              "      <td>@ArrivaTW absolute disgrace two carriages from Bangor half way there standing room only #disgraced</td>\n",
              "      <td>negative</td>\n",
              "      <td>arrivatw absolute disgrace two carriages from bangor half way there standing room only disgraced</td>\n",
              "      <td>[arrivatw, absolute, disgrace, two, carriage, bangor, half, way, stand, room, disgrace]</td>\n",
              "    </tr>\n",
              "    <tr>\n",
              "      <th>2</th>\n",
              "      <td>This is my Valentine's from 1 of my nephews. I am elated; sometimes the little things are the biggest &amp; best things!</td>\n",
              "      <td>positive</td>\n",
              "      <td>this is my valentines from of my nephews i am elated sometimes the little things are the biggest best things</td>\n",
              "      <td>[valentine, nephew, elate, sometimes, little, thing, big, best, thing]</td>\n",
              "    </tr>\n",
              "    <tr>\n",
              "      <th>3</th>\n",
              "      <td>betterfeelingfilms: RT via Instagram: First day of filming #powerless back in 2011. Can't ¡­</td>\n",
              "      <td>neutral</td>\n",
              "      <td>betterfeelingfilms rt via instagram first day of filming powerless back in cannot</td>\n",
              "      <td>[betterfeelingfilms, rt, via, instagram, first, day, film, powerless, back]</td>\n",
              "    </tr>\n",
              "    <tr>\n",
              "      <th>4</th>\n",
              "      <td>Zoe's first love #Rattled @JohnnyHarper15</td>\n",
              "      <td>positive</td>\n",
              "      <td>zoes first love rattled johnnyharper</td>\n",
              "      <td>[zoes, first, love, rattle, johnnyharper]</td>\n",
              "    </tr>\n",
              "  </tbody>\n",
              "</table>\n",
              "</div>\n",
              "    <div class=\"colab-df-buttons\">\n",
              "\n",
              "  <div class=\"colab-df-container\">\n",
              "    <button class=\"colab-df-convert\" onclick=\"convertToInteractive('df-d96547df-9204-4155-a426-7d9b169bc4ea')\"\n",
              "            title=\"Convert this dataframe to an interactive table.\"\n",
              "            style=\"display:none;\">\n",
              "\n",
              "  <svg xmlns=\"http://www.w3.org/2000/svg\" height=\"24px\" viewBox=\"0 -960 960 960\">\n",
              "    <path d=\"M120-120v-720h720v720H120Zm60-500h600v-160H180v160Zm220 220h160v-160H400v160Zm0 220h160v-160H400v160ZM180-400h160v-160H180v160Zm440 0h160v-160H620v160ZM180-180h160v-160H180v160Zm440 0h160v-160H620v160Z\"/>\n",
              "  </svg>\n",
              "    </button>\n",
              "\n",
              "  <style>\n",
              "    .colab-df-container {\n",
              "      display:flex;\n",
              "      gap: 12px;\n",
              "    }\n",
              "\n",
              "    .colab-df-convert {\n",
              "      background-color: #E8F0FE;\n",
              "      border: none;\n",
              "      border-radius: 50%;\n",
              "      cursor: pointer;\n",
              "      display: none;\n",
              "      fill: #1967D2;\n",
              "      height: 32px;\n",
              "      padding: 0 0 0 0;\n",
              "      width: 32px;\n",
              "    }\n",
              "\n",
              "    .colab-df-convert:hover {\n",
              "      background-color: #E2EBFA;\n",
              "      box-shadow: 0px 1px 2px rgba(60, 64, 67, 0.3), 0px 1px 3px 1px rgba(60, 64, 67, 0.15);\n",
              "      fill: #174EA6;\n",
              "    }\n",
              "\n",
              "    .colab-df-buttons div {\n",
              "      margin-bottom: 4px;\n",
              "    }\n",
              "\n",
              "    [theme=dark] .colab-df-convert {\n",
              "      background-color: #3B4455;\n",
              "      fill: #D2E3FC;\n",
              "    }\n",
              "\n",
              "    [theme=dark] .colab-df-convert:hover {\n",
              "      background-color: #434B5C;\n",
              "      box-shadow: 0px 1px 3px 1px rgba(0, 0, 0, 0.15);\n",
              "      filter: drop-shadow(0px 1px 2px rgba(0, 0, 0, 0.3));\n",
              "      fill: #FFFFFF;\n",
              "    }\n",
              "  </style>\n",
              "\n",
              "    <script>\n",
              "      const buttonEl =\n",
              "        document.querySelector('#df-d96547df-9204-4155-a426-7d9b169bc4ea button.colab-df-convert');\n",
              "      buttonEl.style.display =\n",
              "        google.colab.kernel.accessAllowed ? 'block' : 'none';\n",
              "\n",
              "      async function convertToInteractive(key) {\n",
              "        const element = document.querySelector('#df-d96547df-9204-4155-a426-7d9b169bc4ea');\n",
              "        const dataTable =\n",
              "          await google.colab.kernel.invokeFunction('convertToInteractive',\n",
              "                                                    [key], {});\n",
              "        if (!dataTable) return;\n",
              "\n",
              "        const docLinkHtml = 'Like what you see? Visit the ' +\n",
              "          '<a target=\"_blank\" href=https://colab.research.google.com/notebooks/data_table.ipynb>data table notebook</a>'\n",
              "          + ' to learn more about interactive tables.';\n",
              "        element.innerHTML = '';\n",
              "        dataTable['output_type'] = 'display_data';\n",
              "        await google.colab.output.renderOutput(dataTable, element);\n",
              "        const docLink = document.createElement('div');\n",
              "        docLink.innerHTML = docLinkHtml;\n",
              "        element.appendChild(docLink);\n",
              "      }\n",
              "    </script>\n",
              "  </div>\n",
              "\n",
              "\n",
              "<div id=\"df-17418acc-6013-4761-a2d7-e81a52577400\">\n",
              "  <button class=\"colab-df-quickchart\" onclick=\"quickchart('df-17418acc-6013-4761-a2d7-e81a52577400')\"\n",
              "            title=\"Suggest charts\"\n",
              "            style=\"display:none;\">\n",
              "\n",
              "<svg xmlns=\"http://www.w3.org/2000/svg\" height=\"24px\"viewBox=\"0 0 24 24\"\n",
              "     width=\"24px\">\n",
              "    <g>\n",
              "        <path d=\"M19 3H5c-1.1 0-2 .9-2 2v14c0 1.1.9 2 2 2h14c1.1 0 2-.9 2-2V5c0-1.1-.9-2-2-2zM9 17H7v-7h2v7zm4 0h-2V7h2v10zm4 0h-2v-4h2v4z\"/>\n",
              "    </g>\n",
              "</svg>\n",
              "  </button>\n",
              "\n",
              "<style>\n",
              "  .colab-df-quickchart {\n",
              "      --bg-color: #E8F0FE;\n",
              "      --fill-color: #1967D2;\n",
              "      --hover-bg-color: #E2EBFA;\n",
              "      --hover-fill-color: #174EA6;\n",
              "      --disabled-fill-color: #AAA;\n",
              "      --disabled-bg-color: #DDD;\n",
              "  }\n",
              "\n",
              "  [theme=dark] .colab-df-quickchart {\n",
              "      --bg-color: #3B4455;\n",
              "      --fill-color: #D2E3FC;\n",
              "      --hover-bg-color: #434B5C;\n",
              "      --hover-fill-color: #FFFFFF;\n",
              "      --disabled-bg-color: #3B4455;\n",
              "      --disabled-fill-color: #666;\n",
              "  }\n",
              "\n",
              "  .colab-df-quickchart {\n",
              "    background-color: var(--bg-color);\n",
              "    border: none;\n",
              "    border-radius: 50%;\n",
              "    cursor: pointer;\n",
              "    display: none;\n",
              "    fill: var(--fill-color);\n",
              "    height: 32px;\n",
              "    padding: 0;\n",
              "    width: 32px;\n",
              "  }\n",
              "\n",
              "  .colab-df-quickchart:hover {\n",
              "    background-color: var(--hover-bg-color);\n",
              "    box-shadow: 0 1px 2px rgba(60, 64, 67, 0.3), 0 1px 3px 1px rgba(60, 64, 67, 0.15);\n",
              "    fill: var(--button-hover-fill-color);\n",
              "  }\n",
              "\n",
              "  .colab-df-quickchart-complete:disabled,\n",
              "  .colab-df-quickchart-complete:disabled:hover {\n",
              "    background-color: var(--disabled-bg-color);\n",
              "    fill: var(--disabled-fill-color);\n",
              "    box-shadow: none;\n",
              "  }\n",
              "\n",
              "  .colab-df-spinner {\n",
              "    border: 2px solid var(--fill-color);\n",
              "    border-color: transparent;\n",
              "    border-bottom-color: var(--fill-color);\n",
              "    animation:\n",
              "      spin 1s steps(1) infinite;\n",
              "  }\n",
              "\n",
              "  @keyframes spin {\n",
              "    0% {\n",
              "      border-color: transparent;\n",
              "      border-bottom-color: var(--fill-color);\n",
              "      border-left-color: var(--fill-color);\n",
              "    }\n",
              "    20% {\n",
              "      border-color: transparent;\n",
              "      border-left-color: var(--fill-color);\n",
              "      border-top-color: var(--fill-color);\n",
              "    }\n",
              "    30% {\n",
              "      border-color: transparent;\n",
              "      border-left-color: var(--fill-color);\n",
              "      border-top-color: var(--fill-color);\n",
              "      border-right-color: var(--fill-color);\n",
              "    }\n",
              "    40% {\n",
              "      border-color: transparent;\n",
              "      border-right-color: var(--fill-color);\n",
              "      border-top-color: var(--fill-color);\n",
              "    }\n",
              "    60% {\n",
              "      border-color: transparent;\n",
              "      border-right-color: var(--fill-color);\n",
              "    }\n",
              "    80% {\n",
              "      border-color: transparent;\n",
              "      border-right-color: var(--fill-color);\n",
              "      border-bottom-color: var(--fill-color);\n",
              "    }\n",
              "    90% {\n",
              "      border-color: transparent;\n",
              "      border-bottom-color: var(--fill-color);\n",
              "    }\n",
              "  }\n",
              "</style>\n",
              "\n",
              "  <script>\n",
              "    async function quickchart(key) {\n",
              "      const quickchartButtonEl =\n",
              "        document.querySelector('#' + key + ' button');\n",
              "      quickchartButtonEl.disabled = true;  // To prevent multiple clicks.\n",
              "      quickchartButtonEl.classList.add('colab-df-spinner');\n",
              "      try {\n",
              "        const charts = await google.colab.kernel.invokeFunction(\n",
              "            'suggestCharts', [key], {});\n",
              "      } catch (error) {\n",
              "        console.error('Error during call to suggestCharts:', error);\n",
              "      }\n",
              "      quickchartButtonEl.classList.remove('colab-df-spinner');\n",
              "      quickchartButtonEl.classList.add('colab-df-quickchart-complete');\n",
              "    }\n",
              "    (() => {\n",
              "      let quickchartButtonEl =\n",
              "        document.querySelector('#df-17418acc-6013-4761-a2d7-e81a52577400 button');\n",
              "      quickchartButtonEl.style.display =\n",
              "        google.colab.kernel.accessAllowed ? 'block' : 'none';\n",
              "    })();\n",
              "  </script>\n",
              "</div>\n",
              "    </div>\n",
              "  </div>\n"
            ],
            "application/vnd.google.colaboratory.intrinsic+json": {
              "type": "dataframe",
              "variable_name": "df",
              "summary": "{\n  \"name\": \"df\",\n  \"rows\": 4869,\n  \"fields\": [\n    {\n      \"column\": \"Caption\",\n      \"properties\": {\n        \"dtype\": \"string\",\n        \"num_unique_values\": 4663,\n        \"samples\": [\n          \"This just turned my whole entire day around ??? ... One day she gone be mines \",\n          \"When your mirror foggy (me my self and lil sis ???????? \",\n          \"Absolutely incensed by this cynical 50 Shades/Valentine cash-in at Tesco \"\n        ],\n        \"semantic_type\": \"\",\n        \"description\": \"\"\n      }\n    },\n    {\n      \"column\": \"LABEL\",\n      \"properties\": {\n        \"dtype\": \"category\",\n        \"num_unique_values\": 3,\n        \"samples\": [\n          \"negative\",\n          \"positive\",\n          \"neutral\"\n        ],\n        \"semantic_type\": \"\",\n        \"description\": \"\"\n      }\n    },\n    {\n      \"column\": \"text_cleaned\",\n      \"properties\": {\n        \"dtype\": \"string\",\n        \"num_unique_values\": 4532,\n        \"samples\": [\n          \"rt bruk russian footballs miss charming stripped of title after being exposed as a racist neonazi\",\n          \"do you like vampiresforget twilightthe addiction abelferrara movie about good evil and catharsis\",\n          \"bit of bleakness bleak blackandwhite columns trees\"\n        ],\n        \"semantic_type\": \"\",\n        \"description\": \"\"\n      }\n    },\n    {\n      \"column\": \"tokens\",\n      \"properties\": {\n        \"dtype\": \"object\",\n        \"semantic_type\": \"\",\n        \"description\": \"\"\n      }\n    }\n  ]\n}"
            }
          },
          "metadata": {},
          "execution_count": 22
        }
      ]
    },
    {
      "cell_type": "markdown",
      "source": [
        "## Split the Data"
      ],
      "metadata": {
        "id": "tBx3lGZtIRPU"
      }
    },
    {
      "cell_type": "code",
      "source": [
        "from sklearn.model_selection import train_test_split\n",
        "\n",
        "# First split: 70% train, 30% temporary\n",
        "X_train, X_temp, y_train, y_temp = train_test_split(df.tokens, df.LABEL, test_size=0.3, random_state=12547392)\n",
        "\n",
        "# Second split: 50% validation, 50% test of the remaining 30%\n",
        "X_val, X_test, y_val, y_test = train_test_split(X_temp, y_temp, test_size=0.5, random_state=12547392)\n"
      ],
      "metadata": {
        "id": "2GmPR25h0FCG"
      },
      "execution_count": null,
      "outputs": []
    },
    {
      "cell_type": "code",
      "source": [
        "print(X_train.head())\n",
        "print(y_train.head())"
      ],
      "metadata": {
        "colab": {
          "base_uri": "https://localhost:8080/"
        },
        "id": "Zwrcnvuc0E_k",
        "outputId": "2d4ddcc5-45e7-46c2-d983-ceeea8bf43c1"
      },
      "execution_count": null,
      "outputs": [
        {
          "output_type": "stream",
          "name": "stdout",
          "text": [
            "1807             [rt, dallasblackcom, horrible, news, los, angeles, today, regard, khloes, estrange, husband, lamar, odom]\n",
            "1619                                                                                          [feel, desolate, take, quiz]\n",
            "526     [rt, bosshogswife, duckcommanderkidsdevo, release, today, book, much, fun, read, kiddos, chryssymama, excite, htt]\n",
            "915                                                                          [indias, modi, appal, temple, build, worship]\n",
            "3485                                                      [photo, photographer, get, rumble, jungle, beat, stone, gorilla]\n",
            "Name: tokens, dtype: object\n",
            "1807    negative\n",
            "1619    negative\n",
            "526     positive\n",
            "915     negative\n",
            "3485     neutral\n",
            "Name: LABEL, dtype: object\n"
          ]
        }
      ]
    },
    {
      "cell_type": "code",
      "source": [
        "# Printing the lengths of the training and validation sets\n",
        "\n",
        "print(len(X_train)) # Number of samples in the training set\n",
        "print(len(y_train))  # Number of labels in the training set\n",
        "print(len(X_val))  # Number of samples in the validation set\n",
        "print(len(y_val))  # Number of labels in the validation set\n",
        "print(len(X_test))  # Number of samples in the validation set\n",
        "print(len(y_test))  # Number of labels in the validation set"
      ],
      "metadata": {
        "colab": {
          "base_uri": "https://localhost:8080/"
        },
        "id": "fcWBCgb_0E9J",
        "outputId": "b31cc531-6cbb-47b7-cff6-d9b125861dff"
      },
      "execution_count": null,
      "outputs": [
        {
          "output_type": "stream",
          "name": "stdout",
          "text": [
            "3408\n",
            "3408\n",
            "730\n",
            "730\n",
            "731\n",
            "731\n"
          ]
        }
      ]
    },
    {
      "cell_type": "markdown",
      "source": [
        "## Sequence Length Statistics"
      ],
      "metadata": {
        "id": "-isNHAzeIWTv"
      }
    },
    {
      "cell_type": "code",
      "source": [
        "import numpy as np\n",
        "# Get mean and std of sequence length on trainning set\n",
        "print(np.mean([len(x) for x in X_train]))\n",
        "print(np.std([len(x) for x in X_train]))"
      ],
      "metadata": {
        "colab": {
          "base_uri": "https://localhost:8080/"
        },
        "id": "ZPGCs5PY0E6U",
        "outputId": "96d78ff7-f938-45e5-d3c5-cbda74204134"
      },
      "execution_count": null,
      "outputs": [
        {
          "output_type": "stream",
          "name": "stdout",
          "text": [
            "8.541960093896714\n",
            "3.610837223388305\n"
          ]
        }
      ]
    },
    {
      "cell_type": "markdown",
      "source": [
        "## One-Hot Encoding Labels"
      ],
      "metadata": {
        "id": "dAoxwonWIZNL"
      }
    },
    {
      "cell_type": "code",
      "source": [
        "y_train_1_hot = pd.get_dummies(y_train).values.tolist()\n",
        "\n",
        "\n",
        "#1-Hot to train set\n",
        "for i in range(len(y_train_1_hot)):\n",
        "    for j in range(3):\n",
        "        if y_train_1_hot[i][j]==True:\n",
        "            y_train_1_hot[i][j]=1\n",
        "        else:\n",
        "            y_train_1_hot[i][j]=0\n",
        "\n",
        "\n",
        "\n",
        "#1-Hot to validation set\n",
        "y_val_1_hot = pd.get_dummies(y_val).values.tolist()\n",
        "\n",
        "for i in range(len(y_val_1_hot)):\n",
        "    for j in range(3):\n",
        "        if y_val_1_hot[i][j]==True:\n",
        "            y_val_1_hot[i][j]=1\n",
        "        else:\n",
        "            y_val_1_hot[i][j]=0\n",
        "\n",
        "\n",
        "#1-Hot to validation set\n",
        "y_test_1_hot = pd.get_dummies(y_test).values.tolist()\n",
        "\n",
        "for i in range(len(y_test_1_hot)):\n",
        "    for j in range(3):\n",
        "        if y_test_1_hot[i][j]==True:\n",
        "            y_test_1_hot[i][j]=1\n",
        "        else:\n",
        "            y_test_1_hot[i][j]=0\n",
        "\n",
        "\n",
        "\n",
        "\n",
        "for i,name in enumerate (pd.get_dummies(y_train).columns):\n",
        "    print(\"Index:\",i,\" Category: \",name)\n",
        "\n",
        "print(\"-----------------------------------\")\n",
        "\n",
        "print(\"Label index: {} | 1-hot vector:  {}\".format(y_train[0],\n",
        "                                                   y_train_1_hot[0]))\n",
        "print(\"Label index: {} | 1-hot vector:  {}\".format(y_train[2],\n",
        "                                                   y_train_1_hot[2]))\n",
        "print(\"Label index: {} | 1-hot vector:  {}\".format(y_train.iloc[-3],\n",
        "                                                   y_train_1_hot[-3]))"
      ],
      "metadata": {
        "colab": {
          "base_uri": "https://localhost:8080/"
        },
        "id": "u_bpzQAa0E3x",
        "outputId": "e7dba857-038c-42bf-bcf5-88e38c05918d"
      },
      "execution_count": null,
      "outputs": [
        {
          "output_type": "stream",
          "name": "stdout",
          "text": [
            "Index: 0  Category:  negative\n",
            "Index: 1  Category:  neutral\n",
            "Index: 2  Category:  positive\n",
            "-----------------------------------\n",
            "Label index: negative | 1-hot vector:  [1, 0, 0]\n",
            "Label index: positive | 1-hot vector:  [0, 0, 1]\n",
            "Label index: neutral | 1-hot vector:  [0, 1, 0]\n"
          ]
        }
      ]
    },
    {
      "cell_type": "code",
      "source": [
        "# Convert y_train_1_hot from list to numpy array\n",
        "y_train_1_hot = np.array(y_train_1_hot)\n",
        "y_val_1_hot = np.array(y_val_1_hot)\n",
        "y_test_1_hot = np.array(y_test_1_hot)"
      ],
      "metadata": {
        "id": "6cvLRRB10E1V"
      },
      "execution_count": null,
      "outputs": []
    },
    {
      "cell_type": "markdown",
      "source": [
        "## TF-IDF Feature Extraction"
      ],
      "metadata": {
        "id": "wyvOIB-oIdun"
      }
    },
    {
      "cell_type": "code",
      "source": [
        "# Importing TfidfVectorizer from scikit-learn\n",
        "from sklearn.feature_extraction.text import TfidfVectorizer\n",
        "\n",
        "#Use unigram & bi-gram tf*idf features\n",
        "# max_features=6000: Limiting the maximum number of features to 6000\n",
        "vectorizer = TfidfVectorizer(ngram_range=(1,2), max_features = 6000,\n",
        "                             sublinear_tf=True)\n",
        "\n",
        "# Transforming the tokenized text data into TF-IDF features for training set\n",
        "X_train_tfidf = vectorizer.fit_transform([\" \".join(x) for x in\n",
        "                                          X_train])\n",
        "\n",
        "# Transforming the tokenized text data into TF-IDF features for validation set\n",
        "X_val_tfidf = vectorizer.transform([\" \".join(x) for x in\n",
        "                                    X_val])\n",
        "\n",
        "# Transforming the tokenized text data into TF-IDF features for validation set\n",
        "X_test_tfidf = vectorizer.transform([\" \".join(x) for x in\n",
        "                                    X_test])\n",
        "\n",
        "print(X_train_tfidf.shape, type(X_train_tfidf))"
      ],
      "metadata": {
        "colab": {
          "base_uri": "https://localhost:8080/"
        },
        "id": "wV-LGdFc0Ewi",
        "outputId": "399f7b9d-cb08-4d4c-f3cb-c8f8693e2600"
      },
      "execution_count": null,
      "outputs": [
        {
          "output_type": "stream",
          "name": "stdout",
          "text": [
            "(3408, 6000) <class 'scipy.sparse._csr.csr_matrix'>\n"
          ]
        }
      ]
    },
    {
      "cell_type": "markdown",
      "source": [
        "## Logistic Regression Model"
      ],
      "metadata": {
        "id": "HLTmPICSIjL3"
      }
    },
    {
      "cell_type": "code",
      "source": [
        "## Logistic Regression Without SVD\n",
        "\n",
        "from sklearn.linear_model import LogisticRegression\n",
        "from sklearn.metrics import classification_report\n",
        "\n",
        "clf = LogisticRegression(solver=\"liblinear\")\n",
        "clf.fit(X_train_tfidf, y_train)\n",
        "\n",
        "predictions = clf.predict(X_test_tfidf)\n",
        "# print(classification_report(y_val, predictions,\n",
        "#                             target_names=df.LABEL))\n",
        "\n",
        "print(classification_report(y_test, predictions))"
      ],
      "metadata": {
        "colab": {
          "base_uri": "https://localhost:8080/"
        },
        "id": "_VhuUccL0NYE",
        "outputId": "dd230e75-210a-44fe-919b-b4c254415389"
      },
      "execution_count": null,
      "outputs": [
        {
          "output_type": "stream",
          "name": "stdout",
          "text": [
            "              precision    recall  f1-score   support\n",
            "\n",
            "    negative       0.70      0.64      0.67       221\n",
            "     neutral       0.61      0.66      0.63       273\n",
            "    positive       0.74      0.73      0.73       237\n",
            "\n",
            "    accuracy                           0.67       731\n",
            "   macro avg       0.68      0.67      0.68       731\n",
            "weighted avg       0.68      0.67      0.68       731\n",
            "\n"
          ]
        }
      ]
    },
    {
      "cell_type": "markdown",
      "source": [
        "## Text Vectorization and Embedding Matrix Preparation"
      ],
      "metadata": {
        "id": "ysF-HCJMImD5"
      }
    },
    {
      "cell_type": "code",
      "source": [
        "from tensorflow.keras.layers import TextVectorization\n",
        "\n",
        "MAX_WORDS = 100000\n",
        "MAX_SEQUENCE_LENGTH = 256\n",
        "EMBEDDING_DIM = 300\n",
        "\n",
        "vectorizer = TextVectorization(max_tokens=MAX_WORDS, output_mode='int', ngrams=1,\n",
        "              output_sequence_length=MAX_SEQUENCE_LENGTH)\n",
        "\n",
        "vectorizer.adapt([\" \".join(x) for x in X_train])"
      ],
      "metadata": {
        "id": "zNAFt8Um0O3H"
      },
      "execution_count": null,
      "outputs": []
    },
    {
      "cell_type": "code",
      "source": [
        "print(X_train[0])\n",
        "for widx, word in zip(vectorizer(' '.join(X_train[0])).numpy().tolist(),X_train[0]):\n",
        "  print((widx,word))\n"
      ],
      "metadata": {
        "colab": {
          "base_uri": "https://localhost:8080/"
        },
        "id": "warV2osU0P5n",
        "outputId": "5ed3a904-6f14-4fb9-a5d1-3ffaa9427092"
      },
      "execution_count": null,
      "outputs": [
        {
          "output_type": "stream",
          "name": "stdout",
          "text": [
            "['feel', 'today', 'legday', 'jelly', 'ache', 'gym']\n",
            "(15, 'feel')\n",
            "(12, 'today')\n",
            "(7309, 'legday')\n",
            "(2618, 'jelly')\n",
            "(515, 'ache')\n",
            "(810, 'gym')\n"
          ]
        }
      ]
    },
    {
      "cell_type": "code",
      "source": [
        "# Print an example with a sentece from the dataset and the represantation in vectorizer\n",
        "print(df['text_cleaned'][3409])\n",
        "vectorizer.call(df['text_cleaned'][3409])"
      ],
      "metadata": {
        "colab": {
          "base_uri": "https://localhost:8080/"
        },
        "id": "w1aKlUJS0Q7m",
        "outputId": "3f972fcf-1eff-454d-dd5c-a45501d99e74"
      },
      "execution_count": null,
      "outputs": [
        {
          "output_type": "stream",
          "name": "stdout",
          "text": [
            "genuine hp black ink cartridge in damaged retail box\n"
          ]
        },
        {
          "output_type": "execute_result",
          "data": {
            "text/plain": [
              "<tf.Tensor: shape=(256,), dtype=int64, numpy=\n",
              "array([ 815,  568,   11, 1248, 1352,    1,    1, 1155,  188,    0,    0,\n",
              "          0,    0,    0,    0,    0,    0,    0,    0,    0,    0,    0,\n",
              "          0,    0,    0,    0,    0,    0,    0,    0,    0,    0,    0,\n",
              "          0,    0,    0,    0,    0,    0,    0,    0,    0,    0,    0,\n",
              "          0,    0,    0,    0,    0,    0,    0,    0,    0,    0,    0,\n",
              "          0,    0,    0,    0,    0,    0,    0,    0,    0,    0,    0,\n",
              "          0,    0,    0,    0,    0,    0,    0,    0,    0,    0,    0,\n",
              "          0,    0,    0,    0,    0,    0,    0,    0,    0,    0,    0,\n",
              "          0,    0,    0,    0,    0,    0,    0,    0,    0,    0,    0,\n",
              "          0,    0,    0,    0,    0,    0,    0,    0,    0,    0,    0,\n",
              "          0,    0,    0,    0,    0,    0,    0,    0,    0,    0,    0,\n",
              "          0,    0,    0,    0,    0,    0,    0,    0,    0,    0,    0,\n",
              "          0,    0,    0,    0,    0,    0,    0,    0,    0,    0,    0,\n",
              "          0,    0,    0,    0,    0,    0,    0,    0,    0,    0,    0,\n",
              "          0,    0,    0,    0,    0,    0,    0,    0,    0,    0,    0,\n",
              "          0,    0,    0,    0,    0,    0,    0,    0,    0,    0,    0,\n",
              "          0,    0,    0,    0,    0,    0,    0,    0,    0,    0,    0,\n",
              "          0,    0,    0,    0,    0,    0,    0,    0,    0,    0,    0,\n",
              "          0,    0,    0,    0,    0,    0,    0,    0,    0,    0,    0,\n",
              "          0,    0,    0,    0,    0,    0,    0,    0,    0,    0,    0,\n",
              "          0,    0,    0,    0,    0,    0,    0,    0,    0,    0,    0,\n",
              "          0,    0,    0,    0,    0,    0,    0,    0,    0,    0,    0,\n",
              "          0,    0,    0,    0,    0,    0,    0,    0,    0,    0,    0,\n",
              "          0,    0,    0])>"
            ]
          },
          "metadata": {},
          "execution_count": 35
        }
      ]
    },
    {
      "cell_type": "code",
      "source": [
        "import gensim.downloader as api\n",
        "word2vec = api.load('word2vec-google-news-300')\n",
        "\n",
        "embedding_matrix = np.zeros((MAX_WORDS, 300))  # +2 (pad, unkown)\n",
        "\n",
        "# PAD is vector zero\n",
        "# UNK is also vector zero\n",
        "for w2idx, _word in enumerate(vectorizer.get_vocabulary()):\n",
        "    # Skip PAD and UNK tokens\n",
        "    if w2idx < 2:\n",
        "      continue\n",
        "    try:\n",
        "        embedding_matrix[w2idx] = word2vec[_word]\n",
        "    except:\n",
        "        pass\n",
        "\n",
        "del word2vec"
      ],
      "metadata": {
        "colab": {
          "base_uri": "https://localhost:8080/"
        },
        "id": "PddpqsOP0SS_",
        "outputId": "44032dfd-aeb0-4e8f-e3cd-1e4daff8a180"
      },
      "execution_count": null,
      "outputs": [
        {
          "output_type": "stream",
          "name": "stdout",
          "text": [
            "[==================================================] 100.0% 1662.8/1662.8MB downloaded\n"
          ]
        }
      ]
    },
    {
      "cell_type": "code",
      "source": [
        "# example of a word embedding of a random word\n",
        "\n",
        "print(vectorizer.get_vocabulary()[3])\n",
        "print(embedding_matrix[3])"
      ],
      "metadata": {
        "colab": {
          "base_uri": "https://localhost:8080/"
        },
        "id": "M_bnk3r90TdY",
        "outputId": "cc61e433-a6ad-4904-bf32-61f98bde6654"
      },
      "execution_count": null,
      "outputs": [
        {
          "output_type": "stream",
          "name": "stdout",
          "text": [
            "get\n",
            "[ 0.03320312 -0.08984375 -0.29492188  0.11523438 -0.07128906 -0.05395508\n",
            "  0.01049805  0.11914062  0.02453613  0.08007812 -0.15039062 -0.19042969\n",
            "  0.04785156  0.17089844 -0.12695312  0.04394531  0.04760742  0.15722656\n",
            "  0.17089844  0.06201172 -0.10644531  0.10791016  0.2734375   0.01989746\n",
            "  0.20996094 -0.05737305 -0.03710938 -0.12060547  0.12255859 -0.04589844\n",
            " -0.04663086  0.08349609 -0.171875   -0.00500488  0.15234375 -0.12890625\n",
            "  0.03295898 -0.01409912  0.11669922  0.11669922  0.07763672 -0.13574219\n",
            "  0.11816406 -0.01647949 -0.16308594 -0.17578125 -0.08544922 -0.05444336\n",
            "  0.04492188  0.11425781 -0.13183594  0.2265625   0.0612793  -0.04370117\n",
            " -0.0133667   0.06542969  0.05004883  0.00445557 -0.06982422 -0.08789062\n",
            "  0.13769531 -0.04663086 -0.17480469  0.01818848  0.01660156  0.06005859\n",
            " -0.00970459  0.00915527 -0.06933594  0.14355469  0.19140625  0.18261719\n",
            "  0.10595703 -0.08935547 -0.19238281 -0.04663086  0.08837891  0.23730469\n",
            "  0.02355957  0.15039062 -0.03369141  0.03198242  0.13671875  0.17871094\n",
            "  0.10888672  0.11621094 -0.14648438  0.15625    -0.0378418   0.00302124\n",
            " -0.00674438  0.2109375  -0.04125977 -0.15332031 -0.12353516 -0.16601562\n",
            "  0.30273438  0.20800781  0.16015625  0.01647949 -0.14160156 -0.18652344\n",
            " -0.02478027  0.04956055 -0.17871094 -0.10839844 -0.14746094 -0.08691406\n",
            "  0.21191406  0.11474609  0.02026367  0.00976562 -0.0189209  -0.15917969\n",
            "  0.07177734  0.11572266  0.17382812 -0.0279541   0.1640625  -0.04296875\n",
            " -0.08447266 -0.03198242 -0.10742188  0.31640625  0.12451172  0.07470703\n",
            " -0.12988281 -0.10351562  0.0189209  -0.06787109  0.09033203 -0.17382812\n",
            " -0.03027344 -0.07177734  0.03491211 -0.05029297  0.10205078  0.18652344\n",
            " -0.09228516  0.04492188 -0.00741577 -0.05322266 -0.08203125 -0.03808594\n",
            "  0.03564453 -0.012146   -0.13574219 -0.45898438 -0.12695312 -0.09423828\n",
            "  0.125       0.09814453 -0.18164062  0.10644531 -0.07128906 -0.10058594\n",
            "  0.11962891 -0.14746094 -0.19433594  0.09277344  0.07177734 -0.0625\n",
            " -0.07080078 -0.02209473  0.08886719 -0.2734375  -0.0378418  -0.19628906\n",
            "  0.10888672 -0.18554688 -0.3125     -0.10400391 -0.07617188  0.06542969\n",
            " -0.10351562  0.0067749   0.21777344 -0.11181641  0.01538086  0.25390625\n",
            "  0.02612305 -0.07470703  0.08642578  0.25585938 -0.13085938 -0.07080078\n",
            "  0.03540039 -0.05615234  0.05395508 -0.10449219  0.20214844 -0.11425781\n",
            "  0.07568359 -0.06494141  0.0480957  -0.10058594 -0.04956055 -0.18261719\n",
            " -0.19335938 -0.03833008  0.03369141  0.07617188 -0.09472656  0.02770996\n",
            "  0.15429688 -0.04589844 -0.16699219 -0.09716797  0.10498047 -0.01867676\n",
            " -0.02075195  0.16210938  0.04907227  0.14355469 -0.20605469  0.06494141\n",
            "  0.06933594 -0.00561523  0.06347656 -0.15039062 -0.16796875 -0.23730469\n",
            "  0.13476562  0.078125    0.15722656  0.06689453  0.11962891  0.11914062\n",
            " -0.01190186 -0.07470703  0.18164062 -0.06738281  0.11523438  0.140625\n",
            "  0.09619141  0.16894531 -0.04150391 -0.08740234  0.11328125  0.00411987\n",
            "  0.13867188  0.14257812 -0.05175781 -0.15820312  0.10839844  0.04467773\n",
            " -0.08105469  0.125      -0.08935547  0.0045166  -0.02990723  0.00720215\n",
            "  0.0177002   0.05883789  0.09667969  0.16015625  0.01428223  0.0039978\n",
            " -0.07617188 -0.12011719 -0.12402344 -0.20214844 -0.12695312  0.08007812\n",
            "  0.15332031  0.125       0.14257812 -0.05541992 -0.0625      0.00576782\n",
            " -0.01434326  0.24414062  0.27148438  0.10253906  0.0291748  -0.07177734\n",
            " -0.06884766 -0.29101562 -0.07617188 -0.13378906  0.08496094 -0.171875\n",
            "  0.05371094  0.15527344 -0.04785156  0.03979492 -0.11425781 -0.04321289\n",
            "  0.03613281 -0.00558472 -0.02172852  0.18261719 -0.08691406  0.09667969\n",
            " -0.01251221  0.07568359  0.00427246 -0.12695312  0.16113281 -0.16015625]\n"
          ]
        }
      ]
    },
    {
      "cell_type": "markdown",
      "source": [
        "## Metrics Class for Model Evaluation"
      ],
      "metadata": {
        "id": "Pa9LI5riIuVV"
      }
    },
    {
      "cell_type": "code",
      "source": [
        "# Create class Metrics\n",
        "\n",
        "import tensorflow as tf\n",
        "from sklearn.metrics import f1_score, recall_score, precision_score\n",
        "import numpy as np\n",
        "import os\n",
        "\n",
        "\n",
        "class Metrics(tf.keras.callbacks.Callback):\n",
        "    def __init__(self, valid_data):\n",
        "        super(Metrics, self).__init__()\n",
        "        self.validation_data = valid_data\n",
        "\n",
        "    def on_epoch_end(self, epoch, logs=None):\n",
        "        logs = logs or {}\n",
        "        val_predict = np.argmax(self.model.predict(self.validation_data[0]), -1)\n",
        "        val_targ = self.validation_data[1]\n",
        "        val_targ = tf.cast(val_targ,dtype=tf.float32)\n",
        "        if len(val_targ.shape) == 2 and val_targ.shape[1] != 1:\n",
        "          val_targ = np.argmax(val_targ, -1)\n",
        "\n",
        "\n",
        "        _val_f1 = f1_score(val_targ, val_predict,average=\"weighted\")\n",
        "        _val_recall = recall_score(val_targ, val_predict,average=\"weighted\")\n",
        "        _val_precision = precision_score(val_targ, val_predict,average=\"weighted\")\n",
        "\n",
        "        logs['val_f1'] = _val_f1\n",
        "        logs['val_recall'] = _val_recall\n",
        "        logs['val_precision'] = _val_precision\n",
        "        print(\" — val_f1: %f — val_precision: %f — val_recall: %f\" % (_val_f1, _val_precision, _val_recall))\n",
        "        return"
      ],
      "metadata": {
        "id": "4UaylkwD0UaH"
      },
      "execution_count": null,
      "outputs": []
    },
    {
      "cell_type": "markdown",
      "source": [
        "## Self-Attention Layer Definition"
      ],
      "metadata": {
        "id": "aooWYp7AIxZG"
      }
    },
    {
      "cell_type": "code",
      "source": [
        "import tensorflow as tf\n",
        "\n",
        "from tensorflow.keras.models import Sequential\n",
        "from tensorflow.keras.layers import Dense, Dropout, Layer\n",
        "\n",
        "class SelfAttention(Layer):\n",
        "  def __init__(self, mlp_layers=0, units=0, dropout_rate=0, return_attention=False, **kwargs):\n",
        "    super(SelfAttention, self).__init__(**kwargs)\n",
        "    self.mlp_layers = mlp_layers\n",
        "    self.mlp_units = units\n",
        "    self.return_attention = return_attention\n",
        "    self.dropout_rate = dropout_rate\n",
        "    self.attention_mlp = self.build_mlp()\n",
        "\n",
        "  def build_mlp(self):\n",
        "    mlp = Sequential()\n",
        "    for i in range(self.mlp_layers):\n",
        "      mlp.add(Dense(self.mlp_units, activation='relu'))\n",
        "      mlp.add(Dropout(self.dropout_rate))\n",
        "    mlp.add(Dense(1))\n",
        "    return mlp\n",
        "\n",
        "  def call(self, x, mask=None):\n",
        "    # x  = [batch_size,max_len,H_rnn] ==> [batch_size*max_len,H_rnn]\n",
        "    # a = [batch_size*max_len,H_rnn] * [H_rnn,1] = [batch_size*max_len,1]\n",
        "    # a reshaped to 3D given batch_size and max_len values\n",
        "    # a = [batch_size,max_len,1]\n",
        "    a = self.attention_mlp(x)\n",
        "    # squeze last dimension of a to get the final attention matrix [batch_size,max_len]\n",
        "    a = tf.squeeze(a, axis=2)\n",
        "\n",
        "    if mask is not None:\n",
        "      # apply mask to zero out padded elements. Remember that exp ^ (large negative value) =  0\n",
        "      mask = tf.keras.backend.cast(mask, tf.keras.backend.floatx())\n",
        "      a -= 100000.0 * (1.0 - mask)\n",
        "\n",
        "    # Aplply softmax to the max_len dimension\n",
        "    a = tf.keras.backend.expand_dims(tf.keras.backend.softmax(a, axis=-1))\n",
        "    # Element-wise multiplication of attention scores a [batch_size,max_len] with the original x matrix [batch_size,max_len,H_rnn]\n",
        "    weighted_input = x * a  # [batch_size,max_len,H_rnn]\n",
        "    # Add/sum scaled H_rnn dim over max_len dimension\n",
        "    result = tf.keras.backend.sum(weighted_input, axis=1) # [batch_size, H_rnn]\n",
        "\n",
        "    if self.return_attention:\n",
        "      return [result, a]\n",
        "    return result\n"
      ],
      "metadata": {
        "id": "YE56VVGz0VbT"
      },
      "execution_count": null,
      "outputs": []
    },
    {
      "cell_type": "markdown",
      "source": [
        "## Build, Prepare Data for Training and Compile the Model"
      ],
      "metadata": {
        "id": "lxfcfMesI0uK"
      }
    },
    {
      "cell_type": "code",
      "source": [
        "import tensorflow as tf\n",
        "\n",
        "from tensorflow.keras.models import Sequential\n",
        "from tensorflow.keras.layers import Dense, Dropout, Input, Embedding, Bidirectional, LSTM\n",
        "from tensorflow.keras.optimizers import Adam\n",
        "from tensorflow.keras.metrics import CategoricalAccuracy\n",
        "os.environ['TF_CPP_MIN_LOG_LEVEL'] = '3'\n",
        "\n",
        "LSTM_SIZE = 300\n",
        "DENSE = 1000\n",
        "\n",
        "# create empty sequential model\n",
        "model2 = Sequential()\n",
        "model2.add(Input(shape=(1,), dtype=tf.string))\n",
        "model2.add(vectorizer)\n",
        "# add an embedding layer\n",
        "model2.add(Embedding(MAX_WORDS, EMBEDDING_DIM, weights=[embedding_matrix],\n",
        "                    input_length=MAX_SEQUENCE_LENGTH, mask_zero=True, trainable=False))\n",
        "\n",
        "# Use 0.33 dropout probabillity\n",
        "model2.add(Dropout(0.33))\n",
        "# add a bidirectional lstm layer with 0.33 variational (recurrent) dropout\n",
        "model2.add(Bidirectional(LSTM(LSTM_SIZE, return_sequences=True, recurrent_dropout = 0.33)))\n",
        "model2.add(Dropout(0.33))\n",
        "# Add linear self-attention layer\n",
        "# mlp_layers=0 ==>  # sum(softmax(WX + b) * X)\n",
        "model2.add(SelfAttention(mlp_layers=0))\n",
        "\n",
        "\n",
        "# add an MLP with 1 hidden layer\n",
        "model2.add(Dense(units=DENSE, activation='relu' ))\n",
        "model2.add(Dropout(0.33))\n",
        "model2.add(Dense(len(y_train.unique()), activation='softmax'))\n",
        "print(model2.summary())\n",
        "\n",
        "model2.compile(loss='categorical_crossentropy',\n",
        "                  optimizer=Adam(learning_rate=0.001),metrics=[\"categorical_accuracy\"])\n",
        "\n",
        "train_data = np.array([[\" \".join(x_train)] for x_train in X_train])\n",
        "val_data = np.array([[\" \".join(x_val)] for x_val in X_val])\n",
        "test_data = np.array([[\" \".join(x_test)] for x_test in X_test])\n",
        "\n",
        "# Convert the numpy arrays to tensors\n",
        "train_data = tf.convert_to_tensor(train_data, dtype=tf.string)\n",
        "val_data = tf.convert_to_tensor(val_data, dtype=tf.string)\n",
        "test_data = tf.convert_to_tensor(test_data, dtype=tf.string)\n",
        "\n",
        "history2 = model2.fit(train_data, y_train_1_hot,\n",
        "              validation_data=(val_data, y_val_1_hot),\n",
        "              batch_size=256,\n",
        "              epochs=10,\n",
        "              shuffle=True,\n",
        "              callbacks=[Metrics(valid_data=(val_data, y_val_1_hot))])"
      ],
      "metadata": {
        "colab": {
          "base_uri": "https://localhost:8080/"
        },
        "id": "IlbEKK6p0WfH",
        "outputId": "0a49ca7f-fd87-4b96-b058-943455e5a1e0"
      },
      "execution_count": null,
      "outputs": [
        {
          "output_type": "stream",
          "name": "stdout",
          "text": [
            "Model: \"sequential\"\n",
            "_________________________________________________________________\n",
            " Layer (type)                Output Shape              Param #   \n",
            "=================================================================\n",
            " text_vectorization (TextVe  (None, 256)               0         \n",
            " ctorization)                                                    \n",
            "                                                                 \n",
            " embedding (Embedding)       (None, 256, 300)          30000000  \n",
            "                                                                 \n",
            " dropout (Dropout)           (None, 256, 300)          0         \n",
            "                                                                 \n",
            " bidirectional (Bidirection  (None, 256, 600)          1442400   \n",
            " al)                                                             \n",
            "                                                                 \n",
            " dropout_1 (Dropout)         (None, 256, 600)          0         \n",
            "                                                                 \n",
            " self_attention (SelfAttent  (None, 600)               601       \n",
            " ion)                                                            \n",
            "                                                                 \n",
            " dense_1 (Dense)             (None, 1000)              601000    \n",
            "                                                                 \n",
            " dropout_2 (Dropout)         (None, 1000)              0         \n",
            "                                                                 \n",
            " dense_2 (Dense)             (None, 3)                 3003      \n",
            "                                                                 \n",
            "=================================================================\n",
            "Total params: 32047004 (122.25 MB)\n",
            "Trainable params: 2047004 (7.81 MB)\n",
            "Non-trainable params: 30000000 (114.44 MB)\n",
            "_________________________________________________________________\n",
            "None\n",
            "Epoch 1/10\n",
            "23/23 [==============================] - 62s 3s/step\n",
            " — val_f1: 0.642366 — val_precision: 0.642757 — val_recall: 0.642466\n",
            "14/14 [==============================] - 532s 37s/step - loss: 0.9516 - categorical_accuracy: 0.5487 - val_loss: 0.7920 - val_categorical_accuracy: 0.6425 - val_f1: 0.6424 - val_recall: 0.6425 - val_precision: 0.6428\n",
            "Epoch 2/10\n",
            "23/23 [==============================] - 34s 1s/step\n",
            " — val_f1: 0.685112 — val_precision: 0.694972 — val_recall: 0.683562\n",
            "14/14 [==============================] - 363s 26s/step - loss: 0.7633 - categorical_accuracy: 0.6849 - val_loss: 0.7522 - val_categorical_accuracy: 0.6836 - val_f1: 0.6851 - val_recall: 0.6836 - val_precision: 0.6950\n",
            "Epoch 3/10\n",
            "23/23 [==============================] - 32s 1s/step\n",
            " — val_f1: 0.687349 — val_precision: 0.693496 — val_recall: 0.684932\n",
            "14/14 [==============================] - 285s 21s/step - loss: 0.6988 - categorical_accuracy: 0.7054 - val_loss: 0.7230 - val_categorical_accuracy: 0.6849 - val_f1: 0.6873 - val_recall: 0.6849 - val_precision: 0.6935\n",
            "Epoch 4/10\n",
            "23/23 [==============================] - 33s 1s/step\n",
            " — val_f1: 0.672469 — val_precision: 0.685220 — val_recall: 0.675342\n",
            "14/14 [==============================] - 268s 19s/step - loss: 0.6553 - categorical_accuracy: 0.7265 - val_loss: 0.7503 - val_categorical_accuracy: 0.6753 - val_f1: 0.6725 - val_recall: 0.6753 - val_precision: 0.6852\n",
            "Epoch 5/10\n",
            "23/23 [==============================] - 32s 1s/step\n",
            " — val_f1: 0.671860 — val_precision: 0.684630 — val_recall: 0.675342\n",
            "14/14 [==============================] - 283s 20s/step - loss: 0.6327 - categorical_accuracy: 0.7256 - val_loss: 0.7295 - val_categorical_accuracy: 0.6753 - val_f1: 0.6719 - val_recall: 0.6753 - val_precision: 0.6846\n",
            "Epoch 6/10\n",
            "23/23 [==============================] - 33s 1s/step\n",
            " — val_f1: 0.680160 — val_precision: 0.686655 — val_recall: 0.680822\n",
            "14/14 [==============================] - 278s 20s/step - loss: 0.6024 - categorical_accuracy: 0.7515 - val_loss: 0.7191 - val_categorical_accuracy: 0.6808 - val_f1: 0.6802 - val_recall: 0.6808 - val_precision: 0.6867\n",
            "Epoch 7/10\n",
            "23/23 [==============================] - 34s 1s/step\n",
            " — val_f1: 0.682914 — val_precision: 0.694298 — val_recall: 0.680822\n",
            "14/14 [==============================] - 277s 20s/step - loss: 0.5715 - categorical_accuracy: 0.7664 - val_loss: 0.7353 - val_categorical_accuracy: 0.6808 - val_f1: 0.6829 - val_recall: 0.6808 - val_precision: 0.6943\n",
            "Epoch 8/10\n",
            "23/23 [==============================] - 36s 2s/step\n",
            " — val_f1: 0.688275 — val_precision: 0.694954 — val_recall: 0.686301\n",
            "14/14 [==============================] - 283s 20s/step - loss: 0.5670 - categorical_accuracy: 0.7644 - val_loss: 0.7096 - val_categorical_accuracy: 0.6863 - val_f1: 0.6883 - val_recall: 0.6863 - val_precision: 0.6950\n",
            "Epoch 9/10\n",
            "23/23 [==============================] - 33s 1s/step\n",
            " — val_f1: 0.671523 — val_precision: 0.677352 — val_recall: 0.675342\n",
            "14/14 [==============================] - 273s 20s/step - loss: 0.5449 - categorical_accuracy: 0.7735 - val_loss: 0.7146 - val_categorical_accuracy: 0.6753 - val_f1: 0.6715 - val_recall: 0.6753 - val_precision: 0.6774\n",
            "Epoch 10/10\n",
            "23/23 [==============================] - 33s 1s/step\n",
            " — val_f1: 0.693282 — val_precision: 0.693343 — val_recall: 0.694521\n",
            "14/14 [==============================] - 282s 20s/step - loss: 0.5211 - categorical_accuracy: 0.7805 - val_loss: 0.7144 - val_categorical_accuracy: 0.6945 - val_f1: 0.6933 - val_recall: 0.6945 - val_precision: 0.6933\n"
          ]
        }
      ]
    },
    {
      "cell_type": "markdown",
      "source": [
        "## Plot Training History"
      ],
      "metadata": {
        "id": "FGrpwEXgJH5P"
      }
    },
    {
      "cell_type": "code",
      "source": [
        "%matplotlib inline\n",
        "import matplotlib.pyplot as plt\n",
        "\n",
        "# summarize history for accuracy\n",
        "plt.plot(history2.history['categorical_accuracy'])\n",
        "plt.plot(history2.history['val_categorical_accuracy'])\n",
        "plt.title('model accuracy')\n",
        "plt.ylabel('accuracy')\n",
        "plt.xlabel('epoch')\n",
        "plt.legend(['train', 'dev'], loc='upper left')\n",
        "plt.show()\n",
        "# summarize history for loss\n",
        "plt.plot(history2.history['loss'])\n",
        "plt.plot(history2.history['val_loss'])\n",
        "plt.title('model loss')\n",
        "plt.ylabel('loss')\n",
        "plt.xlabel('epoch')\n",
        "plt.legend(['train', 'dev'], loc='upper right')\n",
        "plt.show()"
      ],
      "metadata": {
        "colab": {
          "base_uri": "https://localhost:8080/",
          "height": 927
        },
        "id": "e5ATiWgP0aNF",
        "outputId": "63f7449d-9b02-4701-c3c6-3f098a71c77d"
      },
      "execution_count": null,
      "outputs": [
        {
          "output_type": "display_data",
          "data": {
            "text/plain": [
              "<Figure size 640x480 with 1 Axes>"
            ],
            "image/png": "[encoded data removed]"
          },
          "metadata": {}
        },
        {
          "output_type": "display_data",
          "data": {
            "text/plain": [
              "<Figure size 640x480 with 1 Axes>"
            ],
            "image/png": "[encoded data removed]"
          },
          "metadata": {}
        }
      ]
    },
    {
      "cell_type": "markdown",
      "source": [
        "## Evaluate the Model"
      ],
      "metadata": {
        "id": "IyKZR5vKJLMs"
      }
    },
    {
      "cell_type": "code",
      "source": [
        "from sklearn.metrics import classification_report\n",
        "\n",
        "predictions = np.argmax(model2.predict(test_data), -1)\n"
      ],
      "metadata": {
        "id": "mxXTMXRu0iYV"
      },
      "execution_count": null,
      "outputs": []
    },
    {
      "cell_type": "code",
      "source": [
        "# Create a dictionary to map class labels to class names\n",
        "label_to_name = {i: name for i, name in enumerate(pd.get_dummies(y_test).columns)}\n",
        "\n",
        "# Replace integer class labels in predictions with class names\n",
        "predictions_with_names = [label_to_name[label] for label in predictions]\n",
        "\n",
        "print(predictions_with_names)\n"
      ],
      "metadata": {
        "id": "J9CJi0NU0iV9"
      },
      "execution_count": null,
      "outputs": []
    },
    {
      "cell_type": "code",
      "source": [
        "print(classification_report(y_test, predictions_with_names))"
      ],
      "metadata": {
        "colab": {
          "base_uri": "https://localhost:8080/"
        },
        "id": "3zbhnMLX0iSx",
        "outputId": "c2e76e67-50e7-4d57-a90c-4446fd54b06a"
      },
      "execution_count": null,
      "outputs": [
        {
          "output_type": "stream",
          "name": "stdout",
          "text": [
            "              precision    recall  f1-score   support\n",
            "\n",
            "    negative       0.75      0.66      0.70       221\n",
            "     neutral       0.66      0.71      0.69       273\n",
            "    positive       0.79      0.81      0.80       237\n",
            "\n",
            "    accuracy                           0.73       731\n",
            "   macro avg       0.73      0.73      0.73       731\n",
            "weighted avg       0.73      0.73      0.73       731\n",
            "\n",
            "              precision    recall  f1-score   support\n",
            "\n",
            "    negative       0.75      0.66      0.70       221\n",
            "     neutral       0.66      0.71      0.69       273\n",
            "    positive       0.79      0.81      0.80       237\n",
            "\n",
            "    accuracy                           0.73       731\n",
            "   macro avg       0.73      0.73      0.73       731\n",
            "weighted avg       0.73      0.73      0.73       731\n",
            "\n"
          ]
        }
      ]
    },
    {
      "cell_type": "markdown",
      "source": [
        "## Hyperparameter Tuning"
      ],
      "metadata": {
        "id": "7Kq9RUTHJO0y"
      }
    },
    {
      "cell_type": "markdown",
      "source": [
        "We will use Keras Tuner to find the optimal hyperparameters for our model. The following code sets up the tuner and performs the search."
      ],
      "metadata": {
        "id": "bgLcIvu8Jxky"
      }
    },
    {
      "cell_type": "code",
      "source": [
        "!pip install keras_tuner"
      ],
      "metadata": {
        "colab": {
          "base_uri": "https://localhost:8080/"
        },
        "id": "75hRT3c3EZJ-",
        "outputId": "e77b8abc-f0e7-4220-935b-6bc92692585e"
      },
      "execution_count": null,
      "outputs": [
        {
          "output_type": "stream",
          "name": "stdout",
          "text": [
            "Collecting keras_tuner\n",
            "  Downloading keras_tuner-1.4.7-py3-none-any.whl (129 kB)\n",
            "\u001b[2K     \u001b[90m━━━━━━━━━━━━━━━━━━━━━━━━━━━━━━━━━━━━━━━━\u001b[0m \u001b[32m129.1/129.1 kB\u001b[0m \u001b[31m1.2 MB/s\u001b[0m eta \u001b[36m0:00:00\u001b[0m\n",
            "\u001b[?25hRequirement already satisfied: keras in /usr/local/lib/python3.10/dist-packages (from keras_tuner) (2.15.0)\n",
            "Requirement already satisfied: packaging in /usr/local/lib/python3.10/dist-packages (from keras_tuner) (24.0)\n",
            "Requirement already satisfied: requests in /usr/local/lib/python3.10/dist-packages (from keras_tuner) (2.31.0)\n",
            "Collecting kt-legacy (from keras_tuner)\n",
            "  Downloading kt_legacy-1.0.5-py3-none-any.whl (9.6 kB)\n",
            "Requirement already satisfied: charset-normalizer<4,>=2 in /usr/local/lib/python3.10/dist-packages (from requests->keras_tuner) (3.3.2)\n",
            "Requirement already satisfied: idna<4,>=2.5 in /usr/local/lib/python3.10/dist-packages (from requests->keras_tuner) (3.7)\n",
            "Requirement already satisfied: urllib3<3,>=1.21.1 in /usr/local/lib/python3.10/dist-packages (from requests->keras_tuner) (2.0.7)\n",
            "Requirement already satisfied: certifi>=2017.4.17 in /usr/local/lib/python3.10/dist-packages (from requests->keras_tuner) (2024.2.2)\n",
            "Installing collected packages: kt-legacy, keras_tuner\n",
            "Successfully installed keras_tuner-1.4.7 kt-legacy-1.0.5\n"
          ]
        }
      ]
    },
    {
      "cell_type": "code",
      "source": [
        "# Import necessary packages\n",
        "import keras_tuner as kt\n",
        "from tensorflow.keras.layers import Dense, Dropout, Input, Embedding, Bidirectional, LSTM\n",
        "from tensorflow.keras.optimizers import Adam\n",
        "\n",
        "# Define a function to build the model\n",
        "def build_model(hp):\n",
        "    LSTM_SIZE = hp.Choice('lstm_size', values=[50, 200])\n",
        "    DENSE_UNITS = hp.Choice('dense_units', values=[50])\n",
        "    DROPOUT_RATE = hp.Choice('dropout_rate', values=[0.2, 0.5])\n",
        "    MLP_LAYERS = hp.Int('mlp_layers', min_value=0, max_value=2, step=1)\n",
        "    MLP_UNITS = hp.Choice('mlp_units', values=[50])\n",
        "\n",
        "    model = Sequential()\n",
        "    model.add(Input(shape=(1,), dtype=tf.string))\n",
        "    model.add(vectorizer)\n",
        "    model.add(Embedding(MAX_WORDS, EMBEDDING_DIM, weights=[embedding_matrix],\n",
        "                        input_length=MAX_SEQUENCE_LENGTH, mask_zero=True, trainable=False))\n",
        "    model.add(Dropout(DROPOUT_RATE))\n",
        "    model.add(Bidirectional(LSTM(LSTM_SIZE, return_sequences=True, recurrent_dropout=DROPOUT_RATE)))\n",
        "    model.add(Dropout(DROPOUT_RATE))\n",
        "    model.add(SelfAttention(mlp_layers=MLP_LAYERS, units=MLP_UNITS, dropout_rate=DROPOUT_RATE))\n",
        "    model.add(Dense(units=DENSE_UNITS, activation='relu'))\n",
        "    model.add(Dropout(DROPOUT_RATE))\n",
        "    model.add(Dense(len(y_train.unique()), activation='softmax'))\n",
        "\n",
        "    model.compile(optimizer=Adam(learning_rate=0.001), loss='categorical_crossentropy', metrics=[\"categorical_accuracy\"])\n",
        "\n",
        "    return model\n"
      ],
      "metadata": {
        "id": "wC93z5_R0iQF"
      },
      "execution_count": null,
      "outputs": []
    },
    {
      "cell_type": "code",
      "source": [
        "# Initialize the tuner\n",
        "tuner = kt.Hyperband(\n",
        "    build_model,\n",
        "    objective='val_categorical_accuracy',\n",
        "    max_epochs=5,\n",
        "    factor=3,\n",
        "    directory='my_dir',\n",
        "    project_name='hyper_tuning'\n",
        ")"
      ],
      "metadata": {
        "id": "i0LWkmxM0iNJ"
      },
      "execution_count": null,
      "outputs": []
    },
    {
      "cell_type": "code",
      "source": [
        "# Define early stopping callback\n",
        "stop_early = tf.keras.callbacks.EarlyStopping(monitor='val_loss', patience=3)\n",
        "\n",
        "# Start the search\n",
        "tuner.search(train_data, y_train_1_hot,\n",
        "             epochs=8,\n",
        "             validation_data=(val_data, y_val_1_hot),\n",
        "             batch_size=256,\n",
        "             shuffle=True,\n",
        "             callbacks=[stop_early])"
      ],
      "metadata": {
        "colab": {
          "base_uri": "https://localhost:8080/"
        },
        "id": "VdP9NWbV6y25",
        "outputId": "885700e3-afab-4589-a312-cca30e7d1301"
      },
      "execution_count": null,
      "outputs": [
        {
          "output_type": "stream",
          "name": "stdout",
          "text": [
            "Trial 10 Complete [00h 04m 53s]\n",
            "val_categorical_accuracy: 0.6863013505935669\n",
            "\n",
            "Best val_categorical_accuracy So Far: 0.6890410780906677\n",
            "Total elapsed time: 01h 02m 25s\n"
          ]
        }
      ]
    },
    {
      "cell_type": "markdown",
      "source": [
        "## Retrieve Best Hyperparameters and Train Model"
      ],
      "metadata": {
        "id": "4k-YXuDjJ3zx"
      }
    },
    {
      "cell_type": "code",
      "source": [
        "# Get the optimal hyperparameters\n",
        "best_hps = tuner.get_best_hyperparameters(num_trials=1)[0]\n",
        "print(f\"\"\"\n",
        "The optimal number of units in the first densely-connected layer is {best_hps.get('dense_units')}.\n",
        "The optimal LSTM size is {best_hps.get('lstm_size')}.\n",
        "The optimal number of mlp layers is {best_hps.get('mlp_layers')}.\n",
        "The optimal mlp units is {best_hps.get('mlp_units')}.\n",
        "The optimal dropout rate is {best_hps.get('dropout_rate')}.\n",
        "\"\"\")"
      ],
      "metadata": {
        "colab": {
          "base_uri": "https://localhost:8080/"
        },
        "id": "poaoQld-6yzx",
        "outputId": "85fc9260-e281-4121-ccee-6d99b6355ffc"
      },
      "execution_count": null,
      "outputs": [
        {
          "output_type": "stream",
          "name": "stdout",
          "text": [
            "\n",
            "The optimal number of units in the first densely-connected layer is 50.\n",
            "The optimal LSTM size is 200.\n",
            "The optimal number of mlp layers is 0.\n",
            "The optimal mlp units is 50.\n",
            "The optimal dropout rate is 0.2.\n",
            "\n"
          ]
        }
      ]
    },
    {
      "cell_type": "code",
      "source": [
        "# Train the model with the optimal hyperparameters\n",
        "model = tuner.hypermodel.build(best_hps)\n",
        "history = model.fit(train_data, y_train_1_hot,\n",
        "                    validation_data=(val_data, y_val_1_hot),\n",
        "                    batch_size=256,\n",
        "                    epochs=8,\n",
        "                    shuffle=True,\n",
        "                    callbacks=[stop_early])"
      ],
      "metadata": {
        "colab": {
          "base_uri": "https://localhost:8080/"
        },
        "id": "q6uHg3k-6yxK",
        "outputId": "209598d1-23f7-47a3-f20d-bb85b851ee5e"
      },
      "execution_count": null,
      "outputs": [
        {
          "output_type": "stream",
          "name": "stdout",
          "text": [
            "Epoch 1/8\n",
            "14/14 [==============================] - 250s 17s/step - loss: 0.9618 - categorical_accuracy: 0.5543 - val_loss: 0.8822 - val_categorical_accuracy: 0.6247\n",
            "Epoch 2/8\n",
            "14/14 [==============================] - 253s 18s/step - loss: 0.7552 - categorical_accuracy: 0.6799 - val_loss: 0.7585 - val_categorical_accuracy: 0.6753\n",
            "Epoch 3/8\n",
            "14/14 [==============================] - 247s 18s/step - loss: 0.6866 - categorical_accuracy: 0.7086 - val_loss: 0.7300 - val_categorical_accuracy: 0.6781\n",
            "Epoch 4/8\n",
            "14/14 [==============================] - 244s 17s/step - loss: 0.6402 - categorical_accuracy: 0.7365 - val_loss: 0.7234 - val_categorical_accuracy: 0.6822\n",
            "Epoch 5/8\n",
            "14/14 [==============================] - 250s 18s/step - loss: 0.5978 - categorical_accuracy: 0.7594 - val_loss: 0.7160 - val_categorical_accuracy: 0.6822\n",
            "Epoch 6/8\n",
            "14/14 [==============================] - 237s 17s/step - loss: 0.5639 - categorical_accuracy: 0.7744 - val_loss: 0.7533 - val_categorical_accuracy: 0.6959\n",
            "Epoch 7/8\n",
            "14/14 [==============================] - 244s 17s/step - loss: 0.5389 - categorical_accuracy: 0.7823 - val_loss: 0.7333 - val_categorical_accuracy: 0.6795\n",
            "Epoch 8/8\n",
            "14/14 [==============================] - 245s 18s/step - loss: 0.5155 - categorical_accuracy: 0.7920 - val_loss: 0.7411 - val_categorical_accuracy: 0.6781\n"
          ]
        }
      ]
    },
    {
      "cell_type": "code",
      "source": [
        "# Plotting training history\n",
        "import matplotlib.pyplot as plt\n",
        "\n",
        "plt.plot(history.history['categorical_accuracy'])\n",
        "plt.plot(history.history['val_categorical_accuracy'])\n",
        "plt.title('Model Accuracy')\n",
        "plt.ylabel('Accuracy')\n",
        "plt.xlabel('Epoch')\n",
        "plt.legend(['Train', 'Validation'], loc='upper left')\n",
        "plt.show()\n",
        "\n",
        "plt.plot(history.history['loss'])\n",
        "plt.plot(history.history['val_loss'])\n",
        "plt.title('Model Loss')\n",
        "plt.ylabel('Loss')\n",
        "plt.xlabel('Epoch')\n",
        "plt.legend(['Train', 'Validation'], loc='upper right')\n",
        "plt.show()"
      ],
      "metadata": {
        "colab": {
          "base_uri": "https://localhost:8080/",
          "height": 927
        },
        "id": "oYXloOvQ0iFe",
        "outputId": "dd7b1611-4277-4224-f01a-cf8e97b58421"
      },
      "execution_count": null,
      "outputs": [
        {
          "output_type": "display_data",
          "data": {
            "text/plain": [
              "<Figure size 640x480 with 1 Axes>"
            ],
            "image/png": "[encoded data removed]"
          },
          "metadata": {}
        },
        {
          "output_type": "display_data",
          "data": {
            "text/plain": [
              "<Figure size 640x480 with 1 Axes>"
            ],
            "image/png": "[encoded data removed]"
          },
          "metadata": {}
        }
      ]
    },
    {
      "cell_type": "code",
      "source": [
        "# Evaluate the model\n",
        "predictions = np.argmax(model.predict(test_data), -1)\n",
        "predictions_with_names = [label_to_name[label] for label in predictions]\n",
        "print(classification_report(y_test, predictions_with_names))"
      ],
      "metadata": {
        "colab": {
          "base_uri": "https://localhost:8080/"
        },
        "id": "y2R6M6MK7Ept",
        "outputId": "f72b9560-f4c4-4c10-bcdf-cea9bd118bb7"
      },
      "execution_count": null,
      "outputs": [
        {
          "output_type": "stream",
          "name": "stdout",
          "text": [
            "23/23 [==============================] - 37s 2s/step\n",
            "              precision    recall  f1-score   support\n",
            "\n",
            "    negative       0.74      0.67      0.70       221\n",
            "     neutral       0.69      0.63      0.66       273\n",
            "    positive       0.73      0.88      0.80       237\n",
            "\n",
            "    accuracy                           0.72       731\n",
            "   macro avg       0.72      0.72      0.72       731\n",
            "weighted avg       0.72      0.72      0.72       731\n",
            "\n"
          ]
        }
      ]
    }
  ]
}