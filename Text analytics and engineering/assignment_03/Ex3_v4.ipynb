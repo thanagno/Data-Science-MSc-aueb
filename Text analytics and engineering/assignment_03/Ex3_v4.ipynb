{
  "cells": [
    {
      "cell_type": "markdown",
      "source": [
        "# AUEB M.Sc. in Data Science (part-time)\n",
        "\n",
        "### 2024.04 - 2024.06\n",
        "\n",
        "## PROJECT 03: Develop a sentiment classifier for a kind of texts of your choice\n",
        "\n",
        "\n",
        "**Course**: Text Analytics   \n",
        "**Authors**:\n",
        "Anagnos Theodoros (p3352323) -\n",
        "Michalopoulos Ioannis (p3352314) -\n",
        "Kafantaris Panagiotis (p3352328) -  \n",
        "Vigkos Ioannis (p3352326)\n",
        "\n",
        "**Date**: 2024-04-29"
      ],
      "metadata": {
        "id": "tK3BwlKbHtta"
      }
    },
    {
      "cell_type": "markdown",
      "metadata": {
        "id": "cIsQ1YDRGI4w"
      },
      "source": [
        "# Assignment 09"
      ]
    },
    {
      "cell_type": "code",
      "execution_count": null,
      "metadata": {
        "id": "EVs-34KdGI4x"
      },
      "outputs": [],
      "source": [
        "import pandas as pd\n",
        "import numpy as np\n",
        "import zipfile\n",
        "\n",
        "df = pd.read_excel('LabeledText.xlsx')"
      ]
    },
    {
      "cell_type": "code",
      "execution_count": null,
      "metadata": {
        "id": "3kDRRb3iGI4y"
      },
      "outputs": [],
      "source": [
        "# Set display options to show all columns and rows\n",
        "pd.set_option('display.max_columns', None)\n",
        "pd.set_option('display.max_rows', None)\n",
        "pd.set_option('display.max_colwidth', None)"
      ]
    },
    {
      "cell_type": "code",
      "execution_count": null,
      "metadata": {
        "id": "0WH6I3fqGI4y"
      },
      "outputs": [],
      "source": [
        "#keep only the columns we need\n",
        "df=df[['Caption','LABEL']]"
      ]
    },
    {
      "cell_type": "code",
      "execution_count": null,
      "metadata": {
        "colab": {
          "base_uri": "https://localhost:8080/",
          "height": 276
        },
        "id": "pukTlzITGI4y",
        "outputId": "bd78ea5e-8f66-4ee5-bc8b-22d0dbcfa938"
      },
      "outputs": [
        {
          "output_type": "stream",
          "name": "stdout",
          "text": [
            "Categories\n",
            "['negative' 'positive' 'neutral']\n",
            "-------------\n",
            "Dataset Sample\n"
          ]
        },
        {
          "output_type": "execute_result",
          "data": {
            "text/plain": [
              "                                                                                                                 Caption  \\\n",
              "0                                                                          How I feel today #legday #jelly #aching #gym    \n",
              "1                    @ArrivaTW absolute disgrace two carriages from Bangor half way there standing room only #disgraced    \n",
              "2  This is my Valentine's from 1 of my nephews. I am elated; sometimes the little things are the biggest & best things!    \n",
              "3                          betterfeelingfilms: RT via Instagram: First day of filming #powerless back in 2011. Can't ¡­    \n",
              "4                                                                             Zoe's first love #Rattled @JohnnyHarper15    \n",
              "\n",
              "      LABEL  \n",
              "0  negative  \n",
              "1  negative  \n",
              "2  positive  \n",
              "3   neutral  \n",
              "4  positive  "
            ],
            "text/html": [
              "\n",
              "  <div id=\"df-a759e616-2097-42f3-b4ba-2c318166dd3b\" class=\"colab-df-container\">\n",
              "    <div>\n",
              "<style scoped>\n",
              "    .dataframe tbody tr th:only-of-type {\n",
              "        vertical-align: middle;\n",
              "    }\n",
              "\n",
              "    .dataframe tbody tr th {\n",
              "        vertical-align: top;\n",
              "    }\n",
              "\n",
              "    .dataframe thead th {\n",
              "        text-align: right;\n",
              "    }\n",
              "</style>\n",
              "<table border=\"1\" class=\"dataframe\">\n",
              "  <thead>\n",
              "    <tr style=\"text-align: right;\">\n",
              "      <th></th>\n",
              "      <th>Caption</th>\n",
              "      <th>LABEL</th>\n",
              "    </tr>\n",
              "  </thead>\n",
              "  <tbody>\n",
              "    <tr>\n",
              "      <th>0</th>\n",
              "      <td>How I feel today #legday #jelly #aching #gym</td>\n",
              "      <td>negative</td>\n",
              "    </tr>\n",
              "    <tr>\n",
              "      <th>1</th>\n",
              "      <td>@ArrivaTW absolute disgrace two carriages from Bangor half way there standing room only #disgraced</td>\n",
              "      <td>negative</td>\n",
              "    </tr>\n",
              "    <tr>\n",
              "      <th>2</th>\n",
              "      <td>This is my Valentine's from 1 of my nephews. I am elated; sometimes the little things are the biggest &amp; best things!</td>\n",
              "      <td>positive</td>\n",
              "    </tr>\n",
              "    <tr>\n",
              "      <th>3</th>\n",
              "      <td>betterfeelingfilms: RT via Instagram: First day of filming #powerless back in 2011. Can't ¡­</td>\n",
              "      <td>neutral</td>\n",
              "    </tr>\n",
              "    <tr>\n",
              "      <th>4</th>\n",
              "      <td>Zoe's first love #Rattled @JohnnyHarper15</td>\n",
              "      <td>positive</td>\n",
              "    </tr>\n",
              "  </tbody>\n",
              "</table>\n",
              "</div>\n",
              "    <div class=\"colab-df-buttons\">\n",
              "\n",
              "  <div class=\"colab-df-container\">\n",
              "    <button class=\"colab-df-convert\" onclick=\"convertToInteractive('df-a759e616-2097-42f3-b4ba-2c318166dd3b')\"\n",
              "            title=\"Convert this dataframe to an interactive table.\"\n",
              "            style=\"display:none;\">\n",
              "\n",
              "  <svg xmlns=\"http://www.w3.org/2000/svg\" height=\"24px\" viewBox=\"0 -960 960 960\">\n",
              "    <path d=\"M120-120v-720h720v720H120Zm60-500h600v-160H180v160Zm220 220h160v-160H400v160Zm0 220h160v-160H400v160ZM180-400h160v-160H180v160Zm440 0h160v-160H620v160ZM180-180h160v-160H180v160Zm440 0h160v-160H620v160Z\"/>\n",
              "  </svg>\n",
              "    </button>\n",
              "\n",
              "  <style>\n",
              "    .colab-df-container {\n",
              "      display:flex;\n",
              "      gap: 12px;\n",
              "    }\n",
              "\n",
              "    .colab-df-convert {\n",
              "      background-color: #E8F0FE;\n",
              "      border: none;\n",
              "      border-radius: 50%;\n",
              "      cursor: pointer;\n",
              "      display: none;\n",
              "      fill: #1967D2;\n",
              "      height: 32px;\n",
              "      padding: 0 0 0 0;\n",
              "      width: 32px;\n",
              "    }\n",
              "\n",
              "    .colab-df-convert:hover {\n",
              "      background-color: #E2EBFA;\n",
              "      box-shadow: 0px 1px 2px rgba(60, 64, 67, 0.3), 0px 1px 3px 1px rgba(60, 64, 67, 0.15);\n",
              "      fill: #174EA6;\n",
              "    }\n",
              "\n",
              "    .colab-df-buttons div {\n",
              "      margin-bottom: 4px;\n",
              "    }\n",
              "\n",
              "    [theme=dark] .colab-df-convert {\n",
              "      background-color: #3B4455;\n",
              "      fill: #D2E3FC;\n",
              "    }\n",
              "\n",
              "    [theme=dark] .colab-df-convert:hover {\n",
              "      background-color: #434B5C;\n",
              "      box-shadow: 0px 1px 3px 1px rgba(0, 0, 0, 0.15);\n",
              "      filter: drop-shadow(0px 1px 2px rgba(0, 0, 0, 0.3));\n",
              "      fill: #FFFFFF;\n",
              "    }\n",
              "  </style>\n",
              "\n",
              "    <script>\n",
              "      const buttonEl =\n",
              "        document.querySelector('#df-a759e616-2097-42f3-b4ba-2c318166dd3b button.colab-df-convert');\n",
              "      buttonEl.style.display =\n",
              "        google.colab.kernel.accessAllowed ? 'block' : 'none';\n",
              "\n",
              "      async function convertToInteractive(key) {\n",
              "        const element = document.querySelector('#df-a759e616-2097-42f3-b4ba-2c318166dd3b');\n",
              "        const dataTable =\n",
              "          await google.colab.kernel.invokeFunction('convertToInteractive',\n",
              "                                                    [key], {});\n",
              "        if (!dataTable) return;\n",
              "\n",
              "        const docLinkHtml = 'Like what you see? Visit the ' +\n",
              "          '<a target=\"_blank\" href=https://colab.research.google.com/notebooks/data_table.ipynb>data table notebook</a>'\n",
              "          + ' to learn more about interactive tables.';\n",
              "        element.innerHTML = '';\n",
              "        dataTable['output_type'] = 'display_data';\n",
              "        await google.colab.output.renderOutput(dataTable, element);\n",
              "        const docLink = document.createElement('div');\n",
              "        docLink.innerHTML = docLinkHtml;\n",
              "        element.appendChild(docLink);\n",
              "      }\n",
              "    </script>\n",
              "  </div>\n",
              "\n",
              "\n",
              "<div id=\"df-93369e9c-9aaa-4e9a-b917-fe2840fb1c87\">\n",
              "  <button class=\"colab-df-quickchart\" onclick=\"quickchart('df-93369e9c-9aaa-4e9a-b917-fe2840fb1c87')\"\n",
              "            title=\"Suggest charts\"\n",
              "            style=\"display:none;\">\n",
              "\n",
              "<svg xmlns=\"http://www.w3.org/2000/svg\" height=\"24px\"viewBox=\"0 0 24 24\"\n",
              "     width=\"24px\">\n",
              "    <g>\n",
              "        <path d=\"M19 3H5c-1.1 0-2 .9-2 2v14c0 1.1.9 2 2 2h14c1.1 0 2-.9 2-2V5c0-1.1-.9-2-2-2zM9 17H7v-7h2v7zm4 0h-2V7h2v10zm4 0h-2v-4h2v4z\"/>\n",
              "    </g>\n",
              "</svg>\n",
              "  </button>\n",
              "\n",
              "<style>\n",
              "  .colab-df-quickchart {\n",
              "      --bg-color: #E8F0FE;\n",
              "      --fill-color: #1967D2;\n",
              "      --hover-bg-color: #E2EBFA;\n",
              "      --hover-fill-color: #174EA6;\n",
              "      --disabled-fill-color: #AAA;\n",
              "      --disabled-bg-color: #DDD;\n",
              "  }\n",
              "\n",
              "  [theme=dark] .colab-df-quickchart {\n",
              "      --bg-color: #3B4455;\n",
              "      --fill-color: #D2E3FC;\n",
              "      --hover-bg-color: #434B5C;\n",
              "      --hover-fill-color: #FFFFFF;\n",
              "      --disabled-bg-color: #3B4455;\n",
              "      --disabled-fill-color: #666;\n",
              "  }\n",
              "\n",
              "  .colab-df-quickchart {\n",
              "    background-color: var(--bg-color);\n",
              "    border: none;\n",
              "    border-radius: 50%;\n",
              "    cursor: pointer;\n",
              "    display: none;\n",
              "    fill: var(--fill-color);\n",
              "    height: 32px;\n",
              "    padding: 0;\n",
              "    width: 32px;\n",
              "  }\n",
              "\n",
              "  .colab-df-quickchart:hover {\n",
              "    background-color: var(--hover-bg-color);\n",
              "    box-shadow: 0 1px 2px rgba(60, 64, 67, 0.3), 0 1px 3px 1px rgba(60, 64, 67, 0.15);\n",
              "    fill: var(--button-hover-fill-color);\n",
              "  }\n",
              "\n",
              "  .colab-df-quickchart-complete:disabled,\n",
              "  .colab-df-quickchart-complete:disabled:hover {\n",
              "    background-color: var(--disabled-bg-color);\n",
              "    fill: var(--disabled-fill-color);\n",
              "    box-shadow: none;\n",
              "  }\n",
              "\n",
              "  .colab-df-spinner {\n",
              "    border: 2px solid var(--fill-color);\n",
              "    border-color: transparent;\n",
              "    border-bottom-color: var(--fill-color);\n",
              "    animation:\n",
              "      spin 1s steps(1) infinite;\n",
              "  }\n",
              "\n",
              "  @keyframes spin {\n",
              "    0% {\n",
              "      border-color: transparent;\n",
              "      border-bottom-color: var(--fill-color);\n",
              "      border-left-color: var(--fill-color);\n",
              "    }\n",
              "    20% {\n",
              "      border-color: transparent;\n",
              "      border-left-color: var(--fill-color);\n",
              "      border-top-color: var(--fill-color);\n",
              "    }\n",
              "    30% {\n",
              "      border-color: transparent;\n",
              "      border-left-color: var(--fill-color);\n",
              "      border-top-color: var(--fill-color);\n",
              "      border-right-color: var(--fill-color);\n",
              "    }\n",
              "    40% {\n",
              "      border-color: transparent;\n",
              "      border-right-color: var(--fill-color);\n",
              "      border-top-color: var(--fill-color);\n",
              "    }\n",
              "    60% {\n",
              "      border-color: transparent;\n",
              "      border-right-color: var(--fill-color);\n",
              "    }\n",
              "    80% {\n",
              "      border-color: transparent;\n",
              "      border-right-color: var(--fill-color);\n",
              "      border-bottom-color: var(--fill-color);\n",
              "    }\n",
              "    90% {\n",
              "      border-color: transparent;\n",
              "      border-bottom-color: var(--fill-color);\n",
              "    }\n",
              "  }\n",
              "</style>\n",
              "\n",
              "  <script>\n",
              "    async function quickchart(key) {\n",
              "      const quickchartButtonEl =\n",
              "        document.querySelector('#' + key + ' button');\n",
              "      quickchartButtonEl.disabled = true;  // To prevent multiple clicks.\n",
              "      quickchartButtonEl.classList.add('colab-df-spinner');\n",
              "      try {\n",
              "        const charts = await google.colab.kernel.invokeFunction(\n",
              "            'suggestCharts', [key], {});\n",
              "      } catch (error) {\n",
              "        console.error('Error during call to suggestCharts:', error);\n",
              "      }\n",
              "      quickchartButtonEl.classList.remove('colab-df-spinner');\n",
              "      quickchartButtonEl.classList.add('colab-df-quickchart-complete');\n",
              "    }\n",
              "    (() => {\n",
              "      let quickchartButtonEl =\n",
              "        document.querySelector('#df-93369e9c-9aaa-4e9a-b917-fe2840fb1c87 button');\n",
              "      quickchartButtonEl.style.display =\n",
              "        google.colab.kernel.accessAllowed ? 'block' : 'none';\n",
              "    })();\n",
              "  </script>\n",
              "</div>\n",
              "    </div>\n",
              "  </div>\n"
            ],
            "application/vnd.google.colaboratory.intrinsic+json": {
              "type": "dataframe",
              "variable_name": "df",
              "summary": "{\n  \"name\": \"df\",\n  \"rows\": 4869,\n  \"fields\": [\n    {\n      \"column\": \"Caption\",\n      \"properties\": {\n        \"dtype\": \"string\",\n        \"num_unique_values\": 4663,\n        \"samples\": [\n          \"This just turned my whole entire day around ??? ... One day she gone be mines \",\n          \"When your mirror foggy (me my self and lil sis ???????? \",\n          \"Absolutely incensed by this cynical 50 Shades/Valentine cash-in at Tesco \"\n        ],\n        \"semantic_type\": \"\",\n        \"description\": \"\"\n      }\n    },\n    {\n      \"column\": \"LABEL\",\n      \"properties\": {\n        \"dtype\": \"category\",\n        \"num_unique_values\": 3,\n        \"samples\": [\n          \"negative\",\n          \"positive\",\n          \"neutral\"\n        ],\n        \"semantic_type\": \"\",\n        \"description\": \"\"\n      }\n    }\n  ]\n}"
            }
          },
          "metadata": {},
          "execution_count": 4
        }
      ],
      "source": [
        "# Print unique categories/labels in the dataset\n",
        "print('Categories')\n",
        "print(df.LABEL.unique())\n",
        "print(\"-------------\")\n",
        "\n",
        "# Print a sample of the dataset\n",
        "print('Dataset Sample')\n",
        "df.head()"
      ]
    },
    {
      "cell_type": "markdown",
      "metadata": {
        "id": "DFZZBmZlGI4z"
      },
      "source": [
        "## Data Cleansing"
      ]
    },
    {
      "cell_type": "markdown",
      "metadata": {
        "id": "xRfCfGmlGI4z"
      },
      "source": [
        "This section focuses on preparing the text data for analysis by performing various preprocessing steps. It includes tasks such as removing URLs, HTML tags, punctuation, numbers, and stop words, as well as expanding contractions and lemmatizing words. Additionally, it ensures consistency and standardization in the text data, which is essential for accurate and reliable natural language processing tasks, such as sentiment analysis.\n"
      ]
    },
    {
      "cell_type": "code",
      "execution_count": null,
      "metadata": {
        "id": "eGZVR1vQGI4z"
      },
      "outputs": [],
      "source": [
        "# Lowercase the data\n",
        "df['text_cleaned'] = df['Caption'].apply(lambda x: x.lower())"
      ]
    },
    {
      "cell_type": "code",
      "execution_count": null,
      "metadata": {
        "colab": {
          "base_uri": "https://localhost:8080/"
        },
        "id": "Rb-fQZzpGI40",
        "outputId": "af072d1a-0734-408e-d606-6d111b40f9b2"
      },
      "outputs": [
        {
          "output_type": "stream",
          "name": "stdout",
          "text": [
            "Requirement already satisfied: lxml in /usr/local/lib/python3.10/dist-packages (4.9.4)\n"
          ]
        },
        {
          "output_type": "stream",
          "name": "stderr",
          "text": [
            "<ipython-input-6-8b9b66f9a82c>:10: MarkupResemblesLocatorWarning: The input looks more like a filename than markup. You may want to open this file and pass the filehandle into Beautiful Soup.\n",
            "  df['text_cleaned'] = df['text_cleaned'].apply(lambda x: BeautifulSoup(x, \"html.parser\").text)\n"
          ]
        }
      ],
      "source": [
        "!pip install lxml\n",
        "\n",
        "import re\n",
        "from bs4 import BeautifulSoup\n",
        "\n",
        "# Removing URLs from the text\n",
        "df['text_cleaned'] = df['text_cleaned'].apply(lambda x: re.sub(r'http\\S+|www.\\S+', '', x))\n",
        "\n",
        "# Removing HTML tags from the text\n",
        "df['text_cleaned'] = df['text_cleaned'].apply(lambda x: BeautifulSoup(x, \"html.parser\").text)"
      ]
    },
    {
      "cell_type": "code",
      "execution_count": null,
      "metadata": {
        "id": "4Y0LtcBaGI40"
      },
      "outputs": [],
      "source": [
        "# Dictionary to convert common chat words to their full forms\n",
        "#There are many more chat words that can be added to this dictionary. These are some common examples.\n",
        "chat_words_dict = {\n",
        "    \"imo\": \"in my opinion\",\n",
        "     \"cyaa\": \"see you\",\n",
        "    \"idk\": \"I don't know\",\n",
        "    \"rn\": \"right now\",\n",
        "    \"afaik\": \"as far as I know\",\n",
        "\n",
        "}"
      ]
    },
    {
      "cell_type": "code",
      "execution_count": null,
      "metadata": {
        "id": "AfntdNPWGI40"
      },
      "outputs": [],
      "source": [
        "# Function that returns the text with chat words converted to their full forms\n",
        "\n",
        "def convert_chat_words(text):\n",
        "    words = text.split()\n",
        "    converted_words = []\n",
        "    for word in words:\n",
        "        if word.lower() in chat_words_dict:\n",
        "            converted_words.append(chat_words_dict[word.lower()])\n",
        "        else:\n",
        "            converted_words.append(word)\n",
        "    converted_text = \" \".join(converted_words)\n",
        "    return converted_text"
      ]
    },
    {
      "cell_type": "code",
      "execution_count": null,
      "metadata": {
        "id": "Wsb68t6oGI40"
      },
      "outputs": [],
      "source": [
        "df['text_cleaned'] = df['text_cleaned'].apply(convert_chat_words)"
      ]
    },
    {
      "cell_type": "code",
      "execution_count": null,
      "metadata": {
        "id": "7xzVvILtGI40"
      },
      "outputs": [],
      "source": [
        "# Removing punctuation\n",
        "import string\n",
        "df['text_cleaned'] = df['text_cleaned'].apply(lambda x: x.translate(str.maketrans('', '', string.punctuation)))\n",
        "\n",
        "# Removing numbers\n",
        "df['text_cleaned'] = df['text_cleaned'].apply(lambda x: re.sub(r'\\d+', '', x))\n",
        "\n",
        "# Removing extra spaces\n",
        "df['text_cleaned'] = df['text_cleaned'].apply(lambda x: ' '.join(x.split()))\n",
        "\n",
        "# Replacing repetitions of punctuation\n",
        "df['text_cleaned'] = df['text_cleaned'].apply(lambda x: re.sub(r'(\\W)\\1+', r'\\1', x))"
      ]
    },
    {
      "cell_type": "code",
      "execution_count": null,
      "metadata": {
        "id": "Bbvh77TvGI41"
      },
      "outputs": [],
      "source": [
        "# Removing special characters\n",
        "df['text_cleaned'] = df['text_cleaned'].apply(lambda x: re.sub(r\"[^\\w\\s]\", '', x))"
      ]
    },
    {
      "cell_type": "code",
      "execution_count": null,
      "metadata": {
        "colab": {
          "base_uri": "https://localhost:8080/"
        },
        "id": "uwgsAhAXGI41",
        "outputId": "5a185030-8076-45eb-95ff-cb9dceea6541"
      },
      "outputs": [
        {
          "output_type": "stream",
          "name": "stdout",
          "text": [
            "Collecting contractions\n",
            "  Downloading contractions-0.1.73-py2.py3-none-any.whl (8.7 kB)\n",
            "Collecting textsearch>=0.0.21 (from contractions)\n",
            "  Downloading textsearch-0.0.24-py2.py3-none-any.whl (7.6 kB)\n",
            "Collecting anyascii (from textsearch>=0.0.21->contractions)\n",
            "  Downloading anyascii-0.3.2-py3-none-any.whl (289 kB)\n",
            "\u001b[2K     \u001b[90m━━━━━━━━━━━━━━━━━━━━━━━━━━━━━━━━━━━━━━━━\u001b[0m \u001b[32m289.9/289.9 kB\u001b[0m \u001b[31m4.2 MB/s\u001b[0m eta \u001b[36m0:00:00\u001b[0m\n",
            "\u001b[?25hCollecting pyahocorasick (from textsearch>=0.0.21->contractions)\n",
            "  Downloading pyahocorasick-2.1.0-cp310-cp310-manylinux_2_5_x86_64.manylinux1_x86_64.manylinux_2_12_x86_64.manylinux2010_x86_64.whl (110 kB)\n",
            "\u001b[2K     \u001b[90m━━━━━━━━━━━━━━━━━━━━━━━━━━━━━━━━━━━━━━━━\u001b[0m \u001b[32m110.7/110.7 kB\u001b[0m \u001b[31m3.4 MB/s\u001b[0m eta \u001b[36m0:00:00\u001b[0m\n",
            "\u001b[?25hInstalling collected packages: pyahocorasick, anyascii, textsearch, contractions\n",
            "Successfully installed anyascii-0.3.2 contractions-0.1.73 pyahocorasick-2.1.0 textsearch-0.0.24\n"
          ]
        }
      ],
      "source": [
        "!pip install contractions\n",
        "\n",
        "# Removing contractions\n",
        "import contractions\n",
        "# Remove contractions from the 'text_cleaned' column\n",
        "df['text_cleaned'] = df['text_cleaned'].apply(lambda x: contractions.fix(x))"
      ]
    },
    {
      "cell_type": "code",
      "execution_count": null,
      "metadata": {
        "colab": {
          "base_uri": "https://localhost:8080/"
        },
        "id": "69MtwSaRGI41",
        "outputId": "dc14b669-1737-4ac0-dfe3-ec84277f4f7b"
      },
      "outputs": [
        {
          "output_type": "stream",
          "name": "stdout",
          "text": [
            "Requirement already satisfied: nltk in /usr/local/lib/python3.10/dist-packages (3.8.1)\n",
            "Requirement already satisfied: click in /usr/local/lib/python3.10/dist-packages (from nltk) (8.1.7)\n",
            "Requirement already satisfied: joblib in /usr/local/lib/python3.10/dist-packages (from nltk) (1.4.2)\n",
            "Requirement already satisfied: regex>=2021.8.3 in /usr/local/lib/python3.10/dist-packages (from nltk) (2023.12.25)\n",
            "Requirement already satisfied: tqdm in /usr/local/lib/python3.10/dist-packages (from nltk) (4.66.4)\n"
          ]
        },
        {
          "output_type": "stream",
          "name": "stderr",
          "text": [
            "[nltk_data] Downloading package punkt to /root/nltk_data...\n",
            "[nltk_data]   Unzipping tokenizers/punkt.zip.\n"
          ]
        }
      ],
      "source": [
        "!pip install nltk\n",
        "\n",
        "import nltk\n",
        "nltk.download('punkt')\n",
        "\n",
        "from nltk.tokenize import word_tokenize\n",
        "# Tokenization\n",
        "df['tokens'] = df['text_cleaned'].apply(lambda x: word_tokenize(x))"
      ]
    },
    {
      "cell_type": "code",
      "execution_count": null,
      "metadata": {
        "colab": {
          "base_uri": "https://localhost:8080/"
        },
        "id": "RGKfLX-UGI41",
        "outputId": "894a6c88-6b45-4e16-8368-0b9dcf74575b"
      },
      "outputs": [
        {
          "output_type": "stream",
          "name": "stderr",
          "text": [
            "[nltk_data] Downloading package stopwords to /root/nltk_data...\n",
            "[nltk_data]   Unzipping corpora/stopwords.zip.\n"
          ]
        },
        {
          "output_type": "execute_result",
          "data": {
            "text/plain": [
              "4849              [get, friday, night, look, sorted, newin, lbd, littleblackdress, strappy, plunge, neckline, mini, black, bodycon]\n",
              "4850                                                                                         [rt, nneagoe, love, caring, beautiful]\n",
              "4851               [february, winter, rainy, stormy, windy, wednesday, morning, love, happy, positive, passionate, reading, coffee]\n",
              "4852    [rt, thatguykai, honored, pittsburgh, pirates, consultant, coachotip, speak, ball, club, passionate, relentless, ownership]\n",
              "4853                                              [genghis, khan, ily, relatable, king, passionate, yeet, yas, sogengrn, apgenghis]\n",
              "4854                 [february, winter, rainy, stormy, windy, wednesday, evening, love, happy, positive, passionate, calm, fun, uk]\n",
              "4855                  [february, winter, rainy, stormy, windy, wednesday, evening, love, happy, positive, passionate, calm, coffee]\n",
              "4856                                                   [rt, bishopcarrollhs, great, bishopcarrollhs, students, caring, empowerbchs]\n",
              "4857                                         [big, thank, teachers, attended, isabcpdªso, nice, meet, passionate, educators, isabc]\n",
              "4858                                                                                                          [dave, looks, elated]\n",
              "4859                                                [dbel, scared, veryscared, holding, owt, hot, coming, nearer, david, petrified]\n",
              "4860                                           [completely, unique, petrified, palm, earrings, set, sterling, silver, fossil, gift]\n",
              "4861                                                               [rt, headquarters, fair, everything, makes, want, scream, anger]\n",
              "4862                                [fanghorn, forest, alder, woodland, glen, vorlich, lochearn, petrified, forest, lotr, scotland]\n",
              "4863                                                                                       [whisk, way, powerless, bakersgonnabake]\n",
              "4864                                                                   [omg, well, done, eskom, man, dies, loadshedding, powerless]\n",
              "4865                                                                                          [feelin, love, valentinesday, caring]\n",
              "4866                                                                                                           [blue, eyes, beaten]\n",
              "4867                                                                                      [la, chucha, louuu, te, chupo, los, ojos]\n",
              "4868                                      [colorsplashbw, zealous, remedios, herbales, tratamientos, naturales, remedios, herbales]\n",
              "Name: tokens, dtype: object"
            ]
          },
          "metadata": {},
          "execution_count": 14
        }
      ],
      "source": [
        "# Removing stop words\n",
        "\n",
        "nltk.download('stopwords')\n",
        "\n",
        "from nltk.corpus import stopwords\n",
        "\n",
        "# Loading English stop words\n",
        "stop_words = set(stopwords.words('english'))\n",
        "\n",
        "# Removing stop words from the 'tokens' column\n",
        "df['tokens'] = df['tokens'].apply(lambda x: [word for word in x if word not in stop_words])\n",
        "\n",
        "# Print the updated 'tokens' column\n",
        "df['tokens'].tail(20)"
      ]
    },
    {
      "cell_type": "code",
      "execution_count": null,
      "metadata": {
        "colab": {
          "base_uri": "https://localhost:8080/"
        },
        "id": "dJS5S5sNGI41",
        "outputId": "a5011791-49d8-4736-ab1c-8a369df3c8cf"
      },
      "outputs": [
        {
          "output_type": "stream",
          "name": "stderr",
          "text": [
            "[nltk_data] Downloading package wordnet to /root/nltk_data...\n",
            "[nltk_data] Downloading package averaged_perceptron_tagger to\n",
            "[nltk_data]     /root/nltk_data...\n",
            "[nltk_data]   Unzipping taggers/averaged_perceptron_tagger.zip.\n"
          ]
        }
      ],
      "source": [
        "import nltk\n",
        "nltk.download('wordnet')\n",
        "nltk.download('averaged_perceptron_tagger')\n",
        "\n",
        "from nltk.stem import WordNetLemmatizer\n",
        "from nltk.corpus import wordnet\n",
        "\n",
        "# Create an instance of WordNetLemmatizer\n",
        "lemmatizer = WordNetLemmatizer()\n",
        "# POS tag mapping dictionary\n",
        "wordnet_map = {\"N\": wordnet.NOUN, \"V\": wordnet.VERB, \"J\": wordnet.ADJ, \"R\": wordnet.ADV}\n",
        "\n",
        "# Function to perform Lemmatization on a text\n",
        "def lemmatize_text(text):\n",
        "    # Get the POS tags for the words\n",
        "    pos_tags = nltk.pos_tag(text)\n",
        "\n",
        "    # Perform Lemmatization\n",
        "    lemmatized_words = []\n",
        "    for word, tag in pos_tags:\n",
        "        # Map the POS tag to WordNet POS tag\n",
        "        pos = wordnet_map.get(tag[0].upper(), wordnet.NOUN)\n",
        "        # Lemmatize the word with the appropriate POS tag\n",
        "        lemmatized_word = lemmatizer.lemmatize(word, pos=pos)\n",
        "        # Add the lemmatized word to the list\n",
        "        lemmatized_words.append(lemmatized_word)\n",
        "\n",
        "    return lemmatized_words\n",
        "\n",
        "# Apply Lemmatization to the 'tokens' column\n",
        "df['tokens'] = df['tokens'].apply(lemmatize_text)"
      ]
    },
    {
      "cell_type": "code",
      "execution_count": null,
      "metadata": {
        "colab": {
          "base_uri": "https://localhost:8080/",
          "height": 241
        },
        "id": "wupZSOoDGI41",
        "outputId": "01eb1409-d1af-402e-e80b-a4b68673e0d7"
      },
      "outputs": [
        {
          "output_type": "execute_result",
          "data": {
            "text/plain": [
              "                                                                                                                 Caption  \\\n",
              "0                                                                          How I feel today #legday #jelly #aching #gym    \n",
              "1                    @ArrivaTW absolute disgrace two carriages from Bangor half way there standing room only #disgraced    \n",
              "2  This is my Valentine's from 1 of my nephews. I am elated; sometimes the little things are the biggest & best things!    \n",
              "3                          betterfeelingfilms: RT via Instagram: First day of filming #powerless back in 2011. Can't ¡­    \n",
              "4                                                                             Zoe's first love #Rattled @JohnnyHarper15    \n",
              "\n",
              "      LABEL  \\\n",
              "0  negative   \n",
              "1  negative   \n",
              "2  positive   \n",
              "3   neutral   \n",
              "4  positive   \n",
              "\n",
              "                                                                                                   text_cleaned  \\\n",
              "0                                                                      how i feel today legday jelly aching gym   \n",
              "1              arrivatw absolute disgrace two carriages from bangor half way there standing room only disgraced   \n",
              "2  this is my valentines from of my nephews i am elated sometimes the little things are the biggest best things   \n",
              "3                            betterfeelingfilms rt via instagram first day of filming powerless back in cannot    \n",
              "4                                                                          zoes first love rattled johnnyharper   \n",
              "\n",
              "                                                                                    tokens  \n",
              "0                                                  [feel, today, legday, jelly, ache, gym]  \n",
              "1  [arrivatw, absolute, disgrace, two, carriage, bangor, half, way, stand, room, disgrace]  \n",
              "2                   [valentine, nephew, elate, sometimes, little, thing, big, best, thing]  \n",
              "3              [betterfeelingfilms, rt, via, instagram, first, day, film, powerless, back]  \n",
              "4                                                [zoes, first, love, rattle, johnnyharper]  "
            ],
            "text/html": [
              "\n",
              "  <div id=\"df-45db4b37-26b3-4bf5-85f2-81effcf7c9d5\" class=\"colab-df-container\">\n",
              "    <div>\n",
              "<style scoped>\n",
              "    .dataframe tbody tr th:only-of-type {\n",
              "        vertical-align: middle;\n",
              "    }\n",
              "\n",
              "    .dataframe tbody tr th {\n",
              "        vertical-align: top;\n",
              "    }\n",
              "\n",
              "    .dataframe thead th {\n",
              "        text-align: right;\n",
              "    }\n",
              "</style>\n",
              "<table border=\"1\" class=\"dataframe\">\n",
              "  <thead>\n",
              "    <tr style=\"text-align: right;\">\n",
              "      <th></th>\n",
              "      <th>Caption</th>\n",
              "      <th>LABEL</th>\n",
              "      <th>text_cleaned</th>\n",
              "      <th>tokens</th>\n",
              "    </tr>\n",
              "  </thead>\n",
              "  <tbody>\n",
              "    <tr>\n",
              "      <th>0</th>\n",
              "      <td>How I feel today #legday #jelly #aching #gym</td>\n",
              "      <td>negative</td>\n",
              "      <td>how i feel today legday jelly aching gym</td>\n",
              "      <td>[feel, today, legday, jelly, ache, gym]</td>\n",
              "    </tr>\n",
              "    <tr>\n",
              "      <th>1</th>\n",
              "      <td>@ArrivaTW absolute disgrace two carriages from Bangor half way there standing room only #disgraced</td>\n",
              "      <td>negative</td>\n",
              "      <td>arrivatw absolute disgrace two carriages from bangor half way there standing room only disgraced</td>\n",
              "      <td>[arrivatw, absolute, disgrace, two, carriage, bangor, half, way, stand, room, disgrace]</td>\n",
              "    </tr>\n",
              "    <tr>\n",
              "      <th>2</th>\n",
              "      <td>This is my Valentine's from 1 of my nephews. I am elated; sometimes the little things are the biggest &amp; best things!</td>\n",
              "      <td>positive</td>\n",
              "      <td>this is my valentines from of my nephews i am elated sometimes the little things are the biggest best things</td>\n",
              "      <td>[valentine, nephew, elate, sometimes, little, thing, big, best, thing]</td>\n",
              "    </tr>\n",
              "    <tr>\n",
              "      <th>3</th>\n",
              "      <td>betterfeelingfilms: RT via Instagram: First day of filming #powerless back in 2011. Can't ¡­</td>\n",
              "      <td>neutral</td>\n",
              "      <td>betterfeelingfilms rt via instagram first day of filming powerless back in cannot</td>\n",
              "      <td>[betterfeelingfilms, rt, via, instagram, first, day, film, powerless, back]</td>\n",
              "    </tr>\n",
              "    <tr>\n",
              "      <th>4</th>\n",
              "      <td>Zoe's first love #Rattled @JohnnyHarper15</td>\n",
              "      <td>positive</td>\n",
              "      <td>zoes first love rattled johnnyharper</td>\n",
              "      <td>[zoes, first, love, rattle, johnnyharper]</td>\n",
              "    </tr>\n",
              "  </tbody>\n",
              "</table>\n",
              "</div>\n",
              "    <div class=\"colab-df-buttons\">\n",
              "\n",
              "  <div class=\"colab-df-container\">\n",
              "    <button class=\"colab-df-convert\" onclick=\"convertToInteractive('df-45db4b37-26b3-4bf5-85f2-81effcf7c9d5')\"\n",
              "            title=\"Convert this dataframe to an interactive table.\"\n",
              "            style=\"display:none;\">\n",
              "\n",
              "  <svg xmlns=\"http://www.w3.org/2000/svg\" height=\"24px\" viewBox=\"0 -960 960 960\">\n",
              "    <path d=\"M120-120v-720h720v720H120Zm60-500h600v-160H180v160Zm220 220h160v-160H400v160Zm0 220h160v-160H400v160ZM180-400h160v-160H180v160Zm440 0h160v-160H620v160ZM180-180h160v-160H180v160Zm440 0h160v-160H620v160Z\"/>\n",
              "  </svg>\n",
              "    </button>\n",
              "\n",
              "  <style>\n",
              "    .colab-df-container {\n",
              "      display:flex;\n",
              "      gap: 12px;\n",
              "    }\n",
              "\n",
              "    .colab-df-convert {\n",
              "      background-color: #E8F0FE;\n",
              "      border: none;\n",
              "      border-radius: 50%;\n",
              "      cursor: pointer;\n",
              "      display: none;\n",
              "      fill: #1967D2;\n",
              "      height: 32px;\n",
              "      padding: 0 0 0 0;\n",
              "      width: 32px;\n",
              "    }\n",
              "\n",
              "    .colab-df-convert:hover {\n",
              "      background-color: #E2EBFA;\n",
              "      box-shadow: 0px 1px 2px rgba(60, 64, 67, 0.3), 0px 1px 3px 1px rgba(60, 64, 67, 0.15);\n",
              "      fill: #174EA6;\n",
              "    }\n",
              "\n",
              "    .colab-df-buttons div {\n",
              "      margin-bottom: 4px;\n",
              "    }\n",
              "\n",
              "    [theme=dark] .colab-df-convert {\n",
              "      background-color: #3B4455;\n",
              "      fill: #D2E3FC;\n",
              "    }\n",
              "\n",
              "    [theme=dark] .colab-df-convert:hover {\n",
              "      background-color: #434B5C;\n",
              "      box-shadow: 0px 1px 3px 1px rgba(0, 0, 0, 0.15);\n",
              "      filter: drop-shadow(0px 1px 2px rgba(0, 0, 0, 0.3));\n",
              "      fill: #FFFFFF;\n",
              "    }\n",
              "  </style>\n",
              "\n",
              "    <script>\n",
              "      const buttonEl =\n",
              "        document.querySelector('#df-45db4b37-26b3-4bf5-85f2-81effcf7c9d5 button.colab-df-convert');\n",
              "      buttonEl.style.display =\n",
              "        google.colab.kernel.accessAllowed ? 'block' : 'none';\n",
              "\n",
              "      async function convertToInteractive(key) {\n",
              "        const element = document.querySelector('#df-45db4b37-26b3-4bf5-85f2-81effcf7c9d5');\n",
              "        const dataTable =\n",
              "          await google.colab.kernel.invokeFunction('convertToInteractive',\n",
              "                                                    [key], {});\n",
              "        if (!dataTable) return;\n",
              "\n",
              "        const docLinkHtml = 'Like what you see? Visit the ' +\n",
              "          '<a target=\"_blank\" href=https://colab.research.google.com/notebooks/data_table.ipynb>data table notebook</a>'\n",
              "          + ' to learn more about interactive tables.';\n",
              "        element.innerHTML = '';\n",
              "        dataTable['output_type'] = 'display_data';\n",
              "        await google.colab.output.renderOutput(dataTable, element);\n",
              "        const docLink = document.createElement('div');\n",
              "        docLink.innerHTML = docLinkHtml;\n",
              "        element.appendChild(docLink);\n",
              "      }\n",
              "    </script>\n",
              "  </div>\n",
              "\n",
              "\n",
              "<div id=\"df-3c731503-31b8-48f6-8cbb-b9b49033523f\">\n",
              "  <button class=\"colab-df-quickchart\" onclick=\"quickchart('df-3c731503-31b8-48f6-8cbb-b9b49033523f')\"\n",
              "            title=\"Suggest charts\"\n",
              "            style=\"display:none;\">\n",
              "\n",
              "<svg xmlns=\"http://www.w3.org/2000/svg\" height=\"24px\"viewBox=\"0 0 24 24\"\n",
              "     width=\"24px\">\n",
              "    <g>\n",
              "        <path d=\"M19 3H5c-1.1 0-2 .9-2 2v14c0 1.1.9 2 2 2h14c1.1 0 2-.9 2-2V5c0-1.1-.9-2-2-2zM9 17H7v-7h2v7zm4 0h-2V7h2v10zm4 0h-2v-4h2v4z\"/>\n",
              "    </g>\n",
              "</svg>\n",
              "  </button>\n",
              "\n",
              "<style>\n",
              "  .colab-df-quickchart {\n",
              "      --bg-color: #E8F0FE;\n",
              "      --fill-color: #1967D2;\n",
              "      --hover-bg-color: #E2EBFA;\n",
              "      --hover-fill-color: #174EA6;\n",
              "      --disabled-fill-color: #AAA;\n",
              "      --disabled-bg-color: #DDD;\n",
              "  }\n",
              "\n",
              "  [theme=dark] .colab-df-quickchart {\n",
              "      --bg-color: #3B4455;\n",
              "      --fill-color: #D2E3FC;\n",
              "      --hover-bg-color: #434B5C;\n",
              "      --hover-fill-color: #FFFFFF;\n",
              "      --disabled-bg-color: #3B4455;\n",
              "      --disabled-fill-color: #666;\n",
              "  }\n",
              "\n",
              "  .colab-df-quickchart {\n",
              "    background-color: var(--bg-color);\n",
              "    border: none;\n",
              "    border-radius: 50%;\n",
              "    cursor: pointer;\n",
              "    display: none;\n",
              "    fill: var(--fill-color);\n",
              "    height: 32px;\n",
              "    padding: 0;\n",
              "    width: 32px;\n",
              "  }\n",
              "\n",
              "  .colab-df-quickchart:hover {\n",
              "    background-color: var(--hover-bg-color);\n",
              "    box-shadow: 0 1px 2px rgba(60, 64, 67, 0.3), 0 1px 3px 1px rgba(60, 64, 67, 0.15);\n",
              "    fill: var(--button-hover-fill-color);\n",
              "  }\n",
              "\n",
              "  .colab-df-quickchart-complete:disabled,\n",
              "  .colab-df-quickchart-complete:disabled:hover {\n",
              "    background-color: var(--disabled-bg-color);\n",
              "    fill: var(--disabled-fill-color);\n",
              "    box-shadow: none;\n",
              "  }\n",
              "\n",
              "  .colab-df-spinner {\n",
              "    border: 2px solid var(--fill-color);\n",
              "    border-color: transparent;\n",
              "    border-bottom-color: var(--fill-color);\n",
              "    animation:\n",
              "      spin 1s steps(1) infinite;\n",
              "  }\n",
              "\n",
              "  @keyframes spin {\n",
              "    0% {\n",
              "      border-color: transparent;\n",
              "      border-bottom-color: var(--fill-color);\n",
              "      border-left-color: var(--fill-color);\n",
              "    }\n",
              "    20% {\n",
              "      border-color: transparent;\n",
              "      border-left-color: var(--fill-color);\n",
              "      border-top-color: var(--fill-color);\n",
              "    }\n",
              "    30% {\n",
              "      border-color: transparent;\n",
              "      border-left-color: var(--fill-color);\n",
              "      border-top-color: var(--fill-color);\n",
              "      border-right-color: var(--fill-color);\n",
              "    }\n",
              "    40% {\n",
              "      border-color: transparent;\n",
              "      border-right-color: var(--fill-color);\n",
              "      border-top-color: var(--fill-color);\n",
              "    }\n",
              "    60% {\n",
              "      border-color: transparent;\n",
              "      border-right-color: var(--fill-color);\n",
              "    }\n",
              "    80% {\n",
              "      border-color: transparent;\n",
              "      border-right-color: var(--fill-color);\n",
              "      border-bottom-color: var(--fill-color);\n",
              "    }\n",
              "    90% {\n",
              "      border-color: transparent;\n",
              "      border-bottom-color: var(--fill-color);\n",
              "    }\n",
              "  }\n",
              "</style>\n",
              "\n",
              "  <script>\n",
              "    async function quickchart(key) {\n",
              "      const quickchartButtonEl =\n",
              "        document.querySelector('#' + key + ' button');\n",
              "      quickchartButtonEl.disabled = true;  // To prevent multiple clicks.\n",
              "      quickchartButtonEl.classList.add('colab-df-spinner');\n",
              "      try {\n",
              "        const charts = await google.colab.kernel.invokeFunction(\n",
              "            'suggestCharts', [key], {});\n",
              "      } catch (error) {\n",
              "        console.error('Error during call to suggestCharts:', error);\n",
              "      }\n",
              "      quickchartButtonEl.classList.remove('colab-df-spinner');\n",
              "      quickchartButtonEl.classList.add('colab-df-quickchart-complete');\n",
              "    }\n",
              "    (() => {\n",
              "      let quickchartButtonEl =\n",
              "        document.querySelector('#df-3c731503-31b8-48f6-8cbb-b9b49033523f button');\n",
              "      quickchartButtonEl.style.display =\n",
              "        google.colab.kernel.accessAllowed ? 'block' : 'none';\n",
              "    })();\n",
              "  </script>\n",
              "</div>\n",
              "    </div>\n",
              "  </div>\n"
            ],
            "application/vnd.google.colaboratory.intrinsic+json": {
              "type": "dataframe",
              "variable_name": "df",
              "summary": "{\n  \"name\": \"df\",\n  \"rows\": 4869,\n  \"fields\": [\n    {\n      \"column\": \"Caption\",\n      \"properties\": {\n        \"dtype\": \"string\",\n        \"num_unique_values\": 4663,\n        \"samples\": [\n          \"This just turned my whole entire day around ??? ... One day she gone be mines \",\n          \"When your mirror foggy (me my self and lil sis ???????? \",\n          \"Absolutely incensed by this cynical 50 Shades/Valentine cash-in at Tesco \"\n        ],\n        \"semantic_type\": \"\",\n        \"description\": \"\"\n      }\n    },\n    {\n      \"column\": \"LABEL\",\n      \"properties\": {\n        \"dtype\": \"category\",\n        \"num_unique_values\": 3,\n        \"samples\": [\n          \"negative\",\n          \"positive\",\n          \"neutral\"\n        ],\n        \"semantic_type\": \"\",\n        \"description\": \"\"\n      }\n    },\n    {\n      \"column\": \"text_cleaned\",\n      \"properties\": {\n        \"dtype\": \"string\",\n        \"num_unique_values\": 4532,\n        \"samples\": [\n          \"rt bruk russian footballs miss charming stripped of title after being exposed as a racist neonazi\",\n          \"do you like vampiresforget twilightthe addiction abelferrara movie about good evil and catharsis\",\n          \"bit of bleakness bleak blackandwhite columns trees\"\n        ],\n        \"semantic_type\": \"\",\n        \"description\": \"\"\n      }\n    },\n    {\n      \"column\": \"tokens\",\n      \"properties\": {\n        \"dtype\": \"object\",\n        \"semantic_type\": \"\",\n        \"description\": \"\"\n      }\n    }\n  ]\n}"
            }
          },
          "metadata": {},
          "execution_count": 16
        }
      ],
      "source": [
        "df.head()"
      ]
    },
    {
      "cell_type": "markdown",
      "metadata": {
        "id": "nFsdWZAQGI42"
      },
      "source": [
        "## Train-Test split of dataset"
      ]
    },
    {
      "cell_type": "code",
      "execution_count": null,
      "metadata": {
        "id": "4Sn_n6DZGI42"
      },
      "outputs": [],
      "source": [
        "# Splitting the data into training and validation sets\n",
        "\n",
        "from sklearn.model_selection import train_test_split\n",
        "X_train, X_val, y_train, y_val = train_test_split(df.tokens,\n",
        "                                                  df.LABEL,\n",
        "                                                  test_size=0.3,\n",
        "                                                  random_state=12547392)"
      ]
    },
    {
      "cell_type": "code",
      "execution_count": null,
      "metadata": {
        "colab": {
          "base_uri": "https://localhost:8080/"
        },
        "id": "21b2-5HwGI42",
        "outputId": "4f323024-c76f-4b71-fb19-f6fb5d7f080e"
      },
      "outputs": [
        {
          "output_type": "stream",
          "name": "stdout",
          "text": [
            "1807             [rt, dallasblackcom, horrible, news, los, angeles, today, regard, khloes, estrange, husband, lamar, odom]\n",
            "1619                                                                                          [feel, desolate, take, quiz]\n",
            "526     [rt, bosshogswife, duckcommanderkidsdevo, release, today, book, much, fun, read, kiddos, chryssymama, excite, htt]\n",
            "915                                                                          [indias, modi, appal, temple, build, worship]\n",
            "3485                                                      [photo, photographer, get, rumble, jungle, beat, stone, gorilla]\n",
            "Name: tokens, dtype: object\n",
            "1807    negative\n",
            "1619    negative\n",
            "526     positive\n",
            "915     negative\n",
            "3485     neutral\n",
            "Name: LABEL, dtype: object\n"
          ]
        }
      ],
      "source": [
        "print(X_train.head())\n",
        "print(y_train.head())"
      ]
    },
    {
      "cell_type": "code",
      "execution_count": null,
      "metadata": {
        "colab": {
          "base_uri": "https://localhost:8080/"
        },
        "id": "-5phC1LQGI42",
        "outputId": "172e1089-c27b-4a60-d02a-5d81f89b9dbf"
      },
      "outputs": [
        {
          "output_type": "stream",
          "name": "stdout",
          "text": [
            "3408\n",
            "3408\n",
            "1461\n",
            "1461\n"
          ]
        }
      ],
      "source": [
        "# Printing the lengths of the training and validation sets\n",
        "\n",
        "print(len(X_train)) # Number of samples in the training set\n",
        "print(len(y_train))  # Number of labels in the training set\n",
        "print(len(X_val))  # Number of samples in the validation set\n",
        "print(len(y_val))  # Number of labels in the validation set"
      ]
    },
    {
      "cell_type": "markdown",
      "metadata": {
        "id": "BlE0XcgsGI42"
      },
      "source": [
        "## Create TF-IDF features and apply SVD"
      ]
    },
    {
      "cell_type": "markdown",
      "metadata": {
        "id": "QgshG6t_GI42"
      },
      "source": [
        "TF-IDF (Term Frequency-Inverse Document Frequency)\n",
        "TF-IDF measures word importance in a document compared to its frequency in a collection of documents. Higher scores indicate more relevance.\n",
        "\n",
        "SVD (Singular Value Decomposition)\n",
        "SVD reduces data dimensions while preserving important information. It's often used with TF-IDF matrices in text analysis to improve efficiency.\n"
      ]
    },
    {
      "cell_type": "code",
      "execution_count": null,
      "metadata": {
        "id": "v6TSjnb8GI42"
      },
      "outputs": [],
      "source": [
        "# Resetting the index of X_train and X_val\n",
        "# To ensure that they start from 0 and are consecutive after any previous operations that might have altered the index\n",
        "\n",
        "X_train.reset_index(drop=True, inplace=True)\n",
        "X_val.reset_index(drop=True, inplace=True)"
      ]
    },
    {
      "cell_type": "code",
      "execution_count": null,
      "metadata": {
        "id": "MCpS3ebjGI42"
      },
      "outputs": [],
      "source": [
        "# Resetting the index of y_train and y_val\n",
        "y_train.reset_index(drop=True, inplace=True)\n",
        "y_val.reset_index(drop=True, inplace=True)"
      ]
    },
    {
      "cell_type": "code",
      "execution_count": null,
      "metadata": {
        "colab": {
          "base_uri": "https://localhost:8080/"
        },
        "id": "vloOu8_qGI43",
        "outputId": "e67bd3dc-5066-4525-d498-9919e45f47eb"
      },
      "outputs": [
        {
          "output_type": "execute_result",
          "data": {
            "text/plain": [
              "0             [rt, dallasblackcom, horrible, news, los, angeles, today, regard, khloes, estrange, husband, lamar, odom]\n",
              "1                                                                                          [feel, desolate, take, quiz]\n",
              "2    [rt, bosshogswife, duckcommanderkidsdevo, release, today, book, much, fun, read, kiddos, chryssymama, excite, htt]\n",
              "3                                                                         [indias, modi, appal, temple, build, worship]\n",
              "4                                                      [photo, photographer, get, rumble, jungle, beat, stone, gorilla]\n",
              "Name: tokens, dtype: object"
            ]
          },
          "metadata": {},
          "execution_count": 22
        }
      ],
      "source": [
        "X_train.head()"
      ]
    },
    {
      "cell_type": "code",
      "execution_count": null,
      "metadata": {
        "colab": {
          "base_uri": "https://localhost:8080/"
        },
        "id": "sNy0NkswGI43",
        "outputId": "1f273a52-3b29-437d-8d6d-677a81bb562e"
      },
      "outputs": [
        {
          "output_type": "stream",
          "name": "stdout",
          "text": [
            "negative\n",
            "negative\n",
            "positive\n",
            "negative\n",
            "neutral\n"
          ]
        }
      ],
      "source": [
        "# Printing the first 5 items of y_train\n",
        "\n",
        "for item in y_train[:5]:\n",
        "    print(item)"
      ]
    },
    {
      "cell_type": "code",
      "execution_count": null,
      "metadata": {
        "colab": {
          "base_uri": "https://localhost:8080/"
        },
        "id": "Igs-BsOrGI43",
        "outputId": "62f45f30-8a00-47ac-fbca-821969a4e09c"
      },
      "outputs": [
        {
          "output_type": "stream",
          "name": "stdout",
          "text": [
            "(3408, 6000) <class 'scipy.sparse._csr.csr_matrix'>\n"
          ]
        }
      ],
      "source": [
        "# Importing TfidfVectorizer from scikit-learn\n",
        "from sklearn.feature_extraction.text import TfidfVectorizer\n",
        "\n",
        "#Use unigram & bi-gram tf*idf features\n",
        "# max_features=6000: Limiting the maximum number of features to 6000\n",
        "vectorizer = TfidfVectorizer(ngram_range=(1,2), max_features = 6000,\n",
        "                             sublinear_tf=True)\n",
        "\n",
        "# Transforming the tokenized text data into TF-IDF features for training set\n",
        "X_train_tfidf = vectorizer.fit_transform([\" \".join(x) for x in\n",
        "                                          X_train])\n",
        "\n",
        "# Transforming the tokenized text data into TF-IDF features for validation set\n",
        "X_val_tfidf = vectorizer.transform([\" \".join(x) for x in\n",
        "                                    X_val])\n",
        "print(X_train_tfidf.shape, type(X_train_tfidf))"
      ]
    },
    {
      "cell_type": "code",
      "execution_count": null,
      "metadata": {
        "id": "ES9VGR8-GI43"
      },
      "outputs": [],
      "source": [
        "#Reducing the number of dimensions from 5000 to 500\n",
        "from sklearn.decomposition import TruncatedSVD\n",
        "\n",
        "svd = TruncatedSVD(n_components=1000, random_state=4321)\n",
        "X_train_svd = svd.fit_transform(X_train_tfidf)\n",
        "X_val_svd = svd.transform(X_val_tfidf)"
      ]
    },
    {
      "cell_type": "markdown",
      "metadata": {
        "id": "GGcngnSfGI43"
      },
      "source": [
        "## Logistic Regression with and without SVD"
      ]
    },
    {
      "cell_type": "code",
      "execution_count": null,
      "metadata": {
        "id": "tMU6Ka3hGI43"
      },
      "outputs": [],
      "source": [
        "# Logistic Regression with SVD\n",
        "\n",
        "from sklearn.linear_model import LogisticRegression\n",
        "from sklearn.metrics import classification_report\n",
        "\n",
        "clf = LogisticRegression(solver=\"liblinear\")\n",
        "clf.fit(X_train_svd, y_train)\n",
        "\n",
        "predictions = clf.predict(X_val_svd)"
      ]
    },
    {
      "cell_type": "code",
      "execution_count": null,
      "metadata": {
        "colab": {
          "base_uri": "https://localhost:8080/"
        },
        "id": "hKchwpnIGI44",
        "outputId": "b503dffe-8e04-4c75-cbf6-5000b9468835"
      },
      "outputs": [
        {
          "output_type": "stream",
          "name": "stdout",
          "text": [
            "              precision    recall  f1-score   support\n",
            "\n",
            "    negative       0.66      0.55      0.60       426\n",
            "     neutral       0.59      0.67      0.63       552\n",
            "    positive       0.74      0.74      0.74       483\n",
            "\n",
            "    accuracy                           0.66      1461\n",
            "   macro avg       0.67      0.65      0.66      1461\n",
            "weighted avg       0.66      0.66      0.66      1461\n",
            "\n"
          ]
        }
      ],
      "source": [
        "print(classification_report(y_val, predictions))"
      ]
    },
    {
      "cell_type": "code",
      "execution_count": null,
      "metadata": {
        "colab": {
          "base_uri": "https://localhost:8080/"
        },
        "id": "eyOTnvULGI44",
        "outputId": "db166669-c45a-49c1-a5ef-70f7be7edbe1"
      },
      "outputs": [
        {
          "output_type": "stream",
          "name": "stdout",
          "text": [
            "              precision    recall  f1-score   support\n",
            "\n",
            "    negative       0.68      0.62      0.65       426\n",
            "     neutral       0.62      0.67      0.64       552\n",
            "    positive       0.75      0.73      0.74       483\n",
            "\n",
            "    accuracy                           0.68      1461\n",
            "   macro avg       0.68      0.68      0.68      1461\n",
            "weighted avg       0.68      0.68      0.68      1461\n",
            "\n"
          ]
        }
      ],
      "source": [
        "## Logistic Regression Without SVD\n",
        "\n",
        "from sklearn.linear_model import LogisticRegression\n",
        "from sklearn.metrics import classification_report\n",
        "\n",
        "clf = LogisticRegression(solver=\"liblinear\")\n",
        "clf.fit(X_train_tfidf, y_train)\n",
        "\n",
        "predictions = clf.predict(X_val_tfidf)\n",
        "# print(classification_report(y_val, predictions,\n",
        "#                             target_names=df.LABEL))\n",
        "\n",
        "print(classification_report(y_val, predictions))"
      ]
    },
    {
      "cell_type": "markdown",
      "metadata": {
        "id": "y7E5YwBCGI44"
      },
      "source": [
        "## MLP classifier in Keras"
      ]
    },
    {
      "cell_type": "markdown",
      "metadata": {
        "id": "lu4mRBshGI44"
      },
      "source": [
        "### 1-Hot Vectors"
      ]
    },
    {
      "cell_type": "code",
      "execution_count": null,
      "metadata": {
        "colab": {
          "base_uri": "https://localhost:8080/"
        },
        "id": "9bUUcETPGI44",
        "outputId": "bf88e311-4383-475d-ea57-ef961b4d3045"
      },
      "outputs": [
        {
          "output_type": "stream",
          "name": "stdout",
          "text": [
            "Index: 0  Category:  negative\n",
            "Index: 1  Category:  neutral\n",
            "Index: 2  Category:  positive\n",
            "-----------------------------------\n",
            "Label index: negative | 1-hot vector:  [1, 0, 0]\n",
            "Label index: positive | 1-hot vector:  [0, 0, 1]\n",
            "Label index: neutral | 1-hot vector:  [0, 1, 0]\n"
          ]
        }
      ],
      "source": [
        "y_train_1_hot = pd.get_dummies(y_train).values.tolist()\n",
        "\n",
        "\n",
        "#1-Hot to train set\n",
        "for i in range(len(y_train_1_hot)):\n",
        "    for j in range(3):\n",
        "        if y_train_1_hot[i][j]==True:\n",
        "            y_train_1_hot[i][j]=1\n",
        "        else:\n",
        "            y_train_1_hot[i][j]=0\n",
        "\n",
        "\n",
        "\n",
        "#1-Hot to validation set\n",
        "y_val_1_hot = pd.get_dummies(y_val).values.tolist()\n",
        "\n",
        "for i in range(len(y_val_1_hot)):\n",
        "    for j in range(3):\n",
        "        if y_val_1_hot[i][j]==True:\n",
        "            y_val_1_hot[i][j]=1\n",
        "        else:\n",
        "            y_val_1_hot[i][j]=0\n",
        "\n",
        "\n",
        "\n",
        "\n",
        "for i,name in enumerate (pd.get_dummies(y_train).columns):\n",
        "    print(\"Index:\",i,\" Category: \",name)\n",
        "\n",
        "print(\"-----------------------------------\")\n",
        "\n",
        "print(\"Label index: {} | 1-hot vector:  {}\".format(y_train[0],\n",
        "                                                   y_train_1_hot[0]))\n",
        "print(\"Label index: {} | 1-hot vector:  {}\".format(y_train[2],\n",
        "                                                   y_train_1_hot[2]))\n",
        "print(\"Label index: {} | 1-hot vector:  {}\".format(y_train.iloc[-3],\n",
        "                                                   y_train_1_hot[-3]))"
      ]
    },
    {
      "cell_type": "code",
      "execution_count": null,
      "metadata": {
        "id": "1aJWmSNFGI44"
      },
      "outputs": [],
      "source": [
        "# Convert y_train_1_hot from list to numpy array\n",
        "y_train_1_hot = np.array(y_train_1_hot)\n",
        "y_val_1_hot = np.array(y_val_1_hot)"
      ]
    },
    {
      "cell_type": "markdown",
      "metadata": {
        "id": "QFLwpI3CGI45"
      },
      "source": [
        "### Custom Keras callback for calculating f1, precision, recall at the end of each epoch"
      ]
    },
    {
      "cell_type": "code",
      "execution_count": null,
      "metadata": {
        "id": "bmnHYLq1GI45"
      },
      "outputs": [],
      "source": [
        "import tensorflow as tf\n",
        "from sklearn.metrics import f1_score, recall_score, precision_score\n",
        "import numpy as np\n",
        "import os\n",
        "\n",
        "\n",
        "class Metrics(tf.keras.callbacks.Callback):\n",
        "    def __init__(self, valid_data):\n",
        "        super(Metrics, self).__init__()\n",
        "        self.validation_data = valid_data\n",
        "\n",
        "    def on_epoch_end(self, epoch, logs=None):\n",
        "        logs = logs or {}\n",
        "\n",
        "        # Get predictions on validation data\n",
        "        val_predict = np.argmax(self.model.predict(self.validation_data[0]), -1)\n",
        "        val_targ = self.validation_data[1]\n",
        "        val_targ = tf.cast(val_targ,dtype=tf.float32)\n",
        "        # If val_targ is 1-hot\n",
        "        if len(val_targ.shape) == 2 and val_targ.shape[1] != 1:\n",
        "          val_targ = np.argmax(val_targ, -1)\n",
        "\n",
        "        _val_f1 = f1_score(val_targ, val_predict,average=\"weighted\")\n",
        "        _val_recall = recall_score(val_targ, val_predict,average=\"weighted\")\n",
        "        _val_precision = precision_score(val_targ, val_predict,average=\"weighted\")\n",
        "\n",
        "        logs['val_f1'] = _val_f1\n",
        "        logs['val_recall'] = _val_recall\n",
        "        logs['val_precision'] = _val_precision\n",
        "        print(\" — val_f1: %f — val_precision: %f — val_recall: %f\" % (_val_f1, _val_precision, _val_recall))\n",
        "        return"
      ]
    },
    {
      "cell_type": "markdown",
      "metadata": {
        "id": "R4LWX78WGI45"
      },
      "source": [
        "### MLP classifier in Keras using TF-IDF features"
      ]
    },
    {
      "cell_type": "code",
      "execution_count": null,
      "metadata": {
        "colab": {
          "base_uri": "https://localhost:8080/"
        },
        "id": "QcK_vuyDGI45",
        "outputId": "ee85d5ad-bcab-482c-8a65-0d0957aa7df2"
      },
      "outputs": [
        {
          "output_type": "stream",
          "name": "stdout",
          "text": [
            "Model: \"sequential\"\n",
            "_________________________________________________________________\n",
            " Layer (type)                Output Shape              Param #   \n",
            "=================================================================\n",
            " dense (Dense)               (None, 512)               512512    \n",
            "                                                                 \n",
            " dropout (Dropout)           (None, 512)               0         \n",
            "                                                                 \n",
            " dense_1 (Dense)             (None, 256)               131328    \n",
            "                                                                 \n",
            " dropout_1 (Dropout)         (None, 256)               0         \n",
            "                                                                 \n",
            " dense_2 (Dense)             (None, 3)                 771       \n",
            "                                                                 \n",
            "=================================================================\n",
            "Total params: 644611 (2.46 MB)\n",
            "Trainable params: 644611 (2.46 MB)\n",
            "Non-trainable params: 0 (0.00 Byte)\n",
            "_________________________________________________________________\n",
            "None\n",
            "Epoch 1/100\n",
            "46/46 [==============================] - 1s 9ms/step\n",
            " — val_f1: 0.408584 — val_precision: 0.635815 — val_recall: 0.488022\n",
            "\n",
            "Epoch 1: val_f1 improved from -inf to 0.40858, saving model to checkpoints/tfidf_mlp.weights.h5\n",
            "14/14 [==============================] - 6s 280ms/step - loss: 1.0942 - categorical_accuracy: 0.3753 - val_loss: 1.0795 - val_categorical_accuracy: 0.4880 - val_f1: 0.4086 - val_recall: 0.4880 - val_precision: 0.6358\n",
            "Epoch 2/100\n",
            "46/46 [==============================] - 0s 7ms/step\n",
            " — val_f1: 0.504856 — val_precision: 0.680537 — val_recall: 0.566051\n",
            "\n",
            "Epoch 2: val_f1 improved from 0.40858 to 0.50486, saving model to checkpoints/tfidf_mlp.weights.h5\n",
            "14/14 [==============================] - 2s 131ms/step - loss: 1.0601 - categorical_accuracy: 0.5229 - val_loss: 1.0376 - val_categorical_accuracy: 0.5661 - val_f1: 0.5049 - val_recall: 0.5661 - val_precision: 0.6805\n",
            "Epoch 3/100\n",
            "46/46 [==============================] - 0s 5ms/step\n",
            " — val_f1: 0.611024 — val_precision: 0.668640 — val_recall: 0.625599\n",
            "\n",
            "Epoch 3: val_f1 improved from 0.50486 to 0.61102, saving model to checkpoints/tfidf_mlp.weights.h5\n",
            "14/14 [==============================] - 1s 102ms/step - loss: 0.9693 - categorical_accuracy: 0.6769 - val_loss: 0.9220 - val_categorical_accuracy: 0.6256 - val_f1: 0.6110 - val_recall: 0.6256 - val_precision: 0.6686\n",
            "Epoch 4/100\n",
            "46/46 [==============================] - 0s 5ms/step\n",
            " — val_f1: 0.677245 — val_precision: 0.677520 — val_recall: 0.678303\n",
            "\n",
            "Epoch 4: val_f1 improved from 0.61102 to 0.67724, saving model to checkpoints/tfidf_mlp.weights.h5\n",
            "14/14 [==============================] - 1s 85ms/step - loss: 0.7603 - categorical_accuracy: 0.7814 - val_loss: 0.7655 - val_categorical_accuracy: 0.6783 - val_f1: 0.6772 - val_recall: 0.6783 - val_precision: 0.6775\n",
            "Epoch 5/100\n",
            "46/46 [==============================] - 0s 5ms/step\n",
            " — val_f1: 0.679506 — val_precision: 0.680399 — val_recall: 0.678987\n",
            "\n",
            "Epoch 5: val_f1 improved from 0.67724 to 0.67951, saving model to checkpoints/tfidf_mlp.weights.h5\n",
            "14/14 [==============================] - 1s 86ms/step - loss: 0.5309 - categorical_accuracy: 0.8239 - val_loss: 0.7159 - val_categorical_accuracy: 0.6790 - val_f1: 0.6795 - val_recall: 0.6790 - val_precision: 0.6804\n",
            "Epoch 6/100\n",
            "46/46 [==============================] - 0s 5ms/step\n",
            " — val_f1: 0.678909 — val_precision: 0.678503 — val_recall: 0.679671\n",
            "\n",
            "Epoch 6: val_f1 did not improve from 0.67951\n",
            "14/14 [==============================] - 2s 130ms/step - loss: 0.3974 - categorical_accuracy: 0.8624 - val_loss: 0.7422 - val_categorical_accuracy: 0.6797 - val_f1: 0.6789 - val_recall: 0.6797 - val_precision: 0.6785\n",
            "Epoch 7/100\n",
            "46/46 [==============================] - 0s 5ms/step\n",
            " — val_f1: 0.681240 — val_precision: 0.684609 — val_recall: 0.680356\n",
            "\n",
            "Epoch 7: val_f1 improved from 0.67951 to 0.68124, saving model to checkpoints/tfidf_mlp.weights.h5\n",
            "14/14 [==============================] - 2s 121ms/step - loss: 0.2969 - categorical_accuracy: 0.8994 - val_loss: 0.7786 - val_categorical_accuracy: 0.6804 - val_f1: 0.6812 - val_recall: 0.6804 - val_precision: 0.6846\n",
            "Epoch 8/100\n",
            "46/46 [==============================] - 1s 8ms/step\n",
            " — val_f1: 0.692170 — val_precision: 0.696256 — val_recall: 0.691307\n",
            "\n",
            "Epoch 8: val_f1 improved from 0.68124 to 0.69217, saving model to checkpoints/tfidf_mlp.weights.h5\n",
            "14/14 [==============================] - 2s 135ms/step - loss: 0.2397 - categorical_accuracy: 0.9252 - val_loss: 0.8166 - val_categorical_accuracy: 0.6913 - val_f1: 0.6922 - val_recall: 0.6913 - val_precision: 0.6963\n",
            "Epoch 9/100\n",
            "46/46 [==============================] - 0s 6ms/step\n",
            " — val_f1: 0.686061 — val_precision: 0.686580 — val_recall: 0.687201\n",
            "\n",
            "Epoch 9: val_f1 did not improve from 0.69217\n",
            "14/14 [==============================] - 2s 138ms/step - loss: 0.1940 - categorical_accuracy: 0.9437 - val_loss: 0.8706 - val_categorical_accuracy: 0.6872 - val_f1: 0.6861 - val_recall: 0.6872 - val_precision: 0.6866\n",
            "Epoch 10/100\n",
            "46/46 [==============================] - 1s 13ms/step\n",
            " — val_f1: 0.679756 — val_precision: 0.680109 — val_recall: 0.679671\n",
            "\n",
            "Epoch 10: val_f1 did not improve from 0.69217\n",
            "14/14 [==============================] - 3s 191ms/step - loss: 0.1674 - categorical_accuracy: 0.9498 - val_loss: 0.9068 - val_categorical_accuracy: 0.6797 - val_f1: 0.6798 - val_recall: 0.6797 - val_precision: 0.6801\n",
            "Epoch 11/100\n",
            "46/46 [==============================] - 0s 3ms/step\n",
            " — val_f1: 0.673978 — val_precision: 0.678024 — val_recall: 0.672827\n",
            "\n",
            "Epoch 11: val_f1 did not improve from 0.69217\n",
            "14/14 [==============================] - 1s 42ms/step - loss: 0.1365 - categorical_accuracy: 0.9636 - val_loss: 0.9551 - val_categorical_accuracy: 0.6728 - val_f1: 0.6740 - val_recall: 0.6728 - val_precision: 0.6780\n",
            "Epoch 12/100\n",
            "46/46 [==============================] - 0s 3ms/step\n",
            " — val_f1: 0.680551 — val_precision: 0.680256 — val_recall: 0.681040\n",
            "\n",
            "Epoch 12: val_f1 did not improve from 0.69217\n",
            "14/14 [==============================] - 1s 45ms/step - loss: 0.1035 - categorical_accuracy: 0.9792 - val_loss: 0.9935 - val_categorical_accuracy: 0.6810 - val_f1: 0.6806 - val_recall: 0.6810 - val_precision: 0.6803\n",
            "Epoch 13/100\n",
            "46/46 [==============================] - 0s 3ms/step\n",
            " — val_f1: 0.674775 — val_precision: 0.675611 — val_recall: 0.674880\n",
            "\n",
            "Epoch 13: val_f1 did not improve from 0.69217\n",
            "14/14 [==============================] - 1s 56ms/step - loss: 0.0968 - categorical_accuracy: 0.9762 - val_loss: 1.0361 - val_categorical_accuracy: 0.6749 - val_f1: 0.6748 - val_recall: 0.6749 - val_precision: 0.6756\n",
            "Epoch 14/100\n",
            "46/46 [==============================] - 0s 3ms/step\n",
            " — val_f1: 0.679358 — val_precision: 0.680077 — val_recall: 0.678987\n",
            "\n",
            "Epoch 14: val_f1 did not improve from 0.69217\n",
            "14/14 [==============================] - 1s 42ms/step - loss: 0.0731 - categorical_accuracy: 0.9865 - val_loss: 1.0672 - val_categorical_accuracy: 0.6790 - val_f1: 0.6794 - val_recall: 0.6790 - val_precision: 0.6801\n",
            "Epoch 15/100\n",
            "46/46 [==============================] - 0s 3ms/step\n",
            " — val_f1: 0.676049 — val_precision: 0.676757 — val_recall: 0.676249\n",
            "\n",
            "Epoch 15: val_f1 did not improve from 0.69217\n",
            "14/14 [==============================] - 1s 44ms/step - loss: 0.0610 - categorical_accuracy: 0.9871 - val_loss: 1.1062 - val_categorical_accuracy: 0.6762 - val_f1: 0.6760 - val_recall: 0.6762 - val_precision: 0.6768\n",
            "Epoch 16/100\n",
            "46/46 [==============================] - 0s 3ms/step\n",
            " — val_f1: 0.677169 — val_precision: 0.678485 — val_recall: 0.676934\n",
            "\n",
            "Epoch 16: val_f1 did not improve from 0.69217\n",
            "14/14 [==============================] - 1s 43ms/step - loss: 0.0582 - categorical_accuracy: 0.9877 - val_loss: 1.1371 - val_categorical_accuracy: 0.6769 - val_f1: 0.6772 - val_recall: 0.6769 - val_precision: 0.6785\n",
            "Epoch 17/100\n",
            "46/46 [==============================] - 0s 3ms/step\n",
            " — val_f1: 0.678589 — val_precision: 0.678851 — val_recall: 0.678987\n",
            "\n",
            "Epoch 17: val_f1 did not improve from 0.69217\n",
            "14/14 [==============================] - 1s 44ms/step - loss: 0.0524 - categorical_accuracy: 0.9897 - val_loss: 1.1543 - val_categorical_accuracy: 0.6790 - val_f1: 0.6786 - val_recall: 0.6790 - val_precision: 0.6789\n",
            "Epoch 18/100\n",
            "46/46 [==============================] - 0s 3ms/step\n",
            " — val_f1: 0.679077 — val_precision: 0.679657 — val_recall: 0.678987\n",
            "\n",
            "Epoch 18: val_f1 did not improve from 0.69217\n",
            "14/14 [==============================] - 1s 42ms/step - loss: 0.0494 - categorical_accuracy: 0.9891 - val_loss: 1.1660 - val_categorical_accuracy: 0.6790 - val_f1: 0.6791 - val_recall: 0.6790 - val_precision: 0.6797\n",
            "Epoch 19/100\n",
            "46/46 [==============================] - 0s 3ms/step\n",
            " — val_f1: 0.676875 — val_precision: 0.678457 — val_recall: 0.676934\n",
            "\n",
            "Epoch 19: val_f1 did not improve from 0.69217\n",
            "14/14 [==============================] - 1s 43ms/step - loss: 0.0462 - categorical_accuracy: 0.9891 - val_loss: 1.1947 - val_categorical_accuracy: 0.6769 - val_f1: 0.6769 - val_recall: 0.6769 - val_precision: 0.6785\n",
            "Epoch 20/100\n",
            "46/46 [==============================] - 0s 3ms/step\n",
            " — val_f1: 0.678221 — val_precision: 0.678660 — val_recall: 0.678303\n",
            "\n",
            "Epoch 20: val_f1 did not improve from 0.69217\n",
            "14/14 [==============================] - 1s 44ms/step - loss: 0.0432 - categorical_accuracy: 0.9912 - val_loss: 1.2121 - val_categorical_accuracy: 0.6783 - val_f1: 0.6782 - val_recall: 0.6783 - val_precision: 0.6787\n",
            "Epoch 21/100\n",
            "46/46 [==============================] - 0s 3ms/step\n",
            " — val_f1: 0.679224 — val_precision: 0.678998 — val_recall: 0.679671\n",
            "\n",
            "Epoch 21: val_f1 did not improve from 0.69217\n",
            "14/14 [==============================] - 1s 43ms/step - loss: 0.0434 - categorical_accuracy: 0.9924 - val_loss: 1.2367 - val_categorical_accuracy: 0.6797 - val_f1: 0.6792 - val_recall: 0.6797 - val_precision: 0.6790\n",
            "Epoch 22/100\n",
            "46/46 [==============================] - 0s 3ms/step\n",
            " — val_f1: 0.675357 — val_precision: 0.675400 — val_recall: 0.675565\n",
            "\n",
            "Epoch 22: val_f1 did not improve from 0.69217\n",
            "14/14 [==============================] - 1s 55ms/step - loss: 0.0381 - categorical_accuracy: 0.9927 - val_loss: 1.2430 - val_categorical_accuracy: 0.6756 - val_f1: 0.6754 - val_recall: 0.6756 - val_precision: 0.6754\n",
            "Epoch 23/100\n",
            "46/46 [==============================] - 0s 3ms/step\n",
            " — val_f1: 0.678436 — val_precision: 0.679127 — val_recall: 0.678303\n",
            "\n",
            "Epoch 23: val_f1 did not improve from 0.69217\n",
            "14/14 [==============================] - 1s 43ms/step - loss: 0.0389 - categorical_accuracy: 0.9915 - val_loss: 1.2519 - val_categorical_accuracy: 0.6783 - val_f1: 0.6784 - val_recall: 0.6783 - val_precision: 0.6791\n",
            "Epoch 24/100\n",
            "46/46 [==============================] - 0s 3ms/step\n",
            " — val_f1: 0.680216 — val_precision: 0.680966 — val_recall: 0.680356\n",
            "\n",
            "Epoch 24: val_f1 did not improve from 0.69217\n",
            "14/14 [==============================] - 1s 42ms/step - loss: 0.0285 - categorical_accuracy: 0.9947 - val_loss: 1.2740 - val_categorical_accuracy: 0.6804 - val_f1: 0.6802 - val_recall: 0.6804 - val_precision: 0.6810\n",
            "Epoch 25/100\n",
            "46/46 [==============================] - 0s 3ms/step\n",
            " — val_f1: 0.677473 — val_precision: 0.677169 — val_recall: 0.678303\n",
            "\n",
            "Epoch 25: val_f1 did not improve from 0.69217\n",
            "14/14 [==============================] - 1s 43ms/step - loss: 0.0348 - categorical_accuracy: 0.9933 - val_loss: 1.2928 - val_categorical_accuracy: 0.6783 - val_f1: 0.6775 - val_recall: 0.6783 - val_precision: 0.6772\n",
            "Epoch 26/100\n",
            "46/46 [==============================] - 0s 4ms/step\n",
            " — val_f1: 0.679132 — val_precision: 0.679818 — val_recall: 0.678987\n",
            "\n",
            "Epoch 26: val_f1 did not improve from 0.69217\n",
            "14/14 [==============================] - 1s 65ms/step - loss: 0.0344 - categorical_accuracy: 0.9912 - val_loss: 1.2876 - val_categorical_accuracy: 0.6790 - val_f1: 0.6791 - val_recall: 0.6790 - val_precision: 0.6798\n",
            "Epoch 27/100\n",
            "46/46 [==============================] - 0s 4ms/step\n",
            " — val_f1: 0.681594 — val_precision: 0.683296 — val_recall: 0.681725\n",
            "\n",
            "Epoch 27: val_f1 did not improve from 0.69217\n",
            "14/14 [==============================] - 1s 78ms/step - loss: 0.0355 - categorical_accuracy: 0.9930 - val_loss: 1.3022 - val_categorical_accuracy: 0.6817 - val_f1: 0.6816 - val_recall: 0.6817 - val_precision: 0.6833\n",
            "Epoch 28/100\n",
            "46/46 [==============================] - 0s 4ms/step\n",
            " — val_f1: 0.679587 — val_precision: 0.680833 — val_recall: 0.680356\n",
            "\n",
            "Epoch 28: val_f1 did not improve from 0.69217\n",
            "14/14 [==============================] - 1s 73ms/step - loss: 0.0300 - categorical_accuracy: 0.9941 - val_loss: 1.3090 - val_categorical_accuracy: 0.6804 - val_f1: 0.6796 - val_recall: 0.6804 - val_precision: 0.6808\n",
            "Epoch 29/100\n",
            "46/46 [==============================] - 0s 5ms/step\n",
            " — val_f1: 0.681572 — val_precision: 0.682003 — val_recall: 0.681725\n",
            "\n",
            "Epoch 29: val_f1 did not improve from 0.69217\n",
            "14/14 [==============================] - 1s 73ms/step - loss: 0.0298 - categorical_accuracy: 0.9927 - val_loss: 1.3157 - val_categorical_accuracy: 0.6817 - val_f1: 0.6816 - val_recall: 0.6817 - val_precision: 0.6820\n",
            "Epoch 30/100\n",
            "46/46 [==============================] - 0s 3ms/step\n",
            " — val_f1: 0.676555 — val_precision: 0.677411 — val_recall: 0.676934\n",
            "\n",
            "Epoch 30: val_f1 did not improve from 0.69217\n",
            "14/14 [==============================] - 1s 44ms/step - loss: 0.0261 - categorical_accuracy: 0.9933 - val_loss: 1.3341 - val_categorical_accuracy: 0.6769 - val_f1: 0.6766 - val_recall: 0.6769 - val_precision: 0.6774\n",
            "Epoch 31/100\n",
            "46/46 [==============================] - 0s 3ms/step\n",
            " — val_f1: 0.670188 — val_precision: 0.670663 — val_recall: 0.670773\n",
            "\n",
            "Epoch 31: val_f1 did not improve from 0.69217\n",
            "14/14 [==============================] - 1s 44ms/step - loss: 0.0269 - categorical_accuracy: 0.9938 - val_loss: 1.3470 - val_categorical_accuracy: 0.6708 - val_f1: 0.6702 - val_recall: 0.6708 - val_precision: 0.6707\n",
            "Epoch 32/100\n",
            "46/46 [==============================] - 0s 3ms/step\n",
            " — val_f1: 0.676412 — val_precision: 0.676105 — val_recall: 0.676934\n",
            "\n",
            "Epoch 32: val_f1 did not improve from 0.69217\n",
            "14/14 [==============================] - 1s 56ms/step - loss: 0.0297 - categorical_accuracy: 0.9935 - val_loss: 1.3547 - val_categorical_accuracy: 0.6769 - val_f1: 0.6764 - val_recall: 0.6769 - val_precision: 0.6761\n",
            "Epoch 33/100\n",
            "46/46 [==============================] - 0s 3ms/step\n",
            " — val_f1: 0.675561 — val_precision: 0.675444 — val_recall: 0.676249\n",
            "\n",
            "Epoch 33: val_f1 did not improve from 0.69217\n",
            "14/14 [==============================] - 1s 44ms/step - loss: 0.0270 - categorical_accuracy: 0.9950 - val_loss: 1.3611 - val_categorical_accuracy: 0.6762 - val_f1: 0.6756 - val_recall: 0.6762 - val_precision: 0.6754\n",
            "Epoch 34/100\n",
            "46/46 [==============================] - 0s 3ms/step\n",
            " — val_f1: 0.674836 — val_precision: 0.676121 — val_recall: 0.674880\n",
            "\n",
            "Epoch 34: val_f1 did not improve from 0.69217\n",
            "14/14 [==============================] - 1s 42ms/step - loss: 0.0258 - categorical_accuracy: 0.9944 - val_loss: 1.3720 - val_categorical_accuracy: 0.6749 - val_f1: 0.6748 - val_recall: 0.6749 - val_precision: 0.6761\n",
            "Epoch 35/100\n",
            "46/46 [==============================] - 0s 3ms/step\n",
            " — val_f1: 0.676850 — val_precision: 0.676797 — val_recall: 0.677618\n",
            "\n",
            "Epoch 35: val_f1 did not improve from 0.69217\n",
            "14/14 [==============================] - 1s 57ms/step - loss: 0.0259 - categorical_accuracy: 0.9938 - val_loss: 1.3882 - val_categorical_accuracy: 0.6776 - val_f1: 0.6769 - val_recall: 0.6776 - val_precision: 0.6768\n",
            "Epoch 36/100\n",
            "46/46 [==============================] - 0s 2ms/step\n",
            " — val_f1: 0.671128 — val_precision: 0.671201 — val_recall: 0.671458\n",
            "\n",
            "Epoch 36: val_f1 did not improve from 0.69217\n",
            "14/14 [==============================] - 1s 41ms/step - loss: 0.0257 - categorical_accuracy: 0.9941 - val_loss: 1.3866 - val_categorical_accuracy: 0.6715 - val_f1: 0.6711 - val_recall: 0.6715 - val_precision: 0.6712\n",
            "Epoch 37/100\n",
            "46/46 [==============================] - 0s 3ms/step\n",
            " — val_f1: 0.672638 — val_precision: 0.673109 — val_recall: 0.672827\n",
            "\n",
            "Epoch 37: val_f1 did not improve from 0.69217\n",
            "14/14 [==============================] - 1s 56ms/step - loss: 0.0299 - categorical_accuracy: 0.9930 - val_loss: 1.4021 - val_categorical_accuracy: 0.6728 - val_f1: 0.6726 - val_recall: 0.6728 - val_precision: 0.6731\n",
            "Epoch 38/100\n",
            "46/46 [==============================] - 0s 3ms/step\n",
            " — val_f1: 0.670825 — val_precision: 0.670511 — val_recall: 0.671458\n",
            "\n",
            "Epoch 38: val_f1 did not improve from 0.69217\n",
            "14/14 [==============================] - 1s 54ms/step - loss: 0.0289 - categorical_accuracy: 0.9935 - val_loss: 1.4033 - val_categorical_accuracy: 0.6715 - val_f1: 0.6708 - val_recall: 0.6715 - val_precision: 0.6705\n",
            "Epoch 39/100\n",
            "46/46 [==============================] - 0s 3ms/step\n",
            " — val_f1: 0.672108 — val_precision: 0.672359 — val_recall: 0.672827\n",
            "\n",
            "Epoch 39: val_f1 did not improve from 0.69217\n",
            "14/14 [==============================] - 1s 43ms/step - loss: 0.0330 - categorical_accuracy: 0.9930 - val_loss: 1.4019 - val_categorical_accuracy: 0.6728 - val_f1: 0.6721 - val_recall: 0.6728 - val_precision: 0.6724\n",
            "Epoch 40/100\n",
            "46/46 [==============================] - 0s 3ms/step\n",
            " — val_f1: 0.670969 — val_precision: 0.671912 — val_recall: 0.671458\n",
            "\n",
            "Epoch 40: val_f1 did not improve from 0.69217\n",
            "14/14 [==============================] - 1s 44ms/step - loss: 0.0285 - categorical_accuracy: 0.9941 - val_loss: 1.4065 - val_categorical_accuracy: 0.6715 - val_f1: 0.6710 - val_recall: 0.6715 - val_precision: 0.6719\n",
            "Epoch 41/100\n",
            "46/46 [==============================] - 0s 3ms/step\n",
            " — val_f1: 0.670472 — val_precision: 0.670614 — val_recall: 0.670773\n",
            "\n",
            "Epoch 41: val_f1 did not improve from 0.69217\n",
            "14/14 [==============================] - 1s 46ms/step - loss: 0.0245 - categorical_accuracy: 0.9935 - val_loss: 1.4164 - val_categorical_accuracy: 0.6708 - val_f1: 0.6705 - val_recall: 0.6708 - val_precision: 0.6706\n",
            "Epoch 42/100\n",
            "46/46 [==============================] - 0s 3ms/step\n",
            " — val_f1: 0.671257 — val_precision: 0.671083 — val_recall: 0.671458\n",
            "\n",
            "Epoch 42: val_f1 did not improve from 0.69217\n",
            "14/14 [==============================] - 1s 57ms/step - loss: 0.0263 - categorical_accuracy: 0.9935 - val_loss: 1.4271 - val_categorical_accuracy: 0.6715 - val_f1: 0.6713 - val_recall: 0.6715 - val_precision: 0.6711\n",
            "Epoch 43/100\n",
            "46/46 [==============================] - 0s 3ms/step\n",
            " — val_f1: 0.673352 — val_precision: 0.672947 — val_recall: 0.674196\n",
            "\n",
            "Epoch 43: val_f1 did not improve from 0.69217\n",
            "14/14 [==============================] - 1s 57ms/step - loss: 0.0273 - categorical_accuracy: 0.9935 - val_loss: 1.4377 - val_categorical_accuracy: 0.6742 - val_f1: 0.6734 - val_recall: 0.6742 - val_precision: 0.6729\n",
            "Epoch 44/100\n",
            "46/46 [==============================] - 0s 3ms/step\n",
            " — val_f1: 0.674902 — val_precision: 0.674706 — val_recall: 0.675565\n",
            "\n",
            "Epoch 44: val_f1 did not improve from 0.69217\n",
            "14/14 [==============================] - 1s 57ms/step - loss: 0.0236 - categorical_accuracy: 0.9935 - val_loss: 1.4349 - val_categorical_accuracy: 0.6756 - val_f1: 0.6749 - val_recall: 0.6756 - val_precision: 0.6747\n",
            "Epoch 45/100\n",
            "46/46 [==============================] - 0s 4ms/step\n",
            " — val_f1: 0.672133 — val_precision: 0.671770 — val_recall: 0.672827\n",
            "\n",
            "Epoch 45: val_f1 did not improve from 0.69217\n",
            "14/14 [==============================] - 1s 73ms/step - loss: 0.0256 - categorical_accuracy: 0.9941 - val_loss: 1.4413 - val_categorical_accuracy: 0.6728 - val_f1: 0.6721 - val_recall: 0.6728 - val_precision: 0.6718\n",
            "Epoch 46/100\n",
            "46/46 [==============================] - 0s 5ms/step\n",
            " — val_f1: 0.672261 — val_precision: 0.672952 — val_recall: 0.672827\n",
            "\n",
            "Epoch 46: val_f1 did not improve from 0.69217\n",
            "14/14 [==============================] - 1s 84ms/step - loss: 0.0240 - categorical_accuracy: 0.9944 - val_loss: 1.4450 - val_categorical_accuracy: 0.6728 - val_f1: 0.6723 - val_recall: 0.6728 - val_precision: 0.6730\n",
            "Epoch 47/100\n",
            "46/46 [==============================] - 0s 5ms/step\n",
            " — val_f1: 0.668914 — val_precision: 0.668839 — val_recall: 0.669405\n",
            "\n",
            "Epoch 47: val_f1 did not improve from 0.69217\n",
            "14/14 [==============================] - 1s 77ms/step - loss: 0.0217 - categorical_accuracy: 0.9950 - val_loss: 1.4619 - val_categorical_accuracy: 0.6694 - val_f1: 0.6689 - val_recall: 0.6694 - val_precision: 0.6688\n",
            "Epoch 48/100\n",
            "46/46 [==============================] - 0s 3ms/step\n",
            " — val_f1: 0.669711 — val_precision: 0.669614 — val_recall: 0.670089\n",
            "\n",
            "Epoch 48: val_f1 did not improve from 0.69217\n",
            "14/14 [==============================] - 1s 47ms/step - loss: 0.0210 - categorical_accuracy: 0.9947 - val_loss: 1.4765 - val_categorical_accuracy: 0.6701 - val_f1: 0.6697 - val_recall: 0.6701 - val_precision: 0.6696\n",
            "Epoch 49/100\n",
            "46/46 [==============================] - 0s 3ms/step\n",
            " — val_f1: 0.671597 — val_precision: 0.671655 — val_recall: 0.672142\n",
            "\n",
            "Epoch 49: val_f1 did not improve from 0.69217\n",
            "14/14 [==============================] - 1s 55ms/step - loss: 0.0248 - categorical_accuracy: 0.9947 - val_loss: 1.4859 - val_categorical_accuracy: 0.6721 - val_f1: 0.6716 - val_recall: 0.6721 - val_precision: 0.6717\n",
            "Epoch 50/100\n",
            "46/46 [==============================] - 0s 2ms/step\n",
            " — val_f1: 0.674059 — val_precision: 0.673719 — val_recall: 0.674880\n",
            "\n",
            "Epoch 50: val_f1 did not improve from 0.69217\n",
            "14/14 [==============================] - 1s 43ms/step - loss: 0.0219 - categorical_accuracy: 0.9959 - val_loss: 1.4902 - val_categorical_accuracy: 0.6749 - val_f1: 0.6741 - val_recall: 0.6749 - val_precision: 0.6737\n",
            "Epoch 51/100\n",
            "46/46 [==============================] - 0s 3ms/step\n",
            " — val_f1: 0.667722 — val_precision: 0.667936 — val_recall: 0.668036\n",
            "\n",
            "Epoch 51: val_f1 did not improve from 0.69217\n",
            "14/14 [==============================] - 1s 57ms/step - loss: 0.0206 - categorical_accuracy: 0.9950 - val_loss: 1.4873 - val_categorical_accuracy: 0.6680 - val_f1: 0.6677 - val_recall: 0.6680 - val_precision: 0.6679\n",
            "Epoch 52/100\n",
            "46/46 [==============================] - 0s 3ms/step\n",
            " — val_f1: 0.672043 — val_precision: 0.672062 — val_recall: 0.672827\n",
            "\n",
            "Epoch 52: val_f1 did not improve from 0.69217\n",
            "14/14 [==============================] - 1s 43ms/step - loss: 0.0236 - categorical_accuracy: 0.9941 - val_loss: 1.4941 - val_categorical_accuracy: 0.6728 - val_f1: 0.6720 - val_recall: 0.6728 - val_precision: 0.6721\n",
            "Epoch 53/100\n",
            "46/46 [==============================] - 0s 3ms/step\n",
            " — val_f1: 0.674445 — val_precision: 0.674153 — val_recall: 0.674880\n",
            "\n",
            "Epoch 53: val_f1 did not improve from 0.69217\n",
            "14/14 [==============================] - 1s 56ms/step - loss: 0.0219 - categorical_accuracy: 0.9941 - val_loss: 1.5045 - val_categorical_accuracy: 0.6749 - val_f1: 0.6744 - val_recall: 0.6749 - val_precision: 0.6742\n",
            "Epoch 54/100\n",
            "46/46 [==============================] - 0s 3ms/step\n",
            " — val_f1: 0.675011 — val_precision: 0.674675 — val_recall: 0.675565\n",
            "\n",
            "Epoch 54: val_f1 did not improve from 0.69217\n",
            "14/14 [==============================] - 1s 44ms/step - loss: 0.0210 - categorical_accuracy: 0.9950 - val_loss: 1.5204 - val_categorical_accuracy: 0.6756 - val_f1: 0.6750 - val_recall: 0.6756 - val_precision: 0.6747\n",
            "Epoch 55/100\n",
            "46/46 [==============================] - 0s 3ms/step\n",
            " — val_f1: 0.672116 — val_precision: 0.671956 — val_recall: 0.672827\n",
            "\n",
            "Epoch 55: val_f1 did not improve from 0.69217\n",
            "14/14 [==============================] - 1s 56ms/step - loss: 0.0213 - categorical_accuracy: 0.9947 - val_loss: 1.5280 - val_categorical_accuracy: 0.6728 - val_f1: 0.6721 - val_recall: 0.6728 - val_precision: 0.6720\n",
            "Epoch 56/100\n",
            "46/46 [==============================] - 0s 3ms/step\n",
            " — val_f1: 0.673681 — val_precision: 0.673431 — val_recall: 0.674196\n",
            "\n",
            "Epoch 56: val_f1 did not improve from 0.69217\n",
            "14/14 [==============================] - 1s 56ms/step - loss: 0.0204 - categorical_accuracy: 0.9950 - val_loss: 1.5252 - val_categorical_accuracy: 0.6742 - val_f1: 0.6737 - val_recall: 0.6742 - val_precision: 0.6734\n",
            "Epoch 57/100\n",
            "46/46 [==============================] - 0s 3ms/step\n",
            " — val_f1: 0.672160 — val_precision: 0.672206 — val_recall: 0.672827\n",
            "\n",
            "Epoch 57: val_f1 did not improve from 0.69217\n",
            "14/14 [==============================] - 1s 56ms/step - loss: 0.0191 - categorical_accuracy: 0.9950 - val_loss: 1.5360 - val_categorical_accuracy: 0.6728 - val_f1: 0.6722 - val_recall: 0.6728 - val_precision: 0.6722\n",
            "Epoch 58/100\n",
            "46/46 [==============================] - 0s 3ms/step\n",
            " — val_f1: 0.676036 — val_precision: 0.675769 — val_recall: 0.676934\n",
            "\n",
            "Epoch 58: val_f1 did not improve from 0.69217\n",
            "14/14 [==============================] - 1s 55ms/step - loss: 0.0188 - categorical_accuracy: 0.9953 - val_loss: 1.5453 - val_categorical_accuracy: 0.6769 - val_f1: 0.6760 - val_recall: 0.6769 - val_precision: 0.6758\n",
            "Epoch 59/100\n",
            "46/46 [==============================] - 0s 3ms/step\n",
            " — val_f1: 0.674790 — val_precision: 0.674686 — val_recall: 0.675565\n",
            "\n",
            "Epoch 59: val_f1 did not improve from 0.69217\n",
            "14/14 [==============================] - 1s 56ms/step - loss: 0.0189 - categorical_accuracy: 0.9962 - val_loss: 1.5565 - val_categorical_accuracy: 0.6756 - val_f1: 0.6748 - val_recall: 0.6756 - val_precision: 0.6747\n",
            "Epoch 60/100\n",
            "46/46 [==============================] - 0s 3ms/step\n",
            " — val_f1: 0.680193 — val_precision: 0.679843 — val_recall: 0.681040\n",
            "\n",
            "Epoch 60: val_f1 did not improve from 0.69217\n",
            "14/14 [==============================] - 1s 45ms/step - loss: 0.0213 - categorical_accuracy: 0.9944 - val_loss: 1.5648 - val_categorical_accuracy: 0.6810 - val_f1: 0.6802 - val_recall: 0.6810 - val_precision: 0.6798\n",
            "Epoch 61/100\n",
            "46/46 [==============================] - 0s 3ms/step\n",
            " — val_f1: 0.676585 — val_precision: 0.676446 — val_recall: 0.676934\n",
            "\n",
            "Epoch 61: val_f1 did not improve from 0.69217\n",
            "14/14 [==============================] - 1s 59ms/step - loss: 0.0237 - categorical_accuracy: 0.9950 - val_loss: 1.5532 - val_categorical_accuracy: 0.6769 - val_f1: 0.6766 - val_recall: 0.6769 - val_precision: 0.6764\n",
            "Epoch 62/100\n",
            "46/46 [==============================] - 0s 5ms/step\n",
            " — val_f1: 0.676646 — val_precision: 0.676665 — val_recall: 0.676934\n",
            "\n",
            "Epoch 62: val_f1 did not improve from 0.69217\n",
            "14/14 [==============================] - 1s 63ms/step - loss: 0.0209 - categorical_accuracy: 0.9944 - val_loss: 1.5558 - val_categorical_accuracy: 0.6769 - val_f1: 0.6766 - val_recall: 0.6769 - val_precision: 0.6767\n",
            "Epoch 63/100\n",
            "46/46 [==============================] - 0s 5ms/step\n",
            " — val_f1: 0.676174 — val_precision: 0.675993 — val_recall: 0.676934\n",
            "\n",
            "Epoch 63: val_f1 did not improve from 0.69217\n",
            "14/14 [==============================] - 1s 78ms/step - loss: 0.0218 - categorical_accuracy: 0.9947 - val_loss: 1.5555 - val_categorical_accuracy: 0.6769 - val_f1: 0.6762 - val_recall: 0.6769 - val_precision: 0.6760\n",
            "Epoch 64/100\n",
            "46/46 [==============================] - 0s 6ms/step\n",
            " — val_f1: 0.680333 — val_precision: 0.680290 — val_recall: 0.681040\n",
            "\n",
            "Epoch 64: val_f1 did not improve from 0.69217\n",
            "14/14 [==============================] - 1s 78ms/step - loss: 0.0181 - categorical_accuracy: 0.9959 - val_loss: 1.5650 - val_categorical_accuracy: 0.6810 - val_f1: 0.6803 - val_recall: 0.6810 - val_precision: 0.6803\n",
            "Epoch 65/100\n",
            "46/46 [==============================] - 0s 3ms/step\n",
            " — val_f1: 0.679650 — val_precision: 0.679588 — val_recall: 0.680356\n",
            "\n",
            "Epoch 65: val_f1 did not improve from 0.69217\n",
            "14/14 [==============================] - 1s 76ms/step - loss: 0.0164 - categorical_accuracy: 0.9962 - val_loss: 1.5742 - val_categorical_accuracy: 0.6804 - val_f1: 0.6797 - val_recall: 0.6804 - val_precision: 0.6796\n",
            "Epoch 66/100\n",
            "46/46 [==============================] - 0s 3ms/step\n",
            " — val_f1: 0.678776 — val_precision: 0.678815 — val_recall: 0.678987\n",
            "\n",
            "Epoch 66: val_f1 did not improve from 0.69217\n",
            "14/14 [==============================] - 1s 43ms/step - loss: 0.0194 - categorical_accuracy: 0.9950 - val_loss: 1.5884 - val_categorical_accuracy: 0.6790 - val_f1: 0.6788 - val_recall: 0.6790 - val_precision: 0.6788\n",
            "Epoch 67/100\n",
            "46/46 [==============================] - 0s 3ms/step\n",
            " — val_f1: 0.676507 — val_precision: 0.676616 — val_recall: 0.676934\n",
            "\n",
            "Epoch 67: val_f1 did not improve from 0.69217\n",
            "14/14 [==============================] - 1s 56ms/step - loss: 0.0216 - categorical_accuracy: 0.9941 - val_loss: 1.5908 - val_categorical_accuracy: 0.6769 - val_f1: 0.6765 - val_recall: 0.6769 - val_precision: 0.6766\n",
            "Epoch 68/100\n",
            "46/46 [==============================] - 0s 3ms/step\n",
            " — val_f1: 0.675242 — val_precision: 0.674943 — val_recall: 0.676249\n",
            "\n",
            "Epoch 68: val_f1 did not improve from 0.69217\n",
            "14/14 [==============================] - 1s 56ms/step - loss: 0.0198 - categorical_accuracy: 0.9953 - val_loss: 1.5942 - val_categorical_accuracy: 0.6762 - val_f1: 0.6752 - val_recall: 0.6762 - val_precision: 0.6749\n",
            "Epoch 69/100\n",
            "46/46 [==============================] - 0s 3ms/step\n",
            " — val_f1: 0.673795 — val_precision: 0.673916 — val_recall: 0.674880\n",
            "\n",
            "Epoch 69: val_f1 did not improve from 0.69217\n",
            "14/14 [==============================] - 1s 55ms/step - loss: 0.0180 - categorical_accuracy: 0.9956 - val_loss: 1.5989 - val_categorical_accuracy: 0.6749 - val_f1: 0.6738 - val_recall: 0.6749 - val_precision: 0.6739\n",
            "Epoch 70/100\n",
            "46/46 [==============================] - 0s 3ms/step\n",
            " — val_f1: 0.673718 — val_precision: 0.673412 — val_recall: 0.674196\n",
            "\n",
            "Epoch 70: val_f1 did not improve from 0.69217\n",
            "14/14 [==============================] - 1s 56ms/step - loss: 0.0234 - categorical_accuracy: 0.9947 - val_loss: 1.5882 - val_categorical_accuracy: 0.6742 - val_f1: 0.6737 - val_recall: 0.6742 - val_precision: 0.6734\n",
            "Epoch 71/100\n",
            "46/46 [==============================] - 0s 3ms/step\n",
            " — val_f1: 0.671845 — val_precision: 0.671611 — val_recall: 0.672142\n",
            "\n",
            "Epoch 71: val_f1 did not improve from 0.69217\n",
            "14/14 [==============================] - 1s 44ms/step - loss: 0.0194 - categorical_accuracy: 0.9959 - val_loss: 1.5859 - val_categorical_accuracy: 0.6721 - val_f1: 0.6718 - val_recall: 0.6721 - val_precision: 0.6716\n",
            "Epoch 72/100\n",
            "46/46 [==============================] - 0s 3ms/step\n",
            " — val_f1: 0.675935 — val_precision: 0.675733 — val_recall: 0.676249\n",
            "\n",
            "Epoch 72: val_f1 did not improve from 0.69217\n",
            "14/14 [==============================] - 1s 44ms/step - loss: 0.0187 - categorical_accuracy: 0.9950 - val_loss: 1.5858 - val_categorical_accuracy: 0.6762 - val_f1: 0.6759 - val_recall: 0.6762 - val_precision: 0.6757\n",
            "Epoch 73/100\n",
            "46/46 [==============================] - 0s 3ms/step\n",
            " — val_f1: 0.675071 — val_precision: 0.674774 — val_recall: 0.675565\n",
            "\n",
            "Epoch 73: val_f1 did not improve from 0.69217\n",
            "14/14 [==============================] - 1s 59ms/step - loss: 0.0170 - categorical_accuracy: 0.9953 - val_loss: 1.5910 - val_categorical_accuracy: 0.6756 - val_f1: 0.6751 - val_recall: 0.6756 - val_precision: 0.6748\n",
            "Epoch 74/100\n",
            "46/46 [==============================] - 0s 3ms/step\n",
            " — val_f1: 0.672106 — val_precision: 0.672092 — val_recall: 0.672827\n",
            "\n",
            "Epoch 74: val_f1 did not improve from 0.69217\n",
            "14/14 [==============================] - 1s 57ms/step - loss: 0.0194 - categorical_accuracy: 0.9956 - val_loss: 1.6067 - val_categorical_accuracy: 0.6728 - val_f1: 0.6721 - val_recall: 0.6728 - val_precision: 0.6721\n",
            "Epoch 75/100\n",
            "46/46 [==============================] - 0s 3ms/step\n",
            " — val_f1: 0.677223 — val_precision: 0.677034 — val_recall: 0.678303\n",
            "\n",
            "Epoch 75: val_f1 did not improve from 0.69217\n",
            "14/14 [==============================] - 1s 56ms/step - loss: 0.0180 - categorical_accuracy: 0.9953 - val_loss: 1.6064 - val_categorical_accuracy: 0.6783 - val_f1: 0.6772 - val_recall: 0.6783 - val_precision: 0.6770\n",
            "Epoch 76/100\n",
            "46/46 [==============================] - 0s 3ms/step\n",
            " — val_f1: 0.676378 — val_precision: 0.676203 — val_recall: 0.676934\n",
            "\n",
            "Epoch 76: val_f1 did not improve from 0.69217\n",
            "14/14 [==============================] - 1s 55ms/step - loss: 0.0193 - categorical_accuracy: 0.9950 - val_loss: 1.6114 - val_categorical_accuracy: 0.6769 - val_f1: 0.6764 - val_recall: 0.6769 - val_precision: 0.6762\n",
            "Epoch 77/100\n",
            "46/46 [==============================] - 0s 3ms/step\n",
            " — val_f1: 0.673437 — val_precision: 0.673467 — val_recall: 0.674196\n",
            "\n",
            "Epoch 77: val_f1 did not improve from 0.69217\n",
            "14/14 [==============================] - 1s 46ms/step - loss: 0.0212 - categorical_accuracy: 0.9941 - val_loss: 1.6071 - val_categorical_accuracy: 0.6742 - val_f1: 0.6734 - val_recall: 0.6742 - val_precision: 0.6735\n",
            "Epoch 78/100\n",
            "46/46 [==============================] - 0s 3ms/step\n",
            " — val_f1: 0.675863 — val_precision: 0.675601 — val_recall: 0.676249\n",
            "\n",
            "Epoch 78: val_f1 did not improve from 0.69217\n",
            "14/14 [==============================] - 1s 46ms/step - loss: 0.0217 - categorical_accuracy: 0.9941 - val_loss: 1.6118 - val_categorical_accuracy: 0.6762 - val_f1: 0.6759 - val_recall: 0.6762 - val_precision: 0.6756\n",
            "Epoch 79/100\n",
            "46/46 [==============================] - 0s 5ms/step\n",
            " — val_f1: 0.671979 — val_precision: 0.672074 — val_recall: 0.673511\n",
            "\n",
            "Epoch 79: val_f1 did not improve from 0.69217\n",
            "14/14 [==============================] - 1s 57ms/step - loss: 0.0209 - categorical_accuracy: 0.9941 - val_loss: 1.6393 - val_categorical_accuracy: 0.6735 - val_f1: 0.6720 - val_recall: 0.6735 - val_precision: 0.6721\n",
            "Epoch 80/100\n",
            "46/46 [==============================] - 0s 5ms/step\n",
            " — val_f1: 0.672150 — val_precision: 0.671977 — val_recall: 0.672827\n",
            "\n",
            "Epoch 80: val_f1 did not improve from 0.69217\n",
            "14/14 [==============================] - 1s 78ms/step - loss: 0.0190 - categorical_accuracy: 0.9953 - val_loss: 1.6168 - val_categorical_accuracy: 0.6728 - val_f1: 0.6722 - val_recall: 0.6728 - val_precision: 0.6720\n",
            "Epoch 81/100\n",
            "46/46 [==============================] - 0s 8ms/step\n",
            " — val_f1: 0.678372 — val_precision: 0.678103 — val_recall: 0.678987\n",
            "\n",
            "Epoch 81: val_f1 did not improve from 0.69217\n",
            "14/14 [==============================] - 2s 125ms/step - loss: 0.0194 - categorical_accuracy: 0.9947 - val_loss: 1.6244 - val_categorical_accuracy: 0.6790 - val_f1: 0.6784 - val_recall: 0.6790 - val_precision: 0.6781\n",
            "Epoch 82/100\n",
            "46/46 [==============================] - 0s 6ms/step\n",
            " — val_f1: 0.677349 — val_precision: 0.677542 — val_recall: 0.678303\n",
            "\n",
            "Epoch 82: val_f1 did not improve from 0.69217\n",
            "14/14 [==============================] - 2s 131ms/step - loss: 0.0179 - categorical_accuracy: 0.9956 - val_loss: 1.6244 - val_categorical_accuracy: 0.6783 - val_f1: 0.6773 - val_recall: 0.6783 - val_precision: 0.6775\n",
            "Epoch 83/100\n",
            "46/46 [==============================] - 0s 7ms/step\n",
            " — val_f1: 0.674713 — val_precision: 0.674527 — val_recall: 0.675565\n",
            "\n",
            "Epoch 83: val_f1 did not improve from 0.69217\n",
            "14/14 [==============================] - 2s 120ms/step - loss: 0.0170 - categorical_accuracy: 0.9959 - val_loss: 1.6422 - val_categorical_accuracy: 0.6756 - val_f1: 0.6747 - val_recall: 0.6756 - val_precision: 0.6745\n",
            "Epoch 84/100\n",
            "46/46 [==============================] - 0s 7ms/step\n",
            " — val_f1: 0.674850 — val_precision: 0.674878 — val_recall: 0.675565\n",
            "\n",
            "Epoch 84: val_f1 did not improve from 0.69217\n",
            "14/14 [==============================] - 2s 121ms/step - loss: 0.0202 - categorical_accuracy: 0.9935 - val_loss: 1.6526 - val_categorical_accuracy: 0.6756 - val_f1: 0.6748 - val_recall: 0.6756 - val_precision: 0.6749\n",
            "Epoch 85/100\n",
            "46/46 [==============================] - 0s 5ms/step\n",
            " — val_f1: 0.672539 — val_precision: 0.672272 — val_recall: 0.673511\n",
            "\n",
            "Epoch 85: val_f1 did not improve from 0.69217\n",
            "14/14 [==============================] - 2s 115ms/step - loss: 0.0187 - categorical_accuracy: 0.9953 - val_loss: 1.6539 - val_categorical_accuracy: 0.6735 - val_f1: 0.6725 - val_recall: 0.6735 - val_precision: 0.6723\n",
            "Epoch 86/100\n",
            "46/46 [==============================] - 0s 7ms/step\n",
            " — val_f1: 0.674209 — val_precision: 0.674077 — val_recall: 0.674880\n",
            "\n",
            "Epoch 86: val_f1 did not improve from 0.69217\n",
            "14/14 [==============================] - 1s 110ms/step - loss: 0.0187 - categorical_accuracy: 0.9944 - val_loss: 1.6531 - val_categorical_accuracy: 0.6749 - val_f1: 0.6742 - val_recall: 0.6749 - val_precision: 0.6741\n",
            "Epoch 87/100\n",
            "46/46 [==============================] - 0s 5ms/step\n",
            " — val_f1: 0.674570 — val_precision: 0.674316 — val_recall: 0.675565\n",
            "\n",
            "Epoch 87: val_f1 did not improve from 0.69217\n",
            "14/14 [==============================] - 1s 103ms/step - loss: 0.0217 - categorical_accuracy: 0.9953 - val_loss: 1.6502 - val_categorical_accuracy: 0.6756 - val_f1: 0.6746 - val_recall: 0.6756 - val_precision: 0.6743\n",
            "Epoch 88/100\n",
            "46/46 [==============================] - 0s 3ms/step\n",
            " — val_f1: 0.674027 — val_precision: 0.673676 — val_recall: 0.674880\n",
            "\n",
            "Epoch 88: val_f1 did not improve from 0.69217\n",
            "14/14 [==============================] - 1s 46ms/step - loss: 0.0200 - categorical_accuracy: 0.9944 - val_loss: 1.6457 - val_categorical_accuracy: 0.6749 - val_f1: 0.6740 - val_recall: 0.6749 - val_precision: 0.6737\n",
            "Epoch 89/100\n",
            "46/46 [==============================] - 0s 3ms/step\n",
            " — val_f1: 0.672251 — val_precision: 0.671925 — val_recall: 0.672827\n",
            "\n",
            "Epoch 89: val_f1 did not improve from 0.69217\n",
            "14/14 [==============================] - 1s 56ms/step - loss: 0.0183 - categorical_accuracy: 0.9956 - val_loss: 1.6603 - val_categorical_accuracy: 0.6728 - val_f1: 0.6723 - val_recall: 0.6728 - val_precision: 0.6719\n",
            "Epoch 90/100\n",
            "46/46 [==============================] - 0s 4ms/step\n",
            " — val_f1: 0.674693 — val_precision: 0.674436 — val_recall: 0.675565\n",
            "\n",
            "Epoch 90: val_f1 did not improve from 0.69217\n",
            "14/14 [==============================] - 1s 79ms/step - loss: 0.0190 - categorical_accuracy: 0.9950 - val_loss: 1.6396 - val_categorical_accuracy: 0.6756 - val_f1: 0.6747 - val_recall: 0.6756 - val_precision: 0.6744\n",
            "Epoch 91/100\n",
            "46/46 [==============================] - 0s 4ms/step\n",
            " — val_f1: 0.675882 — val_precision: 0.675935 — val_recall: 0.676934\n",
            "\n",
            "Epoch 91: val_f1 did not improve from 0.69217\n",
            "14/14 [==============================] - 1s 64ms/step - loss: 0.0179 - categorical_accuracy: 0.9956 - val_loss: 1.6636 - val_categorical_accuracy: 0.6769 - val_f1: 0.6759 - val_recall: 0.6769 - val_precision: 0.6759\n",
            "Epoch 92/100\n",
            "46/46 [==============================] - 0s 5ms/step\n",
            " — val_f1: 0.674214 — val_precision: 0.674294 — val_recall: 0.675565\n",
            "\n",
            "Epoch 92: val_f1 did not improve from 0.69217\n",
            "14/14 [==============================] - 1s 76ms/step - loss: 0.0172 - categorical_accuracy: 0.9956 - val_loss: 1.6804 - val_categorical_accuracy: 0.6756 - val_f1: 0.6742 - val_recall: 0.6756 - val_precision: 0.6743\n",
            "Epoch 93/100\n",
            "46/46 [==============================] - 0s 4ms/step\n",
            " — val_f1: 0.672865 — val_precision: 0.672635 — val_recall: 0.673511\n",
            "\n",
            "Epoch 93: val_f1 did not improve from 0.69217\n",
            "14/14 [==============================] - 1s 75ms/step - loss: 0.0177 - categorical_accuracy: 0.9950 - val_loss: 1.6528 - val_categorical_accuracy: 0.6735 - val_f1: 0.6729 - val_recall: 0.6735 - val_precision: 0.6726\n",
            "Epoch 94/100\n",
            "46/46 [==============================] - 0s 3ms/step\n",
            " — val_f1: 0.672112 — val_precision: 0.671954 — val_recall: 0.672827\n",
            "\n",
            "Epoch 94: val_f1 did not improve from 0.69217\n",
            "14/14 [==============================] - 1s 45ms/step - loss: 0.0190 - categorical_accuracy: 0.9950 - val_loss: 1.6568 - val_categorical_accuracy: 0.6728 - val_f1: 0.6721 - val_recall: 0.6728 - val_precision: 0.6720\n",
            "Epoch 95/100\n",
            "46/46 [==============================] - 0s 3ms/step\n",
            " — val_f1: 0.672232 — val_precision: 0.672113 — val_recall: 0.672827\n",
            "\n",
            "Epoch 95: val_f1 did not improve from 0.69217\n",
            "14/14 [==============================] - 1s 43ms/step - loss: 0.0186 - categorical_accuracy: 0.9950 - val_loss: 1.6778 - val_categorical_accuracy: 0.6728 - val_f1: 0.6722 - val_recall: 0.6728 - val_precision: 0.6721\n",
            "Epoch 96/100\n",
            "46/46 [==============================] - 0s 3ms/step\n",
            " — val_f1: 0.677096 — val_precision: 0.676919 — val_recall: 0.678303\n",
            "\n",
            "Epoch 96: val_f1 did not improve from 0.69217\n",
            "14/14 [==============================] - 1s 57ms/step - loss: 0.0195 - categorical_accuracy: 0.9938 - val_loss: 1.6930 - val_categorical_accuracy: 0.6783 - val_f1: 0.6771 - val_recall: 0.6783 - val_precision: 0.6769\n",
            "Epoch 97/100\n",
            "46/46 [==============================] - 0s 3ms/step\n",
            " — val_f1: 0.678425 — val_precision: 0.678408 — val_recall: 0.679671\n",
            "\n",
            "Epoch 97: val_f1 did not improve from 0.69217\n",
            "14/14 [==============================] - 1s 46ms/step - loss: 0.0181 - categorical_accuracy: 0.9962 - val_loss: 1.7012 - val_categorical_accuracy: 0.6797 - val_f1: 0.6784 - val_recall: 0.6797 - val_precision: 0.6784\n",
            "Epoch 98/100\n",
            "46/46 [==============================] - 0s 3ms/step\n",
            " — val_f1: 0.678127 — val_precision: 0.677900 — val_recall: 0.678987\n",
            "\n",
            "Epoch 98: val_f1 did not improve from 0.69217\n",
            "14/14 [==============================] - 1s 44ms/step - loss: 0.0189 - categorical_accuracy: 0.9950 - val_loss: 1.7014 - val_categorical_accuracy: 0.6790 - val_f1: 0.6781 - val_recall: 0.6790 - val_precision: 0.6779\n",
            "Epoch 99/100\n",
            "46/46 [==============================] - 0s 3ms/step\n",
            " — val_f1: 0.679978 — val_precision: 0.679972 — val_recall: 0.681040\n",
            "\n",
            "Epoch 99: val_f1 did not improve from 0.69217\n",
            "14/14 [==============================] - 1s 45ms/step - loss: 0.0167 - categorical_accuracy: 0.9953 - val_loss: 1.7024 - val_categorical_accuracy: 0.6810 - val_f1: 0.6800 - val_recall: 0.6810 - val_precision: 0.6800\n",
            "Epoch 100/100\n",
            "46/46 [==============================] - 0s 3ms/step\n",
            " — val_f1: 0.677544 — val_precision: 0.677536 — val_recall: 0.678303\n",
            "\n",
            "Epoch 100: val_f1 did not improve from 0.69217\n",
            "14/14 [==============================] - 1s 56ms/step - loss: 0.0170 - categorical_accuracy: 0.9959 - val_loss: 1.6980 - val_categorical_accuracy: 0.6783 - val_f1: 0.6775 - val_recall: 0.6783 - val_precision: 0.6775\n"
          ]
        }
      ],
      "source": [
        "import os\n",
        "os.environ['TF_CPP_MIN_LOG_LEVEL'] = '3'\n",
        "import tensorflow as tf\n",
        "from tensorflow.keras.callbacks import ModelCheckpoint\n",
        "from tensorflow.keras.models import Sequential\n",
        "from tensorflow.keras.layers import Dense, Dropout\n",
        "from tensorflow.keras.optimizers import Adam\n",
        "from tensorflow.keras.metrics import CategoricalAccuracy\n",
        "\n",
        "\n",
        "model = Sequential()\n",
        "model.add(Dense(512, input_dim=X_train_svd.shape[1] , activation='relu'))\n",
        "model.add(Dropout(0.5))\n",
        "model.add(Dense(256,  activation='relu'))\n",
        "model.add(Dropout(0.5))\n",
        "model.add(Dense(3,  activation='softmax'))\n",
        "\n",
        "print(model.summary())\n",
        "model.compile(loss='categorical_crossentropy',   # Categorical crossentropy loss function for multi-class classification\n",
        "                  optimizer=Adam(learning_rate=0.001),  # Adam optimizer with learning rate of 0.001\n",
        "                  metrics=[CategoricalAccuracy()])\n",
        "\n",
        "if not os.path.exists('./checkpoints'):\n",
        "  os.makedirs('./checkpoints')\n",
        "\n",
        "# Configure model checkpoint to save the best model based on validation F1 score\n",
        "checkpoint = ModelCheckpoint('checkpoints/tfidf_mlp.weights.h5',\n",
        "                                                monitor='val_f1',\n",
        "                                                mode='max', verbose=2,\n",
        "                                                save_best_only=True,\n",
        "                                                save_weights_only=True)\n",
        "\n",
        "history = model.fit(X_train_svd, y_train_1_hot,\n",
        "              validation_data=(X_val_svd, y_val_1_hot),\n",
        "              batch_size=256,  # Batch size\n",
        "              epochs=100,  # Number of epochs\n",
        "              shuffle=True,\n",
        "              callbacks=[Metrics(valid_data=(X_val_svd, y_val_1_hot)),\n",
        "              checkpoint])"
      ]
    },
    {
      "cell_type": "markdown",
      "metadata": {
        "id": "-uQ22l_2GI45"
      },
      "source": [
        "### Plot model accuracy and loss"
      ]
    },
    {
      "cell_type": "code",
      "execution_count": null,
      "metadata": {
        "colab": {
          "base_uri": "https://localhost:8080/",
          "height": 927
        },
        "id": "z5RT1szJGI46",
        "outputId": "b46d4f01-2aac-4e32-9c6e-b35f9dc87498"
      },
      "outputs": [
        {
          "output_type": "display_data",
          "data": {
            "text/plain": [
              "<Figure size 640x480 with 1 Axes>"
            ],
            "image/png": "[encoded data removed]"
          },
          "metadata": {}
        },
        {
          "output_type": "display_data",
          "data": {
            "text/plain": [
              "<Figure size 640x480 with 1 Axes>"
            ],
            "image/png": "[encoded data removed]"
          },
          "metadata": {}
        }
      ],
      "source": [
        "%matplotlib inline\n",
        "import matplotlib.pyplot as plt\n",
        "\n",
        "\n",
        "# Plot history for accuracy\n",
        "plt.plot(history.history['categorical_accuracy'])\n",
        "plt.plot(history.history['val_categorical_accuracy'])\n",
        "plt.title('model accuracy')\n",
        "plt.ylabel('accuracy')\n",
        "plt.xlabel('epoch')\n",
        "plt.legend(['train', 'dev'], loc='upper left')\n",
        "plt.show()\n",
        "# Plot history for loss\n",
        "plt.plot(history.history['loss'])\n",
        "plt.plot(history.history['val_loss'])\n",
        "plt.title('model loss')\n",
        "plt.ylabel('loss')\n",
        "plt.xlabel('epoch')\n",
        "plt.legend(['train', 'dev'], loc='upper right')\n",
        "plt.show()"
      ]
    },
    {
      "cell_type": "markdown",
      "metadata": {
        "id": "xqWsXxfZGI46"
      },
      "source": [
        "### Tune Hyperparameters"
      ]
    },
    {
      "cell_type": "code",
      "execution_count": null,
      "metadata": {
        "colab": {
          "base_uri": "https://localhost:8080/"
        },
        "id": "rDxgbHOHGI46",
        "outputId": "c91ee280-d643-4660-85d0-5186ced9beee"
      },
      "outputs": [
        {
          "output_type": "stream",
          "name": "stdout",
          "text": [
            "Collecting keras-tuner\n",
            "  Downloading keras_tuner-1.4.7-py3-none-any.whl (129 kB)\n",
            "\u001b[?25l     \u001b[90m━━━━━━━━━━━━━━━━━━━━━━━━━━━━━━━━━━━━━━━━\u001b[0m \u001b[32m0.0/129.1 kB\u001b[0m \u001b[31m?\u001b[0m eta \u001b[36m-:--:--\u001b[0m\r\u001b[2K     \u001b[91m━━━━━━━━━━━━━━━━━━━━━━━━━━━━━━━━━━━━━━\u001b[0m\u001b[90m╺\u001b[0m\u001b[90m━\u001b[0m \u001b[32m122.9/129.1 kB\u001b[0m \u001b[31m4.3 MB/s\u001b[0m eta \u001b[36m0:00:01\u001b[0m\r\u001b[2K     \u001b[90m━━━━━━━━━━━━━━━━━━━━━━━━━━━━━━━━━━━━━━━━\u001b[0m \u001b[32m129.1/129.1 kB\u001b[0m \u001b[31m3.5 MB/s\u001b[0m eta \u001b[36m0:00:00\u001b[0m\n",
            "\u001b[?25hRequirement already satisfied: keras in /usr/local/lib/python3.10/dist-packages (from keras-tuner) (2.15.0)\n",
            "Requirement already satisfied: packaging in /usr/local/lib/python3.10/dist-packages (from keras-tuner) (24.0)\n",
            "Requirement already satisfied: requests in /usr/local/lib/python3.10/dist-packages (from keras-tuner) (2.31.0)\n",
            "Collecting kt-legacy (from keras-tuner)\n",
            "  Downloading kt_legacy-1.0.5-py3-none-any.whl (9.6 kB)\n",
            "Requirement already satisfied: charset-normalizer<4,>=2 in /usr/local/lib/python3.10/dist-packages (from requests->keras-tuner) (3.3.2)\n",
            "Requirement already satisfied: idna<4,>=2.5 in /usr/local/lib/python3.10/dist-packages (from requests->keras-tuner) (3.7)\n",
            "Requirement already satisfied: urllib3<3,>=1.21.1 in /usr/local/lib/python3.10/dist-packages (from requests->keras-tuner) (2.0.7)\n",
            "Requirement already satisfied: certifi>=2017.4.17 in /usr/local/lib/python3.10/dist-packages (from requests->keras-tuner) (2024.2.2)\n",
            "Installing collected packages: kt-legacy, keras-tuner\n",
            "Successfully installed keras-tuner-1.4.7 kt-legacy-1.0.5\n"
          ]
        }
      ],
      "source": [
        "!pip install keras-tuner --upgrade"
      ]
    },
    {
      "cell_type": "code",
      "execution_count": null,
      "metadata": {
        "id": "VTaISdyDGI46"
      },
      "outputs": [],
      "source": [
        "import keras_tuner\n",
        "import keras"
      ]
    },
    {
      "cell_type": "code",
      "execution_count": null,
      "metadata": {
        "id": "0OFVObA3GI46"
      },
      "outputs": [],
      "source": [
        "def build_model(hp):\n",
        "    model = Sequential()\n",
        "\n",
        "    layer_index = 0\n",
        "    for i in range(hp.Int(name='num_layers',min_value=1,max_value=3)):\n",
        "        if layer_index == 0:\n",
        "            model.add(Dense(hp.Int(name='hidden_units_'+str(i),min_value=128,max_value=512,step=64),\n",
        "                            activation=hp.Choice(name='activation_layer'+str(i),values=['relu','tanh']),\n",
        "                            input_dim=X_train_svd.shape[1]\n",
        "                           ))\n",
        "            model.add(Dropout(hp.Choice(name='dropout_layer_'+str(i),values=[0.1,0.2,0.3,0.4,0.5])))\n",
        "        else:\n",
        "            model.add(Dense(hp.Int(name='hidden_units_'+str(i),min_value=128,max_value=512,step=64),\n",
        "                            activation=hp.Choice(name='activation_layer'+str(i),values=['relu','tanh'])))\n",
        "            model.add(Dropout(hp.Choice(name='dropout_layer_'+str(i),values=[0.1,0.2,0.3,0.4,0.5])))\n",
        "\n",
        "        layer_index += 1\n",
        "\n",
        "    # Add last layer that produces the logits\n",
        "    model.add(Dense(len(df.LABEL.unique()),  activation='softmax'))\n",
        "\n",
        "    # Tune the learning rate for the optimizer by choosing an optimal value from 0.01, 0.001, or 0.0001\n",
        "\n",
        "    hp_learning_rate = hp.Choice('learning_rate', values=[1e-2,1e-3,1e-4])\n",
        "    model.compile(loss='categorical_crossentropy',optimizer=Adam(learning_rate=hp_learning_rate),\n",
        "                  metrics=[CategoricalAccuracy()])\n",
        "\n",
        "    return model"
      ]
    },
    {
      "cell_type": "code",
      "execution_count": null,
      "metadata": {
        "colab": {
          "base_uri": "https://localhost:8080/"
        },
        "id": "y7fGoNc6GI46",
        "outputId": "0ebcbd11-9963-4d25-97bc-27908434d827"
      },
      "outputs": [
        {
          "output_type": "stream",
          "name": "stdout",
          "text": [
            "Search space summary\n",
            "Default search space size: 5\n",
            "num_layers (Int)\n",
            "{'default': None, 'conditions': [], 'min_value': 1, 'max_value': 3, 'step': 1, 'sampling': 'linear'}\n",
            "hidden_units_0 (Int)\n",
            "{'default': None, 'conditions': [], 'min_value': 128, 'max_value': 512, 'step': 64, 'sampling': 'linear'}\n",
            "activation_layer0 (Choice)\n",
            "{'default': 'relu', 'conditions': [], 'values': ['relu', 'tanh'], 'ordered': False}\n",
            "dropout_layer_0 (Choice)\n",
            "{'default': 0.1, 'conditions': [], 'values': [0.1, 0.2, 0.3, 0.4, 0.5], 'ordered': True}\n",
            "learning_rate (Choice)\n",
            "{'default': 0.01, 'conditions': [], 'values': [0.01, 0.001, 0.0001], 'ordered': True}\n"
          ]
        }
      ],
      "source": [
        "import keras_tuner as kt\n",
        "from tensorflow.keras.callbacks import EarlyStopping\n",
        "\n",
        "# Define the Keras Tuner RandomSearch object\n",
        "tuner = kt.RandomSearch(build_model,\n",
        "                        objective=kt.Objective(\"val_categorical_accuracy\", direction=\"max\"),\n",
        "                        max_trials = 20,\n",
        "                        directory='KT_dir',\n",
        "                        project_name='KT_tuning')\n",
        "\n",
        "# Define EarlyStopping callback to stop training if validation loss stops decreasing\n",
        "early_stopping = EarlyStopping(\n",
        "    monitor='val_loss', patience=10)   # Number of epochs with no improvement before stopping\n",
        "\n",
        "# Print a summary of the search space for tuning\n",
        "tuner.search_space_summary()"
      ]
    },
    {
      "cell_type": "code",
      "execution_count": null,
      "metadata": {
        "colab": {
          "base_uri": "https://localhost:8080/"
        },
        "id": "ZznnC59KGI47",
        "outputId": "607f2ed4-1ce8-4d54-ca5d-99f9f9a56d82"
      },
      "outputs": [
        {
          "output_type": "stream",
          "name": "stdout",
          "text": [
            "Trial 20 Complete [00h 00m 12s]\n",
            "val_categorical_accuracy: 0.6865161061286926\n",
            "\n",
            "Best val_categorical_accuracy So Far: 0.6872005462646484\n",
            "Total elapsed time: 00h 04m 05s\n"
          ]
        }
      ],
      "source": [
        "tuner.search(X_train_svd, y_train_1_hot,\n",
        "             validation_data=(X_val_svd, y_val_1_hot), epochs=50, batch_size = 128,\n",
        "             callbacks=[early_stopping])"
      ]
    },
    {
      "cell_type": "code",
      "execution_count": null,
      "metadata": {
        "colab": {
          "base_uri": "https://localhost:8080/"
        },
        "id": "G6DD6583GI47",
        "outputId": "67ca090e-7e50-4343-988b-97334272b3f9"
      },
      "outputs": [
        {
          "output_type": "stream",
          "name": "stdout",
          "text": [
            "Results summary\n",
            "Results in KT_dir/KT_tuning\n",
            "Showing 10 best trials\n",
            "Objective(name=\"val_categorical_accuracy\", direction=\"max\")\n",
            "\n",
            "Trial 01 summary\n",
            "Hyperparameters:\n",
            "num_layers: 3\n",
            "hidden_units_0: 512\n",
            "activation_layer0: relu\n",
            "dropout_layer_0: 0.2\n",
            "learning_rate: 0.001\n",
            "hidden_units_1: 128\n",
            "activation_layer1: relu\n",
            "dropout_layer_1: 0.1\n",
            "hidden_units_2: 128\n",
            "activation_layer2: relu\n",
            "dropout_layer_2: 0.1\n",
            "Score: 0.6872005462646484\n",
            "\n",
            "Trial 06 summary\n",
            "Hyperparameters:\n",
            "num_layers: 2\n",
            "hidden_units_0: 256\n",
            "activation_layer0: relu\n",
            "dropout_layer_0: 0.2\n",
            "learning_rate: 0.001\n",
            "hidden_units_1: 256\n",
            "activation_layer1: tanh\n",
            "dropout_layer_1: 0.4\n",
            "hidden_units_2: 384\n",
            "activation_layer2: relu\n",
            "dropout_layer_2: 0.3\n",
            "Score: 0.6872005462646484\n",
            "\n",
            "Trial 19 summary\n",
            "Hyperparameters:\n",
            "num_layers: 1\n",
            "hidden_units_0: 512\n",
            "activation_layer0: relu\n",
            "dropout_layer_0: 0.5\n",
            "learning_rate: 0.01\n",
            "hidden_units_1: 512\n",
            "activation_layer1: tanh\n",
            "dropout_layer_1: 0.2\n",
            "hidden_units_2: 448\n",
            "activation_layer2: tanh\n",
            "dropout_layer_2: 0.4\n",
            "Score: 0.6865161061286926\n",
            "\n",
            "Trial 12 summary\n",
            "Hyperparameters:\n",
            "num_layers: 1\n",
            "hidden_units_0: 256\n",
            "activation_layer0: relu\n",
            "dropout_layer_0: 0.1\n",
            "learning_rate: 0.01\n",
            "hidden_units_1: 128\n",
            "activation_layer1: relu\n",
            "dropout_layer_1: 0.2\n",
            "hidden_units_2: 256\n",
            "activation_layer2: relu\n",
            "dropout_layer_2: 0.3\n",
            "Score: 0.6844627261161804\n",
            "\n",
            "Trial 08 summary\n",
            "Hyperparameters:\n",
            "num_layers: 1\n",
            "hidden_units_0: 256\n",
            "activation_layer0: relu\n",
            "dropout_layer_0: 0.1\n",
            "learning_rate: 0.01\n",
            "hidden_units_1: 256\n",
            "activation_layer1: relu\n",
            "dropout_layer_1: 0.1\n",
            "hidden_units_2: 384\n",
            "activation_layer2: relu\n",
            "dropout_layer_2: 0.4\n",
            "Score: 0.6837782263755798\n",
            "\n",
            "Trial 09 summary\n",
            "Hyperparameters:\n",
            "num_layers: 2\n",
            "hidden_units_0: 512\n",
            "activation_layer0: tanh\n",
            "dropout_layer_0: 0.5\n",
            "learning_rate: 0.001\n",
            "hidden_units_1: 256\n",
            "activation_layer1: tanh\n",
            "dropout_layer_1: 0.5\n",
            "hidden_units_2: 320\n",
            "activation_layer2: relu\n",
            "dropout_layer_2: 0.2\n",
            "Score: 0.6837782263755798\n",
            "\n",
            "Trial 11 summary\n",
            "Hyperparameters:\n",
            "num_layers: 2\n",
            "hidden_units_0: 384\n",
            "activation_layer0: relu\n",
            "dropout_layer_0: 0.2\n",
            "learning_rate: 0.01\n",
            "hidden_units_1: 192\n",
            "activation_layer1: relu\n",
            "dropout_layer_1: 0.5\n",
            "hidden_units_2: 192\n",
            "activation_layer2: tanh\n",
            "dropout_layer_2: 0.5\n",
            "Score: 0.683093786239624\n",
            "\n",
            "Trial 15 summary\n",
            "Hyperparameters:\n",
            "num_layers: 2\n",
            "hidden_units_0: 512\n",
            "activation_layer0: tanh\n",
            "dropout_layer_0: 0.1\n",
            "learning_rate: 0.0001\n",
            "hidden_units_1: 256\n",
            "activation_layer1: relu\n",
            "dropout_layer_1: 0.3\n",
            "hidden_units_2: 320\n",
            "activation_layer2: relu\n",
            "dropout_layer_2: 0.4\n",
            "Score: 0.6824092864990234\n",
            "\n",
            "Trial 10 summary\n",
            "Hyperparameters:\n",
            "num_layers: 1\n",
            "hidden_units_0: 448\n",
            "activation_layer0: tanh\n",
            "dropout_layer_0: 0.4\n",
            "learning_rate: 0.001\n",
            "hidden_units_1: 512\n",
            "activation_layer1: tanh\n",
            "dropout_layer_1: 0.5\n",
            "hidden_units_2: 448\n",
            "activation_layer2: relu\n",
            "dropout_layer_2: 0.3\n",
            "Score: 0.6817248463630676\n",
            "\n",
            "Trial 02 summary\n",
            "Hyperparameters:\n",
            "num_layers: 3\n",
            "hidden_units_0: 384\n",
            "activation_layer0: tanh\n",
            "dropout_layer_0: 0.5\n",
            "learning_rate: 0.01\n",
            "hidden_units_1: 448\n",
            "activation_layer1: relu\n",
            "dropout_layer_1: 0.5\n",
            "hidden_units_2: 256\n",
            "activation_layer2: tanh\n",
            "dropout_layer_2: 0.5\n",
            "Score: 0.6810404062271118\n"
          ]
        }
      ],
      "source": [
        "# Trials summary\n",
        "tuner.results_summary()"
      ]
    },
    {
      "cell_type": "code",
      "execution_count": null,
      "metadata": {
        "colab": {
          "base_uri": "https://localhost:8080/"
        },
        "id": "MRx2IUBgGI47",
        "outputId": "f424c29b-6bf3-4fd8-9262-c359434760b5"
      },
      "outputs": [
        {
          "output_type": "execute_result",
          "data": {
            "text/plain": [
              "{'num_layers': 3,\n",
              " 'hidden_units_0': 512,\n",
              " 'activation_layer0': 'relu',\n",
              " 'dropout_layer_0': 0.2,\n",
              " 'learning_rate': 0.001,\n",
              " 'hidden_units_1': 128,\n",
              " 'activation_layer1': 'relu',\n",
              " 'dropout_layer_1': 0.1,\n",
              " 'hidden_units_2': 128,\n",
              " 'activation_layer2': 'relu',\n",
              " 'dropout_layer_2': 0.1}"
            ]
          },
          "metadata": {},
          "execution_count": 40
        }
      ],
      "source": [
        "# Get best hyper-parameters setup\n",
        "tuner.get_best_hyperparameters()[0].values"
      ]
    },
    {
      "cell_type": "code",
      "execution_count": null,
      "metadata": {
        "colab": {
          "base_uri": "https://localhost:8080/"
        },
        "id": "-bNQjk62GI47",
        "outputId": "1b7922f6-48dd-40db-f2c9-71e9c287db20"
      },
      "outputs": [
        {
          "output_type": "stream",
          "name": "stdout",
          "text": [
            "Model: \"sequential\"\n",
            "_________________________________________________________________\n",
            " Layer (type)                Output Shape              Param #   \n",
            "=================================================================\n",
            " dense (Dense)               (None, 512)               512512    \n",
            "                                                                 \n",
            " dropout (Dropout)           (None, 512)               0         \n",
            "                                                                 \n",
            " dense_1 (Dense)             (None, 128)               65664     \n",
            "                                                                 \n",
            " dropout_1 (Dropout)         (None, 128)               0         \n",
            "                                                                 \n",
            " dense_2 (Dense)             (None, 128)               16512     \n",
            "                                                                 \n",
            " dropout_2 (Dropout)         (None, 128)               0         \n",
            "                                                                 \n",
            " dense_3 (Dense)             (None, 3)                 387       \n",
            "                                                                 \n",
            "=================================================================\n",
            "Total params: 595075 (2.27 MB)\n",
            "Trainable params: 595075 (2.27 MB)\n",
            "Non-trainable params: 0 (0.00 Byte)\n",
            "_________________________________________________________________\n"
          ]
        }
      ],
      "source": [
        "best_model = tuner.get_best_models(num_models=1)[0]\n",
        "best_model.summary()"
      ]
    },
    {
      "cell_type": "code",
      "execution_count": null,
      "metadata": {
        "colab": {
          "base_uri": "https://localhost:8080/"
        },
        "id": "bKU-V2bvGI47",
        "outputId": "2468b844-cf85-4f63-9076-dea2e15a7f89"
      },
      "outputs": [
        {
          "output_type": "stream",
          "name": "stdout",
          "text": [
            "46/46 [==============================] - 0s 5ms/step\n",
            "[1 1 0 ... 0 1 1]\n"
          ]
        }
      ],
      "source": [
        "predictions = np.argmax(best_model.predict(X_val_svd), -1)\n",
        "print(predictions)"
      ]
    },
    {
      "cell_type": "code",
      "execution_count": null,
      "metadata": {
        "colab": {
          "base_uri": "https://localhost:8080/"
        },
        "id": "cPMyOm9iGI48",
        "outputId": "f9a41d35-6a15-4e8f-da25-e4af453f04b1"
      },
      "outputs": [
        {
          "output_type": "stream",
          "name": "stdout",
          "text": [
            "['neutral', 'neutral', 'negative', 'negative', 'negative', 'negative', 'negative', 'positive', 'neutral', 'neutral', 'negative', 'positive', 'positive', 'negative', 'positive', 'negative', 'negative', 'positive', 'neutral', 'neutral', 'positive', 'positive', 'positive', 'neutral', 'neutral', 'neutral', 'neutral', 'negative', 'positive', 'positive', 'positive', 'negative', 'positive', 'negative', 'positive', 'negative', 'positive', 'positive', 'neutral', 'neutral', 'neutral', 'negative', 'negative', 'negative', 'neutral', 'neutral', 'neutral', 'negative', 'neutral', 'neutral', 'neutral', 'negative', 'negative', 'negative', 'negative', 'positive', 'negative', 'neutral', 'positive', 'negative', 'positive', 'neutral', 'negative', 'positive', 'negative', 'negative', 'neutral', 'negative', 'positive', 'positive', 'positive', 'neutral', 'positive', 'positive', 'negative', 'negative', 'positive', 'positive', 'negative', 'negative', 'neutral', 'neutral', 'neutral', 'negative', 'negative', 'negative', 'neutral', 'neutral', 'negative', 'positive', 'positive', 'positive', 'neutral', 'neutral', 'neutral', 'neutral', 'positive', 'negative', 'positive', 'positive', 'positive', 'positive', 'neutral', 'negative', 'negative', 'positive', 'negative', 'positive', 'negative', 'negative', 'neutral', 'positive', 'positive', 'negative', 'neutral', 'positive', 'positive', 'negative', 'positive', 'negative', 'positive', 'positive', 'positive', 'negative', 'negative', 'neutral', 'negative', 'neutral', 'negative', 'neutral', 'positive', 'positive', 'neutral', 'positive', 'neutral', 'neutral', 'neutral', 'neutral', 'negative', 'neutral', 'positive', 'neutral', 'neutral', 'neutral', 'neutral', 'positive', 'negative', 'neutral', 'positive', 'neutral', 'neutral', 'positive', 'positive', 'neutral', 'positive', 'neutral', 'neutral', 'neutral', 'neutral', 'neutral', 'negative', 'positive', 'neutral', 'negative', 'negative', 'positive', 'negative', 'negative', 'neutral', 'neutral', 'neutral', 'neutral', 'neutral', 'neutral', 'neutral', 'neutral', 'neutral', 'negative', 'positive', 'positive', 'neutral', 'negative', 'negative', 'neutral', 'negative', 'neutral', 'negative', 'neutral', 'positive', 'positive', 'neutral', 'negative', 'neutral', 'neutral', 'negative', 'negative', 'neutral', 'neutral', 'neutral', 'positive', 'positive', 'negative', 'negative', 'neutral', 'neutral', 'positive', 'positive', 'neutral', 'neutral', 'positive', 'positive', 'neutral', 'neutral', 'negative', 'neutral', 'neutral', 'negative', 'positive', 'positive', 'positive', 'neutral', 'neutral', 'positive', 'neutral', 'positive', 'negative', 'neutral', 'positive', 'neutral', 'neutral', 'negative', 'positive', 'negative', 'neutral', 'negative', 'negative', 'positive', 'neutral', 'neutral', 'positive', 'negative', 'negative', 'negative', 'neutral', 'neutral', 'positive', 'positive', 'neutral', 'negative', 'negative', 'neutral', 'positive', 'positive', 'neutral', 'neutral', 'neutral', 'negative', 'neutral', 'negative', 'negative', 'neutral', 'negative', 'neutral', 'positive', 'negative', 'positive', 'neutral', 'neutral', 'negative', 'neutral', 'neutral', 'neutral', 'positive', 'neutral', 'neutral', 'neutral', 'positive', 'neutral', 'positive', 'negative', 'positive', 'neutral', 'neutral', 'positive', 'positive', 'positive', 'neutral', 'neutral', 'positive', 'positive', 'positive', 'negative', 'negative', 'positive', 'positive', 'negative', 'neutral', 'neutral', 'positive', 'positive', 'neutral', 'positive', 'negative', 'negative', 'negative', 'positive', 'neutral', 'neutral', 'negative', 'negative', 'neutral', 'neutral', 'positive', 'neutral', 'negative', 'negative', 'positive', 'negative', 'positive', 'neutral', 'neutral', 'negative', 'neutral', 'neutral', 'neutral', 'negative', 'negative', 'negative', 'negative', 'positive', 'negative', 'positive', 'positive', 'negative', 'negative', 'positive', 'positive', 'negative', 'negative', 'negative', 'positive', 'positive', 'positive', 'neutral', 'positive', 'negative', 'positive', 'negative', 'positive', 'positive', 'positive', 'neutral', 'neutral', 'neutral', 'positive', 'neutral', 'neutral', 'positive', 'negative', 'neutral', 'positive', 'negative', 'positive', 'neutral', 'positive', 'neutral', 'negative', 'neutral', 'positive', 'negative', 'negative', 'negative', 'positive', 'negative', 'neutral', 'neutral', 'negative', 'neutral', 'neutral', 'negative', 'neutral', 'negative', 'negative', 'negative', 'neutral', 'positive', 'neutral', 'negative', 'negative', 'negative', 'positive', 'neutral', 'neutral', 'positive', 'neutral', 'negative', 'negative', 'positive', 'neutral', 'neutral', 'negative', 'positive', 'positive', 'positive', 'neutral', 'positive', 'negative', 'negative', 'neutral', 'negative', 'negative', 'positive', 'positive', 'negative', 'positive', 'positive', 'positive', 'negative', 'negative', 'neutral', 'negative', 'negative', 'neutral', 'neutral', 'neutral', 'neutral', 'neutral', 'positive', 'negative', 'positive', 'neutral', 'neutral', 'positive', 'negative', 'negative', 'neutral', 'positive', 'neutral', 'positive', 'neutral', 'negative', 'neutral', 'negative', 'positive', 'neutral', 'neutral', 'neutral', 'negative', 'positive', 'positive', 'neutral', 'neutral', 'neutral', 'positive', 'negative', 'negative', 'negative', 'positive', 'neutral', 'neutral', 'positive', 'negative', 'negative', 'negative', 'positive', 'neutral', 'positive', 'neutral', 'negative', 'positive', 'neutral', 'positive', 'neutral', 'positive', 'negative', 'neutral', 'negative', 'negative', 'negative', 'negative', 'neutral', 'neutral', 'negative', 'neutral', 'neutral', 'neutral', 'neutral', 'positive', 'neutral', 'negative', 'positive', 'neutral', 'neutral', 'negative', 'negative', 'neutral', 'neutral', 'neutral', 'neutral', 'positive', 'positive', 'neutral', 'positive', 'positive', 'negative', 'positive', 'neutral', 'positive', 'negative', 'negative', 'positive', 'negative', 'neutral', 'neutral', 'neutral', 'negative', 'positive', 'positive', 'positive', 'positive', 'positive', 'neutral', 'neutral', 'positive', 'neutral', 'neutral', 'negative', 'neutral', 'positive', 'neutral', 'neutral', 'positive', 'positive', 'positive', 'neutral', 'positive', 'neutral', 'neutral', 'positive', 'neutral', 'neutral', 'negative', 'positive', 'neutral', 'neutral', 'neutral', 'neutral', 'neutral', 'neutral', 'positive', 'positive', 'neutral', 'negative', 'neutral', 'neutral', 'positive', 'neutral', 'positive', 'negative', 'neutral', 'neutral', 'positive', 'negative', 'neutral', 'neutral', 'positive', 'negative', 'negative', 'negative', 'positive', 'negative', 'neutral', 'positive', 'positive', 'neutral', 'positive', 'positive', 'negative', 'negative', 'neutral', 'negative', 'neutral', 'negative', 'neutral', 'neutral', 'negative', 'positive', 'neutral', 'neutral', 'negative', 'positive', 'neutral', 'neutral', 'positive', 'positive', 'negative', 'neutral', 'positive', 'negative', 'positive', 'positive', 'neutral', 'positive', 'neutral', 'positive', 'positive', 'neutral', 'neutral', 'neutral', 'negative', 'neutral', 'positive', 'negative', 'positive', 'neutral', 'positive', 'neutral', 'positive', 'positive', 'positive', 'positive', 'neutral', 'neutral', 'neutral', 'neutral', 'negative', 'positive', 'positive', 'negative', 'neutral', 'neutral', 'positive', 'positive', 'positive', 'positive', 'positive', 'negative', 'neutral', 'positive', 'negative', 'neutral', 'neutral', 'negative', 'negative', 'neutral', 'negative', 'neutral', 'negative', 'positive', 'positive', 'neutral', 'neutral', 'neutral', 'negative', 'neutral', 'positive', 'neutral', 'negative', 'negative', 'negative', 'neutral', 'neutral', 'negative', 'neutral', 'positive', 'neutral', 'negative', 'negative', 'neutral', 'positive', 'neutral', 'positive', 'positive', 'neutral', 'neutral', 'negative', 'neutral', 'negative', 'positive', 'positive', 'neutral', 'positive', 'neutral', 'negative', 'negative', 'neutral', 'neutral', 'positive', 'positive', 'negative', 'neutral', 'negative', 'negative', 'negative', 'neutral', 'positive', 'neutral', 'negative', 'positive', 'positive', 'negative', 'neutral', 'neutral', 'positive', 'negative', 'negative', 'positive', 'positive', 'neutral', 'negative', 'neutral', 'neutral', 'neutral', 'neutral', 'positive', 'neutral', 'negative', 'negative', 'positive', 'negative', 'neutral', 'negative', 'negative', 'positive', 'positive', 'positive', 'positive', 'neutral', 'positive', 'neutral', 'neutral', 'positive', 'positive', 'negative', 'negative', 'neutral', 'neutral', 'negative', 'positive', 'neutral', 'negative', 'negative', 'neutral', 'neutral', 'neutral', 'neutral', 'positive', 'positive', 'neutral', 'negative', 'neutral', 'negative', 'neutral', 'positive', 'negative', 'neutral', 'positive', 'positive', 'positive', 'neutral', 'neutral', 'neutral', 'neutral', 'positive', 'positive', 'negative', 'neutral', 'positive', 'positive', 'neutral', 'negative', 'negative', 'negative', 'negative', 'positive', 'negative', 'positive', 'negative', 'positive', 'neutral', 'neutral', 'neutral', 'positive', 'positive', 'negative', 'neutral', 'neutral', 'negative', 'neutral', 'neutral', 'positive', 'neutral', 'negative', 'positive', 'neutral', 'neutral', 'neutral', 'negative', 'neutral', 'neutral', 'negative', 'neutral', 'neutral', 'negative', 'positive', 'negative', 'negative', 'negative', 'negative', 'negative', 'neutral', 'neutral', 'positive', 'negative', 'positive', 'neutral', 'negative', 'neutral', 'negative', 'negative', 'positive', 'negative', 'positive', 'negative', 'positive', 'negative', 'neutral', 'neutral', 'negative', 'neutral', 'neutral', 'neutral', 'positive', 'positive', 'negative', 'positive', 'positive', 'negative', 'positive', 'negative', 'neutral', 'negative', 'positive', 'positive', 'positive', 'neutral', 'neutral', 'neutral', 'neutral', 'positive', 'positive', 'negative', 'negative', 'negative', 'negative', 'positive', 'neutral', 'neutral', 'neutral', 'neutral', 'negative', 'neutral', 'negative', 'negative', 'negative', 'negative', 'negative', 'positive', 'positive', 'neutral', 'negative', 'positive', 'negative', 'positive', 'neutral', 'positive', 'negative', 'neutral', 'positive', 'neutral', 'positive', 'positive', 'positive', 'neutral', 'neutral', 'neutral', 'neutral', 'negative', 'negative', 'negative', 'neutral', 'neutral', 'positive', 'positive', 'negative', 'positive', 'positive', 'negative', 'positive', 'positive', 'neutral', 'positive', 'positive', 'neutral', 'neutral', 'positive', 'negative', 'negative', 'negative', 'negative', 'positive', 'neutral', 'negative', 'positive', 'positive', 'positive', 'neutral', 'neutral', 'neutral', 'negative', 'neutral', 'negative', 'positive', 'positive', 'negative', 'negative', 'neutral', 'negative', 'positive', 'neutral', 'negative', 'neutral', 'neutral', 'positive', 'positive', 'positive', 'negative', 'neutral', 'neutral', 'neutral', 'negative', 'negative', 'positive', 'positive', 'neutral', 'neutral', 'positive', 'neutral', 'positive', 'neutral', 'negative', 'positive', 'neutral', 'neutral', 'negative', 'negative', 'neutral', 'positive', 'positive', 'negative', 'neutral', 'neutral', 'positive', 'positive', 'neutral', 'neutral', 'positive', 'negative', 'neutral', 'neutral', 'negative', 'positive', 'neutral', 'neutral', 'positive', 'neutral', 'neutral', 'positive', 'positive', 'negative', 'neutral', 'neutral', 'negative', 'positive', 'positive', 'positive', 'neutral', 'negative', 'positive', 'positive', 'neutral', 'neutral', 'negative', 'neutral', 'neutral', 'positive', 'neutral', 'negative', 'positive', 'positive', 'positive', 'positive', 'positive', 'negative', 'neutral', 'negative', 'negative', 'positive', 'neutral', 'positive', 'neutral', 'negative', 'neutral', 'negative', 'neutral', 'positive', 'positive', 'negative', 'positive', 'neutral', 'negative', 'positive', 'positive', 'negative', 'neutral', 'positive', 'positive', 'negative', 'negative', 'neutral', 'neutral', 'neutral', 'positive', 'neutral', 'negative', 'neutral', 'neutral', 'negative', 'neutral', 'positive', 'negative', 'neutral', 'neutral', 'neutral', 'neutral', 'negative', 'neutral', 'neutral', 'positive', 'positive', 'positive', 'neutral', 'neutral', 'negative', 'positive', 'neutral', 'positive', 'positive', 'neutral', 'negative', 'negative', 'neutral', 'positive', 'neutral', 'positive', 'neutral', 'neutral', 'positive', 'neutral', 'neutral', 'positive', 'neutral', 'neutral', 'neutral', 'neutral', 'neutral', 'neutral', 'neutral', 'neutral', 'neutral', 'neutral', 'neutral', 'neutral', 'neutral', 'negative', 'positive', 'negative', 'neutral', 'neutral', 'positive', 'neutral', 'positive', 'negative', 'neutral', 'neutral', 'negative', 'negative', 'negative', 'neutral', 'positive', 'positive', 'positive', 'negative', 'negative', 'positive', 'neutral', 'positive', 'neutral', 'neutral', 'neutral', 'neutral', 'negative', 'positive', 'neutral', 'positive', 'neutral', 'neutral', 'neutral', 'negative', 'positive', 'neutral', 'neutral', 'neutral', 'neutral', 'neutral', 'positive', 'neutral', 'positive', 'neutral', 'positive', 'positive', 'negative', 'negative', 'neutral', 'negative', 'neutral', 'neutral', 'positive', 'neutral', 'neutral', 'positive', 'negative', 'positive', 'negative', 'neutral', 'neutral', 'neutral', 'positive', 'positive', 'neutral', 'positive', 'positive', 'positive', 'neutral', 'neutral', 'positive', 'neutral', 'negative', 'positive', 'neutral', 'neutral', 'positive', 'negative', 'negative', 'positive', 'positive', 'neutral', 'positive', 'positive', 'negative', 'neutral', 'neutral', 'neutral', 'negative', 'positive', 'negative', 'neutral', 'neutral', 'negative', 'positive', 'neutral', 'neutral', 'neutral', 'positive', 'positive', 'negative', 'positive', 'negative', 'negative', 'neutral', 'neutral', 'neutral', 'neutral', 'neutral', 'positive', 'negative', 'neutral', 'neutral', 'positive', 'neutral', 'positive', 'positive', 'neutral', 'positive', 'neutral', 'neutral', 'negative', 'negative', 'neutral', 'positive', 'negative', 'positive', 'positive', 'positive', 'positive', 'positive', 'positive', 'neutral', 'positive', 'neutral', 'negative', 'negative', 'neutral', 'negative', 'negative', 'neutral', 'positive', 'neutral', 'negative', 'negative', 'positive', 'negative', 'neutral', 'neutral', 'neutral', 'neutral', 'negative', 'negative', 'negative', 'neutral', 'neutral', 'negative', 'neutral', 'positive', 'positive', 'neutral', 'negative', 'negative', 'neutral', 'positive', 'negative', 'neutral', 'neutral', 'positive', 'positive', 'positive', 'negative', 'neutral', 'negative', 'positive', 'negative', 'negative', 'negative', 'negative', 'negative', 'negative', 'negative', 'positive', 'positive', 'neutral', 'neutral', 'negative', 'neutral', 'neutral', 'neutral', 'neutral', 'positive', 'positive', 'positive', 'negative', 'negative', 'neutral', 'positive', 'positive', 'negative', 'negative', 'positive', 'neutral', 'neutral', 'positive', 'positive', 'positive', 'positive', 'negative', 'negative', 'positive', 'positive', 'neutral', 'neutral', 'positive', 'positive', 'neutral', 'negative', 'negative', 'positive', 'negative', 'neutral', 'neutral', 'positive', 'negative', 'neutral', 'positive', 'negative', 'neutral', 'neutral', 'positive', 'neutral', 'positive', 'positive', 'neutral', 'neutral', 'positive', 'negative', 'neutral', 'positive', 'negative', 'negative', 'neutral', 'neutral', 'positive', 'neutral', 'neutral', 'negative', 'negative', 'negative', 'positive', 'negative', 'positive', 'neutral', 'negative', 'neutral', 'negative', 'neutral', 'neutral', 'negative', 'positive', 'negative', 'negative', 'neutral', 'negative', 'positive', 'neutral', 'negative', 'neutral', 'negative', 'positive', 'neutral', 'negative', 'positive', 'neutral', 'positive', 'negative', 'positive', 'neutral', 'negative', 'positive', 'neutral', 'neutral', 'negative', 'positive', 'positive', 'positive', 'negative', 'positive', 'positive', 'positive', 'neutral', 'neutral', 'negative', 'neutral', 'negative', 'neutral', 'negative', 'positive', 'neutral', 'negative', 'negative', 'positive', 'neutral', 'negative', 'positive', 'negative', 'neutral', 'neutral', 'negative', 'positive', 'negative', 'neutral', 'negative', 'neutral', 'negative', 'neutral', 'positive', 'negative', 'neutral', 'neutral', 'positive', 'negative', 'positive', 'positive', 'negative', 'negative', 'neutral', 'negative', 'neutral', 'positive', 'positive', 'neutral', 'negative', 'positive', 'neutral', 'positive', 'negative', 'neutral', 'neutral', 'negative', 'negative', 'negative', 'negative', 'negative', 'neutral', 'neutral', 'neutral', 'positive', 'negative', 'negative', 'negative', 'positive', 'neutral', 'positive', 'neutral', 'positive', 'neutral', 'positive', 'negative', 'neutral', 'neutral', 'positive', 'neutral', 'neutral', 'negative', 'negative', 'neutral', 'positive', 'negative', 'negative', 'neutral', 'neutral', 'negative', 'neutral', 'neutral']\n"
          ]
        }
      ],
      "source": [
        "# Create a dictionary to map class labels to class names\n",
        "label_to_name = {i: name for i, name in enumerate(pd.get_dummies(y_val).columns)}\n",
        "\n",
        "# Replace integer class labels in predictions with class names\n",
        "predictions_with_names = [label_to_name[label] for label in predictions]\n",
        "\n",
        "print(predictions_with_names)\n",
        "\n"
      ]
    },
    {
      "cell_type": "markdown",
      "metadata": {
        "id": "iCfjUz8-GI48"
      },
      "source": [
        "### Best MLP model"
      ]
    },
    {
      "cell_type": "code",
      "execution_count": null,
      "metadata": {
        "colab": {
          "base_uri": "https://localhost:8080/"
        },
        "id": "3P8xwZn_GI48",
        "outputId": "560baf81-f357-4d84-830a-12093d928f9b"
      },
      "outputs": [
        {
          "output_type": "stream",
          "name": "stdout",
          "text": [
            "              precision    recall  f1-score   support\n",
            "\n",
            "    negative       0.66      0.67      0.67       426\n",
            "     neutral       0.64      0.67      0.66       552\n",
            "    positive       0.76      0.72      0.74       483\n",
            "\n",
            "    accuracy                           0.69      1461\n",
            "   macro avg       0.69      0.69      0.69      1461\n",
            "weighted avg       0.69      0.69      0.69      1461\n",
            "\n"
          ]
        }
      ],
      "source": [
        "# Print the best model performance after hyperparameters tuning\n",
        "\n",
        "print(classification_report(y_val, predictions_with_names))"
      ]
    }
  ],
  "metadata": {
    "kernelspec": {
      "display_name": "Python 3",
      "language": "python",
      "name": "python3"
    },
    "language_info": {
      "codemirror_mode": {
        "name": "ipython",
        "version": 3
      },
      "file_extension": ".py",
      "mimetype": "text/x-python",
      "name": "python",
      "nbconvert_exporter": "python",
      "pygments_lexer": "ipython3",
      "version": "3.11.4"
    },
    "colab": {
      "provenance": [],
      "collapsed_sections": [
        "DFZZBmZlGI4z",
        "nFsdWZAQGI42",
        "BlE0XcgsGI42",
        "GGcngnSfGI43",
        "lu4mRBshGI44",
        "QFLwpI3CGI45",
        "R4LWX78WGI45",
        "-uQ22l_2GI45",
        "xqWsXxfZGI46",
        "iCfjUz8-GI48"
      ]
    }
  },
  "nbformat": 4,
  "nbformat_minor": 0
}