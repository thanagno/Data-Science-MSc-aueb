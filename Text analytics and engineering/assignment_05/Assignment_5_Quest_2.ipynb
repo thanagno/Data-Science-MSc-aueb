{
  "cells": [
    {
      "cell_type": "markdown",
      "metadata": {
        "id": "7-ztrHb8j1F5"
      },
      "source": [
        "# EDA"
      ]
    },
    {
      "cell_type": "markdown",
      "metadata": {
        "id": "0OLj_nOzj1F6"
      },
      "source": [
        "## Load and Inspect the Data"
      ]
    },
    {
      "cell_type": "code",
      "execution_count": null,
      "metadata": {
        "id": "RtuXcWd2j1F6"
      },
      "outputs": [],
      "source": [
        "import pandas as pd\n",
        "import numpy as np\n",
        "import zipfile\n",
        "\n",
        "df = pd.read_excel('LabeledText.xlsx')\n"
      ]
    },
    {
      "cell_type": "code",
      "execution_count": null,
      "metadata": {
        "id": "v3azDn5ej1F7"
      },
      "outputs": [],
      "source": [
        "# Set display options to show all columns and rows\n",
        "pd.set_option('display.max_columns', None)\n",
        "pd.set_option('display.max_rows', None)\n",
        "pd.set_option('display.max_colwidth', None)"
      ]
    },
    {
      "cell_type": "code",
      "execution_count": null,
      "metadata": {
        "id": "z2g566Tej1F7"
      },
      "outputs": [],
      "source": [
        "#keep only the columns we need\n",
        "df=df[['Caption','LABEL']]"
      ]
    },
    {
      "cell_type": "code",
      "execution_count": null,
      "metadata": {
        "id": "UvMbKB1gj1F7",
        "outputId": "a97f166a-1025-4c82-88a8-938d8b4654ee"
      },
      "outputs": [
        {
          "name": "stdout",
          "output_type": "stream",
          "text": [
            "Categories\n",
            "['negative' 'positive' 'neutral']\n",
            "-------------\n",
            "Dataset Sample\n"
          ]
        },
        {
          "data": {
            "text/html": [
              "<div>\n",
              "<style scoped>\n",
              "    .dataframe tbody tr th:only-of-type {\n",
              "        vertical-align: middle;\n",
              "    }\n",
              "\n",
              "    .dataframe tbody tr th {\n",
              "        vertical-align: top;\n",
              "    }\n",
              "\n",
              "    .dataframe thead th {\n",
              "        text-align: right;\n",
              "    }\n",
              "</style>\n",
              "<table border=\"1\" class=\"dataframe\">\n",
              "  <thead>\n",
              "    <tr style=\"text-align: right;\">\n",
              "      <th></th>\n",
              "      <th>Caption</th>\n",
              "      <th>LABEL</th>\n",
              "    </tr>\n",
              "  </thead>\n",
              "  <tbody>\n",
              "    <tr>\n",
              "      <th>0</th>\n",
              "      <td>How I feel today #legday #jelly #aching #gym</td>\n",
              "      <td>negative</td>\n",
              "    </tr>\n",
              "    <tr>\n",
              "      <th>1</th>\n",
              "      <td>@ArrivaTW absolute disgrace two carriages from Bangor half way there standing room only #disgraced</td>\n",
              "      <td>negative</td>\n",
              "    </tr>\n",
              "    <tr>\n",
              "      <th>2</th>\n",
              "      <td>This is my Valentine's from 1 of my nephews. I am elated; sometimes the little things are the biggest &amp; best things!</td>\n",
              "      <td>positive</td>\n",
              "    </tr>\n",
              "    <tr>\n",
              "      <th>3</th>\n",
              "      <td>betterfeelingfilms: RT via Instagram: First day of filming #powerless back in 2011. Can't ¡­</td>\n",
              "      <td>neutral</td>\n",
              "    </tr>\n",
              "    <tr>\n",
              "      <th>4</th>\n",
              "      <td>Zoe's first love #Rattled @JohnnyHarper15</td>\n",
              "      <td>positive</td>\n",
              "    </tr>\n",
              "  </tbody>\n",
              "</table>\n",
              "</div>"
            ],
            "text/plain": [
              "                                                                                                                 Caption  \\\n",
              "0                                                                          How I feel today #legday #jelly #aching #gym    \n",
              "1                    @ArrivaTW absolute disgrace two carriages from Bangor half way there standing room only #disgraced    \n",
              "2  This is my Valentine's from 1 of my nephews. I am elated; sometimes the little things are the biggest & best things!    \n",
              "3                          betterfeelingfilms: RT via Instagram: First day of filming #powerless back in 2011. Can't ¡­    \n",
              "4                                                                             Zoe's first love #Rattled @JohnnyHarper15    \n",
              "\n",
              "      LABEL  \n",
              "0  negative  \n",
              "1  negative  \n",
              "2  positive  \n",
              "3   neutral  \n",
              "4  positive  "
            ]
          },
          "execution_count": 4,
          "metadata": {},
          "output_type": "execute_result"
        }
      ],
      "source": [
        "# Print unique categories/labels in the dataset\n",
        "print('Categories')\n",
        "print(df.LABEL.unique())\n",
        "print(\"-------------\")\n",
        "\n",
        "# Print a sample of the dataset\n",
        "print('Dataset Sample')\n",
        "df.head()\n"
      ]
    },
    {
      "cell_type": "markdown",
      "metadata": {
        "id": "R_pAqOXEj1F8"
      },
      "source": [
        "# Data Cleansing"
      ]
    },
    {
      "cell_type": "markdown",
      "metadata": {
        "id": "JzbuDl9Mj1F8"
      },
      "source": [
        "This section focuses on preparing the text data for analysis by performing various preprocessing steps. It includes tasks such as removing URLs, HTML tags, punctuation, numbers, and stop words, as well as expanding contractions and lemmatizing words. Additionally, it ensures consistency and standardization in the text data, which is essential for accurate and reliable natural language processing tasks, such as sentiment analysis.\n"
      ]
    },
    {
      "cell_type": "code",
      "execution_count": null,
      "metadata": {
        "id": "D7kHWkkJj1F8"
      },
      "outputs": [],
      "source": [
        "# Lowercase the data\n",
        "df['text_cleaned'] = df['Caption'].apply(lambda x: x.lower())"
      ]
    },
    {
      "cell_type": "code",
      "execution_count": null,
      "metadata": {
        "id": "8xlczbs7j1F8",
        "outputId": "0b1591a2-778a-440e-d308-2dc9331c3f4a"
      },
      "outputs": [
        {
          "name": "stderr",
          "output_type": "stream",
          "text": [
            "C:\\Users\\panka\\AppData\\Local\\Temp\\ipykernel_18276\\3781325304.py:11: MarkupResemblesLocatorWarning: The input looks more like a filename than markup. You may want to open this file and pass the filehandle into Beautiful Soup.\n",
            "  df['text_cleaned'] = df['text_cleaned'].apply(lambda x: BeautifulSoup(x, \"html.parser\").text)\n"
          ]
        }
      ],
      "source": [
        "# !pip install lxml\n",
        "\n",
        "\n",
        "import re\n",
        "from bs4 import BeautifulSoup\n",
        "\n",
        "# Removing URLs from the text\n",
        "df['text_cleaned'] = df['text_cleaned'].apply(lambda x: re.sub(r'http\\S+|www.\\S+', '', x))\n",
        "\n",
        "# Removing HTML tags from the text\n",
        "df['text_cleaned'] = df['text_cleaned'].apply(lambda x: BeautifulSoup(x, \"html.parser\").text)"
      ]
    },
    {
      "cell_type": "code",
      "execution_count": null,
      "metadata": {
        "id": "XwL4B17vj1F8"
      },
      "outputs": [],
      "source": [
        "# Dictionary to convert common chat words to their full forms\n",
        "#There are many more chat words that can be added to this dictionary. These are some common examples.\n",
        "chat_words_dict = {\n",
        "    \"imo\": \"in my opinion\",\n",
        "     \"cyaa\": \"see you\",\n",
        "    \"idk\": \"I don't know\",\n",
        "    \"rn\": \"right now\",\n",
        "    \"afaik\": \"as far as I know\",\n",
        "\n",
        "}\n",
        "\n"
      ]
    },
    {
      "cell_type": "code",
      "execution_count": null,
      "metadata": {
        "id": "vTQ6Cfmdj1F8"
      },
      "outputs": [],
      "source": [
        "# Function that returns the text with chat words converted to their full forms\n",
        "\n",
        "def convert_chat_words(text):\n",
        "    words = text.split()\n",
        "    converted_words = []\n",
        "    for word in words:\n",
        "        if word.lower() in chat_words_dict:\n",
        "            converted_words.append(chat_words_dict[word.lower()])\n",
        "        else:\n",
        "            converted_words.append(word)\n",
        "    converted_text = \" \".join(converted_words)\n",
        "    return converted_text"
      ]
    },
    {
      "cell_type": "code",
      "execution_count": null,
      "metadata": {
        "id": "14VGLY3Ej1F8"
      },
      "outputs": [],
      "source": [
        "df['text_cleaned'] = df['text_cleaned'].apply(convert_chat_words)"
      ]
    },
    {
      "cell_type": "code",
      "execution_count": null,
      "metadata": {
        "id": "N-cQvEp6j1F9"
      },
      "outputs": [],
      "source": [
        "# Removing punctuation\n",
        "import string\n",
        "df['text_cleaned'] = df['text_cleaned'].apply(lambda x: x.translate(str.maketrans('', '', string.punctuation)))\n",
        "\n",
        "# Removing numbers\n",
        "df['text_cleaned'] = df['text_cleaned'].apply(lambda x: re.sub(r'\\d+', '', x))\n",
        "\n",
        "# Removing extra spaces\n",
        "df['text_cleaned'] = df['text_cleaned'].apply(lambda x: ' '.join(x.split()))\n",
        "\n",
        "# Replacing repetitions of punctuation\n",
        "df['text_cleaned'] = df['text_cleaned'].apply(lambda x: re.sub(r'(\\W)\\1+', r'\\1', x))"
      ]
    },
    {
      "cell_type": "code",
      "execution_count": null,
      "metadata": {
        "id": "sDWh6UEoj1F9"
      },
      "outputs": [],
      "source": [
        "# Removing special characters\n",
        "df['text_cleaned'] = df['text_cleaned'].apply(lambda x: re.sub(r\"[^\\w\\s]\", '', x))"
      ]
    },
    {
      "cell_type": "code",
      "execution_count": null,
      "metadata": {
        "id": "mDiYamuAj1F9"
      },
      "outputs": [],
      "source": [
        "# !pip install contractions\n",
        "\n",
        "# Removing contractions\n",
        "import contractions\n",
        "# Remove contractions from the 'text_cleaned' column\n",
        "df['text_cleaned'] = df['text_cleaned'].apply(lambda x: contractions.fix(x))"
      ]
    },
    {
      "cell_type": "code",
      "execution_count": null,
      "metadata": {
        "id": "Pxyo2c3fj1F9"
      },
      "outputs": [],
      "source": [
        "from nltk.tokenize import word_tokenize\n",
        "# Tokenization\n",
        "df['tokens'] = df['text_cleaned'].apply(lambda x: word_tokenize(x))"
      ]
    },
    {
      "cell_type": "code",
      "execution_count": null,
      "metadata": {
        "id": "b4LFRJkTj1F9",
        "outputId": "6afa7ad1-8921-421d-c6d3-0d48a4461efd"
      },
      "outputs": [
        {
          "data": {
            "text/plain": [
              "4849              [get, friday, night, look, sorted, newin, lbd, littleblackdress, strappy, plunge, neckline, mini, black, bodycon]\n",
              "4850                                                                                         [rt, nneagoe, love, caring, beautiful]\n",
              "4851               [february, winter, rainy, stormy, windy, wednesday, morning, love, happy, positive, passionate, reading, coffee]\n",
              "4852    [rt, thatguykai, honored, pittsburgh, pirates, consultant, coachotip, speak, ball, club, passionate, relentless, ownership]\n",
              "4853                                              [genghis, khan, ily, relatable, king, passionate, yeet, yas, sogengrn, apgenghis]\n",
              "4854                 [february, winter, rainy, stormy, windy, wednesday, evening, love, happy, positive, passionate, calm, fun, uk]\n",
              "4855                  [february, winter, rainy, stormy, windy, wednesday, evening, love, happy, positive, passionate, calm, coffee]\n",
              "4856                                                   [rt, bishopcarrollhs, great, bishopcarrollhs, students, caring, empowerbchs]\n",
              "4857                                         [big, thank, teachers, attended, isabcpdªso, nice, meet, passionate, educators, isabc]\n",
              "4858                                                                                                          [dave, looks, elated]\n",
              "4859                                                [dbel, scared, veryscared, holding, owt, hot, coming, nearer, david, petrified]\n",
              "4860                                           [completely, unique, petrified, palm, earrings, set, sterling, silver, fossil, gift]\n",
              "4861                                                               [rt, headquarters, fair, everything, makes, want, scream, anger]\n",
              "4862                                [fanghorn, forest, alder, woodland, glen, vorlich, lochearn, petrified, forest, lotr, scotland]\n",
              "4863                                                                                       [whisk, way, powerless, bakersgonnabake]\n",
              "4864                                                                   [omg, well, done, eskom, man, dies, loadshedding, powerless]\n",
              "4865                                                                                          [feelin, love, valentinesday, caring]\n",
              "4866                                                                                                           [blue, eyes, beaten]\n",
              "4867                                                                                      [la, chucha, louuu, te, chupo, los, ojos]\n",
              "4868                                      [colorsplashbw, zealous, remedios, herbales, tratamientos, naturales, remedios, herbales]\n",
              "Name: tokens, dtype: object"
            ]
          },
          "execution_count": 14,
          "metadata": {},
          "output_type": "execute_result"
        }
      ],
      "source": [
        "# Removing stop words\n",
        "from nltk.corpus import stopwords\n",
        "\n",
        "# Loading English stop words\n",
        "stop_words = set(stopwords.words('english'))\n",
        "\n",
        "# Removing stop words from the 'tokens' column\n",
        "df['tokens'] = df['tokens'].apply(lambda x: [word for word in x if word not in stop_words])\n",
        "\n",
        "# Print the updated 'tokens' column\n",
        "df['tokens'].tail(20)"
      ]
    },
    {
      "cell_type": "code",
      "execution_count": null,
      "metadata": {
        "id": "U63uHcd5j1F9",
        "outputId": "68aeff6d-0c9f-43f5-c60e-017854ad7f73"
      },
      "outputs": [
        {
          "name": "stderr",
          "output_type": "stream",
          "text": [
            "[nltk_data] Downloading package wordnet to\n",
            "[nltk_data]     C:\\Users\\panka\\AppData\\Roaming\\nltk_data...\n",
            "[nltk_data]   Package wordnet is already up-to-date!\n"
          ]
        }
      ],
      "source": [
        "import nltk\n",
        "nltk.download('wordnet')\n",
        "from nltk.stem import WordNetLemmatizer\n",
        "from nltk.corpus import wordnet\n",
        "\n",
        "# Create an instance of WordNetLemmatizer\n",
        "lemmatizer = WordNetLemmatizer()\n",
        "# POS tag mapping dictionary\n",
        "wordnet_map = {\"N\": wordnet.NOUN, \"V\": wordnet.VERB, \"J\": wordnet.ADJ, \"R\": wordnet.ADV}\n",
        "\n",
        "# Function to perform Lemmatization on a text\n",
        "def lemmatize_text(text):\n",
        "    # Get the POS tags for the words\n",
        "    pos_tags = nltk.pos_tag(text)\n",
        "\n",
        "    # Perform Lemmatization\n",
        "    lemmatized_words = []\n",
        "    for word, tag in pos_tags:\n",
        "        # Map the POS tag to WordNet POS tag\n",
        "        pos = wordnet_map.get(tag[0].upper(), wordnet.NOUN)\n",
        "        # Lemmatize the word with the appropriate POS tag\n",
        "        lemmatized_word = lemmatizer.lemmatize(word, pos=pos)\n",
        "        # Add the lemmatized word to the list\n",
        "        lemmatized_words.append(lemmatized_word)\n",
        "\n",
        "    return lemmatized_words\n",
        "\n",
        "# Apply Lemmatization to the 'tokens' column\n",
        "df['tokens'] = df['tokens'].apply(lemmatize_text)"
      ]
    },
    {
      "cell_type": "code",
      "execution_count": null,
      "metadata": {
        "id": "9Yrt4Czzj1F9",
        "outputId": "443714ee-23bc-414e-df4b-0fdd0ea44532"
      },
      "outputs": [
        {
          "data": {
            "text/html": [
              "<div>\n",
              "<style scoped>\n",
              "    .dataframe tbody tr th:only-of-type {\n",
              "        vertical-align: middle;\n",
              "    }\n",
              "\n",
              "    .dataframe tbody tr th {\n",
              "        vertical-align: top;\n",
              "    }\n",
              "\n",
              "    .dataframe thead th {\n",
              "        text-align: right;\n",
              "    }\n",
              "</style>\n",
              "<table border=\"1\" class=\"dataframe\">\n",
              "  <thead>\n",
              "    <tr style=\"text-align: right;\">\n",
              "      <th></th>\n",
              "      <th>Caption</th>\n",
              "      <th>LABEL</th>\n",
              "      <th>text_cleaned</th>\n",
              "      <th>tokens</th>\n",
              "    </tr>\n",
              "  </thead>\n",
              "  <tbody>\n",
              "    <tr>\n",
              "      <th>0</th>\n",
              "      <td>How I feel today #legday #jelly #aching #gym</td>\n",
              "      <td>negative</td>\n",
              "      <td>how i feel today legday jelly aching gym</td>\n",
              "      <td>[feel, today, legday, jelly, ache, gym]</td>\n",
              "    </tr>\n",
              "    <tr>\n",
              "      <th>1</th>\n",
              "      <td>@ArrivaTW absolute disgrace two carriages from Bangor half way there standing room only #disgraced</td>\n",
              "      <td>negative</td>\n",
              "      <td>arrivatw absolute disgrace two carriages from bangor half way there standing room only disgraced</td>\n",
              "      <td>[arrivatw, absolute, disgrace, two, carriage, bangor, half, way, stand, room, disgrace]</td>\n",
              "    </tr>\n",
              "    <tr>\n",
              "      <th>2</th>\n",
              "      <td>This is my Valentine's from 1 of my nephews. I am elated; sometimes the little things are the biggest &amp; best things!</td>\n",
              "      <td>positive</td>\n",
              "      <td>this is my valentines from of my nephews i am elated sometimes the little things are the biggest best things</td>\n",
              "      <td>[valentine, nephew, elate, sometimes, little, thing, big, best, thing]</td>\n",
              "    </tr>\n",
              "    <tr>\n",
              "      <th>3</th>\n",
              "      <td>betterfeelingfilms: RT via Instagram: First day of filming #powerless back in 2011. Can't ¡­</td>\n",
              "      <td>neutral</td>\n",
              "      <td>betterfeelingfilms rt via instagram first day of filming powerless back in cannot</td>\n",
              "      <td>[betterfeelingfilms, rt, via, instagram, first, day, film, powerless, back]</td>\n",
              "    </tr>\n",
              "    <tr>\n",
              "      <th>4</th>\n",
              "      <td>Zoe's first love #Rattled @JohnnyHarper15</td>\n",
              "      <td>positive</td>\n",
              "      <td>zoes first love rattled johnnyharper</td>\n",
              "      <td>[zoes, first, love, rattle, johnnyharper]</td>\n",
              "    </tr>\n",
              "  </tbody>\n",
              "</table>\n",
              "</div>"
            ],
            "text/plain": [
              "                                                                                                                 Caption  \\\n",
              "0                                                                          How I feel today #legday #jelly #aching #gym    \n",
              "1                    @ArrivaTW absolute disgrace two carriages from Bangor half way there standing room only #disgraced    \n",
              "2  This is my Valentine's from 1 of my nephews. I am elated; sometimes the little things are the biggest & best things!    \n",
              "3                          betterfeelingfilms: RT via Instagram: First day of filming #powerless back in 2011. Can't ¡­    \n",
              "4                                                                             Zoe's first love #Rattled @JohnnyHarper15    \n",
              "\n",
              "      LABEL  \\\n",
              "0  negative   \n",
              "1  negative   \n",
              "2  positive   \n",
              "3   neutral   \n",
              "4  positive   \n",
              "\n",
              "                                                                                                   text_cleaned  \\\n",
              "0                                                                      how i feel today legday jelly aching gym   \n",
              "1              arrivatw absolute disgrace two carriages from bangor half way there standing room only disgraced   \n",
              "2  this is my valentines from of my nephews i am elated sometimes the little things are the biggest best things   \n",
              "3                            betterfeelingfilms rt via instagram first day of filming powerless back in cannot    \n",
              "4                                                                          zoes first love rattled johnnyharper   \n",
              "\n",
              "                                                                                    tokens  \n",
              "0                                                  [feel, today, legday, jelly, ache, gym]  \n",
              "1  [arrivatw, absolute, disgrace, two, carriage, bangor, half, way, stand, room, disgrace]  \n",
              "2                   [valentine, nephew, elate, sometimes, little, thing, big, best, thing]  \n",
              "3              [betterfeelingfilms, rt, via, instagram, first, day, film, powerless, back]  \n",
              "4                                                [zoes, first, love, rattle, johnnyharper]  "
            ]
          },
          "execution_count": 16,
          "metadata": {},
          "output_type": "execute_result"
        }
      ],
      "source": [
        "df.head()"
      ]
    },
    {
      "cell_type": "markdown",
      "metadata": {
        "id": "WXVpSNMlj1F9"
      },
      "source": [
        "# Train-Test split of dataset"
      ]
    },
    {
      "cell_type": "code",
      "execution_count": null,
      "metadata": {
        "id": "ymkePcQxj1F-"
      },
      "outputs": [],
      "source": [
        "from sklearn.model_selection import train_test_split\n",
        "\n",
        "# First split: 70% train, 30% temporary\n",
        "X_train, X_temp, y_train, y_temp = train_test_split(df.tokens, df.LABEL, test_size=0.3, random_state=12547392)\n",
        "\n",
        "# Second split: 50% validation, 50% test of the remaining 30%\n",
        "X_val, X_test, y_val, y_test = train_test_split(X_temp, y_temp, test_size=0.5, random_state=12547392)\n"
      ]
    },
    {
      "cell_type": "code",
      "execution_count": null,
      "metadata": {
        "id": "wL4rTHDMj1F-",
        "outputId": "accbec26-f2ce-493c-8227-8fd8fe1cf9c8"
      },
      "outputs": [
        {
          "name": "stdout",
          "output_type": "stream",
          "text": [
            "1807             [rt, dallasblackcom, horrible, news, los, angeles, today, regard, khloes, estrange, husband, lamar, odom]\n",
            "1619                                                                                          [feel, desolate, take, quiz]\n",
            "526     [rt, bosshogswife, duckcommanderkidsdevo, release, today, book, much, fun, read, kiddos, chryssymama, excite, htt]\n",
            "915                                                                          [indias, modi, appal, temple, build, worship]\n",
            "3485                                                      [photo, photographer, get, rumble, jungle, beat, stone, gorilla]\n",
            "Name: tokens, dtype: object\n",
            "1807    negative\n",
            "1619    negative\n",
            "526     positive\n",
            "915     negative\n",
            "3485     neutral\n",
            "Name: LABEL, dtype: object\n"
          ]
        }
      ],
      "source": [
        "print(X_train.head())\n",
        "print(y_train.head())"
      ]
    },
    {
      "cell_type": "code",
      "execution_count": null,
      "metadata": {
        "id": "xdX_NJuDj1F-",
        "outputId": "9b8127e5-58b9-4bea-ae1f-1b3c37b69494"
      },
      "outputs": [
        {
          "name": "stdout",
          "output_type": "stream",
          "text": [
            "3408 3408\n",
            "730 730\n",
            "731 731\n"
          ]
        }
      ],
      "source": [
        "# Printing the lengths of the training and validation sets\n",
        "\n",
        "print(len(X_train), len(y_train))\n",
        "print(len(X_val), len(y_val))\n",
        "print(len(X_test), len(y_test))"
      ]
    },
    {
      "cell_type": "code",
      "execution_count": null,
      "metadata": {
        "id": "-bfZ0VAFj1F-",
        "outputId": "56499114-a853-48b1-df7c-d53c950dddf0"
      },
      "outputs": [
        {
          "name": "stdout",
          "output_type": "stream",
          "text": [
            "8.541960093896714\n",
            "3.610837223388305\n"
          ]
        }
      ],
      "source": [
        "# Get mean and std of sequence length on trainning set\n",
        "print(np.mean([len(x) for x in X_train]))\n",
        "print(np.std([len(x) for x in X_train]))"
      ]
    },
    {
      "cell_type": "markdown",
      "metadata": {
        "id": "YtyuYs99j1F-"
      },
      "source": [
        "# 1-Hot Vectors"
      ]
    },
    {
      "cell_type": "code",
      "execution_count": null,
      "metadata": {
        "id": "QVywTohwj1F-",
        "outputId": "749a585d-0bd8-4bd5-c934-5c486fa27add"
      },
      "outputs": [
        {
          "name": "stdout",
          "output_type": "stream",
          "text": [
            "Index: 0  Category:  negative\n",
            "Index: 1  Category:  neutral\n",
            "Index: 2  Category:  positive\n",
            "-----------------------------------\n",
            "Label index: negative | 1-hot vector:  [1, 0, 0]\n",
            "Label index: positive | 1-hot vector:  [0, 0, 1]\n",
            "Label index: neutral | 1-hot vector:  [0, 1, 0]\n"
          ]
        }
      ],
      "source": [
        "y_train_1_hot = pd.get_dummies(y_train).values.tolist()\n",
        "\n",
        "\n",
        "#1-Hot to train set\n",
        "for i in range(len(y_train_1_hot)):\n",
        "    for j in range(3):\n",
        "        if y_train_1_hot[i][j]==True:\n",
        "            y_train_1_hot[i][j]=1\n",
        "        else:\n",
        "            y_train_1_hot[i][j]=0\n",
        "\n",
        "\n",
        "\n",
        "#1-Hot to validation set\n",
        "y_val_1_hot = pd.get_dummies(y_val).values.tolist()\n",
        "\n",
        "for i in range(len(y_val_1_hot)):\n",
        "    for j in range(3):\n",
        "        if y_val_1_hot[i][j]==True:\n",
        "            y_val_1_hot[i][j]=1\n",
        "        else:\n",
        "            y_val_1_hot[i][j]=0\n",
        "\n",
        "\n",
        "#1-Hot to validation set\n",
        "y_test_1_hot = pd.get_dummies(y_test).values.tolist()\n",
        "\n",
        "for i in range(len(y_test_1_hot)):\n",
        "    for j in range(3):\n",
        "        if y_test_1_hot[i][j]==True:\n",
        "            y_test_1_hot[i][j]=1\n",
        "        else:\n",
        "            y_test_1_hot[i][j]=0\n",
        "\n",
        "\n",
        "\n",
        "\n",
        "for i,name in enumerate (pd.get_dummies(y_train).columns):\n",
        "    print(\"Index:\",i,\" Category: \",name)\n",
        "\n",
        "print(\"-----------------------------------\")\n",
        "\n",
        "print(\"Label index: {} | 1-hot vector:  {}\".format(y_train[0],\n",
        "                                                   y_train_1_hot[0]))\n",
        "print(\"Label index: {} | 1-hot vector:  {}\".format(y_train[2],\n",
        "                                                   y_train_1_hot[2]))\n",
        "print(\"Label index: {} | 1-hot vector:  {}\".format(y_train.iloc[-3],\n",
        "                                                   y_train_1_hot[-3]))"
      ]
    },
    {
      "cell_type": "code",
      "execution_count": null,
      "metadata": {
        "id": "xOcSixn7j1F_"
      },
      "outputs": [],
      "source": [
        "# Convert y_train_1_hot from list to numpy array\n",
        "y_train_1_hot = np.array(y_train_1_hot)\n",
        "y_val_1_hot = np.array(y_val_1_hot)\n",
        "y_test_1_hot = np.array(y_test_1_hot)"
      ]
    },
    {
      "cell_type": "markdown",
      "metadata": {
        "id": "mcXc7Yu1j1F_"
      },
      "source": [
        "# Baseline (logistic regression)"
      ]
    },
    {
      "cell_type": "code",
      "execution_count": null,
      "metadata": {
        "id": "FXeg0awcj1F_",
        "outputId": "bdde2c80-6e7b-4d07-9d08-d25d2b913d3d"
      },
      "outputs": [
        {
          "name": "stdout",
          "output_type": "stream",
          "text": [
            "(3408, 6000) <class 'scipy.sparse._csr.csr_matrix'>\n"
          ]
        }
      ],
      "source": [
        "# Importing TfidfVectorizer from scikit-learn\n",
        "from sklearn.feature_extraction.text import TfidfVectorizer\n",
        "\n",
        "#Use unigram & bi-gram tf*idf features\n",
        "# max_features=6000: Limiting the maximum number of features to 6000\n",
        "vectorizer = TfidfVectorizer(ngram_range=(1,2), max_features = 6000,\n",
        "                             sublinear_tf=True)\n",
        "\n",
        "# Transforming the tokenized text data into TF-IDF features for training set\n",
        "X_train_tfidf = vectorizer.fit_transform([\" \".join(x) for x in\n",
        "                                          X_train])\n",
        "\n",
        "# Transforming the tokenized text data into TF-IDF features for validation set\n",
        "X_val_tfidf = vectorizer.transform([\" \".join(x) for x in\n",
        "                                    X_val])\n",
        "\n",
        "# Transforming the tokenized text data into TF-IDF features for validation set\n",
        "X_test_tfidf = vectorizer.transform([\" \".join(x) for x in\n",
        "                                    X_test])\n",
        "\n",
        "print(X_train_tfidf.shape, type(X_train_tfidf))"
      ]
    },
    {
      "cell_type": "code",
      "execution_count": null,
      "metadata": {
        "id": "PfwzdE5Nj1F_",
        "outputId": "2d81a7cb-53b7-4fd2-8374-893506fdc9fc"
      },
      "outputs": [
        {
          "name": "stdout",
          "output_type": "stream",
          "text": [
            "              precision    recall  f1-score   support\n",
            "\n",
            "    negative       0.70      0.64      0.67       221\n",
            "     neutral       0.61      0.66      0.63       273\n",
            "    positive       0.74      0.73      0.73       237\n",
            "\n",
            "    accuracy                           0.67       731\n",
            "   macro avg       0.68      0.67      0.68       731\n",
            "weighted avg       0.68      0.67      0.68       731\n",
            "\n"
          ]
        }
      ],
      "source": [
        "## Logistic Regression Without SVD\n",
        "\n",
        "from sklearn.linear_model import LogisticRegression\n",
        "from sklearn.metrics import classification_report\n",
        "\n",
        "clf = LogisticRegression(solver=\"liblinear\")\n",
        "clf.fit(X_train_tfidf, y_train)\n",
        "\n",
        "predictions = clf.predict(X_test_tfidf)\n",
        "# print(classification_report(y_val, predictions,\n",
        "#                             target_names=df.LABEL))\n",
        "\n",
        "print(classification_report(y_test, predictions))"
      ]
    },
    {
      "cell_type": "markdown",
      "metadata": {
        "id": "QoU0oxmEj1F_"
      },
      "source": [
        "# Convert text (sequence of words) to sequence of indexes and PAD the sequences"
      ]
    },
    {
      "cell_type": "code",
      "execution_count": null,
      "metadata": {
        "id": "V6hojJ8zj1F_"
      },
      "outputs": [],
      "source": [
        "from tensorflow.keras.layers import TextVectorization\n",
        "\n",
        "MAX_WORDS = 100000\n",
        "MAX_SEQUENCE_LENGTH = 256\n",
        "EMBEDDING_DIM = 300\n",
        "\n",
        "vectorizer = TextVectorization(max_tokens=MAX_WORDS, output_mode='int', ngrams=1,\n",
        "              output_sequence_length=MAX_SEQUENCE_LENGTH)\n",
        "\n",
        "vectorizer.adapt([\" \".join(x) for x in X_train])"
      ]
    },
    {
      "cell_type": "code",
      "execution_count": null,
      "metadata": {
        "id": "OYCsmIIDj1F_",
        "outputId": "f399a43b-c992-460a-bc13-2d1c5b45035c"
      },
      "outputs": [
        {
          "name": "stdout",
          "output_type": "stream",
          "text": [
            "['feel', 'today', 'legday', 'jelly', 'ache', 'gym']\n",
            "(15, 'feel')\n",
            "(12, 'today')\n",
            "(7309, 'legday')\n",
            "(2618, 'jelly')\n",
            "(515, 'ache')\n",
            "(810, 'gym')\n"
          ]
        }
      ],
      "source": [
        "print(X_train[0])\n",
        "for widx, word in zip(vectorizer(' '.join(X_train[0])).numpy().tolist(),X_train[0]):\n",
        "  print((widx,word))\n"
      ]
    },
    {
      "cell_type": "code",
      "execution_count": null,
      "metadata": {
        "id": "uGf1qMQYj1GA",
        "outputId": "d8d2c88c-b169-4f64-a87a-89b106b570a3"
      },
      "outputs": [
        {
          "name": "stdout",
          "output_type": "stream",
          "text": [
            "genuine hp black ink cartridge in damaged retail box\n"
          ]
        },
        {
          "data": {
            "text/plain": [
              "<tf.Tensor: shape=(256,), dtype=int64, numpy=\n",
              "array([ 815,  568,   11, 1248, 1352,    1,    1, 1155,  188,    0,    0,\n",
              "          0,    0,    0,    0,    0,    0,    0,    0,    0,    0,    0,\n",
              "          0,    0,    0,    0,    0,    0,    0,    0,    0,    0,    0,\n",
              "          0,    0,    0,    0,    0,    0,    0,    0,    0,    0,    0,\n",
              "          0,    0,    0,    0,    0,    0,    0,    0,    0,    0,    0,\n",
              "          0,    0,    0,    0,    0,    0,    0,    0,    0,    0,    0,\n",
              "          0,    0,    0,    0,    0,    0,    0,    0,    0,    0,    0,\n",
              "          0,    0,    0,    0,    0,    0,    0,    0,    0,    0,    0,\n",
              "          0,    0,    0,    0,    0,    0,    0,    0,    0,    0,    0,\n",
              "          0,    0,    0,    0,    0,    0,    0,    0,    0,    0,    0,\n",
              "          0,    0,    0,    0,    0,    0,    0,    0,    0,    0,    0,\n",
              "          0,    0,    0,    0,    0,    0,    0,    0,    0,    0,    0,\n",
              "          0,    0,    0,    0,    0,    0,    0,    0,    0,    0,    0,\n",
              "          0,    0,    0,    0,    0,    0,    0,    0,    0,    0,    0,\n",
              "          0,    0,    0,    0,    0,    0,    0,    0,    0,    0,    0,\n",
              "          0,    0,    0,    0,    0,    0,    0,    0,    0,    0,    0,\n",
              "          0,    0,    0,    0,    0,    0,    0,    0,    0,    0,    0,\n",
              "          0,    0,    0,    0,    0,    0,    0,    0,    0,    0,    0,\n",
              "          0,    0,    0,    0,    0,    0,    0,    0,    0,    0,    0,\n",
              "          0,    0,    0,    0,    0,    0,    0,    0,    0,    0,    0,\n",
              "          0,    0,    0,    0,    0,    0,    0,    0,    0,    0,    0,\n",
              "          0,    0,    0,    0,    0,    0,    0,    0,    0,    0,    0,\n",
              "          0,    0,    0,    0,    0,    0,    0,    0,    0,    0,    0,\n",
              "          0,    0,    0], dtype=int64)>"
            ]
          },
          "execution_count": 27,
          "metadata": {},
          "output_type": "execute_result"
        }
      ],
      "source": [
        "# Print an example with a sentece from the dataset and the represantation in vectorizer\n",
        "print(df['text_cleaned'][3409])\n",
        "vectorizer.call(df['text_cleaned'][3409])"
      ]
    },
    {
      "cell_type": "markdown",
      "metadata": {
        "id": "y4gRU7lHj1GA"
      },
      "source": [
        "# Initialize embedding matrix with gensim pre-trained embedings"
      ]
    },
    {
      "cell_type": "code",
      "execution_count": null,
      "metadata": {
        "id": "mPk2rGJfj1GA"
      },
      "outputs": [],
      "source": [
        "import gensim.downloader as api\n",
        "word2vec = api.load('word2vec-google-news-300')\n",
        "\n",
        "embedding_matrix = np.zeros((MAX_WORDS, 300))  # +2 (pad, unkown)\n",
        "\n",
        "# PAD is vector zero\n",
        "# UNK is also vector zero\n",
        "for w2idx, _word in enumerate(vectorizer.get_vocabulary()):\n",
        "    # Skip PAD and UNK tokens\n",
        "    if w2idx < 2:\n",
        "      continue\n",
        "    try:\n",
        "        embedding_matrix[w2idx] = word2vec[_word]\n",
        "    except:\n",
        "        pass\n",
        "\n",
        "del word2vec"
      ]
    },
    {
      "cell_type": "code",
      "execution_count": null,
      "metadata": {
        "id": "leD3Vkz6j1GA",
        "outputId": "ff2d8dfd-c1e1-4c94-f4fc-d7bc1684a810"
      },
      "outputs": [
        {
          "name": "stdout",
          "output_type": "stream",
          "text": [
            "get\n",
            "[ 0.03320312 -0.08984375 -0.29492188  0.11523438 -0.07128906 -0.05395508\n",
            "  0.01049805  0.11914062  0.02453613  0.08007812 -0.15039062 -0.19042969\n",
            "  0.04785156  0.17089844 -0.12695312  0.04394531  0.04760742  0.15722656\n",
            "  0.17089844  0.06201172 -0.10644531  0.10791016  0.2734375   0.01989746\n",
            "  0.20996094 -0.05737305 -0.03710938 -0.12060547  0.12255859 -0.04589844\n",
            " -0.04663086  0.08349609 -0.171875   -0.00500488  0.15234375 -0.12890625\n",
            "  0.03295898 -0.01409912  0.11669922  0.11669922  0.07763672 -0.13574219\n",
            "  0.11816406 -0.01647949 -0.16308594 -0.17578125 -0.08544922 -0.05444336\n",
            "  0.04492188  0.11425781 -0.13183594  0.2265625   0.0612793  -0.04370117\n",
            " -0.0133667   0.06542969  0.05004883  0.00445557 -0.06982422 -0.08789062\n",
            "  0.13769531 -0.04663086 -0.17480469  0.01818848  0.01660156  0.06005859\n",
            " -0.00970459  0.00915527 -0.06933594  0.14355469  0.19140625  0.18261719\n",
            "  0.10595703 -0.08935547 -0.19238281 -0.04663086  0.08837891  0.23730469\n",
            "  0.02355957  0.15039062 -0.03369141  0.03198242  0.13671875  0.17871094\n",
            "  0.10888672  0.11621094 -0.14648438  0.15625    -0.0378418   0.00302124\n",
            " -0.00674438  0.2109375  -0.04125977 -0.15332031 -0.12353516 -0.16601562\n",
            "  0.30273438  0.20800781  0.16015625  0.01647949 -0.14160156 -0.18652344\n",
            " -0.02478027  0.04956055 -0.17871094 -0.10839844 -0.14746094 -0.08691406\n",
            "  0.21191406  0.11474609  0.02026367  0.00976562 -0.0189209  -0.15917969\n",
            "  0.07177734  0.11572266  0.17382812 -0.0279541   0.1640625  -0.04296875\n",
            " -0.08447266 -0.03198242 -0.10742188  0.31640625  0.12451172  0.07470703\n",
            " -0.12988281 -0.10351562  0.0189209  -0.06787109  0.09033203 -0.17382812\n",
            " -0.03027344 -0.07177734  0.03491211 -0.05029297  0.10205078  0.18652344\n",
            " -0.09228516  0.04492188 -0.00741577 -0.05322266 -0.08203125 -0.03808594\n",
            "  0.03564453 -0.012146   -0.13574219 -0.45898438 -0.12695312 -0.09423828\n",
            "  0.125       0.09814453 -0.18164062  0.10644531 -0.07128906 -0.10058594\n",
            "  0.11962891 -0.14746094 -0.19433594  0.09277344  0.07177734 -0.0625\n",
            " -0.07080078 -0.02209473  0.08886719 -0.2734375  -0.0378418  -0.19628906\n",
            "  0.10888672 -0.18554688 -0.3125     -0.10400391 -0.07617188  0.06542969\n",
            " -0.10351562  0.0067749   0.21777344 -0.11181641  0.01538086  0.25390625\n",
            "  0.02612305 -0.07470703  0.08642578  0.25585938 -0.13085938 -0.07080078\n",
            "  0.03540039 -0.05615234  0.05395508 -0.10449219  0.20214844 -0.11425781\n",
            "  0.07568359 -0.06494141  0.0480957  -0.10058594 -0.04956055 -0.18261719\n",
            " -0.19335938 -0.03833008  0.03369141  0.07617188 -0.09472656  0.02770996\n",
            "  0.15429688 -0.04589844 -0.16699219 -0.09716797  0.10498047 -0.01867676\n",
            " -0.02075195  0.16210938  0.04907227  0.14355469 -0.20605469  0.06494141\n",
            "  0.06933594 -0.00561523  0.06347656 -0.15039062 -0.16796875 -0.23730469\n",
            "  0.13476562  0.078125    0.15722656  0.06689453  0.11962891  0.11914062\n",
            " -0.01190186 -0.07470703  0.18164062 -0.06738281  0.11523438  0.140625\n",
            "  0.09619141  0.16894531 -0.04150391 -0.08740234  0.11328125  0.00411987\n",
            "  0.13867188  0.14257812 -0.05175781 -0.15820312  0.10839844  0.04467773\n",
            " -0.08105469  0.125      -0.08935547  0.0045166  -0.02990723  0.00720215\n",
            "  0.0177002   0.05883789  0.09667969  0.16015625  0.01428223  0.0039978\n",
            " -0.07617188 -0.12011719 -0.12402344 -0.20214844 -0.12695312  0.08007812\n",
            "  0.15332031  0.125       0.14257812 -0.05541992 -0.0625      0.00576782\n",
            " -0.01434326  0.24414062  0.27148438  0.10253906  0.0291748  -0.07177734\n",
            " -0.06884766 -0.29101562 -0.07617188 -0.13378906  0.08496094 -0.171875\n",
            "  0.05371094  0.15527344 -0.04785156  0.03979492 -0.11425781 -0.04321289\n",
            "  0.03613281 -0.00558472 -0.02172852  0.18261719 -0.08691406  0.09667969\n",
            " -0.01251221  0.07568359  0.00427246 -0.12695312  0.16113281 -0.16015625]\n"
          ]
        }
      ],
      "source": [
        "# example of a word embedding of a random word\n",
        "\n",
        "print(vectorizer.get_vocabulary()[3])\n",
        "print(embedding_matrix[3])"
      ]
    },
    {
      "cell_type": "code",
      "execution_count": null,
      "metadata": {
        "id": "ksPYbUA5j1GA"
      },
      "outputs": [],
      "source": [
        "# Create class Metrics\n",
        "\n",
        "import tensorflow as tf\n",
        "from sklearn.metrics import f1_score, recall_score, precision_score\n",
        "import numpy as np\n",
        "import os\n",
        "\n",
        "\n",
        "class Metrics(tf.keras.callbacks.Callback):\n",
        "    def __init__(self, valid_data):\n",
        "        super(Metrics, self).__init__()\n",
        "        self.validation_data = valid_data\n",
        "\n",
        "    def on_epoch_end(self, epoch, logs=None):\n",
        "        logs = logs or {}\n",
        "        val_predict = np.argmax(self.model.predict(self.validation_data[0]), -1)\n",
        "        val_targ = self.validation_data[1]\n",
        "        val_targ = tf.cast(val_targ,dtype=tf.float32)\n",
        "        if len(val_targ.shape) == 2 and val_targ.shape[1] != 1:\n",
        "          val_targ = np.argmax(val_targ, -1)\n",
        "\n",
        "\n",
        "        _val_f1 = f1_score(val_targ, val_predict,average=\"weighted\")\n",
        "        _val_recall = recall_score(val_targ, val_predict,average=\"weighted\")\n",
        "        _val_precision = precision_score(val_targ, val_predict,average=\"weighted\")\n",
        "\n",
        "        logs['val_f1'] = _val_f1\n",
        "        logs['val_recall'] = _val_recall\n",
        "        logs['val_precision'] = _val_precision\n",
        "        print(\" — val_f1: %f — val_precision: %f — val_recall: %f\" % (_val_f1, _val_precision, _val_recall))\n",
        "        return"
      ]
    },
    {
      "cell_type": "markdown",
      "metadata": {
        "id": "x8yD7_jJj1GA"
      },
      "source": [
        "# CNN model"
      ]
    },
    {
      "cell_type": "code",
      "execution_count": null,
      "metadata": {
        "id": "3uQ7K9HCj1GA",
        "outputId": "a3538213-4e9d-479e-c67a-c57b5d0a1236"
      },
      "outputs": [
        {
          "name": "stderr",
          "output_type": "stream",
          "text": [
            "C:\\Users\\panka\\AppData\\Roaming\\Python\\Python312\\site-packages\\keras\\src\\layers\\core\\embedding.py:90: UserWarning: Argument `input_length` is deprecated. Just remove it.\n",
            "  warnings.warn(\n"
          ]
        },
        {
          "data": {
            "text/html": [
              "<pre style=\"white-space:pre;overflow-x:auto;line-height:normal;font-family:Menlo,'DejaVu Sans Mono',consolas,'Courier New',monospace\"><span style=\"font-weight: bold\">Model: \"functional_1\"</span>\n",
              "</pre>\n"
            ],
            "text/plain": [
              "\u001b[1mModel: \"functional_1\"\u001b[0m\n"
            ]
          },
          "metadata": {},
          "output_type": "display_data"
        },
        {
          "data": {
            "text/html": [
              "<pre style=\"white-space:pre;overflow-x:auto;line-height:normal;font-family:Menlo,'DejaVu Sans Mono',consolas,'Courier New',monospace\">┏━━━━━━━━━━━━━━━━━━━━━┳━━━━━━━━━━━━━━━━━━━┳━━━━━━━━━━━━┳━━━━━━━━━━━━━━━━━━━┓\n",
              "┃<span style=\"font-weight: bold\"> Layer (type)        </span>┃<span style=\"font-weight: bold\"> Output Shape      </span>┃<span style=\"font-weight: bold\">    Param # </span>┃<span style=\"font-weight: bold\"> Connected to      </span>┃\n",
              "┡━━━━━━━━━━━━━━━━━━━━━╇━━━━━━━━━━━━━━━━━━━╇━━━━━━━━━━━━╇━━━━━━━━━━━━━━━━━━━┩\n",
              "│ input_layer         │ (<span style=\"color: #00d7ff; text-decoration-color: #00d7ff\">None</span>, <span style=\"color: #00af00; text-decoration-color: #00af00\">1</span>)         │          <span style=\"color: #00af00; text-decoration-color: #00af00\">0</span> │ -                 │\n",
              "│ (<span style=\"color: #0087ff; text-decoration-color: #0087ff\">InputLayer</span>)        │                   │            │                   │\n",
              "├─────────────────────┼───────────────────┼────────────┼───────────────────┤\n",
              "│ text_vectorization  │ (<span style=\"color: #00d7ff; text-decoration-color: #00d7ff\">None</span>, <span style=\"color: #00af00; text-decoration-color: #00af00\">256</span>)       │          <span style=\"color: #00af00; text-decoration-color: #00af00\">0</span> │ input_layer[<span style=\"color: #00af00; text-decoration-color: #00af00\">0</span>][<span style=\"color: #00af00; text-decoration-color: #00af00\">0</span>] │\n",
              "│ (<span style=\"color: #0087ff; text-decoration-color: #0087ff\">TextVectorization</span>) │                   │            │                   │\n",
              "├─────────────────────┼───────────────────┼────────────┼───────────────────┤\n",
              "│ embedding           │ (<span style=\"color: #00d7ff; text-decoration-color: #00d7ff\">None</span>, <span style=\"color: #00af00; text-decoration-color: #00af00\">256</span>, <span style=\"color: #00af00; text-decoration-color: #00af00\">300</span>)  │ <span style=\"color: #00af00; text-decoration-color: #00af00\">30,000,000</span> │ text_vectorizati… │\n",
              "│ (<span style=\"color: #0087ff; text-decoration-color: #0087ff\">Embedding</span>)         │                   │            │                   │\n",
              "├─────────────────────┼───────────────────┼────────────┼───────────────────┤\n",
              "│ dropout (<span style=\"color: #0087ff; text-decoration-color: #0087ff\">Dropout</span>)   │ (<span style=\"color: #00d7ff; text-decoration-color: #00d7ff\">None</span>, <span style=\"color: #00af00; text-decoration-color: #00af00\">256</span>, <span style=\"color: #00af00; text-decoration-color: #00af00\">300</span>)  │          <span style=\"color: #00af00; text-decoration-color: #00af00\">0</span> │ embedding[<span style=\"color: #00af00; text-decoration-color: #00af00\">0</span>][<span style=\"color: #00af00; text-decoration-color: #00af00\">0</span>]   │\n",
              "├─────────────────────┼───────────────────┼────────────┼───────────────────┤\n",
              "│ 2-gram_Convolutions │ (<span style=\"color: #00d7ff; text-decoration-color: #00d7ff\">None</span>, <span style=\"color: #00af00; text-decoration-color: #00af00\">255</span>, <span style=\"color: #00af00; text-decoration-color: #00af00\">128</span>)  │     <span style=\"color: #00af00; text-decoration-color: #00af00\">76,928</span> │ dropout[<span style=\"color: #00af00; text-decoration-color: #00af00\">0</span>][<span style=\"color: #00af00; text-decoration-color: #00af00\">0</span>]     │\n",
              "│ (<span style=\"color: #0087ff; text-decoration-color: #0087ff\">Conv1D</span>)            │                   │            │                   │\n",
              "├─────────────────────┼───────────────────┼────────────┼───────────────────┤\n",
              "│ 3-gram_Convolutions │ (<span style=\"color: #00d7ff; text-decoration-color: #00d7ff\">None</span>, <span style=\"color: #00af00; text-decoration-color: #00af00\">254</span>, <span style=\"color: #00af00; text-decoration-color: #00af00\">128</span>)  │    <span style=\"color: #00af00; text-decoration-color: #00af00\">115,328</span> │ dropout[<span style=\"color: #00af00; text-decoration-color: #00af00\">0</span>][<span style=\"color: #00af00; text-decoration-color: #00af00\">0</span>]     │\n",
              "│ (<span style=\"color: #0087ff; text-decoration-color: #0087ff\">Conv1D</span>)            │                   │            │                   │\n",
              "├─────────────────────┼───────────────────┼────────────┼───────────────────┤\n",
              "│ 4-gram_Convolutions │ (<span style=\"color: #00d7ff; text-decoration-color: #00d7ff\">None</span>, <span style=\"color: #00af00; text-decoration-color: #00af00\">253</span>, <span style=\"color: #00af00; text-decoration-color: #00af00\">128</span>)  │    <span style=\"color: #00af00; text-decoration-color: #00af00\">153,728</span> │ dropout[<span style=\"color: #00af00; text-decoration-color: #00af00\">0</span>][<span style=\"color: #00af00; text-decoration-color: #00af00\">0</span>]     │\n",
              "│ (<span style=\"color: #0087ff; text-decoration-color: #0087ff\">Conv1D</span>)            │                   │            │                   │\n",
              "├─────────────────────┼───────────────────┼────────────┼───────────────────┤\n",
              "│ 2-gram_Convolution… │ (<span style=\"color: #00d7ff; text-decoration-color: #00d7ff\">None</span>, <span style=\"color: #00af00; text-decoration-color: #00af00\">254</span>, <span style=\"color: #00af00; text-decoration-color: #00af00\">128</span>)  │     <span style=\"color: #00af00; text-decoration-color: #00af00\">32,896</span> │ 2-gram_Convoluti… │\n",
              "│ (<span style=\"color: #0087ff; text-decoration-color: #0087ff\">Conv1D</span>)            │                   │            │                   │\n",
              "├─────────────────────┼───────────────────┼────────────┼───────────────────┤\n",
              "│ 3-gram_Convolution… │ (<span style=\"color: #00d7ff; text-decoration-color: #00d7ff\">None</span>, <span style=\"color: #00af00; text-decoration-color: #00af00\">252</span>, <span style=\"color: #00af00; text-decoration-color: #00af00\">128</span>)  │     <span style=\"color: #00af00; text-decoration-color: #00af00\">49,280</span> │ 3-gram_Convoluti… │\n",
              "│ (<span style=\"color: #0087ff; text-decoration-color: #0087ff\">Conv1D</span>)            │                   │            │                   │\n",
              "├─────────────────────┼───────────────────┼────────────┼───────────────────┤\n",
              "│ 4-gram_Convolution… │ (<span style=\"color: #00d7ff; text-decoration-color: #00d7ff\">None</span>, <span style=\"color: #00af00; text-decoration-color: #00af00\">250</span>, <span style=\"color: #00af00; text-decoration-color: #00af00\">128</span>)  │     <span style=\"color: #00af00; text-decoration-color: #00af00\">65,664</span> │ 4-gram_Convoluti… │\n",
              "│ (<span style=\"color: #0087ff; text-decoration-color: #0087ff\">Conv1D</span>)            │                   │            │                   │\n",
              "├─────────────────────┼───────────────────┼────────────┼───────────────────┤\n",
              "│ 2-gram_Convolution… │ (<span style=\"color: #00d7ff; text-decoration-color: #00d7ff\">None</span>, <span style=\"color: #00af00; text-decoration-color: #00af00\">253</span>, <span style=\"color: #00af00; text-decoration-color: #00af00\">128</span>)  │     <span style=\"color: #00af00; text-decoration-color: #00af00\">32,896</span> │ 2-gram_Convoluti… │\n",
              "│ (<span style=\"color: #0087ff; text-decoration-color: #0087ff\">Conv1D</span>)            │                   │            │                   │\n",
              "├─────────────────────┼───────────────────┼────────────┼───────────────────┤\n",
              "│ 3-gram_Convolution… │ (<span style=\"color: #00d7ff; text-decoration-color: #00d7ff\">None</span>, <span style=\"color: #00af00; text-decoration-color: #00af00\">250</span>, <span style=\"color: #00af00; text-decoration-color: #00af00\">128</span>)  │     <span style=\"color: #00af00; text-decoration-color: #00af00\">49,280</span> │ 3-gram_Convoluti… │\n",
              "│ (<span style=\"color: #0087ff; text-decoration-color: #0087ff\">Conv1D</span>)            │                   │            │                   │\n",
              "├─────────────────────┼───────────────────┼────────────┼───────────────────┤\n",
              "│ 4-gram_Convolution… │ (<span style=\"color: #00d7ff; text-decoration-color: #00d7ff\">None</span>, <span style=\"color: #00af00; text-decoration-color: #00af00\">247</span>, <span style=\"color: #00af00; text-decoration-color: #00af00\">128</span>)  │     <span style=\"color: #00af00; text-decoration-color: #00af00\">65,664</span> │ 4-gram_Convoluti… │\n",
              "│ (<span style=\"color: #0087ff; text-decoration-color: #0087ff\">Conv1D</span>)            │                   │            │                   │\n",
              "├─────────────────────┼───────────────────┼────────────┼───────────────────┤\n",
              "│ 2-gram_MaxPool      │ (<span style=\"color: #00d7ff; text-decoration-color: #00d7ff\">None</span>, <span style=\"color: #00af00; text-decoration-color: #00af00\">128</span>)       │          <span style=\"color: #00af00; text-decoration-color: #00af00\">0</span> │ 2-gram_Convoluti… │\n",
              "│ (<span style=\"color: #0087ff; text-decoration-color: #0087ff\">GlobalMaxPooling1…</span> │                   │            │                   │\n",
              "├─────────────────────┼───────────────────┼────────────┼───────────────────┤\n",
              "│ 3-gram_MaxPool      │ (<span style=\"color: #00d7ff; text-decoration-color: #00d7ff\">None</span>, <span style=\"color: #00af00; text-decoration-color: #00af00\">128</span>)       │          <span style=\"color: #00af00; text-decoration-color: #00af00\">0</span> │ 3-gram_Convoluti… │\n",
              "│ (<span style=\"color: #0087ff; text-decoration-color: #0087ff\">GlobalMaxPooling1…</span> │                   │            │                   │\n",
              "├─────────────────────┼───────────────────┼────────────┼───────────────────┤\n",
              "│ 4-gram_MaxPool      │ (<span style=\"color: #00d7ff; text-decoration-color: #00d7ff\">None</span>, <span style=\"color: #00af00; text-decoration-color: #00af00\">128</span>)       │          <span style=\"color: #00af00; text-decoration-color: #00af00\">0</span> │ 4-gram_Convoluti… │\n",
              "│ (<span style=\"color: #0087ff; text-decoration-color: #0087ff\">GlobalMaxPooling1…</span> │                   │            │                   │\n",
              "├─────────────────────┼───────────────────┼────────────┼───────────────────┤\n",
              "│ concatenate         │ (<span style=\"color: #00d7ff; text-decoration-color: #00d7ff\">None</span>, <span style=\"color: #00af00; text-decoration-color: #00af00\">384</span>)       │          <span style=\"color: #00af00; text-decoration-color: #00af00\">0</span> │ 2-gram_MaxPool[<span style=\"color: #00af00; text-decoration-color: #00af00\">0</span>… │\n",
              "│ (<span style=\"color: #0087ff; text-decoration-color: #0087ff\">Concatenate</span>)       │                   │            │ 3-gram_MaxPool[<span style=\"color: #00af00; text-decoration-color: #00af00\">0</span>… │\n",
              "│                     │                   │            │ 4-gram_MaxPool[<span style=\"color: #00af00; text-decoration-color: #00af00\">0</span>… │\n",
              "├─────────────────────┼───────────────────┼────────────┼───────────────────┤\n",
              "│ dropout_1 (<span style=\"color: #0087ff; text-decoration-color: #0087ff\">Dropout</span>) │ (<span style=\"color: #00d7ff; text-decoration-color: #00d7ff\">None</span>, <span style=\"color: #00af00; text-decoration-color: #00af00\">384</span>)       │          <span style=\"color: #00af00; text-decoration-color: #00af00\">0</span> │ concatenate[<span style=\"color: #00af00; text-decoration-color: #00af00\">0</span>][<span style=\"color: #00af00; text-decoration-color: #00af00\">0</span>] │\n",
              "├─────────────────────┼───────────────────┼────────────┼───────────────────┤\n",
              "│ dense (<span style=\"color: #0087ff; text-decoration-color: #0087ff\">Dense</span>)       │ (<span style=\"color: #00d7ff; text-decoration-color: #00d7ff\">None</span>, <span style=\"color: #00af00; text-decoration-color: #00af00\">3</span>)         │      <span style=\"color: #00af00; text-decoration-color: #00af00\">1,155</span> │ dropout_1[<span style=\"color: #00af00; text-decoration-color: #00af00\">0</span>][<span style=\"color: #00af00; text-decoration-color: #00af00\">0</span>]   │\n",
              "└─────────────────────┴───────────────────┴────────────┴───────────────────┘\n",
              "</pre>\n"
            ],
            "text/plain": [
              "┏━━━━━━━━━━━━━━━━━━━━━┳━━━━━━━━━━━━━━━━━━━┳━━━━━━━━━━━━┳━━━━━━━━━━━━━━━━━━━┓\n",
              "┃\u001b[1m \u001b[0m\u001b[1mLayer (type)       \u001b[0m\u001b[1m \u001b[0m┃\u001b[1m \u001b[0m\u001b[1mOutput Shape     \u001b[0m\u001b[1m \u001b[0m┃\u001b[1m \u001b[0m\u001b[1m   Param #\u001b[0m\u001b[1m \u001b[0m┃\u001b[1m \u001b[0m\u001b[1mConnected to     \u001b[0m\u001b[1m \u001b[0m┃\n",
              "┡━━━━━━━━━━━━━━━━━━━━━╇━━━━━━━━━━━━━━━━━━━╇━━━━━━━━━━━━╇━━━━━━━━━━━━━━━━━━━┩\n",
              "│ input_layer         │ (\u001b[38;5;45mNone\u001b[0m, \u001b[38;5;34m1\u001b[0m)         │          \u001b[38;5;34m0\u001b[0m │ -                 │\n",
              "│ (\u001b[38;5;33mInputLayer\u001b[0m)        │                   │            │                   │\n",
              "├─────────────────────┼───────────────────┼────────────┼───────────────────┤\n",
              "│ text_vectorization  │ (\u001b[38;5;45mNone\u001b[0m, \u001b[38;5;34m256\u001b[0m)       │          \u001b[38;5;34m0\u001b[0m │ input_layer[\u001b[38;5;34m0\u001b[0m][\u001b[38;5;34m0\u001b[0m] │\n",
              "│ (\u001b[38;5;33mTextVectorization\u001b[0m) │                   │            │                   │\n",
              "├─────────────────────┼───────────────────┼────────────┼───────────────────┤\n",
              "│ embedding           │ (\u001b[38;5;45mNone\u001b[0m, \u001b[38;5;34m256\u001b[0m, \u001b[38;5;34m300\u001b[0m)  │ \u001b[38;5;34m30,000,000\u001b[0m │ text_vectorizati… │\n",
              "│ (\u001b[38;5;33mEmbedding\u001b[0m)         │                   │            │                   │\n",
              "├─────────────────────┼───────────────────┼────────────┼───────────────────┤\n",
              "│ dropout (\u001b[38;5;33mDropout\u001b[0m)   │ (\u001b[38;5;45mNone\u001b[0m, \u001b[38;5;34m256\u001b[0m, \u001b[38;5;34m300\u001b[0m)  │          \u001b[38;5;34m0\u001b[0m │ embedding[\u001b[38;5;34m0\u001b[0m][\u001b[38;5;34m0\u001b[0m]   │\n",
              "├─────────────────────┼───────────────────┼────────────┼───────────────────┤\n",
              "│ 2-gram_Convolutions │ (\u001b[38;5;45mNone\u001b[0m, \u001b[38;5;34m255\u001b[0m, \u001b[38;5;34m128\u001b[0m)  │     \u001b[38;5;34m76,928\u001b[0m │ dropout[\u001b[38;5;34m0\u001b[0m][\u001b[38;5;34m0\u001b[0m]     │\n",
              "│ (\u001b[38;5;33mConv1D\u001b[0m)            │                   │            │                   │\n",
              "├─────────────────────┼───────────────────┼────────────┼───────────────────┤\n",
              "│ 3-gram_Convolutions │ (\u001b[38;5;45mNone\u001b[0m, \u001b[38;5;34m254\u001b[0m, \u001b[38;5;34m128\u001b[0m)  │    \u001b[38;5;34m115,328\u001b[0m │ dropout[\u001b[38;5;34m0\u001b[0m][\u001b[38;5;34m0\u001b[0m]     │\n",
              "│ (\u001b[38;5;33mConv1D\u001b[0m)            │                   │            │                   │\n",
              "├─────────────────────┼───────────────────┼────────────┼───────────────────┤\n",
              "│ 4-gram_Convolutions │ (\u001b[38;5;45mNone\u001b[0m, \u001b[38;5;34m253\u001b[0m, \u001b[38;5;34m128\u001b[0m)  │    \u001b[38;5;34m153,728\u001b[0m │ dropout[\u001b[38;5;34m0\u001b[0m][\u001b[38;5;34m0\u001b[0m]     │\n",
              "│ (\u001b[38;5;33mConv1D\u001b[0m)            │                   │            │                   │\n",
              "├─────────────────────┼───────────────────┼────────────┼───────────────────┤\n",
              "│ 2-gram_Convolution… │ (\u001b[38;5;45mNone\u001b[0m, \u001b[38;5;34m254\u001b[0m, \u001b[38;5;34m128\u001b[0m)  │     \u001b[38;5;34m32,896\u001b[0m │ 2-gram_Convoluti… │\n",
              "│ (\u001b[38;5;33mConv1D\u001b[0m)            │                   │            │                   │\n",
              "├─────────────────────┼───────────────────┼────────────┼───────────────────┤\n",
              "│ 3-gram_Convolution… │ (\u001b[38;5;45mNone\u001b[0m, \u001b[38;5;34m252\u001b[0m, \u001b[38;5;34m128\u001b[0m)  │     \u001b[38;5;34m49,280\u001b[0m │ 3-gram_Convoluti… │\n",
              "│ (\u001b[38;5;33mConv1D\u001b[0m)            │                   │            │                   │\n",
              "├─────────────────────┼───────────────────┼────────────┼───────────────────┤\n",
              "│ 4-gram_Convolution… │ (\u001b[38;5;45mNone\u001b[0m, \u001b[38;5;34m250\u001b[0m, \u001b[38;5;34m128\u001b[0m)  │     \u001b[38;5;34m65,664\u001b[0m │ 4-gram_Convoluti… │\n",
              "│ (\u001b[38;5;33mConv1D\u001b[0m)            │                   │            │                   │\n",
              "├─────────────────────┼───────────────────┼────────────┼───────────────────┤\n",
              "│ 2-gram_Convolution… │ (\u001b[38;5;45mNone\u001b[0m, \u001b[38;5;34m253\u001b[0m, \u001b[38;5;34m128\u001b[0m)  │     \u001b[38;5;34m32,896\u001b[0m │ 2-gram_Convoluti… │\n",
              "│ (\u001b[38;5;33mConv1D\u001b[0m)            │                   │            │                   │\n",
              "├─────────────────────┼───────────────────┼────────────┼───────────────────┤\n",
              "│ 3-gram_Convolution… │ (\u001b[38;5;45mNone\u001b[0m, \u001b[38;5;34m250\u001b[0m, \u001b[38;5;34m128\u001b[0m)  │     \u001b[38;5;34m49,280\u001b[0m │ 3-gram_Convoluti… │\n",
              "│ (\u001b[38;5;33mConv1D\u001b[0m)            │                   │            │                   │\n",
              "├─────────────────────┼───────────────────┼────────────┼───────────────────┤\n",
              "│ 4-gram_Convolution… │ (\u001b[38;5;45mNone\u001b[0m, \u001b[38;5;34m247\u001b[0m, \u001b[38;5;34m128\u001b[0m)  │     \u001b[38;5;34m65,664\u001b[0m │ 4-gram_Convoluti… │\n",
              "│ (\u001b[38;5;33mConv1D\u001b[0m)            │                   │            │                   │\n",
              "├─────────────────────┼───────────────────┼────────────┼───────────────────┤\n",
              "│ 2-gram_MaxPool      │ (\u001b[38;5;45mNone\u001b[0m, \u001b[38;5;34m128\u001b[0m)       │          \u001b[38;5;34m0\u001b[0m │ 2-gram_Convoluti… │\n",
              "│ (\u001b[38;5;33mGlobalMaxPooling1…\u001b[0m │                   │            │                   │\n",
              "├─────────────────────┼───────────────────┼────────────┼───────────────────┤\n",
              "│ 3-gram_MaxPool      │ (\u001b[38;5;45mNone\u001b[0m, \u001b[38;5;34m128\u001b[0m)       │          \u001b[38;5;34m0\u001b[0m │ 3-gram_Convoluti… │\n",
              "│ (\u001b[38;5;33mGlobalMaxPooling1…\u001b[0m │                   │            │                   │\n",
              "├─────────────────────┼───────────────────┼────────────┼───────────────────┤\n",
              "│ 4-gram_MaxPool      │ (\u001b[38;5;45mNone\u001b[0m, \u001b[38;5;34m128\u001b[0m)       │          \u001b[38;5;34m0\u001b[0m │ 4-gram_Convoluti… │\n",
              "│ (\u001b[38;5;33mGlobalMaxPooling1…\u001b[0m │                   │            │                   │\n",
              "├─────────────────────┼───────────────────┼────────────┼───────────────────┤\n",
              "│ concatenate         │ (\u001b[38;5;45mNone\u001b[0m, \u001b[38;5;34m384\u001b[0m)       │          \u001b[38;5;34m0\u001b[0m │ 2-gram_MaxPool[\u001b[38;5;34m0\u001b[0m… │\n",
              "│ (\u001b[38;5;33mConcatenate\u001b[0m)       │                   │            │ 3-gram_MaxPool[\u001b[38;5;34m0\u001b[0m… │\n",
              "│                     │                   │            │ 4-gram_MaxPool[\u001b[38;5;34m0\u001b[0m… │\n",
              "├─────────────────────┼───────────────────┼────────────┼───────────────────┤\n",
              "│ dropout_1 (\u001b[38;5;33mDropout\u001b[0m) │ (\u001b[38;5;45mNone\u001b[0m, \u001b[38;5;34m384\u001b[0m)       │          \u001b[38;5;34m0\u001b[0m │ concatenate[\u001b[38;5;34m0\u001b[0m][\u001b[38;5;34m0\u001b[0m] │\n",
              "├─────────────────────┼───────────────────┼────────────┼───────────────────┤\n",
              "│ dense (\u001b[38;5;33mDense\u001b[0m)       │ (\u001b[38;5;45mNone\u001b[0m, \u001b[38;5;34m3\u001b[0m)         │      \u001b[38;5;34m1,155\u001b[0m │ dropout_1[\u001b[38;5;34m0\u001b[0m][\u001b[38;5;34m0\u001b[0m]   │\n",
              "└─────────────────────┴───────────────────┴────────────┴───────────────────┘\n"
            ]
          },
          "metadata": {},
          "output_type": "display_data"
        },
        {
          "data": {
            "text/html": [
              "<pre style=\"white-space:pre;overflow-x:auto;line-height:normal;font-family:Menlo,'DejaVu Sans Mono',consolas,'Courier New',monospace\"><span style=\"font-weight: bold\"> Total params: </span><span style=\"color: #00af00; text-decoration-color: #00af00\">30,642,819</span> (116.89 MB)\n",
              "</pre>\n"
            ],
            "text/plain": [
              "\u001b[1m Total params: \u001b[0m\u001b[38;5;34m30,642,819\u001b[0m (116.89 MB)\n"
            ]
          },
          "metadata": {},
          "output_type": "display_data"
        },
        {
          "data": {
            "text/html": [
              "<pre style=\"white-space:pre;overflow-x:auto;line-height:normal;font-family:Menlo,'DejaVu Sans Mono',consolas,'Courier New',monospace\"><span style=\"font-weight: bold\"> Trainable params: </span><span style=\"color: #00af00; text-decoration-color: #00af00\">30,642,819</span> (116.89 MB)\n",
              "</pre>\n"
            ],
            "text/plain": [
              "\u001b[1m Trainable params: \u001b[0m\u001b[38;5;34m30,642,819\u001b[0m (116.89 MB)\n"
            ]
          },
          "metadata": {},
          "output_type": "display_data"
        },
        {
          "data": {
            "text/html": [
              "<pre style=\"white-space:pre;overflow-x:auto;line-height:normal;font-family:Menlo,'DejaVu Sans Mono',consolas,'Courier New',monospace\"><span style=\"font-weight: bold\"> Non-trainable params: </span><span style=\"color: #00af00; text-decoration-color: #00af00\">0</span> (0.00 B)\n",
              "</pre>\n"
            ],
            "text/plain": [
              "\u001b[1m Non-trainable params: \u001b[0m\u001b[38;5;34m0\u001b[0m (0.00 B)\n"
            ]
          },
          "metadata": {},
          "output_type": "display_data"
        },
        {
          "name": "stdout",
          "output_type": "stream",
          "text": [
            "None\n",
            "Epoch 1/20\n",
            "\u001b[1m23/23\u001b[0m \u001b[32m━━━━━━━━━━━━━━━━━━━━\u001b[0m\u001b[37m\u001b[0m \u001b[1m1s\u001b[0m 22ms/step  - categorical_accuracy: 0.3877 - loss\n",
            " — val_f1: 0.390174 — val_precision: 0.370798 — val_recall: 0.471233\n",
            "\u001b[1m27/27\u001b[0m \u001b[32m━━━━━━━━━━━━━━━━━━━━\u001b[0m\u001b[37m\u001b[0m \u001b[1m13s\u001b[0m 400ms/step - categorical_accuracy: 0.3881 - loss: 1.0921 - val_categorical_accuracy: 0.4712 - val_loss: 1.0348 - val_f1: 0.3902 - val_recall: 0.4712 - val_precision: 0.3708\n",
            "Epoch 2/20\n"
          ]
        },
        {
          "name": "stderr",
          "output_type": "stream",
          "text": [
            "C:\\Users\\panka\\AppData\\Roaming\\Python\\Python312\\site-packages\\sklearn\\metrics\\_classification.py:1517: UndefinedMetricWarning: Precision is ill-defined and being set to 0.0 in labels with no predicted samples. Use `zero_division` parameter to control this behavior.\n",
            "  _warn_prf(average, modifier, f\"{metric.capitalize()} is\", len(result))\n"
          ]
        },
        {
          "name": "stdout",
          "output_type": "stream",
          "text": [
            "\u001b[1m23/23\u001b[0m \u001b[32m━━━━━━━━━━━━━━━━━━━━\u001b[0m\u001b[37m\u001b[0m \u001b[1m0s\u001b[0m 16ms/stepp - categorical_accuracy: 0.5376 - loss: \n",
            " — val_f1: 0.560646 — val_precision: 0.566673 — val_recall: 0.579452\n",
            "\u001b[1m27/27\u001b[0m \u001b[32m━━━━━━━━━━━━━━━━━━━━\u001b[0m\u001b[37m\u001b[0m \u001b[1m10s\u001b[0m 386ms/step - categorical_accuracy: 0.5390 - loss: 0.9470 - val_categorical_accuracy: 0.5795 - val_loss: 0.8810 - val_f1: 0.5606 - val_recall: 0.5795 - val_precision: 0.5667\n",
            "Epoch 3/20\n",
            "\u001b[1m23/23\u001b[0m \u001b[32m━━━━━━━━━━━━━━━━━━━━\u001b[0m\u001b[37m\u001b[0m \u001b[1m0s\u001b[0m 16ms/stepp - categorical_accuracy: 0.8049 - loss: \n",
            " — val_f1: 0.627495 — val_precision: 0.638644 — val_recall: 0.630137\n",
            "\u001b[1m27/27\u001b[0m \u001b[32m━━━━━━━━━━━━━━━━━━━━\u001b[0m\u001b[37m\u001b[0m \u001b[1m11s\u001b[0m 399ms/step - categorical_accuracy: 0.8048 - loss: 0.5274 - val_categorical_accuracy: 0.6301 - val_loss: 0.9087 - val_f1: 0.6275 - val_recall: 0.6301 - val_precision: 0.6386\n",
            "Epoch 4/20\n",
            "\u001b[1m23/23\u001b[0m \u001b[32m━━━━━━━━━━━━━━━━━━━━\u001b[0m\u001b[37m\u001b[0m \u001b[1m0s\u001b[0m 15ms/stepp - categorical_accuracy: 0.9352 - loss: \n",
            " — val_f1: 0.649874 — val_precision: 0.664792 — val_recall: 0.654795\n",
            "\u001b[1m27/27\u001b[0m \u001b[32m━━━━━━━━━━━━━━━━━━━━\u001b[0m\u001b[37m\u001b[0m \u001b[1m10s\u001b[0m 386ms/step - categorical_accuracy: 0.9352 - loss: 0.2232 - val_categorical_accuracy: 0.6548 - val_loss: 1.5167 - val_f1: 0.6499 - val_recall: 0.6548 - val_precision: 0.6648\n",
            "Epoch 5/20\n",
            "\u001b[1m23/23\u001b[0m \u001b[32m━━━━━━━━━━━━━━━━━━━━\u001b[0m\u001b[37m\u001b[0m \u001b[1m0s\u001b[0m 15ms/stepp - categorical_accuracy: 0.9828 - loss: \n",
            " — val_f1: 0.664772 — val_precision: 0.665999 — val_recall: 0.664384\n",
            "\u001b[1m27/27\u001b[0m \u001b[32m━━━━━━━━━━━━━━━━━━━━\u001b[0m\u001b[37m\u001b[0m \u001b[1m10s\u001b[0m 380ms/step - categorical_accuracy: 0.9827 - loss: 0.0725 - val_categorical_accuracy: 0.6644 - val_loss: 1.4574 - val_f1: 0.6648 - val_recall: 0.6644 - val_precision: 0.6660\n",
            "Epoch 6/20\n",
            "\u001b[1m23/23\u001b[0m \u001b[32m━━━━━━━━━━━━━━━━━━━━\u001b[0m\u001b[37m\u001b[0m \u001b[1m0s\u001b[0m 15ms/stepp - categorical_accuracy: 0.9889 - loss: \n",
            " — val_f1: 0.658357 — val_precision: 0.659477 — val_recall: 0.657534\n",
            "\u001b[1m27/27\u001b[0m \u001b[32m━━━━━━━━━━━━━━━━━━━━\u001b[0m\u001b[37m\u001b[0m \u001b[1m10s\u001b[0m 384ms/step - categorical_accuracy: 0.9889 - loss: 0.0461 - val_categorical_accuracy: 0.6575 - val_loss: 1.5684 - val_f1: 0.6584 - val_recall: 0.6575 - val_precision: 0.6595\n",
            "Epoch 7/20\n",
            "\u001b[1m23/23\u001b[0m \u001b[32m━━━━━━━━━━━━━━━━━━━━\u001b[0m\u001b[37m\u001b[0m \u001b[1m0s\u001b[0m 15ms/stepp - categorical_accuracy: 0.9923 - loss: \n",
            " — val_f1: 0.662490 — val_precision: 0.662636 — val_recall: 0.663014\n",
            "\u001b[1m27/27\u001b[0m \u001b[32m━━━━━━━━━━━━━━━━━━━━\u001b[0m\u001b[37m\u001b[0m \u001b[1m10s\u001b[0m 387ms/step - categorical_accuracy: 0.9923 - loss: 0.0315 - val_categorical_accuracy: 0.6630 - val_loss: 1.6622 - val_f1: 0.6625 - val_recall: 0.6630 - val_precision: 0.6626\n",
            "Epoch 8/20\n",
            "\u001b[1m23/23\u001b[0m \u001b[32m━━━━━━━━━━━━━━━━━━━━\u001b[0m\u001b[37m\u001b[0m \u001b[1m0s\u001b[0m 16ms/stepp - categorical_accuracy: 0.9950 - loss: \n",
            " — val_f1: 0.658723 — val_precision: 0.662767 — val_recall: 0.660274\n",
            "\u001b[1m27/27\u001b[0m \u001b[32m━━━━━━━━━━━━━━━━━━━━\u001b[0m\u001b[37m\u001b[0m \u001b[1m10s\u001b[0m 387ms/step - categorical_accuracy: 0.9950 - loss: 0.0183 - val_categorical_accuracy: 0.6603 - val_loss: 1.8070 - val_f1: 0.6587 - val_recall: 0.6603 - val_precision: 0.6628\n",
            "Epoch 9/20\n",
            "\u001b[1m23/23\u001b[0m \u001b[32m━━━━━━━━━━━━━━━━━━━━\u001b[0m\u001b[37m\u001b[0m \u001b[1m0s\u001b[0m 16ms/stepp - categorical_accuracy: 0.9981 - loss: \n",
            " — val_f1: 0.653278 — val_precision: 0.654900 — val_recall: 0.652055\n",
            "\u001b[1m27/27\u001b[0m \u001b[32m━━━━━━━━━━━━━━━━━━━━\u001b[0m\u001b[37m\u001b[0m \u001b[1m11s\u001b[0m 398ms/step - categorical_accuracy: 0.9981 - loss: 0.0083 - val_categorical_accuracy: 0.6521 - val_loss: 1.9869 - val_f1: 0.6533 - val_recall: 0.6521 - val_precision: 0.6549\n",
            "Epoch 10/20\n",
            "\u001b[1m23/23\u001b[0m \u001b[32m━━━━━━━━━━━━━━━━━━━━\u001b[0m\u001b[37m\u001b[0m \u001b[1m0s\u001b[0m 16ms/stepp - categorical_accuracy: 0.9986 - loss: \n",
            " — val_f1: 0.656646 — val_precision: 0.655990 — val_recall: 0.657534\n",
            "\u001b[1m27/27\u001b[0m \u001b[32m━━━━━━━━━━━━━━━━━━━━\u001b[0m\u001b[37m\u001b[0m \u001b[1m11s\u001b[0m 394ms/step - categorical_accuracy: 0.9986 - loss: 0.0044 - val_categorical_accuracy: 0.6575 - val_loss: 2.1055 - val_f1: 0.6566 - val_recall: 0.6575 - val_precision: 0.6560\n",
            "Epoch 11/20\n",
            "\u001b[1m23/23\u001b[0m \u001b[32m━━━━━━━━━━━━━━━━━━━━\u001b[0m\u001b[37m\u001b[0m \u001b[1m0s\u001b[0m 18ms/stepp - categorical_accuracy: 0.9984 - loss:\n",
            " — val_f1: 0.660098 — val_precision: 0.666136 — val_recall: 0.661644\n",
            "\u001b[1m27/27\u001b[0m \u001b[32m━━━━━━━━━━━━━━━━━━━━\u001b[0m\u001b[37m\u001b[0m \u001b[1m11s\u001b[0m 395ms/step - categorical_accuracy: 0.9984 - loss: 0.0047 - val_categorical_accuracy: 0.6616 - val_loss: 2.1335 - val_f1: 0.6601 - val_recall: 0.6616 - val_precision: 0.6661\n",
            "Epoch 12/20\n",
            "\u001b[1m23/23\u001b[0m \u001b[32m━━━━━━━━━━━━━━━━━━━━\u001b[0m\u001b[37m\u001b[0m \u001b[1m0s\u001b[0m 16ms/stepp - categorical_accuracy: 0.9999 - loss: \n",
            " — val_f1: 0.652900 — val_precision: 0.653938 — val_recall: 0.652055\n",
            "\u001b[1m27/27\u001b[0m \u001b[32m━━━━━━━━━━━━━━━━━━━━\u001b[0m\u001b[37m\u001b[0m \u001b[1m10s\u001b[0m 388ms/step - categorical_accuracy: 0.9999 - loss: 0.0023 - val_categorical_accuracy: 0.6521 - val_loss: 2.2207 - val_f1: 0.6529 - val_recall: 0.6521 - val_precision: 0.6539\n",
            "Epoch 13/20\n",
            "\u001b[1m23/23\u001b[0m \u001b[32m━━━━━━━━━━━━━━━━━━━━\u001b[0m\u001b[37m\u001b[0m \u001b[1m0s\u001b[0m 17ms/stepp - categorical_accuracy: 0.9982 - loss:\n",
            " — val_f1: 0.657637 — val_precision: 0.657577 — val_recall: 0.658904\n",
            "\u001b[1m27/27\u001b[0m \u001b[32m━━━━━━━━━━━━━━━━━━━━\u001b[0m\u001b[37m\u001b[0m \u001b[1m11s\u001b[0m 404ms/step - categorical_accuracy: 0.9982 - loss: 0.0040 - val_categorical_accuracy: 0.6589 - val_loss: 2.3841 - val_f1: 0.6576 - val_recall: 0.6589 - val_precision: 0.6576\n",
            "Epoch 14/20\n",
            "\u001b[1m23/23\u001b[0m \u001b[32m━━━━━━━━━━━━━━━━━━━━\u001b[0m\u001b[37m\u001b[0m \u001b[1m0s\u001b[0m 17ms/stepp - categorical_accuracy: 0.9996 - loss:\n",
            " — val_f1: 0.648998 — val_precision: 0.653898 — val_recall: 0.646575\n",
            "\u001b[1m27/27\u001b[0m \u001b[32m━━━━━━━━━━━━━━━━━━━━\u001b[0m\u001b[37m\u001b[0m \u001b[1m11s\u001b[0m 398ms/step - categorical_accuracy: 0.9996 - loss: 0.0017 - val_categorical_accuracy: 0.6466 - val_loss: 2.4602 - val_f1: 0.6490 - val_recall: 0.6466 - val_precision: 0.6539\n",
            "Epoch 15/20\n",
            "\u001b[1m23/23\u001b[0m \u001b[32m━━━━━━━━━━━━━━━━━━━━\u001b[0m\u001b[37m\u001b[0m \u001b[1m0s\u001b[0m 17ms/stepp - categorical_accuracy: 0.9983 - loss\n",
            " — val_f1: 0.661330 — val_precision: 0.662238 — val_recall: 0.661644\n",
            "\u001b[1m27/27\u001b[0m \u001b[32m━━━━━━━━━━━━━━━━━━━━\u001b[0m\u001b[37m\u001b[0m \u001b[1m11s\u001b[0m 390ms/step - categorical_accuracy: 0.9983 - loss: 0.0060 - val_categorical_accuracy: 0.6616 - val_loss: 2.5236 - val_f1: 0.6613 - val_recall: 0.6616 - val_precision: 0.6622\n",
            "Epoch 15: early stopping\n",
            "Restoring model weights from the end of the best epoch: 5.\n"
          ]
        }
      ],
      "source": [
        "#Create and train a CNN model with (2,3,4)-gram filters using Keras functional API\n",
        "import os\n",
        "os.environ['TF_CPP_MIN_LOG_LEVEL'] = '3'\n",
        "from tensorflow.keras.layers import Dense, Input, Dropout, Embedding, GlobalMaxPooling1D, Conv1D, MaxPooling1D, concatenate\n",
        "from tensorflow.keras.optimizers import Adam\n",
        "from tensorflow.keras import Model\n",
        "from tensorflow.keras.callbacks import EarlyStopping\n",
        "\n",
        "FILTERS = 128\n",
        "DENSE = 512\n",
        "\n",
        "inputs = Input(shape=(1,), dtype=tf.string)\n",
        "inputs_seq = vectorizer(inputs)\n",
        "\n",
        "# Embeddings\n",
        "embeddings = Embedding(MAX_WORDS, EMBEDDING_DIM, embeddings_initializer=\"uniform\",\n",
        "                    input_length=MAX_SEQUENCE_LENGTH, trainable=True)(inputs_seq)\n",
        "\n",
        "# Dropout over Embeddings\n",
        "dropped_embeddings = Dropout(rate=0.2)(embeddings)\n",
        "\n",
        "# Multi-filter CNNs\n",
        "pooled_convs = []\n",
        "filter_sizes = [2,3,4]\n",
        "\n",
        "for n_gram in filter_sizes:\n",
        "    # n-gram convolutions with padding\n",
        "    convs = Conv1D(filters=FILTERS, kernel_size=n_gram, strides=1,\n",
        "                    padding=\"valid\", activation='relu',\n",
        "                    name='{}-gram_Convolutions'.format(n_gram))(dropped_embeddings)\n",
        "    convs2 = Conv1D(filters=FILTERS, kernel_size=n_gram, strides=1,\n",
        "                    padding=\"valid\", activation='relu',\n",
        "                    name='{}-gram_Convolutions_2'.format(n_gram))(convs)\n",
        "    convs3 = Conv1D(filters=FILTERS, kernel_size=n_gram, strides=1,\n",
        "                    padding=\"valid\", activation='relu',\n",
        "                    name='{}-gram_Convolutions_3'.format(n_gram))(convs2)\n",
        "\n",
        "\n",
        "    # Max-Pooling over time\n",
        "    pooled_convs.append(GlobalMaxPooling1D(name='{}-gram_MaxPool'.format(n_gram))(convs3))\n",
        "\n",
        "# Concatenation of filters form all window sizes\n",
        "concat =  concatenate(pooled_convs)\n",
        "concat = Dropout(rate=0.5)(concat)\n",
        "outputs = Dense(len(y_train.unique()), activation='softmax')(concat)\n",
        "\n",
        "multi_cnn = Model(inputs=inputs, outputs=outputs)\n",
        "multi_cnn.compile(loss='categorical_crossentropy',\n",
        "              optimizer=Adam(learning_rate=0.001),\n",
        "              metrics=[\"categorical_accuracy\"])\n",
        "\n",
        "print(multi_cnn.summary())\n",
        "\n",
        "train_data = np.array([[\" \".join(x_train)] for x_train in X_train])\n",
        "val_data = np.array([[\" \".join(x_val)] for x_val in X_val])\n",
        "test_data = np.array([[\" \".join(x_test)] for x_test in X_test])\n",
        "\n",
        "# Convert the numpy arrays to tensors\n",
        "train_data = tf.convert_to_tensor(train_data, dtype=tf.string)\n",
        "val_data = tf.convert_to_tensor(val_data, dtype=tf.string)\n",
        "test_data = tf.convert_to_tensor(test_data, dtype=tf.string)\n",
        "\n",
        "early_stopping = EarlyStopping(\n",
        "    patience=10, verbose=2, monitor=\"val_f1\", mode=\"max\", restore_best_weights=True\n",
        ")\n",
        "\n",
        "history_multi_cnn = multi_cnn.fit(train_data, y_train_1_hot,\n",
        "              validation_data=(val_data, y_val_1_hot),\n",
        "              batch_size=128,\n",
        "              epochs=20,\n",
        "              shuffle=True,\n",
        "              callbacks=[Metrics(valid_data=(val_data, y_val_1_hot)), early_stopping])"
      ]
    },
    {
      "cell_type": "markdown",
      "metadata": {
        "id": "sNY2pVbaj1GA"
      },
      "source": [
        "# Visualization model accuracy and loss"
      ]
    },
    {
      "cell_type": "code",
      "execution_count": null,
      "metadata": {
        "id": "HIOte0mUj1GB",
        "outputId": "0237f8f8-8348-48b1-bf9b-47de96f2d7d5"
      },
      "outputs": [
        {
          "data": {
            "image/png": "[encoded data removed]",
            "text/plain": [
              "<Figure size 640x480 with 1 Axes>"
            ]
          },
          "metadata": {},
          "output_type": "display_data"
        },
        {
          "data": {
            "image/png": "[encoded data removed]",
            "text/plain": [
              "<Figure size 640x480 with 1 Axes>"
            ]
          },
          "metadata": {},
          "output_type": "display_data"
        }
      ],
      "source": [
        "# Plotting the training and validation metrics\n",
        "import matplotlib.pyplot as plt\n",
        "\n",
        "%matplotlib inline\n",
        "\n",
        "# Plot accuracy and loss\n",
        "plt.plot(history_multi_cnn.history['categorical_accuracy'])\n",
        "plt.plot(history_multi_cnn.history['val_categorical_accuracy'])\n",
        "plt.title('model accuracy')\n",
        "plt.ylabel('accuracy')\n",
        "plt.xlabel('epoch')\n",
        "plt.legend(['train', 'dev'], loc='upper left')\n",
        "plt.show()\n",
        "\n",
        "plt.plot(history_multi_cnn.history['loss'])\n",
        "plt.plot(history_multi_cnn.history['val_loss'])\n",
        "plt.title('model loss')\n",
        "plt.ylabel('loss')\n",
        "plt.xlabel('epoch')\n",
        "plt.legend(['train', 'dev'], loc='upper right')\n",
        "plt.show()"
      ]
    },
    {
      "cell_type": "code",
      "execution_count": null,
      "metadata": {
        "id": "R6HbmA-mj1GB",
        "outputId": "5150005c-5339-4997-aceb-4cb71fc21ae4"
      },
      "outputs": [
        {
          "name": "stdout",
          "output_type": "stream",
          "text": [
            "\u001b[1m23/23\u001b[0m \u001b[32m━━━━━━━━━━━━━━━━━━━━\u001b[0m\u001b[37m\u001b[0m \u001b[1m0s\u001b[0m 17ms/step\n",
            "['negative', 'neutral', 'positive', 'neutral', 'negative', 'neutral', 'negative', 'negative', 'negative', 'neutral', 'neutral', 'negative', 'negative', 'negative', 'neutral', 'positive', 'positive', 'neutral', 'negative', 'neutral', 'neutral', 'negative', 'neutral', 'positive', 'negative', 'negative', 'neutral', 'neutral', 'negative', 'negative', 'negative', 'neutral', 'negative', 'positive', 'negative', 'positive', 'negative', 'positive', 'positive', 'negative', 'neutral', 'positive', 'positive', 'positive', 'neutral', 'positive', 'negative', 'neutral', 'neutral', 'negative', 'negative', 'neutral', 'neutral', 'negative', 'neutral', 'neutral', 'negative', 'neutral', 'neutral', 'negative', 'negative', 'positive', 'neutral', 'neutral', 'positive', 'neutral', 'neutral', 'positive', 'negative', 'negative', 'neutral', 'negative', 'negative', 'negative', 'negative', 'positive', 'positive', 'neutral', 'positive', 'neutral', 'positive', 'neutral', 'positive', 'positive', 'positive', 'positive', 'negative', 'negative', 'positive', 'neutral', 'negative', 'positive', 'positive', 'negative', 'neutral', 'neutral', 'neutral', 'positive', 'positive', 'neutral', 'positive', 'positive', 'positive', 'neutral', 'positive', 'negative', 'positive', 'positive', 'positive', 'positive', 'negative', 'negative', 'neutral', 'neutral', 'negative', 'neutral', 'positive', 'positive', 'positive', 'neutral', 'positive', 'positive', 'neutral', 'positive', 'positive', 'neutral', 'negative', 'neutral', 'positive', 'negative', 'neutral', 'neutral', 'negative', 'neutral', 'positive', 'neutral', 'positive', 'neutral', 'positive', 'neutral', 'positive', 'positive', 'positive', 'positive', 'negative', 'negative', 'neutral', 'neutral', 'neutral', 'positive', 'neutral', 'negative', 'positive', 'positive', 'positive', 'neutral', 'negative', 'positive', 'neutral', 'neutral', 'negative', 'negative', 'negative', 'neutral', 'positive', 'neutral', 'negative', 'negative', 'positive', 'neutral', 'positive', 'positive', 'positive', 'neutral', 'negative', 'neutral', 'negative', 'negative', 'negative', 'neutral', 'positive', 'negative', 'neutral', 'positive', 'positive', 'neutral', 'negative', 'neutral', 'negative', 'neutral', 'neutral', 'negative', 'negative', 'neutral', 'neutral', 'negative', 'negative', 'neutral', 'negative', 'negative', 'neutral', 'positive', 'negative', 'negative', 'positive', 'negative', 'neutral', 'negative', 'neutral', 'neutral', 'neutral', 'neutral', 'neutral', 'negative', 'neutral', 'positive', 'positive', 'neutral', 'negative', 'neutral', 'neutral', 'neutral', 'positive', 'neutral', 'positive', 'negative', 'neutral', 'negative', 'neutral', 'neutral', 'negative', 'positive', 'negative', 'neutral', 'positive', 'negative', 'negative', 'negative', 'negative', 'negative', 'negative', 'positive', 'negative', 'negative', 'negative', 'positive', 'neutral', 'negative', 'positive', 'positive', 'negative', 'neutral', 'negative', 'negative', 'neutral', 'negative', 'neutral', 'positive', 'negative', 'neutral', 'negative', 'neutral', 'positive', 'positive', 'neutral', 'positive', 'negative', 'positive', 'negative', 'positive', 'neutral', 'negative', 'neutral', 'negative', 'positive', 'neutral', 'negative', 'negative', 'negative', 'negative', 'negative', 'negative', 'negative', 'neutral', 'neutral', 'negative', 'positive', 'positive', 'negative', 'neutral', 'negative', 'positive', 'negative', 'negative', 'positive', 'neutral', 'neutral', 'negative', 'negative', 'positive', 'negative', 'negative', 'negative', 'neutral', 'negative', 'negative', 'positive', 'neutral', 'negative', 'neutral', 'positive', 'positive', 'negative', 'neutral', 'neutral', 'neutral', 'positive', 'negative', 'negative', 'neutral', 'positive', 'neutral', 'negative', 'positive', 'neutral', 'neutral', 'negative', 'positive', 'negative', 'negative', 'positive', 'positive', 'neutral', 'positive', 'neutral', 'negative', 'negative', 'neutral', 'neutral', 'negative', 'positive', 'negative', 'neutral', 'positive', 'negative', 'positive', 'neutral', 'positive', 'positive', 'neutral', 'positive', 'positive', 'negative', 'negative', 'negative', 'neutral', 'neutral', 'positive', 'positive', 'positive', 'positive', 'neutral', 'neutral', 'positive', 'neutral', 'neutral', 'positive', 'positive', 'positive', 'negative', 'positive', 'neutral', 'positive', 'negative', 'negative', 'negative', 'neutral', 'positive', 'neutral', 'positive', 'positive', 'neutral', 'negative', 'neutral', 'neutral', 'neutral', 'neutral', 'negative', 'neutral', 'negative', 'neutral', 'negative', 'negative', 'positive', 'neutral', 'negative', 'negative', 'neutral', 'negative', 'positive', 'negative', 'positive', 'negative', 'positive', 'neutral', 'neutral', 'neutral', 'positive', 'neutral', 'positive', 'neutral', 'positive', 'neutral', 'neutral', 'negative', 'positive', 'positive', 'neutral', 'positive', 'negative', 'neutral', 'negative', 'positive', 'positive', 'neutral', 'positive', 'negative', 'positive', 'negative', 'neutral', 'neutral', 'neutral', 'negative', 'neutral', 'positive', 'neutral', 'negative', 'positive', 'positive', 'positive', 'positive', 'positive', 'positive', 'negative', 'positive', 'neutral', 'negative', 'neutral', 'positive', 'negative', 'positive', 'neutral', 'positive', 'positive', 'neutral', 'negative', 'positive', 'positive', 'negative', 'positive', 'positive', 'neutral', 'negative', 'positive', 'positive', 'neutral', 'positive', 'positive', 'negative', 'negative', 'positive', 'negative', 'neutral', 'neutral', 'positive', 'positive', 'neutral', 'negative', 'positive', 'negative', 'neutral', 'negative', 'neutral', 'positive', 'neutral', 'negative', 'neutral', 'negative', 'neutral', 'positive', 'neutral', 'neutral', 'neutral', 'positive', 'neutral', 'negative', 'positive', 'positive', 'neutral', 'negative', 'positive', 'negative', 'neutral', 'positive', 'neutral', 'negative', 'negative', 'negative', 'negative', 'positive', 'negative', 'neutral', 'negative', 'positive', 'negative', 'negative', 'negative', 'negative', 'neutral', 'positive', 'negative', 'positive', 'neutral', 'negative', 'negative', 'positive', 'negative', 'neutral', 'positive', 'positive', 'positive', 'neutral', 'neutral', 'positive', 'negative', 'neutral', 'negative', 'negative', 'negative', 'negative', 'positive', 'positive', 'positive', 'negative', 'neutral', 'neutral', 'neutral', 'negative', 'neutral', 'negative', 'neutral', 'positive', 'neutral', 'positive', 'negative', 'neutral', 'negative', 'positive', 'positive', 'positive', 'negative', 'negative', 'negative', 'negative', 'positive', 'negative', 'neutral', 'neutral', 'positive', 'negative', 'positive', 'neutral', 'neutral', 'positive', 'positive', 'positive', 'positive', 'neutral', 'negative', 'neutral', 'positive', 'positive', 'neutral', 'neutral', 'positive', 'negative', 'positive', 'neutral', 'negative', 'negative', 'neutral', 'neutral', 'positive', 'negative', 'negative', 'negative', 'negative', 'neutral', 'neutral', 'neutral', 'neutral', 'neutral', 'positive', 'positive', 'negative', 'negative', 'neutral', 'neutral', 'negative', 'positive', 'neutral', 'negative', 'positive', 'negative', 'negative', 'neutral', 'positive', 'neutral', 'neutral', 'positive', 'negative', 'negative', 'negative', 'negative', 'negative', 'neutral', 'negative', 'negative', 'positive', 'neutral', 'positive', 'positive', 'negative', 'neutral', 'positive', 'positive', 'neutral', 'neutral', 'neutral', 'negative', 'positive', 'negative', 'negative', 'neutral', 'negative', 'negative', 'neutral', 'positive', 'negative', 'negative', 'positive', 'negative', 'neutral', 'negative', 'negative', 'positive', 'neutral', 'positive', 'neutral', 'neutral', 'negative', 'neutral', 'positive', 'positive', 'positive', 'positive', 'neutral', 'positive', 'negative', 'neutral', 'neutral', 'positive', 'negative', 'negative', 'neutral', 'positive', 'negative', 'negative', 'neutral', 'neutral', 'positive', 'negative', 'positive', 'neutral', 'negative', 'positive', 'neutral', 'negative', 'positive', 'negative', 'neutral', 'negative', 'positive', 'neutral', 'neutral', 'positive', 'positive', 'negative', 'positive', 'neutral', 'neutral', 'neutral', 'neutral', 'negative', 'positive', 'negative', 'positive', 'negative', 'positive', 'negative', 'neutral', 'neutral', 'neutral', 'neutral', 'positive', 'neutral', 'positive', 'negative', 'positive', 'neutral', 'positive', 'neutral', 'neutral', 'negative', 'positive', 'neutral', 'negative', 'positive', 'negative', 'neutral', 'positive']\n",
            "              precision    recall  f1-score   support\n",
            "\n",
            "    negative       0.58      0.66      0.62       221\n",
            "     neutral       0.63      0.57      0.60       273\n",
            "    positive       0.77      0.76      0.76       237\n",
            "\n",
            "    accuracy                           0.66       731\n",
            "   macro avg       0.66      0.66      0.66       731\n",
            "weighted avg       0.66      0.66      0.66       731\n",
            "\n"
          ]
        }
      ],
      "source": [
        "# Evaluate model on test data\n",
        "predictions = np.argmax(multi_cnn.predict(test_data), -1)\n",
        "\n",
        "# Create a dictionary to map class labels to class names\n",
        "label_to_name = {i: name for i, name in enumerate(pd.get_dummies(y_test).columns)}\n",
        "\n",
        "# Replace integer class labels in predictions with class names\n",
        "predictions_with_names = [label_to_name[label] for label in predictions]\n",
        "\n",
        "print(predictions_with_names)\n",
        "\n",
        "print(classification_report(y_test, predictions_with_names))"
      ]
    },
    {
      "cell_type": "markdown",
      "metadata": {
        "id": "D0fuYRVyj1GB"
      },
      "source": [
        "## Hyperparameter Tuning"
      ]
    },
    {
      "cell_type": "markdown",
      "metadata": {
        "id": "GjoYxefqj1GB"
      },
      "source": [
        "We will use Keras Tuner to find the optimal hyperparameters for our model. The following code sets up the tuner and performs the search."
      ]
    },
    {
      "cell_type": "code",
      "execution_count": null,
      "metadata": {
        "id": "FhgXBcenj1GB",
        "outputId": "9555637e-0285-4d4c-969b-1606b4549f2e"
      },
      "outputs": [
        {
          "name": "stdout",
          "output_type": "stream",
          "text": [
            "Defaulting to user installation because normal site-packages is not writeable\n",
            "Requirement already satisfied: keras_tuner in c:\\users\\panka\\appdata\\roaming\\python\\python312\\site-packages (1.4.7)\n",
            "Requirement already satisfied: keras in c:\\users\\panka\\appdata\\roaming\\python\\python312\\site-packages (from keras_tuner) (3.3.3)\n",
            "Requirement already satisfied: packaging in c:\\users\\panka\\appdata\\roaming\\python\\python312\\site-packages (from keras_tuner) (24.0)\n",
            "Requirement already satisfied: requests in c:\\users\\panka\\appdata\\roaming\\python\\python312\\site-packages (from keras_tuner) (2.31.0)\n",
            "Requirement already satisfied: kt-legacy in c:\\users\\panka\\appdata\\roaming\\python\\python312\\site-packages (from keras_tuner) (1.0.5)\n",
            "Requirement already satisfied: absl-py in c:\\users\\panka\\appdata\\roaming\\python\\python312\\site-packages (from keras->keras_tuner) (2.1.0)\n",
            "Requirement already satisfied: numpy in c:\\users\\panka\\appdata\\roaming\\python\\python312\\site-packages (from keras->keras_tuner) (1.26.4)\n",
            "Requirement already satisfied: rich in c:\\users\\panka\\appdata\\roaming\\python\\python312\\site-packages (from keras->keras_tuner) (13.7.1)\n",
            "Requirement already satisfied: namex in c:\\users\\panka\\appdata\\roaming\\python\\python312\\site-packages (from keras->keras_tuner) (0.0.8)\n",
            "Requirement already satisfied: h5py in c:\\users\\panka\\appdata\\roaming\\python\\python312\\site-packages (from keras->keras_tuner) (3.11.0)\n",
            "Requirement already satisfied: optree in c:\\users\\panka\\appdata\\roaming\\python\\python312\\site-packages (from keras->keras_tuner) (0.11.0)\n",
            "Requirement already satisfied: ml-dtypes in c:\\users\\panka\\appdata\\roaming\\python\\python312\\site-packages (from keras->keras_tuner) (0.3.2)\n",
            "Requirement already satisfied: charset-normalizer<4,>=2 in c:\\users\\panka\\appdata\\roaming\\python\\python312\\site-packages (from requests->keras_tuner) (3.3.2)\n",
            "Requirement already satisfied: idna<4,>=2.5 in c:\\users\\panka\\appdata\\roaming\\python\\python312\\site-packages (from requests->keras_tuner) (3.7)\n",
            "Requirement already satisfied: urllib3<3,>=1.21.1 in c:\\users\\panka\\appdata\\roaming\\python\\python312\\site-packages (from requests->keras_tuner) (2.2.1)\n",
            "Requirement already satisfied: certifi>=2017.4.17 in c:\\users\\panka\\appdata\\roaming\\python\\python312\\site-packages (from requests->keras_tuner) (2024.2.2)\n",
            "Requirement already satisfied: typing-extensions>=4.0.0 in c:\\users\\panka\\appdata\\roaming\\python\\python312\\site-packages (from optree->keras->keras_tuner) (4.11.0)\n",
            "Requirement already satisfied: markdown-it-py>=2.2.0 in c:\\users\\panka\\appdata\\roaming\\python\\python312\\site-packages (from rich->keras->keras_tuner) (3.0.0)\n",
            "Requirement already satisfied: pygments<3.0.0,>=2.13.0 in c:\\users\\panka\\appdata\\roaming\\python\\python312\\site-packages (from rich->keras->keras_tuner) (2.17.2)\n",
            "Requirement already satisfied: mdurl~=0.1 in c:\\users\\panka\\appdata\\roaming\\python\\python312\\site-packages (from markdown-it-py>=2.2.0->rich->keras->keras_tuner) (0.1.2)\n"
          ]
        }
      ],
      "source": [
        "!pip install keras_tuner"
      ]
    },
    {
      "cell_type": "code",
      "execution_count": null,
      "metadata": {
        "id": "sGoJikiSj1GB"
      },
      "outputs": [],
      "source": [
        "# Model building function\n",
        "def build_model(hp):\n",
        "    FILTERS = hp.Int('filters', min_value=32, max_value=256, step=32)\n",
        "    DROPOUT_RATE = hp.Float('dropout_rate', min_value=0.2, max_value=0.5, step=0.1)\n",
        "\n",
        "    inputs = Input(shape=(1,), dtype=tf.string)\n",
        "    inputs_seq = vectorizer(inputs)\n",
        "    embeddings = Embedding(MAX_WORDS, EMBEDDING_DIM, embeddings_initializer=tf.keras.initializers.Constant(embedding_matrix), input_length=MAX_SEQUENCE_LENGTH, trainable=False)(inputs_seq)\n",
        "    dropped_embeddings = Dropout(rate=DROPOUT_RATE)(embeddings)\n",
        "\n",
        "    pooled_convs = []\n",
        "    filter_sizes = [2, 3, 4]\n",
        "    for n_gram in filter_sizes:\n",
        "        convs = Conv1D(filters=FILTERS, kernel_size=n_gram, strides=1, padding=\"valid\", activation='relu', name='{}-gram_Convolutions'.format(n_gram))(dropped_embeddings)\n",
        "        convs2 = Conv1D(filters=FILTERS, kernel_size=n_gram, strides=1, padding=\"valid\", activation='relu', name='{}-gram_Convolutions_2'.format(n_gram))(convs)\n",
        "        convs3 = Conv1D(filters=FILTERS, kernel_size=n_gram, strides=1, padding=\"valid\", activation='relu', name='{}-gram_Convolutions_3'.format(n_gram))(convs2)\n",
        "        pooled_convs.append(GlobalMaxPooling1D(name='{}-gram_MaxPool'.format(n_gram))(convs3))\n",
        "\n",
        "    concat = concatenate(pooled_convs)\n",
        "    concat = Dropout(rate=DROPOUT_RATE)(concat)\n",
        "    outputs = Dense(len(y_train.unique()), activation='softmax')(concat)\n",
        "\n",
        "    model = Model(inputs=inputs, outputs=outputs)\n",
        "    model.compile(loss='categorical_crossentropy', optimizer=Adam(learning_rate=hp.Choice('learning_rate', values=[1e-2, 1e-3, 1e-4])), metrics=[\"categorical_accuracy\"])\n",
        "\n",
        "    return model"
      ]
    },
    {
      "cell_type": "code",
      "execution_count": null,
      "metadata": {
        "id": "zBL2Rx8uj1GB",
        "outputId": "03eeca78-ab28-460d-fc4f-739f238e851c"
      },
      "outputs": [
        {
          "name": "stdout",
          "output_type": "stream",
          "text": [
            "Reloading Tuner from my_dir\\hyperparam_tuning\\tuner0.json\n",
            "WARNING:tensorflow:From C:\\Users\\panka\\AppData\\Roaming\\Python\\Python312\\site-packages\\keras\\src\\backend\\common\\global_state.py:82: The name tf.reset_default_graph is deprecated. Please use tf.compat.v1.reset_default_graph instead.\n",
            "\n"
          ]
        },
        {
          "name": "stderr",
          "output_type": "stream",
          "text": [
            "C:\\Users\\panka\\AppData\\Roaming\\Python\\Python312\\site-packages\\keras\\src\\layers\\core\\embedding.py:90: UserWarning: Argument `input_length` is deprecated. Just remove it.\n",
            "  warnings.warn(\n"
          ]
        },
        {
          "name": "stdout",
          "output_type": "stream",
          "text": [
            "Epoch 1/20\n"
          ]
        },
        {
          "name": "stderr",
          "output_type": "stream",
          "text": [
            "C:\\Users\\panka\\AppData\\Roaming\\Python\\Python312\\site-packages\\keras\\src\\saving\\saving_lib.py:415: UserWarning: Skipping variable loading for optimizer 'adam', because it has 2 variables whereas the saved optimizer has 42 variables. \n",
            "  saveable.load_own_variables(weights_store.get(inner_path))\n"
          ]
        },
        {
          "name": "stdout",
          "output_type": "stream",
          "text": [
            "\u001b[1m23/23\u001b[0m \u001b[32m━━━━━━━━━━━━━━━━━━━━\u001b[0m\u001b[37m\u001b[0m \u001b[1m1s\u001b[0m 37ms/step  - categorical_accuracy: 0.9557 -\n",
            " — val_f1: 0.741397 — val_precision: 0.740810 — val_recall: 0.742466\n",
            "\u001b[1m27/27\u001b[0m \u001b[32m━━━━━━━━━━━━━━━━━━━━\u001b[0m\u001b[37m\u001b[0m \u001b[1m15s\u001b[0m 470ms/step - categorical_accuracy: 0.9556 - loss: 0.1429 - val_categorical_accuracy: 0.7425 - val_loss: 0.9306 - val_f1: 0.7414 - val_recall: 0.7425 - val_precision: 0.7408\n",
            "Epoch 2/20\n",
            "\u001b[1m23/23\u001b[0m \u001b[32m━━━━━━━━━━━━━━━━━━━━\u001b[0m\u001b[37m\u001b[0m \u001b[1m1s\u001b[0m 28ms/stepp - categorical_accuracy: 0.9601 - \n",
            " — val_f1: 0.726503 — val_precision: 0.730735 — val_recall: 0.728767\n",
            "\u001b[1m27/27\u001b[0m \u001b[32m━━━━━━━━━━━━━━━━━━━━\u001b[0m\u001b[37m\u001b[0m \u001b[1m12s\u001b[0m 456ms/step - categorical_accuracy: 0.9601 - loss: 0.1171 - val_categorical_accuracy: 0.7288 - val_loss: 0.9686 - val_f1: 0.7265 - val_recall: 0.7288 - val_precision: 0.7307\n",
            "Epoch 3/20\n",
            "\u001b[1m23/23\u001b[0m \u001b[32m━━━━━━━━━━━━━━━━━━━━\u001b[0m\u001b[37m\u001b[0m \u001b[1m1s\u001b[0m 27ms/stepp - categorical_accuracy: 0.9661 - \n",
            " — val_f1: 0.714186 — val_precision: 0.718851 — val_recall: 0.719178\n",
            "\u001b[1m27/27\u001b[0m \u001b[32m━━━━━━━━━━━━━━━━━━━━\u001b[0m\u001b[37m\u001b[0m \u001b[1m12s\u001b[0m 446ms/step - categorical_accuracy: 0.9662 - loss: 0.1020 - val_categorical_accuracy: 0.7192 - val_loss: 1.0844 - val_f1: 0.7142 - val_recall: 0.7192 - val_precision: 0.7189\n",
            "Epoch 4/20\n",
            "\u001b[1m23/23\u001b[0m \u001b[32m━━━━━━━━━━━━━━━━━━━━\u001b[0m\u001b[37m\u001b[0m \u001b[1m1s\u001b[0m 27ms/stepp - categorical_accuracy: 0.9698 - \n",
            " — val_f1: 0.725944 — val_precision: 0.729651 — val_recall: 0.728767\n",
            "\u001b[1m27/27\u001b[0m \u001b[32m━━━━━━━━━━━━━━━━━━━━\u001b[0m\u001b[37m\u001b[0m \u001b[1m12s\u001b[0m 446ms/step - categorical_accuracy: 0.9697 - loss: 0.0998 - val_categorical_accuracy: 0.7288 - val_loss: 1.0468 - val_f1: 0.7259 - val_recall: 0.7288 - val_precision: 0.7297\n",
            "Epoch 5/20\n",
            "\u001b[1m23/23\u001b[0m \u001b[32m━━━━━━━━━━━━━━━━━━━━\u001b[0m\u001b[37m\u001b[0m \u001b[1m1s\u001b[0m 27ms/stepp - categorical_accuracy: 0.9748 - \n",
            " — val_f1: 0.717560 — val_precision: 0.720057 — val_recall: 0.717808\n",
            "\u001b[1m27/27\u001b[0m \u001b[32m━━━━━━━━━━━━━━━━━━━━\u001b[0m\u001b[37m\u001b[0m \u001b[1m12s\u001b[0m 447ms/step - categorical_accuracy: 0.9749 - loss: 0.0820 - val_categorical_accuracy: 0.7178 - val_loss: 1.0641 - val_f1: 0.7176 - val_recall: 0.7178 - val_precision: 0.7201\n",
            "Epoch 6/20\n",
            "\u001b[1m23/23\u001b[0m \u001b[32m━━━━━━━━━━━━━━━━━━━━\u001b[0m\u001b[37m\u001b[0m \u001b[1m1s\u001b[0m 31ms/stepp - categorical_accuracy: 0.9815 - \n",
            " — val_f1: 0.727922 — val_precision: 0.733914 — val_recall: 0.726027\n",
            "\u001b[1m27/27\u001b[0m \u001b[32m━━━━━━━━━━━━━━━━━━━━\u001b[0m\u001b[37m\u001b[0m \u001b[1m12s\u001b[0m 460ms/step - categorical_accuracy: 0.9814 - loss: 0.0638 - val_categorical_accuracy: 0.7260 - val_loss: 1.0897 - val_f1: 0.7279 - val_recall: 0.7260 - val_precision: 0.7339\n",
            "Epoch 7/20\n",
            "\u001b[1m23/23\u001b[0m \u001b[32m━━━━━━━━━━━━━━━━━━━━\u001b[0m\u001b[37m\u001b[0m \u001b[1m1s\u001b[0m 30ms/stepp - categorical_accuracy: 0.9831 - \n",
            " — val_f1: 0.700140 — val_precision: 0.710056 — val_recall: 0.706849\n",
            "\u001b[1m27/27\u001b[0m \u001b[32m━━━━━━━━━━━━━━━━━━━━\u001b[0m\u001b[37m\u001b[0m \u001b[1m12s\u001b[0m 458ms/step - categorical_accuracy: 0.9830 - loss: 0.0591 - val_categorical_accuracy: 0.7068 - val_loss: 1.2907 - val_f1: 0.7001 - val_recall: 0.7068 - val_precision: 0.7101\n",
            "Epoch 8/20\n",
            "\u001b[1m23/23\u001b[0m \u001b[32m━━━━━━━━━━━━━━━━━━━━\u001b[0m\u001b[37m\u001b[0m \u001b[1m1s\u001b[0m 29ms/stepp - categorical_accuracy: 0.9821 - \n",
            " — val_f1: 0.712750 — val_precision: 0.718518 — val_recall: 0.716438\n",
            "\u001b[1m27/27\u001b[0m \u001b[32m━━━━━━━━━━━━━━━━━━━━\u001b[0m\u001b[37m\u001b[0m \u001b[1m12s\u001b[0m 464ms/step - categorical_accuracy: 0.9821 - loss: 0.0610 - val_categorical_accuracy: 0.7164 - val_loss: 1.2596 - val_f1: 0.7128 - val_recall: 0.7164 - val_precision: 0.7185\n",
            "Epoch 9/20\n",
            "\u001b[1m23/23\u001b[0m \u001b[32m━━━━━━━━━━━━━━━━━━━━\u001b[0m\u001b[37m\u001b[0m \u001b[1m1s\u001b[0m 30ms/stepp - categorical_accuracy: 0.9794 - \n",
            " — val_f1: 0.712749 — val_precision: 0.725958 — val_recall: 0.713699\n",
            "\u001b[1m27/27\u001b[0m \u001b[32m━━━━━━━━━━━━━━━━━━━━\u001b[0m\u001b[37m\u001b[0m \u001b[1m13s\u001b[0m 495ms/step - categorical_accuracy: 0.9793 - loss: 0.0624 - val_categorical_accuracy: 0.7137 - val_loss: 1.2128 - val_f1: 0.7127 - val_recall: 0.7137 - val_precision: 0.7260\n",
            "Epoch 10/20\n",
            "\u001b[1m23/23\u001b[0m \u001b[32m━━━━━━━━━━━━━━━━━━━━\u001b[0m\u001b[37m\u001b[0m \u001b[1m1s\u001b[0m 33ms/stepp - categorical_accuracy: 0.9815 - \n",
            " — val_f1: 0.727606 — val_precision: 0.732743 — val_recall: 0.730137\n",
            "\u001b[1m27/27\u001b[0m \u001b[32m━━━━━━━━━━━━━━━━━━━━\u001b[0m\u001b[37m\u001b[0m \u001b[1m14s\u001b[0m 510ms/step - categorical_accuracy: 0.9814 - loss: 0.0507 - val_categorical_accuracy: 0.7301 - val_loss: 1.2531 - val_f1: 0.7276 - val_recall: 0.7301 - val_precision: 0.7327\n",
            "Epoch 11/20\n",
            "\u001b[1m23/23\u001b[0m \u001b[32m━━━━━━━━━━━━━━━━━━━━\u001b[0m\u001b[37m\u001b[0m \u001b[1m1s\u001b[0m 30ms/stepp - categorical_accuracy: 0.9854 - \n",
            " — val_f1: 0.722724 — val_precision: 0.724102 — val_recall: 0.721918\n",
            "\u001b[1m27/27\u001b[0m \u001b[32m━━━━━━━━━━━━━━━━━━━━\u001b[0m\u001b[37m\u001b[0m \u001b[1m15s\u001b[0m 538ms/step - categorical_accuracy: 0.9854 - loss: 0.0533 - val_categorical_accuracy: 0.7219 - val_loss: 1.1916 - val_f1: 0.7227 - val_recall: 0.7219 - val_precision: 0.7241\n",
            "Epoch 11: early stopping\n",
            "Restoring model weights from the end of the best epoch: 1.\n"
          ]
        }
      ],
      "source": [
        "import keras_tuner as kt\n",
        "\n",
        "train_data = np.array([[\" \".join(x_train)] for x_train in X_train])\n",
        "val_data = np.array([[\" \".join(x_val)] for x_val in X_val])\n",
        "test_data = np.array([[\" \".join(x_test)] for x_test in X_test])\n",
        "\n",
        "train_data = tf.convert_to_tensor(train_data, dtype=tf.string)\n",
        "val_data = tf.convert_to_tensor(val_data, dtype=tf.string)\n",
        "test_data = tf.convert_to_tensor(test_data, dtype=tf.string)\n",
        "\n",
        "# Hyperparameter tuning\n",
        "tuner = kt.Hyperband(build_model, objective='val_categorical_accuracy', max_epochs=10, factor=3, directory='my_dir', project_name='hyperparam_tuning')\n",
        "\n",
        "early_stopping = EarlyStopping(patience=10, verbose=2, monitor=\"val_f1\", mode=\"max\", restore_best_weights=True)\n",
        "tuner.search(train_data, y_train_1_hot, validation_data=(val_data, y_val_1_hot), epochs=20, callbacks=[Metrics(valid_data=(val_data, y_val_1_hot)), early_stopping])\n",
        "\n",
        "best_model = tuner.get_best_models(num_models=1)[0]\n",
        "history_multi_cnn = best_model.fit(train_data, y_train_1_hot, validation_data=(val_data, y_val_1_hot), batch_size=128, epochs=20, shuffle=True, callbacks=[Metrics(valid_data=(val_data, y_val_1_hot)), early_stopping])"
      ]
    },
    {
      "cell_type": "code",
      "execution_count": null,
      "metadata": {
        "id": "cU92cCfRj1GB",
        "outputId": "615553b2-63f1-46e7-a1f4-aa660f14c722"
      },
      "outputs": [
        {
          "name": "stdout",
          "output_type": "stream",
          "text": [
            "Optimal number of filters: 192\n",
            "Optimal dropout rate: 0.4\n",
            "Optimal learning rate: 0.001\n"
          ]
        }
      ],
      "source": [
        "best_hyperparameters = tuner.get_best_hyperparameters(num_trials=1)[0]\n",
        "\n",
        "print(f\"Optimal number of filters: {best_hyperparameters.get('filters')}\")\n",
        "print(f\"Optimal dropout rate: {best_hyperparameters.get('dropout_rate')}\")\n",
        "print(f\"Optimal learning rate: {best_hyperparameters.get('learning_rate')}\")"
      ]
    },
    {
      "cell_type": "code",
      "execution_count": null,
      "metadata": {
        "id": "ve_K_BtRj1GB",
        "outputId": "59867e7d-873b-48cc-a1ca-06149bfee423"
      },
      "outputs": [
        {
          "data": {
            "image/png": "[encoded data removed]",
            "text/plain": [
              "<Figure size 640x480 with 1 Axes>"
            ]
          },
          "metadata": {},
          "output_type": "display_data"
        },
        {
          "data": {
            "image/png": "[encoded data removed]",
            "text/plain": [
              "<Figure size 640x480 with 1 Axes>"
            ]
          },
          "metadata": {},
          "output_type": "display_data"
        }
      ],
      "source": [
        "\n",
        "# Plot accuracy and loss\n",
        "plt.plot(history_multi_cnn.history['categorical_accuracy'])\n",
        "plt.plot(history_multi_cnn.history['val_categorical_accuracy'])\n",
        "plt.title('model accuracy')\n",
        "plt.ylabel('accuracy')\n",
        "plt.xlabel('epoch')\n",
        "plt.legend(['train', 'dev'], loc='upper left')\n",
        "plt.show()\n",
        "\n",
        "plt.plot(history_multi_cnn.history['loss'])\n",
        "plt.plot(history_multi_cnn.history['val_loss'])\n",
        "plt.title('model loss')\n",
        "plt.ylabel('loss')\n",
        "plt.xlabel('epoch')\n",
        "plt.legend(['train', 'dev'], loc='upper right')\n",
        "plt.show()"
      ]
    },
    {
      "cell_type": "markdown",
      "metadata": {
        "id": "yS3mCKe_zMSY"
      },
      "source": [
        "## Best CNN model"
      ]
    },
    {
      "cell_type": "code",
      "execution_count": null,
      "metadata": {
        "id": "omTIvhwyzMSY",
        "outputId": "ee99f150-4910-44af-febe-0345f20ea730"
      },
      "outputs": [
        {
          "name": "stdout",
          "output_type": "stream",
          "text": [
            "\u001b[1m23/23\u001b[0m \u001b[32m━━━━━━━━━━━━━━━━━━━━\u001b[0m\u001b[37m\u001b[0m \u001b[1m1s\u001b[0m 21ms/step\n",
            "              precision    recall  f1-score   support\n",
            "\n",
            "    negative       0.58      0.66      0.62       221\n",
            "     neutral       0.63      0.57      0.60       273\n",
            "    positive       0.77      0.76      0.76       237\n",
            "\n",
            "    accuracy                           0.66       731\n",
            "   macro avg       0.66      0.66      0.66       731\n",
            "weighted avg       0.66      0.66      0.66       731\n",
            "\n"
          ]
        }
      ],
      "source": [
        "# Evaluate model on test data\n",
        "predictions = np.argmax(multi_cnn.predict(test_data), -1)\n",
        "\n",
        "# Create a dictionary to map class labels to class names\n",
        "label_to_name = {i: name for i, name in enumerate(pd.get_dummies(y_test).columns)}\n",
        "\n",
        "# Replace integer class labels in predictions with class names\n",
        "predictions_with_names = [label_to_name[label] for label in predictions]\n",
        "\n",
        "\n",
        "print(classification_report(y_test, predictions_with_names))"
      ]
    }
  ],
  "metadata": {
    "colab": {
      "provenance": []
    },
    "kernelspec": {
      "display_name": "Python 3",
      "language": "python",
      "name": "python3"
    },
    "language_info": {
      "codemirror_mode": {
        "name": "ipython",
        "version": 3
      },
      "file_extension": ".py",
      "mimetype": "text/x-python",
      "name": "python",
      "nbconvert_exporter": "python",
      "pygments_lexer": "ipython3",
      "version": "3.12.3"
    }
  },
  "nbformat": 4,
  "nbformat_minor": 0
}